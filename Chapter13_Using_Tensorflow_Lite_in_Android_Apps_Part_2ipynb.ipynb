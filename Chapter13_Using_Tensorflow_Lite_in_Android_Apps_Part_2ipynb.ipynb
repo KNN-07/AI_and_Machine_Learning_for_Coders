{
  "nbformat": 4,
  "nbformat_minor": 0,
  "metadata": {
    "colab": {
      "provenance": [],
      "gpuType": "T4",
      "authorship_tag": "ABX9TyP1bbMTz2VGLFyeb28Gr9/4",
      "include_colab_link": true
    },
    "kernelspec": {
      "name": "python3",
      "display_name": "Python 3"
    },
    "language_info": {
      "name": "python"
    },
    "accelerator": "GPU",
    "widgets": {
      "application/vnd.jupyter.widget-state+json": {
        "60752f2c760146139de6704f16b5b054": {
          "model_module": "@jupyter-widgets/controls",
          "model_name": "HBoxModel",
          "model_module_version": "1.5.0",
          "state": {
            "_dom_classes": [],
            "_model_module": "@jupyter-widgets/controls",
            "_model_module_version": "1.5.0",
            "_model_name": "HBoxModel",
            "_view_count": null,
            "_view_module": "@jupyter-widgets/controls",
            "_view_module_version": "1.5.0",
            "_view_name": "HBoxView",
            "box_style": "",
            "children": [
              "IPY_MODEL_97590a387d134ca4828167334da4d6fa",
              "IPY_MODEL_7a89a18c550e42f1b76d21a94a693161",
              "IPY_MODEL_9cb6b08fad104cceb4d6a22210367fdd"
            ],
            "layout": "IPY_MODEL_83cb261fea374c798bc505b9d424dd9c"
          }
        },
        "97590a387d134ca4828167334da4d6fa": {
          "model_module": "@jupyter-widgets/controls",
          "model_name": "HTMLModel",
          "model_module_version": "1.5.0",
          "state": {
            "_dom_classes": [],
            "_model_module": "@jupyter-widgets/controls",
            "_model_module_version": "1.5.0",
            "_model_name": "HTMLModel",
            "_view_count": null,
            "_view_module": "@jupyter-widgets/controls",
            "_view_module_version": "1.5.0",
            "_view_name": "HTMLView",
            "description": "",
            "description_tooltip": null,
            "layout": "IPY_MODEL_fa393e0242f14500b58ef98e85af9d13",
            "placeholder": "​",
            "style": "IPY_MODEL_8f004c2e88a14f2fb1d439892af01464",
            "value": "Dl Completed...: 100%"
          }
        },
        "7a89a18c550e42f1b76d21a94a693161": {
          "model_module": "@jupyter-widgets/controls",
          "model_name": "FloatProgressModel",
          "model_module_version": "1.5.0",
          "state": {
            "_dom_classes": [],
            "_model_module": "@jupyter-widgets/controls",
            "_model_module_version": "1.5.0",
            "_model_name": "FloatProgressModel",
            "_view_count": null,
            "_view_module": "@jupyter-widgets/controls",
            "_view_module_version": "1.5.0",
            "_view_name": "ProgressView",
            "bar_style": "success",
            "description": "",
            "description_tooltip": null,
            "layout": "IPY_MODEL_953579492d6f485891ef039b25320aca",
            "max": 1,
            "min": 0,
            "orientation": "horizontal",
            "style": "IPY_MODEL_4b2fc5fef2ae4ad9827dc1d828ad3897",
            "value": 1
          }
        },
        "9cb6b08fad104cceb4d6a22210367fdd": {
          "model_module": "@jupyter-widgets/controls",
          "model_name": "HTMLModel",
          "model_module_version": "1.5.0",
          "state": {
            "_dom_classes": [],
            "_model_module": "@jupyter-widgets/controls",
            "_model_module_version": "1.5.0",
            "_model_name": "HTMLModel",
            "_view_count": null,
            "_view_module": "@jupyter-widgets/controls",
            "_view_module_version": "1.5.0",
            "_view_name": "HTMLView",
            "description": "",
            "description_tooltip": null,
            "layout": "IPY_MODEL_19f2a8ef913d41deabd4998492469f2f",
            "placeholder": "​",
            "style": "IPY_MODEL_5dfe2d63a78a49409641e1d25623c1eb",
            "value": " 1/1 [00:10&lt;00:00, 10.99s/ url]"
          }
        },
        "83cb261fea374c798bc505b9d424dd9c": {
          "model_module": "@jupyter-widgets/base",
          "model_name": "LayoutModel",
          "model_module_version": "1.2.0",
          "state": {
            "_model_module": "@jupyter-widgets/base",
            "_model_module_version": "1.2.0",
            "_model_name": "LayoutModel",
            "_view_count": null,
            "_view_module": "@jupyter-widgets/base",
            "_view_module_version": "1.2.0",
            "_view_name": "LayoutView",
            "align_content": null,
            "align_items": null,
            "align_self": null,
            "border": null,
            "bottom": null,
            "display": null,
            "flex": null,
            "flex_flow": null,
            "grid_area": null,
            "grid_auto_columns": null,
            "grid_auto_flow": null,
            "grid_auto_rows": null,
            "grid_column": null,
            "grid_gap": null,
            "grid_row": null,
            "grid_template_areas": null,
            "grid_template_columns": null,
            "grid_template_rows": null,
            "height": null,
            "justify_content": null,
            "justify_items": null,
            "left": null,
            "margin": null,
            "max_height": null,
            "max_width": null,
            "min_height": null,
            "min_width": null,
            "object_fit": null,
            "object_position": null,
            "order": null,
            "overflow": null,
            "overflow_x": null,
            "overflow_y": null,
            "padding": null,
            "right": null,
            "top": null,
            "visibility": null,
            "width": null
          }
        },
        "fa393e0242f14500b58ef98e85af9d13": {
          "model_module": "@jupyter-widgets/base",
          "model_name": "LayoutModel",
          "model_module_version": "1.2.0",
          "state": {
            "_model_module": "@jupyter-widgets/base",
            "_model_module_version": "1.2.0",
            "_model_name": "LayoutModel",
            "_view_count": null,
            "_view_module": "@jupyter-widgets/base",
            "_view_module_version": "1.2.0",
            "_view_name": "LayoutView",
            "align_content": null,
            "align_items": null,
            "align_self": null,
            "border": null,
            "bottom": null,
            "display": null,
            "flex": null,
            "flex_flow": null,
            "grid_area": null,
            "grid_auto_columns": null,
            "grid_auto_flow": null,
            "grid_auto_rows": null,
            "grid_column": null,
            "grid_gap": null,
            "grid_row": null,
            "grid_template_areas": null,
            "grid_template_columns": null,
            "grid_template_rows": null,
            "height": null,
            "justify_content": null,
            "justify_items": null,
            "left": null,
            "margin": null,
            "max_height": null,
            "max_width": null,
            "min_height": null,
            "min_width": null,
            "object_fit": null,
            "object_position": null,
            "order": null,
            "overflow": null,
            "overflow_x": null,
            "overflow_y": null,
            "padding": null,
            "right": null,
            "top": null,
            "visibility": null,
            "width": null
          }
        },
        "8f004c2e88a14f2fb1d439892af01464": {
          "model_module": "@jupyter-widgets/controls",
          "model_name": "DescriptionStyleModel",
          "model_module_version": "1.5.0",
          "state": {
            "_model_module": "@jupyter-widgets/controls",
            "_model_module_version": "1.5.0",
            "_model_name": "DescriptionStyleModel",
            "_view_count": null,
            "_view_module": "@jupyter-widgets/base",
            "_view_module_version": "1.2.0",
            "_view_name": "StyleView",
            "description_width": ""
          }
        },
        "953579492d6f485891ef039b25320aca": {
          "model_module": "@jupyter-widgets/base",
          "model_name": "LayoutModel",
          "model_module_version": "1.2.0",
          "state": {
            "_model_module": "@jupyter-widgets/base",
            "_model_module_version": "1.2.0",
            "_model_name": "LayoutModel",
            "_view_count": null,
            "_view_module": "@jupyter-widgets/base",
            "_view_module_version": "1.2.0",
            "_view_name": "LayoutView",
            "align_content": null,
            "align_items": null,
            "align_self": null,
            "border": null,
            "bottom": null,
            "display": null,
            "flex": null,
            "flex_flow": null,
            "grid_area": null,
            "grid_auto_columns": null,
            "grid_auto_flow": null,
            "grid_auto_rows": null,
            "grid_column": null,
            "grid_gap": null,
            "grid_row": null,
            "grid_template_areas": null,
            "grid_template_columns": null,
            "grid_template_rows": null,
            "height": null,
            "justify_content": null,
            "justify_items": null,
            "left": null,
            "margin": null,
            "max_height": null,
            "max_width": null,
            "min_height": null,
            "min_width": null,
            "object_fit": null,
            "object_position": null,
            "order": null,
            "overflow": null,
            "overflow_x": null,
            "overflow_y": null,
            "padding": null,
            "right": null,
            "top": null,
            "visibility": null,
            "width": "20px"
          }
        },
        "4b2fc5fef2ae4ad9827dc1d828ad3897": {
          "model_module": "@jupyter-widgets/controls",
          "model_name": "ProgressStyleModel",
          "model_module_version": "1.5.0",
          "state": {
            "_model_module": "@jupyter-widgets/controls",
            "_model_module_version": "1.5.0",
            "_model_name": "ProgressStyleModel",
            "_view_count": null,
            "_view_module": "@jupyter-widgets/base",
            "_view_module_version": "1.2.0",
            "_view_name": "StyleView",
            "bar_color": null,
            "description_width": ""
          }
        },
        "19f2a8ef913d41deabd4998492469f2f": {
          "model_module": "@jupyter-widgets/base",
          "model_name": "LayoutModel",
          "model_module_version": "1.2.0",
          "state": {
            "_model_module": "@jupyter-widgets/base",
            "_model_module_version": "1.2.0",
            "_model_name": "LayoutModel",
            "_view_count": null,
            "_view_module": "@jupyter-widgets/base",
            "_view_module_version": "1.2.0",
            "_view_name": "LayoutView",
            "align_content": null,
            "align_items": null,
            "align_self": null,
            "border": null,
            "bottom": null,
            "display": null,
            "flex": null,
            "flex_flow": null,
            "grid_area": null,
            "grid_auto_columns": null,
            "grid_auto_flow": null,
            "grid_auto_rows": null,
            "grid_column": null,
            "grid_gap": null,
            "grid_row": null,
            "grid_template_areas": null,
            "grid_template_columns": null,
            "grid_template_rows": null,
            "height": null,
            "justify_content": null,
            "justify_items": null,
            "left": null,
            "margin": null,
            "max_height": null,
            "max_width": null,
            "min_height": null,
            "min_width": null,
            "object_fit": null,
            "object_position": null,
            "order": null,
            "overflow": null,
            "overflow_x": null,
            "overflow_y": null,
            "padding": null,
            "right": null,
            "top": null,
            "visibility": null,
            "width": null
          }
        },
        "5dfe2d63a78a49409641e1d25623c1eb": {
          "model_module": "@jupyter-widgets/controls",
          "model_name": "DescriptionStyleModel",
          "model_module_version": "1.5.0",
          "state": {
            "_model_module": "@jupyter-widgets/controls",
            "_model_module_version": "1.5.0",
            "_model_name": "DescriptionStyleModel",
            "_view_count": null,
            "_view_module": "@jupyter-widgets/base",
            "_view_module_version": "1.2.0",
            "_view_name": "StyleView",
            "description_width": ""
          }
        },
        "315a2f4605184075944e63e6acc5ba74": {
          "model_module": "@jupyter-widgets/controls",
          "model_name": "HBoxModel",
          "model_module_version": "1.5.0",
          "state": {
            "_dom_classes": [],
            "_model_module": "@jupyter-widgets/controls",
            "_model_module_version": "1.5.0",
            "_model_name": "HBoxModel",
            "_view_count": null,
            "_view_module": "@jupyter-widgets/controls",
            "_view_module_version": "1.5.0",
            "_view_name": "HBoxView",
            "box_style": "",
            "children": [
              "IPY_MODEL_8ab0d1ec06dd4473938cb175c6b21fcd",
              "IPY_MODEL_77d977974e4c4fba97f4e3ed0d007c18",
              "IPY_MODEL_968662b0bf41457490d30ddab2172c46"
            ],
            "layout": "IPY_MODEL_f322b31ad3bc4712a7bec16f9c6d3d74"
          }
        },
        "8ab0d1ec06dd4473938cb175c6b21fcd": {
          "model_module": "@jupyter-widgets/controls",
          "model_name": "HTMLModel",
          "model_module_version": "1.5.0",
          "state": {
            "_dom_classes": [],
            "_model_module": "@jupyter-widgets/controls",
            "_model_module_version": "1.5.0",
            "_model_name": "HTMLModel",
            "_view_count": null,
            "_view_module": "@jupyter-widgets/controls",
            "_view_module_version": "1.5.0",
            "_view_name": "HTMLView",
            "description": "",
            "description_tooltip": null,
            "layout": "IPY_MODEL_77eca2541a5540538d055d0f97d289f7",
            "placeholder": "​",
            "style": "IPY_MODEL_3ca9c38cb3764c88a1a93aa43a914af1",
            "value": "Dl Size...: 100%"
          }
        },
        "77d977974e4c4fba97f4e3ed0d007c18": {
          "model_module": "@jupyter-widgets/controls",
          "model_name": "FloatProgressModel",
          "model_module_version": "1.5.0",
          "state": {
            "_dom_classes": [],
            "_model_module": "@jupyter-widgets/controls",
            "_model_module_version": "1.5.0",
            "_model_name": "FloatProgressModel",
            "_view_count": null,
            "_view_module": "@jupyter-widgets/controls",
            "_view_module_version": "1.5.0",
            "_view_name": "ProgressView",
            "bar_style": "success",
            "description": "",
            "description_tooltip": null,
            "layout": "IPY_MODEL_806f10dd9c9e46979ce17052b50543db",
            "max": 1,
            "min": 0,
            "orientation": "horizontal",
            "style": "IPY_MODEL_bb065a784300463f9530ec02de48ff15",
            "value": 1
          }
        },
        "968662b0bf41457490d30ddab2172c46": {
          "model_module": "@jupyter-widgets/controls",
          "model_name": "HTMLModel",
          "model_module_version": "1.5.0",
          "state": {
            "_dom_classes": [],
            "_model_module": "@jupyter-widgets/controls",
            "_model_module_version": "1.5.0",
            "_model_name": "HTMLModel",
            "_view_count": null,
            "_view_module": "@jupyter-widgets/controls",
            "_view_module_version": "1.5.0",
            "_view_name": "HTMLView",
            "description": "",
            "description_tooltip": null,
            "layout": "IPY_MODEL_bdd0ccf7da664988b62cb87d1dbe4950",
            "placeholder": "​",
            "style": "IPY_MODEL_48ae19b9f58f4a77bd7f9791760f5226",
            "value": " 786/786 [00:10&lt;00:00, 81.44 MiB/s]"
          }
        },
        "f322b31ad3bc4712a7bec16f9c6d3d74": {
          "model_module": "@jupyter-widgets/base",
          "model_name": "LayoutModel",
          "model_module_version": "1.2.0",
          "state": {
            "_model_module": "@jupyter-widgets/base",
            "_model_module_version": "1.2.0",
            "_model_name": "LayoutModel",
            "_view_count": null,
            "_view_module": "@jupyter-widgets/base",
            "_view_module_version": "1.2.0",
            "_view_name": "LayoutView",
            "align_content": null,
            "align_items": null,
            "align_self": null,
            "border": null,
            "bottom": null,
            "display": null,
            "flex": null,
            "flex_flow": null,
            "grid_area": null,
            "grid_auto_columns": null,
            "grid_auto_flow": null,
            "grid_auto_rows": null,
            "grid_column": null,
            "grid_gap": null,
            "grid_row": null,
            "grid_template_areas": null,
            "grid_template_columns": null,
            "grid_template_rows": null,
            "height": null,
            "justify_content": null,
            "justify_items": null,
            "left": null,
            "margin": null,
            "max_height": null,
            "max_width": null,
            "min_height": null,
            "min_width": null,
            "object_fit": null,
            "object_position": null,
            "order": null,
            "overflow": null,
            "overflow_x": null,
            "overflow_y": null,
            "padding": null,
            "right": null,
            "top": null,
            "visibility": null,
            "width": null
          }
        },
        "77eca2541a5540538d055d0f97d289f7": {
          "model_module": "@jupyter-widgets/base",
          "model_name": "LayoutModel",
          "model_module_version": "1.2.0",
          "state": {
            "_model_module": "@jupyter-widgets/base",
            "_model_module_version": "1.2.0",
            "_model_name": "LayoutModel",
            "_view_count": null,
            "_view_module": "@jupyter-widgets/base",
            "_view_module_version": "1.2.0",
            "_view_name": "LayoutView",
            "align_content": null,
            "align_items": null,
            "align_self": null,
            "border": null,
            "bottom": null,
            "display": null,
            "flex": null,
            "flex_flow": null,
            "grid_area": null,
            "grid_auto_columns": null,
            "grid_auto_flow": null,
            "grid_auto_rows": null,
            "grid_column": null,
            "grid_gap": null,
            "grid_row": null,
            "grid_template_areas": null,
            "grid_template_columns": null,
            "grid_template_rows": null,
            "height": null,
            "justify_content": null,
            "justify_items": null,
            "left": null,
            "margin": null,
            "max_height": null,
            "max_width": null,
            "min_height": null,
            "min_width": null,
            "object_fit": null,
            "object_position": null,
            "order": null,
            "overflow": null,
            "overflow_x": null,
            "overflow_y": null,
            "padding": null,
            "right": null,
            "top": null,
            "visibility": null,
            "width": null
          }
        },
        "3ca9c38cb3764c88a1a93aa43a914af1": {
          "model_module": "@jupyter-widgets/controls",
          "model_name": "DescriptionStyleModel",
          "model_module_version": "1.5.0",
          "state": {
            "_model_module": "@jupyter-widgets/controls",
            "_model_module_version": "1.5.0",
            "_model_name": "DescriptionStyleModel",
            "_view_count": null,
            "_view_module": "@jupyter-widgets/base",
            "_view_module_version": "1.2.0",
            "_view_name": "StyleView",
            "description_width": ""
          }
        },
        "806f10dd9c9e46979ce17052b50543db": {
          "model_module": "@jupyter-widgets/base",
          "model_name": "LayoutModel",
          "model_module_version": "1.2.0",
          "state": {
            "_model_module": "@jupyter-widgets/base",
            "_model_module_version": "1.2.0",
            "_model_name": "LayoutModel",
            "_view_count": null,
            "_view_module": "@jupyter-widgets/base",
            "_view_module_version": "1.2.0",
            "_view_name": "LayoutView",
            "align_content": null,
            "align_items": null,
            "align_self": null,
            "border": null,
            "bottom": null,
            "display": null,
            "flex": null,
            "flex_flow": null,
            "grid_area": null,
            "grid_auto_columns": null,
            "grid_auto_flow": null,
            "grid_auto_rows": null,
            "grid_column": null,
            "grid_gap": null,
            "grid_row": null,
            "grid_template_areas": null,
            "grid_template_columns": null,
            "grid_template_rows": null,
            "height": null,
            "justify_content": null,
            "justify_items": null,
            "left": null,
            "margin": null,
            "max_height": null,
            "max_width": null,
            "min_height": null,
            "min_width": null,
            "object_fit": null,
            "object_position": null,
            "order": null,
            "overflow": null,
            "overflow_x": null,
            "overflow_y": null,
            "padding": null,
            "right": null,
            "top": null,
            "visibility": null,
            "width": "20px"
          }
        },
        "bb065a784300463f9530ec02de48ff15": {
          "model_module": "@jupyter-widgets/controls",
          "model_name": "ProgressStyleModel",
          "model_module_version": "1.5.0",
          "state": {
            "_model_module": "@jupyter-widgets/controls",
            "_model_module_version": "1.5.0",
            "_model_name": "ProgressStyleModel",
            "_view_count": null,
            "_view_module": "@jupyter-widgets/base",
            "_view_module_version": "1.2.0",
            "_view_name": "StyleView",
            "bar_color": null,
            "description_width": ""
          }
        },
        "bdd0ccf7da664988b62cb87d1dbe4950": {
          "model_module": "@jupyter-widgets/base",
          "model_name": "LayoutModel",
          "model_module_version": "1.2.0",
          "state": {
            "_model_module": "@jupyter-widgets/base",
            "_model_module_version": "1.2.0",
            "_model_name": "LayoutModel",
            "_view_count": null,
            "_view_module": "@jupyter-widgets/base",
            "_view_module_version": "1.2.0",
            "_view_name": "LayoutView",
            "align_content": null,
            "align_items": null,
            "align_self": null,
            "border": null,
            "bottom": null,
            "display": null,
            "flex": null,
            "flex_flow": null,
            "grid_area": null,
            "grid_auto_columns": null,
            "grid_auto_flow": null,
            "grid_auto_rows": null,
            "grid_column": null,
            "grid_gap": null,
            "grid_row": null,
            "grid_template_areas": null,
            "grid_template_columns": null,
            "grid_template_rows": null,
            "height": null,
            "justify_content": null,
            "justify_items": null,
            "left": null,
            "margin": null,
            "max_height": null,
            "max_width": null,
            "min_height": null,
            "min_width": null,
            "object_fit": null,
            "object_position": null,
            "order": null,
            "overflow": null,
            "overflow_x": null,
            "overflow_y": null,
            "padding": null,
            "right": null,
            "top": null,
            "visibility": null,
            "width": null
          }
        },
        "48ae19b9f58f4a77bd7f9791760f5226": {
          "model_module": "@jupyter-widgets/controls",
          "model_name": "DescriptionStyleModel",
          "model_module_version": "1.5.0",
          "state": {
            "_model_module": "@jupyter-widgets/controls",
            "_model_module_version": "1.5.0",
            "_model_name": "DescriptionStyleModel",
            "_view_count": null,
            "_view_module": "@jupyter-widgets/base",
            "_view_module_version": "1.2.0",
            "_view_name": "StyleView",
            "description_width": ""
          }
        },
        "39408df199b848ae88abfa4c16332c4a": {
          "model_module": "@jupyter-widgets/controls",
          "model_name": "HBoxModel",
          "model_module_version": "1.5.0",
          "state": {
            "_dom_classes": [],
            "_model_module": "@jupyter-widgets/controls",
            "_model_module_version": "1.5.0",
            "_model_name": "HBoxModel",
            "_view_count": null,
            "_view_module": "@jupyter-widgets/controls",
            "_view_module_version": "1.5.0",
            "_view_name": "HBoxView",
            "box_style": "",
            "children": [
              "IPY_MODEL_47b070f24ae0465fa5b1ade101bcaf73",
              "IPY_MODEL_242fde9a0eb1407f956bbc5ff4da104d",
              "IPY_MODEL_a572dbaf93164600ae326db654329609"
            ],
            "layout": "IPY_MODEL_8223928e319d4ef0a45308c222720728"
          }
        },
        "47b070f24ae0465fa5b1ade101bcaf73": {
          "model_module": "@jupyter-widgets/controls",
          "model_name": "HTMLModel",
          "model_module_version": "1.5.0",
          "state": {
            "_dom_classes": [],
            "_model_module": "@jupyter-widgets/controls",
            "_model_module_version": "1.5.0",
            "_model_name": "HTMLModel",
            "_view_count": null,
            "_view_module": "@jupyter-widgets/controls",
            "_view_module_version": "1.5.0",
            "_view_name": "HTMLView",
            "description": "",
            "description_tooltip": null,
            "layout": "IPY_MODEL_b84dca4a667f421998aeb79e895c113b",
            "placeholder": "​",
            "style": "IPY_MODEL_8292afab8b7e424b98e34fe828472bc7",
            "value": "Generating splits...: 100%"
          }
        },
        "242fde9a0eb1407f956bbc5ff4da104d": {
          "model_module": "@jupyter-widgets/controls",
          "model_name": "FloatProgressModel",
          "model_module_version": "1.5.0",
          "state": {
            "_dom_classes": [],
            "_model_module": "@jupyter-widgets/controls",
            "_model_module_version": "1.5.0",
            "_model_name": "FloatProgressModel",
            "_view_count": null,
            "_view_module": "@jupyter-widgets/controls",
            "_view_module_version": "1.5.0",
            "_view_name": "ProgressView",
            "bar_style": "",
            "description": "",
            "description_tooltip": null,
            "layout": "IPY_MODEL_6e4fca2557874cbdb2307c37683d158c",
            "max": 1,
            "min": 0,
            "orientation": "horizontal",
            "style": "IPY_MODEL_4b8f34f09d3b4bcd89fc422fa16d7a94",
            "value": 1
          }
        },
        "a572dbaf93164600ae326db654329609": {
          "model_module": "@jupyter-widgets/controls",
          "model_name": "HTMLModel",
          "model_module_version": "1.5.0",
          "state": {
            "_dom_classes": [],
            "_model_module": "@jupyter-widgets/controls",
            "_model_module_version": "1.5.0",
            "_model_name": "HTMLModel",
            "_view_count": null,
            "_view_module": "@jupyter-widgets/controls",
            "_view_module_version": "1.5.0",
            "_view_name": "HTMLView",
            "description": "",
            "description_tooltip": null,
            "layout": "IPY_MODEL_4fde98bc66b44e42ae9006ecc8bface2",
            "placeholder": "​",
            "style": "IPY_MODEL_374cc6017a3a4e5b80afd647bf61beb7",
            "value": " 1/1 [01:25&lt;00:00, 85.30s/ splits]"
          }
        },
        "8223928e319d4ef0a45308c222720728": {
          "model_module": "@jupyter-widgets/base",
          "model_name": "LayoutModel",
          "model_module_version": "1.2.0",
          "state": {
            "_model_module": "@jupyter-widgets/base",
            "_model_module_version": "1.2.0",
            "_model_name": "LayoutModel",
            "_view_count": null,
            "_view_module": "@jupyter-widgets/base",
            "_view_module_version": "1.2.0",
            "_view_name": "LayoutView",
            "align_content": null,
            "align_items": null,
            "align_self": null,
            "border": null,
            "bottom": null,
            "display": null,
            "flex": null,
            "flex_flow": null,
            "grid_area": null,
            "grid_auto_columns": null,
            "grid_auto_flow": null,
            "grid_auto_rows": null,
            "grid_column": null,
            "grid_gap": null,
            "grid_row": null,
            "grid_template_areas": null,
            "grid_template_columns": null,
            "grid_template_rows": null,
            "height": null,
            "justify_content": null,
            "justify_items": null,
            "left": null,
            "margin": null,
            "max_height": null,
            "max_width": null,
            "min_height": null,
            "min_width": null,
            "object_fit": null,
            "object_position": null,
            "order": null,
            "overflow": null,
            "overflow_x": null,
            "overflow_y": null,
            "padding": null,
            "right": null,
            "top": null,
            "visibility": "hidden",
            "width": null
          }
        },
        "b84dca4a667f421998aeb79e895c113b": {
          "model_module": "@jupyter-widgets/base",
          "model_name": "LayoutModel",
          "model_module_version": "1.2.0",
          "state": {
            "_model_module": "@jupyter-widgets/base",
            "_model_module_version": "1.2.0",
            "_model_name": "LayoutModel",
            "_view_count": null,
            "_view_module": "@jupyter-widgets/base",
            "_view_module_version": "1.2.0",
            "_view_name": "LayoutView",
            "align_content": null,
            "align_items": null,
            "align_self": null,
            "border": null,
            "bottom": null,
            "display": null,
            "flex": null,
            "flex_flow": null,
            "grid_area": null,
            "grid_auto_columns": null,
            "grid_auto_flow": null,
            "grid_auto_rows": null,
            "grid_column": null,
            "grid_gap": null,
            "grid_row": null,
            "grid_template_areas": null,
            "grid_template_columns": null,
            "grid_template_rows": null,
            "height": null,
            "justify_content": null,
            "justify_items": null,
            "left": null,
            "margin": null,
            "max_height": null,
            "max_width": null,
            "min_height": null,
            "min_width": null,
            "object_fit": null,
            "object_position": null,
            "order": null,
            "overflow": null,
            "overflow_x": null,
            "overflow_y": null,
            "padding": null,
            "right": null,
            "top": null,
            "visibility": null,
            "width": null
          }
        },
        "8292afab8b7e424b98e34fe828472bc7": {
          "model_module": "@jupyter-widgets/controls",
          "model_name": "DescriptionStyleModel",
          "model_module_version": "1.5.0",
          "state": {
            "_model_module": "@jupyter-widgets/controls",
            "_model_module_version": "1.5.0",
            "_model_name": "DescriptionStyleModel",
            "_view_count": null,
            "_view_module": "@jupyter-widgets/base",
            "_view_module_version": "1.2.0",
            "_view_name": "StyleView",
            "description_width": ""
          }
        },
        "6e4fca2557874cbdb2307c37683d158c": {
          "model_module": "@jupyter-widgets/base",
          "model_name": "LayoutModel",
          "model_module_version": "1.2.0",
          "state": {
            "_model_module": "@jupyter-widgets/base",
            "_model_module_version": "1.2.0",
            "_model_name": "LayoutModel",
            "_view_count": null,
            "_view_module": "@jupyter-widgets/base",
            "_view_module_version": "1.2.0",
            "_view_name": "LayoutView",
            "align_content": null,
            "align_items": null,
            "align_self": null,
            "border": null,
            "bottom": null,
            "display": null,
            "flex": null,
            "flex_flow": null,
            "grid_area": null,
            "grid_auto_columns": null,
            "grid_auto_flow": null,
            "grid_auto_rows": null,
            "grid_column": null,
            "grid_gap": null,
            "grid_row": null,
            "grid_template_areas": null,
            "grid_template_columns": null,
            "grid_template_rows": null,
            "height": null,
            "justify_content": null,
            "justify_items": null,
            "left": null,
            "margin": null,
            "max_height": null,
            "max_width": null,
            "min_height": null,
            "min_width": null,
            "object_fit": null,
            "object_position": null,
            "order": null,
            "overflow": null,
            "overflow_x": null,
            "overflow_y": null,
            "padding": null,
            "right": null,
            "top": null,
            "visibility": null,
            "width": null
          }
        },
        "4b8f34f09d3b4bcd89fc422fa16d7a94": {
          "model_module": "@jupyter-widgets/controls",
          "model_name": "ProgressStyleModel",
          "model_module_version": "1.5.0",
          "state": {
            "_model_module": "@jupyter-widgets/controls",
            "_model_module_version": "1.5.0",
            "_model_name": "ProgressStyleModel",
            "_view_count": null,
            "_view_module": "@jupyter-widgets/base",
            "_view_module_version": "1.2.0",
            "_view_name": "StyleView",
            "bar_color": null,
            "description_width": ""
          }
        },
        "4fde98bc66b44e42ae9006ecc8bface2": {
          "model_module": "@jupyter-widgets/base",
          "model_name": "LayoutModel",
          "model_module_version": "1.2.0",
          "state": {
            "_model_module": "@jupyter-widgets/base",
            "_model_module_version": "1.2.0",
            "_model_name": "LayoutModel",
            "_view_count": null,
            "_view_module": "@jupyter-widgets/base",
            "_view_module_version": "1.2.0",
            "_view_name": "LayoutView",
            "align_content": null,
            "align_items": null,
            "align_self": null,
            "border": null,
            "bottom": null,
            "display": null,
            "flex": null,
            "flex_flow": null,
            "grid_area": null,
            "grid_auto_columns": null,
            "grid_auto_flow": null,
            "grid_auto_rows": null,
            "grid_column": null,
            "grid_gap": null,
            "grid_row": null,
            "grid_template_areas": null,
            "grid_template_columns": null,
            "grid_template_rows": null,
            "height": null,
            "justify_content": null,
            "justify_items": null,
            "left": null,
            "margin": null,
            "max_height": null,
            "max_width": null,
            "min_height": null,
            "min_width": null,
            "object_fit": null,
            "object_position": null,
            "order": null,
            "overflow": null,
            "overflow_x": null,
            "overflow_y": null,
            "padding": null,
            "right": null,
            "top": null,
            "visibility": null,
            "width": null
          }
        },
        "374cc6017a3a4e5b80afd647bf61beb7": {
          "model_module": "@jupyter-widgets/controls",
          "model_name": "DescriptionStyleModel",
          "model_module_version": "1.5.0",
          "state": {
            "_model_module": "@jupyter-widgets/controls",
            "_model_module_version": "1.5.0",
            "_model_name": "DescriptionStyleModel",
            "_view_count": null,
            "_view_module": "@jupyter-widgets/base",
            "_view_module_version": "1.2.0",
            "_view_name": "StyleView",
            "description_width": ""
          }
        },
        "218346ff202841499557dcf2712ac1ec": {
          "model_module": "@jupyter-widgets/controls",
          "model_name": "HBoxModel",
          "model_module_version": "1.5.0",
          "state": {
            "_dom_classes": [],
            "_model_module": "@jupyter-widgets/controls",
            "_model_module_version": "1.5.0",
            "_model_name": "HBoxModel",
            "_view_count": null,
            "_view_module": "@jupyter-widgets/controls",
            "_view_module_version": "1.5.0",
            "_view_name": "HBoxView",
            "box_style": "",
            "children": [
              "IPY_MODEL_6fe215c3dba84c5f98674ea6010d6d29",
              "IPY_MODEL_39dde4b607cc45cb8d57bbc8d6ffb909",
              "IPY_MODEL_e77a777c2aae4b16aa4ae1c9d7d3e5f5"
            ],
            "layout": "IPY_MODEL_6c05e842e0054ea2b0cc5a576b2ac6d5"
          }
        },
        "6fe215c3dba84c5f98674ea6010d6d29": {
          "model_module": "@jupyter-widgets/controls",
          "model_name": "HTMLModel",
          "model_module_version": "1.5.0",
          "state": {
            "_dom_classes": [],
            "_model_module": "@jupyter-widgets/controls",
            "_model_module_version": "1.5.0",
            "_model_name": "HTMLModel",
            "_view_count": null,
            "_view_module": "@jupyter-widgets/controls",
            "_view_module_version": "1.5.0",
            "_view_name": "HTMLView",
            "description": "",
            "description_tooltip": null,
            "layout": "IPY_MODEL_5922e1a290ec40b09631e97ac7f2d3ad",
            "placeholder": "​",
            "style": "IPY_MODEL_10168176d8f145da807afe97dc49f983",
            "value": "Generating train examples...: "
          }
        },
        "39dde4b607cc45cb8d57bbc8d6ffb909": {
          "model_module": "@jupyter-widgets/controls",
          "model_name": "FloatProgressModel",
          "model_module_version": "1.5.0",
          "state": {
            "_dom_classes": [],
            "_model_module": "@jupyter-widgets/controls",
            "_model_module_version": "1.5.0",
            "_model_name": "FloatProgressModel",
            "_view_count": null,
            "_view_module": "@jupyter-widgets/controls",
            "_view_module_version": "1.5.0",
            "_view_name": "ProgressView",
            "bar_style": "info",
            "description": "",
            "description_tooltip": null,
            "layout": "IPY_MODEL_b22c349b6a344b3ba94c68565eb409f8",
            "max": 1,
            "min": 0,
            "orientation": "horizontal",
            "style": "IPY_MODEL_7715a01301a64a47b3790a7af96fc966",
            "value": 1
          }
        },
        "e77a777c2aae4b16aa4ae1c9d7d3e5f5": {
          "model_module": "@jupyter-widgets/controls",
          "model_name": "HTMLModel",
          "model_module_version": "1.5.0",
          "state": {
            "_dom_classes": [],
            "_model_module": "@jupyter-widgets/controls",
            "_model_module_version": "1.5.0",
            "_model_name": "HTMLModel",
            "_view_count": null,
            "_view_module": "@jupyter-widgets/controls",
            "_view_module_version": "1.5.0",
            "_view_name": "HTMLView",
            "description": "",
            "description_tooltip": null,
            "layout": "IPY_MODEL_f06cf0bf65a14b2eaf26959db7058923",
            "placeholder": "​",
            "style": "IPY_MODEL_c6d8788ead904de4b25bb3b48c2138d9",
            "value": " 22971/? [01:18&lt;00:00, 230.28 examples/s]"
          }
        },
        "6c05e842e0054ea2b0cc5a576b2ac6d5": {
          "model_module": "@jupyter-widgets/base",
          "model_name": "LayoutModel",
          "model_module_version": "1.2.0",
          "state": {
            "_model_module": "@jupyter-widgets/base",
            "_model_module_version": "1.2.0",
            "_model_name": "LayoutModel",
            "_view_count": null,
            "_view_module": "@jupyter-widgets/base",
            "_view_module_version": "1.2.0",
            "_view_name": "LayoutView",
            "align_content": null,
            "align_items": null,
            "align_self": null,
            "border": null,
            "bottom": null,
            "display": null,
            "flex": null,
            "flex_flow": null,
            "grid_area": null,
            "grid_auto_columns": null,
            "grid_auto_flow": null,
            "grid_auto_rows": null,
            "grid_column": null,
            "grid_gap": null,
            "grid_row": null,
            "grid_template_areas": null,
            "grid_template_columns": null,
            "grid_template_rows": null,
            "height": null,
            "justify_content": null,
            "justify_items": null,
            "left": null,
            "margin": null,
            "max_height": null,
            "max_width": null,
            "min_height": null,
            "min_width": null,
            "object_fit": null,
            "object_position": null,
            "order": null,
            "overflow": null,
            "overflow_x": null,
            "overflow_y": null,
            "padding": null,
            "right": null,
            "top": null,
            "visibility": "hidden",
            "width": null
          }
        },
        "5922e1a290ec40b09631e97ac7f2d3ad": {
          "model_module": "@jupyter-widgets/base",
          "model_name": "LayoutModel",
          "model_module_version": "1.2.0",
          "state": {
            "_model_module": "@jupyter-widgets/base",
            "_model_module_version": "1.2.0",
            "_model_name": "LayoutModel",
            "_view_count": null,
            "_view_module": "@jupyter-widgets/base",
            "_view_module_version": "1.2.0",
            "_view_name": "LayoutView",
            "align_content": null,
            "align_items": null,
            "align_self": null,
            "border": null,
            "bottom": null,
            "display": null,
            "flex": null,
            "flex_flow": null,
            "grid_area": null,
            "grid_auto_columns": null,
            "grid_auto_flow": null,
            "grid_auto_rows": null,
            "grid_column": null,
            "grid_gap": null,
            "grid_row": null,
            "grid_template_areas": null,
            "grid_template_columns": null,
            "grid_template_rows": null,
            "height": null,
            "justify_content": null,
            "justify_items": null,
            "left": null,
            "margin": null,
            "max_height": null,
            "max_width": null,
            "min_height": null,
            "min_width": null,
            "object_fit": null,
            "object_position": null,
            "order": null,
            "overflow": null,
            "overflow_x": null,
            "overflow_y": null,
            "padding": null,
            "right": null,
            "top": null,
            "visibility": null,
            "width": null
          }
        },
        "10168176d8f145da807afe97dc49f983": {
          "model_module": "@jupyter-widgets/controls",
          "model_name": "DescriptionStyleModel",
          "model_module_version": "1.5.0",
          "state": {
            "_model_module": "@jupyter-widgets/controls",
            "_model_module_version": "1.5.0",
            "_model_name": "DescriptionStyleModel",
            "_view_count": null,
            "_view_module": "@jupyter-widgets/base",
            "_view_module_version": "1.2.0",
            "_view_name": "StyleView",
            "description_width": ""
          }
        },
        "b22c349b6a344b3ba94c68565eb409f8": {
          "model_module": "@jupyter-widgets/base",
          "model_name": "LayoutModel",
          "model_module_version": "1.2.0",
          "state": {
            "_model_module": "@jupyter-widgets/base",
            "_model_module_version": "1.2.0",
            "_model_name": "LayoutModel",
            "_view_count": null,
            "_view_module": "@jupyter-widgets/base",
            "_view_module_version": "1.2.0",
            "_view_name": "LayoutView",
            "align_content": null,
            "align_items": null,
            "align_self": null,
            "border": null,
            "bottom": null,
            "display": null,
            "flex": null,
            "flex_flow": null,
            "grid_area": null,
            "grid_auto_columns": null,
            "grid_auto_flow": null,
            "grid_auto_rows": null,
            "grid_column": null,
            "grid_gap": null,
            "grid_row": null,
            "grid_template_areas": null,
            "grid_template_columns": null,
            "grid_template_rows": null,
            "height": null,
            "justify_content": null,
            "justify_items": null,
            "left": null,
            "margin": null,
            "max_height": null,
            "max_width": null,
            "min_height": null,
            "min_width": null,
            "object_fit": null,
            "object_position": null,
            "order": null,
            "overflow": null,
            "overflow_x": null,
            "overflow_y": null,
            "padding": null,
            "right": null,
            "top": null,
            "visibility": null,
            "width": "20px"
          }
        },
        "7715a01301a64a47b3790a7af96fc966": {
          "model_module": "@jupyter-widgets/controls",
          "model_name": "ProgressStyleModel",
          "model_module_version": "1.5.0",
          "state": {
            "_model_module": "@jupyter-widgets/controls",
            "_model_module_version": "1.5.0",
            "_model_name": "ProgressStyleModel",
            "_view_count": null,
            "_view_module": "@jupyter-widgets/base",
            "_view_module_version": "1.2.0",
            "_view_name": "StyleView",
            "bar_color": null,
            "description_width": ""
          }
        },
        "f06cf0bf65a14b2eaf26959db7058923": {
          "model_module": "@jupyter-widgets/base",
          "model_name": "LayoutModel",
          "model_module_version": "1.2.0",
          "state": {
            "_model_module": "@jupyter-widgets/base",
            "_model_module_version": "1.2.0",
            "_model_name": "LayoutModel",
            "_view_count": null,
            "_view_module": "@jupyter-widgets/base",
            "_view_module_version": "1.2.0",
            "_view_name": "LayoutView",
            "align_content": null,
            "align_items": null,
            "align_self": null,
            "border": null,
            "bottom": null,
            "display": null,
            "flex": null,
            "flex_flow": null,
            "grid_area": null,
            "grid_auto_columns": null,
            "grid_auto_flow": null,
            "grid_auto_rows": null,
            "grid_column": null,
            "grid_gap": null,
            "grid_row": null,
            "grid_template_areas": null,
            "grid_template_columns": null,
            "grid_template_rows": null,
            "height": null,
            "justify_content": null,
            "justify_items": null,
            "left": null,
            "margin": null,
            "max_height": null,
            "max_width": null,
            "min_height": null,
            "min_width": null,
            "object_fit": null,
            "object_position": null,
            "order": null,
            "overflow": null,
            "overflow_x": null,
            "overflow_y": null,
            "padding": null,
            "right": null,
            "top": null,
            "visibility": null,
            "width": null
          }
        },
        "c6d8788ead904de4b25bb3b48c2138d9": {
          "model_module": "@jupyter-widgets/controls",
          "model_name": "DescriptionStyleModel",
          "model_module_version": "1.5.0",
          "state": {
            "_model_module": "@jupyter-widgets/controls",
            "_model_module_version": "1.5.0",
            "_model_name": "DescriptionStyleModel",
            "_view_count": null,
            "_view_module": "@jupyter-widgets/base",
            "_view_module_version": "1.2.0",
            "_view_name": "StyleView",
            "description_width": ""
          }
        },
        "b73855f019974aec824e287a747e0ca2": {
          "model_module": "@jupyter-widgets/controls",
          "model_name": "HBoxModel",
          "model_module_version": "1.5.0",
          "state": {
            "_dom_classes": [],
            "_model_module": "@jupyter-widgets/controls",
            "_model_module_version": "1.5.0",
            "_model_name": "HBoxModel",
            "_view_count": null,
            "_view_module": "@jupyter-widgets/controls",
            "_view_module_version": "1.5.0",
            "_view_name": "HBoxView",
            "box_style": "",
            "children": [
              "IPY_MODEL_68d52b214fb94c1f8fc22d966fee15fc",
              "IPY_MODEL_1da2ff44467c4879af1c0088d1247955",
              "IPY_MODEL_485820fb4b7d49539c722af71fb19230"
            ],
            "layout": "IPY_MODEL_9e2368aab46b4d22a1d9dac12c8179de"
          }
        },
        "68d52b214fb94c1f8fc22d966fee15fc": {
          "model_module": "@jupyter-widgets/controls",
          "model_name": "HTMLModel",
          "model_module_version": "1.5.0",
          "state": {
            "_dom_classes": [],
            "_model_module": "@jupyter-widgets/controls",
            "_model_module_version": "1.5.0",
            "_model_name": "HTMLModel",
            "_view_count": null,
            "_view_module": "@jupyter-widgets/controls",
            "_view_module_version": "1.5.0",
            "_view_name": "HTMLView",
            "description": "",
            "description_tooltip": null,
            "layout": "IPY_MODEL_69dc066bce234341bceac3d3d27a1967",
            "placeholder": "​",
            "style": "IPY_MODEL_6e456c138fad47e9974112abda268f80",
            "value": "Shuffling /root/tensorflow_datasets/cats_vs_dogs/incomplete.DMD8AC_4.0.1/cats_vs_dogs-train.tfrecord*...:  83%"
          }
        },
        "1da2ff44467c4879af1c0088d1247955": {
          "model_module": "@jupyter-widgets/controls",
          "model_name": "FloatProgressModel",
          "model_module_version": "1.5.0",
          "state": {
            "_dom_classes": [],
            "_model_module": "@jupyter-widgets/controls",
            "_model_module_version": "1.5.0",
            "_model_name": "FloatProgressModel",
            "_view_count": null,
            "_view_module": "@jupyter-widgets/controls",
            "_view_module_version": "1.5.0",
            "_view_name": "ProgressView",
            "bar_style": "",
            "description": "",
            "description_tooltip": null,
            "layout": "IPY_MODEL_2a7f473f70364003b4772fe214e650bb",
            "max": 23262,
            "min": 0,
            "orientation": "horizontal",
            "style": "IPY_MODEL_db4dae9e8ebf479aad1e335ab49126c5",
            "value": 23262
          }
        },
        "485820fb4b7d49539c722af71fb19230": {
          "model_module": "@jupyter-widgets/controls",
          "model_name": "HTMLModel",
          "model_module_version": "1.5.0",
          "state": {
            "_dom_classes": [],
            "_model_module": "@jupyter-widgets/controls",
            "_model_module_version": "1.5.0",
            "_model_name": "HTMLModel",
            "_view_count": null,
            "_view_module": "@jupyter-widgets/controls",
            "_view_module_version": "1.5.0",
            "_view_name": "HTMLView",
            "description": "",
            "description_tooltip": null,
            "layout": "IPY_MODEL_f8ae3a5eac6f4a2ea4515d374469d8b1",
            "placeholder": "​",
            "style": "IPY_MODEL_e6b7897761d34bbcbd6aa5e52e22883e",
            "value": " 19297/23262 [00:05&lt;00:01, 3302.45 examples/s]"
          }
        },
        "9e2368aab46b4d22a1d9dac12c8179de": {
          "model_module": "@jupyter-widgets/base",
          "model_name": "LayoutModel",
          "model_module_version": "1.2.0",
          "state": {
            "_model_module": "@jupyter-widgets/base",
            "_model_module_version": "1.2.0",
            "_model_name": "LayoutModel",
            "_view_count": null,
            "_view_module": "@jupyter-widgets/base",
            "_view_module_version": "1.2.0",
            "_view_name": "LayoutView",
            "align_content": null,
            "align_items": null,
            "align_self": null,
            "border": null,
            "bottom": null,
            "display": null,
            "flex": null,
            "flex_flow": null,
            "grid_area": null,
            "grid_auto_columns": null,
            "grid_auto_flow": null,
            "grid_auto_rows": null,
            "grid_column": null,
            "grid_gap": null,
            "grid_row": null,
            "grid_template_areas": null,
            "grid_template_columns": null,
            "grid_template_rows": null,
            "height": null,
            "justify_content": null,
            "justify_items": null,
            "left": null,
            "margin": null,
            "max_height": null,
            "max_width": null,
            "min_height": null,
            "min_width": null,
            "object_fit": null,
            "object_position": null,
            "order": null,
            "overflow": null,
            "overflow_x": null,
            "overflow_y": null,
            "padding": null,
            "right": null,
            "top": null,
            "visibility": "hidden",
            "width": null
          }
        },
        "69dc066bce234341bceac3d3d27a1967": {
          "model_module": "@jupyter-widgets/base",
          "model_name": "LayoutModel",
          "model_module_version": "1.2.0",
          "state": {
            "_model_module": "@jupyter-widgets/base",
            "_model_module_version": "1.2.0",
            "_model_name": "LayoutModel",
            "_view_count": null,
            "_view_module": "@jupyter-widgets/base",
            "_view_module_version": "1.2.0",
            "_view_name": "LayoutView",
            "align_content": null,
            "align_items": null,
            "align_self": null,
            "border": null,
            "bottom": null,
            "display": null,
            "flex": null,
            "flex_flow": null,
            "grid_area": null,
            "grid_auto_columns": null,
            "grid_auto_flow": null,
            "grid_auto_rows": null,
            "grid_column": null,
            "grid_gap": null,
            "grid_row": null,
            "grid_template_areas": null,
            "grid_template_columns": null,
            "grid_template_rows": null,
            "height": null,
            "justify_content": null,
            "justify_items": null,
            "left": null,
            "margin": null,
            "max_height": null,
            "max_width": null,
            "min_height": null,
            "min_width": null,
            "object_fit": null,
            "object_position": null,
            "order": null,
            "overflow": null,
            "overflow_x": null,
            "overflow_y": null,
            "padding": null,
            "right": null,
            "top": null,
            "visibility": null,
            "width": null
          }
        },
        "6e456c138fad47e9974112abda268f80": {
          "model_module": "@jupyter-widgets/controls",
          "model_name": "DescriptionStyleModel",
          "model_module_version": "1.5.0",
          "state": {
            "_model_module": "@jupyter-widgets/controls",
            "_model_module_version": "1.5.0",
            "_model_name": "DescriptionStyleModel",
            "_view_count": null,
            "_view_module": "@jupyter-widgets/base",
            "_view_module_version": "1.2.0",
            "_view_name": "StyleView",
            "description_width": ""
          }
        },
        "2a7f473f70364003b4772fe214e650bb": {
          "model_module": "@jupyter-widgets/base",
          "model_name": "LayoutModel",
          "model_module_version": "1.2.0",
          "state": {
            "_model_module": "@jupyter-widgets/base",
            "_model_module_version": "1.2.0",
            "_model_name": "LayoutModel",
            "_view_count": null,
            "_view_module": "@jupyter-widgets/base",
            "_view_module_version": "1.2.0",
            "_view_name": "LayoutView",
            "align_content": null,
            "align_items": null,
            "align_self": null,
            "border": null,
            "bottom": null,
            "display": null,
            "flex": null,
            "flex_flow": null,
            "grid_area": null,
            "grid_auto_columns": null,
            "grid_auto_flow": null,
            "grid_auto_rows": null,
            "grid_column": null,
            "grid_gap": null,
            "grid_row": null,
            "grid_template_areas": null,
            "grid_template_columns": null,
            "grid_template_rows": null,
            "height": null,
            "justify_content": null,
            "justify_items": null,
            "left": null,
            "margin": null,
            "max_height": null,
            "max_width": null,
            "min_height": null,
            "min_width": null,
            "object_fit": null,
            "object_position": null,
            "order": null,
            "overflow": null,
            "overflow_x": null,
            "overflow_y": null,
            "padding": null,
            "right": null,
            "top": null,
            "visibility": null,
            "width": null
          }
        },
        "db4dae9e8ebf479aad1e335ab49126c5": {
          "model_module": "@jupyter-widgets/controls",
          "model_name": "ProgressStyleModel",
          "model_module_version": "1.5.0",
          "state": {
            "_model_module": "@jupyter-widgets/controls",
            "_model_module_version": "1.5.0",
            "_model_name": "ProgressStyleModel",
            "_view_count": null,
            "_view_module": "@jupyter-widgets/base",
            "_view_module_version": "1.2.0",
            "_view_name": "StyleView",
            "bar_color": null,
            "description_width": ""
          }
        },
        "f8ae3a5eac6f4a2ea4515d374469d8b1": {
          "model_module": "@jupyter-widgets/base",
          "model_name": "LayoutModel",
          "model_module_version": "1.2.0",
          "state": {
            "_model_module": "@jupyter-widgets/base",
            "_model_module_version": "1.2.0",
            "_model_name": "LayoutModel",
            "_view_count": null,
            "_view_module": "@jupyter-widgets/base",
            "_view_module_version": "1.2.0",
            "_view_name": "LayoutView",
            "align_content": null,
            "align_items": null,
            "align_self": null,
            "border": null,
            "bottom": null,
            "display": null,
            "flex": null,
            "flex_flow": null,
            "grid_area": null,
            "grid_auto_columns": null,
            "grid_auto_flow": null,
            "grid_auto_rows": null,
            "grid_column": null,
            "grid_gap": null,
            "grid_row": null,
            "grid_template_areas": null,
            "grid_template_columns": null,
            "grid_template_rows": null,
            "height": null,
            "justify_content": null,
            "justify_items": null,
            "left": null,
            "margin": null,
            "max_height": null,
            "max_width": null,
            "min_height": null,
            "min_width": null,
            "object_fit": null,
            "object_position": null,
            "order": null,
            "overflow": null,
            "overflow_x": null,
            "overflow_y": null,
            "padding": null,
            "right": null,
            "top": null,
            "visibility": null,
            "width": null
          }
        },
        "e6b7897761d34bbcbd6aa5e52e22883e": {
          "model_module": "@jupyter-widgets/controls",
          "model_name": "DescriptionStyleModel",
          "model_module_version": "1.5.0",
          "state": {
            "_model_module": "@jupyter-widgets/controls",
            "_model_module_version": "1.5.0",
            "_model_name": "DescriptionStyleModel",
            "_view_count": null,
            "_view_module": "@jupyter-widgets/base",
            "_view_module_version": "1.2.0",
            "_view_name": "StyleView",
            "description_width": ""
          }
        }
      }
    }
  },
  "cells": [
    {
      "cell_type": "markdown",
      "metadata": {
        "id": "view-in-github",
        "colab_type": "text"
      },
      "source": [
        "<a href=\"https://colab.research.google.com/github/Tkag0001/AI_and_Machine_Learning_for_Coders/blob/main/Chapter13_Using_Tensorflow_Lite_in_Android_Apps_Part_2ipynb.ipynb\" target=\"_parent\"><img src=\"https://colab.research.google.com/assets/colab-badge.svg\" alt=\"Open In Colab\"/></a>"
      ]
    },
    {
      "cell_type": "markdown",
      "source": [
        "# Chapter 13: Using TensorFlow Lite in Android Apps - Part 2. 🧑‍💻📱"
      ],
      "metadata": {
        "id": "nsJ0t_ledpw2"
      }
    },
    {
      "cell_type": "markdown",
      "source": [
        "![cover](https://www.systango.com/blog/wp-content/uploads/2020/03/Blog4.jpg)"
      ],
      "metadata": {
        "id": "1b1haZT-eC0J"
      }
    },
    {
      "cell_type": "markdown",
      "source": [
        "❤️ **Hi mọi người** ❤️  \n",
        "\n",
        "Trong **phần 1** lần trước, tụi mình đã tìm hiểu sơ bộ cũng như lập trình thử một chương trình chạy **TensorFlow** trên hệ điều hành **Android** rồi ha. 📱🤖  \n",
        "\n",
        "Lần này, tụi mình sẽ đi **tiến xa hơn** với một ứng dụng **phức tạp hơn** tí nha. 🚀  \n",
        "\n",
        "🔹 **Về cơ bản, các bước quy trình làm vẫn tương tự như trước**.  \n",
        "🔹 **Điểm khác biệt chính** là việc tụi mình cần phải **điều chỉnh dữ liệu đầu vào** sao cho mô hình có thể hiểu được.  \n",
        "\n",
        "👉 **Trong phần tiếp theo này, tụi mình sẽ đối diện với việc sử dụng _dữ liệu dạng hình ảnh_**! 📸🎯  \n",
        "\n",
        "📌 Về mô hình, tụi mình sẽ lấy lại mô hình **phân loại chó mèo** ở [chương 12](https://github.com/Tkag0001/AI_and_Machine_Learning_for_Coders/blob/main/Chapter12_An_Introduction_to_TensorFlow_Lite.ipynb) nha. 🐶🐱  \n",
        "\n",
        "✨ **Nào, không nói nhiều nữa!**  \n",
        "🔥 **Tụi mình bắt tay vào làm ngay thôi!** 💪😆"
      ],
      "metadata": {
        "id": "RuPKmLqWeHXC"
      }
    },
    {
      "cell_type": "markdown",
      "source": [
        "# **🚀 Xây dựng mô hình**  \n",
        "\n",
        "📌 Mọi người có thể **chạy lại code dưới đây** để **huấn luyện** và **tải mô hình về máy** nha. 🖥️📂  \n",
        "\n",
        "💡 Đồng thời, tụi mình cũng sẽ **phân tích yêu cầu đầu vào** của mô hình để đảm bảo dữ liệu được xử lý đúng cách trước khi đưa vào dự đoán. 🧐📊  \n",
        "\n",
        "👇 **Bắt đầu nào!** 🔥"
      ],
      "metadata": {
        "id": "5EXt7WSGfskT"
      }
    },
    {
      "cell_type": "code",
      "source": [
        "\n",
        "#@title Cài đặt các thư viện\n",
        "import numpy as np\n",
        "import matplotlib.pyplot as plt\n",
        "import time as timer\n",
        "\n",
        "import tf_keras\n",
        "import tensorflow as tf\n",
        "import tensorflow_hub as hub\n",
        "import tensorflow_datasets as tfds\n",
        "from tensorflow.keras.layers import Dense, GlobalAveragePooling2D\n",
        "from tensorflow.keras.models import Sequential\n",
        "from datetime import timedelta"
      ],
      "metadata": {
        "id": "-qyueOnCgt91"
      },
      "execution_count": 1,
      "outputs": []
    },
    {
      "cell_type": "code",
      "source": [
        "IMAGE_SIZE = (224, 224)\n",
        "\n",
        "def format_image(image, label):\n",
        "  image = tf.image.resize(image, IMAGE_SIZE) / 255.0\n",
        "  return  image, label\n",
        "\n",
        "(raw_train, raw_validation, raw_test), metadata = tfds.load(\n",
        "    'cats_vs_dogs',\n",
        "    split=['train[:80%]', 'train[80%:90%]', 'train[90%:]'],\n",
        "    with_info=True,\n",
        "    as_supervised=True,\n",
        ")\n",
        "\n",
        "num_examples = metadata.splits['train'].num_examples\n",
        "num_classes = metadata.features['label'].num_classes\n",
        "print(f\"Số lượng mẫu: {num_examples}\")\n",
        "print(f\"Số lượng nhãn: {num_classes}\")\n",
        ""
      ],
      "metadata": {
        "colab": {
          "base_uri": "https://localhost:8080/",
          "height": 210,
          "referenced_widgets": [
            "60752f2c760146139de6704f16b5b054",
            "97590a387d134ca4828167334da4d6fa",
            "7a89a18c550e42f1b76d21a94a693161",
            "9cb6b08fad104cceb4d6a22210367fdd",
            "83cb261fea374c798bc505b9d424dd9c",
            "fa393e0242f14500b58ef98e85af9d13",
            "8f004c2e88a14f2fb1d439892af01464",
            "953579492d6f485891ef039b25320aca",
            "4b2fc5fef2ae4ad9827dc1d828ad3897",
            "19f2a8ef913d41deabd4998492469f2f",
            "5dfe2d63a78a49409641e1d25623c1eb",
            "315a2f4605184075944e63e6acc5ba74",
            "8ab0d1ec06dd4473938cb175c6b21fcd",
            "77d977974e4c4fba97f4e3ed0d007c18",
            "968662b0bf41457490d30ddab2172c46",
            "f322b31ad3bc4712a7bec16f9c6d3d74",
            "77eca2541a5540538d055d0f97d289f7",
            "3ca9c38cb3764c88a1a93aa43a914af1",
            "806f10dd9c9e46979ce17052b50543db",
            "bb065a784300463f9530ec02de48ff15",
            "bdd0ccf7da664988b62cb87d1dbe4950",
            "48ae19b9f58f4a77bd7f9791760f5226",
            "39408df199b848ae88abfa4c16332c4a",
            "47b070f24ae0465fa5b1ade101bcaf73",
            "242fde9a0eb1407f956bbc5ff4da104d",
            "a572dbaf93164600ae326db654329609",
            "8223928e319d4ef0a45308c222720728",
            "b84dca4a667f421998aeb79e895c113b",
            "8292afab8b7e424b98e34fe828472bc7",
            "6e4fca2557874cbdb2307c37683d158c",
            "4b8f34f09d3b4bcd89fc422fa16d7a94",
            "4fde98bc66b44e42ae9006ecc8bface2",
            "374cc6017a3a4e5b80afd647bf61beb7",
            "218346ff202841499557dcf2712ac1ec",
            "6fe215c3dba84c5f98674ea6010d6d29",
            "39dde4b607cc45cb8d57bbc8d6ffb909",
            "e77a777c2aae4b16aa4ae1c9d7d3e5f5",
            "6c05e842e0054ea2b0cc5a576b2ac6d5",
            "5922e1a290ec40b09631e97ac7f2d3ad",
            "10168176d8f145da807afe97dc49f983",
            "b22c349b6a344b3ba94c68565eb409f8",
            "7715a01301a64a47b3790a7af96fc966",
            "f06cf0bf65a14b2eaf26959db7058923",
            "c6d8788ead904de4b25bb3b48c2138d9",
            "b73855f019974aec824e287a747e0ca2",
            "68d52b214fb94c1f8fc22d966fee15fc",
            "1da2ff44467c4879af1c0088d1247955",
            "485820fb4b7d49539c722af71fb19230",
            "9e2368aab46b4d22a1d9dac12c8179de",
            "69dc066bce234341bceac3d3d27a1967",
            "6e456c138fad47e9974112abda268f80",
            "2a7f473f70364003b4772fe214e650bb",
            "db4dae9e8ebf479aad1e335ab49126c5",
            "f8ae3a5eac6f4a2ea4515d374469d8b1",
            "e6b7897761d34bbcbd6aa5e52e22883e"
          ]
        },
        "id": "vuvU9nfRdrGd",
        "outputId": "03f7690c-bafc-488e-d451-6eac141f73e9"
      },
      "execution_count": 2,
      "outputs": [
        {
          "output_type": "stream",
          "name": "stderr",
          "text": [
            "WARNING:absl:Variant folder /root/tensorflow_datasets/cats_vs_dogs/4.0.1 has no dataset_info.json\n"
          ]
        },
        {
          "output_type": "stream",
          "name": "stdout",
          "text": [
            "Downloading and preparing dataset Unknown size (download: Unknown size, generated: Unknown size, total: Unknown size) to /root/tensorflow_datasets/cats_vs_dogs/4.0.1...\n"
          ]
        },
        {
          "output_type": "display_data",
          "data": {
            "text/plain": [
              "Dl Completed...: 0 url [00:00, ? url/s]"
            ],
            "application/vnd.jupyter.widget-view+json": {
              "version_major": 2,
              "version_minor": 0,
              "model_id": "60752f2c760146139de6704f16b5b054"
            }
          },
          "metadata": {}
        },
        {
          "output_type": "display_data",
          "data": {
            "text/plain": [
              "Dl Size...: 0 MiB [00:00, ? MiB/s]"
            ],
            "application/vnd.jupyter.widget-view+json": {
              "version_major": 2,
              "version_minor": 0,
              "model_id": "315a2f4605184075944e63e6acc5ba74"
            }
          },
          "metadata": {}
        },
        {
          "output_type": "display_data",
          "data": {
            "text/plain": [
              "Generating splits...:   0%|          | 0/1 [00:00<?, ? splits/s]"
            ],
            "application/vnd.jupyter.widget-view+json": {
              "version_major": 2,
              "version_minor": 0,
              "model_id": "39408df199b848ae88abfa4c16332c4a"
            }
          },
          "metadata": {}
        },
        {
          "output_type": "display_data",
          "data": {
            "text/plain": [
              "Generating train examples...: 0 examples [00:00, ? examples/s]"
            ],
            "application/vnd.jupyter.widget-view+json": {
              "version_major": 2,
              "version_minor": 0,
              "model_id": "218346ff202841499557dcf2712ac1ec"
            }
          },
          "metadata": {}
        },
        {
          "output_type": "stream",
          "name": "stderr",
          "text": [
            "WARNING:absl:1738 images were corrupted and were skipped\n"
          ]
        },
        {
          "output_type": "display_data",
          "data": {
            "text/plain": [
              "Shuffling /root/tensorflow_datasets/cats_vs_dogs/incomplete.DMD8AC_4.0.1/cats_vs_dogs-train.tfrecord*...:   0%…"
            ],
            "application/vnd.jupyter.widget-view+json": {
              "version_major": 2,
              "version_minor": 0,
              "model_id": "b73855f019974aec824e287a747e0ca2"
            }
          },
          "metadata": {}
        },
        {
          "output_type": "stream",
          "name": "stdout",
          "text": [
            "Dataset cats_vs_dogs downloaded and prepared to /root/tensorflow_datasets/cats_vs_dogs/4.0.1. Subsequent calls will reuse this data.\n",
            "Số lượng mẫu: 23262\n",
            "Số lượng nhãn: 2\n"
          ]
        }
      ]
    },
    {
      "cell_type": "code",
      "source": [
        "# Cập nhật các tập train, validation, test\n",
        "\n",
        "BATCH_SIZE = 32\n",
        "train_batches = raw_train.shuffle(num_examples // 4).map(format_image).batch(BATCH_SIZE).prefetch(1)\n",
        "validation_batches = raw_validation.map(format_image).batch(BATCH_SIZE).prefetch(1)\n",
        "test_batches = raw_test.map(format_image).batch(1)"
      ],
      "metadata": {
        "id": "-f9BkZq8gOtu"
      },
      "execution_count": 3,
      "outputs": []
    },
    {
      "cell_type": "code",
      "source": [
        "# Tải MobileNetV2 với trọng số pre-trained trên ImageNet\n",
        "base_model = tf.keras.applications.MobileNetV2(\n",
        "    input_shape=(224, 224, 3),  # Kích thước đầu vào của ảnh\n",
        "    include_top=False,         # Loại bỏ tầng phân loại đầu ra của MobileNetV2\n",
        "    weights='imagenet'         # Sử dụng trọng số pre-trained trên ImageNet\n",
        ")\n",
        "\n",
        "# Đóng băng các tầng của mô hình gốc (không huấn luyện lại)\n",
        "base_model.trainable = False"
      ],
      "metadata": {
        "colab": {
          "base_uri": "https://localhost:8080/"
        },
        "id": "YmtuuB-FgRBT",
        "outputId": "2ef8f82a-6250-4e64-e92d-d337ffe55ffe"
      },
      "execution_count": 4,
      "outputs": [
        {
          "output_type": "stream",
          "name": "stdout",
          "text": [
            "Downloading data from https://storage.googleapis.com/tensorflow/keras-applications/mobilenet_v2/mobilenet_v2_weights_tf_dim_ordering_tf_kernels_1.0_224_no_top.h5\n",
            "\u001b[1m9406464/9406464\u001b[0m \u001b[32m━━━━━━━━━━━━━━━━━━━━\u001b[0m\u001b[37m\u001b[0m \u001b[1m0s\u001b[0m 0us/step\n"
          ]
        }
      ]
    },
    {
      "cell_type": "code",
      "source": [
        "model_transfer_mobilenet = Sequential([\n",
        "    base_model,\n",
        "    GlobalAveragePooling2D(),\n",
        "    Dense(num_classes, activation='softmax')\n",
        "])\n",
        "\n",
        "model_transfer_mobilenet.compile(optimizer='adam',\n",
        "              loss='sparse_categorical_crossentropy',\n",
        "              metrics=['accuracy'])"
      ],
      "metadata": {
        "id": "qvpnfMORgTW1"
      },
      "execution_count": 5,
      "outputs": []
    },
    {
      "cell_type": "code",
      "source": [
        "start_time = timer.time()\n",
        "history = model_transfer_mobilenet.fit(train_batches, epochs=5, validation_data=validation_batches)\n",
        "end_time = timer.time()"
      ],
      "metadata": {
        "colab": {
          "base_uri": "https://localhost:8080/"
        },
        "id": "qp_Dtz9OgVuw",
        "outputId": "d74b6bcb-63dd-48ef-e5af-a99661c4903f"
      },
      "execution_count": 6,
      "outputs": [
        {
          "output_type": "stream",
          "name": "stdout",
          "text": [
            "Epoch 1/5\n",
            "\u001b[1m582/582\u001b[0m \u001b[32m━━━━━━━━━━━━━━━━━━━━\u001b[0m\u001b[37m\u001b[0m \u001b[1m54s\u001b[0m 65ms/step - accuracy: 0.9580 - loss: 0.1065 - val_accuracy: 0.9819 - val_loss: 0.0508\n",
            "Epoch 2/5\n",
            "\u001b[1m582/582\u001b[0m \u001b[32m━━━━━━━━━━━━━━━━━━━━\u001b[0m\u001b[37m\u001b[0m \u001b[1m69s\u001b[0m 56ms/step - accuracy: 0.9856 - loss: 0.0420 - val_accuracy: 0.9819 - val_loss: 0.0487\n",
            "Epoch 3/5\n",
            "\u001b[1m582/582\u001b[0m \u001b[32m━━━━━━━━━━━━━━━━━━━━\u001b[0m\u001b[37m\u001b[0m \u001b[1m40s\u001b[0m 56ms/step - accuracy: 0.9857 - loss: 0.0397 - val_accuracy: 0.9837 - val_loss: 0.0475\n",
            "Epoch 4/5\n",
            "\u001b[1m582/582\u001b[0m \u001b[32m━━━━━━━━━━━━━━━━━━━━\u001b[0m\u001b[37m\u001b[0m \u001b[1m37s\u001b[0m 51ms/step - accuracy: 0.9900 - loss: 0.0301 - val_accuracy: 0.9785 - val_loss: 0.0605\n",
            "Epoch 5/5\n",
            "\u001b[1m582/582\u001b[0m \u001b[32m━━━━━━━━━━━━━━━━━━━━\u001b[0m\u001b[37m\u001b[0m \u001b[1m39s\u001b[0m 48ms/step - accuracy: 0.9895 - loss: 0.0309 - val_accuracy: 0.9811 - val_loss: 0.0567\n"
          ]
        }
      ]
    },
    {
      "cell_type": "code",
      "source": [
        "# Lưu mô hình lại\n",
        "model_transfer_mobilenet_path = 'model_transfer_mobilenet.h5'\n",
        "model_transfer_mobilenet.save(model_transfer_mobilenet_path)"
      ],
      "metadata": {
        "colab": {
          "base_uri": "https://localhost:8080/"
        },
        "id": "ORNVct_1gZ2S",
        "outputId": "f9a35e74-a139-454e-fe8b-79b47eb88f23"
      },
      "execution_count": 7,
      "outputs": [
        {
          "output_type": "stream",
          "name": "stderr",
          "text": [
            "WARNING:absl:You are saving your model as an HDF5 file via `model.save()` or `keras.saving.save_model(model)`. This file format is considered legacy. We recommend using instead the native Keras format, e.g. `model.save('my_model.keras')` or `keras.saving.save_model(model, 'my_model.keras')`. \n"
          ]
        }
      ]
    },
    {
      "cell_type": "code",
      "source": [
        "print(f\"Thời gian huấn luyện mô hình: {str(timedelta(seconds=end_time - start_time))}\")"
      ],
      "metadata": {
        "colab": {
          "base_uri": "https://localhost:8080/"
        },
        "id": "lKesqSUWgYSE",
        "outputId": "e6575825-cbe9-4890-bcfa-c40221d71a80"
      },
      "execution_count": 8,
      "outputs": [
        {
          "output_type": "stream",
          "name": "stdout",
          "text": [
            "Thời gian huấn luyện mô hình: 0:04:06.719641\n"
          ]
        }
      ]
    },
    {
      "cell_type": "code",
      "source": [
        "# Load lại mô hình từ file.h5\n",
        "model_transfer_mobilenet = tf.keras.models.load_model(model_transfer_mobilenet_path)\n",
        "converter = tf.lite.TFLiteConverter.from_keras_model(model_transfer_mobilenet)\n",
        "tflite_model_transfer = converter.convert()"
      ],
      "metadata": {
        "colab": {
          "base_uri": "https://localhost:8080/"
        },
        "id": "0z3Bs7c9gbiN",
        "outputId": "f73f7cad-02b1-42e1-9aca-38c42cb70608"
      },
      "execution_count": 9,
      "outputs": [
        {
          "output_type": "stream",
          "name": "stderr",
          "text": [
            "WARNING:absl:Compiled the loaded model, but the compiled metrics have yet to be built. `model.compile_metrics` will be empty until you train or evaluate the model.\n"
          ]
        },
        {
          "output_type": "stream",
          "name": "stdout",
          "text": [
            "Saved artifact at '/tmp/tmpbl2eqc0a'. The following endpoints are available:\n",
            "\n",
            "* Endpoint 'serve'\n",
            "  args_0 (POSITIONAL_ONLY): TensorSpec(shape=(None, 224, 224, 3), dtype=tf.float32, name='input_layer_1')\n",
            "Output Type:\n",
            "  TensorSpec(shape=(None, 2), dtype=tf.float32, name=None)\n",
            "Captures:\n",
            "  135987953452048: TensorSpec(shape=(), dtype=tf.resource, name=None)\n",
            "  135987953451088: TensorSpec(shape=(), dtype=tf.resource, name=None)\n",
            "  135988882609488: TensorSpec(shape=(), dtype=tf.resource, name=None)\n",
            "  135987953451664: TensorSpec(shape=(), dtype=tf.resource, name=None)\n",
            "  135987953452240: TensorSpec(shape=(), dtype=tf.resource, name=None)\n",
            "  135987990208848: TensorSpec(shape=(), dtype=tf.resource, name=None)\n",
            "  135987953453008: TensorSpec(shape=(), dtype=tf.resource, name=None)\n",
            "  135987988388496: TensorSpec(shape=(), dtype=tf.resource, name=None)\n",
            "  135987953451856: TensorSpec(shape=(), dtype=tf.resource, name=None)\n",
            "  135987954385744: TensorSpec(shape=(), dtype=tf.resource, name=None)\n",
            "  135987988389456: TensorSpec(shape=(), dtype=tf.resource, name=None)\n",
            "  135987525140944: TensorSpec(shape=(), dtype=tf.resource, name=None)\n",
            "  135987525141520: TensorSpec(shape=(), dtype=tf.resource, name=None)\n",
            "  135987953451280: TensorSpec(shape=(), dtype=tf.resource, name=None)\n",
            "  135987990340112: TensorSpec(shape=(), dtype=tf.resource, name=None)\n",
            "  135987525142480: TensorSpec(shape=(), dtype=tf.resource, name=None)\n",
            "  135987525142864: TensorSpec(shape=(), dtype=tf.resource, name=None)\n",
            "  135987525143248: TensorSpec(shape=(), dtype=tf.resource, name=None)\n",
            "  135987525143056: TensorSpec(shape=(), dtype=tf.resource, name=None)\n",
            "  135987525141712: TensorSpec(shape=(), dtype=tf.resource, name=None)\n",
            "  135987525144400: TensorSpec(shape=(), dtype=tf.resource, name=None)\n",
            "  135987525144784: TensorSpec(shape=(), dtype=tf.resource, name=None)\n",
            "  135987525145168: TensorSpec(shape=(), dtype=tf.resource, name=None)\n",
            "  135987525144976: TensorSpec(shape=(), dtype=tf.resource, name=None)\n",
            "  135987525140752: TensorSpec(shape=(), dtype=tf.resource, name=None)\n",
            "  135987525146320: TensorSpec(shape=(), dtype=tf.resource, name=None)\n",
            "  135987525146704: TensorSpec(shape=(), dtype=tf.resource, name=None)\n",
            "  135987525147088: TensorSpec(shape=(), dtype=tf.resource, name=None)\n",
            "  135987525146896: TensorSpec(shape=(), dtype=tf.resource, name=None)\n",
            "  135987525142096: TensorSpec(shape=(), dtype=tf.resource, name=None)\n",
            "  135987525148240: TensorSpec(shape=(), dtype=tf.resource, name=None)\n",
            "  135987525148624: TensorSpec(shape=(), dtype=tf.resource, name=None)\n",
            "  135987525149008: TensorSpec(shape=(), dtype=tf.resource, name=None)\n",
            "  135987525148816: TensorSpec(shape=(), dtype=tf.resource, name=None)\n",
            "  135987525144016: TensorSpec(shape=(), dtype=tf.resource, name=None)\n",
            "  135987525150160: TensorSpec(shape=(), dtype=tf.resource, name=None)\n",
            "  135987525150544: TensorSpec(shape=(), dtype=tf.resource, name=None)\n",
            "  135987525150928: TensorSpec(shape=(), dtype=tf.resource, name=None)\n",
            "  135987525150736: TensorSpec(shape=(), dtype=tf.resource, name=None)\n",
            "  135987525145936: TensorSpec(shape=(), dtype=tf.resource, name=None)\n",
            "  135987525152080: TensorSpec(shape=(), dtype=tf.resource, name=None)\n",
            "  135987525152464: TensorSpec(shape=(), dtype=tf.resource, name=None)\n",
            "  135987525152848: TensorSpec(shape=(), dtype=tf.resource, name=None)\n",
            "  135987525152656: TensorSpec(shape=(), dtype=tf.resource, name=None)\n",
            "  135987525147856: TensorSpec(shape=(), dtype=tf.resource, name=None)\n",
            "  135987525154000: TensorSpec(shape=(), dtype=tf.resource, name=None)\n",
            "  135987525154384: TensorSpec(shape=(), dtype=tf.resource, name=None)\n",
            "  135987525154768: TensorSpec(shape=(), dtype=tf.resource, name=None)\n",
            "  135987525154576: TensorSpec(shape=(), dtype=tf.resource, name=None)\n",
            "  135987525149776: TensorSpec(shape=(), dtype=tf.resource, name=None)\n",
            "  135987525155920: TensorSpec(shape=(), dtype=tf.resource, name=None)\n",
            "  135987525155536: TensorSpec(shape=(), dtype=tf.resource, name=None)\n",
            "  135987525155152: TensorSpec(shape=(), dtype=tf.resource, name=None)\n",
            "  135987525156496: TensorSpec(shape=(), dtype=tf.resource, name=None)\n",
            "  135987525151696: TensorSpec(shape=(), dtype=tf.resource, name=None)\n",
            "  135987525153616: TensorSpec(shape=(), dtype=tf.resource, name=None)\n",
            "  135987525322128: TensorSpec(shape=(), dtype=tf.resource, name=None)\n",
            "  135987525322512: TensorSpec(shape=(), dtype=tf.resource, name=None)\n",
            "  135987525322320: TensorSpec(shape=(), dtype=tf.resource, name=None)\n",
            "  135987525320784: TensorSpec(shape=(), dtype=tf.resource, name=None)\n",
            "  135987525323664: TensorSpec(shape=(), dtype=tf.resource, name=None)\n",
            "  135987525324048: TensorSpec(shape=(), dtype=tf.resource, name=None)\n",
            "  135987525324432: TensorSpec(shape=(), dtype=tf.resource, name=None)\n",
            "  135987525324240: TensorSpec(shape=(), dtype=tf.resource, name=None)\n",
            "  135987525321552: TensorSpec(shape=(), dtype=tf.resource, name=None)\n",
            "  135987525325584: TensorSpec(shape=(), dtype=tf.resource, name=None)\n",
            "  135987525325968: TensorSpec(shape=(), dtype=tf.resource, name=None)\n",
            "  135987525326352: TensorSpec(shape=(), dtype=tf.resource, name=None)\n",
            "  135987525326160: TensorSpec(shape=(), dtype=tf.resource, name=None)\n",
            "  135987525321168: TensorSpec(shape=(), dtype=tf.resource, name=None)\n",
            "  135987525327504: TensorSpec(shape=(), dtype=tf.resource, name=None)\n",
            "  135987525327888: TensorSpec(shape=(), dtype=tf.resource, name=None)\n",
            "  135987525328272: TensorSpec(shape=(), dtype=tf.resource, name=None)\n",
            "  135987525328080: TensorSpec(shape=(), dtype=tf.resource, name=None)\n",
            "  135987525323280: TensorSpec(shape=(), dtype=tf.resource, name=None)\n",
            "  135987525329424: TensorSpec(shape=(), dtype=tf.resource, name=None)\n",
            "  135987525329808: TensorSpec(shape=(), dtype=tf.resource, name=None)\n",
            "  135987525330192: TensorSpec(shape=(), dtype=tf.resource, name=None)\n",
            "  135987525330000: TensorSpec(shape=(), dtype=tf.resource, name=None)\n",
            "  135987525325200: TensorSpec(shape=(), dtype=tf.resource, name=None)\n",
            "  135987525331344: TensorSpec(shape=(), dtype=tf.resource, name=None)\n",
            "  135987525331728: TensorSpec(shape=(), dtype=tf.resource, name=None)\n",
            "  135987525332112: TensorSpec(shape=(), dtype=tf.resource, name=None)\n",
            "  135987525331920: TensorSpec(shape=(), dtype=tf.resource, name=None)\n",
            "  135987525327120: TensorSpec(shape=(), dtype=tf.resource, name=None)\n",
            "  135987525333264: TensorSpec(shape=(), dtype=tf.resource, name=None)\n",
            "  135987525333648: TensorSpec(shape=(), dtype=tf.resource, name=None)\n",
            "  135987525334032: TensorSpec(shape=(), dtype=tf.resource, name=None)\n",
            "  135987525333840: TensorSpec(shape=(), dtype=tf.resource, name=None)\n",
            "  135987525329040: TensorSpec(shape=(), dtype=tf.resource, name=None)\n",
            "  135987525335184: TensorSpec(shape=(), dtype=tf.resource, name=None)\n",
            "  135987525335568: TensorSpec(shape=(), dtype=tf.resource, name=None)\n",
            "  135987525335952: TensorSpec(shape=(), dtype=tf.resource, name=None)\n",
            "  135987525335760: TensorSpec(shape=(), dtype=tf.resource, name=None)\n",
            "  135987525330960: TensorSpec(shape=(), dtype=tf.resource, name=None)\n",
            "  135987525332880: TensorSpec(shape=(), dtype=tf.resource, name=None)\n",
            "  135987525517776: TensorSpec(shape=(), dtype=tf.resource, name=None)\n",
            "  135987525518352: TensorSpec(shape=(), dtype=tf.resource, name=None)\n",
            "  135987525334800: TensorSpec(shape=(), dtype=tf.resource, name=None)\n",
            "  135987525334416: TensorSpec(shape=(), dtype=tf.resource, name=None)\n",
            "  135987525519312: TensorSpec(shape=(), dtype=tf.resource, name=None)\n",
            "  135987525519696: TensorSpec(shape=(), dtype=tf.resource, name=None)\n",
            "  135987525520080: TensorSpec(shape=(), dtype=tf.resource, name=None)\n",
            "  135987525519888: TensorSpec(shape=(), dtype=tf.resource, name=None)\n",
            "  135987525518544: TensorSpec(shape=(), dtype=tf.resource, name=None)\n",
            "  135987525521232: TensorSpec(shape=(), dtype=tf.resource, name=None)\n",
            "  135987525521616: TensorSpec(shape=(), dtype=tf.resource, name=None)\n",
            "  135987525522000: TensorSpec(shape=(), dtype=tf.resource, name=None)\n",
            "  135987525521808: TensorSpec(shape=(), dtype=tf.resource, name=None)\n",
            "  135987525517584: TensorSpec(shape=(), dtype=tf.resource, name=None)\n",
            "  135987525523152: TensorSpec(shape=(), dtype=tf.resource, name=None)\n",
            "  135987525523536: TensorSpec(shape=(), dtype=tf.resource, name=None)\n",
            "  135987525523920: TensorSpec(shape=(), dtype=tf.resource, name=None)\n",
            "  135987525523728: TensorSpec(shape=(), dtype=tf.resource, name=None)\n",
            "  135987525518928: TensorSpec(shape=(), dtype=tf.resource, name=None)\n",
            "  135987525525072: TensorSpec(shape=(), dtype=tf.resource, name=None)\n",
            "  135987525525456: TensorSpec(shape=(), dtype=tf.resource, name=None)\n",
            "  135987525525840: TensorSpec(shape=(), dtype=tf.resource, name=None)\n",
            "  135987525525648: TensorSpec(shape=(), dtype=tf.resource, name=None)\n",
            "  135987525520848: TensorSpec(shape=(), dtype=tf.resource, name=None)\n",
            "  135987525526992: TensorSpec(shape=(), dtype=tf.resource, name=None)\n",
            "  135987525527376: TensorSpec(shape=(), dtype=tf.resource, name=None)\n",
            "  135987525527760: TensorSpec(shape=(), dtype=tf.resource, name=None)\n",
            "  135987525527568: TensorSpec(shape=(), dtype=tf.resource, name=None)\n",
            "  135987525522768: TensorSpec(shape=(), dtype=tf.resource, name=None)\n",
            "  135987525528912: TensorSpec(shape=(), dtype=tf.resource, name=None)\n",
            "  135987525529296: TensorSpec(shape=(), dtype=tf.resource, name=None)\n",
            "  135987525529680: TensorSpec(shape=(), dtype=tf.resource, name=None)\n",
            "  135987525529488: TensorSpec(shape=(), dtype=tf.resource, name=None)\n",
            "  135987525524688: TensorSpec(shape=(), dtype=tf.resource, name=None)\n",
            "  135987525530832: TensorSpec(shape=(), dtype=tf.resource, name=None)\n",
            "  135987525531216: TensorSpec(shape=(), dtype=tf.resource, name=None)\n",
            "  135987525531600: TensorSpec(shape=(), dtype=tf.resource, name=None)\n",
            "  135987525531408: TensorSpec(shape=(), dtype=tf.resource, name=None)\n",
            "  135987525526608: TensorSpec(shape=(), dtype=tf.resource, name=None)\n",
            "  135987525532752: TensorSpec(shape=(), dtype=tf.resource, name=None)\n",
            "  135987525532368: TensorSpec(shape=(), dtype=tf.resource, name=None)\n",
            "  135987525531984: TensorSpec(shape=(), dtype=tf.resource, name=None)\n",
            "  135987525533328: TensorSpec(shape=(), dtype=tf.resource, name=None)\n",
            "  135987525528528: TensorSpec(shape=(), dtype=tf.resource, name=None)\n",
            "  135987525530448: TensorSpec(shape=(), dtype=tf.resource, name=None)\n",
            "  135987525698960: TensorSpec(shape=(), dtype=tf.resource, name=None)\n",
            "  135987525698000: TensorSpec(shape=(), dtype=tf.resource, name=None)\n",
            "  135987525698768: TensorSpec(shape=(), dtype=tf.resource, name=None)\n",
            "  135987525697808: TensorSpec(shape=(), dtype=tf.resource, name=None)\n",
            "  135987525700496: TensorSpec(shape=(), dtype=tf.resource, name=None)\n",
            "  135987525700880: TensorSpec(shape=(), dtype=tf.resource, name=None)\n",
            "  135987525701264: TensorSpec(shape=(), dtype=tf.resource, name=None)\n",
            "  135987525701072: TensorSpec(shape=(), dtype=tf.resource, name=None)\n",
            "  135987525698192: TensorSpec(shape=(), dtype=tf.resource, name=None)\n",
            "  135987525702416: TensorSpec(shape=(), dtype=tf.resource, name=None)\n",
            "  135987525702800: TensorSpec(shape=(), dtype=tf.resource, name=None)\n",
            "  135987525703184: TensorSpec(shape=(), dtype=tf.resource, name=None)\n",
            "  135987525702992: TensorSpec(shape=(), dtype=tf.resource, name=None)\n",
            "  135987525699344: TensorSpec(shape=(), dtype=tf.resource, name=None)\n",
            "  135987525704336: TensorSpec(shape=(), dtype=tf.resource, name=None)\n",
            "  135987525704720: TensorSpec(shape=(), dtype=tf.resource, name=None)\n",
            "  135987525705104: TensorSpec(shape=(), dtype=tf.resource, name=None)\n",
            "  135987525704912: TensorSpec(shape=(), dtype=tf.resource, name=None)\n",
            "  135987525700112: TensorSpec(shape=(), dtype=tf.resource, name=None)\n",
            "  135987525706256: TensorSpec(shape=(), dtype=tf.resource, name=None)\n",
            "  135987525706640: TensorSpec(shape=(), dtype=tf.resource, name=None)\n",
            "  135987525707024: TensorSpec(shape=(), dtype=tf.resource, name=None)\n",
            "  135987525706832: TensorSpec(shape=(), dtype=tf.resource, name=None)\n",
            "  135987525702032: TensorSpec(shape=(), dtype=tf.resource, name=None)\n",
            "  135987525708176: TensorSpec(shape=(), dtype=tf.resource, name=None)\n",
            "  135987525708560: TensorSpec(shape=(), dtype=tf.resource, name=None)\n",
            "  135987525708944: TensorSpec(shape=(), dtype=tf.resource, name=None)\n",
            "  135987525708752: TensorSpec(shape=(), dtype=tf.resource, name=None)\n",
            "  135987525703952: TensorSpec(shape=(), dtype=tf.resource, name=None)\n",
            "  135987525710096: TensorSpec(shape=(), dtype=tf.resource, name=None)\n",
            "  135987525710480: TensorSpec(shape=(), dtype=tf.resource, name=None)\n",
            "  135987525710864: TensorSpec(shape=(), dtype=tf.resource, name=None)\n",
            "  135987525710672: TensorSpec(shape=(), dtype=tf.resource, name=None)\n",
            "  135987525705872: TensorSpec(shape=(), dtype=tf.resource, name=None)\n",
            "  135987525712016: TensorSpec(shape=(), dtype=tf.resource, name=None)\n",
            "  135987525712400: TensorSpec(shape=(), dtype=tf.resource, name=None)\n",
            "  135987525712784: TensorSpec(shape=(), dtype=tf.resource, name=None)\n",
            "  135987525712592: TensorSpec(shape=(), dtype=tf.resource, name=None)\n",
            "  135987525707792: TensorSpec(shape=(), dtype=tf.resource, name=None)\n",
            "  135987525709712: TensorSpec(shape=(), dtype=tf.resource, name=None)\n",
            "  135987525861648: TensorSpec(shape=(), dtype=tf.resource, name=None)\n",
            "  135987525862416: TensorSpec(shape=(), dtype=tf.resource, name=None)\n",
            "  135987525711632: TensorSpec(shape=(), dtype=tf.resource, name=None)\n",
            "  135987525711248: TensorSpec(shape=(), dtype=tf.resource, name=None)\n",
            "  135987525863376: TensorSpec(shape=(), dtype=tf.resource, name=None)\n",
            "  135987525863760: TensorSpec(shape=(), dtype=tf.resource, name=None)\n",
            "  135987525864144: TensorSpec(shape=(), dtype=tf.resource, name=None)\n",
            "  135987525863952: TensorSpec(shape=(), dtype=tf.resource, name=None)\n",
            "  135987525862608: TensorSpec(shape=(), dtype=tf.resource, name=None)\n",
            "  135987525865296: TensorSpec(shape=(), dtype=tf.resource, name=None)\n",
            "  135987525865680: TensorSpec(shape=(), dtype=tf.resource, name=None)\n",
            "  135987525866064: TensorSpec(shape=(), dtype=tf.resource, name=None)\n",
            "  135987525865872: TensorSpec(shape=(), dtype=tf.resource, name=None)\n",
            "  135987525861456: TensorSpec(shape=(), dtype=tf.resource, name=None)\n",
            "  135987525867216: TensorSpec(shape=(), dtype=tf.resource, name=None)\n",
            "  135987525867600: TensorSpec(shape=(), dtype=tf.resource, name=None)\n",
            "  135987525867984: TensorSpec(shape=(), dtype=tf.resource, name=None)\n",
            "  135987525867792: TensorSpec(shape=(), dtype=tf.resource, name=None)\n",
            "  135987525862992: TensorSpec(shape=(), dtype=tf.resource, name=None)\n",
            "  135987525869136: TensorSpec(shape=(), dtype=tf.resource, name=None)\n",
            "  135987525869520: TensorSpec(shape=(), dtype=tf.resource, name=None)\n",
            "  135987525869904: TensorSpec(shape=(), dtype=tf.resource, name=None)\n",
            "  135987525869712: TensorSpec(shape=(), dtype=tf.resource, name=None)\n",
            "  135987525864912: TensorSpec(shape=(), dtype=tf.resource, name=None)\n",
            "  135987525871056: TensorSpec(shape=(), dtype=tf.resource, name=None)\n",
            "  135987525871440: TensorSpec(shape=(), dtype=tf.resource, name=None)\n",
            "  135987525871824: TensorSpec(shape=(), dtype=tf.resource, name=None)\n",
            "  135987525871632: TensorSpec(shape=(), dtype=tf.resource, name=None)\n",
            "  135987525866832: TensorSpec(shape=(), dtype=tf.resource, name=None)\n",
            "  135987525872976: TensorSpec(shape=(), dtype=tf.resource, name=None)\n",
            "  135987525873360: TensorSpec(shape=(), dtype=tf.resource, name=None)\n",
            "  135987525873744: TensorSpec(shape=(), dtype=tf.resource, name=None)\n",
            "  135987525873552: TensorSpec(shape=(), dtype=tf.resource, name=None)\n",
            "  135987525868752: TensorSpec(shape=(), dtype=tf.resource, name=None)\n",
            "  135987525874896: TensorSpec(shape=(), dtype=tf.resource, name=None)\n",
            "  135987525875280: TensorSpec(shape=(), dtype=tf.resource, name=None)\n",
            "  135987525875664: TensorSpec(shape=(), dtype=tf.resource, name=None)\n",
            "  135987525875472: TensorSpec(shape=(), dtype=tf.resource, name=None)\n",
            "  135987525870672: TensorSpec(shape=(), dtype=tf.resource, name=None)\n",
            "  135987525876816: TensorSpec(shape=(), dtype=tf.resource, name=None)\n",
            "  135987525876432: TensorSpec(shape=(), dtype=tf.resource, name=None)\n",
            "  135987525876048: TensorSpec(shape=(), dtype=tf.resource, name=None)\n",
            "  135987525877392: TensorSpec(shape=(), dtype=tf.resource, name=None)\n",
            "  135987525872592: TensorSpec(shape=(), dtype=tf.resource, name=None)\n",
            "  135987525874512: TensorSpec(shape=(), dtype=tf.resource, name=None)\n",
            "  135987524027792: TensorSpec(shape=(), dtype=tf.resource, name=None)\n",
            "  135987524026832: TensorSpec(shape=(), dtype=tf.resource, name=None)\n",
            "  135987524027600: TensorSpec(shape=(), dtype=tf.resource, name=None)\n",
            "  135987524026640: TensorSpec(shape=(), dtype=tf.resource, name=None)\n",
            "  135987524029328: TensorSpec(shape=(), dtype=tf.resource, name=None)\n",
            "  135987524029712: TensorSpec(shape=(), dtype=tf.resource, name=None)\n",
            "  135987524030096: TensorSpec(shape=(), dtype=tf.resource, name=None)\n",
            "  135987524029904: TensorSpec(shape=(), dtype=tf.resource, name=None)\n",
            "  135987524027024: TensorSpec(shape=(), dtype=tf.resource, name=None)\n",
            "  135987524031248: TensorSpec(shape=(), dtype=tf.resource, name=None)\n",
            "  135987524031632: TensorSpec(shape=(), dtype=tf.resource, name=None)\n",
            "  135987524032016: TensorSpec(shape=(), dtype=tf.resource, name=None)\n",
            "  135987524031824: TensorSpec(shape=(), dtype=tf.resource, name=None)\n",
            "  135987524028176: TensorSpec(shape=(), dtype=tf.resource, name=None)\n",
            "  135987524033168: TensorSpec(shape=(), dtype=tf.resource, name=None)\n",
            "  135987524033552: TensorSpec(shape=(), dtype=tf.resource, name=None)\n",
            "  135987524033936: TensorSpec(shape=(), dtype=tf.resource, name=None)\n",
            "  135987524033744: TensorSpec(shape=(), dtype=tf.resource, name=None)\n",
            "  135987524028944: TensorSpec(shape=(), dtype=tf.resource, name=None)\n",
            "  135987524035088: TensorSpec(shape=(), dtype=tf.resource, name=None)\n",
            "  135987524035472: TensorSpec(shape=(), dtype=tf.resource, name=None)\n",
            "  135987524035856: TensorSpec(shape=(), dtype=tf.resource, name=None)\n",
            "  135987524035664: TensorSpec(shape=(), dtype=tf.resource, name=None)\n",
            "  135987524030864: TensorSpec(shape=(), dtype=tf.resource, name=None)\n",
            "  135987524037008: TensorSpec(shape=(), dtype=tf.resource, name=None)\n",
            "  135987524037392: TensorSpec(shape=(), dtype=tf.resource, name=None)\n",
            "  135987524037776: TensorSpec(shape=(), dtype=tf.resource, name=None)\n",
            "  135987524037584: TensorSpec(shape=(), dtype=tf.resource, name=None)\n",
            "  135987524032784: TensorSpec(shape=(), dtype=tf.resource, name=None)\n",
            "  135987524038928: TensorSpec(shape=(), dtype=tf.resource, name=None)\n",
            "  135987524039312: TensorSpec(shape=(), dtype=tf.resource, name=None)\n",
            "  135987524039696: TensorSpec(shape=(), dtype=tf.resource, name=None)\n",
            "  135987524039504: TensorSpec(shape=(), dtype=tf.resource, name=None)\n",
            "  135987524034704: TensorSpec(shape=(), dtype=tf.resource, name=None)\n",
            "  135987524040848: TensorSpec(shape=(), dtype=tf.resource, name=None)\n",
            "  135987524041616: TensorSpec(shape=(), dtype=tf.resource, name=None)\n"
          ]
        }
      ]
    },
    {
      "cell_type": "code",
      "source": [
        "# Lưu mô hình TFLite\n",
        "tflite_model_transfer_path = 'model_transfer_mobilenet.tflite'\n",
        "with open(tflite_model_transfer_path, \"wb\") as f:\n",
        "    f.write(tflite_model_transfer)"
      ],
      "metadata": {
        "id": "mtE_RSimgdz9"
      },
      "execution_count": 10,
      "outputs": []
    },
    {
      "cell_type": "markdown",
      "source": [
        "Mọi người nhớ download mô hình tflite về để làm tiếp các bước sau nha."
      ],
      "metadata": {
        "id": "TAM87jjniZ_k"
      }
    },
    {
      "cell_type": "markdown",
      "source": [
        "![image.png](data:image/png;base64,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)"
      ],
      "metadata": {
        "id": "7QmACLvTimrx"
      }
    },
    {
      "cell_type": "markdown",
      "source": [
        "# **📊 Phân tích đầu vào của mô hình**  \n",
        "\n",
        "Ở đây tụi mình có thể quan sát thấy dòng chuẩn hóa này:  \n",
        "\n",
        "```python\n",
        "base_model = tf.keras.applications.MobileNetV2(\n",
        "    input_shape=(224, 224, 3),  # Kích thước đầu vào của ảnh\n",
        "    include_top=False,         # Loại bỏ tầng phân loại đầu ra của MobileNetV2\n",
        "    weights='imagenet'         # Sử dụng trọng số pre-trained trên ImageNet\n",
        ")\n",
        "```  \n",
        "\n",
        "📌 Vậy có nghĩa là kích thước ảnh đầu vào của mô hình chúng ta là **224 x 224** với **3 kênh màu**. Khi triển khai thành ứng dụng **Android**, chúng ta cũng sẽ cần phải **tuân thủ theo chuẩn đầu vào này**. 📷  \n",
        "\n",
        "💡 Tuy nhiên, ảnh chụp từ điện thoại không phải lúc nào cũng có kích thước như vậy. Chúng có thể có kích thước bất kỳ, chẳng hạn như **395 x 500** dưới đây. 🖼️"
      ],
      "metadata": {
        "id": "P9BtxUGbgM19"
      }
    },
    {
      "cell_type": "markdown",
      "source": [
        "![img](https://github.com/Tkag0001/AI_and_Machine_Learning_for_Coders/blob/main/images/Chapter_13_2/1.png?raw=true)"
      ],
      "metadata": {
        "id": "_q0T3CCBJFbm"
      }
    },
    {
      "cell_type": "markdown",
      "source": [
        "Do đó tụi mình sẽ cần một hàm để có thể tinh chỉnh kích thước lại về 224 x 224 nha. Và điều này có thể được thực hiện thông qua thư viện **Bitmap** trong**Android** nha.\n",
        "\n",
        "```kotlin\n",
        "val scaledBitmap = Bitmap.createScaledBitmap(bitmap, 224, 224, false)\n",
        "```\n",
        "\n"
      ],
      "metadata": {
        "id": "I_aRkduEhzyG"
      }
    },
    {
      "cell_type": "markdown",
      "source": [
        "📌 **Tiếp đến là kích thước Tensor nha.** 🧩  \n",
        "\n",
        "Như mô hình đã định nghĩa trước đó, chúng ta cần đảm bảo rằng **Tensor** phải đúng định dạng **224 x 224 x 3**. Ngoài ra, trong quá trình chuẩn bị mô hình, các giá trị đầu vào đều được **chuẩn hóa** trong khoảng **0 đến 1**. Vì vậy, trong ứng dụng **Android**, chúng ta cũng phải thực hiện điều tương tự. 🎯  \n",
        "\n",
        "📝 Để làm điều này, chúng ta có thể sử dụng đoạn code sau:  \n",
        "\n",
        "```kotlin\n",
        "val byteBuffer = ByteBuffer.allocateDirect(4 * 224 * 224 * 3)\n",
        "byteBuffer.order(ByteOrder.nativeOrder())\n",
        "```  \n",
        "\n",
        "📌 Ở đây, bởi vì chúng ta đưa các giá trị về dạng **float** (0 đến 1), mà kiểu **float** có kích thước **4 byte**, nên tổng kích thước **ByteArray** sẽ là `4 x 224 x 224 x 3` nha. 📊"
      ],
      "metadata": {
        "id": "olw7XU-HgLhR"
      }
    },
    {
      "cell_type": "markdown",
      "source": [
        "Bởi vì trong Android, mỗi pixel của hình ảnh được lưu dưới dạng **số nguyên 32-bit**, theo định dạng **ARGB** (Alpha, Red, Green, Blue). Ví dụ, một pixel có thể có giá trị **0x0010FF10**:  \n",
        "\n",
        "- **00**: Giá trị **Alpha** (độ trong suốt), có thể bỏ qua.  \n",
        "- **10**: Giá trị **Red (R) = 0x10**.  \n",
        "- **FF**: Giá trị **Green (G) = 0xFF**.  \n",
        "- **10**: Giá trị **Blue (B) = 0x10**.  \n",
        "\n",
        "Để chuẩn hóa các giá trị màu này về khoảng **0 đến 1**, bạn chỉ cần **chia mỗi kênh màu cho 255**:  \n",
        "\n",
        "- **Red**: 0x10 / 255 = 16 / 255 ≈ 0.06275.  \n",
        "- **Green**: 0xFF / 255 = 225 / 255 = 1.0.\n",
        "- **Blue**: 0x10 / 255 = 16 / 255 ≈ 0.06275.\n",
        "\n"
      ],
      "metadata": {
        "id": "iseXL2VWsIYR"
      }
    },
    {
      "cell_type": "markdown",
      "source": [
        "📌 **Sau khi hiểu nguyên lý rồi, giờ chúng ta bắt tay vào code nha.** 💻✨  \n",
        "\n",
        "🔹 Đầu tiên, chúng ta cần chuyển đổi ảnh **Bitmap** thành một mảng số nguyên có kích thước **224 × 224**, rồi trích xuất các giá trị pixel bằng API `getPixels()`:  \n",
        "\n",
        "```kotlin\n",
        "val intValues = IntArray(224 * 224)\n",
        "scaledBitmap.getPixels(intValues, 0, 224, 0, 0, 224, 224)\n",
        "```  \n",
        "\n",
        "🔹 Tiếp theo, chúng ta **lặp qua mảng này**, đọc từng pixel và **chuẩn hóa** chúng thành giá trị `float` từ **0 đến 1**.  \n",
        "\n",
        "📝 **Dịch bit (bit shifting) để trích xuất từng kênh màu từ giá trị ARGB 32-bit**:  \n",
        "- **Red (R)**: `val red = (pixel shr 16) and 0xFF`  \n",
        "- **Green (G)**: `val green = (pixel shr 8) and 0xFF`  \n",
        "- **Blue (B)**: `val blue = pixel and 0xFF`  \n",
        "\n",
        "Sau khi trích xuất, chúng ta chuẩn hóa giá trị về khoảng **[0, 1]** bằng cách chia cho `255.0f`.  \n",
        "\n",
        "📝 **Code hoàn chỉnh để chuyển đổi ảnh thành Tensor**:  \n",
        "\n",
        "```kotlin\n",
        "var pixel = 0\n",
        "for (i in 0 until 224) {\n",
        "    for (j in 0 until 224) {\n",
        "        val input = intValues[pixel++]\n",
        "        byteBuffer.putFloat(((input.shr(16) and 0xFF) / 255.0f))\n",
        "        byteBuffer.putFloat(((input.shr(8) and 0xFF) / 255.0f))\n",
        "        byteBuffer.putFloat(((input and 0xFF) / 255.0f))\n",
        "    }\n",
        "}\n",
        "```\n",
        "\n",
        "📌 **Vậy là chúng ta đã sẵn sàng đưa ảnh vào mô hình để chạy dự đoán rồi đó.** 🚀"
      ],
      "metadata": {
        "id": "GbjwAX1Dt3tV"
      }
    },
    {
      "cell_type": "markdown",
      "source": [
        "Oa, vậy là tụi mình gần đến đích rồi á. 🚀  \n",
        "\n",
        "Bây giờ tụi mình chỉ cần xử lý kết quả từ mô hình TensorFlow Lite nữa thôi. Đầu tiên, tụi mình cần một mảng để có thể lưu trữ đầu ra của mô hình.  \n",
        "\n",
        "Tụi mình **không nhất thiết phải dùng `ByteArray`** đâu nha, vì đầu ra là `float` nên tụi mình có thể sử dụng `FloatArray` chẳng hạn.  \n",
        "\n",
        "Ví dụ, trong bài toán **Dogs vs. Cats** 🐶🐱, mô hình có **hai nhãn (dog, cat)** và **lớp output có 2 neuron**. Vì vậy, bạn cần một mảng chứa **2 giá trị float**, mỗi giá trị tương ứng với xác suất của từng lớp:  \n",
        "\n",
        "```kotlin\n",
        "val result = Array(1) { FloatArray(2) }\n",
        "```\n",
        "\n",
        "#### Giải thích cấu trúc mảng:  \n",
        "- `Array(1)`: Tạo một mảng ngoài có **1 phần tử**, tượng trưng cho batch size = 1.  \n",
        "- `FloatArray(2)`: Mỗi phần tử là một mảng chứa **2 giá trị float**, tương ứng với đầu ra `[cat_prob, dog_prob]`.  \n",
        "\n",
        "Tương tự trong Python 🐍, đầu ra có thể có dạng:  \n",
        "\n",
        "```python\n",
        "[[1.0, 0.0]]  # Xác suất 100% là mèo, 0% là chó\n",
        "```\n",
        "\n",
        "Tụi mình định nghĩa trong **Kotlin** như vậy, giống tương tự với đầu ra của mô hình trong **Python** á.  \n",
        "\n",
        "Cuối cùng, để chạy mô hình thì tụi mình chỉ cần dùng lệnh như lúc trước nha.  \n",
        "\n",
        "```kotlin\n",
        "interpreter.run(byteBuffer, result)\n",
        "```  "
      ],
      "metadata": {
        "id": "BDXHXHARvhWJ"
      }
    },
    {
      "cell_type": "markdown",
      "source": [
        "Uầy, coi như là hoàn thành rồi á. 🎉  \n",
        "\n",
        "Đúc kết lại thì theo mình cảm nhận nha.  \n",
        "\n",
        "Thực chất việc chuyển đổi sang sử dụng mô hình trong app **Android** cũng không khó lắm. Thứ duy nhất mà mọi người có thể cảm thấy hơi khó là việc xử lý dữ liệu khi mà chuyển đổi qua thì có tí bất cập.  \n",
        "\n",
        "- Trong **Python** 🐍 thì việc xử lý dữ liệu có vẻ trông nhẹ nhàng hơn nhiều với các thư viện hỗ trợ nhanh như **Numpy** chẳng hạn.  \n",
        "- Tuy nhiên, khi chuyển sang với **Kotlin** 📱 có khá nhiều thứ cầu kỳ hơn như là chúng ta cần phải xác định được chính xác kiểu dữ liệu hay cách chuyển đổi: **FloatArray, ByteBuffer, IntArray hay ByteBuffer,...**  \n",
        "\n",
        "Ấy, chỉ có như vậy thôi á.  \n",
        "\n",
        "Lý thuyết đủ nhiều rồi, bây giờ chúng ta đi vào xây dựng nhanh ứng dụng trên **Android Studio** nha. 💻🚀"
      ],
      "metadata": {
        "id": "4N9Y73QrwqTf"
      }
    },
    {
      "cell_type": "markdown",
      "source": [
        "# Xây dựng hoàn chỉnh ứng dụng."
      ],
      "metadata": {
        "id": "L4ECchKfxxJB"
      }
    },
    {
      "cell_type": "markdown",
      "source": [
        "Thêm thư viện cho hệ thống bên trong file **build.gradle.kts** của thư mục **app**.\n",
        "\n",
        "\n",
        "```kotlin\n",
        "implementation(\"org.tensorflow:tensorflow-lite:2.15.0\")\n",
        "```\n"
      ],
      "metadata": {
        "id": "ntNyrOq3xzyn"
      }
    },
    {
      "cell_type": "markdown",
      "source": [
        "![img](https://github.com/Tkag0001/AI_and_Machine_Learning_for_Coders/blob/main/images/Chapter_13_2/2.png?raw=true)"
      ],
      "metadata": {
        "id": "8VO2bh7vJNwC"
      }
    },
    {
      "cell_type": "markdown",
      "source": [
        "À nhớ là chỉnh luôn phần này trong **gradle** cho tương thích với thiết lập của mọi người, tránh bị tình trạng lỗi như lần trước nha. Ở mình thì sẽ là như này."
      ],
      "metadata": {
        "id": "7WV5dFct7UMt"
      }
    },
    {
      "cell_type": "markdown",
      "source": [
        "![img](https://github.com/Tkag0001/AI_and_Machine_Learning_for_Coders/blob/main/images/Chapter_13_2/3.png?raw=true)"
      ],
      "metadata": {
        "id": "sUtYnWKPJScf"
      }
    },
    {
      "cell_type": "markdown",
      "source": [
        "Sau khi xong thì nhấn **biểu tượng con voi** trên thanh công cụ trên cùng để sync với hệ thống nha."
      ],
      "metadata": {
        "id": "wFYU1gx27vVT"
      }
    },
    {
      "cell_type": "markdown",
      "source": [
        "Tiếp đến là tạo thư mục **assets** bên trong **main** và thêm mô hình vào như ở phần 1."
      ],
      "metadata": {
        "id": "cg0ktSIy09hF"
      }
    },
    {
      "cell_type": "markdown",
      "source": [
        "![img](https://github.com/Tkag0001/AI_and_Machine_Learning_for_Coders/blob/main/images/Chapter_13_2/4.png?raw=true)"
      ],
      "metadata": {
        "id": "Osv6wGWYJUk_"
      }
    },
    {
      "cell_type": "markdown",
      "source": [
        "Uki, bây giờ là đến phần giao diện bây trong file **activity_main.xml**. Mọi người có thể copy đoạn code dưới đây nha.\n",
        "\n",
        "```xml\n",
        "<?xml version=\"1.0\" encoding=\"utf-8\"?>\n",
        "<LinearLayout xmlns:android=\"http://schemas.android.com/apk/res/android\"\n",
        "    android:layout_width=\"match_parent\"\n",
        "    android:layout_height=\"match_parent\"\n",
        "    android:orientation=\"vertical\"\n",
        "    android:padding=\"16dp\">\n",
        "\n",
        "    <Button\n",
        "        android:id=\"@+id/selectButton\"\n",
        "        android:layout_width=\"wrap_content\"\n",
        "        android:layout_height=\"wrap_content\"\n",
        "        android:text=\"Chọn ảnh\" />\n",
        "\n",
        "    <ImageView\n",
        "        android:id=\"@+id/imageView\"\n",
        "        android:layout_width=\"match_parent\"\n",
        "        android:layout_height=\"0dp\"\n",
        "        android:layout_weight=\"1\"\n",
        "        android:scaleType=\"centerInside\"\n",
        "        android:contentDescription=\"Ảnh được chọn\" />\n",
        "\n",
        "    <TextView\n",
        "        android:id=\"@+id/resultView\"\n",
        "        android:layout_width=\"match_parent\"\n",
        "        android:layout_height=\"wrap_content\"\n",
        "        android:textSize=\"18sp\"\n",
        "        android:textAlignment=\"center\"\n",
        "        android:layout_marginTop=\"16dp\" />\n",
        "</LinearLayout>\n",
        "```\n",
        "\n"
      ],
      "metadata": {
        "id": "kCbyXhqA1ScN"
      }
    },
    {
      "cell_type": "markdown",
      "source": [
        "![img](https://github.com/Tkag0001/AI_and_Machine_Learning_for_Coders/blob/main/images/Chapter_13_2/5.png?raw=true)"
      ],
      "metadata": {
        "id": "g8O4Tnz3JXyg"
      }
    },
    {
      "cell_type": "markdown",
      "source": [
        "Tiếp đến là tạo thư viện **TFLiteModelHelper** giống như phần 1 nha.\n",
        "\n",
        "```kotlin\n",
        "package com.example.chapter_13_part_2\n",
        "\n",
        "import android.content.res.AssetManager\n",
        "import java.io.FileInputStream\n",
        "import java.nio.ByteBuffer\n",
        "import java.nio.channels.FileChannel\n",
        "\n",
        "object TFLiteModelHelper {\n",
        "    fun loadModelFile(assetManager: AssetManager, modelPath: String): ByteBuffer {\n",
        "        val fileDescriptor = assetManager.openFd(modelPath)\n",
        "        val inputStream = FileInputStream(fileDescriptor.fileDescriptor)\n",
        "        val fileChannel = inputStream.channel\n",
        "        val startOffset = fileDescriptor.startOffset\n",
        "        val declaredLength = fileDescriptor.declaredLength\n",
        "        return fileChannel.map(FileChannel.MapMode.READ_ONLY, startOffset, declaredLength)\n",
        "    }\n",
        "}\n",
        "```\n",
        "\n",
        "Mọi người nhớ điều chỉnh đoạn này cho giống với tên project của mọi người nha.\n",
        "\n",
        "\n",
        "```kotlin\n",
        "package com.example.chapter_13_part_2\n",
        "```\n",
        "\n"
      ],
      "metadata": {
        "id": "ejPJXSW92j3S"
      }
    },
    {
      "cell_type": "markdown",
      "source": [
        "Uki, hòm hòm rồi.\n",
        "\n",
        "Cuối cùng là tinh chỉnh lại code trong file **MainActivity** nữa rồi thiết lập device và chạy nha.\n",
        "\n",
        "```kotlin\n",
        "package com.example.chapter_13_part_2\n",
        "\n",
        "import android.app.Activity\n",
        "import android.content.Intent\n",
        "import android.graphics.Bitmap\n",
        "import android.net.Uri\n",
        "import android.os.Bundle\n",
        "import android.provider.MediaStore\n",
        "import android.widget.Button\n",
        "import android.widget.ImageView\n",
        "import android.widget.TextView\n",
        "import android.widget.Toast\n",
        "import androidx.appcompat.app.AppCompatActivity\n",
        "import org.tensorflow.lite.Interpreter\n",
        "import java.io.IOException\n",
        "import java.nio.ByteBuffer\n",
        "import java.nio.ByteOrder\n",
        "\n",
        "class MainActivity : AppCompatActivity() {\n",
        "    private lateinit var interpreter: Interpreter\n",
        "    private lateinit var selectButton: Button\n",
        "    private lateinit var imageView: ImageView\n",
        "    private lateinit var resultView: TextView\n",
        "    private val REQUEST_IMAGE = 1\n",
        "\n",
        "    override fun onCreate(savedInstanceState: Bundle?) {\n",
        "        super.onCreate(savedInstanceState)\n",
        "        setContentView(R.layout.activity_main)\n",
        "\n",
        "        selectButton = findViewById(R.id.selectButton)\n",
        "        imageView = findViewById(R.id.imageView)\n",
        "        resultView = findViewById(R.id.resultView)\n",
        "\n",
        "        try {\n",
        "            val modelBuffer = TFLiteModelHelper.loadModelFile(assets, \"model_transfer_mobilenet.tflite\")\n",
        "            interpreter = Interpreter(modelBuffer)\n",
        "        } catch (e: IOException) {\n",
        "            Toast.makeText(this, \"Lỗi khi tải mô hình\", Toast.LENGTH_LONG).show()\n",
        "            finish()\n",
        "        }\n",
        "\n",
        "        selectButton.setOnClickListener {\n",
        "            val intent = Intent(Intent.ACTION_PICK, MediaStore.Images.Media.EXTERNAL_CONTENT_URI)\n",
        "            startActivityForResult(intent, REQUEST_IMAGE)\n",
        "        }\n",
        "    }\n",
        "\n",
        "    override fun onActivityResult(requestCode: Int, resultCode: Int, data: Intent?) {\n",
        "        super.onActivityResult(requestCode, resultCode, data)\n",
        "        if (requestCode == REQUEST_IMAGE && resultCode == Activity.RESULT_OK && data != null) {\n",
        "            try {\n",
        "                val selectedImage: Uri? = data.data\n",
        "                val bitmap = MediaStore.Images.Media.getBitmap(contentResolver, selectedImage)\n",
        "                imageView.setImageBitmap(bitmap)\n",
        "\n",
        "                // Xử lý ảnh và chạy suy luận\n",
        "                val inputBuffer = preprocessImage(bitmap)\n",
        "                val output = runInference(inputBuffer)\n",
        "                displayResult(output)\n",
        "            } catch (e: IOException) {\n",
        "                Toast.makeText(this, \"Lỗi khi tải ảnh\", Toast.LENGTH_LONG).show()\n",
        "            }\n",
        "        }\n",
        "    }\n",
        "\n",
        "    private fun preprocessImage(bitmap: Bitmap): ByteBuffer {\n",
        "        val inputWidth = 224 // Kích thước đầu vào của mô hình\n",
        "        val inputHeight = 224\n",
        "        val scaledBitmap = Bitmap.createScaledBitmap(bitmap, inputWidth, inputHeight, false)\n",
        "        val intValues = IntArray(inputWidth * inputHeight)\n",
        "        scaledBitmap.getPixels(intValues, 0, inputWidth, 0, 0, inputWidth, inputHeight)\n",
        "\n",
        "        val byteBuffer = ByteBuffer.allocateDirect(4 * inputWidth * inputHeight * 3)\n",
        "        byteBuffer.order(ByteOrder.nativeOrder())\n",
        "\n",
        "        for (i in 0 until inputWidth) {\n",
        "            for (j in 0 until inputHeight) {\n",
        "                val pixel = intValues[i * inputWidth + j]\n",
        "                byteBuffer.putFloat(((pixel shr 16) and 0xFF) / 255.0f) // R\n",
        "                byteBuffer.putFloat(((pixel shr 8) and 0xFF) / 255.0f)  // G\n",
        "                byteBuffer.putFloat((pixel and 0xFF) / 255.0f)         // B\n",
        "            }\n",
        "        }\n",
        "        return byteBuffer\n",
        "    }\n",
        "\n",
        "    private fun runInference(inputBuffer: ByteBuffer): FloatArray {\n",
        "        val output = Array(1) { FloatArray(2) } // Giả sử mô hình có 2 lớp đầu ra\n",
        "        interpreter.run(inputBuffer, output)\n",
        "        return output[0]\n",
        "    }\n",
        "\n",
        "    private fun displayResult(output: FloatArray) {\n",
        "        val labels = arrayOf(\"Mèo\", \"Chó\") // Điều chỉnh theo nhãn của mô hình\n",
        "        val maxIndex = output.indices.maxByOrNull { output[it] } ?: -1\n",
        "        val resultText = if (maxIndex != -1) {\n",
        "            \"Dự đoán: ${labels[maxIndex]} với độ tin cậy %.2f%%\".format(output[maxIndex] * 100)\n",
        "        } else {\n",
        "            \"Không thể dự đoán\"\n",
        "        }\n",
        "        resultView.text = resultText\n",
        "    }\n",
        "}\n",
        "```\n",
        "\n"
      ],
      "metadata": {
        "id": "9ZV2WPk82wLw"
      }
    },
    {
      "cell_type": "markdown",
      "source": [
        "Mọi người nhớ điều chỉnh đoạn này cho giống với tên project của mọi người nha.\n",
        "\n",
        "\n",
        "```kotlin\n",
        "package com.example.chapter_13_part_2\n",
        "```"
      ],
      "metadata": {
        "id": "8enmFNH6-pql"
      }
    },
    {
      "cell_type": "markdown",
      "source": [
        "![img](https://github.com/Tkag0001/AI_and_Machine_Learning_for_Coders/blob/main/images/Chapter_13_2/6.png?raw=true)"
      ],
      "metadata": {
        "id": "9bnQOqJ4JbAq"
      }
    },
    {
      "cell_type": "markdown",
      "source": [
        "Xong thì ấn lại một lần cho chắc rồi mới thiết lập thiết bị nha (bạn nào thiết lập ở phần 1 rồi thì hệ thống tự lưu nên không cần tạo lại, chỉ cần chọn thôi).\n",
        "\n",
        "Thiết lập xong thì nhấn **Run (nút mũi tên play ở trên)** là xong nha."
      ],
      "metadata": {
        "id": "htP0iEEI30gj"
      }
    },
    {
      "cell_type": "markdown",
      "source": [
        "![img](https://github.com/Tkag0001/AI_and_Machine_Learning_for_Coders/blob/main/images/Chapter_13_2/7.png?raw=true)"
      ],
      "metadata": {
        "id": "HgxA6DoJJexd"
      }
    },
    {
      "cell_type": "markdown",
      "source": [
        "Ở đây mình thử tải ảnh một con chó về và test thử nha."
      ],
      "metadata": {
        "id": "L38M8noe-_6O"
      }
    },
    {
      "cell_type": "markdown",
      "source": [
        "![img](https://github.com/Tkag0001/AI_and_Machine_Learning_for_Coders/blob/main/images/Chapter_13_2/8.png?raw=true)"
      ],
      "metadata": {
        "id": "OXxFYp82Jg68"
      }
    },
    {
      "cell_type": "markdown",
      "source": [
        "Kết quả đây nha."
      ],
      "metadata": {
        "id": "uYYWC15k_vMa"
      }
    },
    {
      "cell_type": "markdown",
      "source": [
        "![img](https://github.com/Tkag0001/AI_and_Machine_Learning_for_Coders/blob/main/images/Chapter_13_2/9.png?raw=true)"
      ],
      "metadata": {
        "id": "ibEenhtyJjYe"
      }
    },
    {
      "cell_type": "markdown",
      "source": [
        "# Góc mở mang. 🐟"
      ],
      "metadata": {
        "id": "CHxTQENfAp-l"
      }
    },
    {
      "cell_type": "markdown",
      "source": [
        "![meme](https://th.bing.com/th/id/OIP.Vz_8_bhcQgpz53z5JxuxOAHaFm?w=237&h=180&c=7&r=0&o=5&dpr=1.4&pid=1.7)"
      ],
      "metadata": {
        "id": "SC6GkW3rBNSy"
      }
    },
    {
      "cell_type": "markdown",
      "source": [
        "### **Tạo mã tự động từ mô hình TensorFlow Lite**  \n",
        "\n",
        "Hiện tại, TensorFlow Lite cung cấp một **công cụ thử nghiệm** giúp **tạo mã tự động** từ metadata của mô hình. Điều này giúp bạn tránh phải xử lý trực tiếp với **ByteBuffer cấp thấp** như đã làm trong các phần trước.  \n",
        "\n",
        "#### **Cách sử dụng:**  \n",
        "1. **Thêm metadata vào mô hình TensorFlow Lite** khi thực hiện chuyển đổi (`.tflite`).  \n",
        "2. **Sử dụng công cụ tạo mã** để tự động sinh ra các đoạn code tương tác với mô hình.  \n",
        "\n",
        "#### **Tham khảo thêm:**  \n",
        "- **Tài liệu chính thức của TensorFlow Lite** để xem cách tạo metadata cho mô hình.  \n",
        "- **Thư viện TensorFlow Lite Model Maker**, giúp đơn giản hóa quá trình huấn luyện và triển khai mô hình trên Android.  \n",
        "\n",
        "💡 **Lợi ích:**  \n",
        "✅ Giảm bớt xử lý thủ công với `ByteBuffer`.  \n",
        "✅ Dễ dàng sử dụng mô hình mà không cần thao tác dữ liệu phức tạp.  \n",
        "✅ Tăng tốc độ phát triển ứng dụng AI trên Android. 🚀"
      ],
      "metadata": {
        "id": "gNGqC5TZBXG9"
      }
    },
    {
      "cell_type": "markdown",
      "source": [
        "# Tài liệu tham khảo: 📚🔗  \n",
        "\n",
        "Ngoài ra, mọi người cũng có thể tham khảo thêm nhiều ứng dụng khác sử dụng **TensorFlow Lite** [ở đây](https://github.com/margaretmz/awesome-tensorflow-lite?tab=readme-ov-file) nha.  \n",
        "\n",
        "Chúng bao gồm nhiều dự án khác nhau như là: phân loại ảnh 🖼️, hỏi và trả lời ❓💡, nhận diện bàn tay ✋,..."
      ],
      "metadata": {
        "id": "b-Vrd407B6v9"
      }
    },
    {
      "cell_type": "markdown",
      "source": [
        "# Tổng kết hết chương 3: 🎯  \n",
        "\n",
        "Tụi mình đã học thêm được nhiều thứ hay ho từ việc ứng dụng mô hình **TensorFlow** vào bên trong ứng dụng **Android**, qua đó mở rộng thêm khả năng triển khai dự án.  \n",
        "\n",
        "- Cách xử lý file **build.gradle.kts** ⚙️.  \n",
        "- Thiết kế giao diện trong file **activity_main.xml** 🎨.  \n",
        "- Thiết kế luồng xử lý chính trong file **MainActivity.kt** 🏗️."
      ],
      "metadata": {
        "id": "sDeZ9HUVCYfm"
      }
    },
    {
      "cell_type": "markdown",
      "source": [
        "Cảm ơn mọi người đã quan tâm và theo dõi nha! 💖 Nếu thấy hay, có thể cho mình xin **1 sao** ⭐ trên repository nha.  \n",
        "\n",
        "### Thông tin liên lạc 📩  \n",
        "- **Email**: trinhhuynhthinhkhang.work@gmail.com  \n",
        "- **Page Facebook**: Nhật ký học tập của Khang  \n",
        "\n",
        "Mọi người có thể ủng hộ mình **ly cà phê** ☕ thông qua QR sau nha. Mình sẽ vui cả ngày luôn ý! 😆  \n",
        "\n",
        "<img src=\"https://github.com/Tkag0001/Tkag0001/blob/main/imgs/uzc4uwus.png?raw=true\" width=\"150px\">"
      ],
      "metadata": {
        "id": "vlJHnrKbEK3R"
      }
    }
  ]
}