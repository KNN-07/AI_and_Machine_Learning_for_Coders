{
  "nbformat": 4,
  "nbformat_minor": 0,
  "metadata": {
    "colab": {
      "provenance": [],
      "authorship_tag": "ABX9TyM1A/tx8YeD98RmzYCYaTKA",
      "include_colab_link": true
    },
    "kernelspec": {
      "name": "python3",
      "display_name": "Python 3"
    },
    "language_info": {
      "name": "python"
    }
  },
  "cells": [
    {
      "cell_type": "markdown",
      "metadata": {
        "id": "view-in-github",
        "colab_type": "text"
      },
      "source": [
        "<a href=\"https://colab.research.google.com/github/Tkag0001/AI_and_Machine_Learning_for_Coders/blob/main/Chapter_9_Understanding_Sequence_and_Time_Series_Data.ipynb\" target=\"_parent\"><img src=\"https://colab.research.google.com/assets/colab-badge.svg\" alt=\"Open In Colab\"/></a>"
      ]
    },
    {
      "cell_type": "markdown",
      "source": [
        "# Chapter 9: Understanding Sequence and Time Series Data\n",
        "\n",
        "Hi, chào mọi người, tụi mình lại có thể gặp nhau rồi. 🎉\n",
        "\n",
        "Nếu như bữa giờ tụi mình đã tìm hiểu về dữ liệu chuỗi văn bản, thì hôm nay tụi mình sẽ tiếp tục mở rộng ra hơn với các dữ liệu chuỗi được sắp xếp, biến thiên theo thời gian nha. Chúng có thể là bất kỳ dữ liệu gì có tính chất liên tiếp, biến đổi theo thời gian mà chúng ta gặp trong cuộc sống. Ví dụ như là giá cổ phiếu hàng ngày, hàng tuần, hàng tháng, hàng năm, hay lượng mưa đo đạc được qua từng tháng, dự báo thời tiết chẳng hạn. ☔📈\n",
        "\n"
      ],
      "metadata": {
        "id": "bDIp8MJMcKDj"
      }
    },
    {
      "cell_type": "markdown",
      "source": [
        "Về dữ liệu chuỗi thời gian, chúng ta có thể chia làm 2 loại chính là: **Multivariate time series** và **Univariate time series**. 📊✨\n",
        "\n"
      ],
      "metadata": {
        "id": "7NbCp8D4fCR_"
      }
    },
    {
      "cell_type": "markdown",
      "source": [
        "![time_series](https://webimages.mongodb.com/_com_assets/cms/kz333w53m4bk2i8ma-image5.png?auto=format%252Ccompress)"
      ],
      "metadata": {
        "id": "9oN_ukSRtw7D"
      }
    },
    {
      "cell_type": "markdown",
      "source": [
        "- **Multivariate time series**: Chuỗi thời gian đa biến, là dạng dữ liệu mà xuyên suốt theo thời gian có thể có từ 2 biến dữ liệu hay 2 loại giá trị trở lên. Điển hình như biểu đồ từ định luật **Moore** dưới đây chẳng hạn, bao gồm 2 loại dữ liệu là dự đoán và thực tế. 📈\n",
        "\n",
        "   ***P/s: Cho bạn nào chưa biết, định luật Moore là để chỉ quy luật dự đoán số lượng transistor trong một vi mạch sẽ tăng gấp đôi sau mỗi 2 năm.*** 💡"
      ],
      "metadata": {
        "id": "agl-QArPtum_"
      }
    },
    {
      "cell_type": "markdown",
      "source": [
        "Biểu đồ dự đoán theo định luật Moore trong khoảng 50 năm."
      ],
      "metadata": {
        "id": "LWc9ocWohFTd"
      }
    },
    {
      "cell_type": "markdown",
      "source": [
        "![moore](https://github.com/Tkag0001/AI_and_Machine_Learning_for_Coders/blob/main/images/Chapter_9/moore.png?raw=true)"
      ],
      "metadata": {
        "id": "-0KXlWtmhYIS"
      }
    },
    {
      "cell_type": "markdown",
      "source": [
        "Ở đây, mọi người có thể thấy đường màu xanh đại diện cho giá trị thực tế và đường màu cam đại diện cho giá trị dự đoán được dựa trên định luật **Moore**. 📉🔶"
      ],
      "metadata": {
        "id": "JqDI2zjflRiu"
      }
    },
    {
      "cell_type": "markdown",
      "source": [
        "- **Univariate time series**: Chuỗi thời gian đơn biến, là dạng dữ liệu theo thời gian nhưng chỉ có một biến, một loại giá trị.  \n",
        "  Ví dụ như dữ liệu biểu đồ tốc độ gió theo thời gian dưới đây nha. 🌬️📅  "
      ],
      "metadata": {
        "id": "nEGTodkYlg0R"
      }
    },
    {
      "cell_type": "markdown",
      "source": [
        "![wind_speed](https://www.researchgate.net/profile/Milton-Garces/publication/2549150/figure/fig5/AS:667833209995264@1536235253029/Track-speed-and-maximum-wind-speed-for-Daniel.ppm)"
      ],
      "metadata": {
        "id": "Zcxulhldukwu"
      }
    },
    {
      "cell_type": "markdown",
      "source": [
        "Vậy là chúng ta đã hiểu rồi như thế nào gọi là dữ liệu chuỗi thời gian rồi ha. Đối với dữ liệu trong định luật **Moore**, quy tắc dự đoán thật sự rất đơn giản và nó cũng khớp với dữ liệu, giúp mọi người trong khoảng 50 năm. 🕰️📐\n",
        "\n",
        "> **Tuy nhiên, với các dữ liệu biến động hơn như hình dưới đây thì chúng ta phải làm sao đây?** 🤔📊  "
      ],
      "metadata": {
        "id": "KX_OvsQw540H"
      }
    },
    {
      "cell_type": "markdown",
      "source": [
        "![artifical_data](https://github.com/Tkag0001/AI_and_Machine_Learning_for_Coders/blob/main/images/Chapter_9/artifical_data.png?raw=true)"
      ],
      "metadata": {
        "id": "NymBm4OH66A0"
      }
    },
    {
      "cell_type": "markdown",
      "source": [
        "Tuy nhìn qua thông thường, mọi người có thể thấy nó khá nhiễu và ngẫu nhiên, nhưng thực tế chúng vẫn ẩn chứa các đặc tính, đặc điểm chung nào đó mà chúng ta có thể tận dụng được. Từ đó, chúng ta có thể tiến hành dự đoán dữ liệu hoặc các sự kiện trong tương lai. 🔍📈\n",
        "\n",
        "Vậy các đặc tính, đặc trưng đó là gì? Chúng ta cùng tìm hiểu ở phần tiếp theo nha. 🚀📖"
      ],
      "metadata": {
        "id": "WZU81lVM7As4"
      }
    },
    {
      "cell_type": "markdown",
      "source": [
        "# Common Attributes of Time Series (Các đặc tính thông thường của dữ liệu chuỗi thời gian)\n",
        "\n",
        "Tuy là dữ liệu đôi lúc có thể mang tính ngẫu nhiên và nhiễu khá nhiều, nhưng chúng ta vẫn có thể tìm được các đặc điểm, đặc tính để quan sát, học và dự đoán được. 📊🔍\n",
        "\n",
        "Tụi mình sẽ cùng đi khám phá các đặc điểm đó nha. 🚀✨"
      ],
      "metadata": {
        "id": "UL1uEE7s7qGT"
      }
    },
    {
      "cell_type": "markdown",
      "source": [
        "## Trend (Tính xu hướng)\n",
        "\n",
        "Điển hình của đặc tính này mà mọi người thấy là chúng sẽ đi theo một hướng liên tục. Ví dụ như trong trường hợp dự đoán của định luật **Moore**, dữ liệu thực tế cứ đi theo một hướng tăng lên liên tục, chúng ta có thể gọi nó là có tính **xu hướng tăng (upward trend)**. 📈\n",
        "\n",
        "> **Vậy trong trường hợp xu hướng giảm thì sao?**\n",
        "\n",
        "Chúng ta sẽ gọi nó là có tính **xu hướng giảm (downward trend)**. 📉\n",
        "\n",
        "Dân chứng khoán hay tiền ảo thì chắc không lạ gì cái này rồi ha mọi người. 😄  \n",
        "Mọi người thường hay gọi nhanh là **Uptrend** và **Downtrend**. 💹"
      ],
      "metadata": {
        "id": "rgamWN8D8jwp"
      }
    },
    {
      "cell_type": "markdown",
      "source": [
        "## Seasonality (Tính chu kỳ theo mùa, mùa vụ)\n",
        "\n",
        "Tính **seasonality** dùng để chỉ đặc điểm lặp đi lặp lại một mẫu trong dữ liệu chuỗi thời gian với số lần lặp đều đặn theo thời gian. Điển hình như thời tiết theo mùa, lượng mưa, hay nhiệt độ theo các mùa trong năm. Khi bạn vẽ biểu đồ, sẽ dễ dàng thấy được sự lặp đi lặp lại của các đỉnh hoặc sự tăng giảm theo chu kỳ. 🌦️📅\n",
        "\n",
        "Ngoài ra, tính **seasonality** không chỉ giới hạn ở ý nghĩa \"mùa\" trong năm mà còn áp dụng cho các hiện tượng có chu kỳ lặp lại theo thời gian. \"Mùa\" ở đây chủ yếu để hiểu là một khoảng thời gian. ⏳\n",
        "\n",
        "Một ví dụ về đặc tính mùa vụ, chu kỳ không liên quan đến nghĩa **\"mùa trong năm\"**, là lưu lượng dữ liệu của một website. Khi vẽ biểu đồ, bạn sẽ thấy sự lặp lại vào các khung thời gian cố định, như trong ngày hay trong tuần. 📊💻"
      ],
      "metadata": {
        "id": "CCII2Xtc-84z"
      }
    },
    {
      "cell_type": "markdown",
      "source": [
        "![website_traffic](https://github.com/Tkag0001/AI_and_Machine_Learning_for_Coders/blob/main/images/Chapter_9/website_traffic.png?raw=true)"
      ],
      "metadata": {
        "id": "uHtbr5NPDKsT"
      }
    },
    {
      "cell_type": "markdown",
      "source": [
        "Hình ảnh trên chính là lưu lượng truy cập của một website được vẽ theo từng tuần. Mọi người có thể thấy chúng có dấu hiệu tăng giảm đều đặn ha. 📈📉\n",
        "\n",
        "Theo như tác giả cung cấp, lưu lượng truy cập sẽ giảm vào các dịp cuối tuần. Dựa trên điều này, chúng ta có thể suy đoán đây là một trang web liên quan đến công việc. 💼🖥️  \n",
        "\n",
        "Qua những phân tích trên, ta có thể chắc chắn rằng dữ liệu này có **tính chu kỳ, mùa vụ** liên quan đến việc lưu lượng truy cập giảm vào cuối tuần. 🌐⏳"
      ],
      "metadata": {
        "id": "G3A2VRjkDPPa"
      }
    },
    {
      "cell_type": "markdown",
      "source": [
        "![zoom_website_traffic](https://github.com/Tkag0001/AI_and_Machine_Learning_for_Coders/blob/main/images/Chapter_9/zoom_website_traffic.png?raw=true)"
      ],
      "metadata": {
        "id": "VJCCLYZSMvZ7"
      }
    },
    {
      "cell_type": "markdown",
      "source": [
        "Ngoài ra, tác giả cũng cung cấp thêm thông tin rằng dữ liệu được thu thập xuyên suốt qua các tháng, với các dịp lễ lớn như **Giáng Sinh** và **Năm mới** nằm gần giữa biểu đồ. Ở các khoảng thời gian này, lưu lượng truy cập thay đổi hình dáng và có phần giảm ít hơn so với cuối tuần thông thường. 📅🎄🎉  \n",
        "\n",
        "Qua đó, chúng ta có thể nhận diện thêm một **đặc điểm, đặc tính mùa vụ, chu kỳ mới**. Nếu vẽ biểu đồ theo từng năm, sự lặp lại của đặc điểm này sẽ càng rõ ràng hơn. 📊✨  \n",
        "\n",
        "Qua phân tích dữ liệu, chúng ta nhận xét rằng có 2 đặc điểm mang tính **mùa vụ, chu kỳ**:  \n",
        "- Lưu lượng truy cập sẽ giảm vào **cuối tuần**. 🗓️  \n",
        "- Lưu lượng truy cập sẽ giảm vào **các dịp lễ lớn, như Giáng Sinh và Năm mới**. 🎅🎆  "
      ],
      "metadata": {
        "id": "y-CgQWrAM02q"
      }
    },
    {
      "cell_type": "markdown",
      "source": [
        "## Autocorrelation (Tính tự tương quan)\n",
        "\n",
        "Tính **tự tương quan** dùng để chỉ đặc trưng của dữ liệu khi các giá trị hoặc hành vi dự đoán được có mối tương quan, liên kết, và chịu ảnh hưởng bởi các dữ liệu hoặc sự kiện trong quá khứ. 🔗📊\n",
        "\n",
        "Ví dụ điển hình là dữ liệu và biểu đồ chứng khoán dưới đây. Các biến động giá trong tương lai thường phản ánh một phần các xu hướng hoặc hành vi từ quá khứ, như khi giá tăng hoặc giảm theo một chuỗi liên tục. 📈📉  "
      ],
      "metadata": {
        "id": "RZBCa6AFN7av"
      }
    },
    {
      "cell_type": "markdown",
      "source": [
        "![autocorrelation](https://github.com/Tkag0001/AI_and_Machine_Learning_for_Coders/blob/main/images/Chapter_9/autocorrelation.png?raw=true)"
      ],
      "metadata": {
        "id": "fCdmBSVKPSpX"
      }
    },
    {
      "cell_type": "markdown",
      "source": [
        "Bạn có thể nhận ra một hành vi dễ thấy là: cứ sau mỗi lần tạo đỉnh, giá trị sẽ có xu hướng giảm rất nhiều, cho đến khi chạm đáy hoặc không giảm được nữa. 📉✨  \n",
        "\n",
        "Cái này giống y hệt mấy đồng coin mới được đưa lên sàn crypto sau thời gian tích trữ nè! 🤣  \n",
        "Vừa ra mắt mọi người đua nhau mua rồi giá cao chót vót, mọi người lại đua nhau bán tháo, thế là giá giảm liên tục. 💸🔻"
      ],
      "metadata": {
        "id": "QvLUcN0QPUn_"
      }
    },
    {
      "cell_type": "markdown",
      "source": [
        "## Noise (Tính nhiễu)\n",
        "\n",
        "Cái này thì nghe tên là mọi người hiểu liền ha! 😁  \n",
        "**Noise** dùng để chỉ các yếu tố gây nhiễu hoặc nhầm lẫn trong dữ liệu. Trái ngược với tính **seasonality** hay **autocorrelation**, **noise** làm cho mô hình dự đoán kém hiệu quả hơn, làm giảm độ chính xác. 🌪️📉  \n",
        "\n",
        "Ví dụ, nếu lấy biểu đồ dữ liệu chứng khoán ở mục **Autocorrelation** và thêm chút nhiễu vào, bạn sẽ thấy các dao động bất thường không liên quan đến xu hướng chính, khiến việc phân tích trở nên khó khăn hơn. 🎛️✨  "
      ],
      "metadata": {
        "id": "vAezc3quP8Dh"
      }
    },
    {
      "cell_type": "markdown",
      "source": [
        "![noise](https://github.com/Tkag0001/AI_and_Machine_Learning_for_Coders/blob/main/images/Chapter_9/noise.png?raw=true)"
      ],
      "metadata": {
        "id": "BjURP4ZCRKOP"
      }
    },
    {
      "cell_type": "markdown",
      "source": [
        "Uầy, mọi người có thể thấy các đường biểu diễn dữ liệu đã trở nên khó nhận biết hơn nhiều rồi nè. 📉✨  \n",
        "Chúng dao động lên xuống một cách nhiễu loạn, khiến việc nhìn ra quy luật hoặc xu hướng rõ ràng trở nên khó khăn hơn hẳn. 🌪️🤔  "
      ],
      "metadata": {
        "id": "rrPij3S_RNbl"
      }
    },
    {
      "cell_type": "markdown",
      "source": [
        "# Techniques for Predicting Time Series  \n",
        "## (Các kỹ thuật dự đoán chuỗi thời gian)  \n",
        "\n",
        "Bây giờ, tụi mình sẽ cùng tìm hiểu về các phương pháp cơ bản để dự đoán với chuỗi dữ liệu thời gian nha. 📊✨  \n",
        "Các bạn yên tâm, những phương pháp dưới đây siêu cơ bản và chưa hề đụng đến **Machine Learning** đâu. 🤓  \n",
        "\n",
        "Những phương pháp này giúp chúng ta xác định được **đường cơ bản (baseline)**, từ đó đánh giá độ chính xác của các mô hình học máy trong việc dự đoán.  \n",
        "\n",
        "***P/s: Mọi người có thể hiểu đơn giản baseline là kết quả từ một mô hình hoặc kỹ thuật đơn giản ban đầu. Nó được dùng làm cơ sở tham chiếu để so sánh và đánh giá hiệu quả của các kết quả cải tiến sau này.*** 🚀"
      ],
      "metadata": {
        "id": "R5Do66QYslif"
      }
    },
    {
      "cell_type": "markdown",
      "source": [
        "## Naive Prediction to Create a Baseline  \n",
        "## (Các dự đoán đơn giản để tạo nên đường cơ sở)  \n",
        "\n",
        "Bây giờ, tụi mình sẽ đến với phương pháp dự đoán đơn giản nhất nha. 📈✨  \n",
        "Đó chính là: **kết quả dự đoán trong tương lai sẽ bằng với kết quả thực tế trước đó.**  \n",
        "\n",
        "Cụ thể, giá trị dự đoán tại thời điểm **t + 1** sẽ bằng với giá trị thực tế tại thời điểm **t**.  \n",
        "\n",
        "Đây là một cách dễ hiểu và nhanh chóng để thiết lập **baseline**, dù không chính xác trong mọi trường hợp nhưng rất hữu ích làm bước khởi đầu. 😊"
      ],
      "metadata": {
        "id": "ajb-6aY3vy8X"
      }
    },
    {
      "cell_type": "markdown",
      "source": [
        "Tụi mình sẽ thử tạo ra một bộ dữ liệu nhân tạo có đầy đủ tất cả các tính chất, bao gồm:  \n",
        "\n",
        "- **Tính xu hướng (Trend)**  \n",
        "- **Tính chu kỳ, mùa vụ (Seasonality)**  \n",
        "- **Tính nhiễu (Noise)**  \n",
        "\n",
        "Sau đó, tụi mình sẽ áp dụng các kỹ thuật dự đoán để kiểm tra xem hiệu quả như thế nào nha. 🎛️📊✨  "
      ],
      "metadata": {
        "id": "hM6E_QMSwn8C"
      }
    },
    {
      "cell_type": "code",
      "source": [
        "import matplotlib.pyplot as plt\n",
        "import numpy as np"
      ],
      "metadata": {
        "id": "iTs0LNny6yRJ"
      },
      "execution_count": null,
      "outputs": []
    },
    {
      "cell_type": "code",
      "execution_count": null,
      "metadata": {
        "id": "3DWIvJx1bcrr"
      },
      "outputs": [],
      "source": [
        "def plot_series(time, series, format=\"-\", start=0, end=None):\n",
        "  \"\"\"\n",
        "  Hàm này dùng để vẽ dữ liệu chuỗi thời gian trong một khung thời gian\n",
        "\n",
        "  Tham số đầu vào:\n",
        "  - time: khoảng thời gian xảy ra\n",
        "  - series: chuỗi giá trị tương ứng trong thời gian đó\n",
        "  - start: thời gian bắt đầu\n",
        "  - end: thời gian kết thúc\n",
        "  \"\"\"\n",
        "\n",
        "  plt.plot(time[start:end], series[start:end], format)\n",
        "  plt.xlabel(\"Time\")\n",
        "  plt.ylabel(\"Value\")\n",
        "  plt.grid(True)\n",
        "\n",
        "\n",
        "def trend(time, slope=0):\n",
        "  \"\"\"\n",
        "  Hàm này giúp điều hướng xu hướng của dữ liệu, giống với phương trình bậc 1\n",
        "\n",
        "  Tham số đầu vào:\n",
        "  - time: khoảng thời gian xảy ra\n",
        "  - slope: độ dốc của dữ liệu.\n",
        "    + Nếu giá trị dương thì đường thẳng hưởng lên, ta có xu hướng Uptrend\n",
        "    + Nếu giá trị âm thì chúng ta có xu hướng Downtrend\n",
        "\n",
        "  Kết quả trả về:\n",
        "  - series: danh sách giá trị theo xu hướng thời gian\n",
        "  \"\"\"\n",
        "  return slope * time\n",
        "\n",
        "\n",
        "def seasonal_pattern(season_time):\n",
        "  \"\"\"\n",
        "  Hàm này dùng để tạo ra mẫu dữ liệu trong 1 mùa.\n",
        "  Ở đây mình chia làm 2 pha tính, logic tính toán như sau nha:\n",
        "  - Nếu thời gian mùa < 0.4, tiến hành tính theo dao động cosine: np.cos(season_time *2 *np.pi)\n",
        "  - Nếu thời gian mùa > 0.4, tiến hành tính theo hàm suy giảm mũ:  1 / np.exp(3 * season_time)\n",
        "\n",
        "  Tham số đầu vào:\n",
        "  - thời gian của mùa\n",
        "\n",
        "  Kết quả trả về:\n",
        "  - res: kết quả tính ra được từ logic tính toán nằm trong khoảng [-1, 1]\n",
        "  \"\"\"\n",
        "  res = np.where(season_time<0.4,\n",
        "                 np.cos(season_time * 2 *np.pi),\n",
        "                 1 / np.exp(3 * season_time))\n",
        "  return res\n",
        "\n",
        "def seasonality(time, period, amplitude=1, phase=0):\n",
        "  \"\"\"\n",
        "  Hàm này để lặp lại, tạo nên thời gian cho các mùa nha.\n",
        "  Logic tính toán sẽ như sau:\n",
        "  - time % period sẽ ra giá trị trong khoảng [0, period - 1] -> tạo ra được các lần lặp thời gian của mùa [0->period-1, 0->period-1,...]\n",
        "  - / period sẽ tiến hành chuẩn hóa lại thời gian của mùa về khoảng [0, 1]\n",
        "  - Chạy seasion time vô hàm seasonal_pattern để tạo ra chuỗi giá trị tương ứng với dãy thời gian của các mùa, giá trị nằm trong khoảng [-1, 1]\n",
        "  - amplitude * seasonal_pattern, ta tiến hành nhân biên độ dao động với chuỗi giá trị thì giá trị cuối cùng sẽ trong khoảng [-amplitude, amplitude]\n",
        "\n",
        "  Tham số đầu vào:\n",
        "  - time: khoảng thời gian xảy ra\n",
        "  - period: khoảng thời gian của một mùa\n",
        "  - amplitude: biên độ dao động tối đa của dữ liệu, ví dụ mình để là 15 thì sẽ dao động trong khoảng giá trị từ -15 đến 15\n",
        "  - phase: độ lệch pha, ví dụ nếu ta gán 15, thay vì mùa vụ bắt đầu từ thời điểm t = 0 thì bị lệch đi 15 bước thời gian tức bắt đầu vào t = 15\n",
        "\n",
        "  Kết quả trả về:\n",
        "  - res: dữ liệu mang tính chu kỳ, mùa vụ\n",
        "  \"\"\"\n",
        "  season_time = ((time + phase) % period) / period\n",
        "  res = amplitude * seasonal_pattern(season_time)\n",
        "  return res\n",
        "\n",
        "\n",
        "def noise(time, noise_level=1, seed=None):\n",
        "  \"\"\"\n",
        "  Hàm này để tạo tính nhiễu cho dữ liệu\n",
        "  Logic tính toán như sau:\n",
        "  - rnd.rand(len(time)) trả về một dãy giá trị có độ lớn trong khoảng [0,1),\n",
        "   số lượng giá trị bằng số bước thời gian\n",
        "  - Sau đó nhân với noise_level sẽ ra giá trị trong khoảng [0, noise_level)\n",
        "\n",
        "  Tham số đầu vào:\n",
        "  - time: khoảng thời gian xảy ra.\n",
        "  - noise_level: cấp độ nhiễu của dữ liệu\n",
        "  - seed: nếu để giá trị khác None, thì ở các lần chạy sau,\n",
        "  khi giá trị seed bằng nhau thì giá trị ngẫu nhiên tạo ra cũng bằng nhau\n",
        "\n",
        "  Kết quả đầu ra:\n",
        "  - res: dữ liệu mang tính nhiếu\n",
        "  \"\"\"\n",
        "  rnd = np.random.RandomState(seed)\n",
        "  res = rnd.rand(len(time)) * noise_level\n",
        "  return res\n"
      ]
    },
    {
      "cell_type": "markdown",
      "source": [
        "Ở dưới đây mọi người có thể tự ý thay đổi tham sao để tạo và quan sát dữ liệu thêm nha."
      ],
      "metadata": {
        "id": "mN5X3q3u_Hdm"
      }
    },
    {
      "cell_type": "code",
      "source": [
        "# Tiến hành tạo dữ liệu\n",
        "time = np.arange(4 * 365 + 1, dtype='float32')\n",
        "base_line = 10 # Giá trị cơ sở ban đầu\n",
        "amplitude = 15 # Cho biên độ dao động\n",
        "slope = 0.09 # Độ dốc của xu hướng tăng\n",
        "noise_level = 15 # Độ nhiễu\n",
        "period = 365 # Khoảng thời gian của một mùa hay chu kỳ\n",
        "\n",
        "# Tiến hành tạo dữ liệu bao gồm tính xu hướng, tính chu kỳ theo mùa và tính nhiễu\n",
        "series = (base_line + trend(time, slope)\n",
        "          + seasonality(time, period, amplitude)\n",
        "          + noise(time, noise_level, seed=42))"
      ],
      "metadata": {
        "id": "8cPVqsrd67p0"
      },
      "execution_count": null,
      "outputs": []
    },
    {
      "cell_type": "code",
      "source": [
        "# Biểu diễn dữ liệu\n",
        "plt.figure(figsize=(8,5))\n",
        "plot_series(time, series)"
      ],
      "metadata": {
        "id": "sN7qqK1083yD"
      },
      "execution_count": null,
      "outputs": []
    },
    {
      "cell_type": "markdown",
      "source": [
        "Vậy là tụi mình đã tạo xong phần dữ liệu nhân tạo để thực hành rồi ha. 🎉  \n",
        "Bộ dữ liệu này, mọi người cũng có thể chia thành các tập dữ liệu nhỏ như:  \n",
        "- **Tập huấn luyện (train)**  \n",
        "- **Tập hiệu chỉnh (validation/val)**  \n",
        "- **Tập kiểm tra (test)**  \n",
        "\n",
        "Tuy nhiên, cần lưu ý rằng với các mẫu dữ liệu có tính chu kỳ theo mùa như thế này, việc đảm bảo mỗi tập chứa đầy đủ các mùa sẽ tốt hơn. 🍂🌦️  \n",
        "\n",
        "Ví dụ, với bộ dữ liệu chúng ta vừa tạo, qua quan sát, ta thấy vị trí chia hợp lý có thể là:  \n",
        "- **Bộ dữ liệu huấn luyện:** từ 0 đến 1000  \n",
        "- **Bộ dữ liệu hiệu chỉnh:** từ 1000 trở về sau  \n",
        "\n",
        "Nhưng mà khoan! Vì hiện tại, chúng ta chỉ dự đoán một cách đơn giản, với giá trị tiếp theo trong tương lai (**t+1**) bằng giá trị hiện tại (**t**), nên việc chia tập chưa cần thiết lắm. 😄  \n",
        "Thay vào đó, chúng ta chỉ cần **phóng to đoạn dữ liệu từ bước thời gian 1000 trở lên** để quan sát kỹ hơn là được rồi. 🔍📈  "
      ],
      "metadata": {
        "id": "_6EtLCl4A6Gv"
      }
    },
    {
      "cell_type": "code",
      "source": [
        "# Dự đoán giá trị trong tương lai (từ bước 1000 trở về sau)\n",
        "split_time = 1000\n",
        "time_valid = time[split_time:]\n",
        "x_valid = series[split_time:]\n",
        "naive_forecast = series[split_time - 1:-1]"
      ],
      "metadata": {
        "id": "1JJywkVAENHs"
      },
      "execution_count": null,
      "outputs": []
    },
    {
      "cell_type": "code",
      "source": [
        "# Biểu diễn dữ liệu\n",
        "plt.figure(figsize=(8,5))\n",
        "plot_series(time_valid, x_valid)\n",
        "plot_series(time_valid, naive_forecast)\n"
      ],
      "metadata": {
        "id": "bS1SjT35Evp6"
      },
      "execution_count": null,
      "outputs": []
    },
    {
      "cell_type": "markdown",
      "source": [
        "Trông thì có vẻ ổn ha, các giá trị có mối quan hệ với nhau và khi biểu diễn lên biểu đồ, chúng khớp một cách chặt chẽ. 📊✨  \n",
        "Tuy nhiên, chắc chắn là phương pháp này không thể áp dụng cho đầu tư thực tế, bởi thời gian dự đoán quá ngắn và không phù hợp với các quyết định chiến lược. 📉💼  \n",
        "\n",
        "Quay trở lại bài toán,  \n",
        "\n",
        "> **Vậy làm thế nào để chúng ta có thể đánh giá kết quả dự đoán của một kỹ thuật hay mô hình?**  \n",
        "\n",
        "Tụi mình sẽ tìm hiểu tiếp ở phần dưới đây nha. 🚀📖  "
      ],
      "metadata": {
        "id": "x3KBMOohF_Tw"
      }
    },
    {
      "cell_type": "markdown",
      "source": [
        "# Measuring Prediction Accuracy  \n",
        "## (Cách đo lường độ chính xác của dự đoán)  \n",
        "\n",
        "Có rất nhiều phương pháp để đo lường độ chính xác, nhưng tạm thời tụi mình sẽ tập trung vào hai thang đo phổ biến nhất: **Mean Squared Error (MSE)** và **Mean Absolute Error (MAE)**. 📏✨  \n",
        "\n",
        "### **1. Mean Squared Error (MSE)**  \n",
        "- **Định nghĩa:** Trung bình cộng bình phương sai số.  \n",
        "- **Công dụng:** Tính toán độ khác biệt trung bình giữa giá trị dự đoán và giá trị thực tế, sử dụng **bình phương** để khử các giá trị âm. Điều này làm tăng trọng số cho các sai số lớn hơn, giúp phát hiện các sai số nghiêm trọng.  \n",
        "\n",
        "### **2. Mean Absolute Error (MAE)**  \n",
        "- **Định nghĩa:** Trung bình cộng giá trị tuyệt đối sai số.  \n",
        "- **Công dụng:** Tính toán độ khác biệt trung bình giữa giá trị dự đoán và giá trị thực tế, sử dụng **giá trị tuyệt đối** để khử các giá trị âm, đảm bảo tính đơn giản và dễ hiểu hơn so với MSE.  \n",
        "\n",
        "---\n",
        "\n",
        "Chúng ta sẽ tiến hành tính toán thử cả hai thang đo này trên bộ dữ liệu đã tạo ra để xem sự khác biệt giữa chúng nha. 🧮📊"
      ],
      "metadata": {
        "id": "L9oqrFfTHNrZ"
      }
    },
    {
      "cell_type": "code",
      "source": [
        "import keras\n",
        "from keras.metrics import mean_absolute_error, mean_squared_error\n",
        "print(\"MAE: \", mean_absolute_error(series[split_time:], naive_forecast).numpy())\n",
        "print(\"MSE: \", mean_squared_error(series[split_time:], naive_forecast).numpy())"
      ],
      "metadata": {
        "id": "45TOrzT5HS2_"
      },
      "execution_count": null,
      "outputs": []
    },
    {
      "cell_type": "markdown",
      "source": [
        "Đây là kết quả ở lần chạy của mình nha\n",
        ">MAE:  5.399986138493924   \n",
        "MSE:  43.458606829706795"
      ],
      "metadata": {
        "id": "udSfj4rxLKkn"
      }
    },
    {
      "cell_type": "markdown",
      "source": [
        "# Less Naive: Using Moving Average for Prediction  \n",
        "## (Sử dụng trung bình động để dự đoán)  \n",
        "\n",
        "Bây giờ, tụi mình sẽ sử dụng một phương pháp dự đoán phức tạp hơn một chút nha. 📈✨  \n",
        "Ai từng tiếp xúc với chứng khoán hay crypto chắc không lạ gì **giá trị dự đoán trung bình động** hay **đường trung bình động** rồi ha. 💹  \n",
        "\n",
        "### **Phương pháp:**  \n",
        "Khác với dự đoán đơn giản trước đó, phương pháp này **nâng cấp** bằng cách tính trung bình cộng nhóm dữ liệu trong một khoảng thời gian trước đó.  \n",
        "- **Công thức:** Giá trị dự đoán tại thời điểm **t + 1** bằng **trung bình cộng nhóm dữ liệu trong khoảng [t - n, t]**.  \n",
        "- **Ví dụ:** Nếu chọn kích thước n là **30**, giá trị dự đoán trong tương lai sẽ bằng **trung bình cộng của 30 giá trị trước đó**.  \n",
        "\n",
        "### **Góc nhìn kỹ thuật:**  \n",
        "Nếu mọi người để ý, nguyên lý này rất giống với:  \n",
        "- **Cửa sổ trượt (sliding window):** Trung bình cộng giá trị trong vùng trượt kích thước **n**.  \n",
        "- **Lớp Average Pooling** trong học sâu (deep learning): Kích thước kernel **n** cũng tạo ra giá trị trung bình tương tự.  \n",
        "\n",
        "Đường trung bình động giúp làm mượt dữ liệu, giảm nhiễu và phản ánh xu hướng tốt hơn so với các phương pháp cơ bản trước đó. 📊✨  "
      ],
      "metadata": {
        "id": "15dp8iUARnbF"
      }
    },
    {
      "cell_type": "code",
      "source": [
        "def moving_average_forecast(series, window_size):\n",
        "  \"\"\"\n",
        "  Hàm này tiến hành tính toán giá trị dự đoán dựa trên trung bình cộng cửa sổ trượt các giá trị gần nhất\n",
        "  Nếu kích thước cửa sổ bằng 1 thì phương pháp này lại trở thành cách dự đoán đơn giản như ban đầu nha.\n",
        "  Logic tính toán: tiến hành tính trung bình cộng giá trị cửa sổ trượt từ bước thời gian 0 đến t_max - window_size\n",
        "\n",
        "  Tham số đầu vào:\n",
        "  - series: giá trị dữ liệu trong chuỗi thời gian\n",
        "  - window_size: kích thước cửa sổ trượt\n",
        "\n",
        "  Kết quả trả về:\n",
        "  - forecast: danh sách giá trị dự đoán\n",
        "  \"\"\"\n",
        "\n",
        "  forecast = []\n",
        "  for time in range(len(series) - window_size):\n",
        "    forecast.append(series[time:time + window_size].mean())\n",
        "  return np.array(forecast)"
      ],
      "metadata": {
        "id": "jWijyk4jLKDz"
      },
      "execution_count": null,
      "outputs": []
    },
    {
      "cell_type": "code",
      "source": [
        "window_size = 30\n",
        "moving_avg = moving_average_forecast(series, window_size)[split_time - window_size:]\n",
        "# Bởi vì khi tiến hành dự đoán ta sẽ phải cắt đi một phần dữ liệu bị mất do window_size\n",
        "# do đó index tại vị trí split là split_time bị giảm đi 30"
      ],
      "metadata": {
        "id": "ZA_590T9YHrs"
      },
      "execution_count": null,
      "outputs": []
    },
    {
      "cell_type": "code",
      "source": [
        "plt.figure(figsize=(10,6))\n",
        "plot_series(time_valid, x_valid)\n",
        "plot_series(time_valid, moving_avg)"
      ],
      "metadata": {
        "id": "mCfZc_5XcDHQ"
      },
      "execution_count": null,
      "outputs": []
    },
    {
      "cell_type": "code",
      "source": [
        "# Tiến hành đánh giá\n",
        "print(\"MAE: \", mean_absolute_error(x_valid, moving_avg).numpy())\n",
        "print(\"MSE: \", mean_squared_error(x_valid, moving_avg).numpy())"
      ],
      "metadata": {
        "id": "6kc94D3pdVWR"
      },
      "execution_count": null,
      "outputs": []
    },
    {
      "cell_type": "markdown",
      "source": [
        "Đây là kết quả ở lần chạy của bạn:  \n",
        "\n",
        "> **MAE:** 4.716281376001831  \n",
        "> **MSE:** 34.42340844301733  \n",
        "\n",
        "Uầy, vậy là độ chênh lệch đã giảm đáng kể so với trước rồi ha! 😄  \n",
        "Điều này chứng tỏ phương pháp **trung bình động (Moving Average)** đã hiệu quả hơn rất nhiều. 📊✨  \n",
        "\n",
        "### **Hạn chế của phương pháp:**  \n",
        "Tuy nhiên, phương pháp này có một số hạn chế như:  \n",
        "1. **Chỉ dựa trên tính tự tương quan (autocorrelation):**  \n",
        "   - Phương pháp chỉ sử dụng mối quan hệ của **n giá trị gần nhất** mà không nắm bắt được các đặc tính quan trọng khác như:  \n",
        "     - **Tính xu hướng (trend)**  \n",
        "     - **Tính chu kỳ theo mùa (seasonality)**  \n",
        "\n",
        "2. **Hiệu ứng trễ (delay):**  \n",
        "   - Khi biểu diễn giá trị dự đoán lên biểu đồ, ta có thể thấy sự **biến động bị chậm** hơn so với giá trị thực tế.  \n",
        "   - Hiện tượng này xảy ra do việc lấy **trung bình nhóm các giá trị gần nhất**, làm giảm độ ảnh hưởng của giá trị gần nhất.  \n",
        "\n",
        "3. **Kích thước cửa sổ (window size):**  \n",
        "   - **Cửa sổ lớn:** Giúp giảm nhiễu, nhưng lại làm chậm tốc độ phản ánh biến động của dữ liệu.  \n",
        "   - **Cửa sổ nhỏ:** Phản ánh nhanh hơn, nhưng lại không đủ ổn định để dự đoán dài hạn và khó phù hợp với thực tế.  \n",
        "\n",
        "---\n",
        "\n",
        "### **Kết luận:**  \n",
        "Dù đã hiệu quả hơn phương pháp cơ bản, **Moving Average** vẫn chưa đủ để xử lý dữ liệu có xu hướng dài hạn hoặc chu kỳ phức tạp. Để khắc phục, ta cần các phương pháp tiên tiến hơn. 🚀"
      ],
      "metadata": {
        "id": "VQqpwE_4dgbF"
      }
    },
    {
      "cell_type": "markdown",
      "source": [
        "# Improving the Moving Average Analysis  \n",
        "## (Cải thiện phương pháp phân tích trung bình động)  \n",
        "\n",
        "Để xử lý dữ liệu có tính **chu kỳ theo mùa (seasonality)** với khoảng thời gian là **365 ngày**, chúng ta sẽ áp dụng kỹ thuật gọi là **\"differencing\"**.  \n",
        "\n",
        "### **Phương pháp Differencing:**  \n",
        "- **Ý tưởng chính:**  \n",
        "  Tính toán sự khác biệt giữa giá trị tại thời điểm **t** và giá trị tại thời điểm **(t - season time)**.  \n",
        "  - Với dữ liệu có chu kỳ là 365 ngày, điều này tương đương với:  \n",
        "      **Differenced Value at (t) = Value at (t) - Value at (t - 365)**\n",
        "\n",
        "- **Mục đích:**  \n",
        "  - Tạm thời loại bỏ **tính xu hướng (trend)** và **tính chu kỳ theo mùa (seasonality)**.  \n",
        "  - Làm phẳng dữ liệu, giúp biểu đồ ổn định hơn và giảm sự biến động phức tạp.  \n",
        "\n",
        "---\n",
        "\n",
        "### **Lợi ích của Differencing:**  \n",
        "1. **Tập trung vào các biến động thực sự:**  \n",
        "   - Loại bỏ ảnh hưởng từ xu hướng dài hạn và chu kỳ, chỉ giữ lại các dao động quan trọng để phân tích.  \n",
        "\n",
        "2. **Dễ dàng mô hình hóa dữ liệu:**  \n",
        "   - Khi dữ liệu đã được làm phẳng, việc sử dụng các kỹ thuật dự đoán hoặc xây dựng mô hình trở nên dễ dàng và chính xác hơn.  \n",
        "\n",
        "---\n",
        "\n",
        "### **Tiếp theo:**  \n",
        "Chúng ta sẽ áp dụng kỹ thuật này lên bộ dữ liệu hiện tại để xem biểu đồ sau khi làm mượt dữ liệu có thay đổi như thế nào nhé! 📊✨  "
      ],
      "metadata": {
        "id": "8djeGMUPfn4C"
      }
    },
    {
      "cell_type": "code",
      "source": [
        "diff_series = (series[365:] - series[:-365])\n",
        "diff_time = time[365:]"
      ],
      "metadata": {
        "id": "Z9KITmR2mP_t"
      },
      "execution_count": null,
      "outputs": []
    },
    {
      "cell_type": "code",
      "source": [
        "plt.figure(figsize=(10,6))\n",
        "plt.plot(diff_time, diff_series)\n",
        "plt.xlabel(\"Time\")\n",
        "plt.ylabel(\"Difference\")\n",
        "plt.yticks(np.arange(0, 170, 20))\n",
        "plt.grid(True)"
      ],
      "metadata": {
        "id": "No9JnoCcpFpP"
      },
      "execution_count": null,
      "outputs": []
    },
    {
      "cell_type": "markdown",
      "source": [
        "Sau khi áp dụng kỹ thuật **differencing** để làm phẳng dữ liệu, bước tiếp theo sẽ là:  \n",
        "\n",
        "1. **Tính trung bình động (moving average)** cho các giá trị đã được làm mượt.  \n",
        "2. **Cộng với trung bình động (moving average)** của các giá trị ban đầu.  \n",
        "\n",
        "### **Mục đích:**  \n",
        "- **Khôi phục tính xu hướng (trend)** và **tính chu kỳ theo mùa (seasonality):**  \n",
        "  Phương pháp này không loại bỏ hoàn toàn hai tính chất này mà chỉ **tạm thời tách chúng ra** để xử lý riêng, sau đó thêm lại vào giá trị dự đoán cuối cùng.  \n",
        "\n",
        "### **Cách làm:**  \n",
        "- **Bước 1:** Làm mượt dữ liệu bằng differencing, giúp giảm sự phức tạp.  \n",
        "- **Bước 2:** Tính trung bình động cho dữ liệu làm mượt, lấy kết quả để phản ánh biến động thật sự của dữ liệu không bị ảnh hưởng bởi xu hướng hay chu kỳ.  \n",
        "- **Bước 3:** Tính trung bình động cho dữ liệu gốc, dùng kết quả này để khôi phục lại tính xu hướng và tính chu kỳ.  \n",
        "- **Bước 4:** Kết hợp cả hai phần trên để tạo ra dự đoán cuối cùng.  \n",
        "\n",
        "---\n",
        "\n",
        "### **Lợi ích:**  \n",
        "- Giúp xử lý riêng từng yếu tố phức tạp (như xu hướng hoặc chu kỳ) mà không làm mất đi tính toàn vẹn của dữ liệu.  \n",
        "- Kết quả dự đoán cuối cùng phản ánh rõ ràng cả sự biến động ngắn hạn và xu hướng dài hạn của dữ liệu.  \n",
        "\n",
        "Phương pháp này đặc biệt hữu ích khi làm việc với dữ liệu có cả tính chu kỳ rõ ràng và xu hướng phức tạp. 📈✨"
      ],
      "metadata": {
        "id": "s779QmCoqJbD"
      }
    },
    {
      "cell_type": "code",
      "source": [
        "\n",
        "window_size = 50\n",
        "diff_moving_avg = moving_average_forecast(diff_series, window_size)[split_time - 365 - window_size:]\n",
        "\n",
        "window_size_1 = 10\n",
        "diff_moving_avg_plus_smooth_past = moving_average_forecast(series[(split_time - 365 - window_size_1//2):(-365 + window_size_1//2)], window_size_1) + diff_moving_avg"
      ],
      "metadata": {
        "id": "6sTLAyjDpEeJ"
      },
      "execution_count": null,
      "outputs": []
    },
    {
      "cell_type": "code",
      "source": [
        "plot_series(time_valid, x_valid)\n",
        "plot_series(time_valid, diff_moving_avg_plus_smooth_past)"
      ],
      "metadata": {
        "id": "LfFViJfHi3Nt"
      },
      "execution_count": null,
      "outputs": []
    },
    {
      "cell_type": "code",
      "source": [
        "# Tiến hành đánh giá\n",
        "print(\"MAE: \", mean_absolute_error(x_valid, diff_moving_avg_plus_smooth_past).numpy())\n",
        "print(\"MSE: \", mean_squared_error(x_valid, diff_moving_avg_plus_smooth_past).numpy())"
      ],
      "metadata": {
        "id": "KmQ3p4F7ooNk"
      },
      "execution_count": null,
      "outputs": []
    },
    {
      "cell_type": "markdown",
      "source": [
        "Đây là kết quả ở lần chạy của bạn:  \n",
        "\n",
        "> **MAE:** 4.143552154532831  \n",
        "> **MSE:** 23.55910287859785  \n",
        "\n",
        "Uầy, chỉ số **MSE** còn giảm mạnh hơn nữa luôn! 🎉  \n",
        "Biểu đồ cũng trông có vẻ khớp hơn rất nhiều. 📊✨  \n",
        "\n",
        "Mọi người có thể thấy rõ, giá trị dự đoán đã trở nên rất gần và sát với dữ liệu thực tế hơn.  \n",
        "Điều này chứng minh rằng việc tạm thời **tách xu hướng và chu kỳ ra để xử lý riêng** rồi thêm lại vào kết quả cuối cùng là một cách tiếp cận cực kỳ hiệu quả. 🚀  \n",
        "\n",
        "Tiến bộ rõ rệt này cho thấy phương pháp cải tiến đã làm tốt hơn rất nhiều trong việc dự đoán dữ liệu phức tạp. 😊"
      ],
      "metadata": {
        "id": "DyZ8JkaBo0fK"
      }
    },
    {
      "cell_type": "markdown",
      "source": [
        "# Summary  🎉\n",
        "Tụi mình tổng kết lại kiến thức đã học ha:  \n",
        "\n",
        "### **1. Các loại dữ liệu chuỗi thời gian:**  \n",
        "- **Multivariate time series:** Chuỗi thời gian đa biến, gồm nhiều biến liên quan theo thời gian.  \n",
        "- **Univariate time series:** Chuỗi thời gian đơn biến, chỉ có một loại giá trị.  \n",
        "\n",
        "### **2. Các đặc tính của dữ liệu chuỗi thời gian:**  \n",
        "- **Tính xu hướng (trend):** Dữ liệu tăng hoặc giảm đều đặn theo thời gian.  \n",
        "- **Tính chu kỳ theo mùa (seasonality):** Sự lặp lại theo một chu kỳ hoặc khoảng thời gian cố định.  \n",
        "- **Tính tự tương quan (autocorrelation):** Mối liên hệ giữa các giá trị tại các thời điểm khác nhau.  \n",
        "- **Tính nhiễu (noise):** Các dao động ngẫu nhiên gây nhiễu trong dữ liệu.  \n",
        "\n",
        "### **3. Các phương pháp cơ bản để dự đoán giá trị:**  \n",
        "1. **Dự đoán dựa trên giá trị trước đó:** Giá trị tương lai (**t+1**) bằng giá trị hiện tại (**t-1**).  \n",
        "2. **Phương pháp trung bình động (Moving Average):**  \n",
        "   - Dự đoán dựa trên trung bình cộng nhóm **n giá trị gần nhất** trong dữ liệu.  \n",
        "3. **Phương pháp trung bình động cải tiến:**  \n",
        "   - Kết hợp tính toán trung bình động với việc xử lý **tính xu hướng (trend)** và **tính chu kỳ theo mùa (seasonality)** bằng kỹ thuật **differencing** để cải thiện độ chính xác.  \n",
        "\n",
        "---\n",
        "\n",
        "### **Kết luận:**  \n",
        "Qua các phương pháp trên, chúng ta đã thấy rằng:  \n",
        "- Mỗi phương pháp đều có ưu và nhược điểm.  \n",
        "- Phương pháp cải tiến giúp dự đoán sát với thực tế hơn, đặc biệt khi dữ liệu có các yếu tố phức tạp như **xu hướng** và **chu kỳ theo mùa**.  \n",
        "\n",
        "Vậy là hết chương 9 rồi nha. Chúc mọi người năm mới học tập suôn sẻ. 🚀😊"
      ],
      "metadata": {
        "id": "dI7ULyFcxY6G"
      }
    }
  ]
}