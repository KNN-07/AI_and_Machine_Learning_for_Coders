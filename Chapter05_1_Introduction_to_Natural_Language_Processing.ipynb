{
  "nbformat": 4,
  "nbformat_minor": 0,
  "metadata": {
    "colab": {
      "provenance": [],
      "authorship_tag": "ABX9TyOWv/FwQhwcMmKozkAo0b5M",
      "include_colab_link": true
    },
    "kernelspec": {
      "name": "python3",
      "display_name": "Python 3"
    },
    "language_info": {
      "name": "python"
    }
  },
  "cells": [
    {
      "cell_type": "markdown",
      "metadata": {
        "id": "view-in-github",
        "colab_type": "text"
      },
      "source": [
        "<a href=\"https://colab.research.google.com/github/Tkag0001/AI_and_Machine_Learning_for_Coders/blob/main/Chapter5_1_Introduction_to_Natural_Language_Processing.ipynb\" target=\"_parent\"><img src=\"https://colab.research.google.com/assets/colab-badge.svg\" alt=\"Open In Colab\"/></a>"
      ]
    },
    {
      "cell_type": "markdown",
      "source": [
        "# Introduction to Natural Language Processing 🌐🗣️  \n",
        "\n",
        "Tụi mình sẽ tìm hiểu về chủ đề **NLP** (xử lý ngôn ngữ tự nhiên) - một trong những nhánh thú vị của trí tuệ nhân tạo nha. 🤖✨  \n",
        "\n",
        "![Introduce image](https://bobcares.com/wp-content/uploads/2024/11/Natural-Language-Processing.png)\n"
      ],
      "metadata": {
        "id": "k4iLnnTYc7wz"
      }
    },
    {
      "cell_type": "markdown",
      "source": [
        "# Encoding Language into Numbers (Mã hóa ngôn ngữ thành chữ số) 🔢🗣️  \n",
        "\n",
        "Đầu tiên, tụi mình sẽ đến với phần mã hóa, chuyển đổi ngôn ngữ thành dạng chữ số nha.  \n",
        "\n",
        "> **Tại sao lại cần chuyển đổi từ văn bản thành dạng số?** 🤔  \n",
        "\n",
        "Mình nghĩ cách giải thích dễ hiểu nhất là: để thuận tiện cho việc đưa vào các công thức tính toán. 🧮\n"
      ],
      "metadata": {
        "id": "SzWZSsGqhBcp"
      }
    },
    {
      "cell_type": "markdown",
      "source": [
        "![Encoding image](https://files.readme.io/bf9ae1b-Iwanttobreakfree.png)"
      ],
      "metadata": {
        "id": "ig5RctsSq_JR"
      }
    },
    {
      "cell_type": "markdown",
      "source": [
        "> **Vậy câu hỏi đặt ra là chúng ta sẽ mã hóa chúng như thế nào?** 🤔  \n",
        "\n",
        "Thực ra, có rất nhiều cách để mã hóa.  \n",
        "\n",
        "Đơn giản nhất nha, tụi mình sẽ bắt đầu với việc phân tích và mã hóa theo ký tự. 🔤✨\n"
      ],
      "metadata": {
        "id": "DghL3plS4Stp"
      }
    },
    {
      "cell_type": "markdown",
      "source": [
        "## Mã hóa theo ký tự (Character Tokenizer) 🔤  \n",
        "\n",
        "Mã hóa theo ký tự tức là mỗi ký tự sẽ tương ứng với một số. Qua đó, một từ hay một câu sẽ được biểu diễn thành một vector hoặc chuỗi số.  \n",
        "\n",
        "Điển hình mà mọi người có thể thấy rõ nhất là bộ mã **ASCII** nha. 💻\n"
      ],
      "metadata": {
        "id": "_YicShG6s5Sr"
      }
    },
    {
      "cell_type": "markdown",
      "source": [
        "\n",
        "\n",
        "VD. Chiếu theo bộ mã ASCII ta sẽ có:\n",
        "- **\"Dead is like the wind, always by my side\"** -> [68, 101, 97, 100, 32, 105, 115, 32, 108, 105, 107, 101, 32, 116, 104, 101, 32, 119, 105, 110, 100, 44, 32, 97, 108, 119, 97, 121, 115, 32, 98, 121, 32, 109, 121, 32, 115, 105, 100, 101]\n",
        "\n",
        "\n",
        "\n",
        "```python\n",
        "D: 68\n",
        "e: 101\n",
        "a: 97\n",
        "d: 100\n",
        " : 32\n",
        "i: 105\n",
        "s: 115\n",
        " : 32\n",
        "l: 108\n",
        "i: 105\n",
        "k: 107\n",
        "e: 101\n",
        " : 32\n",
        "t: 116\n",
        "h: 104\n",
        "e: 101\n",
        " : 32\n",
        "w: 119\n",
        "i: 105\n",
        "n: 110\n",
        "d: 100\n",
        ",: 44\n",
        " : 32\n",
        "a: 97\n",
        "l: 108\n",
        "w: 119\n",
        "a: 97\n",
        "y: 121\n",
        "s: 115\n",
        " : 32\n",
        "b: 98\n",
        "y: 121\n",
        " : 32\n",
        "m: 109\n",
        "y: 121\n",
        " : 32\n",
        "s: 115\n",
        "i: 105\n",
        "d: 100\n",
        "e: 101\n",
        "\n",
        "```\n",
        "\n"
      ],
      "metadata": {
        "id": "QlExQRMKsMc1"
      }
    },
    {
      "cell_type": "markdown",
      "source": [
        "Tuy nhiên, mọi người sẽ gặp phải một vấn đề nha. Trong một số trường hợp, mã hóa theo ký tự có thể gây ra hạn chế, ảnh hưởng đến hiệu quả của mô hình. 🚧  \n",
        "\n",
        "Một số từ có cùng số lượng ký tự và các ký tự giống nhau nhưng chỉ thay đổi về thứ tự. Điều này làm cho mô hình gặp khó khăn trong việc hiểu được ý nghĩa thực sự của từ hoặc câu.  \n",
        "\n",
        "Những trường hợp như vậy được gọi là **antigram**. 🔄  \n",
        "Mình ví dụ một số từ như sau:  \n",
        "- **Santa** - **Satan**  \n",
        "- **restful** - **fluster**  \n",
        "- **forty five** - **over fifty**  \n",
        "\n",
        "Thậm chí, có một câu joke hơi dark dựa trên **antigram**:  \n",
        "> **\"Evangelist is the Evil's Agent.\"** 💀\n"
      ],
      "metadata": {
        "id": "3GJh-7yOwY8Q"
      }
    },
    {
      "cell_type": "markdown",
      "source": [
        "Thay vào đó, tụi mình sẽ có một cách thay thế tốt hơn: **mã hóa theo từ**. 📝✨\n"
      ],
      "metadata": {
        "id": "vHE6BLHOtwKI"
      }
    },
    {
      "cell_type": "markdown",
      "source": [
        "## Mã hóa theo từ (Word Tokenizer) 📝  \n",
        "\n",
        "Hiểu đơn giản là với mỗi từ, tụi mình sẽ gán một số để đại diện cho từ đó.  \n",
        "\n",
        "```python\n",
        "# \"Caption Teemo on duty\" -> [1, 2, 3, 4]\n",
        "vocabulary = {\n",
        "  \"Caption\": 1,\n",
        "  \"Teemo\": 2,\n",
        "  \"on\": 3,\n",
        "  \"duty\": 4\n",
        "}\n"
      ],
      "metadata": {
        "id": "5AJ0gix90_pE"
      }
    },
    {
      "cell_type": "code",
      "source": [
        "import tensorflow as tf\n",
        "from tensorflow import keras\n",
        "from tensorflow.keras.preprocessing.text import Tokenizer\n",
        "\n",
        "org_texts = [\n",
        "    \"Today is a sunny day\",\n",
        "    \"Today is a rainy day\"\n",
        "]\n",
        "\n",
        "\n",
        "# Định nghĩa số lượng từ trong công cụ mã hóa (tokenizer)\n",
        "tokenizer = Tokenizer(num_words = 100)\n",
        "# Tiến hành đẩy các từ vào để tạo thư viện từ trong công cụ mã hóa.\n",
        "tokenizer.fit_on_texts(org_texts)\n",
        "# Lấy từ điển mã hóa ra\n",
        "word_index = tokenizer.word_index\n",
        "print(word_index)"
      ],
      "metadata": {
        "colab": {
          "base_uri": "https://localhost:8080/"
        },
        "id": "6a7czeBC4He3",
        "outputId": "2ef83312-dce4-4595-9b68-e5e1bd212b40"
      },
      "execution_count": null,
      "outputs": [
        {
          "output_type": "stream",
          "name": "stdout",
          "text": [
            "{'today': 1, 'is': 2, 'a': 3, 'day': 4, 'sunny': 5, 'rainy': 6}\n"
          ]
        }
      ]
    },
    {
      "cell_type": "markdown",
      "source": [
        "Dưới đây là văn bản đã được chỉnh sửa và bổ sung icon:\n",
        "\n",
        "```markdown\n",
        "Như đây là kết quả của đoạn code ở trên nha, chúng ta sẽ lấy được từ điển mã hóa từ như sau: 📖  \n",
        "\n",
        "```python\n",
        "{'today': 1, 'is': 2, 'a': 3, 'day': 4, 'sunny': 5, 'rainy': 6}\n",
        "```\n",
        "\n",
        "Như mọi người thấy, mỗi từ sẽ được lưu lại và được đại diện bởi một con số mã hóa. 🔢  \n",
        "\n",
        "Sau khi đẩy các chuỗi vào để tạo từ điển, tụi mình sẽ tiến hành mã hóa các chuỗi hay câu bằng hàm **texts_to_sequences** nha. 💻  \n",
        "Mọi người chỉ cần chuyển một list các câu vào là được. ✅\n"
      ],
      "metadata": {
        "id": "dVYqm37vAkSE"
      }
    },
    {
      "cell_type": "code",
      "source": [
        "sequences = tokenizer.texts_to_sequences(org_texts)\n",
        "print(sequences)"
      ],
      "metadata": {
        "colab": {
          "base_uri": "https://localhost:8080/"
        },
        "id": "3HnLN3neDBEU",
        "outputId": "8fc05ea8-4c28-466f-df81-286bfd82d9a4"
      },
      "execution_count": null,
      "outputs": [
        {
          "output_type": "stream",
          "name": "stdout",
          "text": [
            "[[1, 2, 3, 5, 4], [1, 2, 3, 6, 4]]\n"
          ]
        }
      ]
    },
    {
      "cell_type": "markdown",
      "source": [
        "Kết quả của chuỗi hoàn toàn tương đồng với số mã hóa ở trên."
      ],
      "metadata": {
        "id": "tFUN5eaADUUo"
      }
    },
    {
      "cell_type": "markdown",
      "source": [
        "> **Vậy điểm hạn chế của phương pháp mã hóa theo từ là gì?** 🤔  \n",
        "\n",
        "Như mọi người thấy, phương pháp này hoạt động dựa trên các từ có sẵn trong từ điển.  \n",
        "Vậy, khi gặp những **từ mới** không có trong thư viện từ vựng, máy tính sẽ không thể phát hiện được và sẽ **bỏ qua** từ đó. Điều này dẫn đến việc mô hình học không đầy đủ và có thể bị nhầm lẫn ngữ cảnh. 🚧  \n",
        "\n",
        "Ví dụ như đoạn code dưới đây: 💻  \n"
      ],
      "metadata": {
        "id": "VEVsY_hldzmS"
      }
    },
    {
      "cell_type": "code",
      "source": [
        "# Tập kiểm tra\n",
        "test_data = [\n",
        "    \"Today is a snowy day\",\n",
        "    \"Will it be rainy tomorrow?\"\n",
        "]\n",
        "\n",
        "# Tiến hành mã hóa\n",
        "test_seq = tokenizer.texts_to_sequences(test_data)\n",
        "\n",
        "# Kiểm tra kết quả mã hóa.\n",
        "print(test_seq)"
      ],
      "metadata": {
        "colab": {
          "base_uri": "https://localhost:8080/"
        },
        "id": "JZlwZd4JDZqx",
        "outputId": "eb1afbfa-323a-4788-e67c-b3b44344213f"
      },
      "execution_count": null,
      "outputs": [
        {
          "output_type": "stream",
          "name": "stdout",
          "text": [
            "[[1, 2, 3, 4], [6]]\n"
          ]
        }
      ]
    },
    {
      "cell_type": "markdown",
      "source": [
        "Như mọi người thấy kết quả mã hóa của 2 câu như sau:\n",
        "\n",
        "```python\n",
        " \"Today is a snowy day\" - [1, 2, 3, 4]\n",
        " \"Will it be rainy tomorrow?\" - [6]\n",
        " ```\n",
        "Độ dài của chuỗi sau mã hóa đã bị giảm đi rất nhiều, chúng chỉ mã hóa được những từ đã biết, nhưng từ chưa biết thì bỏ qua.\n",
        "\n",
        "Chúng ta có tên gọi cụ thể của trường hợp này là  **Out of vocabulary**, tức nằm ngoài vùng từ vựng."
      ],
      "metadata": {
        "id": "_pvuWsUDeepf"
      }
    },
    {
      "cell_type": "markdown",
      "source": [
        "## Using Out of Vocabulary Tokens (Sử dụng các token cho từ vựng mới) 🆕📚  \n"
      ],
      "metadata": {
        "id": "xq8u0bQHtJ4n"
      }
    },
    {
      "cell_type": "markdown",
      "source": [
        "> **Vậy chúng ta có thể giải quyết vấn đề \"Out of Vocabulary\" này như thế nào?** 🤔  \n",
        "\n",
        "Có nhiều cách mã hóa cải tiến để khắc phục hoặc hạn chế ảnh hưởng của tình trạng này.  \n",
        "\n",
        "Ở đây, mình chỉ giới thiệu cách đơn giản nhất thôi nha. Mọi người sẽ sử dụng một **token hay số** để đại diện cho các trường hợp **từ vựng không biết trước**. 🆕🔢  \n",
        "\n",
        "Ở đây, mình sẽ sử dụng token là **< OOV >** nha. Mọi người cũng có thể đặt tên token là cái khác tùy ý.  \n",
        "Trong một số mô hình hoặc đoạn code khác, mọi người có thể bắt gặp token này dưới dạng **< UNK >**, có nghĩa là **unknown - không biết**. ❓  \n"
      ],
      "metadata": {
        "id": "qMpcBMkehYsO"
      }
    },
    {
      "cell_type": "code",
      "source": [
        "# Tiến hành định nghĩa lại bộ mã hóa, thêm vào token đại diện cho trường hợp từ không biết\n",
        "tokenizer = Tokenizer(num_words=100, oov_token=\"<OOV>\")\n",
        "# Tiến hành đẩy các từ vào để tạo thư viện từ trong công cụ mã hóa.\n",
        "tokenizer.fit_on_texts(org_texts)"
      ],
      "metadata": {
        "id": "rj9dX-wljrWQ"
      },
      "execution_count": null,
      "outputs": []
    },
    {
      "cell_type": "code",
      "source": [
        "# In từ điển bên trong bộ mã hóa ra\n",
        "word_index = tokenizer.word_index\n",
        "print(word_index)"
      ],
      "metadata": {
        "colab": {
          "base_uri": "https://localhost:8080/"
        },
        "id": "uhyouhk3kTyu",
        "outputId": "ae0376ac-442b-475f-9eb8-94c853a34a69"
      },
      "execution_count": null,
      "outputs": [
        {
          "output_type": "stream",
          "name": "stdout",
          "text": [
            "{'<OOV>': 1, 'today': 2, 'is': 3, 'a': 4, 'day': 5, 'sunny': 6, 'rainy': 7}\n"
          ]
        }
      ]
    },
    {
      "cell_type": "markdown",
      "source": [
        "**Ở đây mọi người sẽ thấy từ vựng không biết sẽ được đánh số mã hóa là 1**"
      ],
      "metadata": {
        "id": "FaYJouGgkX9W"
      }
    },
    {
      "cell_type": "code",
      "source": [
        "# Tiến hành mã hóa lại các câu gặp phải trường hợp từ vựng không biết trước đó\n",
        "test_seq = tokenizer.texts_to_sequences(test_data)\n",
        "print(test_seq)"
      ],
      "metadata": {
        "colab": {
          "base_uri": "https://localhost:8080/"
        },
        "id": "fM3x0JbTj9eI",
        "outputId": "bfa66de0-8ff3-4aa8-c958-3255b191029c"
      },
      "execution_count": null,
      "outputs": [
        {
          "output_type": "stream",
          "name": "stdout",
          "text": [
            "[[2, 3, 4, 1, 5], [1, 1, 1, 7, 1]]\n"
          ]
        }
      ]
    },
    {
      "cell_type": "markdown",
      "source": [
        "Mọi người có thể thấy kết quả sau khi thêm vào token cho trường hợp từ vựng không biết:\n",
        "\n",
        "\n",
        "```python\n",
        "\"Today is a snowy day\" - [2, 3, 4, 1, 5]\n",
        " \"Will it be rainy tomorrow?\" - [1, 1, 1, 7, 1]\n",
        "```\n",
        "\n"
      ],
      "metadata": {
        "id": "-S_gIleckxt1"
      }
    },
    {
      "cell_type": "markdown",
      "source": [
        "Tuy nó không phải là cách tối ưu nhất, nhưng chúng ta đã đi đúng hướng giải quyết rồi. 🚀  \n",
        "\n",
        "Tiếp đến, tụi mình cùng tìm hiểu về **phần đệm chuỗi** nha. 🔢✨  \n"
      ],
      "metadata": {
        "id": "LYsz8Kt5sx9B"
      }
    },
    {
      "cell_type": "markdown",
      "source": [
        "## Understanding padding"
      ],
      "metadata": {
        "id": "0obrr0Z5s-_Y"
      }
    },
    {
      "cell_type": "markdown",
      "source": [
        "Hiểu đơn giản, **đệm chuỗi** nghĩa là **thêm các token vào chuỗi**. 🔢  \n",
        "\n",
        "Như mọi người đã biết, dữ liệu khi đưa vào mô hình học tập **phải có kích thước giống nhau, tương ứng với kích thước đầu vào của mô hình**. 🛠️  \n",
        "\n",
        "Ở các chương trước, khi chúng ta làm việc với dữ liệu dạng ảnh, chúng ta đã tiến hành điều chỉnh lại kích thước ảnh trước khi đưa vào mô hình. Bây giờ, khi xử lý dữ liệu dạng chuỗi, quy trình cũng tương tự như vậy. 🖼️➡️🔡  \n",
        "\n",
        "Với dữ liệu dạng chuỗi, chúng ta sẽ thêm vào các token để đại diện cho những phần tử được đệm thêm vào, với mục đích làm cho độ dài các chuỗi đều tương đương nhau. Token này thường được thấy dưới dạng **< PAD >** trong các mô hình xử lý. 🧩  \n",
        "\n",
        "Nói đủ nhiều rồi, bây giờ tụi mình sẽ đi vào code xử lý cụ thể nha. 💻✨  \n"
      ],
      "metadata": {
        "id": "xrFuCAhu3aRU"
      }
    },
    {
      "cell_type": "code",
      "source": [
        "# Các câu văn cần mã hóa để đưa vào mô hình\n",
        "sentences = [\n",
        "  \"Today is a sunny day\",\n",
        "  \"Today is a rainy day\",\n",
        "  \"Is it sunny today?\",\n",
        "  \"I really enjoyed walking in the snow today\"\n",
        "]\n",
        "\n",
        "# Định nghĩa bộ mã hóa\n",
        "tokenizer = Tokenizer(num_words=100, oov_token=\"<OOV>\")\n",
        "tokenizer.fit_on_texts(sentences)\n",
        "word_index = tokenizer.word_index\n",
        "\n",
        "# Tiến hành mã hóa các câu văn\n",
        "sequences = tokenizer.texts_to_sequences(sentences)"
      ],
      "metadata": {
        "id": "bvDOLh4ivKPW"
      },
      "execution_count": null,
      "outputs": []
    },
    {
      "cell_type": "code",
      "source": [
        "# In ra kết quả mã hóa\n",
        "for seq in sequences:\n",
        "  print(seq)"
      ],
      "metadata": {
        "colab": {
          "base_uri": "https://localhost:8080/"
        },
        "id": "Nhue-W9Wvgz8",
        "outputId": "cce22577-7065-4d7b-d708-31e236d0ec69"
      },
      "execution_count": null,
      "outputs": [
        {
          "output_type": "stream",
          "name": "stdout",
          "text": [
            "[2, 3, 4, 5, 6]\n",
            "[2, 3, 4, 7, 6]\n",
            "[3, 8, 5, 2]\n",
            "[9, 10, 11, 12, 13, 14, 15, 2]\n"
          ]
        }
      ]
    },
    {
      "cell_type": "markdown",
      "source": [
        "Như mọi  người thấy đấy, chúng có kích thước không giống nhau nha.\n",
        "\n",
        "\n",
        "```python\n",
        "[2, 3, 4, 5, 6]\n",
        "[2, 3, 4, 7, 6]\n",
        "[3, 8, 5, 2]\n",
        "[9, 10, 11, 12, 13, 14, 15, 2]\n",
        "```\n",
        "Bây giờ tụi mình sẽ tiến hành đệm vào để giúp độ dài các chuỗi có cùng kích thước với chuỗi có độ dài dài nhất.\n"
      ],
      "metadata": {
        "id": "NVt0UPrqvqWn"
      }
    },
    {
      "cell_type": "code",
      "source": [
        "from tensorflow.keras.preprocessing.sequence import pad_sequences\n",
        "\n",
        "# Tiến hành đệm các chuỗi\n",
        "padded = pad_sequences(sequences)\n",
        "\n",
        "# In ra kết quả đệm\n",
        "print(\"Kết quả các câu đã đệm:\")\n",
        "for seq in padded:\n",
        "  print(seq)"
      ],
      "metadata": {
        "colab": {
          "base_uri": "https://localhost:8080/"
        },
        "id": "RyuCDVJUv43H",
        "outputId": "2acb4dae-93e3-44c4-f604-26f77f12d30c"
      },
      "execution_count": null,
      "outputs": [
        {
          "output_type": "stream",
          "name": "stdout",
          "text": [
            "Kết quả các câu đã đệm:\n",
            "[0 0 0 2 3 4 5 6]\n",
            "[0 0 0 2 3 4 7 6]\n",
            "[0 0 0 0 3 8 5 2]\n",
            "[ 9 10 11 12 13 14 15  2]\n"
          ]
        }
      ]
    },
    {
      "cell_type": "markdown",
      "source": [
        "Như mọi người thấy, bây giờ các chuỗi đều đã có kích thước là 8 nha. 🔢  \n",
        "\n",
        "Các số 0 sẽ đại diện cho token **< PAD >** được đệm ở đầu. Đây là lý do mà các bộ mã hóa thường có từ điển bắt đầu từ số 1, còn số 0 sẽ được dành cho phần **padding** nha. 🧩  \n",
        "\n",
        "Việc thêm bộ đệm tức các số 0 ở phần đầu chuỗi này được gọi là **prepadding**. 🕒  \n",
        "\n",
        "Nếu mọi người muốn thêm bộ đệm ở phía sau, có thể sử dụng thêm một tham số nhỏ là **padding = 'post'** cho phương thức trên. 🛠️✨  \n"
      ],
      "metadata": {
        "id": "NB7j9xw3wg83"
      }
    },
    {
      "cell_type": "code",
      "source": [
        "padded = pad_sequences(sequences, padding='post')\n",
        "print(\"Kết quả các câu đã đệm:\")\n",
        "for seq in padded:\n",
        "  print(seq)"
      ],
      "metadata": {
        "colab": {
          "base_uri": "https://localhost:8080/"
        },
        "id": "Gur_0vI7NJfR",
        "outputId": "00004197-0bac-47f0-8fd0-1bd154f7affe"
      },
      "execution_count": null,
      "outputs": [
        {
          "output_type": "stream",
          "name": "stdout",
          "text": [
            "Kết quả các câu đã đệm:\n",
            "[2 3 4 5 6 0 0 0]\n",
            "[2 3 4 7 6 0 0 0]\n",
            "[3 8 5 2 0 0 0 0]\n",
            "[ 9 10 11 12 13 14 15  2]\n"
          ]
        }
      ]
    },
    {
      "cell_type": "markdown",
      "source": [
        "Đấy, các số 0 đã được đệm vào phần đuôi rồi này, qua đó giúp đảm bảo kích thước các batch trước khi đưa vào huấn luyện mô hình. 🔢  \n",
        "\n",
        "Thông qua việc thêm các bộ đệm vào, tụi mình đã đảm bảo được độ dài đồng nhất của các thành phần trong batch. Tuy nhiên, bạn cũng sẽ phải đối mặt với một trường hợp đặc biệt:  \n",
        "\n",
        "> **Điều gì sẽ xảy ra nếu bạn gặp phải một câu dài đến mức điên rồ?** 🤔  \n",
        "\n",
        "Đúng vậy, bạn sẽ phải thêm rất nhiều bộ đệm. Một câu chỉ có 3-4 từ nhưng lại phải thêm cả chục token **<PAD>** chỉ để đạt độ dài tương đương với một câu dài \"điên rồ\". Điều này đôi khi có thể lấn át dữ liệu hữu ích hoặc tốn quá nhiều thời gian và tài nguyên để xử lý. **Đó là một sự đánh đổi.** ⚖️  \n",
        "\n",
        "Để khắc phục tình trạng này, ta có thể định nghĩa một tham số gọi là **độ dài tối đa (maxlen)** để giới hạn độ dài chuỗi. 🔧  \n",
        "Tuy nhiên, điều này cũng sẽ đi kèm với những **đánh đổi nhất định** như làm **mất mát dữ liệu**. ⚠️  \n"
      ],
      "metadata": {
        "id": "me0pNG5RQUqM"
      }
    },
    {
      "cell_type": "code",
      "source": [
        "padded = pad_sequences(sequences, padding='post', maxlen=6)\n",
        "print(\"Kết quả các câu đã đệm:\")\n",
        "for seq in padded:\n",
        "  print(seq)"
      ],
      "metadata": {
        "colab": {
          "base_uri": "https://localhost:8080/"
        },
        "id": "MnxFNqHKMjAY",
        "outputId": "c706346c-7bb8-494f-8135-a62037ec744b"
      },
      "execution_count": null,
      "outputs": [
        {
          "output_type": "stream",
          "name": "stdout",
          "text": [
            "Kết quả các câu đã đệm:\n",
            "[2 3 4 5 6 0]\n",
            "[2 3 4 7 6 0]\n",
            "[3 8 5 2 0 0]\n",
            "[11 12 13 14 15  2]\n"
          ]
        }
      ]
    },
    {
      "cell_type": "markdown",
      "source": [
        "Như mọi người thấy đấy, các chuỗi đã được giới hạn lại tối đa độ dài. Ba chuỗi đầu chỉ được thêm từ 0 đến 1 token **< PAD >** hay số 0 để đảm bảo đạt độ dài tối đa. 🔢  \n",
        "\n",
        "Trong khi đó, chuỗi cuối cùng lại bị cắt ngắn chỉ còn 6 ký tự cuối. Đây cũng là **một sự đánh đổi.** ⚖️  \n",
        "Chúng ta chấp nhận loại bỏ đi một số dữ liệu hoặc từ nhất định từ một mẫu để giữ lại sự hữu ích từ các mẫu khác.  \n",
        "\n",
        "Nếu các bạn không muốn giữ các từ hoặc token ở cuối mà muốn giữ các từ ở đầu, chúng ta có thể tùy chọn giữ phần đầu với tham số **truncating = 'post'**. 🔧✨  \n"
      ],
      "metadata": {
        "id": "WTX0K_M0Svpx"
      }
    },
    {
      "cell_type": "code",
      "source": [
        "padded = pad_sequences(sequences, padding='post', maxlen=6, truncating='post')\n",
        "print(\"Kết quả các câu đã đệm:\")\n",
        "for seq in padded:\n",
        "  print(seq)"
      ],
      "metadata": {
        "colab": {
          "base_uri": "https://localhost:8080/"
        },
        "id": "bx21KTyKTwH1",
        "outputId": "c5f0ead3-2729-4397-b01f-6d4985b9f1ba"
      },
      "execution_count": null,
      "outputs": [
        {
          "output_type": "stream",
          "name": "stdout",
          "text": [
            "Kết quả các câu đã đệm:\n",
            "[2 3 4 5 6 0]\n",
            "[2 3 4 7 6 0]\n",
            "[3 8 5 2 0 0]\n",
            "[ 9 10 11 12 13 14]\n"
          ]
        }
      ]
    },
    {
      "cell_type": "markdown",
      "source": [
        "Như thế các từ phía đầu chuỗi đã có thể được giữ lại."
      ],
      "metadata": {
        "id": "KYUyZ2cYTyf9"
      }
    },
    {
      "cell_type": "markdown",
      "source": [
        "## Tổng kết phần mã hóa ngôn ngữ thành số. 🔢  \n",
        "\n",
        "- **Mã hóa ngôn ngữ thành số**:  \n",
        "  Chuyển các ký tự, từ vựng hoặc câu thành chuỗi các số, trong đó mỗi số đại diện cho một ký tự hoặc từ trong câu. ✍️  \n",
        "\n",
        "- **Các phương pháp mã hóa**:  \n",
        "  - Mã hóa theo ký tự. 🔤  \n",
        "  - Mã hóa theo từ. 📝  \n",
        "\n",
        "- **Bộ đệm cho các câu**:  \n",
        "  Giúp đảm bảo độ dài đồng nhất giữa các chuỗi để phù hợp với yêu cầu của mô hình. 🧩  \n",
        "\n",
        "- **Các tham số cho bộ đệm**:  \n",
        "  - `padding`: Chọn đệm phần đầu hay phần sau. ⬅️➡️  \n",
        "  - `maxlen`: Độ dài tối đa cho các chuỗi sau khi đệm. 📏  \n",
        "  - `truncating`: Tùy chọn giữ phần đầu hay cuối của chuỗi vượt quá `maxlen`. ✂️  \n"
      ],
      "metadata": {
        "id": "c4iOetXrUCph"
      }
    }
  ]
}