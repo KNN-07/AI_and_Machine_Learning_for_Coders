{
  "nbformat": 4,
  "nbformat_minor": 0,
  "metadata": {
    "colab": {
      "provenance": [],
      "authorship_tag": "ABX9TyNziSJFVajy2MbkYoY/T8pD",
      "include_colab_link": true
    },
    "kernelspec": {
      "name": "python3",
      "display_name": "Python 3"
    },
    "language_info": {
      "name": "python"
    }
  },
  "cells": [
    {
      "cell_type": "markdown",
      "metadata": {
        "id": "view-in-github",
        "colab_type": "text"
      },
      "source": [
        "<a href=\"https://colab.research.google.com/github/Tkag0001/AI_and_Machine_Learning_for_Coders/blob/main/Chapter_7_Recurrent_Neural_Networks_for_Natural_Language_Processing.ipynb\" target=\"_parent\"><img src=\"https://colab.research.google.com/assets/colab-badge.svg\" alt=\"Open In Colab\"/></a>"
      ]
    },
    {
      "cell_type": "markdown",
      "source": [
        "#Chapter 7: Recurrent Neural Networks for Natural Language Processing\n",
        "\n",
        "Chào mọi người nha, tụi mình lại gặp nhau rồi 🌻.\n",
        "Ở chương này tụi mình sẽ cùng tìm hiểu về việc sử dụng các mạng hồi quy để xử lý các bài toán về ngôn ngữ tự nhiên nha.\n",
        "\n"
      ],
      "metadata": {
        "id": "FQHyC-A4Gqg_"
      }
    },
    {
      "cell_type": "markdown",
      "source": [
        "Trước khi bước vào chương mới, tụi mình cùng ôn lại 2 chương trước đó nha.\n",
        "\n",
        "Ở **Chương 5** mọi người đã được tìm hiểu về việc mã hóa các câu thành dạng chuỗi hay tensor của số thông qua cơ chế **Tokenizer**.\n",
        "\n",
        "Ở **Chương 6** chúng ta lại tìm hiểu thêm về **vector biểu diễn** hay **cơ chế embedding**, thông qua việc đưa các từ lên không gian cao hơn giúp truy xuất được nhiều ngữ nghĩa hơn, đồng thời xây dựng mối liên kết giữa các vectors đại diện từ có nhóm ngữ nghĩa tương đương nhau.\n",
        "\n",
        "Tuy nhiên bạn cũng nhận thấy rằng về cơ bản thì các phương pháp trên đều hoạt động dựa giống như một túi chứa các từ thôi, không phân biệt về thứ tự của chữ. Mà trong ngôn ngữ, **thứ tự** của các từ cũng đóng vai trò vô cùng **quan trọng về mặt ngữ nghĩa**.\n",
        "\n",
        "Ví dụ: Từ **\"blue\"** để yên cho nó có vẻ khá thiếu nghĩa, cũng giống như từ \"sky\" vậy. Nhưng khi thêm một danh từ sau chúng sẽ lại ăn khớp với nhau đến kì lạ, giờ đây từ **\"blue sky\"** sẽ có nghĩa là **\"bầu trời xanh\"**. Ngoài ra còn có các từ khác như **\"writing desk\", \"rain cloud\"**\n",
        "\n",
        "Các mô hình thông thường, chúng chỉ biết chúng có những từ đó và đưa lên không gian chiều cao hơn rồi đến các lớp tuyến tính và tính toán thôi nên khong mang tính ý nghĩa.\n",
        "\n"
      ],
      "metadata": {
        "id": "esbtLHrzI3m-"
      }
    },
    {
      "cell_type": "markdown",
      "source": [
        "Chính vì mặt hạn chế đó nên chúng ta cần một hướng tiếp cận mới. Và đó là mô hình hồi quy sử dụng tròn mạng thần kinh neural."
      ],
      "metadata": {
        "id": "p902vAyYMBsj"
      }
    },
    {
      "cell_type": "code",
      "execution_count": null,
      "metadata": {
        "id": "lBF1L_k6Fxrd"
      },
      "outputs": [],
      "source": []
    }
  ]
}