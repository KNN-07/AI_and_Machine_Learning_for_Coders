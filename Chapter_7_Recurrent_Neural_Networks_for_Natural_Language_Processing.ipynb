{
  "nbformat": 4,
  "nbformat_minor": 0,
  "metadata": {
    "colab": {
      "provenance": [],
      "collapsed_sections": [
        "FQHyC-A4Gqg_"
      ],
      "authorship_tag": "ABX9TyMJu25pu8QfeuxhJiuPFyDn",
      "include_colab_link": true
    },
    "kernelspec": {
      "name": "python3",
      "display_name": "Python 3"
    },
    "language_info": {
      "name": "python"
    }
  },
  "cells": [
    {
      "cell_type": "markdown",
      "metadata": {
        "id": "view-in-github",
        "colab_type": "text"
      },
      "source": [
        "<a href=\"https://colab.research.google.com/github/Tkag0001/AI_and_Machine_Learning_for_Coders/blob/main/Chapter_7_Recurrent_Neural_Networks_for_Natural_Language_Processing.ipynb\" target=\"_parent\"><img src=\"https://colab.research.google.com/assets/colab-badge.svg\" alt=\"Open In Colab\"/></a>"
      ]
    },
    {
      "cell_type": "markdown",
      "source": [
        "#Chapter 7: Recurrent Neural Networks for Natural Language Processing\n",
        "\n",
        "Chào mọi người nha, tụi mình lại gặp nhau rồi 🌻.\n",
        "Ở chương này tụi mình sẽ cùng tìm hiểu về việc sử dụng các mạng hồi quy để xử lý các bài toán về ngôn ngữ tự nhiên nha.\n",
        "\n"
      ],
      "metadata": {
        "id": "FQHyC-A4Gqg_"
      }
    },
    {
      "cell_type": "markdown",
      "source": [
        "![RNN image](https://www.simplilearn.com/ice9/free_resources_article_thumb/Fully_connected_Recurrent_Neural_Network.gif)"
      ],
      "metadata": {
        "id": "TVRrBIfdtFiC"
      }
    },
    {
      "cell_type": "markdown",
      "source": [
        "###Trước khi bước vào chương mới, tụi mình cùng ôn lại 2 chương trước đó nha.\n",
        "\n",
        "Ở **Chương 5** mọi người đã được tìm hiểu về việc mã hóa các câu thành dạng chuỗi hay tensor của số thông qua cơ chế **Tokenizer**.\n",
        "\n",
        "Ở **Chương 6** chúng ta lại tìm hiểu thêm về **vector biểu diễn** hay **cơ chế embedding**, thông qua việc đưa các từ lên không gian cao hơn giúp truy xuất được nhiều ngữ nghĩa hơn, đồng thời xây dựng mối liên kết giữa các vectors đại diện từ có nhóm ngữ nghĩa tương đương nhau.\n",
        "\n",
        "Tuy nhiên bạn cũng nhận thấy rằng về cơ bản thì các phương pháp trên đều hoạt động dựa giống như **một túi chứa các từ** thôi, không phân biệt về **thứ tự của chữ**. Mà trong ngôn ngữ, **thứ tự** của các từ lại đóng vai trò vô cùng **quan trọng về mặt ngữ nghĩa**.\n",
        "\n",
        "Ví dụ: Từ **\"blue\"** đứng một mình nó có vẻ khá thiếu nghĩa, nó có thể là buồn cũng có thể là chỉ màu xanh, cũng giống như từ **\"sky\"** vậy. Nhưng khi kết hợp lại chúng sẽ lại ăn khớp với nhau đến kì lạ, giờ đây từ **\"blue sky\"** sẽ có nghĩa là **\"bầu trời xanh\"**, tính từ đóng vai trò bổ nghĩa cho danh từ. Ngoài ra còn có các từ khác như **\"writing desk\", \"rain cloud\"**.\n",
        "\n",
        "Một ví dụ cụ thể khác như từ **\"brain\"** và **\"storm\"**, một từ nghĩa là não, một từ là bão nhưng khi kết hợp lại thành **\"brainstorm\"**, chúng lại có nghĩa là **động não**. Mọi người sẽ gặp các ví dụ rõ nhất trong các cụm **idioms** khi mà chúng thường mang nghĩa bóng khi ghép các từ lại thay vì nghĩa đen.\n",
        "\n",
        "Các mô hình thông thường, chúng chỉ biết chúng có những từ đó và đưa lên không gian chiều cao hơn rồi đến các lớp tuyến tính và tính toán thôi, chúng không quan tâm đến yếu tố về mặt **thứ tự, vị trí các từ** nên không mang tính ý nghĩa cao khi xét theo chuỗi.\n",
        "\n",
        "Mọi người có thể liên tưởng đến trường hợp **antigram** mà trước đó tụi mình có tìm hiểu trong **chương 4**, ở đây cũng tương tự vậy tuy nhiên là ở cấp từ thay vì kí tự.\n",
        "\n",
        "---\n",
        "\n",
        "Chính vì những mặt hạn chế ngữ nghĩa trên mà ta cần một phương pháp tiếp cận mới có thể giải quyết được những vấn đề đó, giúp cho mô hình có thể nhìn lại được quá khứ, nhớ lại được những từ phía trước. Và đó cũng là khởi đầu cho **cơ chế hồi quy, tái phát, lặp lại hay nhớ lại (recurrence)** trong kiến trúc của các mô hình sau này.\n"
      ],
      "metadata": {
        "id": "esbtLHrzI3m-"
      }
    },
    {
      "cell_type": "markdown",
      "source": [
        "![RNN image](https://research.aimultiple.com/wp-content/uploads/2021/08/rnn-text.gif)"
      ],
      "metadata": {
        "id": "qGjmONzfrpOA"
      }
    },
    {
      "cell_type": "markdown",
      "source": [
        "Trong **chương 7** này, mọi người sẽ tìm hiểu về các phương pháp để có thể hiện thực hóa cơ chế trên nha. Tụi mình sẽ đào sâu hơn về mặt **thông tin ngữ nghĩa của các chuỗi**, cách mà chúng được học cũng như một loại kiến trúc mô hình mới có khả năng hiểu tốt hơn các văn bản. Và đó chính là **Mạng nơ-ron hồi quy - Recurrent neural network (RNN)**"
      ],
      "metadata": {
        "id": "MwTnA1Joryzi"
      }
    },
    {
      "cell_type": "markdown",
      "source": [
        "# The Basic of Recurrence.\n",
        "### Khái niệm cơ bản về cơ chế hồi quy, tái phát, nhớ lại - Recurrence"
      ],
      "metadata": {
        "id": "6uSuCn9G0Mu-"
      }
    },
    {
      "cell_type": "markdown",
      "source": [
        "Trước khi tụi mình đi sâu vào hiểu cách mà **cơ chế hồi quy (Recurrence)** hoạt động, tụi mình sẽ nhìn lại về những **giới hạn** của các mô hình trước đó một lần nữa nha.\n",
        "\n",
        "Về cơ bản thì mọi thứ vẫn hoạt động theo kiểu bạn có **dữ liệu** này, bạn có **nhãn** của chúng này và rồi chúng ta đẩy tất cả vào mô hình, ép chúng học và tìm ra được **các quy luật bên trong**. Sau đó chúng ta sẽ sử dụng những quy luật có được hay còn được gọi là trọng số của mô hình để dự đoán các dữ liệu sau này."
      ],
      "metadata": {
        "id": "nhVlT-xs3K7N"
      }
    },
    {
      "cell_type": "markdown",
      "source": [
        "![c7_model](https://github.com/Tkag0001/AI_and_Machine_Learning_for_Coders/blob/main/images/Chapter_7/c7_model.png?raw=true)"
      ],
      "metadata": {
        "id": "QORUlxs6bYIU"
      }
    },
    {
      "cell_type": "markdown",
      "source": [
        "Tuy nhiên mọi người có thể thấy dữ liệu được đưa vào và xử lý một cách tổng thể, chúng không cố gắng tìm kiếm các chi tiết liên quan hay trình tự xuất hiện của dữ liệu. Điều này phần nào làm cho mô hình bị **\"ngu\"**!"
      ],
      "metadata": {
        "id": "ndy_g_Sh4w7D"
      }
    },
    {
      "cell_type": "markdown",
      "source": [
        "![c7_stupid](https://github.com/Tkag0001/AI_and_Machine_Learning_for_Coders/blob/main/images/Chapter_7/c7_stupid.png?raw=true)"
      ],
      "metadata": {
        "id": "mPI29jNrb2Do"
      }
    },
    {
      "cell_type": "markdown",
      "source": [
        "Mình sẽ lấy ví dụ một số trường hợp cụ thể về sự **\"ngu\"** của nó nha.\n",
        "Nếu bạn đưa 2 câu như sau:\n",
        "> Today I am **blue**, because the **sky** is gray.\n",
        "\n",
        "and\n",
        "\n",
        "> Today I am happy, and there's a beautiful **blue sky**.\n",
        "\n",
        "Đối với chúng ta sẽ hiểu ngay nhưng với mô hình lại khác. Chúng sẽ không hiểu được được từ **\"blue\"** ở trong 2 câu này có nghĩa khác nhau như thế nào đâu, khi mà ở câu đầu thì có nghĩa là **\"buồn\"** nhưng ở câu sau lại có nghĩa là **\"màu xanh\"**.\n",
        "\n",
        "Chúng chỉ hiểu đơn giản là 2 câu trên đều có từ \"blue\" và \"sky\" vậy là chúng tương tự và có ý nghĩa gần giống nhau trên không gian vector biểu diễn."
      ],
      "metadata": {
        "id": "qp7G0v5a-ooN"
      }
    },
    {
      "cell_type": "markdown",
      "source": [
        "> **Vậy làm thế nào để chúng có thể khôn ra được?**\n",
        "\n",
        "Đó là cho chúng hiểu và nắm bắt được thứ tự các từ kết hợp với nhau. Mà để làm được việc này, chúng ta cần mô hình nhớ lại được kiến thức trước đó. Và đây cũng là nền tảng chính cho việc xử lý các dữ liệu có cấu trúc dạng chuỗi.\n",
        "\n",
        "Chắc mọi người ai cũng gặp qua cụm **\"hồi quy tiền kiếp\"** rồi ha. Nói đơn giản thì hồi quy có nghĩa là **\"nhớ lại\"** nhưng mà nói cho nó sang hơn =))"
      ],
      "metadata": {
        "id": "6jpHXwLZAQ-l"
      }
    },
    {
      "cell_type": "markdown",
      "source": [
        "### Bây giờ tụi mình mới chính thức đi vào tìm hiểu bản chất của cơ chế hồi quy, qua đó hiểu được cách thức hoạt động của mạng **RNN** nha."
      ],
      "metadata": {
        "id": "GPdxzRXrgSwX"
      }
    },
    {
      "cell_type": "markdown",
      "source": [
        "Tụi mình sẽ lấy ví dụ đơn giản về **dãy Fibonacci nha**, đây là một dạng cơ bản của chuỗi tuần tự khi mà số phía sau bằng hai số trước cộng lại, do đó chúng có mối quan hệ mật thiết về mặt trình tự theo thời gian."
      ],
      "metadata": {
        "id": "VgRS_fMhB9Xv"
      }
    },
    {
      "cell_type": "markdown",
      "source": [
        "![fibonacci numbers](https://github.com/Tkag0001/AI_and_Machine_Learning_for_Coders/blob/main/images/Chapter_7/fibonacci_number.jpg?raw=true)"
      ],
      "metadata": {
        "id": "FHz8PwZXCKS_"
      }
    },
    {
      "cell_type": "markdown",
      "source": [
        "![image.png](https://github.com/Tkag0001/AI_and_Machine_Learning_for_Coders/blob/main/images/Chapter_7/fibonacci_algorithms.jpg?raw=true)"
      ],
      "metadata": {
        "id": "MMQGq-wMDA0V"
      }
    },
    {
      "cell_type": "markdown",
      "source": [
        "Ý tưởng của mạng hồi quy - RNN cũng sẽ hoạt động tương tự như vậy nha.\n",
        "\n",
        "Ở đây mình định nghĩa mỗi ô cộng màu cam sẽ đại diện cho **phép tính toán tại 1 thời điểm hay mỗi trạng thái thời gian** nha. Vậy là ta có tổng cộng 3 trạng thái thời gian.\n",
        "\n",
        "***Mọi người nhớ kĩ giúp mình đoạn này nha!***\n",
        "\n",
        "Ở **trạng thái thứ nhất**, thuật toán sẽ lấy **dữ liệu khởi đầu** là 1, 2 và tính ra **output của trạng thái 1** là 3. Tiếp đến sang phép tính ở **trạng thái thứ 2**, thuật toán lấy dữ liệu tiếp theo là số **2** và kết hợp với **output ở trạng thái 1 là 3**, kết quả **output ở trạng thái 2 này là 5**, tương tự như vậy ở trạng thái thứ 3.\n",
        "\n",
        "Trải qua quá trình trên thì khi đến trạng thái cuối cùng, **kết quả đầu ra của tụi mình sẽ có sự đóng góp ý nghĩa của các kết quả, trạng thái trước đó** trong chuỗi từ đó có thể nắm bắt được ý nghĩa của toàn bộ chuỗi.\n",
        "\n",
        "Dưới đây là hình vẽ thu nhỏ, mô tả khái quát quá trình hoạt động của nơ-ron hồi quy nha.\n"
      ],
      "metadata": {
        "id": "Lp1Ubf0aGbTr"
      }
    },
    {
      "cell_type": "markdown",
      "source": [
        "![architecture](https://github.com/Tkag0001/AI_and_Machine_Learning_for_Coders/blob/main/images/Chapter_7/architecture_rnn.jpg?raw=true)"
      ],
      "metadata": {
        "id": "UOYTbAiJNMdT"
      }
    },
    {
      "cell_type": "markdown",
      "source": [
        "**Hình này mô tả tổng quát về cách mà một nơ-ron hồi quy hoạt động.**\n",
        "\n",
        "Ta gọi **F** là quá trình tính toán của mô hình tại mỗi thời điểm. **t**  đại diện cho thời điểm xảy ra phép toán. **x** là dữ liệu đầu vào và **y** là kết quả đầu ra.\n",
        "Tại mỗi thời điểm **t**, mô hình sẽ nhận dữ liệu đầu vào là **x(t)**, sau đó tính ra kết quả là **y(t)**, đồng thời kết quả đó lại được đưa vào tổng hợp chung với dữ liệu ở phép toán trạng thái thời gian tiếp theo **(t+1)**. Chúng cứ cộng liên tục dữ liệu trong quá khứ như vậy cho đến khi hết chuỗi thì thôi.\n",
        "\n"
      ],
      "metadata": {
        "id": "cNl9ClPRIiPZ"
      }
    },
    {
      "cell_type": "markdown",
      "source": [
        "![detail_neural](https://github.com/Tkag0001/AI_and_Machine_Learning_for_Coders/blob/main/images/Chapter_7/detail_architecture_rnn.jpg?raw=true)"
      ],
      "metadata": {
        "id": "cK4K6L2KebEV"
      }
    },
    {
      "cell_type": "markdown",
      "source": [
        "Bây giờ tụi mình tiến hành phân tích kĩ hơn nha, ta sẽ có chuỗi trạng thái như trên. Đây là chi tiết các bước mà nơ-ron hoạt động trong suốt quá trình, qua từng trạng thái thời gian.\n",
        "\n",
        "Đầu tiên nơ-ron thực hiện phép tính toán **F** tại **thời điểm 0 (x0, y0)**, trả về kết quả **y(0)** rồi lại đưa tiếp vào tổng hợp chung với phép tính toán **F** tại **thời điểm 1 (x1, y1)**, trả về kết quả **y1**, tiếp tục lặp lại như vậy với **thời điểm 2 (x2, y2)** cho đến khi hết chuỗi."
      ],
      "metadata": {
        "id": "VHp1uPQdeGyn"
      }
    },
    {
      "cell_type": "markdown",
      "source": [
        "*Lưu ý: mình chỉ dùng dãy số Fibonacci để mọi người có thể dễ hiểu và mường tượng và cách mà kiến trúc mạng hồi quy - RNN hoạt động. Còn về chi tiết thì phép toán mà mô hình thực hiện bên trong sẽ phức tạp hơn nhiều.*"
      ],
      "metadata": {
        "id": "RDKQZ32oKTPF"
      }
    },
    {
      "cell_type": "markdown",
      "source": [
        "#Extending Recurrence for Language\n",
        "### Tụi mình sẽ mở rộng tìm hiểu về tính hồi quy trong xử lý ngôn ngữ tự nhiên nha."
      ],
      "metadata": {
        "id": "hrjvRgqGK280"
      }
    },
    {
      "cell_type": "markdown",
      "source": [
        "Ở phần trước tụi mình đã tìm hiểu về cơ chế hoạt động của RNN, cách mà chúng có thể nắm bắt được ngữ cảnh xuyên suốt một câu hay chuỗi rồi ha mọi người. Điều này thật sự là một bước đột phá, cải tiến ở thời điểm bây giờ. Các kiến trúc liên quan đến RNN sẽ được ứng dụng và sử dụng nhiều ở các chương tiếp theo.\n",
        "\n",
        "Tuy nhiên tại thời điểm lúc đó, người ta cũng nhận thấy có một **nhược điểm chí tử** với kiến trúc **RNN cơ bản**.\n",
        "\n",
        "--> **Dữ liệu về ngữ cảnh sẽ bị mất dẫn theo thời gian.**\n",
        "\n",
        ">**Vậy tại sao lại có điều này xảy ra?**\n",
        "\n",
        "Tụi mình sẽ cũng phân tích lại cách thức hoạt động của RNN thông qua ví dụ về dãy **Fibonacci** nha. Chúng ta biết rằng kết quả số phía sau sẽ bằng 2 số trước cộng lại, do đó giá trị của các số phía trước sẽ có tác động, ảnh hưởng đến số phía sau.\n"
      ],
      "metadata": {
        "id": "eA7oi4bQpf2_"
      }
    },
    {
      "cell_type": "markdown",
      "source": [
        "![image.png](https://github.com/Tkag0001/AI_and_Machine_Learning_for_Coders/blob/main/images/Chapter_7/fibonacci_algorithms.jpg?raw=true)"
      ],
      "metadata": {
        "id": "43uZVOGWwtlM"
      }
    },
    {
      "cell_type": "markdown",
      "source": [
        "\n",
        "**Số 1 và số 2 sẽ có tác động mạnh, ảnh hưởng trực tiếp tới kết quả đầu ra ở thời điểm đầu tiên là 3**. Tương tự như vậy số 2 và số 3 sẽ có tác động mạnh đến kết quả đầu ra là 5 ở thời điểm thứ 2. Tuy nhiên **tác động của số 1 và số 2 ban đầu đến số 5 ở thời điểm 2 đã yếu hơn** bởi giờ đây tổng của chúng trên 5 **chỉ còn 3/5**. Tương tự như vậy chuỗi càng dài về sau thì tác động của các số ở đầu sẽ bị yếu đi cho đến khi bạn không còn nhận thấy được sự đóng góp, hiện của nó nữa. Ví dụ khi đến **số Fibonacci thứ 8 là 89 thì tác động của 1 và 2 chỉ còn là 3/89**.\n",
        "\n",
        "Qua đó mọi người thấy với chuỗi càng dài thì khả năng mất mát dữ liệu, ngữ cảnh càng lớn, mô hình sẽ dần quên đi các dữ liệu trước đó.\n",
        "\n",
        "Ví dụ cụ thể trong các câu văn đi ha. Ở đây token **< ? >** đại diện cho từ không  biết trước, nó có thể là bất kỳ từ nào.\n",
        "\n",
        "> **Today has a beautifull blue < ? >.**\n",
        "\n",
        "Thì ở đây từ **\"blue\"** sẽ có tác động, ảnh hưởng lớn nhất đến từ tiếp theo, do đó mô hình có thể đoán từ tiếp theo là **\"sky\"**.\n",
        "\n",
        "Tuy nhiên với những câu dài hơn như:\n",
        "\n",
        "> **I lived in Ireland, so in high school I had to learn how to speak < ? >.**\n",
        "\n",
        "Ở đây mọi người có thê đoán từ ẩn đó là một ngôn ngữ gì đó, và thông thường chúng ta sẽ xác định chính thông qua từ **\"speak\", \"high school\" và \"Ireland\"** đúng không. Tuy nhiên 2 từ **\"high school\" và \"Ireland\" đó lại ở quá xa so với từ ẩn khiến mức độ ảnh hưởng của chúng đến từ ẩn là không nhiều**, do đó mô hình không nhận định và dự đoán được từ tiếp theo chuẩn không, kết quả có thể sẽ sai nhiều hơn.\n",
        "\n",
        "Ví dụ từ ẩn đúng ra phải là \"Gaelic\" tuy nhiên lại bị dự đoán thành \"Ireland\" hoặc bất kì từ khác."
      ],
      "metadata": {
        "id": "lJ3gxvGpwt7P"
      }
    },
    {
      "cell_type": "markdown",
      "source": [
        "### Vậy vấn đề bây giờ của chúng là làm cách nào khắc phục vấn đề mất mát ngữ cảnh trên?\n",
        "\n",
        "Để làm được việc này, chúng ta cần phải **gia tăng khả năng nhớ, bộ nhớ ngắn hạn của RNN** để có thể nhớ được lâu hơn với các chuỗi dài hơn. Và đó cũng là ý tưởng khởi đầu cho sự ra đời của một kiến trúc mới, nâng cấp hơn mang tên bộ nhớ dài ngắn hạn - **Long Short-term memory (LSTM)**\n",
        "\n",
        "*P/s: thiệt sự là mọi người nên đọc tên em nó bằng tiếng Anh nha, đọc sang tiếng Việt thấy nó kì kì quá =))*"
      ],
      "metadata": {
        "id": "cImWsR-1zQVJ"
      }
    },
    {
      "cell_type": "markdown",
      "source": [
        "Tiếp theo, tụi mình sẽ tìm hiểu về **LSTM**. Nhưng mà theo tiêu chí của tụi mình là không đi sâu quá về thuật toán nên là mình sẽ tìm hiểu cách chúng hoạt động ở cấp độ ứng dụng thôi nha. Nếu các bạn vẫn muốn tìm hiểu sâu về code thì có thể tham khảo thử [blog](https://nttuan8.com/bai-14-long-short-term-memory-lstm/) này."
      ],
      "metadata": {
        "id": "UTrqo8T84Kds"
      }
    },
    {
      "cell_type": "markdown",
      "source": [
        "![lstm](https://github.com/Tkag0001/AI_and_Machine_Learning_for_Coders/blob/main/images/Chapter_7/lstm.jpg?raw=true)"
      ],
      "metadata": {
        "id": "X0WQVJx65FA0"
      }
    },
    {
      "cell_type": "markdown",
      "source": [
        "Mọi người hiểu đơn giản là **LSTM** sẽ nâng cấp RNN cơ bản lên bằng cách thêm vào một cái gọi là **ô trạng thái (Cell state)**. Chúng cho phép ngữ cảnh được duy trì không chỉ qua từng bước mà còn là xuyên suốt cả toàn bộ chuỗi các bước.\n",
        "\n",
        "*Lưu ý: chúng là nơ-ron, do đó sẽ học theo cách mà nơ-ron hoạt động, điều này giúp đảm bảo các ngữ cảnh quan trọng sẽ được học dần theo thời gian.*"
      ],
      "metadata": {
        "id": "ULw_zmlR5JIC"
      }
    },
    {
      "cell_type": "markdown",
      "source": [
        "Một phần quan trọng, cải tiến của **LSTM** lên nữa là **Bidirectional**. bạn có thể cho nó học theo cả 2 chiều của chuỗi tức từ **trước về sau (forward)** và ngược lại từ **sau ra trước (backward)**. Mọi người có thể gọi nó là **BLSTM** nha\n"
      ],
      "metadata": {
        "id": "KRouFFvE-ZWT"
      }
    },
    {
      "cell_type": "markdown",
      "source": [
        "![bblstm](https://github.com/Tkag0001/AI_and_Machine_Learning_for_Coders/blob/main/images/Chapter_7/blstm.jpg?raw=true)"
      ],
      "metadata": {
        "id": "5srMz4-g-U8K"
      }
    },
    {
      "cell_type": "markdown",
      "source": [
        "\n",
        "Ở cách này thì kết quả đánh giá sẽ được thực hiện theo hướng từ **step 0 đến step n** và ngược lại từ **step n đến step 0**. Tại mỗi bước thời gian, kết quả của **y** là sự tổng hợp của cả quá trình **forward** và **backward**.\n",
        "\n",
        "Tụi mình sẽ phân tích hơn với biểu đồ tính dưới đây nhá."
      ],
      "metadata": {
        "id": "-dxX2BFN6I_E"
      }
    },
    {
      "cell_type": "markdown",
      "source": [
        "![detail_blstm](https://github.com/Tkag0001/AI_and_Machine_Learning_for_Coders/blob/main/images/Chapter_7/detail_blstm.jpg?raw=true)"
      ],
      "metadata": {
        "id": "VA7nxAAc_Fwx"
      }
    },
    {
      "cell_type": "markdown",
      "source": [
        "Ở đây chúng ta có 3 nơ-ron tương ứng với 3 trạng thái thời gian là **F1, F2, F3**. Dấu mũi tên sẽ đại diện cho hướng đi **forward** hay **backward**. Sẽ trị của chúng sẽ được tổng hợp lại ra kết quả y cho các bước thời gian hay trạng thái thời gian. Vì ở đây ta sử dụng là **BLSTM** nên ô trạng thái của chúng ta cũng mang tính chất 2 chiều, điều này đặc biệt rất hữu ích cho việc quản lý nội dung của các chuỗi hay câu văn.\n",
        "\n",
        "Quay trở lại câu mà tụi mình đã ví dụ lúc trước nhá:\n",
        "> **I lived in Ireland, so in high school I had to learn how to speak < ? >.**\n",
        "\n",
        "Giờ đây sau khi được học qua cả 2 chiều thì mô hình đã nắm được mức độ ảnh hưởng của các từ **\"Ireland\" và \"high school** một cách rõ rệt, qua đó đoán được chính xác từ ẩn là từ **\"Gaelic\"**.\n",
        "\n",
        "Đổi ngược lại nếu bây giờ từ **\"Ireland\"** là từ ẩn thì vẫn có thể dự đoán được nha.\n",
        "\n",
        "Các bạn có thể thấy sử dụng **BLSTM** thật sự là một công cụ vô cùng mạnh mẽ cho các tác vụ cao, yêu cầu hiểu ngữ nghĩa bên trong văn bản. Tụi mình sẽ ứng dụng nó rất nhiều trong **chương 8** nha.\n",
        "\n",
        "*Lưu ý: vì thực hiện đến 2 lần tính toán **forward** và **backward** trên chuỗi nên số lượng phép toán cũng như tài nguyên tính toán sẽ lớn hơn nhiều nên các bạn có thể dùng **GPU** để đẩy nhanh quá trình hơn nha.*"
      ],
      "metadata": {
        "id": "N6Oi3UZp_Ind"
      }
    },
    {
      "cell_type": "markdown",
      "source": [
        "# Creating a Text Classifier with RNNs\n",
        "### Tụi mình sẽ xây dựng một mô hình phân loại văn bản với RNN nha.\n",
        "\n",
        "Ở đây tụi mình dùng lại luôn bài toán với bộ dữ liệu **Sarcam** trước đó nha. Các bước tiền xử lý dữ liệu thì vẫn như nhau."
      ],
      "metadata": {
        "id": "pLP75bnQDM6b"
      }
    },
    {
      "cell_type": "code",
      "source": [
        "import kagglehub\n",
        "\n",
        "# Download latest version\n",
        "path = kagglehub.dataset_download(\"rmisra/news-headlines-dataset-for-sarcasm-detection\")\n",
        "\n",
        "print(\"Path to dataset files:\", path)"
      ],
      "metadata": {
        "id": "eGpWIBrerya_"
      },
      "execution_count": null,
      "outputs": []
    },
    {
      "cell_type": "code",
      "source": [],
      "metadata": {
        "id": "bCm5rOyPFgEv"
      },
      "execution_count": null,
      "outputs": []
    },
    {
      "cell_type": "code",
      "execution_count": null,
      "metadata": {
        "id": "lBF1L_k6Fxrd"
      },
      "outputs": [],
      "source": []
    }
  ]
}