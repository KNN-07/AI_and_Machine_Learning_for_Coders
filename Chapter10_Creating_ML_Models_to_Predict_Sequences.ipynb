{
  "cells": [
    {
      "cell_type": "markdown",
      "metadata": {
        "id": "view-in-github",
        "colab_type": "text"
      },
      "source": [
        "<a href=\"https://colab.research.google.com/github/Tkag0001/AI_and_Machine_Learning_for_Coders/blob/main/Chapter10_Creating_ML_Models_to_Predict_Sequences.ipynb\" target=\"_parent\"><img src=\"https://colab.research.google.com/assets/colab-badge.svg\" alt=\"Open In Colab\"/></a>"
      ]
    },
    {
      "cell_type": "markdown",
      "metadata": {
        "id": "5KWus4RuJ2GZ"
      },
      "source": [
        "# Chapter 10: Creating ML Models to Predict Sequences  \n",
        "## Tạo ra các mô hình học máy để dự đoán chuỗi\n",
        "\n",
        "Hi, chào mọi người, tụi mình lại gặp nhau rồi. 😊  \n",
        "\n",
        "Ở chương trước, chúng ta đã cùng tìm hiểu về dữ liệu chuỗi thời gian cũng như các phương pháp cơ bản để dự đoán chúng. Hôm nay, tụi mình sẽ cùng tìm hiểu sâu hơn về các phương pháp học máy để dự đoán nha. 💻  \n",
        "\n",
        "Tuy nhiên, trước khi đi vào các mô hình dự đoán, tụi mình sẽ phải tìm hiểu về cấu trúc dữ liệu cần chuẩn bị để đưa vào mô hình nha.  \n",
        "Về cơ bản thì khâu chuẩn bị này cũng không khác gì mấy ở chương trước, nhưng sẽ bài bản hơn khi mà phần dữ liệu này sẽ có tên gọi là **\"windowed dataset\"**. 🧩  "
      ]
    },
    {
      "cell_type": "markdown",
      "metadata": {
        "id": "jnqN_V5xLXZW"
      },
      "source": [
        "Đây là biểu đồ dữ liệu của tụi mình ở chương trước nha."
      ]
    },
    {
      "cell_type": "markdown",
      "source": [
        "![real_data](https://github.com/Tkag0001/AI_and_Machine_Learning_for_Coders/blob/main/images/Chapter_10/real_data.png?raw=true)"
      ],
      "metadata": {
        "id": "5MZMJr86LLiG"
      }
    },
    {
      "cell_type": "markdown",
      "metadata": {
        "id": "7OdYHQSZNpbD"
      },
      "source": [
        "**Định nghĩa:** \"windowed dataset\" là một tập dữ liệu được tạo ra bằng cách chia dữ liệu thời gian thành các **\"cửa sổ dữ liệu\"** với mỗi cửa sổ chứa *n* giá trị liên tiếp tại các bước dữ liệu thời gian, đại diện cho **đặc trưng** đưa vào mô hình, và giá trị tiếp theo sẽ là **nhãn** của cửa sổ đó. 📊\n",
        "\n",
        "Nếu bạn muốn dự đoán giá trị tại thời điểm **(t)** thì cần phải sử dụng **n** giá trị trước đó làm dữ liệu đầu vào. Trong đó, **n** chính là kích thước của **\"cửa sổ dữ liệu\"**. 🕒\n",
        "\n",
        "**VD:** Định nghĩa **n = 30**. Để dự đoán giá trị tại thời điểm **t = 1200**, ta cần sử dụng các giá trị từ thời điểm **t = 1170 đến 1199**. 🔍"
      ]
    },
    {
      "cell_type": "markdown",
      "source": [
        "![windowed_data](https://github.com/Tkag0001/AI_and_Machine_Learning_for_Coders/blob/main/images/Chapter_10/windowed_data.png?raw=true)"
      ],
      "metadata": {
        "id": "2yWG-hB5LPoG"
      }
    },
    {
      "cell_type": "markdown",
      "metadata": {
        "id": "ozoEaPuHP4hf"
      },
      "source": [
        "Vậy các giá trị tại thời điểm **t = 1970 đến 1999** sẽ được coi là phần **đặc trưng**, còn giá trị cần dự đoán tại thời điểm **t = 2000** được gọi là **nhãn**. 🎯\n",
        "\n",
        "Tương tự như vậy, thông qua việc **trượt dài cửa sổ liên tục** trên bộ dữ liệu thời gian, ta sẽ thu được bộ dữ liệu mong muốn để huấn luyện mô hình, có tên gọi là **\"windowed dataset\"**. 🖥️\n",
        "\n",
        "*P/s: Mình nghĩ mọi người nên dùng từ **windowed dataset** hơn nha. Nó là một thuật ngữ chuyên ngành á. Chúng ta có thể giải thích đơn giản là **window dataset** là bộ dữ liệu dạng chuỗi được tạo ra bằng phương pháp cửa sổ trượt.* 🚀"
      ]
    },
    {
      "cell_type": "markdown",
      "metadata": {
        "id": "9Hz2PABnRK-d"
      },
      "source": [
        "# Creating a Windowed Dataset 🏗️\n",
        "\n",
        "Bây giờ, tụi mình sẽ tiến hành thử tạo ra **\"Windowed dataset\"** nha. 🚀"
      ]
    },
    {
      "cell_type": "code",
      "execution_count": null,
      "metadata": {
        "id": "w7lgsg88SexQ"
      },
      "outputs": [],
      "source": [
        "import tensorflow as tf\n",
        "import numpy as np\n",
        "import matplotlib.pyplot as plt\n",
        "from tensorflow.keras.models import Sequential\n",
        "from tensorflow.keras.layers import Dense\n",
        "from tensorflow.keras.optimizers import SGD\n",
        "import time as timer\n",
        "from datetime import timedelta"
      ]
    },
    {
      "cell_type": "code",
      "execution_count": null,
      "metadata": {
        "id": "LAW5roT3Rcw7"
      },
      "outputs": [],
      "source": [
        "# Định nghĩa kích thước của cửa sổ dữ liệu\n",
        "window_size = 4\n",
        "\n",
        "# Tạo ra một dãy giá trị từ 0 đến 9 (bao gồm cả 9)\n",
        "dataset = tf.data.Dataset.range(10)\n",
        "# Hiển thị dữ liệu\n",
        "print(f\"Dữ liệu thô:\\n{dataset}\")\n",
        "for d in dataset:\n",
        "  print(d.numpy(), end=\", \")\n",
        "print() # Để xuống hàng\n",
        "\n",
        "# Dùng cửa sổ trượt để tạo ra các cửa sổ dữ liệu\n",
        "dataset = dataset.window(window_size + 1, shift=1, drop_remainder=True)\n",
        "# Chúng ta cộng 1 vào đại diện cho nhãn của cửa sổ đó, một chập chúng ta sẽ cắt ra\n",
        "# shift là số ô trượt trong một lần, drop_remainder để tự động loại bỏ các cửa sổ có số giá trị nhỏ hơn kích thước\n",
        "# Hiển thị dữ liệu\n",
        "print(f\"\\nDữ liệu sau khi áp dụng cửa sổ trượt:\\n{dataset}\")\n",
        "for window_dataset in dataset:\n",
        "    # window_dataset là một Dataset chứa các phần tử của một cửa sổ\n",
        "    window_values = list(window_dataset.as_numpy_iterator())  # Trích xuất dữ liệu\n",
        "    print(window_values)\n",
        "\n",
        "# Dùng batch chuyển kiểu dữ liệu từ dataset thành tensorflow thông thường\n",
        "dataset = dataset.flat_map(lambda window: window.batch(window_size + 1))\n",
        "# Hiển thị dữ liệu\n",
        "print(f\"\\nDữ liệu sau khi áp dụng batch:\\n{dataset}\")\n",
        "for window in dataset:\n",
        "  print(window.numpy())"
      ]
    },
    {
      "cell_type": "markdown",
      "metadata": {
        "id": "OEZY2RSfUKqE"
      },
      "source": [
        "Đây là kết quả dữ liệu của tụi mình nha.\n",
        "\n",
        "\n",
        "```python\n",
        "[0 1 2 3 4]\n",
        "[1 2 3 4 5]\n",
        "[2 3 4 5 6]\n",
        "[3 4 5 6 7]\n",
        "[4 5 6 7 8]\n",
        "[5 6 7 8 9]\n",
        "```\n",
        "\n",
        "Sau khi đã chia thành cácc cửa sổ dữ liệu rồi, tụi mình sẽ tiến hành chia phần đặc trưng và nhãn ở các cửa sổ ra nha."
      ]
    },
    {
      "cell_type": "code",
      "execution_count": null,
      "metadata": {
        "id": "Ojn9o6YjfNxI"
      },
      "outputs": [],
      "source": [
        "dataset = dataset.map(lambda window: (window[:-1], window[-1:]))\n",
        "# Hiển thị dữ liệu\n",
        "print(f\"\\nDữ liệu sau khi chia đặc trưng và nhãn:\\n{dataset}\")\n",
        "for x, y in dataset:\n",
        "  print(x.numpy(), y.numpy())"
      ]
    },
    {
      "cell_type": "markdown",
      "metadata": {
        "id": "cUivL8eAfem-"
      },
      "source": [
        "Sau đó, ta tiến hành xáo trộn dữ liệu lên và chia ra các lô"
      ]
    },
    {
      "cell_type": "code",
      "execution_count": null,
      "metadata": {
        "id": "5d5bfVlATs3U"
      },
      "outputs": [],
      "source": [
        "batch_size = 2\n",
        "dataset = dataset.shuffle(10).batch(batch_size).prefetch(1)\n",
        "# prefetch giúp tăng tốc độ xử lý dữ liệu trong quá trình song song hóa, ở hiện tại sẽ đưa trước 1 batch vào.\n",
        "\n",
        "# Hiển thị dữ liệu\n",
        "for x,y in dataset:\n",
        "  print(\"x = \", x.numpy())\n",
        "  print(\"y = \", y.numpy())\n"
      ]
    },
    {
      "cell_type": "markdown",
      "metadata": {
        "id": "klvtQiychZvk"
      },
      "source": [
        "Đây là kết quả của tụi mình.\n",
        "\n",
        "```\n",
        "x =  [[2 3 4 5]\n",
        " [5 6 7 8]]\n",
        "y =  [[6]\n",
        " [9]]\n",
        "x =  [[1 2 3 4]\n",
        " [4 5 6 7]]\n",
        "y =  [[5]\n",
        " [8]]\n",
        "x =  [[3 4 5 6]\n",
        " [0 1 2 3]]\n",
        "y =  [[7]\n",
        " [4]]\n",
        "```\n",
        "\n",
        "Mọi người có thể thấy dữ liệu chia thành danh sách các lô (batch) với mỗi batch có 2 mẫu.\n",
        "\n"
      ]
    },
    {
      "cell_type": "markdown",
      "metadata": {
        "id": "UGKB4oFZhsK_"
      },
      "source": [
        "# Creating a Windowed Version of the Time Series Dataset 🌟\n",
        "\n",
        "Bây giờ tụi mình tiến hành áp dụng phương pháp cửa sổ trượt này trên dữ liệu thời gian đã tạo ở chương 9 để tạo ra **windowed dataset** nha. 💻✨"
      ]
    },
    {
      "cell_type": "code",
      "execution_count": null,
      "metadata": {
        "id": "Yta85x-XhZNv"
      },
      "outputs": [],
      "source": [
        "def plot_series(time, series, format=\"-\", start=0, end=None):\n",
        "  \"\"\"\n",
        "  Hàm này dùng để vẽ dữ liệu chuỗi thời gian trong một khung thời gian\n",
        "\n",
        "  Tham số đầu vào:\n",
        "  - time: khoảng thời gian xảy ra\n",
        "  - series: chuỗi giá trị tương ứng trong thời gian đó\n",
        "  - start: thời gian bắt đầu\n",
        "  - end: thời gian kết thúc\n",
        "  \"\"\"\n",
        "\n",
        "  plt.plot(time[start:end], series[start:end], format)\n",
        "  plt.xlabel(\"Time\")\n",
        "  plt.ylabel(\"Value\")\n",
        "  plt.grid(True)\n",
        "\n",
        "\n",
        "def trend(time, slope=0):\n",
        "  \"\"\"\n",
        "  Hàm này giúp điều hướng xu hướng của dữ liệu, giống với phương trình bậc 1\n",
        "\n",
        "  Tham số đầu vào:\n",
        "  - time: khoảng thời gian xảy ra\n",
        "  - slope: độ dốc của dữ liệu.\n",
        "    + Nếu giá trị dương thì đường thẳng hưởng lên, ta có xu hướng Uptrend\n",
        "    + Nếu giá trị âm thì chúng ta có xu hướng Downtrend\n",
        "\n",
        "  Kết quả trả về:\n",
        "  - series: danh sách giá trị theo xu hướng thời gian\n",
        "  \"\"\"\n",
        "  return slope * time\n",
        "\n",
        "\n",
        "def seasonal_pattern(season_time):\n",
        "  \"\"\"\n",
        "  Hàm này dùng để tạo ra mẫu dữ liệu trong 1 mùa.\n",
        "  Ở đây mình chia làm 2 pha tính, logic tính toán như sau nha:\n",
        "  - Nếu thời gian mùa < 0.4, tiến hành tính theo dao động cosine: np.cos(season_time *2 *np.pi)\n",
        "  - Nếu thời gian mùa > 0.4, tiến hành tính theo hàm suy giảm mũ:  1 / np.exp(3 * season_time)\n",
        "\n",
        "  Tham số đầu vào:\n",
        "  - thời gian của mùa\n",
        "\n",
        "  Kết quả trả về:\n",
        "  - res: kết quả tính ra được từ logic tính toán nằm trong khoảng [-1, 1]\n",
        "  \"\"\"\n",
        "  res = np.where(season_time<0.4,\n",
        "                 np.cos(season_time * 2 * np.pi),\n",
        "                 1 / np.exp(3 * season_time))\n",
        "  return res\n",
        "\n",
        "def seasonality(time, period, amplitude=1, phase=0):\n",
        "  \"\"\"\n",
        "  Hàm này để lặp lại, tạo nên thời gian cho các mùa nha.\n",
        "  Logic tính toán sẽ như sau:\n",
        "  - time % period sẽ ra giá trị trong khoảng [0, period - 1] -> tạo ra được các lần lặp thời gian của mùa [0->period-1, 0->period-1,...]\n",
        "  - / period sẽ tiến hành chuẩn hóa lại thời gian của mùa về khoảng [0, 1]\n",
        "  - Chạy seasion time vô hàm seasonal_pattern để tạo ra chuỗi giá trị tương ứng với dãy thời gian của các mùa, giá trị nằm trong khoảng [-1, 1]\n",
        "  - amplitude * seasonal_pattern, ta tiến hành nhân biên độ dao động với chuỗi giá trị thì giá trị cuối cùng sẽ trong khoảng [-amplitude, amplitude]\n",
        "\n",
        "  Tham số đầu vào:\n",
        "  - time: khoảng thời gian xảy ra\n",
        "  - period: khoảng thời gian của một mùa\n",
        "  - amplitude: biên độ dao động tối đa của dữ liệu, ví dụ mình để là 15 thì sẽ dao động trong khoảng giá trị từ -15 đến 15\n",
        "  - phase: độ lệch pha, ví dụ nếu ta gán 15, thay vì mùa vụ bắt đầu từ thời điểm t = 0 thì bị lệch đi 15 bước thời gian tức bắt đầu vào t = 15\n",
        "\n",
        "  Kết quả trả về:\n",
        "  - res: dữ liệu mang tính chu kỳ, mùa vụ\n",
        "  \"\"\"\n",
        "  season_time = ((time + phase) % period) / period\n",
        "  res = amplitude * seasonal_pattern(season_time)\n",
        "  return res\n",
        "\n",
        "\n",
        "def noise(time, noise_level=1, seed=None):\n",
        "  \"\"\"\n",
        "  Hàm này để tạo tính nhiễu cho dữ liệu\n",
        "  Logic tính toán như sau:\n",
        "  - rnd.rand(len(time)) trả về một dãy giá trị có độ lớn trong khoảng [0,1),\n",
        "   số lượng giá trị bằng số bước thời gian\n",
        "  - Sau đó nhân với noise_level sẽ ra giá trị trong khoảng [0, noise_level)\n",
        "\n",
        "  Tham số đầu vào:\n",
        "  - time: khoảng thời gian xảy ra.\n",
        "  - noise_level: cấp độ nhiễu của dữ liệu\n",
        "  - seed: nếu để giá trị khác None, thì ở các lần chạy sau,\n",
        "  khi giá trị seed bằng nhau thì giá trị ngẫu nhiên tạo ra cũng bằng nhau\n",
        "\n",
        "  Kết quả đầu ra:\n",
        "  - res: dữ liệu mang tính nhiếu\n",
        "  \"\"\"\n",
        "  rnd = np.random.RandomState(seed)\n",
        "  res = rnd.rand(len(time)) * noise_level\n",
        "  return res"
      ]
    },
    {
      "cell_type": "code",
      "execution_count": null,
      "metadata": {
        "id": "zE1O-gY6iLrF"
      },
      "outputs": [],
      "source": [
        "time = np.arange(4 * 365 + 1, dtype=\"float32\")\n",
        "# series = trend(time, 0.1)\n",
        "# baseline = 10\n",
        "# amplitude = 15\n",
        "# slop = 0.09\n",
        "# noise_level = 15\n",
        "# period = 360\n",
        "\n",
        "series = trend(time, 0.1)\n",
        "baseline = 10\n",
        "amplitude = 20\n",
        "slop = 0.09\n",
        "noise_level = 5\n",
        "period = 360\n",
        "\n",
        "series = baseline + trend(time, slop)\n",
        "series += seasonality(time, period=period, amplitude=amplitude)\n",
        "series += noise(time, noise_level, seed=42)\n",
        "plot_series(time, series)"
      ]
    },
    {
      "cell_type": "code",
      "execution_count": null,
      "metadata": {
        "id": "HZmvNN86jlD6"
      },
      "outputs": [],
      "source": [
        "# Tiến hành tạo \"windowed dataset\"\n",
        "def windowed_dataset(series, window_size, batch_size, shuffle_buffer):\n",
        "  dataset = tf.data.Dataset.from_tensor_slices(series)\n",
        "  dataset = dataset.window(window_size + 1, shift=1, drop_remainder=True)\n",
        "  dataset = dataset.flat_map(lambda window: window.batch(window_size + 1))\n",
        "  dataset = dataset.shuffle(shuffle_buffer).map(lambda window: (window[:-1], window[-1]))\n",
        "  dataset = dataset.batch(batch_size).prefetch(1)\n",
        "  return dataset"
      ]
    },
    {
      "cell_type": "code",
      "execution_count": null,
      "metadata": {
        "id": "aK8kWsFrkU3t"
      },
      "outputs": [],
      "source": [
        "split_time = 1000\n",
        "time_train = time[:split_time]\n",
        "x_train = series[:split_time]\n",
        "time_valid = time[split_time:]\n",
        "x_valid = series[split_time:]\n",
        "\n",
        "window_size = 20\n",
        "batch_size = 32\n",
        "shuffle_buffer_size = 1000\n",
        "\n",
        "train_dataset = windowed_dataset(x_train, window_size, batch_size, shuffle_buffer_size)\n",
        "val_dataset = windowed_dataset(x_valid, window_size, batch_size, shuffle_buffer_size)\n",
        "print(train_dataset)\n",
        "\n",
        "for feature, label in train_dataset.take(1):\n",
        "  print(feature.numpy())\n",
        "  print(label.numpy())"
      ]
    },
    {
      "cell_type": "code",
      "execution_count": null,
      "metadata": {
        "id": "bEoZh_A_k9wd"
      },
      "outputs": [],
      "source": [
        "# Tiến hành định nghĩa mô hình\n",
        "model = Sequential([\n",
        "  tf.keras.layers.Dense(10, input_shape=[window_size], activation=\"relu\"),\n",
        "  tf.keras.layers.Dense(10, activation=\"relu\"),\n",
        "  tf.keras.layers.Dense(1)\n",
        "])\n",
        "model.compile(loss=\"mse\", optimizer=tf.keras.optimizers.SGD(learning_rate=1e-6, momentum=0.9))\n",
        "model.summary()"
      ]
    },
    {
      "cell_type": "code",
      "execution_count": null,
      "metadata": {
        "id": "KC-5MOlMmKR8"
      },
      "outputs": [],
      "source": [
        "# Tiến hành huấn luyện mô hình\n",
        "history = model.fit(train_dataset, epochs=100, validation_data=val_dataset)"
      ]
    },
    {
      "cell_type": "code",
      "execution_count": null,
      "metadata": {
        "id": "Rkbyalm0n2M-"
      },
      "outputs": [],
      "source": [
        "# Vẽ biểu đồ huấn luyện\n",
        "loss = history.history['loss']\n",
        "val_loss = history.history['val_loss']\n",
        "plt.figure(figsize=(10, 6))\n",
        "plt.plot(loss, label='Training loss')\n",
        "plt.plot(val_loss, label='Validation loss')\n",
        "plt.axis([0, 100, 0, 100]) # Vẽ biểu đồ trong khoảng này\n",
        "plt.title('Training and validation loss')\n",
        "plt.legend()\n",
        "plt.show()"
      ]
    },
    {
      "cell_type": "markdown",
      "metadata": {
        "id": "TPb88jWtMsbh"
      },
      "source": [
        "# Evaluating the Results of the DNN 📊\n",
        "\n",
        "Sau khi huấn luyện mô hình, tụi mình sẽ tiến hành dự đoán thử và đánh giá nha. Có một lưu ý nhỏ là vì dữ liệu huấn luyện của chúng ta được tạo ra bằng phương pháp cửa sổ trượt nên chuỗi dữ liệu đưa vào mô hình để dự đoán cũng phải có độ dài tương tự cửa sổ trượt nha. 🔍\n",
        "\n",
        "Để dự đoán giá trị tại một thời điểm, ta cần cung cấp chuỗi giá trị từ thời điểm **t** đến **t + window_size**. 📈\n",
        "\n",
        "**VD:** Ta cần dự đoán giá trị tại thời điểm **t = 1020** với kích thước cửa sổ là 20, ta cần chuỗi giá trị từ thời điểm **t = 1000 đến 1019**. 🌟"
      ]
    },
    {
      "cell_type": "code",
      "execution_count": null,
      "metadata": {
        "id": "4i2gWmMBRxbM"
      },
      "outputs": [],
      "source": [
        "start_point = 1000\n",
        "print(f\"Chuỗi giá trị dùng để dự đoán:\\n{series[start_point:start_point + window_size]}\")\n",
        "print(f\"Giá trị thực tế: {series[start_point + window_size]}\")\n",
        "print(f\"Giá trị dự đoán: {model.predict(series[start_point:start_point + window_size][np.newaxis])}\")\n",
        "# Dùng np.newaxis để định dạng lại kích thước (shape) dữ liệu đầu vào từ [window_size] sang [1, window_size]"
      ]
    },
    {
      "cell_type": "markdown",
      "metadata": {
        "id": "MOrRhWEdUGha"
      },
      "source": [
        "Đây là kết quả ở lần chạy của mình nha.\n",
        "\n",
        ">Giá trị thực tế: 107.13153076171875   \n",
        "Giá trị dự đoán: [[106.628136]]\n",
        "\n",
        "Uầy giá trị cũng khá sát nhau ha.   \n",
        "Bây giờ tụi mình đến với phần tiếp theo, tìm hiểu về các phương pháp đo lường trong suốt thời gian ha."
      ]
    },
    {
      "cell_type": "markdown",
      "metadata": {
        "id": "N2xMohpbUjkZ"
      },
      "source": [
        "# Exploring the Overall Prediction 🔍\n",
        "\n",
        "Bây giờ tụi mình sẽ tiến hành dự đoán giá trị tại tất cả bước thời gian để quan sát kết quả tổng quát của mô hình ha. 📈✨"
      ]
    },
    {
      "cell_type": "code",
      "execution_count": null,
      "metadata": {
        "id": "rygytl5YU2Pf",
        "collapsed": true
      },
      "outputs": [],
      "source": [
        "forecast = []\n",
        "for t in range(len(series) - window_size): # Trừ window_size vì chúng ta cần dùng một số lượng dữ liệu ban đầu để dự đoán\n",
        "  forecast.append(\n",
        "      model.predict(series[t:t + window_size][np.newaxis], verbose = 0)\n",
        "  )"
      ]
    },
    {
      "cell_type": "markdown",
      "source": [
        "Có một điểm nhỏ mà bạn có thể rút ra được là chúng ta sẽ không thể dự đoán được n giá trị tương ứng với kích thước của cửa sổ dữ liệu bởi chúng ta cần dùng n giá trị khởi đấu để dự đoán."
      ],
      "metadata": {
        "id": "ZtfTn2EMWlIr"
      }
    },
    {
      "cell_type": "code",
      "source": [
        "# Vẽ biểu đồ dự đoán ở tập val tính từ thời điểm t = 1000\n",
        "forecast_val = forecast[start_point - window_size:] # Chúng ta cần trừ đi windown_size do index bị lệch đi bởi không thể dự đoán được n giá tị khởi đầu.\n",
        "results = np.array(forecast_val)[:, 0, 0]\n",
        "plt.figure(figsize=(10, 6))\n",
        "plot_series(time_valid, x_valid)\n",
        "plot_series(time_valid, results)\n",
        "plt.legend()"
      ],
      "metadata": {
        "id": "UC555RIPWfJB"
      },
      "execution_count": null,
      "outputs": []
    },
    {
      "cell_type": "markdown",
      "source": [
        "Uầy, kết quả không tệ ha. 😄 Kết quả dự đoán có thể bám sát được với đường cong của giá trị thực tế. Tuy là ở những chỗ giá trị thay đổi đột ngột, mô hình hay giá trị dự đoán cần một ít thời gian để theo kịp, nhưng thật sự kết quả này cũng khá tuyệt rồi. 🌟\n",
        "\n",
        "Bây giờ tụi mình sẽ sử dụng **MAE** để đánh giá hiệu quả của mô hình dựa trên kết quả dự đoán nha. 📊✨"
      ],
      "metadata": {
        "id": "k4xsERpKY1DK"
      }
    },
    {
      "cell_type": "code",
      "source": [
        "import keras\n",
        "print(f\"MAE của mô hình: {keras.metrics.mean_absolute_error(x_valid, results).numpy()}\")"
      ],
      "metadata": {
        "id": "DNERUu6UbFVr"
      },
      "execution_count": null,
      "outputs": []
    },
    {
      "cell_type": "markdown",
      "source": [
        "Đây là kết quả ở lần chạy của mình nha:\n",
        ">MAE của mô hình: 2.091493844985962"
      ],
      "metadata": {
        "id": "ukEPrwQrdm0u"
      }
    },
    {
      "cell_type": "markdown",
      "source": [
        "Vậy công việc tiếp theo của tụi mình để tối ưu hóa mô hình là giảm thiểu chỉ số **MAE** xuống thấp nhất có thể. 🎯 Chúng ta có thể thực hiện việc tối ưu hóa này bằng nhiều cách khác nhau, mà điển hình là tinh chỉnh các siêu tham số của mô hình. 🔧✨\n",
        "\n",
        "Đến với phần tiếp theo, tụi mình sẽ tìm hiểu về các công cụ cũng như bộ tối ưu hóa để hỗ trợ thực hiện việc tối ưu hóa mô hình thuận tiện hơn. 🚀"
      ],
      "metadata": {
        "id": "CPpVVt95dxvD"
      }
    },
    {
      "cell_type": "markdown",
      "source": [
        "# Tuning the Learning Rate 🔄\n",
        "\n",
        "Đến với phần này, tụi mình sẽ hiệu chỉnh tốc độ học của mô hình nha. 🎯\n",
        "\n",
        "Ở ví dụ trước đó, tụi mình đã tiến hành biên dịch mô hình như sau:\n",
        "\n",
        "```python\n",
        "model.compile(loss=\"mse\", optimizer=tf.keras.optimizers.SGD(learning_rate=1e-6, momentum=0.9))\n",
        "```\n",
        "\n",
        "Tuy nhiên, con số **1e-6** này có vẻ khá ngẫu nhiên ha, không có một căn cứ cụ thể nào cả. 🤔  \n",
        "\n",
        "> **Vậy làm thế nào để có thể chọn ra learning rate một cách hợp lý?**\n",
        "\n",
        "Rất may là trong TensorFlow có sẵn hàm để thực hiện việc này. 🛠️ Chúng ta sẽ sử dụng nó thông qua **callback**. Mọi người có thể nhớ lại một chút, chúng ta đã từng tiếp xúc với **callback** ở chương 2 rồi á, với cơ chế **early_stopping**. ⏳"
      ],
      "metadata": {
        "id": "3KBbMxXyeP2D"
      }
    },
    {
      "cell_type": "markdown",
      "source": [
        "Bây giờ tụi mình sẽ tiến hành lên lịch điều chỉnh cho learning rate với đoạn code dưới đây"
      ],
      "metadata": {
        "id": "xz2-UqGMhq4B"
      }
    },
    {
      "cell_type": "code",
      "source": [
        "from keras.callbacks import LearningRateScheduler\n",
        "lr_schedule = LearningRateScheduler(lambda epoch: 1e-8 * 10**(epoch / 20))"
      ],
      "metadata": {
        "id": "aF6Dwzylhy-3"
      },
      "execution_count": null,
      "outputs": []
    },
    {
      "cell_type": "markdown",
      "source": [
        "Ở hàm trên, chúng ta tiến hành định nghĩa giá trị khởi tạo ban đầu của **learning rate** bằng **1e-8**, sau đó sẽ tăng dần lên. 🔄 Mỗi lần **epoch** tăng lên đến các mốc chia hết cho 20, thì **learning rate** tăng lên gấp 10 lần. 📈\n",
        "\n",
        "Bây giờ, chúng ta sẽ tiến hành ráp lại vào mô hình nha. 🛠️✨"
      ],
      "metadata": {
        "id": "P9wumbeNiB-s"
      }
    },
    {
      "cell_type": "code",
      "source": [
        "model = Sequential([\n",
        "  tf.keras.layers.Dense(10, input_shape=[window_size], activation=\"relu\"),\n",
        "  tf.keras.layers.Dense(10, activation=\"relu\"),\n",
        "  tf.keras.layers.Dense(1)\n",
        "])\n",
        "\n",
        "optimizer = tf.keras.optimizers.SGD(learning_rate=1e-8, momentum=0.9)\n",
        "model.compile(loss=\"mse\", optimizer=optimizer)\n",
        "history = model.fit(train_dataset, epochs=100, callbacks=[lr_schedule], validation_data=val_dataset)"
      ],
      "metadata": {
        "id": "fRjO8iraigJa"
      },
      "execution_count": null,
      "outputs": []
    },
    {
      "cell_type": "code",
      "source": [
        "# Vẽ biểu đồ đánh giá loss trên các learning rate\n",
        "lrs = 1e-8 * (10 ** (np.arange(100) / 20))\n",
        "plt.semilogx(lrs, history.history[\"loss\"])\n",
        "plt.axis([1e-8, 1e-3, 0, 300])"
      ],
      "metadata": {
        "id": "L9Eb7p_BjI9c"
      },
      "execution_count": null,
      "outputs": []
    },
    {
      "cell_type": "markdown",
      "source": [
        "Đây là kết quả ở lần chạy của mình."
      ],
      "metadata": {
        "id": "3cx1-l2qnH_z"
      }
    },
    {
      "cell_type": "markdown",
      "source": [
        "![optimizing_learning_rate](https://github.com/Tkag0001/AI_and_Machine_Learning_for_Coders/blob/main/images/Chapter_10/optimize_learning_rate.png?raw=true)"
      ],
      "metadata": {
        "id": "FnFOtpX0LjHW"
      }
    },
    {
      "cell_type": "markdown",
      "source": [
        "Nhìn có vẻ chỉ số learning rate **1e-5** có vẻ thấp hơn tí. Tụi mình sẽ tiến hành huấn luyện mô hình với learning rate = 1e-5 và đánh giá lại thử nha."
      ],
      "metadata": {
        "id": "QzZcwH6ZnPVm"
      }
    },
    {
      "cell_type": "code",
      "source": [
        "model = Sequential([\n",
        "  tf.keras.layers.Dense(10, input_shape=[window_size], activation=\"relu\"),\n",
        "  tf.keras.layers.Dense(10, activation=\"relu\"),\n",
        "  tf.keras.layers.Dense(1)\n",
        "])\n",
        "\n",
        "optimizer = tf.keras.optimizers.SGD(learning_rate=1e-5, momentum=0.9)\n",
        "model.compile(loss=\"mse\", optimizer=optimizer)\n",
        "history = model.fit(train_dataset, epochs=100, validation_data=val_dataset)"
      ],
      "metadata": {
        "id": "SB878FLdm6Lj"
      },
      "execution_count": null,
      "outputs": []
    },
    {
      "cell_type": "code",
      "source": [
        "# Biểu diễn quá trình huấn luyện\n",
        "loss = history.history['loss']\n",
        "val_loss = history.history['val_loss']\n",
        "\n",
        "plt.figure(figsize=(10, 6))\n",
        "plt.plot(loss, label='Training Loss')\n",
        "plt.plot(val_loss, label='Validation Loss')\n",
        "plt.xlabel('Epoch')\n",
        "plt.ylabel('Loss')\n",
        "plt.legend()\n",
        "plt.show()"
      ],
      "metadata": {
        "id": "skqTsHgdn_-b"
      },
      "execution_count": null,
      "outputs": []
    },
    {
      "cell_type": "markdown",
      "source": [
        "Uầy kết quả loss ở lớp cuối cùng bằng 5.9828 thấp hơn một xíu so với mô hình sử dụng learing rate bằng 1e-6 ha."
      ],
      "metadata": {
        "id": "VG-O_ipEqsx9"
      }
    },
    {
      "cell_type": "code",
      "source": [
        "forecast = []\n",
        "for t in range(len(series) - window_size): # Trừ window_size vì chúng ta cần dùng một số lượng dữ liệu ban đầu để dự đoán\n",
        "  forecast.append(\n",
        "      model.predict(series[t:t + window_size][np.newaxis], verbose = 0)\n",
        "  )"
      ],
      "metadata": {
        "id": "8nP4Cgaerv2T"
      },
      "execution_count": null,
      "outputs": []
    },
    {
      "cell_type": "code",
      "source": [
        "# Vẽ biểu đồ dự đoán ở tập val tính từ thời điểm t = 1000\n",
        "forecast_val = forecast[start_point - window_size:] # Chúng ta cần trừ đi windown_size do index bị lệch đi bởi không thể dự đoán được n giá tị khởi đầu.\n",
        "results = np.array(forecast_val)[:, 0, 0]\n",
        "plt.figure(figsize=(10, 6))\n",
        "plot_series(time_valid, x_valid)\n",
        "plot_series(time_valid, results)\n",
        "plt.legend()"
      ],
      "metadata": {
        "id": "iD6EDYyarb8E"
      },
      "execution_count": null,
      "outputs": []
    },
    {
      "cell_type": "code",
      "source": [
        "# Tiến hành đánh giá MAE\n",
        "print(f\"MAE của mô hình: {keras.metrics.mean_absolute_error(x_valid, results).numpy()}\")"
      ],
      "metadata": {
        "id": "cVS7xVJErLxo"
      },
      "execution_count": null,
      "outputs": []
    },
    {
      "cell_type": "markdown",
      "source": [
        "Tuy nhiên kết quả đánh giá lại có phần tệ hơn:\n",
        "> 1e-6: 2.091493844985962   \n",
        "1e-5: 2.671138048171997"
      ],
      "metadata": {
        "id": "z3vaRxrEsQo-"
      }
    },
    {
      "cell_type": "markdown",
      "source": [
        "Không sao, ít nhất thì tụi mình cũng đã tìm ra được **learning_rate** tốt nhất rồi. 🎯 Bây giờ, hãy thử mở rộng ra và tìm hiểu thêm nhiều phương pháp khác để tối ưu hóa xem. Một trong những cách dễ nhất mà tụi mình có thể suy nghĩ đến là **tăng kích thước cửa sổ trượt**, để mô hình có thể học nhiều hơn từ dữ liệu đầu vào. 📊✨\n",
        "\n",
        "Ở đây, mình sẽ tiến hành tăng kích thước cửa sổ trượt lên **40** để xem thử kết quả nha. 🚀"
      ],
      "metadata": {
        "id": "l0pcxMAx7RML"
      }
    },
    {
      "cell_type": "code",
      "source": [
        "split_time = 1000\n",
        "time_train = time[:split_time]\n",
        "x_train = series[:split_time]\n",
        "time_valid = time[split_time:]\n",
        "x_valid = series[split_time:]\n",
        "\n",
        "window_size = 40\n",
        "batch_size = 32\n",
        "shuffle_buffer_size = 1000\n",
        "\n",
        "train_dataset = windowed_dataset(x_train, window_size, batch_size, shuffle_buffer_size)\n",
        "val_dataset = windowed_dataset(x_valid, window_size, batch_size, shuffle_buffer_size)\n",
        "print(train_dataset)\n",
        "\n",
        "for feature, label in train_dataset.take(1):\n",
        "  print(feature.numpy())\n",
        "  print(label.numpy())"
      ],
      "metadata": {
        "id": "U1Y1gYNI8UrT"
      },
      "execution_count": null,
      "outputs": []
    },
    {
      "cell_type": "code",
      "source": [
        "model = Sequential([\n",
        "  tf.keras.layers.Dense(10, input_shape=[window_size], activation=\"relu\"),\n",
        "  tf.keras.layers.Dense(10, activation=\"relu\"),\n",
        "  tf.keras.layers.Dense(1)\n",
        "])\n",
        "\n",
        "optimizer = tf.keras.optimizers.SGD(learning_rate=1e-5, momentum=0.9)\n",
        "model.compile(loss=\"mse\", optimizer=optimizer)\n",
        "history = model.fit(train_dataset, epochs=100, validation_data=val_dataset)"
      ],
      "metadata": {
        "id": "Cz4R9GIC8mP_"
      },
      "execution_count": null,
      "outputs": []
    },
    {
      "cell_type": "code",
      "source": [
        "# Biểu diễn quá trình huấn luyện\n",
        "loss = history.history['loss']\n",
        "val_loss = history.history['val_loss']\n",
        "\n",
        "plt.figure(figsize=(10, 6))\n",
        "plt.plot(loss, label='Training Loss')\n",
        "plt.plot(val_loss, label='Validation Loss')\n",
        "plt.xlabel('Epoch')\n",
        "plt.ylabel('Loss')\n",
        "plt.legend()\n",
        "plt.show()"
      ],
      "metadata": {
        "id": "bieaQlFL9Jw-"
      },
      "execution_count": null,
      "outputs": []
    },
    {
      "cell_type": "code",
      "source": [
        "forecast = []\n",
        "for t in range(len(series) - window_size): # Trừ window_size vì chúng ta cần dùng một số lượng dữ liệu ban đầu để dự đoán\n",
        "  forecast.append(\n",
        "      model.predict(series[t:t + window_size][np.newaxis], verbose = 0)\n",
        "  )"
      ],
      "metadata": {
        "id": "LrS52rWXf4WQ"
      },
      "execution_count": null,
      "outputs": []
    },
    {
      "cell_type": "code",
      "source": [
        "# Vẽ biểu đồ dự đoán ở tập val tính từ thời điểm t = 1000\n",
        "forecast_val = forecast[start_point - window_size:] # Chúng ta cần trừ đi windown_size do index bị lệch đi bởi không thể dự đoán được n giá tị khởi đầu.\n",
        "results = np.array(forecast_val)[:, 0, 0]\n",
        "plt.figure(figsize=(10, 6))\n",
        "plot_series(time_valid, x_valid)\n",
        "plot_series(time_valid, results)\n",
        "plt.legend()"
      ],
      "metadata": {
        "id": "QzJ8kFVe9Mw3"
      },
      "execution_count": null,
      "outputs": []
    },
    {
      "cell_type": "code",
      "source": [
        "# Tiến hành đánh giá MAE\n",
        "print(f\"MAE của mô hình: {keras.metrics.mean_absolute_error(x_valid, results).numpy()}\")"
      ],
      "metadata": {
        "id": "J_JJjF7z9N5y"
      },
      "execution_count": null,
      "outputs": []
    },
    {
      "cell_type": "markdown",
      "source": [
        "Uầy kết quả cải thiện rõ rệt nha\n",
        "> MAE của mô hình: 1.9043922424316406"
      ],
      "metadata": {
        "id": "FrWKHvvsFFkw"
      }
    },
    {
      "cell_type": "markdown",
      "source": [
        "# Exploring Hyperparameter Tuning with Keras Tuner 🔧✨\n",
        "\n",
        "Bây giờ, tụi mình sẽ tiến hành tối ưu hóa các siêu tham số với công cụ **Keras Tuner** nha. 🚀\n",
        "\n",
        "Nói đơn giản, với mỗi siêu tham số, chúng ta sẽ có vài lựa chọn. Khi thay đổi nhiều siêu tham số, chúng sẽ tạo ra số tổ hợp lựa chọn vô cùng lớn mà chúng ta cần phải thử nghiệm. 🔄 Điều này đồng nghĩa với việc phải thiết kế mô hình cho từng tổ hợp siêu tham số và huấn luyện từng cái một. 🧪\n",
        "\n",
        "Việc này khá rắc rối và tốn rất nhiều thời gian. ⏳ Do đó, để tiện cho việc lập trình và thử nghiệm, công cụ **Keras Tuner** được ra đời. 🌟"
      ],
      "metadata": {
        "id": "AMPonQOZ9ZH1"
      }
    },
    {
      "cell_type": "code",
      "source": [
        "# Tải bộ công cụ\n",
        "!pip install keras-tuner -q"
      ],
      "metadata": {
        "id": "F0k6uLZN9XqZ"
      },
      "execution_count": null,
      "outputs": []
    },
    {
      "cell_type": "markdown",
      "source": [
        "Sơ lược về công cụ **Keras Tuner**, nó sẽ giúp chúng ta thử nghiệm hàng loạt các siêu tham số thông qua việc chỉ định phạm vi giá trị hoặc các giá trị cần thử nghiệm. 🔄 Sau đó, công cụ này sẽ tiến hành huấn luyện một loạt các mô hình dựa trên từng tổ hợp siêu tham số và trả về các mô hình có kết quả đánh giá tốt nhất. 📊✨\n",
        "\n",
        "Tất nhiên, mọi người cũng có thể chỉ định các thang đo riêng để đánh giá kết quả, tùy thuộc vào mục tiêu cụ thể của mình. 🎯\n",
        "\n",
        "Bây giờ, tụi mình đi vào ví dụ để dễ hiểu hơn nha. Thông thường, tụi mình sẽ định nghĩa một lớp **dense** như đoạn code dưới đây:\n",
        "\n",
        "```python\n",
        "Dense(10, input_shape=[window_size], activation=\"relu\")\n",
        "```"
      ],
      "metadata": {
        "id": "NoO_DyquAgz7"
      }
    },
    {
      "cell_type": "markdown",
      "source": [
        "Tuy nhiên, làm sao tụi mình có thể chắc chắn được số **10** là lựa chọn tốt nhất? 🤔 Nó khá là ngẫu nhiên. Nếu bây giờ tụi mình muốn thử nghiệm một loạt các số neuron khác nhau cho lớp **Dense** này thì sao? 🛠️ Chẳng hạn như các giá trị trong khoảng từ **10 đến 30**, tụi mình có thể điều chỉnh lại phần siêu tham số như sau:\n",
        "\n",
        "```python\n",
        "Dense(units=hp.Int('units', min_value=10,\n",
        "                    max_value=30, step=2),\n",
        "                    activation='relu',\n",
        "                    input_shape=[window_size])\n",
        "```\n",
        "\n",
        "Ở đây, mình định nghĩa các giá trị trong khoảng từ **10 đến 30**, với bước nhảy là **2**. Dị là, ta sẽ có **11 lớp Dense** với số neuron khác nhau. Công cụ sẽ tiến hành huấn luyện mô hình **11 lần** để tìm ra số neuron tối ưu nhất. 🎯\n",
        "\n",
        "Tương tự, tụi mình cũng có thể điều chỉnh **momentum** của hàm tối ưu bằng cách:\n",
        "\n",
        "```python\n",
        "optimizer=SGD(hp.Choice('momentum', values=[.9, .7, .5, .3], lr=1e-5))\n",
        "```\n",
        "\n",
        "Dị là, nếu kết hợp việc tối ưu hóa cả **optimizer** và lớp **Dense**, thì tụi mình sẽ có tổng cộng **44 tổ hợp**, tương ứng với **44 lần huấn luyện mô hình**. 📊✨"
      ],
      "metadata": {
        "id": "57FYaIJZCNzf"
      }
    },
    {
      "source": [
        "def build_model(hp):\n",
        "    model = Sequential()\n",
        "    model.add(Dense(units=hp.Int('units', min_value=10, max_value=30, step=2),\n",
        "                    activation='relu', input_shape=[window_size]))\n",
        "    model.add(Dense(10, activation='relu'))\n",
        "    model.add(Dense(1))\n",
        "\n",
        "    # Pass learning rate as 'learning_rate' in compile\n",
        "    model.compile(loss='mse',\n",
        "                  optimizer=SGD(learning_rate=1e-5,\n",
        "                                momentum=hp.Choice('momentum', values=[.9, .7, .5, .3])))\n",
        "\n",
        "    return model"
      ],
      "cell_type": "code",
      "metadata": {
        "id": "QvzNgwclXOMs"
      },
      "execution_count": null,
      "outputs": []
    },
    {
      "cell_type": "markdown",
      "source": [
        "Bây giờ tụi mình sẽ tiến hành tạo một đối tượng RandomSearch để quản lý các lần lặp huấn luyện mô hình nha."
      ],
      "metadata": {
        "id": "jCS1-dfdSZD3"
      }
    },
    {
      "cell_type": "code",
      "source": [
        "from keras_tuner.tuners import RandomSearch\n",
        "tuner = RandomSearch(build_model,\n",
        "                     objective='loss', max_trials=150,\n",
        "                     executions_per_trial=3, directory='models',\n",
        "                     project_name='optimize_model')"
      ],
      "metadata": {
        "id": "Fm9LtKQP_rpu"
      },
      "execution_count": null,
      "outputs": []
    },
    {
      "cell_type": "markdown",
      "source": [
        "Mình sẽ giải thích một số tham số của hàm để mọi người dễ hiểu hơn nha:  \n",
        "\n",
        "- **objective**: Chỉ định mục tiêu cần tối ưu hóa. Ở đây, mục tiêu là **loss**, với mong muốn giảm nó xuống mức thấp nhất có thể. 🎯  \n",
        "- **max_trials**: Giới hạn tổng số lần thử nghiệm tối đa. Điều này rất hữu ích trong trường hợp số lượng tổ hợp quá lớn, vì nếu huấn luyện hết sẽ tốn rất nhiều thời gian. Ví dụ, với 44 tổ hợp, ta có thể giới hạn lại bằng **20**, nghĩa là chỉ huấn luyện **20 lần** thay vì toàn bộ. ⏳  \n",
        "- **execution_per_trial**: Số lần huấn luyện cho mỗi tổ hợp. Thay vì huấn luyện mỗi tổ hợp chỉ **1 lần**, bạn có thể tăng số lần huấn luyện để giảm thiểu sai lệch do ngẫu nhiên trong quá trình huấn luyện. Kết quả báo cáo sẽ là trung bình của các lần huấn luyện đó. 📊  \n",
        "- **directory**: Chỉ định thư mục lưu lại lịch sử tìm kiếm. Thư mục này sẽ chứa tất cả dữ liệu liên quan đến các lần huấn luyện và tối ưu hóa. 🗂️  \n",
        "- **project_name**: Chỉ định tên dự án lưu trong thư mục **directory**. Dữ liệu của dự án sẽ được lưu trong một thư mục con có tên tương ứng, giúp tổ chức thông tin một cách gọn gàng. 🛠️  \n",
        "\n",
        "Giờ thì tụi mình tiến hành chạy huấn luyện để tìm kiếm kiến trúc mô hình tốt nhất ha. 🚀✨"
      ],
      "metadata": {
        "id": "-8QBQoyLTUXK"
      }
    },
    {
      "cell_type": "code",
      "source": [
        "start_time = timer.time()\n",
        "tuner.search(train_dataset, epochs=100, verbose=0, validation_data=val_dataset)\n",
        "end_time = timer.time()"
      ],
      "metadata": {
        "id": "nb5oQYHHYmEp"
      },
      "execution_count": 87,
      "outputs": []
    },
    {
      "cell_type": "code",
      "source": [
        "print(f\"Tổng thời gian huấn luyện: {str(timedelta(seconds=end_time - start_time))}\")"
      ],
      "metadata": {
        "id": "yWwGlJruY6ZM"
      },
      "execution_count": null,
      "outputs": []
    },
    {
      "cell_type": "markdown",
      "source": [
        "Bây giờ tụi mình sẽ tiến hành xem kết quả đánh giá nha, mặc định thì chúng sẽ hiển thị 10 tổ hợp hay kiến trúc mô hình tốt nhất ra."
      ],
      "metadata": {
        "id": "qah6NIGYa9jI"
      }
    },
    {
      "cell_type": "code",
      "source": [
        "tuner.results_summary()"
      ],
      "metadata": {
        "id": "Czan1Zo8aqVW"
      },
      "execution_count": null,
      "outputs": []
    },
    {
      "cell_type": "markdown",
      "source": [
        "Đây là kết quả ở lần chạy của mình nha."
      ],
      "metadata": {
        "id": "deT6uG_27bOj"
      }
    },
    {
      "cell_type": "markdown",
      "source": [
        "![tuner_list](https://github.com/Tkag0001/AI_and_Machine_Learning_for_Coders/blob/main/images/Chapter_10/tuner_list.png?raw=true)"
      ],
      "metadata": {
        "id": "-0HkTEK7LaQk"
      }
    },
    {
      "cell_type": "markdown",
      "source": [
        "Ở đây mình thấy tổ hợp hiệu quả nhất là  \n",
        "> units: 20  \n",
        "momentum: 0.9  \n",
        "\n",
        "Mọi người có thể huấn luyện lại mô hình với tổ hợp trên hoặc chọn lấy hẳn mô hình đã huấn luyện trong tuner ra luôn nha. Như đoạn code dưới đây là mình lấy ra 4 mô hình hiệu quả nhất và lấy mô hình đầu tiên tương ứng với mô hình tốt nhất để dự đoán. 🌟"
      ],
      "metadata": {
        "id": "4gq7kv7KbNOf"
      }
    },
    {
      "cell_type": "code",
      "source": [
        "models = tuner.get_best_models(num_models=4)"
      ],
      "metadata": {
        "id": "CIFc02TmbVAn"
      },
      "execution_count": null,
      "outputs": []
    },
    {
      "cell_type": "code",
      "source": [
        "best_model = models[0]\n",
        "best_model.summary()"
      ],
      "metadata": {
        "id": "7ne6SzA17ols"
      },
      "execution_count": null,
      "outputs": []
    },
    {
      "cell_type": "code",
      "source": [
        "forecast = []\n",
        "for t in range(len(series) - window_size): # Trừ window_size vì chúng ta cần dùng một số lượng dữ liệu ban đầu để dự đoán\n",
        "  forecast.append(\n",
        "      best_model.predict(series[t:t + window_size][np.newaxis], verbose = 0)\n",
        "  )"
      ],
      "metadata": {
        "id": "8GLGVc60ymaK"
      },
      "execution_count": null,
      "outputs": []
    },
    {
      "cell_type": "code",
      "source": [
        "# Vẽ biểu đồ dự đoán ở tập val tính từ thời điểm t = 1000\n",
        "forecast_val = forecast[start_point - window_size:] # Chúng ta cần trừ đi windown_size do index bị lệch đi bởi không thể dự đoán được n giá tị khởi đầu.\n",
        "results = np.array(forecast_val)[:, 0, 0]\n",
        "plt.figure(figsize=(10, 6))\n",
        "plot_series(time_valid, x_valid)\n",
        "plot_series(time_valid, results)\n",
        "plt.legend()"
      ],
      "metadata": {
        "id": "yh8xf3GMymaK"
      },
      "execution_count": null,
      "outputs": []
    },
    {
      "cell_type": "code",
      "source": [
        "# Tiến hành đánh giá MAE\n",
        "print(f\"MAE của mô hình: {keras.metrics.mean_absolute_error(x_valid, results).numpy()}\")"
      ],
      "metadata": {
        "id": "Uvijte4GhDAa"
      },
      "execution_count": null,
      "outputs": []
    },
    {
      "cell_type": "markdown",
      "source": [
        "Như vậy là mọi người đã biết được cách để có thể tiết kiệm thời gian trong việc tối ưu hóa, chọn ra các bộ tham số tốt nhất cho mô hình rồi. Mọi người có thể thử thêm nhiều lựa chọn khác nữa và quan sát để cải thiện mô hình thêm nha. 😊  \n",
        "\n",
        "**Lưu ý**: ở đây tụi mình chọn thước đo cho tuner là loss mà loss thì được tính dựa trên tập train nên có thể khi kiểm tra trên MAE của tập val thì có thể sẽ khác và thậm chí có tăng lên hơn tí. Mọi người cũng có thể cài đặt thước đo tối ưu hóa của tuner là val_loss để chọn mô hình tốt nhất dựa trên val_loss nha. 📊"
      ],
      "metadata": {
        "id": "aUEzSdZdaobT"
      }
    },
    {
      "cell_type": "markdown",
      "source": [
        "# Summary  \n",
        "Tổng kết chương 10 này, tụi mình đã học được:  \n",
        "- Cách xử lý dữ liệu thời gian để đưa vào mô hình với cửa sổ trượt hay cửa sổ dữ liệu.  \n",
        "- Cách dự đoán và đánh giá mô hình.  \n",
        "- Cách sử dụng công cụ **Keras Tuner** để cải thiện quá trình tối ưu hóa mô hình. ✅📘"
      ],
      "metadata": {
        "id": "ZS319bl8zbxx"
      }
    }
  ],
  "metadata": {
    "colab": {
      "provenance": [],
      "gpuType": "T4",
      "authorship_tag": "ABX9TyOAxhbGqSkoJBUrQ0aIRd8X",
      "include_colab_link": true
    },
    "kernelspec": {
      "display_name": "Python 3",
      "name": "python3"
    },
    "language_info": {
      "name": "python"
    },
    "accelerator": "GPU"
  },
  "nbformat": 4,
  "nbformat_minor": 0
}