{
  "nbformat": 4,
  "nbformat_minor": 0,
  "metadata": {
    "colab": {
      "provenance": [],
      "authorship_tag": "ABX9TyM8PAAMJghpixc7hc7GK4Al",
      "include_colab_link": true
    },
    "kernelspec": {
      "name": "python3",
      "display_name": "Python 3"
    },
    "language_info": {
      "name": "python"
    }
  },
  "cells": [
    {
      "cell_type": "markdown",
      "metadata": {
        "id": "view-in-github",
        "colab_type": "text"
      },
      "source": [
        "<a href=\"https://colab.research.google.com/github/Tkag0001/AI_and_Machine_Learning_for_Coders/blob/main/Chapter5_3_Introduction_to_Natural_Language_Processing.ipynb\" target=\"_parent\"><img src=\"https://colab.research.google.com/assets/colab-badge.svg\" alt=\"Open In Colab\"/></a>"
      ]
    },
    {
      "cell_type": "markdown",
      "source": [
        "# Introduction to Natural Language Processing 🌐🗣️  \n",
        "\n",
        "Tụi mình sẽ tìm hiểu về chủ đề **NLP** (xử lý ngôn ngữ tự nhiên) - một trong những nhánh thú vị của trí tuệ nhân tạo nha. 🤖✨  \n",
        "\n",
        "![Introduce image](https://bobcares.com/wp-content/uploads/2024/11/Natural-Language-Processing.png)\n"
      ],
      "metadata": {
        "id": "k4iLnnTYc7wz"
      }
    },
    {
      "cell_type": "markdown",
      "source": [
        "# Working with Real Data Sources (Làm việc với các nguồn dữ liệu thực tế) 📊🌍  \n"
      ],
      "metadata": {
        "id": "_jZOMYssTmOf"
      }
    },
    {
      "cell_type": "markdown",
      "source": [
        "## IMDB_reviews Dataset"
      ],
      "metadata": {
        "id": "WBA8inhVQaMh"
      }
    },
    {
      "cell_type": "markdown",
      "source": [
        "Tụi mình sẽ sử dụng **TFDS** đã học ở **chương 4** để tải dữ liệu nha. 📦  \n",
        "\n",
        "Bộ dữ liệu lần này tụi mình dùng là **imdb_reviews**, gồm 50.000 bình luận đánh giá phim, được gắn nhãn là tích cực hoặc tiêu cực nha. 🎥👍👎  \n"
      ],
      "metadata": {
        "id": "CL-KtXfuUwh9"
      }
    },
    {
      "cell_type": "code",
      "source": [
        "import tensorflow as tf\n",
        "import tensorflow_datasets as tfds"
      ],
      "metadata": {
        "id": "UZ0gKtJrYM8S"
      },
      "execution_count": null,
      "outputs": []
    },
    {
      "cell_type": "markdown",
      "source": [
        "Tụi mình sẽ tiến hành lặp qua bộ dữ liệu và thêm phần văn bản bình luận vào một danh sách để dễ xử lý nha. 📝  \n",
        "\n",
        "Tụi mình sử dụng **tfds.as_numpy** để đảm bảo rằng dữ liệu trả về sẽ ở dạng **string** chứ không phải **tensor**. 🔧  \n"
      ],
      "metadata": {
        "id": "essp6ouHY-5Z"
      }
    },
    {
      "cell_type": "code",
      "source": [
        "train_data = tfds.as_numpy(tfds.load('imdb_reviews', split='train'))"
      ],
      "metadata": {
        "id": "CO9Gu8VrY83Y"
      },
      "execution_count": null,
      "outputs": []
    },
    {
      "cell_type": "code",
      "source": [
        "# Kiểm tra dữ liệu của mẫu (item) đầu tiên bên trong bộ dữ liệu\n",
        "item_1st = next(iter(train_data))\n",
        "print(item_1st)\n",
        "print(type(item_1st))"
      ],
      "metadata": {
        "id": "aTmX3yk2bK48"
      },
      "execution_count": null,
      "outputs": []
    },
    {
      "cell_type": "markdown",
      "source": [
        "Vậy là mỗi mẫu (item) được lưu với dạng một **dictionary** với 2 khóa là **'text' và 'label'**"
      ],
      "metadata": {
        "id": "tDVirCFFcQA-"
      }
    },
    {
      "cell_type": "code",
      "source": [
        "imdb_sentences = []\n",
        "# Tiến hành lặp qua từng mẫu (item) để trích xuất văn bản ra lưu vào danh sách imdb_sentences\n",
        "for item in train_data:\n",
        "  imdb_sentences.append(str(item['text']))"
      ],
      "metadata": {
        "id": "v9emlMG0aQZl"
      },
      "execution_count": null,
      "outputs": []
    },
    {
      "cell_type": "code",
      "source": [
        "# Xem thử 5 bình luận đánh giá phim đầu tiên\n",
        "for idx, comment in enumerate(imdb_sentences[:5]):\n",
        "  print(f\"Bình luận {idx+1}: {comment}\")\n",
        "  print(\"-\"*100)"
      ],
      "metadata": {
        "id": "k0IbFoOLdVZ8"
      },
      "execution_count": null,
      "outputs": []
    },
    {
      "cell_type": "markdown",
      "source": [
        "Bây giờ tụi mình tiến hành tạo bộ mã hóa cho bộ dữ liệu nha."
      ],
      "metadata": {
        "id": "Ph0XQx12DzQc"
      }
    },
    {
      "cell_type": "code",
      "source": [
        "from tensorflow.keras.preprocessing.text import Tokenizer\n",
        "# Khởi tạo bộ mã hóa\n",
        "tokenizer = Tokenizer(num_words=5000)\n",
        "# Tiến hành đưa dữ liệu vào bộ mã hóa, tạo từ điển\n",
        "tokenizer.fit_on_texts(imdb_sentences)\n",
        "# Tiến hành mã hóa các bình luận\n",
        "sequences = tokenizer.texts_to_sequences(imdb_sentences)"
      ],
      "metadata": {
        "id": "_lwUtGxzDJII"
      },
      "execution_count": null,
      "outputs": []
    },
    {
      "cell_type": "markdown",
      "source": [
        "Vậy là tụi mình đã tiến hành mã hóa thành công, bây giờ sẽ xem thử 5 bình luận đầu tiên đã được mã hóa như thế nào nhá"
      ],
      "metadata": {
        "id": "Uo8-rweHEpel"
      }
    },
    {
      "cell_type": "code",
      "source": [
        "for idx, seq in enumerate(sequences[:5]):\n",
        "  print(f\"Bình luận {idx+1}: {seq}\")\n",
        "  print(\"-\"*100)"
      ],
      "metadata": {
        "id": "dy4V4Qx6E6Lt"
      },
      "execution_count": null,
      "outputs": []
    },
    {
      "cell_type": "markdown",
      "source": [
        "Hiển thị từ điển của bộ mã hóa"
      ],
      "metadata": {
        "id": "pUbTI6wtFHMA"
      }
    },
    {
      "cell_type": "code",
      "source": [
        "word_index = tokenizer.word_index\n",
        "print(word_index)"
      ],
      "metadata": {
        "id": "soun2ft5FJQW"
      },
      "execution_count": null,
      "outputs": []
    },
    {
      "cell_type": "markdown",
      "source": [
        "> **Mọi người đã nhận ra điểm bất hợp lý chưa @_@!** 🤔  \n",
        "\n",
        "Đúng rồi đó, các từ như **\"and, a, of, to, is\"** đều là các **từ dừng (stopwords)**. Ngoài ra, còn xuất hiện cả các **thẻ HTML** như **br**. 🛑  \n",
        "\n",
        "Vậy là chúng ta đã quên mất phần tiền xử lý dữ liệu, làm sạch văn bản trước khi đưa vào mã hóa. 🧹  \n",
        "\n",
        "Workflow đúng của chúng ta sẽ như sau:  \n",
        "\n",
        "\n",
        "```\n",
        "Chuyển thành chữ thường --> Loại bỏ các thẻ HTML --> Loại bỏ kí tự đặc biệt --> Loại bỏ từ dừng --> Mã hóa dữ liệu\n",
        "```\n",
        "\n"
      ],
      "metadata": {
        "id": "fxrKjulCFXBw"
      }
    },
    {
      "cell_type": "code",
      "source": [
        "# Tải danh sách từ dừng\n",
        "import nltk\n",
        "from nltk.corpus import stopwords\n",
        "nltk.download('stopwords')\n",
        "stopwords = set(stopwords.words('english'))\n",
        "\n",
        "from bs4 import BeautifulSoup\n",
        "import string\n",
        "\n",
        "table = str.maketrans('', '', string.punctuation)\n",
        "\n",
        "# Tải bộ dữ liệu vào danh sách bình luận\n",
        "imdb_sentences = []\n",
        "train_data = tfds.as_numpy(tfds.load('imdb_reviews', split='train'))\n",
        "for item in train_data:\n",
        "  sentence = str(item['text'].decode('UTF-8').lower()) # Tiến hành chuyển sang dạng UTF-8 và dạng chữ thường\n",
        "  soup = BeautifulSoup(sentence)\n",
        "  sentence = soup.get_text() # Loại bỏ các thẻ HTML\n",
        "  words = sentence.split()\n",
        "  filtered_sentence = \"\"\n",
        "  for word in words:\n",
        "    word = word.translate(table) # Loại bỏ kí tự đặc biệt\n",
        "    if word not in stopwords: # Loại bỏ từ dừng\n",
        "      filtered_sentence = filtered_sentence + word + \" \"\n",
        "  imdb_sentences.append(filtered_sentence)\n",
        "\n",
        "# Sau khi tiến hành làm sạch dữ liệu, chúng ta sẽ tiến hành mã hóa\n",
        "tokenizer = Tokenizer(num_words=25000)\n",
        "tokenizer.fit_on_texts(imdb_sentences)\n",
        "sequences = tokenizer.texts_to_sequences(imdb_sentences)  # Mã hóa dữ liệu"
      ],
      "metadata": {
        "id": "PzVP3W8PIFZv"
      },
      "execution_count": null,
      "outputs": []
    },
    {
      "cell_type": "code",
      "source": [
        "# In ra bộ từ điển\n",
        "word_index = tokenizer.word_index\n",
        "print(word_index)"
      ],
      "metadata": {
        "id": "oQ-1BfYtKa1v"
      },
      "execution_count": null,
      "outputs": []
    },
    {
      "cell_type": "code",
      "source": [
        "# Kiểm tra bộ từ điển có chứa stopwords không\n",
        "flag = False\n",
        "for key, value in word_index.items():\n",
        "  if key in stopwords:\n",
        "    flag = True\n",
        "    print(f\"{key}: {value}\")\n",
        "\n",
        "if flag == False:\n",
        "  print(\"Không có từ dừng trong bộ từ điển\")\n",
        "else:\n",
        "  print(\"Có từ dừng trong bộ từ điển\")"
      ],
      "metadata": {
        "id": "VMiO0QVjLF3J"
      },
      "execution_count": null,
      "outputs": []
    },
    {
      "cell_type": "markdown",
      "source": [
        "Vậy là chúng ta đã làm sạch dữ liệu thành công và tạo bộ từ điển. 🎉  \n",
        "\n",
        "Hè hè, tuy nhiên nó vẫn chưa thật sự hoàn hảo đâu. ⚠️  \n",
        "\n",
        "Tụi mình cùng kiểm tra lại với danh sách các ký tự đặc biệt nha. 🔍  \n"
      ],
      "metadata": {
        "id": "w1xbPKI6K6oF"
      }
    },
    {
      "cell_type": "code",
      "source": [
        "print(\"Danh sách kí tự đặc biệt: \", string.punctuation)"
      ],
      "metadata": {
        "id": "MRea_yVING0L"
      },
      "execution_count": null,
      "outputs": []
    },
    {
      "cell_type": "markdown",
      "source": [
        "Tuy chúng ta đã loại bỏ được các ký tự đặc biệt, nhưng vẫn còn những trường hợp ngoại lệ. ⚠️  \n",
        "\n",
        "**Ví dụ**: Các từ có ký tự đặc biệt nối liền ở giữa:  \n",
        "- **\"time-consuming\"**: Khi loại bỏ ký tự đặc biệt, nó sẽ trở thành **timeconsuming**, điều này khiến từ vựng trở nên vô nghĩa.  \n",
        "- **\"him/her\"**: Tương tự như trường hợp ở trên.  \n",
        "\n",
        "Do đó, chúng ta cần xử lý thêm cả các trường hợp này. 🔧  \n",
        "\n",
        "Ta sẽ tiến hành tách các ký tự đặc biệt ra, để chúng cách với các từ thay vì dính sát lại.  \n",
        "Mình sẽ làm code ví dụ. 💻  \n"
      ],
      "metadata": {
        "id": "s3dwSArlPUCD"
      }
    },
    {
      "cell_type": "code",
      "source": [
        "example_sentences = [\n",
        "    \"It's very time-consuming\",\n",
        "    \"Type your gender: he/her\"\n",
        "]\n",
        "\n",
        "# Tiến hành xử lý trung gian các kí tự đặc biệt\n",
        "normalize_sentences = []\n",
        "for sentence in example_sentences:\n",
        "  sentence = sentence.replace(\"/\", \" / \") # Đã thêm khoảng trắng vô 2 bên kí tự đặc biệt\n",
        "  sentence = sentence.replace(\"'\", \" ' \")\n",
        "  sentence = sentence.replace(\"-\", \" - \")\n",
        "  sentence = sentence.replace(\".\", \" . \")\n",
        "  normalize_sentences.append(sentence)\n",
        "print(normalize_sentences)"
      ],
      "metadata": {
        "id": "fSeH-d_EQ6IA"
      },
      "execution_count": null,
      "outputs": []
    },
    {
      "cell_type": "markdown",
      "source": [
        "Và đây là kết quả. ✅  \n",
        "\n",
        "Thông qua việc thêm phần xử lý trung gian này, khi loại bỏ các ký tự đặc biệt, ta có thể đảm bảo rằng các từ sẽ không bị dính liền với nhau. ✨  \n",
        "\n",
        "Bước này sẽ được đặt trước bước xóa ký tự đặc biệt nha. 🔧  \n"
      ],
      "metadata": {
        "id": "9kAXYUBGRtME"
      }
    },
    {
      "cell_type": "markdown",
      "source": [
        "## Bây giờ tụi mình sẽ đến với phần giải mã nha. 🔄  \n",
        "\n",
        "> **Giải mã là gì?**  \n",
        "\n",
        "Mọi người hiểu đơn giản là chúng ta sẽ chuyển ngược lại từ dạng số sang dạng chữ nha. 📝  \n",
        "Ta sẽ thực hiện việc này dựa trên bộ từ điển mã hóa đã được tạo ra trước đó.  \n",
        "\n",
        "Chúng ta vẫn sẽ sử dụng bộ mã hóa đã khởi tạo trước đó nha.  \n",
        "\n",
        "**Đầu tiên**, ta cần đảo ngược lại bộ từ điển mã hóa, tức là các key và value sẽ hoán đổi vị trí cho nhau. 🔁  \n",
        "\n",
        "\n",
        "\n",
        "```python\n",
        "encoder_dict = {\n",
        "  \"i\": 1,\n",
        "  \"love\": 2,\n",
        "  \"you\": 3,\n",
        "  \"all\": 4,\n",
        "  \"the\": 5,\n",
        "  \"time\" 6,\n",
        "  \"have\" 7\n",
        "}\n",
        "# Chuyển sang decoder sẽ là\n",
        "decoder_dict = {\n",
        "  encoder_dict = {\n",
        "  1: \"i\",\n",
        "  2: \"love\",\n",
        "  3: \"you\",\n",
        "  4: \"all\",\n",
        "  5: \"the\",\n",
        "  6: \"time\",\n",
        "  7: \"have\"\n",
        "}\n",
        "}\n",
        "```\n",
        "\n",
        "Dưới đây là code ví dụ cách chuyển nha."
      ],
      "metadata": {
        "id": "61954uU-oZD2"
      }
    },
    {
      "cell_type": "code",
      "source": [
        "# Tiến hành lấy bộ từ điển mã hóa\n",
        "words_index = tokenizer.word_index\n",
        "print(\"Bộ từ điển mã hóa: \", words_index)"
      ],
      "metadata": {
        "id": "2XI78YxKo9Q4"
      },
      "execution_count": null,
      "outputs": []
    },
    {
      "cell_type": "code",
      "source": [
        "# Tiến hành tạo bộ giải mã\n",
        "reverse_word_index = dict([(value, key) for (key, value) in words_index.items()]) # Lấy từng cặp key-value trong bộ mã hóa ra và hoán đổi ngược lai\n",
        "print(\"Bộ từ điển giải mã: \", reverse_word_index)"
      ],
      "metadata": {
        "id": "j6hHaqa4qfny"
      },
      "execution_count": null,
      "outputs": []
    },
    {
      "cell_type": "code",
      "source": [
        "# Tiến hành giải mã lại bình luận đầu tiên\n",
        "decoded_review = ' '.join([reverse_word_index.get(i, '?') for i in sequences[0]]) # Nếu gặp phải các số không có trong bộ giải mã, sẽ chuyển thành dấu ?"
      ],
      "metadata": {
        "id": "TE-8SSVNmXMQ"
      },
      "execution_count": null,
      "outputs": []
    },
    {
      "cell_type": "code",
      "source": [
        "imdb_sentences[0]"
      ],
      "metadata": {
        "id": "lN_DKAnjr3VE"
      },
      "execution_count": null,
      "outputs": []
    },
    {
      "cell_type": "code",
      "source": [
        "# So sánh bình luận đầu tiên và bình luận sau khi giải mã lại\n",
        "org_review = next(iter(train_data))['text']\n",
        "print(\"Bình luận ban đầu: \", org_review)\n",
        "print(\"Bình luận sau khi giải mã: \", decoded_review)"
      ],
      "metadata": {
        "id": "UWhx3hg9reJ_"
      },
      "execution_count": null,
      "outputs": []
    },
    {
      "cell_type": "markdown",
      "source": [
        "Như mọi người thấy, bình luận sau khi **giải mã** đã không còn các từ dừng như **\"this, was, an\"** trước đó nữa, nhờ vào việc **tiền xử lý, làm sạch dữ liệu** trước khi **mã hóa**. 🧹✨  \n",
        "\n",
        "Để tiến hành **giải mã** toàn bộ dữ liệu, ta có thể sử dụng đoạn code dưới đây. 💻  \n"
      ],
      "metadata": {
        "id": "HGbU9Un8sq_S"
      }
    },
    {
      "cell_type": "code",
      "source": [
        "decoded_reviews = []\n",
        "for seq in sequences:\n",
        "  decoded_review = ' '.join([reverse_word_index.get(i, '?') for i in seq])\n",
        "  decoded_reviews.append(decoded_review)"
      ],
      "metadata": {
        "id": "Wayays4TtFXg"
      },
      "execution_count": null,
      "outputs": []
    },
    {
      "cell_type": "code",
      "source": [
        "# In ra 5 bình luận giải mã đầu tiên:\n",
        "for decode_r in decoded_reviews[:5]:\n",
        "  print(\"Bình luận 1: \", decode_r)\n",
        "  print(\"-\"*100)"
      ],
      "metadata": {
        "id": "iT-tctzbtjkk"
      },
      "execution_count": null,
      "outputs": []
    },
    {
      "cell_type": "markdown",
      "source": [
        "## Using the IMDb Subwords Datasets 📚  \n",
        "\n",
        "Tụi mình sẽ tìm hiểu về bộ dữ liệu **IMDb** đã được tiền xử lý sẵn và chia thành dạng danh sách từ, do chính **TFDS** cung cấp nha.  \n",
        "\n",
        "Bởi vì đã được tiền xử lý sẵn và chia thành danh sách từ, bộ dữ liệu này đặc biệt hữu ích khi sử dụng như một bộ trung gian cho các tác vụ như:  \n",
        "- **Mã hóa theo ký tự** (có mức tương quan ngữ nghĩa thấp). 🔤  \n",
        "- **Mã hóa theo từ** (có mức tương quan ngữ nghĩa cao hơn). 📝  \n",
        "\n",
        "Các cách tiếp cận này đặc biệt hiệu quả trong việc huấn luyện **mô hình phân loại ngôn ngữ**. 🧠  \n",
        "\n",
        "Ngoài ra, bộ dữ liệu này cũng đã bao gồm cả phần **mã hóa (encoder) và giải mã (decoder)** để thuận tiện cho việc chia và mã hóa văn bản. 🔄  \n",
        "\n",
        "Có 2 phần chính trong bộ dữ liệu là:  \n",
        "- **Bộ dữ liệu 8k và 32k**  \n",
        "\n",
        "Tụi mình sẽ quan sát cụ thể bộ dữ liệu 8k với các đoạn code dưới đây nha. 💻  \n",
        "\n",
        "***(Lưu ý: Hiện tại, phiên bản 8k và 32k không được hỗ trợ và sử dụng nữa. Hiện tại chỉ còn bản thô ban đầu như chúng ta đã sử dụng ở trên, nó có tên là \"plain_text\").*** ⚠️  \n"
      ],
      "metadata": {
        "id": "3wuGhK7Bwgy9"
      }
    },
    {
      "cell_type": "markdown",
      "source": [
        "Để kiểm chứng lại việc không còn hỗ trợ, mình sẽ thử in ra thông tin của bộ dữ liệu nha."
      ],
      "metadata": {
        "id": "WXu6P8Ic80Bt"
      }
    },
    {
      "cell_type": "code",
      "source": [
        "import tensorflow_datasets as tfds\n",
        "imdb_data, info = tfds.load('imdb_reviews',\n",
        "                            with_info=True,\n",
        "                            as_supervised=True)\n",
        "print(info)"
      ],
      "metadata": {
        "id": "kWjxu3HYy5xR"
      },
      "execution_count": null,
      "outputs": []
    },
    {
      "cell_type": "markdown",
      "source": [
        "Như thông tin ở trên mà mình thấy thì đúng là vậy. Cụ thể là ở 2 dòng sau:  \n",
        "> config_description=\"\"\"\n",
        "    Plain text\n",
        "    \"\"\"\n",
        "\n",
        "> full_name='imdb_reviews/plain_text/1.0.0'\n",
        "\n",
        "Hiện tại, phương thức mặc định chỉ còn trả về thư mục **plain_text**, và trong phần config không còn tồn tại **subwords8k hay 32k**. 🗂️  \n",
        "\n",
        "Mọi người có thể xem rõ thông tin chi tiết [tại đây](https://discuss.ai.google.dev/t/failing-to-download-data-from-imdb-reviews-subwords8k-dataset-urgent-help-needed/32064) nha. 🔗  "
      ],
      "metadata": {
        "id": "OVIYeKjE9I4H"
      }
    },
    {
      "cell_type": "markdown",
      "source": [
        "Trong trường hợp mọi người vẫn muốn tìm hiểu, mình in ra đoạn code ở đây nha.\n",
        "\n",
        "\n",
        "\n",
        "```python\n",
        "# Tải bộ dữ liệu\n",
        "(train_data, test_data), info = tfds.load('imdb_reviews/subwords8k',\n",
        "                                        split = (tfds.Split.TRAIN, tfds.Split.TEST),\n",
        "                                        as_supervised=True,\n",
        "                                        with_info=True)\n",
        "# Lấy phần encoder ra\n",
        "encoder = info.features['text'].encoder\n",
        "# In ra các từ bên trong encoder\n",
        "print(encoder.subwords)\n",
        "# Output: ['the_', ', ', '. ', 'a_', 'and_', 'of_', 'to_', 's_', 'is_', 'br', 'in_', 'I_', 'that_',...]\n",
        "\n",
        "# Mọi người có thể thấy nó bao gồm cả các từ dừng và thẻ HTML\n",
        "# Tiến hành mã hóa\n",
        "sample_string = 'Today is a sunny day'\n",
        "encoded_string = encoder.encode(sample_string)\n",
        "print ('Encoded string is {}'.format(encoded_string))\n",
        "# Output: Encoded string is [6427, 4869, 9, 4, 2365, 1361, 606]\n",
        "# Ở đây có một điểm đặc biệt là câu của chúng ta có 5 từ nhưng lại được mã hóa với kết quả có độ dài tận 7\n",
        "# Kiểm tra từ được mã hóa đầu tiên\n",
        "print(encoder.subwords[6426])\n",
        "# Output: Tod\n",
        "# Tiến hành giải mã lại\n",
        "original_string = encoder.decode(encoded_string)\n",
        "test_string = encoder.decode([6427, 4869, 9, 4, 2365, 1361, 606])\n",
        "```\n",
        "\n"
      ],
      "metadata": {
        "id": "SXH2bGNQ9yPj"
      }
    },
    {
      "cell_type": "markdown",
      "source": [
        "## Getting Text from CSV Files 📄  \n",
        "\n",
        "Bây giờ tụi mình sẽ làm việc với dữ liệu text lấy từ file CSV nha.  \n",
        "\n",
        "Ở đây, tác giả nói đã sử dụng bộ dữ liệu từ kho dữ liệu **Twitter**, áp dụng trong open-source **Sentiment Analysis in Text dataset**. Tuy nhiên, lại không rõ về đường dẫn hay vị trí lấy cụ thể. 🤔  \n",
        "\n",
        "Do đó, mình xin phép sử dụng một bộ dữ liệu tương tự để thay thế nha.  \n",
        "\n",
        "Mọi người tải giúp mình bộ dữ liệu **tweet_emotions** [tại đây](https://www.kaggle.com/datasets/pashupatigupta/emotion-detection-from-text?select=tweet_emotions.csv) nha. Sau đó, úp lên phần cửa sổ thư mục bên tay trái. 📥  \n"
      ],
      "metadata": {
        "id": "xHbbx53KDB-W"
      }
    },
    {
      "cell_type": "markdown",
      "source": [
        "![image.png](data:image/png;base64,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)"
      ],
      "metadata": {
        "id": "DCiuhUU0Vlze"
      }
    },
    {
      "cell_type": "markdown",
      "source": [
        "Truy cập vào đường dẫn về bộ dữ liệu trên, xuống phần phân tích dữ liệu, mọi người có thể thấy chúng bao gồm 3 cột lần lượt là **id, sentiment và content**. 📊  \n",
        "\n",
        "Ở đây, mọi người có thể load nhanh file bằng **Pandas** cũng được nha. 🐼  \n",
        "Hiện tại, mình thực hiện theo đúng nguyên tác của tác giả là dùng **reader**. 📖  \n"
      ],
      "metadata": {
        "id": "4J9tVNoyIenV"
      }
    },
    {
      "cell_type": "code",
      "source": [
        "import csv\n",
        "rows = []\n",
        "# Lưu các hàng của dữ liệu lại\n",
        "with open(\"/content/tweet_emotions.csv\", encoding=\"UTF-8\") as csvfile:\n",
        "  reader = csv.reader(csvfile, delimiter=\",\")\n",
        "  for row in reader:\n",
        "    rows.append(row)\n"
      ],
      "metadata": {
        "id": "s6ip40l82Z0T"
      },
      "execution_count": null,
      "outputs": []
    },
    {
      "cell_type": "code",
      "source": [
        "# Xem cấu trúc 5 hàng đầu tiên của file\n",
        "for r in rows[:5]:\n",
        "  print(r)"
      ],
      "metadata": {
        "id": "B4q6mNOzJ4BU"
      },
      "execution_count": null,
      "outputs": []
    },
    {
      "cell_type": "markdown",
      "source": [
        "Vậy là dữ liệu mỗi hàng sẽ tương ứng với 3 cột theo thứ tự lần lượt là **id, sentiment và content**. 🗂️  \n",
        "Hàng đầu tiên chính là tên các cột.  \n",
        "\n",
        "Bây giờ, tụi mình chỉ việc lọc ra phần **văn bản nội dung** và **nhãn cảm xúc**, đồng thời thực hiện luôn phần **làm sạch văn bản** nha. 🧹  \n"
      ],
      "metadata": {
        "id": "X4JLVJdBJ_tx"
      }
    },
    {
      "cell_type": "code",
      "source": [
        "import nltk\n",
        "from nltk.corpus import stopwords\n",
        "\n",
        "# Chuẩn bị trước cho phần loại bỏ từ dừng\n",
        "nltk.download('stopwords')\n",
        "stopwords = set(stopwords.words('english'))\n",
        "\n",
        "# Chuẩn bị trước cho phần loại bỏ thẻ HTML\n",
        "from bs4 import BeautifulSoup\n",
        "\n",
        "# Chuẩn bị trước cho phần loại bỏ kí tự đặc biệt\n",
        "import string\n",
        "table = str.maketrans('', '', string.punctuation)"
      ],
      "metadata": {
        "id": "fBHhw4K-LHDn"
      },
      "execution_count": null,
      "outputs": []
    },
    {
      "cell_type": "code",
      "source": [
        "sentences = []\n",
        "labels = []\n",
        "for r in rows[1:]: # Vì hàng đầu tiên là tên các cột nên chúng ta không lấy, tính từ vị trí index 1 nha\n",
        "  labels.append(r[1])\n",
        "  sentence = r[2].lower()\n",
        "  # Tiến hành tiền xử lý các kí tự đặc biệt\n",
        "  sentence = sentence.replace(\"/\", \" / \")\n",
        "  sentence = sentence.replace(\"'\", \" ' \")\n",
        "  sentence = sentence.replace(\"-\", \" - \")\n",
        "  sentence = sentence.replace(\".\", \" . \")\n",
        "  # Tiến hành loại bỏ các thẻ HTML bằng BeautifulSoup\n",
        "  soup = BeautifulSoup(sentence)\n",
        "  sentence = soup.get_text()\n",
        "  # Chia thanh danh sách các từ\n",
        "  words = sentence.split()\n",
        "  filtered_sentence = \"\"\n",
        "  # Tiến hành loại bỏ kí tự đặc biệt và kiểm tra để loại bỏ các từ dừng\n",
        "  for word in words:\n",
        "    word = word.translate(table) # Loại bỏ kí tự đặc biệt\n",
        "    if word not in stopwords: # Kiểm tra và loại bỏ từ dừng\n",
        "      filtered_sentence = filtered_sentence + word + \" \"\n",
        "  sentences.append(filtered_sentence)"
      ],
      "metadata": {
        "id": "3Oy1NCN5KNO7"
      },
      "execution_count": null,
      "outputs": []
    },
    {
      "cell_type": "code",
      "source": [
        "# Kiểm tra 5 câu đầu tiên và nhãn của chúng\n",
        "for i in range(5):\n",
        "  print(f\"Emotion: {labels[i]}\")\n",
        "  print(f\"Sentence: {sentences[i]}\")\n",
        "  print(\"-\"*100)"
      ],
      "metadata": {
        "id": "BMD4PYj6L9-M"
      },
      "execution_count": null,
      "outputs": []
    },
    {
      "cell_type": "markdown",
      "source": [
        "Bây giờ tụi mình sẽ tiến hành chia tập **huấn luyện** và **kiểm tra** cho bộ dữ liệu nha. 🔄  \n",
        "\n",
        "Ở đây, mình không chỉ định cứng giống với tác giả vì bộ dữ liệu là khác nhau. Thay vào đó, mình sẽ sử dụng **train_test_split** trong **sklearn** cho nhanh nha. 🐍  \n",
        "\n",
        "**Code gốc của tác giả** cho bạn nào cần:  \n",
        "\n",
        "```python\n",
        "training_size = 28000\n",
        "training_sentences = sentences[0:training_size]\n",
        "testing_sentences = sentences[training_size:]\n",
        "training_labels = labels[0:training_size]\n",
        "testing_labels = labels[training_size:]\n"
      ],
      "metadata": {
        "id": "II0LMrEWMmXK"
      }
    },
    {
      "cell_type": "code",
      "source": [
        "import tensorflow as tf\n",
        "from sklearn.model_selection import train_test_split\n",
        "\n",
        "# Chia bộ dữ luyện huấn luyện và kiểm tra với test size là 20%\n",
        "training_sentences, testing_sentences, training_labels, testing_labels = train_test_split(sentences, labels, test_size=0.2)"
      ],
      "metadata": {
        "id": "k28KkYuxNF8R"
      },
      "execution_count": null,
      "outputs": []
    },
    {
      "cell_type": "code",
      "source": [
        "# Kiểm tra lại tập huấn luyện và kiểm tra:\n",
        "print(f\"Tổng số câu huấn luyện: {len(training_sentences)}\")\n",
        "print(f\"Tổng số câu kiểm tra: {len(testing_sentences)}\")"
      ],
      "metadata": {
        "id": "glXt2VlKNpkE"
      },
      "execution_count": null,
      "outputs": []
    },
    {
      "cell_type": "markdown",
      "source": [
        "Bây giờ tụi mình sẽ tiến hành áp dụng hết kiến thức **mã hóa** đã học ở phần trước vào nha."
      ],
      "metadata": {
        "id": "SqWcDnvLOViF"
      }
    },
    {
      "cell_type": "code",
      "source": [
        "from tensorflow.keras.preprocessing.text import Tokenizer\n",
        "from tensorflow.keras.preprocessing.sequence import pad_sequences"
      ],
      "metadata": {
        "id": "nGrChCF2PBKO"
      },
      "execution_count": null,
      "outputs": []
    },
    {
      "cell_type": "code",
      "source": [
        "vocab_size = 20000 # Kích thước tối đa của từ điển\n",
        "max_length = 10 # Số từ tối đa của chuỗi\n",
        "trunc_type = 'post' # Phương thức cắt chuỗi là giữ lại các từ phía trước\n",
        "padding_type = 'post' # Định nghĩa thêm phần đệm vào phía sau chuỗi\n",
        "oov_tok = \"<OOV>\" # Token đại diện cho các từ không có trong từ điển\n",
        "\n",
        "# Tạo bộ mã hóa\n",
        "tokenizer = Tokenizer(num_words=vocab_size, oov_token=oov_tok)\n",
        "tokenizer.fit_on_texts(training_sentences)\n",
        "\n",
        "# Kiểm tra bộ từ điển mã hóa\n",
        "print(\"Bộ từ điển mã hóa: \", tokenizer.word_index)"
      ],
      "metadata": {
        "id": "b6GqIR4bOd8v"
      },
      "execution_count": null,
      "outputs": []
    },
    {
      "cell_type": "code",
      "source": [
        "# Tiến hành mã hóa tập huấn luyện\n",
        "training_sequences = tokenizer.texts_to_sequences(training_sentences)\n",
        "# Tiến hành đệm cho tập huấn luyện\n",
        "training_padded = pad_sequences(training_sequences,\n",
        "                                maxlen=max_length,\n",
        "                                padding=padding_type,\n",
        "                                truncating=trunc_type)"
      ],
      "metadata": {
        "id": "UM9XHBtOP3ZL"
      },
      "execution_count": null,
      "outputs": []
    },
    {
      "cell_type": "code",
      "source": [
        "# Xem kết quả tập huấn luyện sau khi đã mã hóa, ở đây mình chỉ kiểm tra trước 5 chuỗi đầu\n",
        "for i in range(5):\n",
        "  print(f\"Encoded sequence {i+1}: {training_sequences[i]}\")\n",
        "  print(f\"Padded sequence {i+1}: {training_padded[i]}\")\n",
        "  print(\"-\"*100)"
      ],
      "metadata": {
        "id": "JDTX-vfIQTDb"
      },
      "execution_count": null,
      "outputs": []
    },
    {
      "cell_type": "markdown",
      "source": [
        "***(Lưu ý: Vì ở đây kích thước chuỗi tối đa khá nhỏ nên không sao. Tuy nhiên, khi làm việc với các bộ dữ liệu rất lớn và kích thước tối đa có thể lên đến hàng trăm hoặc hàng ngàn, việc đệm hết một lần cả bộ dữ liệu này sẽ không hiệu quả.)*** ⚠️  \n",
        "\n",
        "**Cách giải quyết**:  \n",
        "Mọi người có thể tìm hiểu thử **phương pháp đệm động (dynamic padding)**. Thay vì đệm hết một lần cho toàn bộ dữ liệu, ta sẽ tiến hành chia dữ liệu thành các **lô (batch)**. Khi huấn luyện đến batch nào, sẽ tiến hành đệm cho các chuỗi trong batch đó dựa trên **chuỗi có độ dài nhất** trong batch. 🔄📏  \n"
      ],
      "metadata": {
        "id": "c_i7uX3OQwqr"
      }
    },
    {
      "cell_type": "markdown",
      "source": [
        "## Getting Text from JSON File 📄  \n",
        "\n",
        "Bây giờ tụi mình sẽ cùng làm việc với dạng **file JSON** nha.  \n",
        "\n",
        "Đây là định dạng file rất thường xuyên được sử dụng để trao đổi thông tin giữa các **website hoặc ứng dụng web**. 🌐  \n",
        "\n",
        "Cấu trúc của chúng rất đơn giản, giống như một **dictionary** của Python hoặc **danh sách dictionary**, tuy nhiên chúng ta sẽ không gọi các phần tử đó là **dictionary** mà là **object**. 🧩  \n",
        "\n",
        "Về cơ bản, thao tác cũng không khác gì nhau, nhưng chúng ta vẫn cần phân biệt rõ **object** và **dictionary** là 2 loại khác nhau. Mọi người có thể tự tìm hiểu thêm phần này nha. 📖  \n"
      ],
      "metadata": {
        "id": "NP-dgkEJR515"
      }
    },
    {
      "cell_type": "markdown",
      "source": [
        "Ví dự dữ liệu trong file json:\n",
        "- Ở dạng một đối tượng:\n",
        "\n",
        "\n",
        "```javascript\n",
        " {\"firstName\" : \"Laurence\",\n",
        " \"lastName\" : \"Moroney\"}\n",
        "```\n",
        "\n",
        "- Ở dạng một danh sách các đối tượng:\n",
        "\n",
        "\n",
        "```javascript\n",
        "[\n",
        " {\"firstName\" : \"Laurence\",\n",
        " \"lastName\" : \"Moroney\"},\n",
        " {\"firstName\" : \"Sharon\",\n",
        " \"lastName\" : \"Agathon\"}\n",
        " ]\n",
        "```\n",
        "\n",
        "Các thuộc tính của đối tượng (object) có thể là một danh sách hoặc một nhóm các thuộc tính khác nữa, lúc này thuộc tính đó lại giống như một object nhỏ hơn bên trong.\n",
        "\n",
        "\n",
        "\n",
        "```javascript\n",
        "[\n",
        " {\"firstName\" : \"Laurence\",\n",
        " \"lastName\" : \"Moroney\",\n",
        " \"emails\": [\"lmoroney@gmail.com\", \"lmoroney@galactica.net\"]\n",
        " },\n",
        " {\"firstName\" : \"Sharon\",\n",
        " \"lastName\" : \"Agathon\",\n",
        " \"emails\": [\"sharon@galactica.net\", \"boomer@cylon.org\"]\n",
        " }\n",
        " ]\n",
        "```\n",
        "\n",
        "\n",
        "\n",
        "\n"
      ],
      "metadata": {
        "id": "7jKR0wCBTvR8"
      }
    },
    {
      "cell_type": "markdown",
      "source": [
        "Tụi mình sẽ sử dụng bộ dữ liệu [News Headlines Dataset For Sarcasm Detection](https://www.kaggle.com/datasets/rmisra/news-headlines-dataset-for-sarcasm-detection) để làm việc nha. 📰  \n",
        "\n",
        "Bộ dữ liệu này được dùng để dự đoán xem các bài báo có phải là châm biếm hay không. 🤔  \n",
        "\n",
        "Tương tự như làm việc với file CSV, chúng ta cũng sẽ tải dữ liệu về và úp lên cửa sổ thư mục bên trái trong **Colab**. 📥  \n"
      ],
      "metadata": {
        "id": "3r9NQbp9VCXn"
      }
    },
    {
      "cell_type": "markdown",
      "source": [
        "```markdown\n",
        "Kiểm tra cấu trúc của các đối tượng trong phần mô tả bộ dữ liệu trên **Kaggle**, chúng ta sẽ thấy kết quả như sau:  \n",
        "\n",
        "```python\n",
        "\"root\":{3 items\n",
        "\"article_link\":string\"https://www.huffingtonpost.com/entry/versace-black-code_us_5861fbefe4b0de3a08f600d5\"\n",
        "\"headline\":string\"former versace store clerk sues over secret 'black code' for minority shoppers\"\n",
        "\"is_sarcastic\":int0\n",
        "}\n",
        "```\n",
        "\n",
        "Vậy là mỗi đối tượng hay mẫu trong file dữ liệu JSON sẽ có 3 thuộc tính:  \n",
        "- **article_link**  \n",
        "- **headline**  \n",
        "- **is_sarcastic** 📰  \n",
        "```\n"
      ],
      "metadata": {
        "id": "myEQT5yHV5j-"
      }
    },
    {
      "cell_type": "code",
      "source": [
        "import json\n",
        "datastore = []\n",
        "# Tiến hành load bộ dữ liệu trong file và lưu lại vào trong danh sách datastore\n",
        "with open('/content/Sarcasm_Headlines_Dataset.json', 'r') as f:\n",
        "  for line in f:\n",
        "    datastore.append(json.loads(line))"
      ],
      "metadata": {
        "id": "TP8pA1maTuw1"
      },
      "execution_count": null,
      "outputs": []
    },
    {
      "cell_type": "code",
      "source": [
        "# Kiểm tra danh sách datastore:\n",
        "print(f\"Kích thước bộ dữ liệu: {len(datastore)} mẫu.\")\n",
        "for i in range(5):\n",
        "  print(f\"Mẫu {i+1}: {datastore[i]}\")"
      ],
      "metadata": {
        "id": "My8mDu0dRv9f"
      },
      "execution_count": null,
      "outputs": []
    },
    {
      "cell_type": "markdown",
      "source": [
        "Chúng ta sẽ tiến hành lặp qua từng đối tượng và lưu dữ liệu vào 3 danh sách đại diện cho 3 thuộc tính của đối tượng. 🔄  \n",
        "\n",
        "Đồng thời, trong lúc đó, chúng ta cũng thực hiện luôn việc **làm sạch văn bản** nha. 🧹  \n"
      ],
      "metadata": {
        "id": "vY1YsZgYYguQ"
      }
    },
    {
      "cell_type": "code",
      "source": [
        "sentences = [] # Đại diện cho headline\n",
        "labels = [] # Đại diện cho is_sarcastic\n",
        "urls = [] # Đại diện cho article_link\n",
        "\n",
        "for item in datastore:\n",
        "  sentence = item[\"headline\"].lower()\n",
        "  # Tiến hành tiền xử lý các kí tự đặc biệt\n",
        "  sentence = sentence.replace(\"/\", \" / \")\n",
        "  sentence = sentence.replace(\"'\", \" ' \")\n",
        "  sentence = sentence.replace(\"-\", \" - \")\n",
        "  sentence = sentence.replace(\",\", \" , \")\n",
        "  sentence = sentence.replace(\".\", \" . \")\n",
        "  # Loại bỏ các thẻ HTML\n",
        "  soup = BeautifulSoup(sentence)\n",
        "  sentence = soup.get_text()\n",
        "  # Tiến hành lọc và xóa kí tự đặc biệt, loại bỏ các từ dừng\n",
        "  filtered_sentence = \"\"\n",
        "  words = sentence.split()\n",
        "  for word in words:\n",
        "    word = word.translate(table) # Xóa các kí tự đặc biệt\n",
        "    if word not in stopwords: # Lọc các từ không phải từ dừng\n",
        "      filtered_sentence = filtered_sentence + word + \" \"\n",
        "  # Thêm vào đanh sách sentence, labels, và urls\n",
        "  sentences.append(filtered_sentence)\n",
        "  labels.append(item[\"is_sarcastic\"])\n",
        "  urls.append(item[\"article_link\"])"
      ],
      "metadata": {
        "id": "y3a1_tQHYe6X"
      },
      "execution_count": null,
      "outputs": []
    },
    {
      "cell_type": "markdown",
      "source": [
        "Các công việc còn lại cũng tương tự như phần trên, bao gồm:  \n",
        "- Chia tập **huấn luyện** và **kiểm tra**. 🔄  \n",
        "- **Mã hóa** dữ liệu. 🔢  \n",
        "- **Đệm** cho bộ dữ liệu. 📏  \n"
      ],
      "metadata": {
        "id": "BPXDgLl3Z7tp"
      }
    },
    {
      "cell_type": "code",
      "source": [
        "import tensorflow as tf\n",
        "from sklearn.model_selection import train_test_split\n",
        "\n",
        "# Chia bộ dữ luyện huấn luyện và kiểm tra với test size là 20%\n",
        "training_sentences, testing_sentences, training_labels, testing_labels = train_test_split(sentences, labels, test_size=0.2)"
      ],
      "metadata": {
        "id": "Bz4lxObyaNDr"
      },
      "execution_count": null,
      "outputs": []
    },
    {
      "cell_type": "code",
      "source": [
        "# Kiểm tra lại tập huấn luyện và kiểm tra:\n",
        "print(f\"Tổng số câu huấn luyện: {len(training_sentences)}\")\n",
        "print(f\"Tổng số câu kiểm tra: {len(testing_sentences)}\")"
      ],
      "metadata": {
        "id": "7KshumfNaW4z"
      },
      "execution_count": null,
      "outputs": []
    },
    {
      "cell_type": "code",
      "source": [
        "vocab_size = 20000 # Kích thước tối đa của từ điển\n",
        "max_length = 10 # Số từ tối đa của chuỗi\n",
        "trunc_type = 'post' # Phương thức cắt chuỗi là giữ lại các từ phía trước\n",
        "padding_type = 'post' # Định nghĩa thêm phần đệm vào phía sau chuỗi\n",
        "oov_tok = \"<OOV>\" # Token đại diện cho các từ không có trong từ điển\n",
        "\n",
        "# Tạo bộ mã hóa\n",
        "tokenizer = Tokenizer(num_words=vocab_size, oov_token=oov_tok)\n",
        "tokenizer.fit_on_texts(training_sentences)\n",
        "\n",
        "# Kiểm tra bộ từ điển mã hóa\n",
        "print(\"Bộ từ điển mã hóa: \", tokenizer.word_index)"
      ],
      "metadata": {
        "id": "g-B-b0tyaawy"
      },
      "execution_count": null,
      "outputs": []
    },
    {
      "cell_type": "code",
      "source": [
        "# Tiến hành mã hóa tập huấn luyện\n",
        "training_sequences = tokenizer.texts_to_sequences(training_sentences)\n",
        "# Tiến hành đệm cho tập huấn luyện\n",
        "training_padded = pad_sequences(training_sequences,\n",
        "                                maxlen=max_length,\n",
        "                                padding=padding_type,\n",
        "                                truncating=trunc_type)"
      ],
      "metadata": {
        "id": "7Kp6ovq0akgP"
      },
      "execution_count": null,
      "outputs": []
    },
    {
      "cell_type": "code",
      "source": [
        "# Xem kết quả tập huấn luyện sau khi đã mã hóa, ở đây mình chỉ kiểm tra trước 5 chuỗi đầu\n",
        "for i in range(5):\n",
        "  print(f\"Encoded sequence {i+1}: {training_sequences[i]}\")\n",
        "  print(f\"Padded sequence {i+1}: {training_padded[i]}\")\n",
        "  print(\"-\"*100)"
      ],
      "metadata": {
        "id": "1RVDt0TEapLS"
      },
      "execution_count": null,
      "outputs": []
    },
    {
      "cell_type": "markdown",
      "source": [
        "# Tổng kết: 🎉  \n",
        "\n",
        "Vậy là tụi mình đã hoàn thành xong nội dung chương 5 rồi nha. Tóm tắt lại, nội dung chính xoay quanh việc **tiền xử lý, làm sạch dữ liệu văn bản** và **mã hóa chúng**. 🧹🔢  \n",
        "\n",
        "**Kiến thức cần ôn tập**:  \n",
        "- **Cách tải dữ liệu và làm việc với nhiều loại file**. 📂  \n",
        "- **Các bước cơ bản để tiền xử lý văn bản**:  \n",
        "\n",
        "```python\n",
        "Chuyển sang dạng chữ thường --> Xử lý các ký tự đặc biệt --> Loại bỏ các thẻ HTML --> Xóa các ký tự đặc biệt --> Lọc, loại bỏ các từ dừng\n",
        "```\n",
        "\n",
        "- **Các phương pháp mã hóa văn bản**:  \n",
        "  - Mã hóa ký tự. 🔤  \n",
        "  - Mã hóa từ. 📝  \n",
        "- **Bộ đệm cho các chuỗi**. 📏  \n"
      ],
      "metadata": {
        "id": "T9IoUhJrasAt"
      }
    }
  ]
}