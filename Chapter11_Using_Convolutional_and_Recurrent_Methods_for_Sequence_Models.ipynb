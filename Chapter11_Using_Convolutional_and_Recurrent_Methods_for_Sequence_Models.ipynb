{
  "cells": [
    {
      "cell_type": "markdown",
      "metadata": {
        "id": "view-in-github",
        "colab_type": "text"
      },
      "source": [
        "<a href=\"https://colab.research.google.com/github/Tkag0001/AI_and_Machine_Learning_for_Coders/blob/main/Chapter11_Using_Convolutional_and_Recurrent_Methods_for_Sequence_Models.ipynb\" target=\"_parent\"><img src=\"https://colab.research.google.com/assets/colab-badge.svg\" alt=\"Open In Colab\"/></a>"
      ]
    },
    {
      "cell_type": "markdown",
      "metadata": {
        "id": "N9tZC409o6rS"
      },
      "source": [
        "# Chapter 11: Using Convolutional and Recurrent Methods for Sequence Models\n"
      ]
    },
    {
      "cell_type": "markdown",
      "metadata": {
        "id": "0Ihu9OV9ozdN"
      },
      "source": [
        "![overview](https://github.com/Tkag0001/AI_and_Machine_Learning_for_Coders/blob/main/images/Chapter_11/overview.png?raw=true)"
      ]
    },
    {
      "cell_type": "markdown",
      "metadata": {
        "id": "4qvay_5gl-4U"
      },
      "source": [
        "Hi, chào mọi người, tụi mình lại gặp nhau rồi. 😊  \n",
        "\n",
        "Nếu như ở chương 9 tụi mình đã tìm hiểu về dữ liệu chuỗi thời gian là gì cũng như các đặc tính và phương pháp thống kê, dự đoán đơn giản, thì sang đến chương 10, chúng ta đã biết thêm được cách xử lý dữ liệu đưa vào mô hình để dự đoán. Tuy nhiên, các mô hình này vẫn còn rất đơn giản khi chỉ với vài lớp tuyến tính.  \n",
        "\n",
        "Vậy nên, đến với chương 11 này, tụi mình sẽ cùng khám phá cách ứng dụng các lớp tích chập cũng như hồi quy, LSTM vào bên trong mô hình dự đoán nha. Chúng sẽ làm tăng độ hiệu quả của kết quả dự đoán lên đáng kinh ngạc á. 🚀  \n",
        "\n",
        "> **Hả, lớp tích chập á?**  \n",
        "\n",
        "Đúng rồi, bạn không đọc nhầm đâu, chính xác là các lớp tích chập á. Chúng không chỉ áp dụng với dữ liệu dạng ảnh 2D hay tensor nhiều chiều, mà chúng còn ứng dụng cả cho dữ liệu dạng chuỗi 1D (univariate time series) nữa á. 🌟  \n",
        "\n",
        "---  \n",
        "\n",
        "*Lưu ý: Dữ liệu chuỗi thời gian cũng có thể ở dạng tensor nhiều chiều với mỗi chiều được tính là một đặc trưng, nó là **multivariate time series** mà chúng ta từng học á.* 📊"
      ]
    },
    {
      "cell_type": "markdown",
      "metadata": {
        "id": "hdWj9JcaqBBh"
      },
      "source": [
        "# Convolution for Sequence Data  \n",
        "\n",
        "Tụi mình nhớ lại bài học cũ về lớp tích chập nhé.  \n",
        "\n",
        "> **Có phải điểm mấu chốt có ích mà lớp tích chập mang lại là các giá trị thông qua bộ lọc không nè.**  \n",
        "\n",
        "Khi đầu vào là một ma trận hay tensor đại diện cho một tấm ảnh thì sẽ có các bộ lọc hình vuông quét qua bức ảnh, nhờ đó mà ta có thể thu được các đặc trưng quan trọng của hình ảnh, giúp nắm bắt được các đặc điểm cục bộ của bức hình.  \n",
        "\n",
        "Vậy bây giờ chúng ta cũng có thể tiến hành ứng dụng tương tự ra với dữ liệu dạng chuỗi nha. Nguyên lý vẫn là dựa trên việc bộ lọc quét qua và tiến hành trích xuất các đặc trưng quan trọng. Tuy nhiên giờ đây **kích thước của từng bộ lọc chỉ đơn giản là mảng một chiều** chứ không còn 2 chiều như trước nữa nha.  \n",
        "\n",
        "Dưới đây là hình ảnh ví dụ minh họa nha. 🌟📊"
      ]
    },
    {
      "cell_type": "markdown",
      "source": [
        "![conv1d](https://github.com/Tkag0001/AI_and_Machine_Learning_for_Coders/blob/main/images/Chapter_11/conv1d.png?raw=true)"
      ],
      "metadata": {
        "id": "k7XourVIJ6Gf"
      }
    },
    {
      "cell_type": "markdown",
      "metadata": {
        "id": "SCf73oUorfHz"
      },
      "source": [
        "Như mọi người thấy á, tụi mình có một chuỗi dữ liệu thời gian là:  \n",
        "\n",
        "`[4, 8, 15, 16, 23, 42, 51, 64, 99, -1]`  \n",
        "\n",
        "Thì bộ lọc của tụi mình là mảng 1 chiều: `[-0.5, 1, -0.5]`  \n",
        "\n",
        "Sau khi bộ lọc quét qua thì tiến hành tổng hợp giá trị tại 3 bước thời gian đầu tiên lại thành **-1.5** á. 💡  \n",
        "\n",
        "Sau đó bộ lọc lại tiếp tục trượt, tiến lên một bước và tiến hành trích xuất tiếp đặc trưng như trên. 🔄"
      ]
    },
    {
      "cell_type": "markdown",
      "source": [
        "![conv1d2](https://github.com/Tkag0001/AI_and_Machine_Learning_for_Coders/blob/main/images/Chapter_11/conv1d2.png?raw=true)"
      ],
      "metadata": {
        "id": "FheUcjEkJ_VM"
      }
    },
    {
      "cell_type": "markdown",
      "metadata": {
        "id": "Gwnu1RGntCE2"
      },
      "source": [
        "Vậy là với phương pháp này, tụi mình đã có thể nắm bắt được các mẫu, đặc trưng quan trọng giữa các giá trị với nhau. Bây giờ thì mọi người đã thấy nó cũng tương tự, chả khác gì mấy với việc áp dụng lên dữ liệu hình ảnh ha. 🌟  \n",
        "\n",
        "Thông qua việc sử dụng các lớp tích chập xử lý dữ liệu chuỗi thời gian thì quá trình suy luận và học tập của mô hình cũng được cải thiện rõ rệt. Khả năng nắm bắt được tính **autocorrelation** của dữ liệu cũng được tăng lên rất nhiều. Qua đó kết quả đầu ra cũng có phần cải thiện hơn nha. 📈  \n",
        "\n",
        "Bây giờ tụi mình sẽ tiến hành tạo lại dữ liệu và thiết kế mô hình với các lớp tích chập nha.  \n",
        "\n",
        "Mình sẽ tạo lại dữ liệu như chương trước nha. 🔄"
      ]
    },
    {
      "cell_type": "code",
      "execution_count": null,
      "metadata": {
        "id": "IP_oOqt7uicL"
      },
      "outputs": [],
      "source": [
        "# Thêm các thư viện\n",
        "import tensorflow as tf\n",
        "import numpy as np\n",
        "import matplotlib.pyplot as plt\n",
        "from tensorflow.keras.models import Sequential\n",
        "from tensorflow.keras.layers import Dense, Conv1D, LSTM, Dropout, SimpleRNN, GRU, Bidirectional\n",
        "from tensorflow.keras.optimizers import SGD\n",
        "from tensorflow.keras.losses import Huber\n",
        "import time as timer\n",
        "from datetime import timedelta\n",
        "import pandas as pd\n",
        "import math\n",
        "import regex as re\n",
        "from sklearn.metrics import mean_absolute_error"
      ]
    },
    {
      "cell_type": "code",
      "source": [
        "# Tạo một MirroredStrategy để sử dụng tất cả các GPU có sẵn\n",
        "strategy = tf.distribute.MirroredStrategy()\n",
        "\n",
        "print('Number of devices: {}'.format(strategy.num_replicas_in_sync))"
      ],
      "metadata": {
        "id": "acGrgT6mS0I8"
      },
      "execution_count": null,
      "outputs": []
    },
    {
      "cell_type": "code",
      "execution_count": null,
      "metadata": {
        "id": "-IaN-BbjlMxg",
        "cellView": "form"
      },
      "outputs": [],
      "source": [
        "#@title Tạo lại dữ liệu chuỗi thời gian (mọi người ấn vào để coi chi tiết code bên trong nha)\n",
        "def plot_series(time, series, format=\"-\", start=0, end=None):\n",
        "  \"\"\"\n",
        "  Hàm này dùng để vẽ dữ liệu chuỗi thời gian trong một khung thời gian\n",
        "\n",
        "  Tham số đầu vào:\n",
        "  - time: khoảng thời gian xảy ra\n",
        "  - series: chuỗi giá trị tương ứng trong thời gian đó\n",
        "  - start: thời gian bắt đầu\n",
        "  - end: thời gian kết thúc\n",
        "  \"\"\"\n",
        "\n",
        "  plt.plot(time[start:end], series[start:end], format)\n",
        "  plt.xlabel(\"Time\")\n",
        "  plt.ylabel(\"Value\")\n",
        "  plt.grid(True)\n",
        "\n",
        "\n",
        "def trend(time, slope=0):\n",
        "  \"\"\"\n",
        "  Hàm này giúp điều hướng xu hướng của dữ liệu, giống với phương trình bậc 1\n",
        "\n",
        "  Tham số đầu vào:\n",
        "  - time: khoảng thời gian xảy ra\n",
        "  - slope: độ dốc của dữ liệu.\n",
        "    + Nếu giá trị dương thì đường thẳng hưởng lên, ta có xu hướng Uptrend\n",
        "    + Nếu giá trị âm thì chúng ta có xu hướng Downtrend\n",
        "\n",
        "  Kết quả trả về:\n",
        "  - series: danh sách giá trị theo xu hướng thời gian\n",
        "  \"\"\"\n",
        "  return slope * time\n",
        "\n",
        "\n",
        "def seasonal_pattern(season_time):\n",
        "  \"\"\"\n",
        "  Hàm này dùng để tạo ra mẫu dữ liệu trong 1 mùa.\n",
        "  Ở đây mình chia làm 2 pha tính, logic tính toán như sau nha:\n",
        "  - Nếu thời gian mùa < 0.4, tiến hành tính theo dao động cosine: np.cos(season_time *2 *np.pi)\n",
        "  - Nếu thời gian mùa > 0.4, tiến hành tính theo hàm suy giảm mũ:  1 / np.exp(3 * season_time)\n",
        "\n",
        "  Tham số đầu vào:\n",
        "  - thời gian của mùa\n",
        "\n",
        "  Kết quả trả về:\n",
        "  - res: kết quả tính ra được từ logic tính toán nằm trong khoảng [-1, 1]\n",
        "  \"\"\"\n",
        "  res = np.where(season_time<0.4,\n",
        "                 np.cos(season_time * 2 * np.pi),\n",
        "                 1 / np.exp(3 * season_time))\n",
        "  return res\n",
        "\n",
        "def seasonality(time, period, amplitude=1, phase=0):\n",
        "  \"\"\"\n",
        "  Hàm này để lặp lại, tạo nên thời gian cho các mùa nha.\n",
        "  Logic tính toán sẽ như sau:\n",
        "  - time % period sẽ ra giá trị trong khoảng [0, period - 1] -> tạo ra được các lần lặp thời gian của mùa [0->period-1, 0->period-1,...]\n",
        "  - / period sẽ tiến hành chuẩn hóa lại thời gian của mùa về khoảng [0, 1]\n",
        "  - Chạy seasion time vô hàm seasonal_pattern để tạo ra chuỗi giá trị tương ứng với dãy thời gian của các mùa, giá trị nằm trong khoảng [-1, 1]\n",
        "  - amplitude * seasonal_pattern, ta tiến hành nhân biên độ dao động với chuỗi giá trị thì giá trị cuối cùng sẽ trong khoảng [-amplitude, amplitude]\n",
        "\n",
        "  Tham số đầu vào:\n",
        "  - time: khoảng thời gian xảy ra\n",
        "  - period: khoảng thời gian của một mùa\n",
        "  - amplitude: biên độ dao động tối đa của dữ liệu, ví dụ mình để là 15 thì sẽ dao động trong khoảng giá trị từ -15 đến 15\n",
        "  - phase: độ lệch pha, ví dụ nếu ta gán 15, thay vì mùa vụ bắt đầu từ thời điểm t = 0 thì bị lệch đi 15 bước thời gian tức bắt đầu vào t = 15\n",
        "\n",
        "  Kết quả trả về:\n",
        "  - res: dữ liệu mang tính chu kỳ, mùa vụ\n",
        "  \"\"\"\n",
        "  season_time = ((time + phase) % period) / period\n",
        "  res = amplitude * seasonal_pattern(season_time)\n",
        "  return res\n",
        "\n",
        "\n",
        "def noise(time, noise_level=1, seed=None):\n",
        "  \"\"\"\n",
        "  Hàm này để tạo tính nhiễu cho dữ liệu\n",
        "  Logic tính toán như sau:\n",
        "  - rnd.rand(len(time)) trả về một dãy giá trị có độ lớn trong khoảng [0,1),\n",
        "   số lượng giá trị bằng số bước thời gian\n",
        "  - Sau đó nhân với noise_level sẽ ra giá trị trong khoảng [0, noise_level)\n",
        "\n",
        "  Tham số đầu vào:\n",
        "  - time: khoảng thời gian xảy ra.\n",
        "  - noise_level: cấp độ nhiễu của dữ liệu\n",
        "  - seed: nếu để giá trị khác None, thì ở các lần chạy sau,\n",
        "  khi giá trị seed bằng nhau thì giá trị ngẫu nhiên tạo ra cũng bằng nhau\n",
        "\n",
        "  Kết quả đầu ra:\n",
        "  - res: dữ liệu mang tính nhiếu\n",
        "  \"\"\"\n",
        "  rnd = np.random.RandomState(seed)\n",
        "  res = rnd.randn(len(time)) * noise_level\n",
        "  return res\n",
        "\n",
        "# Bắt đầu tạo dữ liệu\n",
        "time = np.arange(4 * 365 + 1, dtype=\"float32\")\n",
        "# series = trend(time, 0.1)\n",
        "# baseline = 10\n",
        "# amplitude = 15\n",
        "# slop = 0.09\n",
        "# noise_level = 15\n",
        "# period = 360\n",
        "\n",
        "series = trend(time, 0.1)\n",
        "baseline = 10\n",
        "amplitude = 20\n",
        "slop = 0.09\n",
        "noise_level = 5\n",
        "period = 360\n",
        "\n",
        "series = baseline + trend(time, slop)\n",
        "series += seasonality(time, period=period, amplitude=amplitude)\n",
        "series += noise(time, noise_level, seed=42)\n",
        "plot_series(time, series)\n",
        "\n",
        "# Chia dữ liệu train, val ra\n",
        "split_time = 1000\n",
        "time_train = time[:split_time]\n",
        "x_train = series[:split_time]\n",
        "time_valid = time[split_time:]\n",
        "x_valid = series[split_time:]\n",
        "\n",
        "print(\"Tiến hành tạo dữ liệu thành công!\")\n",
        "print(f\"Kích thước tập train: {len(x_train)}\")\n",
        "print(f\"Kích thước tập val: {len(x_valid)}\")"
      ]
    },
    {
      "cell_type": "code",
      "execution_count": null,
      "metadata": {
        "id": "tzddyipdJOWV"
      },
      "outputs": [],
      "source": [
        "# Tiến hành tạo \"windowed dataset\"\n",
        "def windowed_dataset(series, window_size, batch_size, shuffle_buffer):\n",
        "  series = tf.expand_dims(series, axis=-1) # Tiến hành thêm một chiều mới để chuyển thành tensor có kích thước là (n, 1)\n",
        "  dataset = tf.data.Dataset.from_tensor_slices(series)\n",
        "  dataset = dataset.window(window_size + 1, shift=1, drop_remainder=True)\n",
        "  dataset = dataset.flat_map(lambda window: window.batch(window_size + 1))\n",
        "  dataset = dataset.shuffle(shuffle_buffer).map(lambda window: (window[:-1], window[-1]))\n",
        "  dataset = dataset.batch(batch_size).prefetch(1)\n",
        "  return dataset"
      ]
    },
    {
      "cell_type": "code",
      "execution_count": null,
      "metadata": {
        "id": "J9gLVCCRvtKa"
      },
      "outputs": [],
      "source": [
        "# Tiến hành tạo dataset để đưa vào mô hình\n",
        "window_size = 20\n",
        "batch_size = 32\n",
        "shuffle_buffer_size = 1000\n",
        "\n",
        "train_dataset = windowed_dataset(x_train, window_size, batch_size, shuffle_buffer_size)\n",
        "val_dataset = windowed_dataset(x_valid, window_size, batch_size, shuffle_buffer_size)"
      ]
    },
    {
      "cell_type": "code",
      "execution_count": null,
      "metadata": {
        "id": "MXlSshW6vzjx"
      },
      "outputs": [],
      "source": [
        "with strategy.scope():\n",
        "  model = Sequential([\n",
        "      Conv1D(filters=128, kernel_size=3, # Có 128 bộ lọc với kích thước là 3\n",
        "            strides=1, padding='causal', # Bước nhảy là 1,\n",
        "            activation='relu',\n",
        "            input_shape=[None, 1]), # Vì dữ liệu của mình là univariate nên số lớp là 1 nha.\n",
        "      Dense(28, activation='relu'),\n",
        "      Dense(10, activation='relu'),\n",
        "      Dense(1),\n",
        "  ])\n",
        "\n",
        "  optimizer = SGD(learning_rate=1e-5, momentum=0.5)\n",
        "  model.compile(loss='mse', optimizer=optimizer)\n",
        "model.summary()"
      ]
    },
    {
      "cell_type": "markdown",
      "metadata": {
        "id": "aNkpzx03y6OG"
      },
      "source": [
        "Ở đây mình giải thích một tí về tham số mới `padding = 'causal'` nha. Cái này thường được sử dụng nhiều với dữ liệu thời gian á. ⏳  \n",
        "\n",
        "Vì cơ chế hoạt động tương tự với lớp tích chập xử lý ảnh, nên phương pháp này sẽ không tránh khỏi việc kích thước sau khi qua bộ lọc bị giảm đi do thất thoát giá trị tại các đường biên ha.  \n",
        "\n",
        "Vậy chúng ta cần phương pháp gì đó để xử lý được việc này, và đó chính là **'causal'**. Cơ chế của chúng sẽ hoạt động như sau:  \n",
        "> Giá trị dự đoán, đầu ra tại thời điểm **t** sẽ chỉ phụ thuộc vào các giá trị tại thời điểm **t** và trước đó **t-1, t-2, t-3,...**.  \n",
        "\n",
        "Qua đó, ta có thể đảm bảo được việc sẽ không sử dụng thông tin tương lai để đưa vào dự đoán. ✅  \n",
        "\n",
        "**Kích thước padding** hay số lượng giá trị thêm vào sẽ bằng `kernel_size - 1`.  \n",
        "\n",
        "### Ví dụ:  \n",
        "- **Dữ liệu đầu vào**: `[1, 2, 3, 4, 5]`  \n",
        "- **Kích thước bộ lọc**: `3`  \n",
        "\n",
        "Lúc này, tụi mình sẽ có số lượng padding vào chuỗi là: `3 - 1 = 2`.  \n",
        "\n",
        "Vậy **chuỗi đầu vào sau khi đệm** là: `[0, 0, 1, 2, 3, 4, 5]`.  \n",
        "\n",
        "Sau khi đã đệm xong, thì bộ lọc sẽ tiến hành trượt qua và trích xuất đặc trưng nha. 🎯"
      ]
    },
    {
      "cell_type": "code",
      "execution_count": null,
      "metadata": {
        "id": "37m7DhvS2eRU"
      },
      "outputs": [],
      "source": [
        "start_time = timer.time()\n",
        "history = model.fit(train_dataset, epochs=100, validation_data=val_dataset)\n",
        "end_time = timer.time()"
      ]
    },
    {
      "cell_type": "code",
      "execution_count": null,
      "metadata": {
        "id": "_P361m843kc4"
      },
      "outputs": [],
      "source": [
        "print(f\"Thời gian chạy: {timedelta(seconds=end_time - start_time)}\")"
      ]
    },
    {
      "cell_type": "code",
      "execution_count": null,
      "metadata": {
        "id": "mkratWR8_GFj"
      },
      "outputs": [],
      "source": [
        "# Vẽ biểu đồ huấn luyện\n",
        "loss = history.history['loss']\n",
        "val_loss = history.history['val_loss']\n",
        "epochs = range(len(loss))\n",
        "plt.plot(epochs, loss, label='Training loss')\n",
        "plt.plot(epochs, val_loss, label='Validation loss')\n",
        "plt.title('Training and validation loss')\n",
        "plt.legend()\n",
        "plt.show()"
      ]
    },
    {
      "cell_type": "markdown",
      "source": [
        "Đây là kết quả của mình nha.\n",
        "\n",
        "![conv1d](https://github.com/Tkag0001/AI_and_Machine_Learning_for_Coders/blob/main/images/Chapter_11/conv1d_model.png?raw=true)"
      ],
      "metadata": {
        "id": "MuKGP6GMOaf6"
      }
    },
    {
      "cell_type": "markdown",
      "metadata": {
        "id": "jOv_trJiAJvo"
      },
      "source": [
        "Uầy, nhìn kết quả có vẻ khá khả quan ha mọi người. Ở đây mình định nghĩa nhanh luôn một hàm để dự đoán nha."
      ]
    },
    {
      "cell_type": "code",
      "execution_count": null,
      "metadata": {
        "id": "tna1TghR29wJ"
      },
      "outputs": [],
      "source": [
        "def model_forecast(model, series, window_size):\n",
        "  ds = tf.data.Dataset.from_tensor_slices(series)\n",
        "  ds = ds.window(window_size, shift=1, drop_remainder=True)\n",
        "  ds = ds.flat_map(lambda w: w.batch(window_size))\n",
        "  ds = ds.batch(32).prefetch(1)\n",
        "  forecast = model.predict(ds)\n",
        "  return forecast"
      ]
    },
    {
      "cell_type": "code",
      "execution_count": null,
      "metadata": {
        "id": "EuT1xaC538qB"
      },
      "outputs": [],
      "source": [
        "forecast = model_forecast(model, series[..., np.newaxis], window_size)\n",
        "result = forecast[split_time - window_size:-1, -1, 0]"
      ]
    },
    {
      "cell_type": "code",
      "execution_count": null,
      "metadata": {
        "id": "3EwUkpnJ4X04"
      },
      "outputs": [],
      "source": [
        "plot_series(time_valid, x_valid)\n",
        "plot_series(time_valid, result)"
      ]
    },
    {
      "cell_type": "markdown",
      "source": [
        "Đây là kết quả dự đoán của mình nha.\n",
        "\n",
        "![prediction_conv1d](https://github.com/Tkag0001/AI_and_Machine_Learning_for_Coders/blob/main/images/Chapter_11/prediction_conv1d_model.png?raw=true)"
      ],
      "metadata": {
        "id": "NERb4WKEOiij"
      }
    },
    {
      "cell_type": "markdown",
      "metadata": {
        "id": "WofV94FNCA_u"
      },
      "source": [
        "Nhìn chung kết quả dự đoán của chúng ta vẫn có thể nắm bắt được quy đạo của đường cong, mọi người có thể thấy chúng na ná như nhau. Chỉ là sự chênh lệch về giá trị xảy ra quá lớn."
      ]
    },
    {
      "cell_type": "code",
      "execution_count": null,
      "metadata": {
        "id": "QbPFQSiI6S8-"
      },
      "outputs": [],
      "source": [
        "# Đánh giá MAE\n",
        "mae = mean_absolute_error(x_valid, result)\n",
        "print(f\"Chỉ số đánh giá MAE: {mae}\")"
      ]
    },
    {
      "cell_type": "markdown",
      "metadata": {
        "id": "WYHMQYOoFWyO"
      },
      "source": [
        "Kết quả ở lần chạy của mình:  \n",
        "> **Chỉ số đánh giá MAE**: 4.7682013511657715 🌟  \n",
        "\n",
        "Tuy nhiên, kết quả đánh giá MAE lại có phần tệ hơn so với trước đó. Nhưng thôi không sao, vấn đề này nằm ở việc chúng ta cần thử nghiệm nhiều lần để tối ưu hóa các siêu tham số của mô hình. 🔄  \n",
        "\n",
        "Nhìn chung, phương pháp này cũng hiệu quả ha mọi người. 💡"
      ]
    },
    {
      "cell_type": "markdown",
      "metadata": {
        "id": "pjf_qHjUJkGA"
      },
      "source": [
        "# Experimenting with the Conv1D Hyperparameters\n",
        "\n",
        "Bây giờ tụi mình sẽ thử nghiệm với các tham số khác nhau của lớp Conv1D để tối ưu hóa mô hình nha, tương tự với chương trước á."
      ]
    },
    {
      "cell_type": "code",
      "execution_count": null,
      "metadata": {
        "id": "HwmV4-fTE3Ot"
      },
      "outputs": [],
      "source": [
        "!pip install keras-tuner"
      ]
    },
    {
      "cell_type": "code",
      "execution_count": null,
      "metadata": {
        "id": "UOYMWGX_J_Sp"
      },
      "outputs": [],
      "source": [
        "def build_model(hp):\n",
        "  model = Sequential([\n",
        "      Conv1D(filters=hp.Int('units', min_value=128, max_value=256, step=64),\n",
        "             kernel_size=hp.Int('kernel_size', min_value=3, max_value=9, step=3),\n",
        "             strides=hp.Int('strides', min_value=1, max_value=3, step=1),\n",
        "             padding='causal', activation='relu', input_shape=[None,1]),\n",
        "      Dense(28, activation='relu'),\n",
        "      Dense(10, activation='relu'),\n",
        "      Dense(1)\n",
        "  ])\n",
        "  optimizer = SGD(learning_rate=1e-5, momentum=0.5)\n",
        "  model.compile(loss='mse', optimizer=optimizer)\n",
        "  return model"
      ]
    },
    {
      "cell_type": "code",
      "execution_count": null,
      "metadata": {
        "id": "xdmXuPMAK_ZQ"
      },
      "outputs": [],
      "source": [
        "from keras_tuner.tuners import RandomSearch\n",
        "tuner = RandomSearch(build_model,\n",
        "                     objective='loss',\n",
        "                     max_trials=500,\n",
        "                     executions_per_trial=3,\n",
        "                     directory='model',\n",
        "                     project_name='conv1d_search_hyperparameter')\n",
        "\n",
        "tuner.search_space_summary()"
      ]
    },
    {
      "cell_type": "code",
      "execution_count": null,
      "metadata": {
        "id": "KUlEyNQNLscg"
      },
      "outputs": [],
      "source": [
        "start_time = timer.time()\n",
        "tuner.search(train_dataset, epochs=100, validation_data=val_dataset, verbose=0)\n",
        "end_time = timer.time()"
      ]
    },
    {
      "cell_type": "code",
      "execution_count": null,
      "metadata": {
        "id": "zA5N8-xXjDVK"
      },
      "outputs": [],
      "source": [
        "tuner.results_summary()"
      ]
    },
    {
      "cell_type": "markdown",
      "metadata": {
        "id": "6m6G7P4njM5C"
      },
      "source": [
        "Ở đây mình tìm được bộ siêu tham số tốt nhất cho mô hình như sau nha:\n",
        "\n",
        "\n",
        "```\n",
        "Trial 006 summary\n",
        "Hyperparameters:\n",
        "units: 192\n",
        "kernel_size: 6\n",
        "strides: 1\n",
        "Score: 58.129748026529946\n",
        "```\n",
        "\n"
      ]
    },
    {
      "cell_type": "markdown",
      "metadata": {
        "id": "9ia9KeSSOiZ0"
      },
      "source": [
        "Bây giờ tụi mình tiến hành lấy mô hình tốt nhất ra nha."
      ]
    },
    {
      "cell_type": "code",
      "execution_count": null,
      "metadata": {
        "id": "PWRbqWSiL0SZ"
      },
      "outputs": [],
      "source": [
        "model_lowest_loss = tuner.get_best_models(num_models=1)[0]\n",
        "model_lowest_loss.summary()"
      ]
    },
    {
      "cell_type": "code",
      "execution_count": null,
      "metadata": {
        "id": "6JNaZMlkOov2"
      },
      "outputs": [],
      "source": [
        "forecast = model_forecast(model_lowest_loss, series[..., np.newaxis], window_size)\n",
        "result = forecast[split_time - window_size:-1, -1, 0]"
      ]
    },
    {
      "cell_type": "code",
      "execution_count": null,
      "metadata": {
        "id": "oMeR8IRrWVSQ"
      },
      "outputs": [],
      "source": [
        "# Biểu diễn biểu đồ:\n",
        "plot_series(time_valid, x_valid)\n",
        "plot_series(time_valid, result)"
      ]
    },
    {
      "cell_type": "markdown",
      "source": [
        "Biểu đồ ở lần chạy của mình nha.\n",
        "\n",
        "![best_prediction](https://github.com/Tkag0001/AI_and_Machine_Learning_for_Coders/blob/main/images/Chapter_11/best_predict_conv1d_model.png?raw=true)\n"
      ],
      "metadata": {
        "id": "CRXUX60yOx9M"
      }
    },
    {
      "cell_type": "code",
      "execution_count": null,
      "metadata": {
        "id": "4SHqAp13jXc4"
      },
      "outputs": [],
      "source": [
        "print(f\"Đánh giá kết quả theo MAE: {mean_absolute_error(x_valid, result)}\")"
      ]
    },
    {
      "cell_type": "markdown",
      "metadata": {
        "id": "Hm3KhLOVjxmJ"
      },
      "source": [
        "Kết quả ở lần chạy của mình:\n",
        ">Đánh giá kết quả theo MAE: 4.881666660308838\n",
        "\n",
        "Uầy có vẻ kết quả thấp hơn tí trên tập val nhưng mà đây là mô hình tốt nhất dựa trên loss trung bình trên tập train nha."
      ]
    },
    {
      "cell_type": "markdown",
      "metadata": {
        "id": "5giSye8jO_8H"
      },
      "source": [
        "# Using NASA Weather Data\n",
        "\n",
        "Bây giờ tụi mình sẽ thử ứng dụng vào bộ dữ liệu thời tiết của NASA nha.\n",
        "\n",
        "Ở mình sẽ sử dụng bộ **Settle Tacoma (SeaTac)**. Ở bộ dữ liệu này, chúng ta sẽ thử áp dụng các lớp hồi quy RNN cơ bản nha."
      ]
    },
    {
      "cell_type": "markdown",
      "source": [
        "![seat_tacoma](https://github.com/Tkag0001/AI_and_Machine_Learning_for_Coders/blob/main/images/Chapter_11/Seatle_tacoma.png?raw=true)"
      ],
      "metadata": {
        "id": "AHcgyDy6KsgT"
      }
    },
    {
      "cell_type": "markdown",
      "metadata": {
        "id": "UUjW3hWKLkaS"
      },
      "source": [
        "Mọi người vào đường [link](https://data.giss.nasa.gov/cgi-bin/gistemp/stdata_show_v4.cgi?id=USW00024233&ds=14&dt=1) này rồi kéo xuống dưới cùng sẽ có chỗ tải file CSV nha hoặc cũng có thể chạy đoạn code dưới đây để tải.\n",
        "\n",
        "*Lưu ý: Nếu đoạn code báo lỗi 404 not found thì là do trang web đang ẩn đi đường link tải, chúng chỉ được tạo ra trong một khoảng thời gian nhất định. Nếu mọi người gặp lỗi thì vô trang web chính ở trên để tải file sau đó quay lại chạy code dưới là được nha.*"
      ]
    },
    {
      "cell_type": "code",
      "execution_count": null,
      "metadata": {
        "id": "qHexc04GPjmw"
      },
      "outputs": [],
      "source": [
        "!wget -O data.csv 'https://data.giss.nasa.gov/tmp/gistemp/STATIONS_v4/tmp_USW00024233_14_0_1/station.csv'"
      ]
    },
    {
      "cell_type": "markdown",
      "metadata": {
        "id": "oN67mt9YMwoB"
      },
      "source": [
        "Dữ liệu của tụi mình sẽ có dạng như sau:\n",
        "\n",
        "![df](https://github.com/Tkag0001/AI_and_Machine_Learning_for_Coders/blob/main/images/Chapter_11/df.png?raw=true)"
      ]
    },
    {
      "cell_type": "markdown",
      "metadata": {
        "id": "1p941uTQNSxJ"
      },
      "source": [
        "Ở đây mình sử dụng đoạn code khác với tác giả để trích xuất dữ liệu nha. Mọi người cũng có thể tham khảo code của tác giả ở đây.\n",
        "\n",
        "\n",
        "```python\n",
        " def get_data():\n",
        "    data_file = \"data.csv\"\n",
        "    f = open(data_file)\n",
        "    data = f.read()\n",
        "    f.close()\n",
        "    lines = data.split('\\n')\n",
        "    header = lines[0].split(',')\n",
        "    lines = lines[1:]\n",
        "    temperatures=[]\n",
        "    for line in lines:\n",
        "        if line:\n",
        "            linedata = line.split(',')\n",
        "            linedata = linedata[1:13]\n",
        "            for item in linedata:\n",
        "                if item:\n",
        "                    temperatures.append(float(item))\n",
        "    series = np.asarray(temperatures)\n",
        "    time = np.arange(len(temperatures), dtype=\"float32\")\n",
        "    return time, series\n",
        "```\n",
        "\n"
      ]
    },
    {
      "cell_type": "code",
      "execution_count": null,
      "metadata": {
        "id": "InIZreLcMwKs"
      },
      "outputs": [],
      "source": [
        "# Code của mình\n",
        "df = pd.read_csv('data.csv')\n",
        "df"
      ]
    },
    {
      "cell_type": "code",
      "execution_count": null,
      "metadata": {
        "id": "iMP5JGDuOF4L"
      },
      "outputs": [],
      "source": [
        "# Ở đây mình loại bỏ đi cột year đầu tiên\n",
        "need_data = df.iloc[0:, 1:]\n",
        "need_data"
      ]
    },
    {
      "cell_type": "code",
      "execution_count": null,
      "metadata": {
        "id": "wEiSkOo1OYKI"
      },
      "outputs": [],
      "source": [
        "temperatures = []\n",
        "# Tiến hành duyệt qua các hàng và lấy dữ liệu\n",
        "for index, row in need_data.iterrows():\n",
        "  temperatures.extend(row.values)"
      ]
    },
    {
      "cell_type": "code",
      "execution_count": null,
      "metadata": {
        "id": "mSRnA5eFPsBL"
      },
      "outputs": [],
      "source": [
        "# Chuyển định dạng sang numpy\n",
        "series = np.asarray(temperatures)\n",
        "time = np.arange(len(temperatures), dtype=\"float32\")\n",
        "\n",
        "# Chuẩn hóa dữ liệu\n",
        "series = (series - np.mean(series)) / np.std(series)"
      ]
    },
    {
      "cell_type": "code",
      "execution_count": null,
      "metadata": {
        "id": "d8OPhZFLQP8F"
      },
      "outputs": [],
      "source": [
        "# Tính split_time phù hợp, ở đây mình chọn là 80% nha\n",
        "split_time = math.ceil(len(time)*0.8)\n",
        "print(f\"Điểm chia dữ liệu phù hợp: {split_time}\")\n",
        "x_train = series[:split_time]\n",
        "x_val = series[split_time:]\n",
        "time_train = time[:split_time]\n",
        "time_valid = time[split_time:]\n",
        "\n",
        "# Định nghĩa các siêu tham số\n",
        "window_size = 24\n",
        "batch_size = 12\n",
        "shuffle_buffer_size = 48\n",
        "\n",
        "# Tạo dataset mô hình\n",
        "train_dataset = windowed_dataset(x_train, window_size, batch_size, shuffle_buffer_size)\n",
        "val_dataset = windowed_dataset(x_val, window_size, batch_size, shuffle_buffer_size)"
      ]
    },
    {
      "cell_type": "markdown",
      "metadata": {
        "id": "LuUzf_GTa1z-"
      },
      "source": [
        "## Using RNN for Sequence Modeling  \n",
        "\n",
        "Tiến hành áp dụng **RNN** cho quá trình mô hình hóa chuỗi. Mọi người có thể nhớ lại ở chương 7 về NLP, tụi mình có tìm hiểu về **RNN** rồi nha. Tuy nhiên, lúc đó mình sử dụng dạng cải tiến của nó là **LSTM**, còn bây giờ tụi mình sẽ thử sử dụng **RNN** nha. 🌟"
      ]
    },
    {
      "cell_type": "code",
      "execution_count": null,
      "metadata": {
        "id": "6CfOd71ru8mT"
      },
      "outputs": [],
      "source": [
        "train_dataset"
      ]
    },
    {
      "cell_type": "code",
      "execution_count": null,
      "metadata": {
        "id": "2vNN9MrkaoCp"
      },
      "outputs": [],
      "source": [
        "with strategy.scope():\n",
        "  model = Sequential([\n",
        "      SimpleRNN(100, return_sequences=True,\n",
        "                input_shape=[None, 1]),\n",
        "      SimpleRNN(100),\n",
        "      Dense(1)\n",
        "  ])\n",
        "\n",
        "  optimizer = SGD(learning_rate=1.5e-6, momentum=0.9)\n",
        "  model.compile(loss=Huber(),optimizer=optimizer, metrics=['mae'])"
      ]
    },
    {
      "cell_type": "markdown",
      "metadata": {
        "id": "BAui4e1Hc2VW"
      },
      "source": [
        "Ở đây tụi mình tiếp xúc với một hàm loss mới là **Huber** nha. Nó là sự kết hợp của cả MSE và MAE\n",
        "\n",
        "Công thức tính loss như sau:"
      ]
    },
    {
      "cell_type": "markdown",
      "source": [
        "![huber](https://github.com/Tkag0001/AI_and_Machine_Learning_for_Coders/blob/main/images/Chapter_11/huber.png?raw=true)"
      ],
      "metadata": {
        "id": "UYHnhKt9K67m"
      }
    },
    {
      "cell_type": "markdown",
      "metadata": {
        "id": "pF4RSwmddDyt"
      },
      "source": [
        "Trong đó:  \n",
        "- **α**: Đại diện cho chỉ số chênh lệch hay hiệu giữa giá trị dự đoán và giá trị thực tế.  \n",
        "- **δ**: Một ngưỡng cố định để xác định phân chia tính toán dựa trên 2 trường hợp.  \n",
        "\n",
        "**Huber** có thể khắc phục được những hạn chế cũng như tận dụng ưu điểm của **MSE** và **MAE**:  \n",
        "- **MSE**: Bị nhạy cảm với các giá trị ngoại lai, biến thiên dẫn đến ảnh hưởng tác động lớn đến kết quả.  \n",
        "- **MAE**: Ít bị ảnh hưởng bởi ngoại lai nhưng lại có thể làm mất tính ổn định của gradient khi tối ưu hóa vì gradient của MAE là không liên tục, khi đạo hàm sẽ gặp phải điểm gãy tại **x = 0**.  \n",
        "\n",
        "Do đó, tụi mình sẽ sử dụng **Huber** để cải tiến nha, tiến hành train với **1000 epochs**. 🚀"
      ]
    },
    {
      "cell_type": "code",
      "execution_count": null,
      "metadata": {
        "id": "U7LCRG0SbXn_"
      },
      "outputs": [],
      "source": [
        "start_time = timer.time()\n",
        "history = model.fit(train_dataset, epochs=100, validation_data=val_dataset)\n",
        "end_time = timer.time()"
      ]
    },
    {
      "cell_type": "code",
      "execution_count": null,
      "metadata": {
        "id": "_q7SPOSafiV9"
      },
      "outputs": [],
      "source": [
        "print(f\"Thời gian huấn luyện: {str(timedelta(seconds=end_time - start_time))}\")"
      ]
    },
    {
      "cell_type": "code",
      "execution_count": null,
      "metadata": {
        "id": "ig5pcrsbfru5"
      },
      "outputs": [],
      "source": [
        "# Vẽ biểu đồ huấn luyện\n",
        "train_loss = history.history['loss']\n",
        "val_loss = history.history['val_loss']\n",
        "\n",
        "plt.figure(figsize=(10, 6))\n",
        "plt.plot(train_loss, label='Train loss')\n",
        "plt.plot(val_loss, label='Val loss')\n",
        "plt.legend()\n",
        "plt.show()"
      ]
    },
    {
      "cell_type": "markdown",
      "source": [
        "Kết quả ở lần chạy của mình nha."
      ],
      "metadata": {
        "id": "0kbxO0_fPFqu"
      }
    },
    {
      "cell_type": "markdown",
      "source": [
        "![simple_rnn](https://github.com/Tkag0001/AI_and_Machine_Learning_for_Coders/blob/main/images/Chapter_11/simple_rnn_model.png?raw=true)"
      ],
      "metadata": {
        "id": "Gdm4v8bSLJap"
      }
    },
    {
      "cell_type": "markdown",
      "metadata": {
        "id": "WU1blAjfxlQs"
      },
      "source": [
        "Mọi người lưu ý đoạn code dưới đây giúp mình nha.\n",
        "\n",
        "Ở đây kích thước đầu ra của mô hình chúng ta sẽ khác với trước, nó chỉ có số chiều là 2 thôi dẫn đến phần lấy result phải được tinh chỉnh lại.\n",
        "\n",
        "\n",
        "```python\n",
        "result = forecast[split_time - window_size:-1, 0]\n",
        "```\n",
        "\n",
        "Nguyên nhân là vì lớp RNN thứ 2 trong mô hình có `return_sequence=False` khiến cho đầu ra của lớp này chỉ trả về trạng thái cuối chứ không phải một chuỗi, do đó số chiều bị giảm còn 2 so với mô hình trước là 3.\n",
        "\n"
      ]
    },
    {
      "cell_type": "code",
      "execution_count": null,
      "metadata": {
        "id": "5obJ9YEvgPoZ"
      },
      "outputs": [],
      "source": [
        "# Tiến hành dự đoán giá trị\n",
        "forecast = model_forecast(model, series[...,np.newaxis], window_size)\n",
        "result = forecast[split_time - window_size:-1, 0]\n",
        "# Vẽ biểu đồ\n",
        "plot_series(time_valid, x_val)\n",
        "plot_series(time_valid, result)\n",
        "plt.axis([1200, len(time), -2.5, 2.5]) # Vì dữ liệu khá nhiều nên mình zoom một phần ra cho dễ coi nha."
      ]
    },
    {
      "cell_type": "markdown",
      "source": [
        "Biểu đồ dự đoán ở lần chạy của mình.\n",
        "\n",
        "![prediction_simple_rnn](https://github.com/Tkag0001/AI_and_Machine_Learning_for_Coders/blob/main/images/Chapter_11/prediction_simple_rnn_model.png?raw=true)"
      ],
      "metadata": {
        "id": "UVQ5isEiLagT"
      }
    },
    {
      "cell_type": "code",
      "execution_count": null,
      "metadata": {
        "id": "DpIXP7IVgDxu"
      },
      "outputs": [],
      "source": [
        "# Đo chỉ số MAE\n",
        "print(f\"Kết quả đánh giá MAE: {mean_absolute_error(x_val, result)}\")"
      ]
    },
    {
      "cell_type": "markdown",
      "metadata": {
        "id": "xziLPiqbhKVT"
      },
      "source": [
        "Kết quả ở lần chạy của mình:  \n",
        "> **Kết quả đánh giá MAE**: 0.3146536542989436 🌟  \n",
        "\n",
        "Nhìn kết quả cũng khá tốt ha mọi người. Chúng vẫn có thể theo được hình dạng, đường cong của giá trị thực tế, chỉ có một chút sai lệch nhỏ ở các đỉnh thôi. Các giá trị dự đoán ở các đỉnh không được sát lắm.  \n",
        "\n",
        "Bây giờ, tụi mình tiến hành huấn luyện với **1500 epochs** xem thử kết quả ra sao nha, đồng thời kiểm tra giới hạn của mô hình xem đến khoảng nào sẽ gặp phải tình trạng **overfitting**. 📊"
      ]
    },
    {
      "cell_type": "code",
      "execution_count": null,
      "metadata": {
        "id": "KwtUqHPvhWvS"
      },
      "outputs": [],
      "source": [
        "with strategy.scope():\n",
        "  model = Sequential([\n",
        "      SimpleRNN(100, return_sequences=True,\n",
        "                input_shape=[None, 1]),\n",
        "      SimpleRNN(100),\n",
        "      Dense(1)\n",
        "  ])\n",
        "\n",
        "  optimizer = SGD(learning_rate=1.5e-6, momentum=0.9)\n",
        "  model.compile(loss=Huber(),optimizer=optimizer, metrics=['mae'])\n",
        "\n",
        "start_time = timer.time()\n",
        "history = model.fit(train_dataset, epochs=1500, validation_data=val_dataset)\n",
        "end_time = timer.time()"
      ]
    },
    {
      "cell_type": "code",
      "execution_count": null,
      "metadata": {
        "id": "yuAyaANkhtWW"
      },
      "outputs": [],
      "source": [
        "print(f\"Thời gian huấn luyện: {timedelta(seconds=end_time - start_time)}\")"
      ]
    },
    {
      "cell_type": "code",
      "execution_count": null,
      "metadata": {
        "id": "puywsHEVh0_D"
      },
      "outputs": [],
      "source": [
        "# Vẽ biểu đồ huấn luyện\n",
        "# Vẽ biểu đồ huấn luyện\n",
        "train_loss = history.history['loss']\n",
        "val_loss = history.history['val_loss']\n",
        "\n",
        "plt.figure(figsize=(10, 6))\n",
        "plt.plot(train_loss, label='Train loss')\n",
        "plt.plot(val_loss, label='Val loss')\n",
        "plt.legend()\n",
        "plt.show()"
      ]
    },
    {
      "cell_type": "markdown",
      "source": [
        "Kết quả ở lần chạy của mình:"
      ],
      "metadata": {
        "id": "9CsI-TACPS_I"
      }
    },
    {
      "cell_type": "markdown",
      "source": [
        "![simple_rnn_1500](https://github.com/Tkag0001/AI_and_Machine_Learning_for_Coders/blob/main/images/Chapter_11/simple_rnn_model_1500.png?raw=true)"
      ],
      "metadata": {
        "id": "WomYOw1eLnsM"
      }
    },
    {
      "cell_type": "markdown",
      "metadata": {
        "id": "KRL_4cQNiSol"
      },
      "source": [
        "Mình nghĩ ở phần này chắc do dữ liệu khác (đã cập nhật thêm dữ liệu hiện tại) dẫn đến kết quả biểu đồ cũng có phần khác.  \n",
        "\n",
        "Ở trong lần chạy của tác giả thì đến khoảng **epoch 500** đã có tình trạng **overfitting**. Tuy nhiên, khi mình chạy thì có vẻ mô hình vẫn có xu hướng tiếp tục giảm tiếp. Tuy là tốc độ đã bắt đầu chậm đi rồi, nhưng quan sát log thì vẫn đang giảm. 📉  \n",
        "\n",
        "Chúng ta có thể tiếp tục theo dõi và kiểm tra thêm để đảm bảo kết quả tốt nhất nha. 🚀"
      ]
    },
    {
      "cell_type": "markdown",
      "metadata": {
        "id": "cuYjPFMk49an"
      },
      "source": [
        "Biểu đồ của tác giả:"
      ]
    },
    {
      "cell_type": "markdown",
      "source": [
        "![root_simple_rnn](https://github.com/Tkag0001/AI_and_Machine_Learning_for_Coders/blob/main/images/Chapter_11/root_simple_rnn_model.png?raw=true)"
      ],
      "metadata": {
        "id": "8suqogAwLtlC"
      }
    },
    {
      "cell_type": "code",
      "execution_count": null,
      "metadata": {
        "id": "wH4gGu74iP4w"
      },
      "outputs": [],
      "source": [
        "# Tiến hành dự đoán giá trị\n",
        "forecast = model_forecast(model, series, window_size)\n",
        "result = forecast[split_time-window_size:-1, 0]\n",
        "\n",
        "# Vẽ biểu đồ\n",
        "plot_series(time_valid, x_val)\n",
        "plot_series(time_valid, result)\n",
        "plt.axis([1200, len(time), -2.5, 2.5])"
      ]
    },
    {
      "cell_type": "markdown",
      "source": [
        "Biểu đồ ở lần chạy của mình:\n"
      ],
      "metadata": {
        "id": "ArCw0f7BPjAF"
      }
    },
    {
      "cell_type": "markdown",
      "source": [
        "![best_prediction_simple_rnn](https://github.com/Tkag0001/AI_and_Machine_Learning_for_Coders/blob/main/images/Chapter_11/best_prediction_simple_rnn_model.png?raw=true)"
      ],
      "metadata": {
        "id": "s3gwsY5-L4_y"
      }
    },
    {
      "cell_type": "code",
      "execution_count": null,
      "metadata": {
        "id": "mQ7e4QatiP4x"
      },
      "outputs": [],
      "source": [
        "# Đo chỉ số MAE\n",
        "print(f\"Kết quả đánh giá MAE: {mean_absolute_error(x_val, result)}\")"
      ]
    },
    {
      "cell_type": "markdown",
      "metadata": {
        "id": "tN3yZrdciZIg"
      },
      "source": [
        "Uầy, kết quả bất ngờ thật đấy:  \n",
        "- **100 epochs**: Kết quả đánh giá MAE: **0.3146536542989436**  \n",
        "- **1500 epochs**: Kết quả đánh giá MAE: **0.20764662626308328** 🎉  \n",
        "\n",
        "Ở các đỉnh, giá trị dự đoán cũng có phần sát hơn rất là nhiều. Mô hình đã thật sự cải thiện rõ rệt và đang tiếp tục, chưa có dấu hiệu **overfitting**. 🌟  \n",
        "\n",
        "Tiếp tục thử nghiệm thêm để xem giới hạn tối ưu của mô hình đến đâu nha! 🚀"
      ]
    },
    {
      "cell_type": "markdown",
      "metadata": {
        "id": "dHK0VRDh5paJ"
      },
      "source": [
        "# Exploring a Larger Dataset\n",
        "\n",
        "Bây giờ tụi mình sẽ thử mở rộng bộ dữ liệu ra hơn nha. Ở đây mình sẽ truy cập vào [KNMI Climate Explorer](https://climexp.knmi.nl/start.cgi) để lấy [dữ liệu thời tiết](https://hadleyserver.metoffice.gov.uk/hadcet/data/meantemp_daily_totals.txt) khu vực trung tâm nước Anh trong giai đoạn từ năm 1772 đến 2024 nha."
      ]
    },
    {
      "cell_type": "code",
      "execution_count": null,
      "metadata": {
        "id": "R3FNbDFyiRQL"
      },
      "outputs": [],
      "source": [
        "!wget -O daily_temp.txt 'https://hadleyserver.metoffice.gov.uk/hadcet/data/meantemp_daily_totals.txt'"
      ]
    },
    {
      "cell_type": "code",
      "execution_count": null,
      "metadata": {
        "id": "1sf4P5i8Egpz"
      },
      "outputs": [],
      "source": [
        "# Lấy danh sách dữ liệu\n",
        "def get_data():\n",
        "  data_path = \"daily_temp.txt\"\n",
        "  f = open(data_path, 'r')\n",
        "  data = f.read()\n",
        "  f.close()\n",
        "  lines=data.split('\\n')\n",
        "  temperatures = []\n",
        "  lines = lines[2:] # Loại bỏ 2 hàng đầu tiên vì chúng chứa tên cột\n",
        "  for line in lines:\n",
        "    if line:\n",
        "      line_data = re.split(r'\\s+', line)\n",
        "      temperatures.append(float(line_data[1]))\n",
        "\n",
        "  series = np.asarray(temperatures)\n",
        "  time = np.arange(len(temperatures), dtype='float32')\n",
        "  return time, series"
      ]
    },
    {
      "cell_type": "code",
      "execution_count": null,
      "metadata": {
        "id": "0QTDoYM5FzqS"
      },
      "outputs": [],
      "source": [
        "time, series = get_data()\n",
        "print(f\"Kích thước dữ liệu: {len(time)}\")"
      ]
    },
    {
      "cell_type": "markdown",
      "metadata": {
        "id": "4awp5EWQISD7"
      },
      "source": [
        "Tụi mình cũng tiến hành các bước chia dữ liệu rồi chuẩn bị tương tự như trước nha."
      ]
    },
    {
      "cell_type": "code",
      "execution_count": null,
      "metadata": {
        "id": "DC7WGOJ3KIzS"
      },
      "outputs": [],
      "source": [
        "# Chuẩn hóa dữ liệu để phép tính nhỏ hơn\n",
        "series = (series - series.mean()) / series.std()"
      ]
    },
    {
      "cell_type": "code",
      "execution_count": null,
      "metadata": {
        "id": "JiZpJCQQG4zV"
      },
      "outputs": [],
      "source": [
        "split_time = 80000\n",
        "time_train = time[:split_time]\n",
        "x_train = series[:split_time]\n",
        "time_valid = time[split_time:]\n",
        "x_val = series[split_time:]\n",
        "\n",
        "window_size = 60\n",
        "batch_size = 64\n",
        "shuffle_buffer_size = 240\n",
        "\n",
        "train_dataset = windowed_dataset(x_train, window_size, batch_size, shuffle_buffer_size)\n",
        "val_dataset = windowed_dataset(x_val, window_size, batch_size, shuffle_buffer_size)"
      ]
    },
    {
      "cell_type": "code",
      "execution_count": null,
      "metadata": {
        "id": "hM4ABrSlJFAx"
      },
      "outputs": [],
      "source": [
        "with strategy.scope():\n",
        "  model = Sequential([\n",
        "      SimpleRNN(100, return_sequences=True,\n",
        "                input_shape=[None, 1]),\n",
        "      SimpleRNN(100),\n",
        "      Dense(1)\n",
        "  ])\n",
        "\n",
        "  optimizer = SGD(learning_rate=1.5e-6, momentum=0.9)\n",
        "  model.compile(loss=Huber(),optimizer=optimizer, metrics=['mae'])"
      ]
    },
    {
      "cell_type": "code",
      "execution_count": null,
      "metadata": {
        "id": "5W4SAhx_Jxji"
      },
      "outputs": [],
      "source": [
        "start_time = timer.time()\n",
        "history = model.fit(train_dataset, epochs=100, validation_data=val_dataset)\n",
        "end_time = timer.time()"
      ]
    },
    {
      "cell_type": "code",
      "source": [
        "print(f\"Thời gian huấn luyện của mô hình: {timedelta(seconds=start_time - end_time)}\")"
      ],
      "metadata": {
        "id": "WKgkCJHvQiyN"
      },
      "execution_count": null,
      "outputs": []
    },
    {
      "cell_type": "code",
      "source": [
        "# Vẽ quá trình huấn luyện\n",
        "train_loss = history.history['loss']\n",
        "val_loss = history.history['val_loss']\n",
        "\n",
        "plt.figure(figsize=(10, 6))\n",
        "plt.plot(train_loss, label='Training Loss')\n",
        "plt.plot(val_loss, label='Validation Loss')\n",
        "plt.xlabel('Epochs')\n",
        "plt.ylabel('Loss')\n",
        "plt.legend()\n",
        "plt.show()"
      ],
      "metadata": {
        "id": "wIUYitaAJ5Fn"
      },
      "execution_count": null,
      "outputs": []
    },
    {
      "cell_type": "markdown",
      "source": [
        "Biểu đồ ở lần chạy của mình"
      ],
      "metadata": {
        "id": "-B1NICANPpvh"
      }
    },
    {
      "cell_type": "markdown",
      "source": [
        "![simple_rnn_large_dataset](https://github.com/Tkag0001/AI_and_Machine_Learning_for_Coders/blob/main/images/Chapter_11/simple_rnn_large_dataset.png?raw=true)"
      ],
      "metadata": {
        "id": "2ILJ8ol9MClP"
      }
    },
    {
      "cell_type": "code",
      "source": [
        "forecast = model_forecast(model, series[..., np.newaxis], window_size)\n",
        "result = forecast[split_time-window_size:-1, 0]\n",
        "\n",
        "# Vẽ biểu đồ\n",
        "plot_series(time_valid, x_val)\n",
        "plot_series(time_valid, result)\n",
        "plt.axis([90000, len(time), -4, 4]) #Mình zoom một khoảng cho dễ coi nha."
      ],
      "metadata": {
        "id": "ll-yTpCkL5No"
      },
      "execution_count": null,
      "outputs": []
    },
    {
      "cell_type": "markdown",
      "source": [
        "Biểu đồ ở lần chạy của mình"
      ],
      "metadata": {
        "id": "wSD1zkZQTDKi"
      }
    },
    {
      "cell_type": "markdown",
      "source": [
        "![prediction_large_dataset](https://github.com/Tkag0001/AI_and_Machine_Learning_for_Coders/blob/main/images/Chapter_11/prediction_simple_rnn_large_dataset.png?raw=true)"
      ],
      "metadata": {
        "id": "0ERLWEwNMOyK"
      }
    },
    {
      "cell_type": "code",
      "source": [
        "print(f\"Đánh giá MAE: {mean_absolute_error(x_val, result)}\")"
      ],
      "metadata": {
        "id": "7nHzRho3TWz8"
      },
      "execution_count": null,
      "outputs": []
    },
    {
      "cell_type": "markdown",
      "source": [
        "Kết quả ở lần chạy của mình:  \n",
        "> **Đánh giá MAE**: 0.2468615013962493 🌟  \n",
        "\n",
        "Nhìn biểu đồ **loss**, mọi người thấy **loss của val** trông rất sát với **loss của train**, nhìn chung có thể nắm bắt được xu hướng một cách tương đối và có thể phát triển tiếp tục trong tương lai. Tuy nhiên, khi quan sát trên biểu đồ các giá trị dự đoán, vẫn có sự chênh lệch khá lớn, đặc biệt là ở các điểm **cực đại**. Điều này cho thấy chúng ta vẫn cần cải thiện để tối ưu thêm. 🔄  \n",
        "\n",
        "> **Vậy nguyên nhân của nghịch lý biểu đồ loss và biểu đồ dự đoán do đâu mà ra?**  \n",
        "\n",
        "Đó là do dữ liệu của chúng ta đã được **mã hóa về một khoảng giá trị khá nhỏ**. Vì vậy, tuy bạn thấy MAE có thể nhỏ hơn 0.1, điều này dễ dẫn đến lầm tưởng rằng mô hình vô cùng hiệu quả, nhưng thực tế thì không. Nó **tương đối lớn so với khoảng giá trị của dữ liệu**.  \n",
        "\n",
        "### Giải pháp:  \n",
        "Bạn có thể tiến hành **đảo ngược quá trình chuẩn hóa** để đưa dữ liệu về giá trị ban đầu. Lúc này, bạn có thể áp dụng công thức chuẩn hóa ngược lên MAE để tính được giá trị **MAE thực tế** và đánh giá lại độ chính xác của mô hình. 📊"
      ],
      "metadata": {
        "id": "1a2clZCcOAAJ"
      }
    },
    {
      "cell_type": "markdown",
      "source": [
        "# Using Other Recurrent Methods  \n",
        "\n",
        "Tụi mình cùng khám phá, thử thêm các phương pháp, lớp hồi quy khác như **GRUs** và **LSTM** mà tụi mình đã xem qua ở chương 7 nha. 🌟  "
      ],
      "metadata": {
        "id": "fFnXFUVCSOCI"
      }
    },
    {
      "cell_type": "markdown",
      "source": [
        "## GRUs"
      ],
      "metadata": {
        "id": "u0MJQOkFTsrd"
      }
    },
    {
      "cell_type": "code",
      "source": [
        "with strategy.scope():\n",
        "  model = Sequential([\n",
        "      GRU(100, return_sequences=True,\n",
        "                input_shape=[None, 1]),\n",
        "      GRU(100),\n",
        "      Dense(1)\n",
        "  ])\n",
        "\n",
        "  optimizer = SGD(learning_rate=1.5e-6, momentum=0.9)\n",
        "  model.compile(loss=Huber(),optimizer=optimizer, metrics=['mae'])"
      ],
      "metadata": {
        "id": "pZcByzYvTq7y"
      },
      "execution_count": null,
      "outputs": []
    },
    {
      "cell_type": "code",
      "source": [
        "start_time = timer.time()\n",
        "history = model.fit(train_dataset, epochs=100, validation_data=val_dataset)\n",
        "end_time = timer.time()"
      ],
      "metadata": {
        "id": "KEFo0pgmTq71"
      },
      "execution_count": null,
      "outputs": []
    },
    {
      "cell_type": "code",
      "source": [
        "print(f\"Thời gian huấn luyện của mô hình: {timedelta(seconds=start_time - end_time)}\")"
      ],
      "metadata": {
        "id": "74c386A4Tq72"
      },
      "execution_count": null,
      "outputs": []
    },
    {
      "cell_type": "code",
      "source": [
        "# Vẽ quá trình huấn luyện\n",
        "train_loss = history.history['loss']\n",
        "val_loss = history.history['val_loss']\n",
        "\n",
        "plt.figure(figsize=(10, 6))\n",
        "plt.plot(train_loss, label='Training Loss')\n",
        "plt.plot(val_loss, label='Validation Loss')\n",
        "plt.xlabel('Epochs')\n",
        "plt.ylabel('Loss')\n",
        "plt.legend()\n",
        "plt.show()"
      ],
      "metadata": {
        "id": "u5EXUunATq72"
      },
      "execution_count": null,
      "outputs": []
    },
    {
      "cell_type": "markdown",
      "source": [
        "Biểu đồ ở lần chạy của mình:"
      ],
      "metadata": {
        "id": "njU9vQ-a_w5j"
      }
    },
    {
      "cell_type": "markdown",
      "source": [
        "![gru](https://github.com/Tkag0001/AI_and_Machine_Learning_for_Coders/blob/main/images/Chapter_11/gru.png?raw=true)"
      ],
      "metadata": {
        "id": "s_5MzyjKMWAi"
      }
    },
    {
      "cell_type": "code",
      "source": [
        "forecast = model_forecast(model, series[..., np.newaxis], window_size)\n",
        "result = forecast[split_time-window_size:-1, 0]\n",
        "\n",
        "# Vẽ biểu đồ\n",
        "plot_series(time_valid, x_val)\n",
        "plot_series(time_valid, result)\n",
        "plt.axis([90000, len(time), -4, 4]) #Mình zoom một khoảng cho dễ coi nha."
      ],
      "metadata": {
        "id": "PTcyJq0pTq72"
      },
      "execution_count": null,
      "outputs": []
    },
    {
      "cell_type": "markdown",
      "source": [
        "Kết quả dự đoán:"
      ],
      "metadata": {
        "id": "QNJS-czJ_0bF"
      }
    },
    {
      "cell_type": "markdown",
      "source": [
        "![prediction_gru](https://github.com/Tkag0001/AI_and_Machine_Learning_for_Coders/blob/main/images/Chapter_11/prediction_gru.png?raw=true)"
      ],
      "metadata": {
        "id": "bzLV01kYMfnm"
      }
    },
    {
      "cell_type": "code",
      "source": [
        "print(f\"Đánh giá MAE: {mean_absolute_error(x_val, result)}\")"
      ],
      "metadata": {
        "id": "JYacnhryTq72"
      },
      "execution_count": null,
      "outputs": []
    },
    {
      "cell_type": "markdown",
      "source": [
        "Kết quả ở lần chạy của mình:\n",
        "> Đánh giá MAE: 0.3210455705409677"
      ],
      "metadata": {
        "id": "hDcbSyo8_N03"
      }
    },
    {
      "cell_type": "markdown",
      "source": [
        "## LSTM"
      ],
      "metadata": {
        "id": "ut0ml70eT5FX"
      }
    },
    {
      "cell_type": "code",
      "source": [
        "with strategy.scope():\n",
        "  model = Sequential([\n",
        "      LSTM(100, return_sequences=True,\n",
        "                input_shape=[None, 1]),\n",
        "      LSTM(100),\n",
        "      Dense(1)\n",
        "  ])\n",
        "\n",
        "  optimizer = SGD(learning_rate=1.5e-6, momentum=0.9)\n",
        "  model.compile(loss=Huber(),optimizer=optimizer, metrics=['mae'])"
      ],
      "metadata": {
        "id": "PAiJImfLT7oW"
      },
      "execution_count": null,
      "outputs": []
    },
    {
      "cell_type": "code",
      "source": [
        "start_time = timer.time()\n",
        "history = model.fit(train_dataset, epochs=100, validation_data=val_dataset)\n",
        "end_time = timer.time()"
      ],
      "metadata": {
        "id": "lbZvh2I_T7oW"
      },
      "execution_count": null,
      "outputs": []
    },
    {
      "cell_type": "code",
      "source": [
        "print(f\"Thời gian huấn luyện của mô hình: {timedelta(seconds=start_time - end_time)}\")"
      ],
      "metadata": {
        "id": "1inCfXHnT7oW"
      },
      "execution_count": null,
      "outputs": []
    },
    {
      "cell_type": "code",
      "source": [
        "# Vẽ quá trình huấn luyện\n",
        "train_loss = history.history['loss']\n",
        "val_loss = history.history['val_loss']\n",
        "\n",
        "plt.figure(figsize=(10, 6))\n",
        "plt.plot(train_loss, label='Training Loss')\n",
        "plt.plot(val_loss, label='Validation Loss')\n",
        "plt.xlabel('Epochs')\n",
        "plt.ylabel('Loss')\n",
        "plt.legend()\n",
        "plt.show()"
      ],
      "metadata": {
        "id": "TD12NWpRT7oW"
      },
      "execution_count": null,
      "outputs": []
    },
    {
      "cell_type": "markdown",
      "source": [
        "Biểu đồ ở lần chạy của mình"
      ],
      "metadata": {
        "id": "pUTOWmKJAKqA"
      }
    },
    {
      "cell_type": "markdown",
      "source": [
        "![lstm](https://github.com/Tkag0001/AI_and_Machine_Learning_for_Coders/blob/main/images/Chapter_11/lstm.png?raw=true)"
      ],
      "metadata": {
        "id": "nfhU039BMmF5"
      }
    },
    {
      "cell_type": "code",
      "source": [
        "forecast = model_forecast(model, series[..., np.newaxis], window_size)\n",
        "result = forecast[split_time-window_size:-1, 0]\n",
        "\n",
        "# Vẽ biểu đồ\n",
        "plot_series(time_valid, x_val)\n",
        "plot_series(time_valid, result)\n",
        "plt.axis([90000, len(time), -4, 4]) #Mình zoom một khoảng cho dễ coi nha."
      ],
      "metadata": {
        "id": "aVk2HVXcT7oX"
      },
      "execution_count": null,
      "outputs": []
    },
    {
      "cell_type": "markdown",
      "source": [
        "Kết quả dự đoán:"
      ],
      "metadata": {
        "id": "Y6cZJ1YyAPtI"
      }
    },
    {
      "cell_type": "markdown",
      "source": [
        "![prediction_lstm](https://github.com/Tkag0001/AI_and_Machine_Learning_for_Coders/blob/main/images/Chapter_11/prediction_lstm.png?raw=true)"
      ],
      "metadata": {
        "id": "3gYD2f1_MqsR"
      }
    },
    {
      "cell_type": "code",
      "source": [
        "print(f\"Đánh giá MAE: {mean_absolute_error(x_val, result)}\")"
      ],
      "metadata": {
        "id": "548Hf-82T7oX"
      },
      "execution_count": null,
      "outputs": []
    },
    {
      "cell_type": "markdown",
      "source": [
        "Kết quả ở lần chạy của mình:\n",
        "> Đánh giá MAE: 0.378796568401377"
      ],
      "metadata": {
        "id": "TN9WJzWmOPYF"
      }
    },
    {
      "cell_type": "markdown",
      "source": [
        "Đương nhiên, mọi người cũng có thể thử thay đổi các siêu tham số khác hay thêm bớt các lớp, hoặc thử các bộ tối ưu hóa khác vào nha. 🔄  \n",
        "\n",
        "Tại để mà nói, không có giải pháp nào phù hợp cho mọi trường hợp. Điều hoạt động tốt nhất còn phụ thuộc vào **dữ liệu** cũng như **yêu cầu** của bạn đối với dự đoán đề ra nha. 🌟  "
      ],
      "metadata": {
        "id": "nM_fKHMYT8z8"
      }
    },
    {
      "cell_type": "markdown",
      "source": [
        "# Using Dropout  \n",
        "\n",
        "Đương nhiên, mọi người có thể thử thêm **dropout** vào nha, đặc biệt là với các trường hợp bị **overfitting**. Tuy nhiên, ở các lớp hồi quy - **RNN**, tụi mình sẽ có thêm một tham số mới là `recurrent_dropout` nha. 🌟  \n",
        "\n",
        "> **Ơ, vậy nó có gì khác với dropout thông thường thế?**  \n",
        "\n",
        "Tụi mình có thể hiểu đơn giản như này:  \n",
        "- Khi sử dụng **RNN**, dữ liệu đầu vào đi qua neuron sẽ xuất dữ liệu đầu ra tại bước thời gian đó, đồng thời giá trị đó cũng được truyền tiếp cho bước thời gian tiếp theo.  \n",
        "- Ý tưởng cơ bản của **dropout** là bỏ qua ngẫu nhiên một vài giá trị đầu vào hay tắt ngẫu nhiên một vài neuron đi.  \n",
        "- **Recurrent_dropout** thì ngẫu nhiên bỏ qua **một vài giá trị hồi quy** được truyền qua các bước thời gian.  \n",
        "\n",
        "Mọi người có thể coi biểu đồ dưới đây để hiểu rõ hơn nha. 📊"
      ],
      "metadata": {
        "id": "5v2LPD6DU1Gr"
      }
    },
    {
      "cell_type": "markdown",
      "source": [
        "![rnn](https://github.com/Tkag0001/AI_and_Machine_Learning_for_Coders/blob/main/images/Chapter_11/rnn.png?raw=true)"
      ],
      "metadata": {
        "id": "hzl-OcPwNOxE"
      }
    },
    {
      "cell_type": "markdown",
      "source": [
        "Mọi người có thể thấy dữ liệu đầu vào của các lớp tại các bước thời gian khác nhau ha. Các giá trị hồi quy hay giá trị tái phát truyền giữa các bước được gán nhãn là **r**.  \n",
        "\n",
        "- **Dropout**: Ngẫu nhiên bỏ qua các giá trị **x** (dữ liệu đầu vào tại các bước thời gian).  \n",
        "- **Recurrent_dropout**: Ngẫu nhiên bỏ qua các giá trị **r** (giá trị hồi quy truyền qua các bước thời gian).  \n",
        "\n",
        "Mọi người có thể tham khảo thêm tại bài báo **\"*A Theoretically Grounded Application of Dropout in Recurrent Neural Networks*”** của Yarin Gal và Zoubin Ghahramani. 📖  \n",
        "\n",
        "> **Gợi ý từ nghiên cứu của ông Gal**:  \n",
        "Tuy **Dropout** mang tính ngẫu nhiên, nhưng nghiên cứu này gợi ý rằng chúng ta nên áp dụng một mẫu số lượng dropout cố định tại tất cả các bước thời gian. Điều này cũng áp dụng tương tự với **recurrent_dropout**.  \n",
        "\n",
        "### Tiếp đến, tụi mình sẽ thử áp dụng vào code nha!  \n",
        "Mình sẽ sử dụng lại mô hình có **GRU** để so sánh. 🚀"
      ],
      "metadata": {
        "id": "ZsfBSmNWDBv7"
      }
    },
    {
      "cell_type": "code",
      "source": [
        "with strategy.scope():\n",
        "  model = Sequential([\n",
        "      GRU(100, input_shape=[None, 1], return_sequences=True,\n",
        "          dropout=0.1, recurrent_dropout=0.1),\n",
        "      GRU(100, dropout=0.1, recurrent_dropout=0.1),\n",
        "      Dense(1)\n",
        "  ])\n",
        "\n",
        "  optimizer = SGD(learning_rate=1.5e-6, momentum=0.9)\n",
        "  model.compile(loss=Huber(),optimizer=optimizer, metrics=['mae'])"
      ],
      "metadata": {
        "id": "8DAQKOmHC71b"
      },
      "execution_count": null,
      "outputs": []
    },
    {
      "cell_type": "code",
      "source": [
        "start_time = timer.time()\n",
        "history = model.fit(train_dataset, epochs=100, validation_data=val_dataset)\n",
        "end_time = timer.time()"
      ],
      "metadata": {
        "id": "OP0I1tjrFhlr"
      },
      "execution_count": null,
      "outputs": []
    },
    {
      "cell_type": "code",
      "source": [
        "print(f\"Thời gian huấn luyện: {timedelta(seconds=end_time - start_time)}\")"
      ],
      "metadata": {
        "id": "CylIvRpFF7XH"
      },
      "execution_count": null,
      "outputs": []
    },
    {
      "cell_type": "code",
      "source": [
        "# Vẽ quá trình huấn luyện\n",
        "train_loss = history.history['loss']\n",
        "val_loss = history.history['val_loss']\n",
        "\n",
        "plt.figure(figsize=(10, 6))\n",
        "plt.plot(train_loss, label='Training Loss')\n",
        "plt.plot(val_loss, label='Validation Loss')\n",
        "plt.xlabel('Epochs')\n",
        "plt.ylabel('Loss')\n",
        "plt.legend()\n",
        "plt.show()"
      ],
      "metadata": {
        "id": "WMmG1R8aGGxV"
      },
      "execution_count": null,
      "outputs": []
    },
    {
      "cell_type": "markdown",
      "source": [
        "Biểu đồ ở lần chạy của mình nha"
      ],
      "metadata": {
        "id": "vPo0cqMQ6j9k"
      }
    },
    {
      "cell_type": "markdown",
      "source": [
        "![dropout](https://github.com/Tkag0001/AI_and_Machine_Learning_for_Coders/blob/main/images/Chapter_11/dropout.png?raw=true)"
      ],
      "metadata": {
        "id": "bsW6K6hjNWd9"
      }
    },
    {
      "cell_type": "markdown",
      "source": [
        "Như mọi người thấy, **chỉ số loss** giảm nhanh nhưng dần về sau tình trạng nhiễu xuất hiện ngày càng nhiều. 🌡️  \n",
        "\n",
        "Điều này đến từ việc chúng ta sử dụng lớp **dropout**. Vì vậy, chúng ta cần phải:  \n",
        "1. Điều chỉnh lượng **dropout** sao cho hợp lý.  \n",
        "2. Cân nhắc điều chỉnh các tham số khác, chẳng hạn như **learning_rate**, để cải thiện sự ổn định và giảm nhiễu trong quá trình huấn luyện.  \n",
        "\n",
        "Việc tinh chỉnh tham số này sẽ giúp mô hình đạt hiệu quả tốt hơn mà không bị ảnh hưởng bởi hiện tượng nhiễu hoặc **overfitting**. 🎯"
      ],
      "metadata": {
        "id": "z2pEibulG988"
      }
    },
    {
      "cell_type": "code",
      "source": [
        "forecast = model_forecast(model, series[..., np.newaxis], window_size)\n",
        "result = forecast[split_time-window_size:-1, 0]\n",
        "\n",
        "# Vẽ biểu đồ\n",
        "plot_series(time_valid, x_val)\n",
        "plot_series(time_valid, result)\n",
        "plt.axis([90000, len(time), -4, 4]) #Mình zoom một khoảng cho dễ coi nha."
      ],
      "metadata": {
        "id": "kz35osZRGGxW"
      },
      "execution_count": null,
      "outputs": []
    },
    {
      "cell_type": "markdown",
      "source": [
        "Biểu đồ ở lần chạy của mình"
      ],
      "metadata": {
        "id": "Kc-sAx9F6pHv"
      }
    },
    {
      "cell_type": "markdown",
      "source": [
        "![prediction_dropout](https://github.com/Tkag0001/AI_and_Machine_Learning_for_Coders/blob/main/images/Chapter_11/prediction_dropout.png?raw=true)"
      ],
      "metadata": {
        "id": "JU5y80sANbt6"
      }
    },
    {
      "cell_type": "markdown",
      "source": [
        "Mọi người cũng có thể thấy trong chính chương này rằng việc dự đoán các chuỗi thời gian thường khá khó khăn và hầu như khó đạt độ chính xác hơn. 📉  \n",
        "\n",
        "Tuy nhiên, chúng ta vẫn có thể tiến hành cải tiến các **siêu tham số** để đưa ra được giá trị **gần nhất** với thực tế. 🌟  "
      ],
      "metadata": {
        "id": "ooX5H1fSHmQi"
      }
    },
    {
      "cell_type": "markdown",
      "source": [
        "# Using Bidirectional RNNs\n",
        "\n",
        "Tiếp đến tụi mình sẽ tiến hành thử nghiệm các lớp RNN theo hướng tính toán 2 chiều nha. Cái này mình train thì hết hơn 10 tiếng nên mọi người cân nhắc trước khi chạy nha.\n",
        "\n",
        "Lưu ý ở đây mình không sử dụng `strategy` vì sau khi thử nghiệm nhiều lần, mình thấy chúng có vẻ như xung đột với bidirectional khi kết hợp kích thước 2 bên tính toán của 2 TPU lại. Do đó mình đã thử loại bỏ đi và không gặp lỗi nữa."
      ],
      "metadata": {
        "id": "dewZvKAaH6vs"
      }
    },
    {
      "cell_type": "code",
      "source": [
        "model = Sequential([\n",
        "    Bidirectional(GRU(100, input_shape=[None, 1], return_sequences=True,\n",
        "                  dropout=0.1, recurrent_dropout=0.1)),\n",
        "    Bidirectional(GRU(100, return_sequences=True,\n",
        "                      dropout=0.1, recurrent_dropout=0.1)),\n",
        "    Dense(1)\n",
        "])\n",
        "\n",
        "optimizer = SGD(learning_rate=1.5e-6, momentum=0.9)\n",
        "model.compile(loss=Huber(),optimizer=optimizer, metrics=['mae'])"
      ],
      "metadata": {
        "id": "s3cIPIDgGaNg"
      },
      "execution_count": null,
      "outputs": []
    },
    {
      "cell_type": "code",
      "source": [
        "start_time = timer.time()\n",
        "history = model.fit(train_dataset, epochs=100, validation_data=val_dataset)\n",
        "end_time = timer.time()"
      ],
      "metadata": {
        "id": "fyGQaBLPK86K"
      },
      "execution_count": null,
      "outputs": []
    },
    {
      "cell_type": "code",
      "source": [
        "print(f\"Thời gian huấn luyện của mô hình: {timedelta(seconds=start_time - end_time)}\")"
      ],
      "metadata": {
        "id": "iwXie61uLF30"
      },
      "execution_count": null,
      "outputs": []
    },
    {
      "cell_type": "code",
      "source": [
        "# Vẽ quá trình huấn luyện\n",
        "train_loss = history.history['loss']\n",
        "val_loss = history.history['val_loss']\n",
        "\n",
        "plt.figure(figsize=(10, 6))\n",
        "plt.plot(train_loss, label='Training Loss')\n",
        "plt.plot(val_loss, label='Validation Loss')\n",
        "plt.xlabel('Epochs')\n",
        "plt.ylabel('Loss')\n",
        "plt.legend()\n",
        "plt.show()"
      ],
      "metadata": {
        "id": "_aQIy6kZLF31"
      },
      "execution_count": null,
      "outputs": []
    },
    {
      "cell_type": "markdown",
      "source": [
        "Biểu đồ ở lần chạy của mình"
      ],
      "metadata": {
        "id": "3f6KwZeE7n9a"
      }
    },
    {
      "cell_type": "markdown",
      "source": [
        "![bidirectional](https://github.com/Tkag0001/AI_and_Machine_Learning_for_Coders/blob/main/images/Chapter_11/bidirectional.png?raw=true)"
      ],
      "metadata": {
        "id": "yHulZylINmjw"
      }
    },
    {
      "cell_type": "code",
      "source": [
        "forecast = model_forecast(model, series[..., np.newaxis], window_size)\n",
        "result = forecast[split_time-window_size:-1, 0]\n",
        "\n",
        "# Vẽ biểu đồ\n",
        "plot_series(time_valid, x_val)\n",
        "plot_series(time_valid, result)\n",
        "plt.axis([90000, len(time), -4, 4]) #Mình zoom một khoảng cho dễ coi nha."
      ],
      "metadata": {
        "id": "Vt4mSqs3LF31"
      },
      "execution_count": null,
      "outputs": []
    },
    {
      "cell_type": "markdown",
      "source": [
        "Biểu đồ kết quả dự đoán"
      ],
      "metadata": {
        "id": "Vsv4sLae7toL"
      }
    },
    {
      "cell_type": "markdown",
      "source": [
        "![prediction_bidirection](https://github.com/Tkag0001/AI_and_Machine_Learning_for_Coders/blob/main/images/Chapter_11/prediction_bidirecitonal.png?raw=true)"
      ],
      "metadata": {
        "id": "4ZhWEKrANt0G"
      }
    },
    {
      "cell_type": "code",
      "source": [
        "print(f\"Đánh giá MAE: {mean_absolute_error(x_val, result)}\")"
      ],
      "metadata": {
        "id": "Jt0FhwWDLF31"
      },
      "execution_count": null,
      "outputs": []
    },
    {
      "cell_type": "markdown",
      "source": [
        "Kết quả:\n",
        "> Đánh giá MAE: 0.7249583964332844\n",
        "\n",
        "Mình thấy ở kiến trúc này, có vẻ kết quả không được khả quan lắm. Chắc chúng ta cần phải tinh chỉnh nhiều hơn nữa."
      ],
      "metadata": {
        "id": "zOYTkPDE7yG2"
      }
    },
    {
      "cell_type": "markdown",
      "source": [
        "# Summary  \n",
        "\n",
        "Hi, vậy là tụi mình đã kết thúc hết chương rồi. 🎉  \n",
        "Tổng kết lại những thứ mà tụi mình đã học được nha:  \n",
        "\n",
        "- Ứng dụng **Conv1D** và **RNN** vào việc dự đoán dữ liệu dạng chuỗi.  \n",
        "- Tìm hiểu về **hàm loss Huber**.  \n",
        "- Hiểu và áp dụng **Dropout** và **Recurrent Dropout**. 🌟  "
      ],
      "metadata": {
        "id": "nB7lY2tcLOb2"
      }
    }
  ],
  "metadata": {
    "accelerator": "GPU",
    "colab": {
      "gpuType": "T4",
      "provenance": [],
      "include_colab_link": true
    },
    "kernelspec": {
      "display_name": "Python 3",
      "name": "python3"
    },
    "language_info": {
      "name": "python"
    }
  },
  "nbformat": 4,
  "nbformat_minor": 0
}