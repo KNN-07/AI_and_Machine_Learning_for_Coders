{
  "nbformat": 4,
  "nbformat_minor": 0,
  "metadata": {
    "colab": {
      "provenance": [],
      "authorship_tag": "ABX9TyNEx0ldqgtDlCEH0KjylSJ6",
      "include_colab_link": true
    },
    "kernelspec": {
      "name": "python3",
      "display_name": "Python 3"
    },
    "language_info": {
      "name": "python"
    }
  },
  "cells": [
    {
      "cell_type": "markdown",
      "metadata": {
        "id": "view-in-github",
        "colab_type": "text"
      },
      "source": [
        "<a href=\"https://colab.research.google.com/github/Tkag0001/AI_and_Machine_Learning_for_Coders/blob/main/Chapter5_2_Introduction_to_Natural_Language_Processing.ipynb\" target=\"_parent\"><img src=\"https://colab.research.google.com/assets/colab-badge.svg\" alt=\"Open In Colab\"/></a>"
      ]
    },
    {
      "cell_type": "markdown",
      "source": [
        "# Introduction to Natural Language Processing 🌐🗣️  \n",
        "\n",
        "Tụi mình sẽ tìm hiểu về chủ đề **NLP** (xử lý ngôn ngữ tự nhiên) - một trong những nhánh thú vị của trí tuệ nhân tạo nha. 🤖✨  \n",
        "\n",
        "![Introduce image](https://bobcares.com/wp-content/uploads/2024/11/Natural-Language-Processing.png)\n"
      ],
      "metadata": {
        "id": "k4iLnnTYc7wz"
      }
    },
    {
      "cell_type": "markdown",
      "source": [
        "# Removing Stopwords and Cleaning Text (Loại bỏ từ dừng và làm sạch văn bản) 🧹📝  \n"
      ],
      "metadata": {
        "id": "z9MuumbBplz0"
      }
    },
    {
      "cell_type": "markdown",
      "source": [
        "Bắt đầu từ phần này, tụi mình sẽ tiếp cận nhiều hơn với các bộ dữ liệu thực tế nha. 📊  \n",
        "Điều này đồng nghĩa với việc dữ liệu sẽ chứa nhiều **nhiễu** hơn và cần phải trải qua các bước **tiền xử lý** cũng như **làm sạch**. 🧹✨  \n",
        "\n",
        "Các bước điển hình bao gồm:  \n",
        "- **Loại bỏ từ dừng** (stopwords). ❌📝  \n",
        "- **Loại bỏ các dấu câu, ký tự đặc biệt**. ✂️🔡  \n"
      ],
      "metadata": {
        "id": "-pVpESecuB2A"
      }
    },
    {
      "cell_type": "markdown",
      "source": [
        "> **Vậy từ dừng là những từ như thế nào?** 🤔  \n",
        "\n",
        "Hiểu đơn giản, từ dừng là những từ xuất hiện rất thường xuyên, nhưng lại không đóng góp nhiều ý nghĩa cho nội dung văn bản. 📝  \n",
        "Chúng có thể ảnh hưởng đến hiệu quả của mô hình nếu không được loại bỏ. 🚧  \n",
        "\n",
        "Dưới đây là hình ảnh một danh sách nhỏ về các từ dừng.\n",
        "\n",
        "*(Lưu ý: danh sách này có thể chưa đầy đủ tất cả các từ dừng.)* ⚠️  \n"
      ],
      "metadata": {
        "id": "ktCZHNhZt4bR"
      }
    },
    {
      "cell_type": "markdown",
      "source": [
        "![Stopwords](https://www.researchgate.net/profile/A_Zaidan/publication/228670007/figure/download/tbl2/AS:671525258657813@1537115506709/Sample-of-stop-words.png)"
      ],
      "metadata": {
        "id": "ajIZhsV7u713"
      }
    },
    {
      "cell_type": "markdown",
      "source": [
        "Tiếp đến, tụi mình sẽ đến với phần **làm sạch dữ liệu văn bản** đã thu thập được. 🧹  \n",
        "\n",
        "Dữ liệu thu thập được từ các web không phải lúc nào cũng hoàn hảo, đôi khi sẽ chứa các **thẻ HTML**, từ thô lỗ, dấu câu hoặc tên riêng. Vì vậy, chúng ta cần xử lý các phần này để đảm bảo dữ liệu chất lượng hơn. ✨  \n",
        "\n",
        " **Đầu tiên**: Loại bỏ các thẻ HTML (**HTML tags**). Mọi người có thể sử dụng thư viện **BeautifulSoup** để thực hiện dễ dàng hơn. 📜  \n",
        "\n",
        "Dưới đây là ví dụ về cách sử dụng: 💻\n"
      ],
      "metadata": {
        "id": "D-fshV2jv4JK"
      }
    },
    {
      "cell_type": "code",
      "source": [
        "# Import thư viện vào\n",
        "from bs4 import BeautifulSoup"
      ],
      "metadata": {
        "id": "sUj2hDpbw7Uu"
      },
      "execution_count": null,
      "outputs": []
    },
    {
      "cell_type": "code",
      "source": [
        "# Tạo câu mẫu có chứa thẻ HTML trong đó\n",
        "sentence = \"Captain Teemo <br> on duty!\" # <br> là thẻ trong HTML để xuống hàng\n",
        "# Cho câu mẫu qua BeautifulSoup để tạo đối tượng soup đã được xử lý\n",
        "soup = BeautifulSoup(sentence)\n",
        "# Tiến hành chỉ trích xuất mỗi dữ liệu văn bản, không bao gồm các thẻ HTML\n",
        "sentence = soup.get_text()\n",
        "print(\"Câu đã được loại bỏ thẻ HTML: \", sentence)"
      ],
      "metadata": {
        "colab": {
          "base_uri": "https://localhost:8080/"
        },
        "id": "wbV_S1BLwhnR",
        "outputId": "2e12eefa-5c2b-47f6-80d8-8b7bac080f9f"
      },
      "execution_count": null,
      "outputs": [
        {
          "output_type": "stream",
          "name": "stdout",
          "text": [
            "Câu đã được loại bỏ thẻ HTML:  Captain Teemo  on duty!\n"
          ]
        }
      ]
    },
    {
      "cell_type": "markdown",
      "source": [
        "Mọi người thấy đấy, thẻ **< br >** đã bị loại bỏ, hiện tại khoảng trắng giữa 2 từ **Teemo** và **on** là 2 ký tự khoảng cách (space).\n"
      ],
      "metadata": {
        "id": "0jAp__YlxvVD"
      }
    },
    {
      "cell_type": "markdown",
      "source": [
        "Bây giờ tụi mình sẽ tiến hành loại bỏ từ dừng cũng như các dấu câu nha. 🧹  \n",
        "\n",
        "Ở đây, cách đơn giản nhất là mọi người lặp qua các từ và kiểm tra xem từ đó có trong danh sách từ dừng không nha, nếu có thì tiến hành loại bỏ, còn không thì giữ lại. ❌✅  \n",
        "\n",
        "Về phần các dấu câu, chúng ta có thể sử dụng phương thức **translate** để tiến hành loại bỏ. Mọi người có thể dùng **string.punctuation** để lấy danh sách các ký tự đặc biệt và dấu câu nha. ✂️🔡  \n"
      ],
      "metadata": {
        "id": "N94nhgoDykKV"
      }
    },
    {
      "cell_type": "code",
      "source": [
        "import string\n",
        "# In ra danh sách các dấu câu và kí tự đặc biệt.\n",
        "print(string.punctuation)"
      ],
      "metadata": {
        "colab": {
          "base_uri": "https://localhost:8080/"
        },
        "id": "I9S7MzUZzh3M",
        "outputId": "a8503a68-2ff7-4a32-9b38-baaa88f957fb"
      },
      "execution_count": null,
      "outputs": [
        {
          "output_type": "stream",
          "name": "stdout",
          "text": [
            "!\"#$%&'()*+,-./:;<=>?@[\\]^_`{|}~\n"
          ]
        }
      ]
    },
    {
      "cell_type": "code",
      "source": [
        "# Tạo bảng mapping để loại bỏ kí tự đặc biệt\n",
        "table = str.maketrans('', '', string.punctuation) # Chuyển các kí tự đặc biệt thành kí tự rỗng"
      ],
      "metadata": {
        "id": "xswiLKLt0xmu"
      },
      "execution_count": null,
      "outputs": []
    },
    {
      "cell_type": "code",
      "source": [
        "# Lấy danh sách từ dừng, ở đây mình sử dụng thư viện nltk để lấy từ dừng trong tiếng Anh nha\n",
        "import nltk\n",
        "from nltk.corpus import stopwords\n",
        "nltk.download('stopwords')\n",
        "stopwords = set(stopwords.words('english'))\n",
        "print(\"Danh sách từ dừng: \", stopwords)"
      ],
      "metadata": {
        "colab": {
          "base_uri": "https://localhost:8080/"
        },
        "id": "5YgjPeKW0yE_",
        "outputId": "435fbfe7-b03b-43ce-9fcb-9dcd7fd32ccb"
      },
      "execution_count": null,
      "outputs": [
        {
          "output_type": "stream",
          "name": "stdout",
          "text": [
            "Danh sách từ dừng:  {'after', 'i', 'out', 'nor', 'most', 'just', 'no', 'aren', 'this', 'above', 're', 've', 'haven', 'weren', 'only', \"isn't\", \"it's\", 'than', \"mustn't\", 'now', \"don't\", 'his', 'where', 'should', 'herself', 'its', 'until', 'any', \"wouldn't\", 'll', \"doesn't\", \"mightn't\", 'shouldn', 'hadn', 'won', 'in', 'these', 'doing', 'my', 'don', 'during', 'needn', \"wasn't\", 'too', 'each', 'been', 'some', 'ain', 'then', 'doesn', 'who', 'when', \"didn't\", 'does', 'were', 'hasn', 'will', 'them', 'to', 'theirs', 'be', 'mustn', 'hers', 'for', 'all', 'off', \"should've\", 'd', 'shan', \"you'd\", 'are', 'having', 'do', 'from', 'can', 'at', 's', 'your', \"aren't\", 'up', 'him', 'she', 'whom', 'isn', 'into', \"you've\", \"needn't\", 'down', 'why', 'by', \"you're\", 'those', 'below', 'that', 'did', 'an', 'further', 'such', 'they', 'if', 'against', 'yourself', 'he', 'and', 'couldn', \"couldn't\", 'other', \"shouldn't\", 'ma', 'ours', 'have', 'more', 'is', 'has', 'own', 'himself', 'again', 'her', 'with', 'so', 'once', 't', 'themselves', 'you', 'not', 'here', 'wasn', 'me', 'between', 'our', 'their', 'm', 'y', 'same', 'because', 'myself', 'itself', \"shan't\", 'didn', 'being', 'of', 'had', 'on', 'as', 'how', 'yours', 'was', 'very', 'over', 'ourselves', 'there', \"that'll\", \"she's\", 'we', \"weren't\", 'mightn', 'but', \"you'll\", \"hadn't\", 'while', \"won't\", \"haven't\", \"hasn't\", 'am', 'before', 'under', 'o', 'through', 'or', 'both', 'few', 'it', 'wouldn', 'what', 'a', 'about', 'the', 'which', 'yourselves'}\n"
          ]
        },
        {
          "output_type": "stream",
          "name": "stderr",
          "text": [
            "[nltk_data] Downloading package stopwords to /root/nltk_data...\n",
            "[nltk_data]   Package stopwords is already up-to-date!\n"
          ]
        }
      ]
    },
    {
      "cell_type": "code",
      "source": [
        "# Chuyển danh sách từ dừng sang dạng list\n",
        "stopwords = list(stopwords)"
      ],
      "metadata": {
        "id": "Vk4rZ0Gi17lL"
      },
      "execution_count": null,
      "outputs": []
    },
    {
      "cell_type": "code",
      "source": [
        "# Chia thành danh sách các từ ra\n",
        "words = sentence.split()\n",
        "print(\"Danh sách các từ: \", words)\n",
        "# Chuỗi kết quả\n",
        "filtered_sentence = \"\"\n",
        "for word in words:\n",
        "  word = word.translate(table)    # Loại bỏ các kí tự đặc biệt\n",
        "  if word not in stopwords:       # Kiểm tra có thuộc từ dừng không để bỏ qua.\n",
        "    filtered_sentence = filtered_sentence + word + \" \"\n",
        "print(\"Câu đã được tiền xử lý: \", filtered_sentence)"
      ],
      "metadata": {
        "colab": {
          "base_uri": "https://localhost:8080/"
        },
        "id": "oOUmMheezwP5",
        "outputId": "6c6ba20e-f4c1-4b0f-88da-1c55cf305ba7"
      },
      "execution_count": null,
      "outputs": [
        {
          "output_type": "stream",
          "name": "stdout",
          "text": [
            "Danh sách các từ:  ['Captain', 'Teemo', 'on', 'duty!']\n",
            "Câu đã được tiền xử lý:  Captain Teemo duty \n"
          ]
        }
      ]
    },
    {
      "cell_type": "markdown",
      "source": [
        "Đó, vậy là xong rồi á. Từ **\"on\"** được xác định là từ dừng và đã bị loại bỏ đi. Đồng thời, dấu **\"!\"** cũng đã được lọc và loại bỏ. ✅  \n",
        "\n",
        "Câu gốc:\n",
        "\n",
        "\n",
        "```python\n",
        "\"Captain Teemo <br> on duty!\"\n",
        "```\n",
        "\n",
        "\n",
        "\n",
        "Câu đã tiến hành xử lý (loại bỏ từ dùng và làm sạch):\n",
        "\n",
        "\n",
        "```python\n",
        "\"Captain Teemo duty\"\n",
        "```\n",
        "\n"
      ],
      "metadata": {
        "id": "m2jLqyGO2VXl"
      }
    },
    {
      "cell_type": "markdown",
      "source": [
        "Tuy nhiên, vẫn có những trường hợp đặc biệt dẫn đến việc làm sạch chưa thực sự hiệu quả. ⚠️  \n",
        "\n",
        "**Ví dụ**:  \n",
        "\n",
        "Từ **you'll**, khi tiến hành loại bỏ ký tự đặc biệt, sẽ trở thành từ **youll**, dẫn đến việc kiểm tra từ dừng không phát hiện ra. ❌  \n",
        "Do đó, chúng ta cần phải cập nhật danh sách từ dừng để chứa cả trường hợp đặc biệt **youll** này. 📝  \n"
      ],
      "metadata": {
        "id": "hl15DGtB4ByC"
      }
    },
    {
      "cell_type": "markdown",
      "source": [
        "## Tổng kết phần loại bỏ từ dừng và làm sạch văn bản 🧹📝  \n",
        "\n",
        "- Loại bỏ các đối tượng **thẻ HTML** bằng đối tượng **BeautifulSoup**. 📜  \n",
        "- Loại bỏ các ký tự đặc biệt bằng **translate + string.punctuation**. ✂️  \n",
        "- Tải danh sách từ dừng bằng thư viện **nltk**. 📚  \n"
      ],
      "metadata": {
        "id": "PRi1b2AzS61U"
      }
    }
  ]
}