{
  "nbformat": 4,
  "nbformat_minor": 0,
  "metadata": {
    "colab": {
      "provenance": []
    },
    "kernelspec": {
      "name": "python3",
      "display_name": "Python 3"
    },
    "language_info": {
      "name": "python"
    }
  },
  "cells": [
    {
      "cell_type": "markdown",
      "source": [
        "#Chapter 15. An Introduction to Tensorflow.js"
      ],
      "metadata": {
        "id": "-4GOBXUPGvQv"
      }
    },
    {
      "cell_type": "markdown",
      "source": [
        "![cover](https://th.bing.com/th/id/R.5145e061df7c5d408dcb8b87fd6a2dc4?rik=MoajOO6TpdOmJg&pid=ImgRaw&r=0)"
      ],
      "metadata": {
        "id": "k7Vebi3dG1Gc"
      }
    },
    {
      "cell_type": "markdown",
      "source": [
        "Hi mọi người, mình trở lại rồi đây! 🎉  \n",
        "\n",
        "Hiện tại, mình vẫn chưa tìm được **máy Mac** 🍏 nên tạm thời **chương 14** sẽ **dừng vô thời hạn**. Mong mọi người thông cảm nha! 🙏  \n",
        "\n",
        "Đến với **chương 15**, tụi mình sẽ tìm hiểu về **TensorFlow.js** 🖥️—một tiện ích trong hệ sinh thái của **TensorFlow**. Qua đó, tụi mình có thể **triển khai, huấn luyện, chạy suy luận mô hình ngay trên trình duyệt** 🌐 hoặc phần backend dưới **Node.js** ⚡.  \n",
        "\n",
        "Dưới đây là hình ảnh tổng quan về **hệ sinh thái TensorFlow** nha! 🏗️"
      ],
      "metadata": {
        "id": "Jfz45q6RG5dW"
      }
    },
    {
      "cell_type": "markdown",
      "source": [
        "![img](https://github.com/Tkag0001/AI_and_Machine_Learning_for_Coders/blob/main/images/Chapter_15/1.png?raw=true)"
      ],
      "metadata": {
        "id": "pwvHMqdfuu90"
      }
    },
    {
      "cell_type": "markdown",
      "source": [
        "Bên **nhánh phải** chính là các tiện ích để **triển khai mô hình với TensorFlow**.  \n",
        "\n",
        "- Ở các chương trước, tụi mình đã tìm hiểu về **TensorFlow Lite** 📱 để triển khai trên **các thiết bị di động**.  \n",
        "- Lần này, tụi mình sẽ **triển khai trên trình duyệt** với **TensorFlow.js** 🌐.  \n",
        "- Còn **TensorFlow Serving** ⚙️ thì tụi mình sẽ tìm hiểu sau ở **chương 19** nha!  \n",
        "\n",
        "Dưới đây là **kiến trúc tổng quan** của **TensorFlow.js** 🏗️."
      ],
      "metadata": {
        "id": "f1OReEvcIP58"
      }
    },
    {
      "cell_type": "markdown",
      "source": [
        "![img](https://github.com/Tkag0001/AI_and_Machine_Learning_for_Coders/blob/main/images/Chapter_15/2.png?raw=true)"
      ],
      "metadata": {
        "id": "gE3Sp6zNuykM"
      }
    },
    {
      "cell_type": "markdown",
      "source": [
        "Ở đây, **Layers API** được xây dựng dựa trên nền tảng **Core API**, giúp cung cấp các chức năng của **TensorFlow** bên trong **JavaScript**.  \n",
        "\n",
        "Ngoài ra, **Core API** cũng hỗ trợ **tái sử dụng mô hình từ Python** 🐍 thông qua một công cụ chuyển đổi, giúp chuyển mô hình sang định dạng **JSON** 📄 dễ sử dụng hơn.  \n",
        "\n",
        "Về cách hoạt động:  \n",
        "- **Core API** có thể **chạy trực tiếp trên trình duyệt** 🌐 bằng cách **tận dụng GPU thông qua WebGL** 🎮.  \n",
        "- Nó cũng có thể khai thác **CPU, TPU, GPU** khi chạy trên **Node.js** ⚡."
      ],
      "metadata": {
        "id": "BEOtfNtUJnz5"
      }
    },
    {
      "cell_type": "markdown",
      "source": [
        "Mọi người đừng lo lắng quá với việc chưa tiếp xúc với **HTML**, **JavaScript** lần nào. Trong chương này, mình sẽ hướng dẫn đơn giản hết mức có thể để mọi người có thể thực hiện được. 😊🚀👍"
      ],
      "metadata": {
        "id": "5eYJu-IxKinH"
      }
    },
    {
      "cell_type": "markdown",
      "source": [
        "Về phần **IDE** mà chúng ta sử dụng, mình thấy tác giả sách gợi ý dùng **Bracket**, nhưng chắc mình sẽ đổi tý. Mình sẽ dùng **VSCode** 🖥️, vì mình cảm thấy nó thân thiện và quen dùng hơn.  \n",
        "\n",
        "Tất nhiên, mọi người cũng có thể chọn **IDE** khác cho phù hợp với bản thân nha! 😊🚀"
      ],
      "metadata": {
        "id": "Pyc4kmMwKyTJ"
      }
    },
    {
      "cell_type": "markdown",
      "source": [
        "# Chuẩn bị công cụ VSCode.\n",
        "\n",
        "Hướng dẫn này để các bạn cài đặt công cụ cơ bản trước khi đi vào code dự án nha."
      ],
      "metadata": {
        "id": "Xw-ij6nKLSUw"
      }
    },
    {
      "cell_type": "markdown",
      "source": [
        "Mọi người có thể tải VSCode ở đây. [Link](https://code.visualstudio.com/download)"
      ],
      "metadata": {
        "id": "kASgp8J1LffS"
      }
    },
    {
      "cell_type": "markdown",
      "source": [
        "![img](https://github.com/Tkag0001/AI_and_Machine_Learning_for_Coders/blob/main/images/Chapter_15/3.png?raw=true)"
      ],
      "metadata": {
        "id": "xBKBCT2Ku1af"
      }
    },
    {
      "cell_type": "markdown",
      "source": [
        "Sau khi tải xong và mở lên giao diện sẽ trông như thế này."
      ],
      "metadata": {
        "id": "eIlgGKUxMGKR"
      }
    },
    {
      "cell_type": "markdown",
      "source": [
        "![img](https://github.com/Tkag0001/AI_and_Machine_Learning_for_Coders/blob/main/images/Chapter_15/4.png?raw=true)"
      ],
      "metadata": {
        "id": "0s4eNaFEu4Ll"
      }
    },
    {
      "cell_type": "markdown",
      "source": [
        "Mọi người nhấn giúp mình **Open Folder**, chọn nơi muốn lưu dự án, sau đó ấn **Ctrl + Shift + N** để tạo folder và đặt tên dự án nha. Ở đây, mình đặt tên là **Chapter 15**.  \n",
        "\n",
        "Sau đó, mọi người nhấn chọn và ấn **Select Folder** là xong! 🎯🚀"
      ],
      "metadata": {
        "id": "X1KQrkjNM0xM"
      }
    },
    {
      "cell_type": "markdown",
      "source": [
        "![img](https://github.com/Tkag0001/AI_and_Machine_Learning_for_Coders/blob/main/images/Chapter_15/5.png?raw=true)"
      ],
      "metadata": {
        "id": "VcCATkrUu7Kd"
      }
    },
    {
      "cell_type": "markdown",
      "source": [
        "Sau khi tạo xong, giao diện sẽ hiện len như thế này.\n"
      ],
      "metadata": {
        "id": "yaH_tNWGNWm0"
      }
    },
    {
      "cell_type": "markdown",
      "source": [
        "![img](https://github.com/Tkag0001/AI_and_Machine_Learning_for_Coders/blob/main/images/Chapter_15/6.png?raw=true)"
      ],
      "metadata": {
        "id": "L0pmDXu7u98D"
      }
    },
    {
      "cell_type": "markdown",
      "source": [
        "Mọi người nhấn tiếp giúp mình vào mục **Extension** sau đó tìm kiếm **Live server** và tải về nha."
      ],
      "metadata": {
        "id": "NfX-TaE9NtbZ"
      }
    },
    {
      "cell_type": "markdown",
      "source": [
        "![img](https://github.com/Tkag0001/AI_and_Machine_Learning_for_Coders/blob/main/images/Chapter_15/7.png?raw=true)"
      ],
      "metadata": {
        "id": "yD05Rxc4vAS_"
      }
    },
    {
      "cell_type": "markdown",
      "source": [
        "![img](https://github.com/Tkag0001/AI_and_Machine_Learning_for_Coders/blob/main/images/Chapter_15/8.png?raw=true)"
      ],
      "metadata": {
        "id": "ItV8ALqkvDoz"
      }
    },
    {
      "cell_type": "markdown",
      "source": [
        "Mọi người có thể cài thêm **ESLint** để kiểm tra cú pháp **JavaScript** cho dễ nha."
      ],
      "metadata": {
        "id": "JOTVW2nxOQBR"
      }
    },
    {
      "cell_type": "markdown",
      "source": [
        "![img](https://github.com/Tkag0001/AI_and_Machine_Learning_for_Coders/blob/main/images/Chapter_15/9.png?raw=true)"
      ],
      "metadata": {
        "id": "BMTu84ThvF5t"
      }
    },
    {
      "cell_type": "markdown",
      "source": [
        "Vậy là bước chuẩn bị công cụ đã hoàn thành rồi á. Bây giờ tụi mình tiến hành thử tạo một chương trình nhỏ để dự đoán số nha."
      ],
      "metadata": {
        "id": "qfRtHMgUOsVd"
      }
    },
    {
      "cell_type": "markdown",
      "source": [
        "# Create your first page HTML 🌐"
      ],
      "metadata": {
        "id": "R_AAG8TDOze1"
      }
    },
    {
      "cell_type": "markdown",
      "source": [
        "Đầu tiên, mọi người **nhấp chuột phải** vào khoảng trắng trong thư mục, rồi chọn **New File** 📄.  \n",
        "\n",
        "Mình sẽ đặt tên file là **First_model.html** nhé! ✨"
      ],
      "metadata": {
        "id": "ZST3mPAzPDgH"
      }
    },
    {
      "cell_type": "markdown",
      "source": [
        "![img](https://github.com/Tkag0001/AI_and_Machine_Learning_for_Coders/blob/main/images/Chapter_15/10.png?raw=true)"
      ],
      "metadata": {
        "id": "VxZIA_NCvIUq"
      }
    },
    {
      "cell_type": "markdown",
      "source": [
        "Kết quả mọi người nhận được là như này."
      ],
      "metadata": {
        "id": "Hpzsk94uPaY9"
      }
    },
    {
      "cell_type": "markdown",
      "source": [
        "![img](https://github.com/Tkag0001/AI_and_Machine_Learning_for_Coders/blob/main/images/Chapter_15/11.png?raw=true)"
      ],
      "metadata": {
        "id": "CyU0uWVavMCb"
      }
    },
    {
      "cell_type": "markdown",
      "source": [
        "Sau đó mọi người gõ giúp mình dấu chấm thang \"!\" và nhấn **Tab** để ghi nhanh nội dung file HTML nha."
      ],
      "metadata": {
        "id": "-7aEc7vQP6yv"
      }
    },
    {
      "cell_type": "markdown",
      "source": [
        "![img](https://github.com/Tkag0001/AI_and_Machine_Learning_for_Coders/blob/main/images/Chapter_15/12.png?raw=true)"
      ],
      "metadata": {
        "id": "QVR9wfmdvOEh"
      }
    },
    {
      "cell_type": "markdown",
      "source": [
        "Ở đây mình ghi thử một thẻ tiêu đề h1 bên trong thẻ body để test nha.\n",
        "\n",
        "```html\n",
        "<h1>First model!!!</h1>\n",
        "```"
      ],
      "metadata": {
        "id": "-Ife8wsxQVX0"
      }
    },
    {
      "cell_type": "markdown",
      "source": [
        "![img](https://github.com/Tkag0001/AI_and_Machine_Learning_for_Coders/blob/main/images/Chapter_15/13.png?raw=true)"
      ],
      "metadata": {
        "id": "dxJDwKIMvRQN"
      }
    },
    {
      "cell_type": "markdown",
      "source": [
        "Sau đó mọi người nhấn **Go Live** ở góc dưới màn hình bên phải để khởi tạo trang web thử nha."
      ],
      "metadata": {
        "id": "OorknjZNQ1Mp"
      }
    },
    {
      "cell_type": "markdown",
      "source": [
        "![img](https://github.com/Tkag0001/AI_and_Machine_Learning_for_Coders/blob/main/images/Chapter_15/14.png?raw=true)"
      ],
      "metadata": {
        "id": "YgAvwM-WvTbt"
      }
    },
    {
      "cell_type": "markdown",
      "source": [
        "Mọi người đợi một tí sẽ tự động có một trang web hiện lên như này. Vậy là tụi mình đã có thể tạo ra một trang web rồi."
      ],
      "metadata": {
        "id": "LG61gUL5RDmc"
      }
    },
    {
      "cell_type": "markdown",
      "source": [
        "![img](https://github.com/Tkag0001/AI_and_Machine_Learning_for_Coders/blob/main/images/Chapter_15/15.png?raw=true)"
      ],
      "metadata": {
        "id": "_7ijxSmZvXZ9"
      }
    },
    {
      "cell_type": "markdown",
      "source": [
        "Bây giờ tụi mình sẽ tiến hành viết code để có thể chạy huấn luyện và dự đoán ngay trên web nha."
      ],
      "metadata": {
        "id": "rkJzim5uRWBp"
      }
    },
    {
      "cell_type": "markdown",
      "source": [
        "# Building your First TensorFlow.js Model 🚀"
      ],
      "metadata": {
        "id": "foIWhgAUTtJZ"
      }
    },
    {
      "cell_type": "markdown",
      "source": [
        "Đầu tiên để chạy được **TensorFlow.js** tụi mình cần thêm dòng lệnh sau vào code. Lưu ý là đặt dưới thẻ <**head**> và trên thẻ <**body**>\n",
        "\n",
        "\n",
        "```html\n",
        "<script src=\"https://cdn.jsdelivr.net/npm/@tensorflow/tfjs@latest\"></script>\n",
        "```\n",
        "\n"
      ],
      "metadata": {
        "id": "dupSivk8UBzs"
      }
    },
    {
      "cell_type": "markdown",
      "source": [
        "![img](https://github.com/Tkag0001/AI_and_Machine_Learning_for_Coders/blob/main/images/Chapter_15/16.png?raw=true)"
      ],
      "metadata": {
        "id": "DCVOoga7vZfU"
      }
    },
    {
      "cell_type": "markdown",
      "source": [
        "Thẻ `<script>` giúp tụi mình có thể **ghi code JavaScript trực tiếp** trong file **HTML** nha.  \n",
        "\n",
        "Tiếp đến, tụi mình sẽ thêm **code để khởi tạo mô hình**. Thật sự là nó rất đơn giản, giống với **chương 1** á. Chỉ khác là hiện tại tụi mình đang làm việc trên **JavaScript**, nên **cú pháp sẽ thay đổi một chút** nha.  \n",
        "\n",
        "Mọi người thêm giúp mình đoạn **script** sau vào **bên dưới đoạn code script lúc nãy** nha:  \n",
        "\n",
        "```html\n",
        "<!-- Init digit model -->\n",
        "<script lang=\"js\">\n",
        "    const model = tf.sequential();\n",
        "    model.add(tf.layers.dense({ units: 1, inputShape: [1] }));\n",
        "    model.compile({ loss: 'meanSquaredError', optimizer: 'sgd' });\n",
        "</script>\n",
        "```  \n",
        "\n",
        "Lưu lại và chuẩn bị cho bước tiếp theo nhé! 🚀"
      ],
      "metadata": {
        "id": "OvFF3ETwVWL9"
      }
    },
    {
      "cell_type": "markdown",
      "source": [
        "![img](https://github.com/Tkag0001/AI_and_Machine_Learning_for_Coders/blob/main/images/Chapter_15/17.png?raw=true)"
      ],
      "metadata": {
        "id": "Uktzsg1FvbZo"
      }
    },
    {
      "cell_type": "markdown",
      "source": [
        "Như mọi người thấy, **cú pháp** cũng na ná giống Python phải không? 😄  \n",
        "\n",
        "Ở đây, mình tạo ra mô hình với một lớp tuyến tính có **số unit là 1**, kích thước đầu vào cũng là 1. Phần **biên dịch mô hình** thì dùng hàm **loss là MSE**, thuật toán tối ưu là **SGD**.\n",
        "\n",
        "Tiếp đến, tụi mình sẽ **khởi tạo dữ liệu huấn luyện** cho mô hình. Đoạn code này vẫn được đặt trong **thẻ script tạo mô hình** lúc nãy.  \n",
        "\n",
        "```javascript\n",
        "  // Data for training\n",
        "  const xs = tf.tensor2d([-1.0, 0.0, 1.0, 2.0, 3.0, 4.0], [6, 1]);\n",
        "  const ys = tf.tensor2d([-3.0, -1.0, 2.0, 3.0, 5.0, 7.0], [6, 1]);\n",
        "```\n",
        "\n",
        "Mọi người lưu ý giúp mình phần này tí nha, ở đây bước **khởi tạo dữ liệu huấn luyện** với **xs, ys**, bên trong 2 mảng này sẽ có 2 mảng con, mảng con đầu tiên chính là **dữ liệu** mình dùng, mảng con thứ 2 chính là **kích thước của mảng [6, 1]**. Trong **JavaScript**, mọi người phải chỉ định thêm phần này để **TensorFlow** có thể hiểu nha. 🧠"
      ],
      "metadata": {
        "id": "9P-1hyXkWL-z"
      }
    },
    {
      "cell_type": "markdown",
      "source": [
        "![img](https://github.com/Tkag0001/AI_and_Machine_Learning_for_Coders/blob/main/images/Chapter_15/18.png?raw=true)"
      ],
      "metadata": {
        "id": "gjs9OnE1vddD"
      }
    },
    {
      "cell_type": "markdown",
      "source": [
        "Sau khi đã chuẩn bị xong **mô hình** cũng như **dữ liệu**, tụi mình sẽ tiến hành **tạo hàm huấn luyện** nha.  \n",
        "\n",
        "Bởi vì hoạt động huấn luyện này tốn một lượng **thời gian chạy ngầm**, nên mình sẽ định nghĩa nó là một **phương thức bất đồng bộ** (`async`).  \n",
        "\n",
        "Cho mọi người muốn tìm hiểu thêm về **đồng bộ** và **bất đồng bộ**, mọi người có thể coi video này nha: [Link](https://www.youtube.com/watch?v=jfQUw8QxaZc&ab_channel=Firelop) 🎥\n",
        "\n",
        "```javascript\n",
        "async function doTraining(model){\n",
        "  const history =\n",
        "    await model.fit(xs, ys,\n",
        "                    { epochs: 500,\n",
        "                      callbacks:{\n",
        "                        onEpochEnd: async(epoch, logs) => {\n",
        "                          console.log(\"Epoch:\"\n",
        "                                      + epoch\n",
        "                                      + \" Loss:\"\n",
        "                                      + logs.loss);\n",
        "                        }\n",
        "                      }\n",
        "                    });\n",
        "}\n",
        "```\n",
        "\n",
        "**Lưu ý**: Đoạn code này cần phải **đưa lên đầu** trong phần thực hiện **JavaScript** bên trong `<script>` để máy có thể hiểu tuần tự. Mọi người xem ảnh bên dưới để rõ hơn nha. 📸  \n",
        "\n",
        "### Về cách thức hoạt động:\n",
        "- Hàm này sẽ giúp tụi mình **huấn luyện mô hình** bằng dữ liệu đã định nghĩa trước đó với **500 epoch**.  \n",
        "- Ở đây mình có định nghĩa thêm phần **callbacks**, thực hiện ghi ra **log** thông tin huấn luyện mỗi khi chạy xong một epoch. 📊  \n",
        "\n",
        "Sau khi định nghĩa xong phần huấn luyện, tụi mình sẽ viết thêm đoạn code này để ngay khi vừa huấn luyện xong, mô hình sẽ **tiến hành dự đoán với đầu vào** `x = 10` và **xuất bản thông báo kết quả** ra nha.  \n",
        "\n",
        "```javascript\n",
        "doTraining(model).then(() => {\n",
        "  alert(model.predict(tf.tensor2d([10], [1, 1])));\n",
        "});\n",
        "```  \n",
        "\n",
        "Lưu lại và thử chạy để xem kết quả nhé! 🚀"
      ],
      "metadata": {
        "id": "h3dzFYK2YKad"
      }
    },
    {
      "cell_type": "markdown",
      "source": [
        "![img](https://github.com/Tkag0001/AI_and_Machine_Learning_for_Coders/blob/main/images/Chapter_15/19.png?raw=true)"
      ],
      "metadata": {
        "id": "ltvwJGfgvgIb"
      }
    },
    {
      "cell_type": "markdown",
      "source": [
        "Đây là toàn bộ đoạn code HTML của mình.\n",
        "\n",
        "\n",
        "```html\n",
        "<!DOCTYPE html>\n",
        "<html lang=\"en\">\n",
        "<head>\n",
        "    <meta charset=\"UTF-8\">\n",
        "    <meta name=\"viewport\" content=\"width=device-width, initial-scale=1.0\">\n",
        "    <title>Document</title>\n",
        "</head>\n",
        "<!-- Add tensorflow.js -->\n",
        "<script src=\"https://cdn.jsdelivr.net/npm/@tensorflow/tfjs@latest\"></script>\n",
        "<!-- Init digit model -->\n",
        "<script lang=\"js\">\n",
        "    // Function training model\n",
        "    async function doTraining(model){\n",
        "        const history =\n",
        "        await model.fit(xs, ys,\n",
        "                        { epochs: 500,\n",
        "                            callbacks:{\n",
        "                            onEpochEnd: async(epoch, logs) =>{\n",
        "                                console.log(\"Epoch:\"\n",
        "                                            + epoch\n",
        "                                            + \" Loss:\"\n",
        "                                            + logs.loss);\n",
        "                                }\n",
        "                            }\n",
        "\n",
        "                        });\n",
        "    }\n",
        "\n",
        "    const model = tf.sequential();\n",
        "    model.add(tf.layers.dense({units: 1, inputShape: [1]}));\n",
        "    model.compile({loss: 'meanSquaredError', optimizer: 'sgd'});\n",
        "    \n",
        "    // Data for training\n",
        "    const xs = tf.tensor2d([-1.0, 0.0, 1.0, 2.0, 3.0, 4.0], [6, 1]);\n",
        "    const ys = tf.tensor2d([-3.0, -1.0, 2.0, 3.0, 5.0, 7.0], [6, 1]);\n",
        "\n",
        "    // Train the model\n",
        "    doTraining(model).then(() => {\n",
        "        alert(model.predict(tf.tensor2d([10], [1,1])));\n",
        "    });\n",
        "\n",
        "</script>\n",
        "<body>\n",
        "    <h1>First model!</h1>\n",
        "</body>\n",
        "</html>\n",
        "```\n",
        "\n"
      ],
      "metadata": {
        "id": "X2rDHw_HbSEU"
      }
    },
    {
      "cell_type": "markdown",
      "source": [
        "Bây giờ, mọi người **lưu file** và nhấn **Live Server** lại giúp mình nha. Nếu đã nhấn trước đó rồi thì sẽ hiện lên biểu tượng \"Ø\" này, mọi người không cần ấn lại nữa, chỉ cần bật lại trang web đó lên thôi.  \n",
        "\n",
        "Có thể sẽ phải đợi một tí để mô hình huấn luyện xong và trả về kết quả nha. ⏳  \n",
        "\n",
        "Và đây là **kết quả**! Trang web sẽ hiển thị như này nha:  \n",
        "\n",
        "🚀 **Kết quả trên trang web**: Khi mô hình huấn luyện xong, kết quả dự đoán sẽ xuất hiện dưới dạng thông báo (alert) với giá trị dự đoán cho **x = 10**."
      ],
      "metadata": {
        "id": "8vqn9wDbbY9a"
      }
    },
    {
      "cell_type": "markdown",
      "source": [
        "![img](https://github.com/Tkag0001/AI_and_Machine_Learning_for_Coders/blob/main/images/Chapter_15/20.png?raw=true)"
      ],
      "metadata": {
        "id": "VftDeQz0vie3"
      }
    },
    {
      "cell_type": "markdown",
      "source": [
        "Mọi người có thể nhấn **F12**, chọn vào phần **Console** 🖥️ để coi kết quả từng **epoch** mà tụi mình đã định nghĩa xuất ra bằng hàm **Callback** lúc huấn luyện nha.  \n",
        "\n",
        "Ở đó, các thông tin như **Epoch** và **Loss** sẽ được hiển thị liên tục trong quá trình huấn luyện mô hình! 📊🚀"
      ],
      "metadata": {
        "id": "gVFPUd7ocnlM"
      }
    },
    {
      "cell_type": "markdown",
      "source": [
        "![img](https://github.com/Tkag0001/AI_and_Machine_Learning_for_Coders/blob/main/images/Chapter_15/21.png?raw=true)"
      ],
      "metadata": {
        "id": "r5pSEewgvlvC"
      }
    },
    {
      "cell_type": "markdown",
      "source": [
        "Bây giờ tụi mình sẽ **nâng cấp** đoạn code trong file **HTML** này lên một chút nha.  \n",
        "\n",
        "Thay vì chỉ cố định dự đoán một giá trị, mình sẽ **thêm phần** khi mô hình huấn luyện xong thì sẽ **thông báo \"Sẵn sàng\"**, sau đó **hiển thị khung để người dùng có thể nhập vào giá trị và dự đoán**.  \n",
        "\n",
        "### Thay đổi phần tác vụ thực hiện xuất thông báo và phần nhập dữ liệu sau khi xử lý hàm **doTraining**:\n",
        "\n",
        "```javascript\n",
        "// Huấn luyện mô hình và cập nhật giao diện khi hoàn thành\n",
        "doTraining(model).then(() => {\n",
        "  document.getElementById('status').innerText = 'Mô hình đã sẵn sàng';\n",
        "  // Hiển thị phần dự đoán\n",
        "  document.getElementById('prediction-section').style.display = 'block';\n",
        "});\n",
        "```\n",
        "\n",
        "### Tiếp đến là phần code xử lý khi nhấn nút **\"Dự đoán\"**:\n",
        "\n",
        "```javascript\n",
        "// Xử lý khi nhấn nút \"Dự đoán\"\n",
        "document.getElementById('predictButton').addEventListener('click', () => {\n",
        "  const inputValue = parseFloat(document.getElementById('inputNumber').value);\n",
        "  if (!isNaN(inputValue)) {\n",
        "    // Dự đoán giá trị dựa trên input\n",
        "    const output = model.predict(tf.tensor2d([inputValue], [1, 1]));\n",
        "    // Vì output là một tensor nên ta chuyển đổi về mảng để lấy giá trị\n",
        "    output.array().then(array => {\n",
        "      document.getElementById('result').innerText = 'Kết quả dự đoán: ' + array[0][0];\n",
        "    });\n",
        "  } else {\n",
        "    alert('Vui lòng nhập số hợp lệ');\n",
        "  }\n",
        "});\n",
        "```\n",
        "\n",
        "### Giao diện sẽ có dạng như sau:\n",
        "- **Thông báo \"Mô hình đã sẵn sàng\"** khi huấn luyện xong.\n",
        "- **Khung nhập liệu** để người dùng có thể nhập giá trị và **nhấn nút \"Dự đoán\"** để xem kết quả."
      ],
      "metadata": {
        "id": "7i_5CISWgifl"
      }
    },
    {
      "cell_type": "markdown",
      "source": [
        "Đây là đoạn code đầy đủ của file HTMl nha.\n",
        "\n",
        "\n",
        "```html\n",
        "<!DOCTYPE html>\n",
        "<html lang=\"en\">\n",
        "<head>\n",
        "  <meta charset=\"UTF-8\">\n",
        "  <meta name=\"viewport\" content=\"width=device-width, initial-scale=1.0\">\n",
        "  <title>Document</title>\n",
        "  <!-- Thêm tensorflow.js -->\n",
        "  <script src=\"https://cdn.jsdelivr.net/npm/@tensorflow/tfjs@latest\"></script>\n",
        "</head>\n",
        "<body>\n",
        "  <h1>First model!</h1>\n",
        "  <!-- Thông báo trạng thái mô hình -->\n",
        "  <div id=\"status\">Đang huấn luyện mô hình...</div>\n",
        "  \n",
        "  <!-- Phần giao diện cho dự đoán, ban đầu ẩn đi -->\n",
        "  <div id=\"prediction-section\" style=\"display: none; margin-top: 20px;\">\n",
        "    <input type=\"number\" id=\"inputNumber\" placeholder=\"Nhập số...\" />\n",
        "    <button id=\"predictButton\">Dự đoán</button>\n",
        "    <div id=\"result\" style=\"margin-top: 10px; font-weight: bold;\"></div>\n",
        "  </div>\n",
        "\n",
        "  <script>\n",
        "    // Hàm huấn luyện mô hình\n",
        "    async function doTraining(model) {\n",
        "      const history = await model.fit(xs, ys, {\n",
        "        epochs: 500,\n",
        "        callbacks: {\n",
        "          onEpochEnd: async (epoch, logs) => {\n",
        "            console.log(\"Epoch:\" + epoch + \" Loss:\" + logs.loss);\n",
        "          }\n",
        "        }\n",
        "      });\n",
        "    }\n",
        "\n",
        "    // Khởi tạo mô hình\n",
        "    const model = tf.sequential();\n",
        "    model.add(tf.layers.dense({ units: 1, inputShape: [1] }));\n",
        "    model.compile({ loss: 'meanSquaredError', optimizer: 'sgd' });\n",
        "\n",
        "    // Dữ liệu huấn luyện\n",
        "    const xs = tf.tensor2d([-1.0, 0.0, 1.0, 2.0, 3.0, 4.0], [6, 1]);\n",
        "    const ys = tf.tensor2d([-3.0, -1.0, 2.0, 3.0, 5.0, 7.0], [6, 1]);\n",
        "\n",
        "    // Huấn luyện mô hình và cập nhật giao diện khi hoàn thành\n",
        "    doTraining(model).then(() => {\n",
        "      document.getElementById('status').innerText = 'Mô hình đã sẵn sàng';\n",
        "      // Hiển thị phần dự đoán\n",
        "      document.getElementById('prediction-section').style.display = 'block';\n",
        "    });\n",
        "\n",
        "    // Xử lý khi nhấn nút \"Dự đoán\"\n",
        "    document.getElementById('predictButton').addEventListener('click', () => {\n",
        "      const inputValue = parseFloat(document.getElementById('inputNumber').value);\n",
        "      if (!isNaN(inputValue)) {\n",
        "        // Dự đoán giá trị dựa trên input\n",
        "        const output = model.predict(tf.tensor2d([inputValue], [1, 1]));\n",
        "        // Vì output là một tensor nên ta chuyển đổi về mảng để lấy giá trị\n",
        "        output.array().then(array => {\n",
        "          document.getElementById('result').innerText = 'Kết quả dự đoán: ' + array[0][0];\n",
        "        });\n",
        "      } else {\n",
        "        alert('Vui lòng nhập số hợp lệ');\n",
        "      }\n",
        "    });\n",
        "  </script>\n",
        "</body>\n",
        "</html>\n",
        "\n",
        "```\n",
        "\n"
      ],
      "metadata": {
        "id": "md5ZakDbhmsk"
      }
    },
    {
      "cell_type": "markdown",
      "source": [
        "Đây là kết quả nha mọi người."
      ],
      "metadata": {
        "id": "gB-J5UBiiBPo"
      }
    },
    {
      "cell_type": "markdown",
      "source": [
        "![img](https://github.com/Tkag0001/AI_and_Machine_Learning_for_Coders/blob/main/images/Chapter_15/22.png?raw=true)"
      ],
      "metadata": {
        "id": "aliLXVmwvoKb"
      }
    },
    {
      "cell_type": "markdown",
      "source": [
        "# Creating an Iris Classifier\n",
        "\n",
        "Hi, bây giờ tụi mình sẽ **nâng cao** hơn tí nha, tụi mình sẽ tiến hành **phân loại các loài hoa** với bộ dữ liệu [Iris Data](https://archive.ics.uci.edu/dataset/53/iris). Chắc là mọi người cũng đã từng nghe về nó ít nhất một lần rồi ha. 🌸\n",
        "\n",
        "Bộ dữ liệu sẽ gồm **150 mẫu** về các loài hoa với các thuộc tính liên quan đến **chiều dài**, **chiều rộng của lá** và **cánh hoa**. 🌿"
      ],
      "metadata": {
        "id": "_-vUhKtOkE2z"
      }
    },
    {
      "cell_type": "markdown",
      "source": [
        "![img](https://github.com/Tkag0001/AI_and_Machine_Learning_for_Coders/blob/main/images/Chapter_15/23.png?raw=true)"
      ],
      "metadata": {
        "id": "3GHbOkWRvq9V"
      }
    },
    {
      "cell_type": "markdown",
      "source": [
        "Mọi người có thể tải bộ dữ liệu ở [link](https://www.kaggle.com/datasets/uciml/iris) này nha, sau đó thì đặt vào **thư mục dự án** của tụi mình. File tải về sẽ có định dạng **\".csv\"** với cấu trúc như sau:\n",
        "\n",
        "```\n",
        "sepal_length,sepal_width,petal_length,petal_width,species\n",
        "5.1,3.5,1.4,0.2,setosa\n",
        "4.9,3,1.4,0.2,setosa\n",
        "4.7,3.2,1.3,0.2,setosa\n",
        "4.6,3.1,1.5,0.2,setosa\n",
        "5,3.6,1.4,0.2,setosa\n",
        "5.4,3.9,1.7,0.4,setosa\n",
        "4.6,3.4,1.4,0.3,setosa\n",
        "5,3.4,1.5,0.2,setosa\n",
        "```\n",
        "\n",
        "Mọi người lưu ý là **file CSV** này sẽ chứa các thông tin về **chiều dài và chiều rộng của lá, cánh hoa**, và **loài hoa** tương ứng."
      ],
      "metadata": {
        "id": "2On98rIllXH6"
      }
    },
    {
      "cell_type": "markdown",
      "source": [
        "![img](https://github.com/Tkag0001/AI_and_Machine_Learning_for_Coders/blob/main/images/Chapter_15/24.png?raw=true)"
      ],
      "metadata": {
        "id": "a2SNGnV0vtsU"
      }
    },
    {
      "cell_type": "markdown",
      "source": [
        "5 trường đầu tiên chính là **ID** và **thuộc tính của hoa**, còn trường cuối cùng **\"Species\"** là phần **loại hoa**. 🌸  \n",
        "\n",
        "Bây giờ tụi mình sẽ **code thử trang HTML** để **phân loại các loài hoa** này nha. Để làm được điều này, tụi mình sẽ cần sử dụng **TensorFlow.js** để huấn luyện mô hình phân loại, sau đó dùng giao diện web để người dùng có thể nhập thông tin và phân loại hoa.\n",
        "\n",
        "### Các bước thực hiện:\n",
        "\n",
        "1. **Tải bộ dữ liệu** Iris vào thư mục dự án và xử lý dữ liệu từ file **CSV**.\n",
        "2. **Huấn luyện mô hình** phân loại với TensorFlow.js.\n",
        "3. **Tạo giao diện HTML** để người dùng nhập thông tin và phân loại.\n",
        "\n",
        "Cùng bắt đầu thôi! 🚀"
      ],
      "metadata": {
        "id": "m8dyhfYpl0Sf"
      }
    },
    {
      "cell_type": "markdown",
      "source": [
        "![img](https://github.com/Tkag0001/AI_and_Machine_Learning_for_Coders/blob/main/images/Chapter_15/25.png?raw=true)"
      ],
      "metadata": {
        "id": "-FGIn3kqvxpn"
      }
    },
    {
      "cell_type": "markdown",
      "source": [
        "Đầu tiên mọi người **khởi tạo file HTML** như lúc nãy, trong thư mục đó luôn, không nhất thiết phải tạo thư mục khác đâu. Mình sẽ đặt tên file là **\"Second_model.html\"** nha.\n",
        "\n",
        "Để **load dữ liệu dạng CSV**, **TensorFlow.js** có cung cấp cho tụi mình một phương thức API để hỗ trợ nha. Đó là **tf.data.csv**. Bây giờ tụi mình sẽ **code JavaScript** để có thể load được bộ dữ liệu này.\n",
        "\n",
        "```javascript\n",
        "<script lang=\"js\">\n",
        "  async function run(){\n",
        "    const csvUrl = 'iris.csv';\n",
        "    const trainingData = tf.data.csv(csvUrl, {\n",
        "      columnConfigs: {\n",
        "        Species: {\n",
        "          isLabel: true\n",
        "        }\n",
        "      }\n",
        "    });\n",
        "  }\n",
        "</script>\n",
        "```\n",
        "\n",
        "Trong đoạn code trên:\n",
        "\n",
        "- **csvUrl** là đường dẫn đến file CSV của bộ dữ liệu Iris (ở đây là `iris.csv`).\n",
        "- **tf.data.csv** sẽ giúp ta tải và xử lý dữ liệu từ file CSV.\n",
        "- **columnConfigs** chỉ định cột **Species** là cột nhãn (label) của mô hình phân loại.\n",
        "\n",
        "Sau khi tải dữ liệu, tụi mình sẽ tiếp tục tiền xử lý và huấn luyện mô hình."
      ],
      "metadata": {
        "id": "LBU8SBSfmZcD"
      }
    },
    {
      "cell_type": "markdown",
      "source": [
        "![img](https://github.com/Tkag0001/AI_and_Machine_Learning_for_Coders/blob/main/images/Chapter_15/26.png?raw=true)"
      ],
      "metadata": {
        "id": "sBEXTr8Dv0nk"
      }
    },
    {
      "cell_type": "markdown",
      "source": [
        "Ở đây mình tiến hành chỉ định cột **\"species\"** làm nhãn dự đoán cho bộ dữ liệu nha.\n",
        "\n",
        "```javascript\n",
        "Species: {\n",
        "  isLabel: true\n",
        "}\n",
        "```\n",
        "\n",
        "Sau khi tụi mình đã chỉ định xong phần nào là nhãn của bộ dữ liệu thì tụi mình sẽ tiến hành **tiền xử lý** chúng nha.\n",
        "\n",
        "Sẽ có hai việc mà chúng ta cần làm là:\n",
        "\n",
        "1. **Chỉ lấy những cột đặc trưng**, loại bỏ đi cột **\"ID\"**.\n",
        "2. **Tiến hành xử lý nhãn**.\n",
        "\n",
        "Ở đây nhãn của chúng ta có dạng là một chuỗi văn bản, mô hình sẽ không thể hiểu được. Do đó chúng ta sẽ sử dụng phương pháp **[one hot encoding](https://www.geeksforgeeks.org/ml-one-hot-encoding/)** để tiền xử lý lại nhãn nha.\n",
        "\n",
        "Hiểu đơn giản phương pháp này sẽ chuyển chuỗi văn bản về dạng chuỗi số với các trường là tên phân loại, khi đến đúng trường đó thì sẽ được đánh số là **1**, ngược lại thì là **0**. Mọi người có thể coi định nghĩa cụ thể ở đây nha. [Link](https://www.geeksforgeeks.org/ml-one-hot-encoding/)\n",
        "\n",
        "Ví dụ:\n",
        "\n",
        "Thứ tự lần lượt của các nhãn là: **setosa**, **virginica**, **versicolor**\n",
        "\n",
        "Vậy thì khi gặp một bông hoa có nhãn là **virginica** thì nhãn sẽ được chuyển thành `[0, 1, 0]`, tương tự vậy **setosa** sẽ chuyển thành `[1, 0, 0]`, **versicolor** chuyển thành `[0, 0, 1]`.\n",
        "\n",
        "Dưới đây là đoạn code để có thể chuyển đổi, tiền xử lý nhãn.\n",
        "\n",
        "```javascript\n",
        "// Lấy danh sách cột và loại bỏ 'Id' & 'Species'\n",
        "const columnNames = await trainingData.columnNames();\n",
        "const featureColumns = columnNames.filter(col => col !== \"Id\" && col !== \"Species\");\n",
        "\n",
        "// Preprocess dữ liệu đầu vào\n",
        "const convertedData = trainingData.map(({xs, ys}) => {\n",
        "  // Chỉ lấy những cột đặc trưng cần thiết\n",
        "  const features = featureColumns.map(col => xs[col]);\n",
        "\n",
        "  // Mã hóa nhãn thành one-hot\n",
        "  const labels = [\n",
        "    ys.Species == \"Iris-setosa\" ? 1 : 0,\n",
        "    ys.Species == \"Iris-virginica\" ? 1 : 0,\n",
        "    ys.Species == \"Iris-versicolor\" ? 1 : 0\n",
        "  ];\n",
        "\n",
        "  return { xs: features, ys: labels };\n",
        "}).batch(10);\n",
        "```\n",
        "\n",
        "***Lưu ý: Vẫn phải đặt bên trong dấu ngoặc của hàm `run()`***\n",
        "\n",
        "Hàm này sẽ tiền xử lý lại nhãn và trả về **xs** là các thuộc tính của hoa, **ys** là nhãn đã được tiền xử lý. 🌺"
      ],
      "metadata": {
        "id": "29EDUolpnmWd"
      }
    },
    {
      "cell_type": "markdown",
      "source": [
        "![img](https://github.com/Tkag0001/AI_and_Machine_Learning_for_Coders/blob/main/images/Chapter_15/27.png?raw=true)"
      ],
      "metadata": {
        "id": "MrI9MjoVv4BT"
      }
    },
    {
      "cell_type": "markdown",
      "source": [
        "Sau khi đã hoàn tất phần tiền xử lý dữ liệu, bây giờ chúng ta sẽ tiến hành xây dựng mô hình và huấn luyện nó. Dưới đây là cách định nghĩa mô hình phân loại với **TensorFlow.js**.\n",
        "\n",
        "### Định nghĩa mô hình:\n",
        "\n",
        "```javascript\n",
        "// Kích thước đầu vào sẽ bằng số cột đặc trưng\n",
        "const numOfFeatures = featureColumns.length;\n",
        "const model = tf.sequential();\n",
        "\n",
        "// Thêm lớp đầu tiên với kích thước đầu vào tương ứng và số units là 5\n",
        "model.add(tf.layers.dense({\n",
        "  inputShape: [numOfFeatures],\n",
        "  activation: \"sigmoid\",\n",
        "  units: 5\n",
        "}));\n",
        "\n",
        "// Lớp cuối với softmax để phân loại 3 loại hoa\n",
        "model.add(tf.layers.dense({\n",
        "  activation: \"softmax\",\n",
        "  units: 3\n",
        "}));\n",
        "\n",
        "// Biên dịch mô hình với loss function \"categoricalCrossentropy\" cho phân loại đa nhãn và Adam optimizer\n",
        "model.compile({\n",
        "  loss: \"categoricalCrossentropy\",\n",
        "  optimizer: tf.train.adam(0.06)\n",
        "});\n",
        "```\n",
        "\n",
        "### Giải thích:\n",
        "1. **Số lượng features**: `numOfFeatures` là số lượng cột đặc trưng từ bộ dữ liệu (ở đây là 4 thuộc tính: chiều dài và chiều rộng của cánh hoa và lá).\n",
        "2. **Mô hình**:\n",
        "   - **Lớp đầu tiên**: Với **inputShape** là số đặc trưng (4), **units** là 5 và sử dụng hàm kích hoạt **sigmoid**.\n",
        "   - **Lớp thứ hai**: Lớp **softmax** với **units** = 3 tương ứng với 3 loại hoa (setosa, virginica, versicolor).\n",
        "3. **Biên dịch mô hình**:\n",
        "   - **Loss function**: **categoricalCrossentropy** thích hợp cho phân loại đa nhãn (3 nhãn).\n",
        "   - **Optimizer**: **Adam** với learning rate = 0.06.\n",
        "\n",
        "Sau khi mô hình đã được định nghĩa, chúng ta có thể huấn luyện nó với dữ liệu đã tiền xử lý và tiến hành dự đoán.\n"
      ],
      "metadata": {
        "id": "FMjfuBwurZC4"
      }
    },
    {
      "cell_type": "markdown",
      "source": [
        "![img](https://github.com/Tkag0001/AI_and_Machine_Learning_for_Coders/blob/main/images/Chapter_15/28.png?raw=true)"
      ],
      "metadata": {
        "id": "OodTeAhbv6uB"
      }
    },
    {
      "cell_type": "markdown",
      "source": [
        "Bây giờ sẽ là hàm huấn luyện mô hình. Bởi vì chúng ta load bộ dữ liệu với **tf.data** nên thay vì dùng **.fit** chúng ta sẽ sử dụng **.fitData** nha. Ở đây mình không đặt hàm ở dạng bất đồng bộ như lúc trước vì ở đầu hàm **run()** mình đã đặt luôn là bất đồng bộ rồi, phần này nằm bên trong hàm **run()** rồi nên mình đặt phương thức khác là **await**, tức là quá trình thực hiện lệnh sẽ tuần tự, hàm này phải chạy xong thì mới thực hiện các hàm tiếp theo bên dưới. 🚀🔧\n",
        "\n",
        "```javascript\n",
        "await model.fitDataset(convertedData,\n",
        "                        {epochs:100,\n",
        "                        callbacks:{\n",
        "                          onEpochEnd: async(epoch, logs) =>{\n",
        "                            console.log(\"Epoch: \" + epoch +\n",
        "                                        \" Loss: \" + logs.loss);\n",
        "                          }\n",
        "                        }});\n",
        "```"
      ],
      "metadata": {
        "id": "v2G3_-d5tENl"
      }
    },
    {
      "cell_type": "markdown",
      "source": [
        "![img](https://github.com/Tkag0001/AI_and_Machine_Learning_for_Coders/blob/main/images/Chapter_15/29.png?raw=true)"
      ],
      "metadata": {
        "id": "fTAvyCy3v9NQ"
      }
    },
    {
      "cell_type": "markdown",
      "source": [
        "Cuối cùng là phần dự đoán của mô hình. Mình sẽ định nghĩa test thử một mẫu dữ liệu để dự đoán nha. 🌟📊\n",
        "\n",
        "```javascript\n",
        "const testVal = tf.tensor2d([4.4, 2.9, 1.4, 0.2], [1, 4]);\n",
        "const prediction = model.predict(testVal);\n",
        "```\n",
        "Bởi vì mô hình của chúng ta là dạng phân loại đa nhãn với 3 units ở lớp cuối cùng, thế nên kết quả dự đoán ra sẽ có dạng như sau: `[[0.9968228, 0.00000029, 0.0031742],]` 💡\n",
        "\n",
        "Do đó tụi mình sẽ dùng thêm một hàm nữa để chuyển đổi lại sang dạng index của nhãn nha. Sau đó sử dụng chính index đó để chuyển thành tên loài hoa. 🌸🌼\n",
        "\n",
        "```javascript\n",
        "const pIndex = tf.argMax(prediction, axis=1).dataSync();\n",
        "const classNames = [\"Setosa\", \"Virginica\", \"Versicolor\"];\n",
        "alert(classNames[pIndex])\n",
        "```"
      ],
      "metadata": {
        "id": "ciq9MAxetyD4"
      }
    },
    {
      "cell_type": "markdown",
      "source": [
        "![img](https://github.com/Tkag0001/AI_and_Machine_Learning_for_Coders/blob/main/images/Chapter_15/30.png?raw=true)"
      ],
      "metadata": {
        "id": "U10cLYYzv_rd"
      }
    },
    {
      "cell_type": "markdown",
      "source": [
        "Cuối cùng là ta gọi lệnh **run()** để chạy nha."
      ],
      "metadata": {
        "id": "yx7my5085GHd"
      }
    },
    {
      "cell_type": "markdown",
      "source": [
        "![img](https://github.com/Tkag0001/AI_and_Machine_Learning_for_Coders/blob/main/images/Chapter_15/31.png?raw=true)"
      ],
      "metadata": {
        "id": "VqxA93QDwRiX"
      }
    },
    {
      "cell_type": "markdown",
      "source": [
        "Uki, vậy là xong rồi á, nếu mọi người đã ấn **Live Server** trước đó rồi thì bây giờ mọi người chỉ cần ấn mở lại trang web lúc trước và thay đổi đường dẫn thành file mới này là được nha. 💻🌐🎉"
      ],
      "metadata": {
        "id": "GU8tuDYNz6KG"
      }
    },
    {
      "cell_type": "markdown",
      "source": [
        "Đây là kết quả khi chạy thành công nha."
      ],
      "metadata": {
        "id": "SULpZUhXw8j4"
      }
    },
    {
      "cell_type": "markdown",
      "source": [
        "![img](https://github.com/Tkag0001/AI_and_Machine_Learning_for_Coders/blob/main/images/Chapter_15/32.png?raw=true)"
      ],
      "metadata": {
        "id": "F-0MLovVwT77"
      }
    },
    {
      "cell_type": "markdown",
      "source": [
        "Đây là toàn bộ code của file HTML:\n",
        "\n",
        "\n",
        "```html\n",
        "<!DOCTYPE html>\n",
        "<html lang=\"en\">\n",
        "<head>\n",
        "  <meta charset=\"UTF-8\">\n",
        "  <meta name=\"viewport\" content=\"width=device-width, initial-scale=1.0\">\n",
        "  <title>Document</title>\n",
        "  <!-- Thêm tensorflow.js -->\n",
        "  <script src=\"https://cdn.jsdelivr.net/npm/@tensorflow/tfjs@latest\"></script>\n",
        "  <script lang=\"js\">\n",
        "    async function run(){\n",
        "      const csvUrl = 'Iris.csv';\n",
        "      const trainingData = tf.data.csv(csvUrl, {\n",
        "        columnConfigs: {\n",
        "          Species: {\n",
        "            isLabel: true\n",
        "          }\n",
        "        }\n",
        "      });\n",
        "    \n",
        "    // Lấy danh sách cột và loại bỏ 'Id' & 'Species'\n",
        "    const columnNames = await trainingData.columnNames();\n",
        "    const featureColumns = columnNames.filter(col => col !== \"Id\" && col !== \"Species\");\n",
        "\n",
        "    // Preprocess dữ liệu đầu vào\n",
        "    const convertedData = trainingData.map(({xs, ys}) => {\n",
        "      // Chỉ lấy những cột đặc trưng cần thiết\n",
        "      const features = featureColumns.map(col => xs[col]);\n",
        "\n",
        "      // Mã hóa nhãn thành one-hot\n",
        "      const labels = [\n",
        "        ys.Species == \"Iris-setosa\" ? 1 : 0,\n",
        "        ys.Species == \"Iris-virginica\" ? 1 : 0,\n",
        "        ys.Species == \"Iris-versicolor\" ? 1 : 0\n",
        "      ];\n",
        "\n",
        "      return { xs: features, ys: labels };\n",
        "    }).batch(10);\n",
        "\n",
        "    // Define model\n",
        "    const numOfFeatures = featureColumns.length;\n",
        "    const model = tf.sequential();\n",
        "    model.add(tf.layers.dense({inputShape: [numOfFeatures],\n",
        "                              activation: \"sigmoid\", units: 5}))\n",
        "    model.add(tf.layers.dense({activation: \"softmax\", units: 3}));\n",
        "    model.compile({loss: \"categoricalCrossentropy\",\n",
        "                  optimizer: tf.train.adam(0.06)});\n",
        "\n",
        "    // Train model\n",
        "    await model.fitDataset(convertedData,\n",
        "                        {epochs:100,\n",
        "                        callbacks:{\n",
        "                          onEpochEnd: async(epoch, logs) =>{\n",
        "                            console.log(\"Epoch: \" + epoch +\n",
        "                                        \" Loss: \" + logs.loss);\n",
        "                          }\n",
        "                        }});\n",
        "\n",
        "    // Predict\n",
        "    const testVal = tf.tensor2d([4.4, 2.9, 1.4, 0.2], [1, 4]);\n",
        "    const prediction = model.predict(testVal);\n",
        "    const pIndex = tf.argMax(prediction, axis=1).dataSync();\n",
        "\n",
        "    const classNames = [\"Setosa\", \"Virginica\", \"Versicolor\"];\n",
        "    alert(classNames[pIndex]);\n",
        "    }\n",
        "\n",
        "    run();  \n",
        "  </script>\n",
        "</head>\n",
        "<body>\n",
        "  <h1>Second model!</h1>\n",
        "\n",
        "</body>\n",
        "</html>\n",
        "\n",
        "```\n",
        "\n"
      ],
      "metadata": {
        "id": "llaUYVNNxtTN"
      }
    },
    {
      "cell_type": "markdown",
      "source": [
        "Bây giờ tụi mình sẽ cải tiến thêm tí để thêm phần nhập dữ liệu cho người dùng cũng như hiện tỷ lệ nha."
      ],
      "metadata": {
        "id": "Jf2KDN7lx0F_"
      }
    },
    {
      "cell_type": "markdown",
      "source": [
        "![img](https://github.com/Tkag0001/AI_and_Machine_Learning_for_Coders/blob/main/images/Chapter_15/33.png?raw=true)"
      ],
      "metadata": {
        "id": "wIuzcdNqwZIV"
      }
    },
    {
      "cell_type": "markdown",
      "source": [
        "Đây là đoạn code đầy đủ sau khi cải tiến:\n",
        "\n",
        "\n",
        "```html\n",
        "<!DOCTYPE html>\n",
        "<html lang=\"en\">\n",
        "<head>\n",
        "  <meta charset=\"UTF-8\">\n",
        "  <meta name=\"viewport\" content=\"width=device-width, initial-scale=1.0\">\n",
        "  <title>Second Model</title>\n",
        "  <!-- Thêm tensorflow.js -->\n",
        "  <script src=\"https://cdn.jsdelivr.net/npm/@tensorflow/tfjs@latest\"></script>\n",
        "  <script lang=\"js\">\n",
        "    async function run(){\n",
        "      const csvUrl = 'Iris.csv';\n",
        "      const trainingData = tf.data.csv(csvUrl, {\n",
        "        columnConfigs: {\n",
        "          Species: { isLabel: true }\n",
        "        }\n",
        "      });\n",
        "    \n",
        "      // Lấy danh sách cột và loại bỏ 'Id' & 'Species'\n",
        "      const columnNames = await trainingData.columnNames();\n",
        "      const featureColumns = columnNames.filter(col => col !== \"Id\" && col !== \"Species\");\n",
        "      \n",
        "      // Preprocess dữ liệu đầu vào\n",
        "      const convertedData = trainingData.map(({xs, ys}) => {\n",
        "        // Lấy các cột đặc trưng cần thiết\n",
        "        const features = featureColumns.map(col => xs[col]);\n",
        "        // Mã hóa nhãn thành one-hot\n",
        "        const labels = [\n",
        "          ys.Species == \"Iris-setosa\" ? 1 : 0,\n",
        "          ys.Species == \"Iris-virginica\" ? 1 : 0,\n",
        "          ys.Species == \"Iris-versicolor\" ? 1 : 0\n",
        "        ];\n",
        "        return { xs: features, ys: labels };\n",
        "      }).batch(10);\n",
        "      \n",
        "      // Số đặc trưng thực sự dựa trên các cột đã chọn\n",
        "      const numOfFeatures = featureColumns.length;\n",
        "      console.log(\"Số lượng đặc trưng:\", numOfFeatures);\n",
        "    \n",
        "      // Định nghĩa mô hình\n",
        "      const model = tf.sequential();\n",
        "      model.add(tf.layers.dense({inputShape: [numOfFeatures],\n",
        "                                 activation: \"sigmoid\", units: 5}));\n",
        "      model.add(tf.layers.dense({activation: \"softmax\", units: 3}));\n",
        "      model.compile({loss: \"categoricalCrossentropy\",\n",
        "                     optimizer: tf.train.adam(0.06)});\n",
        "    \n",
        "      // Huấn luyện mô hình\n",
        "      await model.fitDataset(convertedData, {\n",
        "        epochs: 100,\n",
        "        callbacks: {\n",
        "          onEpochEnd: async (epoch, logs) => {\n",
        "            console.log(\"Epoch: \" + epoch + \" Loss: \" + logs.loss);\n",
        "          }\n",
        "        }\n",
        "      });\n",
        "    \n",
        "      // Sau khi huấn luyện xong, cập nhật giao diện\n",
        "      document.getElementById(\"status\").innerText = \"Mô hình đã sẵn sàng!\";\n",
        "      document.getElementById(\"prediction-section\").style.display = \"block\";\n",
        "    \n",
        "      // Xử lý nút dự đoán\n",
        "      document.getElementById(\"predict-button\").addEventListener(\"click\", () => {\n",
        "        // Lấy giá trị nhập từ người dùng\n",
        "        const inputValues = [];\n",
        "        for (let i = 0; i < numOfFeatures; i++){\n",
        "          const value = parseFloat(document.getElementById(\"feature-\" + i).value);\n",
        "          if(isNaN(value)) {\n",
        "            alert(\"Vui lòng nhập giá trị hợp lệ cho tất cả các đặc trưng!\");\n",
        "            return;\n",
        "          }\n",
        "          inputValues.push(value);\n",
        "        }\n",
        "    \n",
        "        // Tạo tensor đầu vào và dự đoán\n",
        "        const testVal = tf.tensor2d([inputValues], [1, numOfFeatures]);\n",
        "        const prediction = model.predict(testVal);\n",
        "        \n",
        "        // Lấy chỉ số của lớp có xác suất cao nhất\n",
        "        const pIndex = prediction.argMax(1).dataSync()[0];\n",
        "        // Lấy giá trị xác suất cho từng lớp\n",
        "        const probs = prediction.dataSync();\n",
        "    \n",
        "        const classNames = [\"Setosa\", \"Virginica\", \"Versicolor\"];\n",
        "        let resultText = \"Dự đoán: \" + classNames[pIndex] + \"\\nTỷ lệ:\\n\";\n",
        "        for (let i = 0; i < classNames.length; i++) {\n",
        "          resultText += classNames[i] + \": \" + (probs[i] * 100).toFixed(2) + \"%\\n\";\n",
        "        }\n",
        "    \n",
        "        // Hiển thị kết quả dự đoán và tỷ lệ phần trăm\n",
        "        document.getElementById(\"result\").innerText = resultText;\n",
        "      });\n",
        "    }\n",
        "    \n",
        "    // Gọi hàm run khi trang load xong\n",
        "    window.onload = run;\n",
        "  </script>\n",
        "</head>\n",
        "<body>\n",
        "  <h1>Second model!</h1>\n",
        "  <!-- Thông báo trạng thái huấn luyện -->\n",
        "  <div id=\"status\">Đang huấn luyện mô hình...</div>\n",
        "  \n",
        "  <!-- Phần nhập dữ liệu và dự đoán (ban đầu ẩn) -->\n",
        "  <div id=\"prediction-section\" style=\"display: none; margin-top: 20px;\">\n",
        "    <h2>Nhập các giá trị đặc trưng:</h2>\n",
        "    <!-- Giả sử file Iris.csv (loại bỏ 'Id' và 'Species') có 4 đặc trưng -->\n",
        "    <div id=\"inputs\">\n",
        "      <label for=\"feature-0\">Feature 1:</label>\n",
        "      <input type=\"number\" id=\"feature-0\" placeholder=\"Nhập giá trị\"><br>\n",
        "      <label for=\"feature-1\">Feature 2:</label>\n",
        "      <input type=\"number\" id=\"feature-1\" placeholder=\"Nhập giá trị\"><br>\n",
        "      <label for=\"feature-2\">Feature 3:</label>\n",
        "      <input type=\"number\" id=\"feature-2\" placeholder=\"Nhập giá trị\"><br>\n",
        "      <label for=\"feature-3\">Feature 4:</label>\n",
        "      <input type=\"number\" id=\"feature-3\" placeholder=\"Nhập giá trị\"><br>\n",
        "    </div>\n",
        "    <button id=\"predict-button\">Dự đoán</button>\n",
        "    <div id=\"result\" style=\"margin-top: 10px; font-weight: bold;\"></div>\n",
        "  </div>\n",
        "</body>\n",
        "</html>\n",
        "\n",
        "```\n",
        "\n"
      ],
      "metadata": {
        "id": "3LYzI8NI1rMZ"
      }
    },
    {
      "cell_type": "markdown",
      "source": [
        "# Tổng kết:\n",
        "\n",
        "Hi mọi người, vậy là đã kết thúc chương 15 rồi, cảm ơn mọi người đã đón xem nha. 🙏📚\n",
        "\n",
        "Trải qua chương 15, tụi mình đã biết được **TensorFlow.js** là gì cũng như cách sử dụng nó để lập trình mô hình trên trình duyệt web. 🌐🤖  \n",
        "Tụi mình đã tạo ra 2 chương trình ứng dụng phổ biến là:\n",
        "- Dự đoán số, giá trị dựa trên x. 🔢\n",
        "- Phân loại các loài hoa dựa trên bộ dữ liệu Iris. 🌸\n",
        "\n",
        "Hẹn gặp mọi người ở chương 16 tiếp theo nha. 👋✨"
      ],
      "metadata": {
        "id": "HSB3jlQk5TE6"
      }
    },
    {
      "cell_type": "markdown",
      "source": [
        "Cảm ơn mọi người đã quan tâm và theo dõi nha! 💖 Nếu thấy hay, có thể cho mình xin **1 sao** ⭐ trên repository nha.  \n",
        "\n",
        "### Thông tin liên lạc 📩  \n",
        "- **Email**: trinhhuynhthinhkhang.work@gmail.com  \n",
        "- **Page Facebook**: Nhật ký học tập của Khang  \n",
        "\n",
        "Mọi người có thể ủng hộ mình **ly cà phê** ☕ thông qua QR sau nha. Mình sẽ vui cả ngày luôn ý! 😆  \n",
        "\n",
        "<img src=\"https://github.com/Tkag0001/Tkag0001/blob/main/imgs/uzc4uwus.png?raw=true\" width=\"150px\">"
      ],
      "metadata": {
        "id": "vlJHnrKbEK3R"
      }
    }
  ]
}