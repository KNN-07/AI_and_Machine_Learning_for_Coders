{
  "metadata": {
    "kernelspec": {
      "name": "python3",
      "display_name": "Python 3",
      "language": "python"
    },
    "language_info": {
      "name": "python",
      "version": "3.10.12",
      "mimetype": "text/x-python",
      "codemirror_mode": {
        "name": "ipython",
        "version": 3
      },
      "pygments_lexer": "ipython3",
      "nbconvert_exporter": "python",
      "file_extension": ".py"
    },
    "colab": {
      "provenance": [],
      "gpuType": "T4",
      "include_colab_link": true
    },
    "kaggle": {
      "accelerator": "nvidiaTeslaT4",
      "dataSources": [
        {
          "sourceType": "datasetVersion",
          "sourceId": 10305862,
          "datasetId": 6378565,
          "databundleVersionId": 10609746
        },
        {
          "sourceType": "datasetVersion",
          "sourceId": 10318651,
          "datasetId": 6382919,
          "databundleVersionId": 10624181
        },
        {
          "sourceType": "datasetVersion",
          "sourceId": 4222990,
          "datasetId": 2489101,
          "databundleVersionId": 4280135
        },
        {
          "sourceType": "datasetVersion",
          "sourceId": 276428,
          "datasetId": 115588,
          "databundleVersionId": 288752
        }
      ],
      "dockerImageVersionId": 30823,
      "isInternetEnabled": true,
      "language": "python",
      "sourceType": "notebook",
      "isGpuEnabled": true
    },
    "accelerator": "GPU"
  },
  "nbformat_minor": 0,
  "nbformat": 4,
  "cells": [
    {
      "cell_type": "markdown",
      "metadata": {
        "id": "view-in-github",
        "colab_type": "text"
      },
      "source": [
        "<a href=\"https://colab.research.google.com/github/Tkag0001/AI_and_Machine_Learning_for_Coders/blob/main/Chapter_8_Using_Tensorflow_to_Create_Text.ipynb\" target=\"_parent\"><img src=\"https://colab.research.google.com/assets/colab-badge.svg\" alt=\"Open In Colab\"/></a>"
      ]
    },
    {
      "cell_type": "markdown",
      "source": [
        "# Chapter 8: Using Tensorflow to Create Text  \n",
        "### Hi, chào mọi người, tụi mình lại gặp nhau rồi 🌻.  \n",
        "### Trong chương này tụi mình sẽ tìm hiểu về cách sử dụng các mô hình để tạo ra văn bản. Nói nôm na là giống như cách mà các chatbot hiện tại tạo ra câu trả lời cho mọi người á. Nhưng cái này ở cấp độ sơ khai hơn. 😊  "
      ],
      "metadata": {
        "id": "yooo41ZlEgpM"
      }
    },
    {
      "cell_type": "markdown",
      "source": [
        "![predictext](https://cgupta.tech/images/rnn_representative.png)"
      ],
      "metadata": {
        "id": "jrzNuwTVGAiL"
      }
    },
    {
      "cell_type": "markdown",
      "source": [
        "Như mọi người thấy ở bức hình trên, đây là cơ chế chính của tính năng tạo văn bản trong chương này.  \n",
        "\n",
        "Trước khi đi vào phân tích nó thì chúng ta cùng ôn lại các chương trước tí nhá. 😊  \n",
        "\n",
        "---\n",
        "\n",
        "- Ở **chương 5**, mọi người tìm hiểu về cơ chế **Tokenize** để tách văn bản, tạo từ điển, mã hóa ở cấp từ hay ký tự rồi thêm bộ đệm hay padding vào.  \n",
        "\n",
        "- Sang đến **chương 6**, chúng ta tìm hiểu về cơ chế **Embedding - Vector biểu diễn** trên các chiều không gian cao hơn.  \n",
        "\n",
        "- Và gần đây nhất là **chương 7**, tìm hiểu về mạng hồi quy **RNN** và lớp **LSTM** qua đó cải thiện khả năng hiểu ngữ nghĩa theo trình tự của chuỗi.  \n",
        "\n",
        "Bây giờ đến với **chương 8**, tụi mình sẽ tìm hiểu về cơ chế **tạo/sinh văn bản** của các mô hình. Thật ra nó không khó như mọi người nghĩ mà rất là đơn giản. Chúng đều dựa trên những cơ chế trước giờ chúng ta học, tuy nhiên khác ở khâu xử lý và biến đổi dữ liệu tí.  \n",
        "\n",
        "Vậy sự khác nhau này là gì, tụi mình sẽ cùng tìm hiểu nhá. 🌟  "
      ],
      "metadata": {
        "id": "0OpPX-_LILXF"
      }
    },
    {
      "cell_type": "markdown",
      "source": [
        "![process_text](https://i.imgur.com/7kOLuRM.png)"
      ],
      "metadata": {
        "id": "OYXNgZabNqiA"
      }
    },
    {
      "cell_type": "markdown",
      "source": [
        "![padding_text](https://i.imgur.com/QOcbcqC.png)"
      ],
      "metadata": {
        "id": "BGLvJdjeOSzl"
      }
    },
    {
      "cell_type": "markdown",
      "source": [
        "Trong các bài toán trước đây của chúng ta, tụi mình sẽ tiến hành **xử lý dữ liệu văn bản sang dạng số** và **phân loại chúng** dựa trên **nhãn có sẵn** của dữ liệu huấn luyện trước đó. 📊  \n",
        "\n",
        "Thường thì **số lượng nhãn khá ít**, ví dụ như chỉ có hai nhãn **\"tích cực\"** và **\"tiêu cực\"** trong bài toán phân tích cảm xúc, hoặc vài nhãn cụ thể trong bài toán phân loại văn bản. 🏷️"
      ],
      "metadata": {
        "id": "qVQotDeuLNQc"
      }
    },
    {
      "cell_type": "markdown",
      "source": [
        "![classify_sentiment](https://media.mlhive.com/i/max/YbAcdK8b2Q4T5Ed4fIf.png)"
      ],
      "metadata": {
        "id": "jUEX7M8yOlLt"
      }
    },
    {
      "cell_type": "markdown",
      "source": [
        "Giờ đây đến với **bài toán tạo/sinh văn bản**, thay vì **phân loại với các nhãn cố định**, chúng ta sẽ **dự đoán từ tiếp theo** của văn bản đó. 📝✨  \n",
        "\n",
        "> **Ơ, vậy nhãn của các văn bản sẽ chính là từ tiếp theo của chúng à?**  \n",
        "\n",
        "Yeah, chính xác rồi đó! 🌟"
      ],
      "metadata": {
        "id": "vld5yzwhOtHV"
      }
    },
    {
      "cell_type": "markdown",
      "source": [
        "> **Ôi, thế số lượng nhãn của mô hình chẳng phải sẽ rất khổng lồ hay sao （⊙ｏ⊙）?**  \n",
        "\n",
        "Yeah, bạn lại đoán đúng rồi. 🎉  \n",
        "\n",
        "Số lượng nhãn chính là **số từ trong bộ từ điển** á =))  \n",
        "Có khi nó lên đến tận **10.000** á ...(*￣０￣)ノ\n",
        "\n",
        "> **Vậy chúng tạo ra văn bản như thế nào?**  \n",
        "\n",
        "Đơn giản thôi, tụi mình sẽ tiến hành **lặp đi lặp lại quá trình dự đoán từ tiếp theo**. 🔄  \n",
        "Khi mọi người dự đoán được một từ mới, chúng ta sẽ lấy từ đó **kết hợp lại với văn bản đầu vào** và tiếp tục dự đoán từ kế tiếp.  \n",
        "Cứ tiến hành như thế cho đến khi hết số vòng lặp hoặc đạt giới hạn số lượng từ dự đoán. 🌟  \n",
        "\n",
        "Nó giống hệt với hình mà tụi mình đã nhìn thấy ở phần đầu đó. 📄✨  "
      ],
      "metadata": {
        "id": "3ORPU7SuQe2p"
      }
    },
    {
      "cell_type": "markdown",
      "source": [
        "![predictext](https://cgupta.tech/images/rnn_representative.png)"
      ],
      "metadata": {
        "id": "E_dLy8wRTkuX"
      }
    },
    {
      "cell_type": "markdown",
      "source": [
        "Ở đây, câu văn ban đầu của chúng ta là: **\"the man is walking\"**, phần màu xanh dương là **cửa sổ trượt - window data** để cắt lấy dữ liệu đầu vào với độ dài tối đa hiện tại là **4 từ**. Do đó, **dữ liệu đầu vào** của chúng ta sẽ là **\"the man is walking\"**.  \n",
        "\n",
        "***Mọi người nhớ kĩ phần cửa sổ trượt cắt lấy dữ liệu đầu vào giúp mình nha.*** 📝  \n",
        "\n",
        "Quá trình tạo câu văn, ở đây mình cho số lượng từ tạo ra là **4**, nên chúng ta sẽ có **4 lần lặp**.  \n",
        "\n",
        "**Step 1**: Nhận đầu vào là **\"the man is walking\"**, tụi mình dự đoán ra được từ **\"down\"**.  \n",
        "\n",
        "**Step 2**: Tụi mình kết hợp từ **\"down\"** vào chung với văn bản đầu vào lúc trước là **\"the man is walking\"** thành **\"the man is walking down\"**, sau đó **cửa sổ trượt với kích thước là 4** sẽ cắt lại dữ liệu đầu vào thành **\"man is walking down\"** và dự đoán ra từ **\"the\"**.  \n",
        "\n",
        "**Step 3**: Tương tự như trước, dữ liệu đầu vào sau khi cắt là **\"is walking down the\"**, dự đoán ra từ **\"street\"**.  \n",
        "\n",
        "**Step 4**: Dữ liệu đầu vào là **\"walking down the street\"**, dự đoán ra dấu **\".\"**.  \n",
        "\n",
        "Vậy câu cuối cùng chúng ta dự đoán ra được sẽ là:  \n",
        "> **\"the man is walking down the street .\"** 🚶‍♂️✨  "
      ],
      "metadata": {
        "id": "_znzuVmHTl3J"
      }
    },
    {
      "cell_type": "markdown",
      "source": [
        "# Lý thuyết đủ nhiều rồi, tụi mình sẽ tiến hành đi vào thực hành luôn nha. ヾ(•ω•`)o"
      ],
      "metadata": {
        "id": "-FzYVdCkaLCd"
      }
    },
    {
      "cell_type": "code",
      "source": [
        "import time\n",
        "import kagglehub\n",
        "import tensorflow as tf\n",
        "import numpy as np\n",
        "import os\n",
        "from tensorflow.keras.models import Sequential, load_model\n",
        "from tensorflow.keras.layers import Embedding, LSTM, Dense, Bidirectional\n",
        "from tensorflow.keras.preprocessing.text import Tokenizer\n",
        "from tensorflow.keras.preprocessing.sequence import pad_sequences\n",
        "from tensorflow.keras.optimizers import Adam\n",
        "from datetime import timedelta\n",
        "import matplotlib.pyplot as plt"
      ],
      "metadata": {
        "id": "EYCnwYGAumKL",
        "trusted": true,
        "execution": {
          "iopub.status.busy": "2024-12-28T15:02:37.494956Z",
          "iopub.execute_input": "2024-12-28T15:02:37.495228Z",
          "iopub.status.idle": "2024-12-28T15:02:37.499459Z",
          "shell.execute_reply.started": "2024-12-28T15:02:37.495206Z",
          "shell.execute_reply": "2024-12-28T15:02:37.498649Z"
        }
      },
      "outputs": [],
      "execution_count": null
    },
    {
      "cell_type": "code",
      "source": [
        "# Tạo một MirroredStrategy để sử dụng tất cả các GPU có sẵn\n",
        "strategy = tf.distribute.MirroredStrategy()\n",
        "\n",
        "print('Number of devices: {}'.format(strategy.num_replicas_in_sync))"
      ],
      "metadata": {
        "id": "tTHJS8tl-ySf",
        "trusted": true,
        "execution": {
          "iopub.status.busy": "2024-12-28T15:02:37.500296Z",
          "iopub.execute_input": "2024-12-28T15:02:37.500517Z",
          "iopub.status.idle": "2024-12-28T15:02:37.516483Z",
          "shell.execute_reply.started": "2024-12-28T15:02:37.500487Z",
          "shell.execute_reply": "2024-12-28T15:02:37.515729Z"
        }
      },
      "outputs": [],
      "execution_count": null
    },
    {
      "cell_type": "markdown",
      "source": [
        "Trước khi bắt đầu tới phần thực hành bên dưới mình xin phép có lưu ý nhỏ: vì thời gian huấn luyện khá lâu nên  trong trường hợp các bạn không thể huấn luyện được có thể tải các file mô hình mà mình đã huấn luyện sẵn để trải nghiệm nha. Mình đã đăng dữ liệu lên **Kaggle** nên các bạn có thể tải ở đây [dataset_for_chap_8](https://www.kaggle.com/datasets/thnhkhangtrnhhunh/dataset-for-chap-8/data)"
      ],
      "metadata": {
        "id": "4vI-gu4NWMYr"
      }
    },
    {
      "cell_type": "markdown",
      "source": [
        "# Tiến hành xử lý dữ liệu 🛠️✨"
      ],
      "metadata": {
        "id": "pxfK_EC-uep1"
      }
    },
    {
      "cell_type": "markdown",
      "source": [
        "Dữ liệu mà chúng ta sẽ dùng là đoạn thơ dưới đây nha."
      ],
      "metadata": {
        "id": "KWxk5JKrbCgu"
      }
    },
    {
      "cell_type": "code",
      "source": [
        "data = \"\"\"In the town of Athy one Jeremy Lanigan\n",
        " Battered away til he hadnt a pound.\n",
        " His father died and made him a man again\n",
        " Left him a farm and ten acres of ground.\n",
        " He gave a grand party for friends and relations\n",
        " Who didnt forget him when come to the wall,\n",
        " And if youll but listen Ill make your eyes glisten\n",
        " Of the rows and the ructions of Lanigan’s Ball.\n",
        " Myself to be sure got free invitation,\n",
        " For all the nice girls and boys I might ask,\n",
        " And just in a minute both friends and relations\n",
        " Were dancing round merry as bees round a cask.\"\"\""
      ],
      "metadata": {
        "id": "bUVBfZv1cDnp",
        "trusted": true
      },
      "outputs": [],
      "execution_count": null
    },
    {
      "cell_type": "code",
      "source": [
        "# Kiểm tra cú pháp đoạn thơ\n",
        "print(repr(data))"
      ],
      "metadata": {
        "id": "Yjydxacbc1Wr",
        "trusted": true
      },
      "outputs": [],
      "execution_count": null
    },
    {
      "cell_type": "code",
      "source": [
        "# Tụi mình sẽ coi mẫu dòng trong đoạn thơ là một câu và tách chúng ra dựa trên dấu xuống hàng \\n nha\n",
        "corpus = data.lower().split(\"\\n\")\n",
        "\n",
        "# Tạo bộ từ điển từ bộ dữ liệu của chúng ta.\n",
        "tokenizer = Tokenizer()\n",
        "tokenizer.fit_on_texts(corpus)\n",
        "\n",
        "# Kiểm tra bộ từ điển\n",
        "print(tokenizer.word_index)\n",
        "print(f\"Số lượng từ trong bộ từ điển là: {len(tokenizer.word_index)}\")"
      ],
      "metadata": {
        "id": "6zx47s04-fH_",
        "trusted": true
      },
      "outputs": [],
      "execution_count": null
    },
    {
      "cell_type": "code",
      "source": [
        "total_words = len(tokenizer.word_index) + 1 # Thêm 1 vô đại diện cho phần token <padding>: 0"
      ],
      "metadata": {
        "id": "in8T7Aj3fWU6",
        "trusted": true
      },
      "outputs": [],
      "execution_count": null
    },
    {
      "cell_type": "markdown",
      "source": [
        "### Bây giờ tụi mình sẽ tới với phần xử lý dữ liệu huấn luyện. 🛠️  \n",
        "***Mọi người chú ý kĩ phần này, tránh nhầm lẫn giúp mình nha. Ở phần thực hành này, tạm thời chúng ta sẽ không sử dụng cửa sổ trượt!***  \n",
        "\n",
        "Đầu tiên, ta tiến hành mã hóa câu từ dữ liệu văn bản sang chuỗi dạng số. 🔢"
      ],
      "metadata": {
        "id": "0SExt7Nae8ff"
      }
    },
    {
      "cell_type": "markdown",
      "source": [
        "![encode](https://github.com/Tkag0001/AI_and_Machine_Learning_for_Coders/blob/main/images/Chapter_8/encode.png?raw=true)"
      ],
      "metadata": {
        "id": "TOjUe4FTGcWk"
      }
    },
    {
      "cell_type": "markdown",
      "source": [
        "Tiếp đến, chúng ta sẽ tách chuỗi thành nhiều chuỗi con nhỏ hơn với độ dài chuỗi tăng dần. ✂️  \n",
        "\n",
        "***Chú ý: Mọi người cần phải phân biệt, hiện tại chúng ta không sử dụng cửa sổ trượt ở đây nha!*** 🧐  "
      ],
      "metadata": {
        "id": "zUtSQXAygX7l"
      }
    },
    {
      "cell_type": "markdown",
      "source": [
        "![sub_sequences](https://github.com/Tkag0001/AI_and_Machine_Learning_for_Coders/blob/main/images/Chapter_8/sub_sequences.png?raw=true)"
      ],
      "metadata": {
        "id": "UhnbQnAmGfJw"
      }
    },
    {
      "cell_type": "markdown",
      "source": [
        "Như mọi người thấy, từ một chuỗi ban đầu chúng ta đã tách ra thành 7 chuỗi con, nhờ đó gia tăng được số lượng dữ liệu. 🌱 Các chuỗi con để huấn luyện này còn có tên gọi khác là **\"seed text - hạt giống văn bản\"**, khởi nguồn để nảy mầm, tạo nên các văn bản dự đoán sau này.\n",
        "Việc chia các chuỗi con này giúp cho mô hình có thể học được ngữ cảnh ở nhiều độ dài khác nhau.🌟"
      ],
      "metadata": {
        "id": "r5SJT0Nzgtn3"
      }
    },
    {
      "cell_type": "code",
      "source": [
        "input_sequences = []\n",
        "for line in corpus:\n",
        "  # Mã hóa câu (line) thành chuỗi số\n",
        "  token_list = tokenizer.texts_to_sequences([line])[0] # Vì dữ liệu trả về của hàm là dạng một list nên để lấy được chuỗi số phải lấy phần tử 0 của list\n",
        "  for i in range(1, len(token_list)):\n",
        "    # Tiến hành tách ra thành từng chuỗi con\n",
        "    n_gram_sequence = token_list[:i+1]\n",
        "    input_sequences.append(n_gram_sequence)\n",
        "\n",
        "# Kiểm tra thử 5 chuỗi đầu tiên\n",
        "for i in range(5):\n",
        "  print(input_sequences[i])"
      ],
      "metadata": {
        "id": "CAxkotOlhKwP",
        "trusted": true
      },
      "outputs": [],
      "execution_count": null
    },
    {
      "cell_type": "markdown",
      "source": [
        "Bây giờ chúng ta tiến hành **padding** cho dữ liệu dựa trên độ dài của câu dài nhất. 🛠️\n",
        "\n",
        "Lý do là bởi vì không cố định kích thước như **cửa sổ trượt**, dữ liệu giữa các câu của chúng ta có kích thước chênh lệch rất nhiều. Chúng ta cần **đồng dạng kích thước** để đưa vào huấn luyện mô hình. 📏\n",
        "\n",
        "*💡 Lưu ý: Trong trường hợp này, chúng ta sẽ **padding ở đầu** (pre-padding) nha, để từ có thể ảnh hưởng mạnh hơn đến từ dự đoán phía sau, giống với **khả năng ảnh hưởng của trình tự các từ** mà chúng ta đã tìm hiểu ở chương 7.* 🌟"
      ],
      "metadata": {
        "id": "OUdDON_DiOjd"
      }
    },
    {
      "cell_type": "markdown",
      "source": [
        "![padding_sequences](https://github.com/Tkag0001/AI_and_Machine_Learning_for_Coders/blob/main/images/Chapter_8/pad_sequences.png?raw=true)\n"
      ],
      "metadata": {
        "id": "Y0nsbaa5GjWt"
      }
    },
    {
      "cell_type": "code",
      "source": [
        "max_sequence_len = max([len(x) for x in input_sequences])\n",
        "input_sequences_padded = np.array(pad_sequences(input_sequences, maxlen = max_sequence_len, padding=\"pre\"))\n",
        "\n",
        "# Chỉnh lại số lượng token vì đã thêm token padding vào <pad>: 0\n",
        "total_words = len(tokenizer.word_index) + 1\n",
        "\n",
        "# Kiểm tra chuỗi sau khi đệm\n",
        "for i in range(5):\n",
        "  print(input_sequences_padded[i])"
      ],
      "metadata": {
        "id": "aEd3Sg6ukep8",
        "trusted": true
      },
      "outputs": [],
      "execution_count": null
    },
    {
      "cell_type": "markdown",
      "source": [
        "Vậy là các chuỗi của chúng ta đã được **đệm đầy đủ** với kích thước là **10**. 🎉\n",
        "\n",
        "Bây giờ, chúng ta sẽ tiến hành **chia dữ liệu** thành hai phần:\n",
        "\n",
        "1. **Dữ liệu huấn luyện**: Chính là các từ trong chuỗi **trừ từ cuối cùng**.\n",
        "2. **Nhãn**: Là **từ cuối cùng** của mỗi chuỗi.\n",
        "\n",
        "Quá trình này sẽ giúp chúng ta có dữ liệu phù hợp để huấn luyện mô hình dự đoán từ tiếp theo. 🚀"
      ],
      "metadata": {
        "id": "UwucCRjQnb2T"
      }
    },
    {
      "cell_type": "markdown",
      "source": [
        "![padding_sequences](https://github.com/Tkag0001/AI_and_Machine_Learning_for_Coders/blob/main/images/Chapter_8/x_labels.png?raw=true)"
      ],
      "metadata": {
        "id": "wth4hz87Gm_4"
      }
    },
    {
      "cell_type": "code",
      "source": [
        "xs = input_sequences_padded[:,:-1]\n",
        "labels = input_sequences_padded[:,-1]"
      ],
      "metadata": {
        "id": "RIKlNHE8qIFj",
        "trusted": true
      },
      "outputs": [],
      "execution_count": null
    },
    {
      "cell_type": "markdown",
      "source": [
        "Ở đây tụi mình sẽ áp dụng một **thủ thuật nhỏ** nhé! 🌟 Đây cũng là cơ hội để tiếp cận một loại **loss function** khác.\n",
        "\n",
        "Như trước đây mình đã đề cập, có sự khác biệt giữa **`sparse_categorical_crossentropy`** và **`categorical_crossentropy`**:\n",
        "\n",
        "- Nếu dữ liệu nhãn là dạng **số index** (ví dụ: `[0, 1, 2]`), ta sẽ sử dụng **`sparse_categorical_crossentropy`**.\n",
        "- Trong trường hợp này, tụi mình sẽ tiến hành **mã hóa nhãn theo one-hot-encoding**, nên cần sử dụng **`categorical_crossentropy`**.\n",
        "\n",
        "### Lưu ý nhỏ:\n",
        "- Sử dụng **index-based labels** (dạng số) có thể **tiết kiệm bộ nhớ hơn** vì không cần lưu trữ toàn bộ vector one-hot-encoding.\n",
        "- Tuy nhiên, vì sách đã hướng dẫn như vậy, tụi mình cứ làm theo để **làm quen với cả hai cách** nhé! ✨"
      ],
      "metadata": {
        "id": "-RUI2BuFqWqa"
      }
    },
    {
      "cell_type": "markdown",
      "source": [
        "![dataset](https://github.com/Tkag0001/AI_and_Machine_Learning_for_Coders/blob/main/images/Chapter_8/dataset.png?raw=true)"
      ],
      "metadata": {
        "id": "I9N7t-zZGpUh"
      }
    },
    {
      "cell_type": "code",
      "source": [
        "# Tiến hành mã hóa one-hot-encoding cho nhãn\n",
        "from tensorflow.keras.utils import to_categorical\n",
        "ys = to_categorical(labels, num_classes = total_words)"
      ],
      "metadata": {
        "id": "qhDwD98vrgMa",
        "trusted": true
      },
      "outputs": [],
      "execution_count": null
    },
    {
      "cell_type": "code",
      "source": [
        "# Kiểm tra lại dữ liệu của chúng ta\n",
        "print(f\"Chuỗi được mã hóa: {input_sequences[0]}\")\n",
        "print(f\"Chuỗi x để huấn luyện: {xs[0]}\")\n",
        "print(f\"Nhãn của chuỗi x, tức từ tiếp theo: {labels[0]}\")\n",
        "print(f\"Nhãn sau khi one-hot-encoding:\\n {ys[0]}\")"
      ],
      "metadata": {
        "id": "BCIMJdgIsKLo",
        "trusted": true
      },
      "outputs": [],
      "execution_count": null
    },
    {
      "cell_type": "markdown",
      "source": [
        "# Tiến hành tạo và huấn luyện mô hình 🚀"
      ],
      "metadata": {
        "id": "KfHd5Ahluajw"
      }
    },
    {
      "cell_type": "markdown",
      "source": [
        "Ở đây tụi mình sẽ thử khởi tạo một mô hình đơn giản thôi nha.  \n",
        "\n",
        "Số chiều **Embedding** tụi mình tạm cho là 8 nha vì kích thước từ điển, số lượng từ cũng khá nhỏ.  \n",
        "\n",
        "Về tham số trong lớp **BLSTM**, số đơn vị ẩn như chương trước tụi mình để theo số chiều Embedding thì ở đây mình để tương đương với độ dài của chuỗi ban đầu trừ đi 1 nha (vì chúng ta đã lấy token cuối làm nhãn nên trừ 1 đi).  \n",
        "\n",
        "Đầu ra lớp tuyến tính - **Dense**, thì sẽ bằng với tổng số lượng tokens hay số lượng từ với 1 token padding. ✨"
      ],
      "metadata": {
        "id": "cw23SIbMurtm"
      }
    },
    {
      "cell_type": "code",
      "source": [
        "# Xây dựng kiến trúc mô hình\n",
        "model = Sequential([\n",
        "    Embedding(total_words, 8),\n",
        "    Bidirectional(LSTM(max_sequence_len-1)),\n",
        "    Dense(total_words, activation = 'softmax')\n",
        "])\n",
        "\n",
        "model.compile(loss = 'categorical_crossentropy', optimizer = 'adam', metrics = ['accuracy'])"
      ],
      "metadata": {
        "id": "JC_DEmseu36E",
        "trusted": true
      },
      "outputs": [],
      "execution_count": null
    },
    {
      "cell_type": "markdown",
      "source": [
        "Bởi vì mô hình ở đây khá đơn giản và ít dữ liệu nên chúng ta tiến hành huấn luyện lâu hơn với **số epoch là 15.000**."
      ],
      "metadata": {
        "id": "mYkUkiIwxEmA"
      }
    },
    {
      "cell_type": "code",
      "source": [
        "import time\n",
        "start_time = time.time()\n",
        "history = model.fit(xs, ys, epochs=1500, verbose = 0)\n",
        "end_time = time.time()"
      ],
      "metadata": {
        "id": "pO0NF3m4w2xN",
        "trusted": true
      },
      "outputs": [],
      "execution_count": null
    },
    {
      "cell_type": "code",
      "source": [
        "print(f\"Thời gian huấn luyện: {timedelta(seconds=end_time - start_time)} giây\")"
      ],
      "metadata": {
        "id": "CzLFU3K6Qg57",
        "trusted": true
      },
      "outputs": [],
      "execution_count": null
    },
    {
      "cell_type": "code",
      "source": [
        "# Vẽ biểu đồ huấn luyện\n",
        "import matplotlib.pyplot as plt\n",
        "\n",
        "train_acc = history.history[\"accuracy\"]\n",
        "train_loss = history.history[\"loss\"]\n",
        "\n",
        "fig, axs = plt.subplots(1, 2, figsize = (12, 4))\n",
        "axs[0].plot(train_acc)\n",
        "axs[0].set_title(\"Training Accuracy\")\n",
        "axs[1].plot(train_loss, color=\"orange\")\n",
        "axs[1].set_title(\"Training Loss\")\n",
        "plt.tight_layout()\n",
        "plt.show()"
      ],
      "metadata": {
        "id": "XsNBEKtuxQAO",
        "trusted": true
      },
      "outputs": [],
      "execution_count": null
    },
    {
      "cell_type": "markdown",
      "source": [
        "Đây là kết quả ở lần chạy của mình nha.\n",
        "\n",
        "![model](https://github.com/Tkag0001/AI_and_Machine_Learning_for_Coders/blob/main/images/Chapter_8/model.png?raw=true)"
      ],
      "metadata": {
        "id": "FPggWR4GHP1j"
      }
    },
    {
      "cell_type": "code",
      "source": [
        "model.evaluate(xs, ys)"
      ],
      "metadata": {
        "id": "HzWGVLLsy2Bq",
        "trusted": true
      },
      "outputs": [],
      "execution_count": null
    },
    {
      "cell_type": "code",
      "source": [
        "model.save(\"model.h5\")"
      ],
      "metadata": {
        "id": "0eC4JQ-N6qDQ",
        "trusted": true
      },
      "outputs": [],
      "execution_count": null
    },
    {
      "cell_type": "code",
      "source": [
        "# Tải lại model\n",
        "model = load_model(\"model.h5\")"
      ],
      "metadata": {
        "id": "7gY2QpWpFWO8",
        "trusted": true
      },
      "outputs": [],
      "execution_count": null
    },
    {
      "cell_type": "markdown",
      "source": [
        "Kết quả cuối cùng tụi mình đo được sẽ khoảng cỡ 95%, điều đó có nghĩa là từ dự đoán được tiếp theo có xác suất 95% giống với từ đã được huấn luyện bởi chuỗi trước đó.  \n",
        "\n",
        "***Mọi người lưu ý giúp mình: Ở đây sử dụng độ chính xác - accuracy để đo không thật sự hiệu quả đối với bài toán ngữ nghĩa tạo/sinh văn bản như này. Cho đến thời điểm hiện tại tụi mình học, vẫn chưa có thang đo nào phù hợp tuyệt đối cho bài toán.*** 🌟"
      ],
      "metadata": {
        "id": "_O082PMny6Ab"
      }
    },
    {
      "cell_type": "markdown",
      "source": [
        "### Predicting the Next Word  \n",
        "### Bây giờ tụi mình sẽ tiến hành dự đoán thử một từ tiếp theo trước nha.  \n",
        "\n",
        "Văn bản mình chọn là **\"in the town of athy\"** nằm ở câu đầu tiên của dữ liệu huấn luyện nha. 🌟  "
      ],
      "metadata": {
        "id": "gzTqlPpQ3Qq5"
      }
    },
    {
      "cell_type": "code",
      "source": [
        "seed_text =  \"in the town of athy\""
      ],
      "metadata": {
        "id": "dVW2qQCv3rgx",
        "trusted": true
      },
      "outputs": [],
      "execution_count": null
    },
    {
      "cell_type": "markdown",
      "source": [
        "Đầu tiên ta sẽ tiến hành tokenize cho chuỗi đó, sau đó thì padding và đưa vào mô hình"
      ],
      "metadata": {
        "id": "WebWVHuI3w-_"
      }
    },
    {
      "cell_type": "code",
      "source": [
        "token_list = tokenizer.texts_to_sequences([seed_text])[0]\n",
        "token_list = pad_sequences([token_list], maxlen=max_sequence_len-1, padding='pre') # -1 vào max_sequence_len bởi vì chuỗi này không có nhãn\n",
        "# Tiến hành dự đoán\n",
        "predicted = model.predict(token_list, verbose=1)\n",
        "predicted_index = np.argmax(predicted, axis = -1)"
      ],
      "metadata": {
        "id": "jqRF78S_32r3",
        "trusted": true
      },
      "outputs": [],
      "execution_count": null
    },
    {
      "cell_type": "code",
      "source": [
        "# Tạo index to word để chuyển từ dữ liệu dạng số sang văn bản lại\n",
        "index_words ={}\n",
        "for word, index in tokenizer.word_index.items():\n",
        "    index_words[index] = word\n",
        "\n",
        "# Chuyển index dự đoán thành dạng chữ\n",
        "predicted_word = index_words.get(predicted_index[0], \"\")\n",
        "\n",
        "print(f\"Chuỗi ban đầu: {seed_text}\")\n",
        "print(f\"Từ dự đoán: '{predicted_word}' với sác xuất {predicted[0][predicted_index[0]]*100:.2f}%\")"
      ],
      "metadata": {
        "id": "NfUxFC1q4RuN",
        "trusted": true
      },
      "outputs": [],
      "execution_count": null
    },
    {
      "cell_type": "markdown",
      "source": [
        "Uầy ra từ \"one\" đúng với câu đầu tiên trong dữ liệu huấn luyện luôn này.\n",
        "> In the town of Athy one Jeremy Lanigan<br>\n",
        " Battered away til he hadnt a pound."
      ],
      "metadata": {
        "id": "6-gbSdiZ55xL"
      }
    },
    {
      "cell_type": "markdown",
      "source": [
        "### Compounding Predictions to Generate Text  \n",
        "### Bây giờ tụi mình sẽ tiến hành tạo/sinh văn bản dựa trên workflow trước đó tụi mình định nghĩa nha. 🌟✨🌈  \n",
        "\n",
        "***Lưu ý: Ở đây chúng ta chọn padding chuỗi theo độ dài câu dài nhất vì ban đầu khi dữ liệu huấn luyện cũng được làm như vậy chứ chưa sử dụng phương pháp cửa sổ trượt nha. Để mà nói mọi người cũng có thể hiểu trường hợp này kích thước cửa sổ trượt là độ dài câu dài nhất cũng được. Từ đó các chuỗi không đủ kích thước thì sẽ padding thêm vào. 🔄📏***\n",
        "\n",
        "Thông qua việc lặp đi lặp lại quá trình dự đoán từ tiếp theo, kết hợp lại với dữ liệu đầu vào rồi dự đoán tiếp ta sẽ tạo/sinh ra được phần tiếp theo cho câu văn. 📝🔮  \n",
        "\n",
        "Ở đây mình sử dụng dữ liệu đầu vào ban đầu là **\"sweet jeremy saw dublin\"** nha. Tụi mình sẽ tiến hành dự đoán 10 từ tiếp theo phía sau. 🎯📖"
      ],
      "metadata": {
        "id": "O48-oBgP6KdF"
      }
    },
    {
      "cell_type": "code",
      "source": [
        "seed_text = \"sweet jeremy saw dublin\"\n",
        "predicted_text = seed_text\n",
        "n_words = 10\n",
        "\n",
        "for i in range(n_words):\n",
        "    token_list = tokenizer.texts_to_sequences([predicted_text])[0]\n",
        "    token_list = pad_sequences([token_list], maxlen=max_sequence_len-1, padding='pre')\n",
        "    predicted = model.predict(token_list, verbose=1)\n",
        "    predicted_index = np.argmax(predicted, axis=-1)\n",
        "    output_word = index_words.get(predicted_index[0], \"\")\n",
        "\n",
        "    print(f\"Step {i}:\")\n",
        "    print(f\"Văn bản đầu vào: {predicted_text}\")\n",
        "    print(f\"Chuỗi mã hóa đầu vào: {token_list}\")\n",
        "    print(f\"Từ dự đoán: {output_word} với xác suất {predicted[0][predicted_index[0]]*100:2f}\")\n",
        "    print(\"-\"*50)\n",
        "    predicted_text += \" \" + output_word\n",
        "\n",
        "print(predicted_text)\n"
      ],
      "metadata": {
        "id": "ugHAzgSL616W",
        "trusted": true
      },
      "outputs": [],
      "execution_count": null
    },
    {
      "cell_type": "markdown",
      "source": [
        "Đây là kết quả ở lần chạy của mình nha:  \n",
        "\n",
        "> \"sweet jeremy saw dublin be sure of got free invitation lanigan lanigan invitation your\"  \n",
        "\n",
        "Mọi người có thể thấy càng về sau thì các từ tạo ra khiến câu văn càng trở nên vô nghĩa hơn, thậm chí đôi khi sai cả về mặt ngữ pháp của từ. 😅📉  \n",
        "\n",
        "> **Vậy lỗi này do đâu mà ra?**  \n",
        "\n",
        "Có 2 lý do chính ảnh hưởng đến việc này là:  \n",
        "\n",
        "1. **Dữ liệu huấn luyện của chúng ta quá nhỏ** khiến mô hình không thể nắm bắt được nhiều ngữ cảnh. 📚❌  \n",
        "2. **Hiệu ứng dây chuyền, cánh bướm hay hiệu ứng Domino.** Khi một việc gì đó xảy ra thì các sự việc sau phụ thuộc vào nó sẽ chịu ảnh hưởng lớn dần lên. Ở đây, khi một từ được dự đoán không tốt, các từ phía sau nó lại được dự đoán dựa trên nó và các từ phía trước cũng sẽ trở nên tệ hơn. Dần dần sự tệ hại này ngày một lớn dần khiến cho các từ nối vào câu văn càng về sau trở nên vô nghĩa hơn rất là nhiều. 🔗🌀  \n",
        "\n",
        "Có một fact là vào năm 2016 đã từng có một bộ phim viễn tưởng [Sunspring](https://en.wikipedia.org/wiki/Sunspring) được tạo ra bởi AI. Bộ phim này khá buồn cười, ban đầu nội dung vẫn ổn cho đến càng về sau chúng lại trở nên khó hiểu đúng nghĩa ba chấm luôn ý. 🎥🤖✨"
      ],
      "metadata": {
        "id": "CD6R16wN3LNS"
      }
    },
    {
      "cell_type": "markdown",
      "source": [
        "# Extending the dataset  \n",
        "### Bây giờ tụi mình sẽ làm việc với mô hình với bộ dữ liệu lớn hơn nha.  \n",
        "\n",
        "Ở đây theo tác giả thì bộ dữ liệu dưới đây bao gồm khoảng 1.700 về lời các bài hát. Vì đường dẫn trong sách không thể sử dụng được nữa nên tụi mình sẽ tải dữ liệu từ Kaggle nha. 🎶📥  "
      ],
      "metadata": {
        "id": "RnbyzGdC-riZ"
      }
    },
    {
      "cell_type": "code",
      "source": [
        "import kagglehub\n",
        "\n",
        "# Download latest version\n",
        "path = kagglehub.dataset_download(\"jamzhu/irishlyricseof\")\n",
        "\n",
        "print(\"Path to dataset files:\", path)"
      ],
      "metadata": {
        "id": "GS4Qi4i0_CGA",
        "trusted": true
      },
      "outputs": [],
      "execution_count": null
    },
    {
      "cell_type": "code",
      "source": [
        "# # # Liệt kê các file bên trong thư mục\n",
        "import os\n",
        "for f in os.listdir(path):\n",
        "  print(f)"
      ],
      "metadata": {
        "id": "QnMJvtpT_GAc",
        "trusted": true
      },
      "outputs": [],
      "execution_count": null
    },
    {
      "cell_type": "code",
      "source": [
        "# Tiến hành tải bộ dữ liệu\n",
        "# data = open(\"/kaggle/input/irishlyricseof/irish-lyrics-eof.txt\", \"r\").read()\n",
        "data = open(os.path.join(path, \"irish-lyrics-eof.txt\"), \"r\").read()\n",
        "corpus = data.lower().split(\"\\n\")\n",
        "# In thử 5 hàng đầu tiên ra\n",
        "for i in range(5):\n",
        "  print(repr(corpus[i]))"
      ],
      "metadata": {
        "id": "exeWRN8l_XlM",
        "trusted": true,
        "execution": {
          "iopub.status.busy": "2024-12-28T07:59:09.867523Z",
          "iopub.execute_input": "2024-12-28T07:59:09.867865Z",
          "iopub.status.idle": "2024-12-28T07:59:09.891653Z",
          "shell.execute_reply.started": "2024-12-28T07:59:09.867835Z",
          "shell.execute_reply": "2024-12-28T07:59:09.891023Z"
        }
      },
      "outputs": [],
      "execution_count": null
    },
    {
      "cell_type": "code",
      "source": [
        "len(data)"
      ],
      "metadata": {
        "trusted": true,
        "execution": {
          "iopub.status.busy": "2024-12-28T07:59:18.449231Z",
          "iopub.execute_input": "2024-12-28T07:59:18.449612Z",
          "iopub.status.idle": "2024-12-28T07:59:18.455081Z",
          "shell.execute_reply.started": "2024-12-28T07:59:18.449578Z",
          "shell.execute_reply": "2024-12-28T07:59:18.454345Z"
        },
        "id": "4AjLmmzyGLrh"
      },
      "outputs": [],
      "execution_count": null
    },
    {
      "cell_type": "code",
      "source": [
        "# Tiến hành tokenize dữ liệu\n",
        "tokenizer = Tokenizer()\n",
        "tokenizer.fit_on_texts(corpus)\n",
        "total_words = len(tokenizer.word_index) + 1 # Thêm một cho token padding sau này\n",
        "print(f\"Tổng số lượng từ: {total_words}\")\n",
        "print(f\"Bộ từ điển từ vựng: {tokenizer.word_index}\")"
      ],
      "metadata": {
        "id": "fBR3Ohcf_4HD",
        "trusted": true
      },
      "outputs": [],
      "execution_count": null
    },
    {
      "cell_type": "code",
      "source": [
        "# Tạo bộ từ điển chuyển dữ liệu số thành chữ lại\n",
        "index_words ={}\n",
        "for word, index in tokenizer.word_index.items():\n",
        "    index_words[index] = word\n",
        "\n",
        "# Tiến hành tạo các seed text hay chuỗi con\n",
        "input_sequences = []\n",
        "for line in corpus:\n",
        "    token_list = tokenizer.texts_to_sequences([line])[0]\n",
        "    for i in range(1, len(token_list)-1):\n",
        "        n_gram_sequence = token_list[:i+1]\n",
        "        input_sequences.append(n_gram_sequence)\n",
        "\n",
        "# Kiểm tra 5 chuỗi mã hóa số đầu tiên\n",
        "for i in range(5):\n",
        "  print(input_sequences[i])\n"
      ],
      "metadata": {
        "id": "9FARlEG1Anbb",
        "trusted": true
      },
      "outputs": [],
      "execution_count": null
    },
    {
      "cell_type": "code",
      "source": [
        "# Tiến hành padding cho dữ liệu\n",
        "max_sequence_len = max([len(x) for x in input_sequences])\n",
        "print(f\"Độ dài chuỗi dài nhất: {max_sequence_len}\")\n",
        "input_sequences = np.array(pad_sequences(input_sequences, maxlen=max_sequence_len, padding='pre'))\n",
        "# In thử 5 chuỗi đầu tiên\n",
        "for i in range(5):\n",
        "  print(input_sequences[i])"
      ],
      "metadata": {
        "id": "nMe2sgSUBlmN",
        "trusted": true
      },
      "outputs": [],
      "execution_count": null
    },
    {
      "cell_type": "code",
      "source": [
        "# Tiến hành chia dữ liệu huấn luyện và nhãn\n",
        "xs = input_sequences[:,:-1]\n",
        "labels = input_sequences[:,-1]"
      ],
      "metadata": {
        "id": "TYB7Zl9vCFph",
        "trusted": true
      },
      "outputs": [],
      "execution_count": null
    },
    {
      "cell_type": "code",
      "source": [
        "# Thiết lập mô hình\n",
        "model1 = Sequential([\n",
        "    Embedding(total_words, 8),\n",
        "    Bidirectional(LSTM(max_sequence_len-1)),\n",
        "    Dense(total_words, activation = 'softmax')\n",
        "])\n",
        "\n",
        "model1.compile(loss = 'sparse_categorical_crossentropy', optimizer = 'adam', metrics = ['accuracy'])"
      ],
      "metadata": {
        "id": "gSU79wB_CMV7",
        "trusted": true
      },
      "outputs": [],
      "execution_count": null
    },
    {
      "cell_type": "code",
      "source": [
        "start_time = time.time()\n",
        "history1 = model1.fit(xs, labels, epochs=1000, verbose = 0)\n",
        "end_time = time.time()"
      ],
      "metadata": {
        "id": "1ZO2GYa3CrXk",
        "trusted": true
      },
      "outputs": [],
      "execution_count": null
    },
    {
      "cell_type": "code",
      "source": [
        "model1.save(\"model1.h5\")"
      ],
      "metadata": {
        "id": "_Kz5jVw561Gr",
        "trusted": true
      },
      "outputs": [],
      "execution_count": null
    },
    {
      "cell_type": "code",
      "source": [
        "print(f\"Thời gian huấn luyện: {timedelta(seconds=end_time-start_time)}\")"
      ],
      "metadata": {
        "id": "7ZaULiFaibUA",
        "trusted": true
      },
      "outputs": [],
      "execution_count": null
    },
    {
      "cell_type": "code",
      "source": [
        "# Vẽ biểu đồ quá trình huấn luyện\n",
        "import matplotlib.pyplot as plt\n",
        "fig, axs = plt.subplots(1, 2, figsize = (12, 4))\n",
        "train_acc = history1.history[\"accuracy\"]\n",
        "train_loss = history1.history[\"loss\"]\n",
        "axs[0].plot(train_acc)\n",
        "axs[0].set_title(\"Training Accuracy\")\n",
        "axs[1].plot(train_loss, color=\"orange\")\n",
        "axs[1].set_title(\"Training Loss\")\n",
        "plt.tight_layout()\n",
        "plt.show()"
      ],
      "metadata": {
        "id": "AeJHizKpCwFH",
        "trusted": true
      },
      "outputs": [],
      "execution_count": null
    },
    {
      "cell_type": "markdown",
      "source": [
        "Đây là kết quả ở lần chạy của mình nha.\n",
        "\n",
        "![model1](https://github.com/Tkag0001/AI_and_Machine_Learning_for_Coders/blob/main/images/Chapter_8/model1.png?raw=true)"
      ],
      "metadata": {
        "id": "RrohSGgpJ91A"
      }
    },
    {
      "cell_type": "code",
      "source": [
        "model1.evaluate(xs,labels)"
      ],
      "metadata": {
        "id": "ffBTpv2Qnz5W",
        "trusted": true
      },
      "outputs": [],
      "execution_count": null
    },
    {
      "cell_type": "code",
      "source": [
        "# Tải lại mô hình\n",
        "model1 = load_model(\"model1.h5\")"
      ],
      "metadata": {
        "id": "MIwiMg7aGh-0",
        "trusted": true
      },
      "outputs": [],
      "execution_count": null
    },
    {
      "cell_type": "markdown",
      "source": [
        "Uầy, vậy là với bộ dữ liệu này, độ chính xác trên tập huấn luyện đạt được là khoảng 60%. 🎉\n",
        "\n",
        "Bây giờ tụi mình sẽ tiến hành dự đoán thử với các vế trước đó nha. 🔍✨"
      ],
      "metadata": {
        "id": "xdfhGOIflUV3"
      }
    },
    {
      "cell_type": "code",
      "source": [
        "# Dự đoán một từ\n",
        "seed_text = \"in the town of athy\"\n",
        "token_list = tokenizer.texts_to_sequences([seed_text])[0]\n",
        "token_list = pad_sequences([token_list], maxlen=max_sequence_len-1, padding='pre') # -1 vào max_sequence_len bởi vì chuỗi này không có nhãn\n",
        "# Tiến hành dự đoán\n",
        "predicted = model1.predict(token_list, verbose=1)\n",
        "predicted_index = np.argmax(predicted, axis = -1)\n",
        "predicted_word = index_words.get(predicted_index[0], \"\")\n",
        "\n",
        "print(f\"Từ dự đoán là: '{predicted_word}' với xác suất {predicted[0][predicted_index[0]]*100:.2f}%\")"
      ],
      "metadata": {
        "id": "BEiQdO-tmmdW",
        "trusted": true
      },
      "outputs": [],
      "execution_count": null
    },
    {
      "cell_type": "markdown",
      "source": [
        "Ở đây kết quả mình ra được là:  \n",
        "> Từ dự đoán là: 'one' với xác suất 67.04% ✨  \n",
        "\n",
        "Mọi người có thể ra kết quả khác nha, điều này phụ thuộc vào trọng số của mô hình mà trọng số của mỗi mô hình khi khởi tạo là ngẫu nhiên, không giống nhau nên kết quả cuối cũng vậy. Miễn sao ý nghĩa câu văn hay các từ có phần liên kết nhau hợp lý là ok rồi. 🌟  \n",
        "\n",
        "Tụi mình sẽ dự đoán tiếp với cụm **“sweet jeremy saw dublin”**. 🚀"
      ],
      "metadata": {
        "id": "KZZxqUJgoD_b"
      }
    },
    {
      "cell_type": "code",
      "source": [
        "# Dự đoán một chuỗi\n",
        "seed_text = \"sweet jeremy saw dublin\"\n",
        "num_words = 10\n",
        "predicted_text = seed_text\n",
        "for i in range(num_words):\n",
        "  token_list = tokenizer.texts_to_sequences([predicted_text])[0]\n",
        "  token_list = pad_sequences([token_list], maxlen=max_sequence_len-1, padding='pre')\n",
        "  predicted = model1.predict(token_list, verbose=1)\n",
        "  predicted_index = np.argmax(predicted, axis=-1)\n",
        "  output_word = index_words.get(predicted_index[0], \"\")\n",
        "\n",
        "  print(f\"Step {i}:\")\n",
        "  print(f\"Văn bản đầu vào: {predicted_text}\")\n",
        "  print(f\"Chuỗi mã hóa đầu vào: {token_list[0]}\")\n",
        "  print(f\"Từ dự đoán: {output_word} với xác suất {predicted[0][predicted_index[0]]*100:2f}%\")\n",
        "  print(\"-\"*50)\n",
        "  predicted_text += \" \" + output_word\n"
      ],
      "metadata": {
        "id": "4sGNrH4a3rA4",
        "trusted": true
      },
      "outputs": [],
      "execution_count": null
    },
    {
      "cell_type": "code",
      "source": [
        "print(f\"Văn bản sinh ra: '{predicted_text}'\")"
      ],
      "metadata": {
        "id": "7n3i2V3Osxlq",
        "trusted": true
      },
      "outputs": [],
      "execution_count": null
    },
    {
      "cell_type": "markdown",
      "source": [
        "Đây là kết quả ở lần chạy của mình:  \n",
        "> Văn bản sinh ra: 'sweet jeremy saw dublin will you save that if it was a small thorn'✨  \n",
        "\n",
        "Có vẻ là chúng đã ổn hơn rồi ha, sai sót thì tất nhiên vẫn có nhưng ngữ nghĩa cấu trúc đã ổn hơn tí rồi. 🌟 Bây giờ tụi mình sẽ đi thử thêm nhiều cách nữa để tăng độ hiệu quả lên hơn nha. 🚀  "
      ],
      "metadata": {
        "id": "_NcgUOcUs5gb"
      }
    },
    {
      "cell_type": "markdown",
      "source": [
        "# Changing the Modle Architecture\n",
        "### Trước mắt thì tụi mình sẽ thử thay đổi kiến trúc mô hình xem sao."
      ],
      "metadata": {
        "id": "cqKd6g6HuzVR"
      }
    },
    {
      "cell_type": "code",
      "source": [
        "model2= Sequential([\n",
        "    Embedding(total_words, 8),\n",
        "    Bidirectional(LSTM(max_sequence_len-1, return_sequences=True)),\n",
        "    Bidirectional(LSTM(max_sequence_len-1)),\n",
        "    Dense(total_words, activation = 'softmax')\n",
        "])\n",
        "\n",
        "model2.compile(loss = 'sparse_categorical_crossentropy', optimizer = 'adam', metrics = ['accuracy'])"
      ],
      "metadata": {
        "id": "_Zj5H1WiuacY",
        "trusted": true
      },
      "outputs": [],
      "execution_count": null
    },
    {
      "cell_type": "code",
      "source": [
        "# Tiến hành huấn luyện\n",
        "start_time = time.time()\n",
        "history2 = model2.fit(xs, labels, epochs = 1000, verbose = 0)\n",
        "end_time = time.time()"
      ],
      "metadata": {
        "id": "GntMGZGKvoD7",
        "trusted": true
      },
      "outputs": [],
      "execution_count": null
    },
    {
      "cell_type": "code",
      "source": [
        "model2.save(\"model2.h5\")"
      ],
      "metadata": {
        "id": "y40Bspoj7Dll",
        "trusted": true
      },
      "outputs": [],
      "execution_count": null
    },
    {
      "cell_type": "code",
      "source": [
        "print(f\"Thời gian huấn luyện mô hình: {timedelta(seconds=end_time - start_time)}\")"
      ],
      "metadata": {
        "id": "5YizHpfmv3TX",
        "trusted": true
      },
      "outputs": [],
      "execution_count": null
    },
    {
      "cell_type": "code",
      "source": [
        "# Vẽ biểu đồ quá trình huấn luyện\n",
        "train_acc = history2.history[\"accuracy\"]\n",
        "train_loss = history2.history[\"loss\"]\n",
        "\n",
        "fig, axs = plt.subplots(1, 2, figsize = (12, 4))\n",
        "axs = axs.flatten()\n",
        "axs[0].plot(train_acc)\n",
        "axs[0].set_title(\"Training Accuracy\")\n",
        "axs[1].plot(train_loss, color=\"orange\")\n",
        "axs[1].set_title(\"Training Loss\")\n",
        "plt.tight_layout()\n",
        "plt.show()"
      ],
      "metadata": {
        "id": "UN-m48Hlv_iw",
        "trusted": true
      },
      "outputs": [],
      "execution_count": null
    },
    {
      "cell_type": "markdown",
      "source": [
        "Đây là kết quả ở lần chạy của mình nha.\n",
        "\n",
        "![model2](https://github.com/Tkag0001/AI_and_Machine_Learning_for_Coders/blob/main/images/Chapter_8/model2.png?raw=true)"
      ],
      "metadata": {
        "id": "a2jCuS52KrYn"
      }
    },
    {
      "cell_type": "markdown",
      "source": [
        "Biểu đồ vẫn khá nhiễu nhỉ, sự biến động lên xuống vẫn xuất hiện nhiều cho thấy chúng vẫn gặp lỗi nhiều. Một trong những nguyên nhân đến từ việc ngữ cảnh các câu không có sự liên kết với nhau."
      ],
      "metadata": {
        "id": "3kKLCK2mK80P"
      }
    },
    {
      "cell_type": "code",
      "source": [
        "# Đánh giá mô hình\n",
        "model2.evaluate(xs, labels)"
      ],
      "metadata": {
        "id": "4C8952SpwUqb",
        "trusted": true
      },
      "outputs": [],
      "execution_count": null
    },
    {
      "cell_type": "code",
      "source": [
        "# Tải lại mô hình\n",
        "model2 = load_model(\"model2.h5\")"
      ],
      "metadata": {
        "id": "G_RapNTYGs-P",
        "trusted": true
      },
      "outputs": [],
      "execution_count": null
    },
    {
      "cell_type": "markdown",
      "source": [
        "Tụi mình sẽ tiến hành dự đoán lại với các câu trước đó"
      ],
      "metadata": {
        "id": "DLXe5_SSwiVT"
      }
    },
    {
      "cell_type": "code",
      "source": [
        "# Dự đoán một từ\n",
        "seed_text = \"in the town of athy\"\n",
        "token_list = tokenizer.texts_to_sequences([seed_text])[0]\n",
        "token_list = pad_sequences([token_list], maxlen=max_sequence_len-1, padding='pre') # -1 vào max_sequence_len bởi vì chuỗi này không có nhãn\n",
        "# Tiến hành dự đoán\n",
        "predicted = model2.predict(token_list, verbose=1)\n",
        "predicted_index = np.argmax(predicted, axis = -1)\n",
        "predicted_word = index_words.get(predicted_index[0], \"\")\n",
        "\n",
        "print(f\"Từ dự đoán là: '{predicted_word}' với xác suất {predicted[0][predicted_index[0]]*100:.2f}%\")"
      ],
      "metadata": {
        "id": "vYtBRNkTwZv2",
        "trusted": true
      },
      "outputs": [],
      "execution_count": null
    },
    {
      "cell_type": "markdown",
      "source": [
        "Kết quả ở lần chạy của mình nha.\n",
        "\n",
        "> Từ dự đoán là: 'been' với xác suất 33.22%"
      ],
      "metadata": {
        "id": "g8sil5NBMk7f"
      }
    },
    {
      "cell_type": "code",
      "source": [
        "# Dự đoán một từ\n",
        "seed_text = \"sweet jeremy saw dublin\"\n",
        "num_words = 10\n",
        "predicted_text = seed_text\n",
        "for i in range(num_words):\n",
        "  token_list = tokenizer.texts_to_sequences([predicted_text])[0]\n",
        "  token_list = pad_sequences([token_list], maxlen=max_sequence_len-1, padding='pre')\n",
        "  predicted = model2.predict(token_list, verbose=1)\n",
        "  predicted_index = np.argmax(predicted, axis=-1)\n",
        "  output_word = index_words.get(predicted_index[0], \"\")\n",
        "\n",
        "  print(f\"Step {i}:\")\n",
        "  print(f\"Văn bản đầu vào: {predicted_text}\")\n",
        "  print(f\"Chuỗi mã hóa đầu vào: {token_list[0]}\")\n",
        "  print(f\"Từ dự đoán: {output_word} với xác suất {predicted[0][predicted_index[0]]*100:2f}%\")\n",
        "  print(\"-\"*50)\n",
        "  predicted_text += \" \" + output_word\n"
      ],
      "metadata": {
        "id": "E9nkVt5Kwo2o",
        "trusted": true
      },
      "outputs": [],
      "execution_count": null
    },
    {
      "cell_type": "code",
      "source": [
        "print(f\"Văn bản sinh ra: '{predicted_text}'\")"
      ],
      "metadata": {
        "id": "UBh1yyAOHlZ6",
        "trusted": true
      },
      "outputs": [],
      "execution_count": null
    },
    {
      "cell_type": "markdown",
      "source": [
        "Kết quả ở lần chạy của mình nha.\n",
        "\n",
        "> Văn bản sinh ra: 'sweet jeremy saw dublin wandered for the rocky sentry be their lips lays the'"
      ],
      "metadata": {
        "id": "foPFTeL2MPeZ"
      }
    },
    {
      "cell_type": "markdown",
      "source": [
        "# Improving the Data  \n",
        "### Bây giờ tụi mình tiến hành thử cách cải thiện dữ liệu đầu vào để cải tiến mô hình nha, tăng độ hiệu quả nha. ✨  \n",
        "\n",
        "Sở dĩ mọi người thấy đường **train_accuracy** nhiễu vậy là vì dữ liệu vẫn thiếu đi phần nào đó sự liên kết ngữ cảnh mạch lạc. 🌐  \n",
        "\n",
        "> **Vậy nguyên nhân do đâu mà ra?**  \n",
        "\n",
        "Chính là do cách tiếp cận, chiến lược chia, xử lý dữ liệu của chúng ta trước đó. Trong một bài hát thì các câu hát đều có sự liên kết ngữ cảnh với nhau, đó cũng là cách mà con người tiếp thu. 🎶 Tuy nhiên khi đưa dữ liệu vào huấn luyện cho mô hình, chúng ta đã coi **mỗi câu hát là một dòng độc lập** và tiến hành chia chuỗi con. Chính điều này đã làm cho các câu hát trở nên mất kết nối ngữ cảnh với nhau. 🔗  \n",
        "\n",
        "> **Ok, xác định được gốc vấn đề rồi vậy chúng ta sẽ làm gì tiếp theo đây?**  \n",
        "\n",
        "Câu trả lời là làm sao cho các chuỗi văn bản huấn luyện có chứa một phần của câu trước và câu sau, từ đó giữa các câu sẽ có sự liên kết với nhau. 🧩  \n",
        "\n",
        "Bây giờ thay vì để các câu trong bài hát thành một hàng độc lập, chúng ta sẽ tiến hành **gom tất cả các câu đó lại về chung một hàng. Chúng ta sẽ không chia theo ký tự xuống hàng \"\\n\" nữa mà là theo dấu khoảng cách**  🚀  \n",
        "\n",
        "**Vậy workflow của chúng ta sẽ như sau:**\n",
        "\n",
        "**1. Chia các câu dựa trên cửa sổ trượt:** Chia đoạn văn thành danh sách các từ, sau đó dùng cửa sổ trượt để tạo ra các câu hay chuỗi con. Qua đó ta có thể giữ được sự liên kết ngữ cảnh của các câu với nhau.\n",
        "\n",
        "**2. Tiến hành chia các chuỗi con từ các chuỗi đã chia trước đó:** làm giống như cách ban đâu tuy nhiên thay vì dữ liệu của chúng ta là các câu độc lập thì giờ là các câu đã được tạo ra ở bước 1."
      ],
      "metadata": {
        "id": "LNNKR4SZB9VG"
      }
    },
    {
      "cell_type": "code",
      "source": [
        "# Kiểm tra lại dữ liệu\n",
        "# print(repr(data))"
      ],
      "metadata": {
        "id": "otAJ6Gxc5nlv",
        "trusted": true
      },
      "outputs": [],
      "execution_count": null
    },
    {
      "cell_type": "markdown",
      "source": [
        "Tiến hành chia các câu, chuỗi dựa trên cửa sổ trượt"
      ],
      "metadata": {
        "id": "-BRk1caBJyXg"
      }
    },
    {
      "cell_type": "code",
      "source": [
        "import regex as re\n",
        "# Chia theo khoảng cách thay vì kí tự xuống hàng \"\\n\"\n",
        "window_size = 6\n",
        "\n",
        "# Tiến hành lấy chuôi các từ trong văn bản\n",
        "corpus = data.lower()\n",
        "words = corpus.split(\" \")\n",
        "\n",
        "# Tiến hành chia các câu (chuỗi) dựa trên cửa sổ trượt\n",
        "range_size = len(words) - window_size + 1\n",
        "\n",
        "input_sentences = []\n",
        "for i in range(range_size):\n",
        "  input_sentences.append(\" \".join(words[i:i+window_size]))\n",
        "\n",
        "\n",
        "# Kiểm tra 5 câu (chuỗi) đầu tiên\n",
        "for i in range(5):\n",
        "  print(repr(input_sentences[i]))"
      ],
      "metadata": {
        "id": "AWF2E1v958Eh",
        "trusted": true
      },
      "outputs": [],
      "execution_count": null
    },
    {
      "cell_type": "markdown",
      "source": [
        "**Các câu ở chiến lược chia dữ liệu cũ:**\n",
        ">come all ye maidens young and fair   \n",
        "and you that are blooming in your prime   \n",
        "always beware and keep your garden fair   \n",
        "let no man steal away your thyme   \n",
        "for thyme it is a precious thing   \n",
        "\n",
        "\n",
        "**Các câu chia theo phương pháp cửa sổ trượt:**\n",
        ">come all ye maidens young and   \n",
        "all ye maidens young and fair\\nand   \n",
        "ye maidens young and fair\\nand you   \n",
        "maidens young and fair\\nand you that    \n",
        "young and fair\\nand you that are"
      ],
      "metadata": {
        "id": "QnI46rvLt2Vk"
      }
    },
    {
      "cell_type": "markdown",
      "source": [
        "Bây giờ tụi mình đến với bước 2, tiến hành mã hóa và chia chuỗi con nha."
      ],
      "metadata": {
        "id": "zmh8M-COJrWT"
      }
    },
    {
      "cell_type": "code",
      "source": [
        "# Tạo tokenizer\n",
        "tokenizer = Tokenizer()\n",
        "tokenizer.fit_on_texts(input_sentences)\n",
        "\n",
        "sub_sequences = []\n",
        "# Tiến hành mã hóa và chia chuỗi con\n",
        "for sentence in input_sentences:\n",
        "  token_list = tokenizer.texts_to_sequences([sentence])[0]\n",
        "  for i in range(1, len(token_list)):\n",
        "    n_gram_sequence = token_list[:i+1]\n",
        "    sub_sequences.append(n_gram_sequence)\n",
        "\n",
        "# Kiểm tra 5 chuỗi đầu tiên\n",
        "for i in range(5):\n",
        "  print(sub_sequences[i])"
      ],
      "metadata": {
        "id": "9S6aJ6JGEp6N"
      },
      "outputs": [],
      "execution_count": null
    },
    {
      "cell_type": "code",
      "source": [
        "# Kiểm tra kích thước từ điển\n",
        "print(f\"Tổng số lượng từ: {len(tokenizer.word_index)}\")\n",
        "print(f\"Bộ từ điển từ vựng: {tokenizer.word_index}\")"
      ],
      "metadata": {
        "id": "EFgORcrIHB10",
        "trusted": true
      },
      "outputs": [],
      "execution_count": null
    },
    {
      "cell_type": "code",
      "source": [
        "# Tạo từ điển chuyển số thành từ\n",
        "index_words ={}\n",
        "for word, index in tokenizer.word_index.items():\n",
        "    index_words[index] = word"
      ],
      "metadata": {
        "id": "1_sA4k2iAxvj",
        "trusted": true
      },
      "outputs": [],
      "execution_count": null
    },
    {
      "cell_type": "markdown",
      "source": [
        "Ở đây có một lưu ý nhỏ: vì bản thân tokenizer đã có sẵn một bộ lọc để các kí tự đặc biệt nên các từ nối liền bởi kí tự đặc biệt (ví dụ: \"mother-in-law\" sẽ bị chuyển thành \"mother in law\"). Do đó sẽ có một số chuỗi có kích thước lớn hơn so với cửa sổ trượt. Ta sẽ tiến hành tính lại độ dài chuỗi dài nhất."
      ],
      "metadata": {
        "id": "5l6lBGl4HNUp"
      }
    },
    {
      "cell_type": "code",
      "source": [
        "max_sequence_len = max([len(x) for x in sub_sequences])\n",
        "print(f\"Độ dài chuỗi dài nhất: {max_sequence_len}\")"
      ],
      "metadata": {
        "id": "4NXxTxfyHM1w"
      },
      "outputs": [],
      "execution_count": null
    },
    {
      "cell_type": "markdown",
      "source": [
        "Kết quả là:\n",
        "> Độ dài chuỗi dài nhất: 22\n",
        "\n",
        "Như chúng mình đã dự đoán nhưng không ngờ kích thước nó có thể tăng lên nhiều vậy."
      ],
      "metadata": {
        "id": "5ExmeFzg9qvd"
      }
    },
    {
      "cell_type": "code",
      "source": [
        "# Kiểm tra 5 chuỗi có độ dài lớn hơn cửa sổ trượt.\n",
        "sequences_higher_than_window = []\n",
        "for i in range(len(sub_sequences)):\n",
        "  if len(sub_sequences[i]) > window_size:\n",
        "    sequences_higher_than_window.append(sub_sequences[i])\n",
        "\n",
        "for i in range(5):\n",
        "  print(sequences_higher_than_window[i])"
      ],
      "metadata": {
        "id": "D3zOa44BIbPr"
      },
      "outputs": [],
      "execution_count": null
    },
    {
      "cell_type": "markdown",
      "source": [
        "Bây giờ tụi mình sẽ tiến hành padding để tất cả chuỗi có cùng kích thước, độ dài nha."
      ],
      "metadata": {
        "id": "PGEiY9D1IxOA"
      }
    },
    {
      "cell_type": "code",
      "source": [
        "input_sequences = np.array(pad_sequences(sub_sequences, maxlen=max_sequence_len, padding=\"pre\"))\n",
        "\n",
        "# Chia dữ liệu x và labels để huấn luyện.\n",
        "xs = input_sequences[:,:-1]\n",
        "labels = input_sequences[:,-1]"
      ],
      "metadata": {
        "id": "QQ0JH5xpI6bS"
      },
      "outputs": [],
      "execution_count": null
    },
    {
      "cell_type": "markdown",
      "source": [
        "Tiến hành tạo dataset để tối ưu hóa dữ liệu đẩy vào quá trình huấn luyện"
      ],
      "metadata": {
        "id": "TH_4wehACKF3"
      }
    },
    {
      "cell_type": "code",
      "source": [
        "# Tạo datagen để xủ lý nhanh, tối ưu hóa quá trình huấn luyện hơn\n",
        "# Tạo đối tượng Dataset\n",
        "dataset = tf.data.Dataset.from_tensor_slices((xs, labels))\n",
        "\n",
        "# Tối ưu Dataset với shuffle, batch và prefetch\n",
        "AUTOTUNE = tf.data.AUTOTUNE\n",
        "dataset = (\n",
        "    dataset\n",
        "    .cache(\"train_cache.tfdata\")    # Thay vì lưu dữ liệu vào ram thì lưu hẳn vào disk\n",
        "    .shuffle(buffer_size=1000)      # Trộn dữ liệu\n",
        "    .batch(32)                      # Chia batch (batch_size=32)\n",
        "    .prefetch(buffer_size=AUTOTUNE) # Tải trước dữ liệu\n",
        ")"
      ],
      "metadata": {
        "id": "9E1MISaHXoem",
        "trusted": true
      },
      "outputs": [],
      "execution_count": null
    },
    {
      "cell_type": "markdown",
      "source": [
        "Mình sẽ tiến hành định nghĩa kiến trúc mô hình theo đúng lần thử của tác giả, mọi người có thể linh hoạt thay đổi các siêu tham số liên tục để cải thiện nha.  \n",
        "\n",
        "Tác giả sau khi thử nhiều lần thì có đề xuất:  \n",
        "- **window_size**: 6  \n",
        "- **số chiều embedding**: 16  \n",
        "- **số unit trong LSTMs**: 32  \n",
        "- **tăng tốc độ học-learning rate lên**: tác giả không nói rõ nên mình tạm lấy **0.005** đi. Số mặc định là **0.001**  \n",
        "- **epochs**: 100 bởi số lượng tham số tính toán này là rất lớn. 🚀  "
      ],
      "metadata": {
        "id": "IPZykQp2nwWX"
      }
    },
    {
      "cell_type": "code",
      "source": [
        "total_words = len(tokenizer.word_index) + 1 # vì từ điển bắt đầu từ 1, số 0 được thêm vào như padding"
      ],
      "metadata": {
        "id": "JS-L_59IaBRY",
        "trusted": true
      },
      "outputs": [],
      "execution_count": null
    },
    {
      "cell_type": "code",
      "source": [
        "with strategy.scope():\n",
        "  model3 = Sequential([\n",
        "      Embedding(total_words, 16),\n",
        "      Bidirectional(LSTM(32, return_sequences=True)),\n",
        "      Bidirectional(LSTM(32)),\n",
        "      Dense(total_words, activation=\"softmax\")\n",
        "  ])\n",
        "  adam = Adam(learning_rate=0.01)\n",
        "  model3.compile(loss = 'sparse_categorical_crossentropy', optimizer = adam, metrics = ['accuracy'])"
      ],
      "metadata": {
        "id": "2SBGyebYQuGT",
        "trusted": true
      },
      "outputs": [],
      "execution_count": null
    },
    {
      "cell_type": "code",
      "source": [
        "start_time = time.time()\n",
        "history3 = model3.fit(dataset, epochs = 100, verbose = 0)\n",
        "end_time = time.time()"
      ],
      "metadata": {
        "id": "Z4XR-DCiRE17",
        "trusted": true
      },
      "outputs": [],
      "execution_count": null
    },
    {
      "cell_type": "code",
      "source": [
        "model3.save(\"model3.h5\")"
      ],
      "metadata": {
        "id": "GJQQRopD7Qbg",
        "trusted": true
      },
      "outputs": [],
      "execution_count": null
    },
    {
      "cell_type": "code",
      "source": [
        "print(f\"Thời gian huấn luyện mô hình: {timedelta(seconds=end_time - start_time)}\")"
      ],
      "metadata": {
        "id": "17RgwQEFRHft",
        "trusted": true
      },
      "outputs": [],
      "execution_count": null
    },
    {
      "cell_type": "code",
      "source": [
        "# Vẽ biểu đồ huấn luyện\n",
        "train_acc = history3.history[\"accuracy\"]\n",
        "train_loss = history3.history[\"loss\"]\n",
        "\n",
        "fig, axs = plt.subplots(1, 2, figsize = (12, 4))\n",
        "axs = axs.flatten()\n",
        "axs[0].plot(train_acc)\n",
        "axs[0].set_title(\"Training Accuracy\")\n",
        "axs[1].plot(train_loss, color=\"orange\")\n",
        "axs[1].set_title(\"Training Loss\")\n",
        "plt.tight_layout()\n",
        "plt.show()"
      ],
      "metadata": {
        "id": "xAdcyVxpRI8p",
        "trusted": true
      },
      "outputs": [],
      "execution_count": null
    },
    {
      "cell_type": "markdown",
      "source": [
        "Đây là kết quả ở lần chạy của mình nha.\n",
        "\n",
        "![model3](https://github.com/Tkag0001/AI_and_Machine_Learning_for_Coders/blob/main/images/Chapter_8/model3.png?raw=true)"
      ],
      "metadata": {
        "id": "fl_fls36Lpyu"
      }
    },
    {
      "cell_type": "markdown",
      "source": [
        "Ở đây mọi người thấy giữa các epoch đã ít nhiễu hơn ha. Còn phần đột ngột tụt xuống ở epoch khoảng 85 thì do sự ngẫu nhiên xáo trộn dữ lộn thôi. Ở lần chạy của mọi người có thể không gặp phải đâu nha."
      ],
      "metadata": {
        "id": "DZu2beThLz4B"
      }
    },
    {
      "cell_type": "code",
      "source": [
        "# Đánh giá mô hình\n",
        "model3.evaluate(dataset)"
      ],
      "metadata": {
        "id": "ABtvvjgqRMzE",
        "trusted": true
      },
      "outputs": [],
      "execution_count": null
    },
    {
      "cell_type": "code",
      "source": [
        "# Tải lại mô hình\n",
        "model3 = load_model(\"model3.h5\")"
      ],
      "metadata": {
        "id": "IT-9aZxQHBSv",
        "trusted": true
      },
      "outputs": [],
      "execution_count": null
    },
    {
      "cell_type": "code",
      "source": [
        "# Tiến hành dự đoán\n",
        "seed_text = \"sweet jeremy saw dublin\"\n",
        "num_words = 100\n",
        "predicted_text = seed_text\n",
        "\n",
        "# Vì kích thước đầu vào đã thay đổi theo kích thước cửa sổ\n",
        "# nên ta cũng thay đổi phần cắt dữ liệu đưa vào tí\n",
        "for i in range(num_words):\n",
        "  # Kích thước cửa sổ cắt ra ban đầu là 6 nhưng phải chia từ cuối cho nhãn nên đầu vào là 5\n",
        "  token_list = tokenizer.texts_to_sequences([predicted_text])[0]\n",
        "  # Tiến hành kiểm tra luôn nếu kích thước không đủ thì padding vào hoặc dài quá thì có thể cắt đi\n",
        "  token_list = pad_sequences([token_list], maxlen=max_sequence_len-1, padding=\"pre\")\n",
        "  token_list = np.array(token_list)\n",
        "  predicted_result = model3.predict(token_list)\n",
        "  predicted_index = np.argmax(predicted_result, axis=-1)\n",
        "  output_word = index_words.get(predicted_index[0], \"\") # Nếu index không có trong từ điển, trả về kí tự rỗng như padding\n",
        "\n",
        "  print(f\"Step {i}:\")\n",
        "  print(f\"Từ dự đoán: {output_word} với xác suất {predicted_result[0][predicted_index[0]]*100:2f}%\")\n",
        "  print(\"-\"*50)\n",
        "  predicted_text += \" \" + output_word\n"
      ],
      "metadata": {
        "id": "_eA1ZzADROy_",
        "trusted": true
      },
      "outputs": [],
      "execution_count": null
    },
    {
      "cell_type": "code",
      "source": [
        "print(f\"Văn bản sinh ra: \\n{predicted_text}\")"
      ],
      "metadata": {
        "id": "PykF8WrdTJ05",
        "trusted": true
      },
      "outputs": [],
      "execution_count": null
    },
    {
      "cell_type": "markdown",
      "source": [
        "Kết quả ở lần chạy của mình nha.\n",
        "\n",
        "> Văn bản sinh ra:\n",
        "'sweet jeremy saw dublin was my true love a tower near yon pure crystal fountain and hear in kilkenny and asked me chamber find in divil all us of all de de what all all was de in women more de'"
      ],
      "metadata": {
        "id": "EJ6XFLlxM7tr"
      }
    },
    {
      "cell_type": "markdown",
      "source": [
        "# Character-Based Encoding  \n",
        "### Tụi mình sẽ tiếp cận với việc mã hóa ở cấp kí tự nha.  \n",
        "\n",
        "Nếu như ở các chương trước chúng ta thường hay sử dụng mã hóa ở cấp từ thì ở chương này chúng ta cần phải xem xét lại. Với một lượng văn bản khổng lồ như này, kích thước bộ từ điển từ cũng sẽ rất là lớn. Khi đến với tác vụ tạo sinh văn bản, chẳng phải đầu của mô hình bằng với kích thước bộ từ điển và nó thật sự là một con số choáng ngợp.  \n",
        "\n",
        "Trong khi đó nếu ta sử dụng mã hóa ở cấp kí tự thì kích thước bộ từ điển sẽ nhỏ hơn rất nhiều, đầu ra mà mô hình cũng ít hơn. Thậm chí thấp hơn cả trăm lần. ✨  \n",
        "\n",
        "**VD**: Chúng ta có một bộ dữ liệu văn bản:  \n",
        "- Khi mã hóa ở cấp từ, bộ từ điển của chúng ta có kích thước là **2700** tương ứng với 2700 từ riêng biệt.  \n",
        "- Tuy nhiên khi mã hóa ở cấp kí tự thì kích thước từ điển chỉ còn **48**, nhỏ hơn rất là nhiều, mô hình cũng chỉ cần dự đoán đầu ra là **48 nhãn** thay vì **2700** như trước.  \n",
        "\n",
        "Qua cách mã hóa dữ liệu trên thì mô hình của chúng ta sẽ đơn giản hơn rất nhiều, ngoài ra cũng có thể chứa các kí tự đặc biệt. 🚀  \n",
        "\n",
        "***Lưu ý: Ở đây mình sử dụng bộ dữ liệu irish-lyrics-eof.txt nha tại bộ dữ liệu \"The Complete Works of William Shakespeare\" mà tác giả sử dụng quá lớn, ước tính gấp gần 10 lần bộ irish lyrics. Mình có thử train nhưng qua 10 tiếng vẫn chưa xong được, mới đến epoch 7. Dữ liệu mà chúng ta tiền xử lý và tạo ra cũng vượt qua ngưỡng 12GB trên ram.***"
      ],
      "metadata": {
        "id": "UkZ0nLZ8diuv"
      }
    },
    {
      "cell_type": "code",
      "source": [
        "import kagglehub\n",
        "\n",
        "# Download latest version\n",
        "path = kagglehub.dataset_download(\"jamzhu/irishlyricseof\")\n",
        "\n",
        "print(\"Path to dataset files:\", path)"
      ],
      "metadata": {
        "id": "CnwJB1vtLunZ"
      },
      "outputs": [],
      "execution_count": null
    },
    {
      "cell_type": "code",
      "source": [
        "# Liệt kê danh sách file\n",
        "for f in os.listdir(path):\n",
        "  print(f)"
      ],
      "metadata": {
        "id": "GdZ1qbPmMRSH"
      },
      "outputs": [],
      "execution_count": null
    },
    {
      "cell_type": "code",
      "source": [
        "# Load dữ liệu vào\n",
        "# data = open(\"/kaggle/input/irishlyricseof/irish-lyrics-eof.txt\", \"r\").read()\n",
        "data = open(os.path.join(path, \"irish-lyrics-eof.txt\"), \"r\").read()\n",
        "# Kiểm tra dữ liệu\n",
        "print(data[:120])"
      ],
      "metadata": {
        "id": "REwsNOH6MIac",
        "trusted": true,
        "execution": {
          "iopub.status.busy": "2024-12-28T15:03:00.188866Z",
          "iopub.execute_input": "2024-12-28T15:03:00.189163Z",
          "iopub.status.idle": "2024-12-28T15:03:00.205096Z",
          "shell.execute_reply.started": "2024-12-28T15:03:00.189119Z",
          "shell.execute_reply": "2024-12-28T15:03:00.204432Z"
        }
      },
      "outputs": [],
      "execution_count": null
    },
    {
      "cell_type": "code",
      "source": [
        "len(data)"
      ],
      "metadata": {
        "trusted": true,
        "execution": {
          "iopub.status.busy": "2024-12-28T15:03:00.206235Z",
          "iopub.execute_input": "2024-12-28T15:03:00.206533Z",
          "iopub.status.idle": "2024-12-28T15:03:00.211727Z",
          "shell.execute_reply.started": "2024-12-28T15:03:00.206505Z",
          "shell.execute_reply": "2024-12-28T15:03:00.210924Z"
        },
        "id": "OvK7zg55GLro"
      },
      "outputs": [],
      "execution_count": null
    },
    {
      "cell_type": "code",
      "source": [
        "# Tiến hành chia câu dựa trên cửa sổ trượt\n",
        "window_size = 65\n",
        "corpus = data.lower()\n",
        "\n",
        "# Lấy danh sách kí tự\n",
        "characters = list(corpus)\n",
        "# print(characters)\n",
        "\n",
        "# Chia câu (chuỗi) dựa trên cửa sổ trượt\n",
        "range_size = len(characters) - window_size + 1\n",
        "input_sentences = []\n",
        "for i in range(range_size):\n",
        "  input_sentences.append(\"\".join(characters[i:i+window_size]))\n",
        "\n",
        "# Kiểm tra 5 câu (chuỗi) đầu tiên:\n",
        "for i in range(5):\n",
        "  print(repr(input_sentences[i]))"
      ],
      "metadata": {
        "id": "2iMBBlmNMfQ1",
        "trusted": true,
        "execution": {
          "iopub.status.busy": "2024-12-28T15:03:00.213153Z",
          "iopub.execute_input": "2024-12-28T15:03:00.213404Z",
          "iopub.status.idle": "2024-12-28T15:03:00.300592Z",
          "shell.execute_reply.started": "2024-12-28T15:03:00.213378Z",
          "shell.execute_reply": "2024-12-28T15:03:00.300000Z"
        }
      },
      "outputs": [],
      "execution_count": null
    },
    {
      "cell_type": "code",
      "source": [
        "import pickle\n",
        "\n",
        "# Tiến hành tạo bộ mã hóa cấp kí tự\n",
        "tokenizer = Tokenizer(char_level=True)\n",
        "tokenizer.fit_on_texts(input_sentences)\n"
      ],
      "metadata": {
        "id": "BunmodZQNtEY",
        "trusted": true,
        "execution": {
          "iopub.status.busy": "2024-12-28T15:03:00.301631Z",
          "iopub.execute_input": "2024-12-28T15:03:00.301897Z",
          "iopub.status.idle": "2024-12-28T15:03:01.292485Z",
          "shell.execute_reply.started": "2024-12-28T15:03:00.301870Z",
          "shell.execute_reply": "2024-12-28T15:03:01.291818Z"
        }
      },
      "outputs": [],
      "execution_count": null
    },
    {
      "cell_type": "code",
      "source": [
        "print(f\"Tổng số lượng kí tự: {len(tokenizer.word_index)}\")\n",
        "print(f\"Bộ từ điển từ vựng: {tokenizer.word_index}\")"
      ],
      "metadata": {
        "id": "3PB_cfGIUNj7",
        "trusted": true,
        "execution": {
          "iopub.status.busy": "2024-12-28T15:03:01.293174Z",
          "iopub.execute_input": "2024-12-28T15:03:01.293378Z",
          "iopub.status.idle": "2024-12-28T15:03:01.297797Z",
          "shell.execute_reply.started": "2024-12-28T15:03:01.293360Z",
          "shell.execute_reply": "2024-12-28T15:03:01.297008Z"
        }
      },
      "outputs": [],
      "execution_count": null
    },
    {
      "cell_type": "code",
      "source": [
        "# Tạo bộ từ điển chuyển đổi\n",
        "index_words = {}\n",
        "for word, index in tokenizer.word_index.items():\n",
        "  index_words[index] = word"
      ],
      "metadata": {
        "trusted": true,
        "execution": {
          "iopub.status.busy": "2024-12-28T15:03:01.299571Z",
          "iopub.execute_input": "2024-12-28T15:03:01.299784Z",
          "iopub.status.idle": "2024-12-28T15:03:01.313485Z",
          "shell.execute_reply.started": "2024-12-28T15:03:01.299741Z",
          "shell.execute_reply": "2024-12-28T15:03:01.312886Z"
        },
        "id": "cpgz1jU8GLro"
      },
      "outputs": [],
      "execution_count": null
    },
    {
      "cell_type": "markdown",
      "source": [
        "Ở đây tụi mình sẽ có 2 cách chia dữ liệu, tạo dataset nha.\n",
        "\n",
        "**Cách 1:** Chỉ dùng cửa sổ trượt tạo dữ liệu.\n",
        "\n",
        "**Cách 2:** Làm cách 1 và làm thêm cả bước tạo chuỗi con.\n",
        "\n",
        "> **Tại sao mình lại để 2 cách trên?**\n",
        "\n",
        "**Câu trả lời là:** Vì bộ dữ liệu quá lớn, ở cách 2 mình đã dùng 10 tiếng để huấn luyện nhưng vẫn chỉ đến được epoch 8. Về cơ bản vẫn huấn luyện được nhưng lượng thời gian quá lâu nên mình tạm thời vẫn chưa thể xuất ra kết quả cách 2 được nên mình tạm tiến hành huấn luyện trên dữ liệu ở cách 1 nha."
      ],
      "metadata": {
        "id": "HWMH-WSeYNXk"
      }
    },
    {
      "cell_type": "code",
      "source": [
        "max_sequence_len = 0\n",
        "\n",
        "input_sequences = []\n",
        "\n",
        "for sentence in input_sentences:\n",
        "    token_list = tokenizer.texts_to_sequences([sentence])[0]\n",
        "    if len(token_list) > max_sequence_len:\n",
        "      max_sequence_len = len(token_list)\n",
        "    input_sequences.append(token_list)"
      ],
      "metadata": {
        "trusted": true,
        "execution": {
          "iopub.status.busy": "2024-12-28T15:03:01.314430Z",
          "iopub.execute_input": "2024-12-28T15:03:01.314664Z",
          "iopub.status.idle": "2024-12-28T15:03:02.059196Z",
          "shell.execute_reply.started": "2024-12-28T15:03:01.314645Z",
          "shell.execute_reply": "2024-12-28T15:03:02.058503Z"
        },
        "id": "gk70avwkGLrp"
      },
      "outputs": [],
      "execution_count": null
    },
    {
      "cell_type": "code",
      "source": [
        "print(\"Độ dài tối đa của chuỗi: \", max_sequence_len)"
      ],
      "metadata": {
        "trusted": true,
        "id": "y7VK7hjvGLrp"
      },
      "outputs": [],
      "execution_count": null
    },
    {
      "cell_type": "code",
      "source": [
        "input_sequences = np.array(pad_sequences(input_sequences, maxlen=max_sequence_len, padding=\"pre\"))"
      ],
      "metadata": {
        "trusted": true,
        "execution": {
          "iopub.status.busy": "2024-12-28T15:03:02.059953Z",
          "iopub.execute_input": "2024-12-28T15:03:02.060289Z",
          "iopub.status.idle": "2024-12-28T15:03:02.350901Z",
          "shell.execute_reply.started": "2024-12-28T15:03:02.060256Z",
          "shell.execute_reply": "2024-12-28T15:03:02.350225Z"
        },
        "id": "E73qP6slGLrp"
      },
      "outputs": [],
      "execution_count": null
    },
    {
      "cell_type": "code",
      "source": [
        "xs = input_sequences[:,:-1]\n",
        "labels = input_sequences[:,-1]"
      ],
      "metadata": {
        "trusted": true,
        "execution": {
          "iopub.status.busy": "2024-12-28T15:03:02.351708Z",
          "iopub.execute_input": "2024-12-28T15:03:02.351940Z",
          "iopub.status.idle": "2024-12-28T15:03:02.355643Z",
          "shell.execute_reply.started": "2024-12-28T15:03:02.351919Z",
          "shell.execute_reply": "2024-12-28T15:03:02.354809Z"
        },
        "id": "K9ZbsqprGLrp"
      },
      "outputs": [],
      "execution_count": null
    },
    {
      "cell_type": "code",
      "source": [
        "dataset = tf.data.Dataset.from_tensor_slices((xs, labels))\n",
        "\n",
        "# Tối ưu Dataset với shuffle, batch và prefetch\n",
        "AUTOTUNE = tf.data.AUTOTUNE\n",
        "dataset = (\n",
        "    dataset\n",
        "    .cache(\"train_cache.tfdata\")    # Thay vì lưu dữ liệu vào ram thì lưu hẳn vào disk\n",
        "    .shuffle(buffer_size=1000)      # Trộn dữ liệu\n",
        "    .batch(32)                      # Chia batch (batch_size=32)\n",
        "    .prefetch(buffer_size=AUTOTUNE) # Tải trước dữ liệu\n",
        ")"
      ],
      "metadata": {
        "trusted": true,
        "execution": {
          "iopub.status.busy": "2024-12-28T15:03:02.356665Z",
          "iopub.execute_input": "2024-12-28T15:03:02.356899Z",
          "iopub.status.idle": "2024-12-28T15:03:02.396744Z",
          "shell.execute_reply.started": "2024-12-28T15:03:02.356880Z",
          "shell.execute_reply": "2024-12-28T15:03:02.396169Z"
        },
        "id": "tZBLni0xGLrp"
      },
      "outputs": [],
      "execution_count": null
    },
    {
      "cell_type": "markdown",
      "source": [
        "Dưới này là đoạn code để tạo dữ liệu cách 2 nha. Vì bộ dữ liệu quá lớn nên chúng ta sẽ tiến hành thêm dữ liệu từ từ vào file pickle."
      ],
      "metadata": {
        "id": "HpckbXQCGLrp"
      }
    },
    {
      "cell_type": "code",
      "source": [
        "\n",
        "# # Tạo file tạm để lưu dữ liệu\n",
        "# temp_file = \"sub_sequences_temp.pkl\"\n",
        "# max_sequence_len = 0\n",
        "\n",
        "# # input_sequences = []\n",
        "\n",
        "# with open(temp_file, \"wb\") as f:\n",
        "#   for sentence in input_sentences:\n",
        "#     token_list = tokenizer.texts_to_sequences([sentence])[0]\n",
        "#     if len(token_list) > max_sequence_len:\n",
        "#         max_sequence_len = len(token_list)\n",
        "#     for i in range(1, len(token_list)):\n",
        "#         n_gram_sequence = token_list[:i+1]\n",
        "#         pickle.dump(n_gram_sequence, f)\n",
        "\n",
        "# print(f\"Độ dài chuỗi dài nhất: {max_sequence_len}\")"
      ],
      "metadata": {
        "id": "vKcsonfbUPcw",
        "trusted": true,
        "execution": {
          "iopub.status.busy": "2024-12-28T15:03:02.397456Z",
          "iopub.execute_input": "2024-12-28T15:03:02.397641Z",
          "iopub.status.idle": "2024-12-28T15:03:02.400810Z",
          "shell.execute_reply.started": "2024-12-28T15:03:02.397621Z",
          "shell.execute_reply": "2024-12-28T15:03:02.400033Z"
        }
      },
      "outputs": [],
      "execution_count": null
    },
    {
      "cell_type": "code",
      "source": [
        "temp_file = \"/kaggle/working/sub_sequences_temp.pkl\"\n",
        "def read_sequences_in_batches(file_path, batch_size):\n",
        "    \"\"\"\n",
        "    Hàm generator đọc dữ liệu từ file Pickle theo từng batch.\n",
        "    \"\"\"\n",
        "    with open(file_path, \"rb\") as f:\n",
        "        batch = []\n",
        "        while True:\n",
        "            try:\n",
        "                # Đọc từng chuỗi\n",
        "                token_list = pickle.load(f)\n",
        "                batch.append(token_list)\n",
        "                # Nếu đủ batch size, yield batch và khởi tạo lại\n",
        "                if len(batch) == batch_size:\n",
        "                    yield batch\n",
        "                    batch = []\n",
        "            except EOFError:\n",
        "                # Trả về batch cuối cùng nếu còn dữ liệu\n",
        "                if batch:\n",
        "                    yield batch\n",
        "                break"
      ],
      "metadata": {
        "id": "FxHjXDFme2Gw",
        "trusted": true,
        "execution": {
          "iopub.status.busy": "2024-12-28T15:03:02.401583Z",
          "iopub.execute_input": "2024-12-28T15:03:02.401866Z",
          "iopub.status.idle": "2024-12-28T15:03:02.418777Z",
          "shell.execute_reply.started": "2024-12-28T15:03:02.401836Z",
          "shell.execute_reply": "2024-12-28T15:03:02.418204Z"
        }
      },
      "outputs": [],
      "execution_count": null
    },
    {
      "cell_type": "code",
      "source": [
        "def process_batch(batch, max_seq_length):\n",
        "    \"\"\"\n",
        "    Pad các chuỗi và tách X (input), labels (output).\n",
        "    \"\"\"\n",
        "    # Pad các chuỗi đến chiều dài tối đa\n",
        "    padded_batch = pad_sequences(batch, maxlen=max_seq_length, padding='pre')\n",
        "\n",
        "    # Tách X và labels\n",
        "    X = padded_batch[:, :-1]  # Tất cả trừ phần tử cuối\n",
        "    labels = padded_batch[:, -1]  # Phần tử cuối cùng làm nhãn\n",
        "    return X, labels"
      ],
      "metadata": {
        "id": "bkcQWUNPe9MR",
        "trusted": true,
        "execution": {
          "iopub.status.busy": "2024-12-28T15:03:02.419462Z",
          "iopub.execute_input": "2024-12-28T15:03:02.419702Z",
          "iopub.status.idle": "2024-12-28T15:03:02.441348Z",
          "shell.execute_reply.started": "2024-12-28T15:03:02.419682Z",
          "shell.execute_reply": "2024-12-28T15:03:02.440588Z"
        }
      },
      "outputs": [],
      "execution_count": null
    },
    {
      "cell_type": "code",
      "source": [
        "def data_generator(file_path, batch_size, max_seq_length):\n",
        "    for batch in read_sequences_in_batches(file_path, batch_size):\n",
        "        X, labels = process_batch(batch, max_seq_length)\n",
        "        yield X, labels"
      ],
      "metadata": {
        "id": "1NzkFZtefsmT",
        "trusted": true,
        "execution": {
          "iopub.status.busy": "2024-12-28T15:03:02.443584Z",
          "iopub.execute_input": "2024-12-28T15:03:02.443836Z",
          "iopub.status.idle": "2024-12-28T15:03:02.458027Z",
          "shell.execute_reply.started": "2024-12-28T15:03:02.443797Z",
          "shell.execute_reply": "2024-12-28T15:03:02.457494Z"
        }
      },
      "outputs": [],
      "execution_count": null
    },
    {
      "cell_type": "markdown",
      "source": [
        "Nếu mọi người muốn chạy thử phần dataset có chia theo chuỗi con thì mở comment và chạy tiếp đoạn code dưới đây nha. Chúng sẽ tạo luồng để tiến hành huấn luyện dữ liệu từ file pickle.\n",
        "\n",
        "Lưu ý: cách này không phải là lấy toàn bộ dữ liệu từ file pickle nha nên không cần lo sẽ bị tràn ram."
      ],
      "metadata": {
        "id": "GjewegUYGLrq"
      }
    },
    {
      "cell_type": "code",
      "source": [
        "# temp_file = \"/kaggle/working/sub_sequences_temp.pkl\"\n",
        "# batch_size = 16\n",
        "# dataset = tf.data.Dataset.from_generator(\n",
        "#     lambda: data_generator(temp_file, batch_size, max_sequence_len),\n",
        "#     output_signature=(\n",
        "#         tf.TensorSpec(shape=(None, max_sequence_len - 1), dtype=tf.int32),  # X\n",
        "#         tf.TensorSpec(shape=(None,), dtype=tf.int32)  # labels\n",
        "#     )\n",
        "# )\n",
        "\n",
        "# # Prefetch để tăng hiệu suất\n",
        "# dataset = dataset.cache(\"train_cache.tfdata\").prefetch(tf.data.experimental.AUTOTUNE)\n",
        "\n"
      ],
      "metadata": {
        "trusted": true,
        "execution": {
          "iopub.status.busy": "2024-12-28T15:03:02.459381Z",
          "iopub.execute_input": "2024-12-28T15:03:02.459642Z",
          "iopub.status.idle": "2024-12-28T15:03:02.474057Z",
          "shell.execute_reply.started": "2024-12-28T15:03:02.459614Z",
          "shell.execute_reply": "2024-12-28T15:03:02.473318Z"
        },
        "id": "4LCLrgOzGLrq"
      },
      "outputs": [],
      "execution_count": null
    },
    {
      "cell_type": "code",
      "source": [
        "# Kiểm tra số lượng kí tự tối đa\n",
        "total_words = len(tokenizer.word_index) + 1\n",
        "print(f\"Số lượng kí tự: {total_words}\")"
      ],
      "metadata": {
        "id": "6Z6XxkOd7NCM",
        "trusted": true,
        "execution": {
          "iopub.status.busy": "2024-12-28T15:03:02.474853Z",
          "iopub.execute_input": "2024-12-28T15:03:02.475081Z",
          "iopub.status.idle": "2024-12-28T15:03:02.493095Z",
          "shell.execute_reply.started": "2024-12-28T15:03:02.475053Z",
          "shell.execute_reply": "2024-12-28T15:03:02.492487Z"
        }
      },
      "outputs": [],
      "execution_count": null
    },
    {
      "cell_type": "markdown",
      "source": [
        "Uầy vậy là số lượng nhãn đầu ra mà mô hình phải dự đoán đã thấp hơn rất nhiều rồi, chỉ 66 kí tự. Bây giờ tụi mình tiến hành định nghĩa và huấn luyện mô hình thử nha."
      ],
      "metadata": {
        "id": "GgB-oFNmiFwK"
      }
    },
    {
      "cell_type": "code",
      "source": [
        "# Định nghĩa mô hình\n",
        "with strategy.scope():\n",
        "  model4 = Sequential([\n",
        "      Embedding(total_words, 16),\n",
        "      Bidirectional(LSTM(32, return_sequences=True)),\n",
        "      Bidirectional(LSTM(32)),\n",
        "      Dense(total_words, activation=\"softmax\")\n",
        "  ])\n",
        "  adam = Adam(learning_rate=0.01)\n",
        "  model4.compile(loss = 'sparse_categorical_crossentropy', optimizer = adam, metrics = ['accuracy'])"
      ],
      "metadata": {
        "id": "yQfaeQaz72L-",
        "trusted": true,
        "execution": {
          "iopub.status.busy": "2024-12-28T15:08:56.099743Z",
          "iopub.execute_input": "2024-12-28T15:08:56.100020Z",
          "iopub.status.idle": "2024-12-28T15:08:56.146793Z",
          "shell.execute_reply.started": "2024-12-28T15:08:56.099998Z",
          "shell.execute_reply": "2024-12-28T15:08:56.146205Z"
        }
      },
      "outputs": [],
      "execution_count": null
    },
    {
      "cell_type": "code",
      "source": [
        "model4.summary()"
      ],
      "metadata": {
        "id": "0egK2V0mA5ts",
        "trusted": true,
        "execution": {
          "iopub.status.busy": "2024-12-28T15:03:02.588987Z",
          "iopub.execute_input": "2024-12-28T15:03:02.589301Z",
          "iopub.status.idle": "2024-12-28T15:03:02.604303Z",
          "shell.execute_reply.started": "2024-12-28T15:03:02.589255Z",
          "shell.execute_reply": "2024-12-28T15:03:02.603647Z"
        }
      },
      "outputs": [],
      "execution_count": null
    },
    {
      "cell_type": "code",
      "source": [
        "start_time = time.time()\n",
        "history4 = model4.fit(dataset, epochs = 100, verbose = 1)\n",
        "end_time = time.time()"
      ],
      "metadata": {
        "id": "I7MPVbZS8AMA",
        "trusted": true,
        "execution": {
          "iopub.status.busy": "2024-12-28T15:08:58.603152Z",
          "iopub.execute_input": "2024-12-28T15:08:58.603477Z",
          "iopub.status.idle": "2024-12-28T16:22:32.507027Z",
          "shell.execute_reply.started": "2024-12-28T15:08:58.603449Z",
          "shell.execute_reply": "2024-12-28T16:22:32.506200Z"
        }
      },
      "outputs": [],
      "execution_count": null
    },
    {
      "cell_type": "code",
      "source": [
        "model4.save(\"model4.h5\")"
      ],
      "metadata": {
        "id": "VkqHVuCl7Wgt",
        "trusted": true,
        "execution": {
          "iopub.status.busy": "2024-12-28T16:22:32.508431Z",
          "iopub.execute_input": "2024-12-28T16:22:32.508651Z",
          "iopub.status.idle": "2024-12-28T16:22:32.581902Z",
          "shell.execute_reply.started": "2024-12-28T16:22:32.508632Z",
          "shell.execute_reply": "2024-12-28T16:22:32.581216Z"
        }
      },
      "outputs": [],
      "execution_count": null
    },
    {
      "cell_type": "code",
      "source": [
        "print(f\"Thời gian huấn luyện mô hình: {timedelta(seconds=end_time - start_time)}\")"
      ],
      "metadata": {
        "id": "al72VLFa8SME",
        "trusted": true,
        "execution": {
          "iopub.status.busy": "2024-12-28T16:22:32.583536Z",
          "iopub.execute_input": "2024-12-28T16:22:32.583822Z",
          "iopub.status.idle": "2024-12-28T16:22:32.588565Z",
          "shell.execute_reply.started": "2024-12-28T16:22:32.583798Z",
          "shell.execute_reply": "2024-12-28T16:22:32.587461Z"
        }
      },
      "outputs": [],
      "execution_count": null
    },
    {
      "cell_type": "code",
      "source": [
        "# Vẽ biểu đồ quá trình huấn luyện\n",
        "train_acc = history4.history[\"accuracy\"]\n",
        "train_loss = history4.history[\"loss\"]\n",
        "\n",
        "fig,axs = plt.subplots(1, 2, figsize = (12, 4))\n",
        "axs = axs.flatten()\n",
        "axs[0].plot(train_acc)\n",
        "axs[0].set_title(\"Training Accuracy\")\n",
        "axs[1].plot(train_loss, color=\"orange\")\n",
        "axs[1].set_title(\"Training Loss\")\n",
        "plt.tight_layout()\n",
        "plt.show()"
      ],
      "metadata": {
        "id": "S5xK6oNW8UUS",
        "trusted": true,
        "execution": {
          "iopub.status.busy": "2024-12-28T16:24:42.941357Z",
          "iopub.execute_input": "2024-12-28T16:24:42.941665Z",
          "iopub.status.idle": "2024-12-28T16:24:43.506296Z",
          "shell.execute_reply.started": "2024-12-28T16:24:42.941641Z",
          "shell.execute_reply": "2024-12-28T16:24:43.505441Z"
        }
      },
      "outputs": [],
      "execution_count": null
    },
    {
      "cell_type": "markdown",
      "source": [
        "Đây là kết quả ở lần chạy của mình nha.\n",
        "\n",
        "![model4](https://github.com/Tkag0001/AI_and_Machine_Learning_for_Coders/blob/main/images/Chapter_8/model4.jpg?raw=true)"
      ],
      "metadata": {
        "id": "u-OsiqcWTRK5"
      }
    },
    {
      "cell_type": "code",
      "source": [
        "model4.evaluate(dataset)"
      ],
      "metadata": {
        "id": "DSSahWnHA4yt",
        "trusted": true,
        "execution": {
          "iopub.status.busy": "2024-12-28T16:25:19.693935Z",
          "iopub.execute_input": "2024-12-28T16:25:19.694278Z",
          "iopub.status.idle": "2024-12-28T16:25:37.188042Z",
          "shell.execute_reply.started": "2024-12-28T16:25:19.694249Z",
          "shell.execute_reply": "2024-12-28T16:25:37.187394Z"
        }
      },
      "outputs": [],
      "execution_count": null
    },
    {
      "cell_type": "code",
      "source": [
        "# Cập nhật trọng số từ mô hình đã lưu\n",
        "model4 = load_model('model4.h5')"
      ],
      "metadata": {
        "id": "8Y6lTIs2AQ2U",
        "trusted": true,
        "execution": {
          "iopub.status.busy": "2024-12-28T16:26:00.928521Z",
          "iopub.execute_input": "2024-12-28T16:26:00.928864Z",
          "iopub.status.idle": "2024-12-28T16:26:01.198937Z",
          "shell.execute_reply.started": "2024-12-28T16:26:00.928836Z",
          "shell.execute_reply": "2024-12-28T16:26:01.198328Z"
        }
      },
      "outputs": [],
      "execution_count": null
    },
    {
      "cell_type": "code",
      "source": [
        "# Tiến hành dự đoán\n",
        "seed_text = \"\"\"YGRITTE:\n",
        " You know nothing, Jon Snow.\n",
        " Good night, we’ll prove those body’s servants to\n",
        " \"\"\"\n",
        "\n",
        "num_words = 1000\n",
        "predicted_text = seed_text\n",
        "\n",
        "# Vì kích thước đầu vào đã thay đổi theo kích thước cửa sổ\n",
        "# nên ta cũng thay đổi phần cắt dữ liệu đưa vào tí\n",
        "for i in range(num_words):\n",
        "  # Kích thước cửa sổ cắt ra ban đầu là 6 nhưng phải chia từ cuối cho nhãn nên đầu vào là 5\n",
        "  token_list = tokenizer.texts_to_sequences([predicted_text])[0]\n",
        "  # Tiến hành kiểm tra luôn nếu kích thước không đủ thì padding vào hoặc dài quá thì có thể cắt đi\n",
        "  token_list = pad_sequences([token_list], maxlen=window_size-1, padding=\"pre\")\n",
        "  token_list = np.array(token_list)\n",
        "  predicted_result = model4.predict(token_list)\n",
        "  predicted_index = np.argmax(predicted_result, axis=-1)\n",
        "  output_char = index_words.get(predicted_index[0], \"\")\n",
        "\n",
        "  print(f\"Step {i}:\")\n",
        "  print(f\"Từ dự đoán: {output_char} với xác suất {predicted_result[0][predicted_index[0]]*100:2f}%\")\n",
        "  print(\"-\"*50)\n",
        "  predicted_text += output_char\n"
      ],
      "metadata": {
        "id": "OcJsdx5WE1JU",
        "trusted": true,
        "execution": {
          "iopub.status.busy": "2024-12-28T16:26:04.001432Z",
          "iopub.execute_input": "2024-12-28T16:26:04.001805Z"
        }
      },
      "outputs": [],
      "execution_count": null
    },
    {
      "cell_type": "code",
      "source": [
        "print(\"Văn bản sinh ra:\")\n",
        "print(predicted_text)"
      ],
      "metadata": {
        "id": "h7UaPsBUc5vo",
        "trusted": true,
        "execution": {
          "iopub.status.busy": "2024-12-28T15:08:53.089168Z",
          "iopub.status.idle": "2024-12-28T15:08:53.089552Z",
          "shell.execute_reply": "2024-12-28T15:08:53.089388Z"
        }
      },
      "outputs": [],
      "execution_count": null
    },
    {
      "cell_type": "markdown",
      "source": [
        "Kết quả ở lần chạy của mình nha.\n",
        "\n",
        "> YGRITTE:\n",
        " You know nothing, Jon Snow.\n",
        " Good night, we’ll prove those body’s servants to\n",
        " the love the love the love the love the love the love the love the love the love the love the love the love the love the love the love the love the love the love the love the love the love the love the love the love the love the love the love the love the love the love the love the love the love the love the love the love the love the love the love the love the love the love the love the love the love the love the love the love the love the love the love the love the love the love the love the love the love the love the love the love the love the love the love the love the love the love the love the love the love the love the love the love the love the love the love the love the love the love the love the love the love the love the love the love the love the love the love the love the love the love the love the love the love the love the love the love the love the love the love the love the love the love the love the love the love the love the love the love the love the love the love t"
      ],
      "metadata": {
        "id": "Sce6sechNLr9"
      }
    },
    {
      "cell_type": "markdown",
      "source": [
        "Đây cũng là điểm mà mình thấy khó hiểu nhất. Theo như trong sách thì tác giả nói phương pháp huấn luyện ở cấp kí tự này sẽ hiệu quả và đáng kinh ngạc hơn rất nhiều.\n",
        "\n",
        "Thông qua việc học dựa trên cấp kí tự, mô hình có thể học được cả các kí tự đặc biệt, kí hiệu xuống hàng.\n",
        "\n",
        "Tuy nhiên ở kết quả tạo ra, chúng ta lại thấy khá tệ. Mình nghĩ một phần lý do như sau:\n",
        "\n",
        "1. Chúng đến từ việc chia dữ liệu của mình vì chúng ta chỉ làm theo cách 1 nên lượng dữ liệu để huấn luyện đã ít hơn nhiều dẫn đến mô hình cho ra độ hiệu quả kém hơn hẳn.\n",
        "\n",
        "2. Tụi mình sử dụng bộ dữ liệu Irish song thay vì bộ dữ liệu của Shakespear. Khi mình kiểm tra thì bộ dữ liệu Shakespear nặng hơn gần 10 lần."
      ],
      "metadata": {
        "id": "IzOkR8wqNebE"
      }
    },
    {
      "cell_type": "markdown",
      "source": [
        "# Tổng kết chương 8 ( •̀ ω •́ )✧\n",
        "\n",
        "Tụi mình đã lượn một vòng qua các văn bản và học cách tiền xử lý dữ liệu huấn luyện và tạo/sinh văn bản ở cấp độ thô sơ.\n",
        "\n",
        "- Tiền xử lý, chia dữ liệu huấn luyện bằng cửa sổ trượt.\n",
        "- Các cách tiếp cận mã hóa dữ liệu huấn luyện ở cấp từ và cấp kí tự."
      ],
      "metadata": {
        "id": "c4PirJTBRjYD"
      }
    }
  ]
}