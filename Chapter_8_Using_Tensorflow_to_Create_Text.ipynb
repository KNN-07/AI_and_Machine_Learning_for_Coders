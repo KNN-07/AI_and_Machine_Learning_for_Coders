{
  "cells": [
    {
      "cell_type": "markdown",
      "metadata": {
        "id": "view-in-github",
        "colab_type": "text"
      },
      "source": [
        "<a href=\"https://colab.research.google.com/github/Tkag0001/AI_and_Machine_Learning_for_Coders/blob/main/Chapter_8_Using_Tensorflow_to_Create_Text.ipynb\" target=\"_parent\"><img src=\"https://colab.research.google.com/assets/colab-badge.svg\" alt=\"Open In Colab\"/></a>"
      ]
    },
    {
      "cell_type": "markdown",
      "metadata": {
        "id": "yooo41ZlEgpM"
      },
      "source": [
        "# Chapter 8: Using Tensorflow to Create Text  \n",
        "### Hi, chào mọi người, tụi mình lại gặp nhau rồi 🌻.  \n",
        "### Trong chương này tụi mình sẽ tìm hiểu về cách sử dụng các mô hình để tạo ra văn bản. Nói nôm na là giống như cách mà các chatbot hiện tại tạo ra câu trả lời cho mọi người á. Nhưng cái này ở cấp độ sơ khai hơn. 😊  "
      ]
    },
    {
      "cell_type": "markdown",
      "metadata": {
        "id": "jrzNuwTVGAiL"
      },
      "source": [
        "![predictext](https://cgupta.tech/images/rnn_representative.png)"
      ]
    },
    {
      "cell_type": "markdown",
      "metadata": {
        "id": "0OpPX-_LILXF"
      },
      "source": [
        "Như mọi người thấy ở bức hình trên, đây là cơ chế chính của tính năng tạo văn bản trong chương này.  \n",
        "\n",
        "Trước khi đi vào phân tích nó thì chúng ta cùng ôn lại các chương trước tí nhá. 😊  \n",
        "\n",
        "---\n",
        "\n",
        "- Ở **chương 5**, mọi người tìm hiểu về cơ chế **Tokenize** để tách văn bản, tạo từ điển, mã hóa ở cấp từ hay ký tự rồi thêm bộ đệm hay padding vào.  \n",
        "\n",
        "- Sang đến **chương 6**, chúng ta tìm hiểu về cơ chế **Embedding - Vector biểu diễn** trên các chiều không gian cao hơn.  \n",
        "\n",
        "- Và gần đây nhất là **chương 7**, tìm hiểu về mạng hồi quy **RNN** và lớp **LSTM** qua đó cải thiện khả năng hiểu ngữ nghĩa theo trình tự của chuỗi.  \n",
        "\n",
        "Bây giờ đến với **chương 8**, tụi mình sẽ tìm hiểu về cơ chế **tạo/sinh văn bản** của các mô hình. Thật ra nó không khó như mọi người nghĩ mà rất là đơn giản. Chúng đều dựa trên những cơ chế trước giờ chúng ta học, tuy nhiên khác ở khâu xử lý và biến đổi dữ liệu tí.  \n",
        "\n",
        "Vậy sự khác nhau này là gì, tụi mình sẽ cùng tìm hiểu nhá. 🌟  "
      ]
    },
    {
      "cell_type": "markdown",
      "metadata": {
        "id": "OYXNgZabNqiA"
      },
      "source": [
        "![process_text](https://i.imgur.com/7kOLuRM.png)"
      ]
    },
    {
      "cell_type": "markdown",
      "metadata": {
        "id": "BGLvJdjeOSzl"
      },
      "source": [
        "![padding_text](https://i.imgur.com/QOcbcqC.png)"
      ]
    },
    {
      "cell_type": "markdown",
      "metadata": {
        "id": "qVQotDeuLNQc"
      },
      "source": [
        "Trong các bài toán trước đây của chúng ta, tụi mình sẽ tiến hành **xử lý dữ liệu văn bản sang dạng số** và **phân loại chúng** dựa trên **nhãn có sẵn** của dữ liệu huấn luyện trước đó. 📊  \n",
        "\n",
        "Thường thì **số lượng nhãn khá ít**, ví dụ như chỉ có hai nhãn **\"tích cực\"** và **\"tiêu cực\"** trong bài toán phân tích cảm xúc, hoặc vài nhãn cụ thể trong bài toán phân loại văn bản. 🏷️"
      ]
    },
    {
      "cell_type": "markdown",
      "metadata": {
        "id": "jUEX7M8yOlLt"
      },
      "source": [
        "![classify_sentiment](https://media.mlhive.com/i/max/YbAcdK8b2Q4T5Ed4fIf.png)"
      ]
    },
    {
      "cell_type": "markdown",
      "metadata": {
        "id": "vld5yzwhOtHV"
      },
      "source": [
        "Giờ đây đến với **bài toán tạo/sinh văn bản**, thay vì **phân loại với các nhãn cố định**, chúng ta sẽ **dự đoán từ tiếp theo** của văn bản đó. 📝✨  \n",
        "\n",
        "> **Ơ, vậy nhãn của các văn bản sẽ chính là từ tiếp theo của chúng à?**  \n",
        "\n",
        "Yeah, chính xác rồi đó! 🌟"
      ]
    },
    {
      "cell_type": "markdown",
      "source": [
        "![example](https://github.com/Tkag0001/AI_and_Machine_Learning_for_Coders/blob/main/images/Chapter_8/input_labels.png?raw=true)"
      ],
      "metadata": {
        "id": "AGDKDXvhzsh_"
      }
    },
    {
      "cell_type": "markdown",
      "metadata": {
        "id": "3ORPU7SuQe2p"
      },
      "source": [
        "> **Ôi, thế số lượng nhãn của mô hình chẳng phải sẽ rất khổng lồ hay sao （⊙ｏ⊙）?**  \n",
        "\n",
        "Yeah, bạn lại đoán đúng rồi. 🎉  \n",
        "\n",
        "Số lượng nhãn chính là **số từ trong bộ từ điển** á =))  \n",
        "Có khi nó lên đến tận **10.000** và thường số lượng epochs huấn luyện cũng rất lớn, có thể từ **1.000** trở lên.  \n",
        "\n",
        "> **Vậy chúng tạo ra văn bản như thế nào?**  \n",
        "\n",
        "Đơn giản thôi, tụi mình sẽ tiến hành **lặp đi lặp lại quá trình dự đoán từ tiếp theo**. 🔄  \n",
        "Khi mọi người dự đoán được một từ mới, chúng ta sẽ lấy từ đó **kết hợp lại với văn bản đầu vào** và tiếp tục dự đoán từ kế tiếp.  \n",
        "Cứ tiến hành như thế cho đến khi hết số vòng lặp hoặc đạt giới hạn số lượng từ dự đoán. 🌟  \n",
        "\n",
        "Nó giống hệt với hình mà tụi mình đã nhìn thấy ở phần đầu đó. 📄✨  "
      ]
    },
    {
      "cell_type": "markdown",
      "metadata": {
        "id": "E_dLy8wRTkuX"
      },
      "source": [
        "![predictext](https://cgupta.tech/images/rnn_representative.png)"
      ]
    },
    {
      "cell_type": "markdown",
      "metadata": {
        "id": "_znzuVmHTl3J"
      },
      "source": [
        "Ở đây, câu văn ban đầu của chúng ta là: **\"the man is walking\"**, phần màu xanh dương là **cửa sổ trượt - window data** để cắt lấy dữ liệu đầu vào với độ dài tối đa hiện tại là **4 từ**. Do đó, **dữ liệu đầu vào** của chúng ta sẽ là **\"the man is walking\"**.  \n",
        "\n",
        "***Mọi người nhớ kĩ phần cửa sổ trượt cắt lấy dữ liệu đầu vào giúp mình nha.*** 📝  \n",
        "\n",
        "Quá trình tạo câu văn, ở đây mình cho số lượng từ tạo ra là **4**, nên chúng ta sẽ có **4 lần lặp**.  \n",
        "\n",
        "**Step 1**: Nhận đầu vào là **\"the man is walking\"**, tụi mình dự đoán ra được từ **\"down\"**.  \n",
        "\n",
        "**Step 2**: Tụi mình kết hợp từ **\"down\"** vào chung với văn bản đầu vào lúc trước là **\"the man is walking\"** thành **\"the man is walking down\"**, sau đó **cửa sổ trượt với kích thước là 4** sẽ cắt lại dữ liệu đầu vào thành **\"man is walking down\"** và dự đoán ra từ **\"the\"**.  \n",
        "\n",
        "**Step 3**: Tương tự như trước, dữ liệu đầu vào sau khi cắt là **\"is walking down the\"**, dự đoán ra từ **\"street\"**.  \n",
        "\n",
        "**Step 4**: Dữ liệu đầu vào là **\"walking down the street\"**, dự đoán ra dấu **\".\"**.  \n",
        "\n",
        "Vậy câu cuối cùng chúng ta dự đoán ra được sẽ là:  \n",
        "> **\"the man is walking down the street .\"** 🚶‍♂️✨  "
      ]
    },
    {
      "cell_type": "markdown",
      "metadata": {
        "id": "-FzYVdCkaLCd"
      },
      "source": [
        "# Lý thuyết đủ nhiều rồi, tụi mình sẽ tiến hành đi vào thực hành luôn nha. ヾ(•ω•`)o"
      ]
    },
    {
      "cell_type": "code",
      "execution_count": null,
      "metadata": {
        "id": "EYCnwYGAumKL"
      },
      "outputs": [],
      "source": [
        "import time\n",
        "import kagglehub\n",
        "import tensorflow as tf\n",
        "import numpy as np\n",
        "import os\n",
        "from tensorflow.keras.models import Sequential, load_model\n",
        "from tensorflow.keras.layers import Embedding, LSTM, Dense, Bidirectional\n",
        "from tensorflow.keras.preprocessing.text import Tokenizer\n",
        "from tensorflow.keras.preprocessing.sequence import pad_sequences\n",
        "from tensorflow.keras.optimizers import Adam\n",
        "from datetime import timedelta\n",
        "import matplotlib.pyplot as plt"
      ]
    },
    {
      "cell_type": "code",
      "execution_count": null,
      "metadata": {
        "id": "tTHJS8tl-ySf"
      },
      "outputs": [],
      "source": [
        "# Tạo một MirroredStrategy để sử dụng tất cả các GPU có sẵn\n",
        "strategy = tf.distribute.MirroredStrategy()\n",
        "\n",
        "print('Number of devices: {}'.format(strategy.num_replicas_in_sync))"
      ]
    },
    {
      "cell_type": "markdown",
      "metadata": {
        "id": "pxfK_EC-uep1"
      },
      "source": [
        "# Tiến hành xử lý dữ liệu 🛠️✨"
      ]
    },
    {
      "cell_type": "markdown",
      "metadata": {
        "id": "KWxk5JKrbCgu"
      },
      "source": [
        "Dữ liệu mà chúng ta sẽ dùng là đoạn thơ dưới đây nha."
      ]
    },
    {
      "cell_type": "code",
      "execution_count": null,
      "metadata": {
        "id": "bUVBfZv1cDnp"
      },
      "outputs": [],
      "source": [
        "data = \"\"\"In the town of Athy one Jeremy Lanigan\n",
        " Battered away til he hadnt a pound.\n",
        " His father died and made him a man again\n",
        " Left him a farm and ten acres of ground.\n",
        " He gave a grand party for friends and relations\n",
        " Who didnt forget him when come to the wall,\n",
        " And if youll but listen Ill make your eyes glisten\n",
        " Of the rows and the ructions of Lanigan’s Ball.\n",
        " Myself to be sure got free invitation,\n",
        " For all the nice girls and boys I might ask,\n",
        " And just in a minute both friends and relations\n",
        " Were dancing round merry as bees round a cask.\"\"\""
      ]
    },
    {
      "cell_type": "code",
      "execution_count": null,
      "metadata": {
        "id": "Yjydxacbc1Wr"
      },
      "outputs": [],
      "source": [
        "# Kiểm tra cú pháp đoạn thơ\n",
        "print(repr(data))"
      ]
    },
    {
      "cell_type": "code",
      "execution_count": null,
      "metadata": {
        "id": "6zx47s04-fH_"
      },
      "outputs": [],
      "source": [
        "# Tụi mình sẽ coi mẫu dòng trong đoạn thơ là một câu và tách chúng ra dựa trên dấu xuống hàng \\n nha\n",
        "corpus = data.lower().split(\"\\n\")\n",
        "\n",
        "# Tạo bộ từ điển từ bộ dữ liệu của chúng ta.\n",
        "tokenizer = Tokenizer()\n",
        "tokenizer.fit_on_texts(corpus)\n",
        "\n",
        "# Kiểm tra bộ từ điển\n",
        "print(tokenizer.word_index)\n",
        "print(f\"Số lượng từ trong bộ từ điển là: {len(tokenizer.word_index)}\")"
      ]
    },
    {
      "cell_type": "code",
      "execution_count": null,
      "metadata": {
        "id": "in8T7Aj3fWU6"
      },
      "outputs": [],
      "source": [
        "total_words = len(tokenizer.word_index) + 1 # Thêm 1 vô đại diện cho phần token <padding>: 0"
      ]
    },
    {
      "cell_type": "markdown",
      "metadata": {
        "id": "0SExt7Nae8ff"
      },
      "source": [
        "### Bây giờ tụi mình sẽ tới với phần xử lý dữ liệu huấn luyện. 🛠️  \n",
        "***Mọi người chú ý kĩ phần này, tránh nhầm lẫn giúp mình nha. Ở phần thực hành này, tạm thời chúng ta sẽ không sử dụng cửa sổ trượt!***  \n",
        "\n",
        "Đầu tiên, ta tiến hành mã hóa câu từ dữ liệu văn bản sang chuỗi dạng số. 🔢"
      ]
    },
    {
      "cell_type": "markdown",
      "source": [
        "![encode](https://github.com/Tkag0001/AI_and_Machine_Learning_for_Coders/blob/main/images/Chapter_8/encode.png?raw=true)"
      ],
      "metadata": {
        "id": "Z7BftXSnyT2w"
      }
    },
    {
      "cell_type": "markdown",
      "metadata": {
        "id": "zUtSQXAygX7l"
      },
      "source": [
        "Tiếp đến, chúng ta sẽ tách chuỗi thành nhiều chuỗi con nhỏ hơn với độ dài chuỗi tăng dần. ✂️  \n",
        "\n",
        "***Chú ý: Mọi người cần phải phân biệt, hiện tại chúng ta không sử dụng cửa sổ trượt ở đây nha!*** 🧐  "
      ]
    },
    {
      "cell_type": "markdown",
      "source": [
        "![sub_sequences](https://github.com/Tkag0001/AI_and_Machine_Learning_for_Coders/blob/main/images/Chapter_8/sub_sequences.png?raw=true)"
      ],
      "metadata": {
        "id": "Jl0G0RYSyXgm"
      }
    },
    {
      "cell_type": "markdown",
      "metadata": {
        "id": "r5SJT0Nzgtn3"
      },
      "source": [
        "Như mọi người thấy, từ một chuỗi ban đầu chúng ta đã tách ra thành 7 chuỗi con, nhờ đó gia tăng được số lượng dữ liệu. 🌱 Các chuỗi con để huấn luyện này còn có tên gọi khác là **\"seed text - hạt giống văn bản\"**, khởi nguồn để nảy mầm, tạo nên các văn bản dự đoán sau này.\n",
        "Việc chia các chuỗi con này giúp cho mô hình có thể học được ngữ cảnh ở nhiều độ dài khác nhau.🌟"
      ]
    },
    {
      "cell_type": "code",
      "execution_count": null,
      "metadata": {
        "id": "CAxkotOlhKwP"
      },
      "outputs": [],
      "source": [
        "input_sequences = []\n",
        "for line in corpus:\n",
        "  # Mã hóa câu (line) thành chuỗi số\n",
        "  token_list = tokenizer.texts_to_sequences([line])[0] # Vì dữ liệu trả về của hàm là dạng một list nên để lấy được chuỗi số phải lấy phần tử 0 của list\n",
        "  for i in range(1, len(token_list)):\n",
        "    # Tiến hành tách ra thành từng chuỗi con\n",
        "    n_gram_sequence = token_list[:i+1]\n",
        "    input_sequences.append(n_gram_sequence)\n",
        "\n",
        "# Kiểm tra thử 5 chuỗi đầu tiên\n",
        "for i in range(5):\n",
        "  print(input_sequences[i])"
      ]
    },
    {
      "cell_type": "markdown",
      "metadata": {
        "id": "OUdDON_DiOjd"
      },
      "source": [
        "Bây giờ chúng ta tiến hành **padding** cho dữ liệu dựa trên độ dài của câu dài nhất. 🛠️\n",
        "\n",
        "Lý do là bởi vì không cố định kích thước như **cửa sổ trượt**, dữ liệu giữa các câu của chúng ta có kích thước chênh lệch rất nhiều. Chúng ta cần **đồng dạng kích thước** để đưa vào huấn luyện mô hình. 📏\n",
        "\n",
        "*💡 Lưu ý: Trong trường hợp này, chúng ta sẽ **padding ở đầu** (pre-padding) nha, để từ có thể ảnh hưởng mạnh hơn đến từ dự đoán phía sau, giống với **khả năng ảnh hưởng của trình tự các từ** mà chúng ta đã tìm hiểu ở chương 7.* 🌟"
      ]
    },
    {
      "cell_type": "markdown",
      "source": [
        "![padding_sequences](https://github.com/Tkag0001/AI_and_Machine_Learning_for_Coders/blob/main/images/Chapter_8/pad_sequences.png?raw=true)\n"
      ],
      "metadata": {
        "id": "v1hq-eENyj3q"
      }
    },
    {
      "cell_type": "code",
      "execution_count": null,
      "metadata": {
        "id": "aEd3Sg6ukep8"
      },
      "outputs": [],
      "source": [
        "max_sequence_len = max([len(x) for x in input_sequences])\n",
        "input_sequences_padded = np.array(pad_sequences(input_sequences, maxlen = max_sequence_len, padding=\"pre\"))\n",
        "\n",
        "# Chỉnh lại số lượng token vì đã thêm token padding vào <pad>: 0\n",
        "total_words = len(tokenizer.word_index) + 1\n",
        "\n",
        "# Kiểm tra chuỗi sau khi đệm\n",
        "for i in range(5):\n",
        "  print(input_sequences_padded[i])"
      ]
    },
    {
      "cell_type": "markdown",
      "metadata": {
        "id": "UwucCRjQnb2T"
      },
      "source": [
        "Vậy là các chuỗi của chúng ta đã được **đệm đầy đủ** với kích thước là **10**. 🎉\n",
        "\n",
        "Bây giờ, chúng ta sẽ tiến hành **chia dữ liệu** thành hai phần:\n",
        "\n",
        "1. **Dữ liệu huấn luyện**: Chính là các từ trong chuỗi **trừ từ cuối cùng**.\n",
        "2. **Nhãn**: Là **từ cuối cùng** của mỗi chuỗi.\n",
        "\n",
        "Quá trình này sẽ giúp chúng ta có dữ liệu phù hợp để huấn luyện mô hình dự đoán từ tiếp theo. 🚀"
      ]
    },
    {
      "cell_type": "markdown",
      "source": [
        "![padding_sequences](https://github.com/Tkag0001/AI_and_Machine_Learning_for_Coders/blob/main/images/Chapter_8/x_labels.png?raw=true)"
      ],
      "metadata": {
        "id": "eLKglTjTyy5K"
      }
    },
    {
      "cell_type": "code",
      "execution_count": null,
      "metadata": {
        "id": "RIKlNHE8qIFj"
      },
      "outputs": [],
      "source": [
        "xs = input_sequences_padded[:,:-1]\n",
        "labels = input_sequences_padded[:,-1]"
      ]
    },
    {
      "cell_type": "markdown",
      "metadata": {
        "id": "-RUI2BuFqWqa"
      },
      "source": [
        "Ở đây tụi mình sẽ áp dụng một **thủ thuật nhỏ** nhé! 🌟 Đây cũng là cơ hội để tiếp cận một loại **loss function** khác.\n",
        "\n",
        "Như trước đây mình đã đề cập, có sự khác biệt giữa **`sparse_categorical_crossentropy`** và **`categorical_crossentropy`**:\n",
        "\n",
        "- Nếu dữ liệu nhãn là dạng **số index** (ví dụ: `[0, 1, 2]`), ta sẽ sử dụng **`sparse_categorical_crossentropy`**.\n",
        "- Trong trường hợp này, tụi mình sẽ tiến hành **mã hóa nhãn theo one-hot-encoding**, nên cần sử dụng **`categorical_crossentropy`**.\n",
        "\n",
        "### Lưu ý nhỏ:\n",
        "- Sử dụng **index-based labels** (dạng số) có thể **tiết kiệm bộ nhớ hơn** vì không cần lưu trữ toàn bộ vector one-hot-encoding.\n",
        "- Tuy nhiên, vì sách đã hướng dẫn như vậy, tụi mình cứ làm theo để **làm quen với cả hai cách** nhé! ✨"
      ]
    },
    {
      "cell_type": "markdown",
      "source": [
        "![dataset](https://github.com/Tkag0001/AI_and_Machine_Learning_for_Coders/blob/main/images/Chapter_8/dataset.png?raw=true)"
      ],
      "metadata": {
        "id": "xv9yH-kdy5RK"
      }
    },
    {
      "cell_type": "code",
      "execution_count": null,
      "metadata": {
        "id": "qhDwD98vrgMa"
      },
      "outputs": [],
      "source": [
        "# Tiến hành mã hóa one-hot-encoding cho nhãn\n",
        "from tensorflow.keras.utils import to_categorical\n",
        "ys = to_categorical(labels, num_classes = total_words)"
      ]
    },
    {
      "cell_type": "code",
      "execution_count": null,
      "metadata": {
        "id": "BCIMJdgIsKLo"
      },
      "outputs": [],
      "source": [
        "# Kiểm tra lại dữ liệu của chúng ta\n",
        "print(f\"Chuỗi được mã hóa: {input_sequences[0]}\")\n",
        "print(f\"Chuỗi x để huấn luyện: {xs[0]}\")\n",
        "print(f\"Nhãn của chuỗi x, tức từ tiếp theo: {labels[0]}\")\n",
        "print(f\"Nhãn sau khi one-hot-encoding:\\n {ys[0]}\")"
      ]
    },
    {
      "cell_type": "markdown",
      "metadata": {
        "id": "KfHd5Ahluajw"
      },
      "source": [
        "# Tiến hành tạo và huấn luyện mô hình 🚀"
      ]
    },
    {
      "cell_type": "markdown",
      "metadata": {
        "id": "cw23SIbMurtm"
      },
      "source": [
        "Ở đây tụi mình sẽ thử khởi tạo một mô hình đơn giản thôi nha.  \n",
        "\n",
        "Số chiều **Embedding** tụi mình tạm cho là 8 nha vì kích thước từ điển, số lượng từ cũng khá nhỏ.  \n",
        "\n",
        "Về tham số trong lớp **BLSTM**, số đơn vị ẩn như chương trước tụi mình để theo số chiều Embedding thì ở đây mình để tương đương với độ dài của chuỗi ban đầu trừ đi 1 nha (vì chúng ta đã lấy token cuối làm nhãn nên trừ 1 đi).  \n",
        "\n",
        "Đầu ra lớp tuyến tính - **Dense**, thì sẽ bằng với tổng số lượng tokens hay số lượng từ với 1 token padding. ✨"
      ]
    },
    {
      "cell_type": "code",
      "execution_count": null,
      "metadata": {
        "id": "JC_DEmseu36E"
      },
      "outputs": [],
      "source": [
        "# Xây dựng kiến trúc mô hình\n",
        "model = Sequential([\n",
        "    Embedding(total_words, 8),\n",
        "    Bidirectional(LSTM(max_sequence_len-1)),\n",
        "    Dense(total_words, activation = 'softmax')\n",
        "])\n",
        "\n",
        "model.compile(loss = 'categorical_crossentropy', optimizer = 'adam', metrics = ['accuracy'])"
      ]
    },
    {
      "cell_type": "markdown",
      "metadata": {
        "id": "mYkUkiIwxEmA"
      },
      "source": [
        "Bởi vì mô hình ở đây khá đơn giản và ít dữ liệu nên chúng ta tiến hành huấn luyện lâu hơn với **số epoch là 15.000**."
      ]
    },
    {
      "cell_type": "code",
      "execution_count": null,
      "metadata": {
        "id": "pO0NF3m4w2xN"
      },
      "outputs": [],
      "source": [
        "import time\n",
        "start_time = time.time()\n",
        "history = model.fit(xs, ys, epochs=1500)\n",
        "end_time = time.time()"
      ]
    },
    {
      "cell_type": "code",
      "execution_count": null,
      "metadata": {
        "id": "CzLFU3K6Qg57"
      },
      "outputs": [],
      "source": [
        "print(f\"Thời gian huấn luyện: {timedelta(seconds=end_time - start_time)} giây\")"
      ]
    },
    {
      "cell_type": "code",
      "execution_count": null,
      "metadata": {
        "id": "XsNBEKtuxQAO"
      },
      "outputs": [],
      "source": [
        "# Vẽ biểu đồ huấn luyện\n",
        "import matplotlib.pyplot as plt\n",
        "\n",
        "train_acc = history.history[\"accuracy\"]\n",
        "train_loss = history.history[\"loss\"]\n",
        "\n",
        "fig, axs = plt.subplots(1, 2, figsize = (12, 4))\n",
        "axs[0].plot(train_acc)\n",
        "axs[0].set_title(\"Training Accuracy\")\n",
        "axs[1].plot(train_loss, color=\"orange\")\n",
        "axs[1].set_title(\"Training Loss\")\n",
        "plt.tight_layout()\n",
        "plt.show()"
      ]
    },
    {
      "cell_type": "code",
      "execution_count": null,
      "metadata": {
        "id": "HzWGVLLsy2Bq"
      },
      "outputs": [],
      "source": [
        "eval = model.evaluate(xs, ys)"
      ]
    },
    {
      "cell_type": "code",
      "execution_count": null,
      "metadata": {
        "id": "0eC4JQ-N6qDQ"
      },
      "outputs": [],
      "source": [
        "model.save(\"model.h5\")"
      ]
    },
    {
      "cell_type": "code",
      "execution_count": null,
      "metadata": {
        "id": "7gY2QpWpFWO8"
      },
      "outputs": [],
      "source": [
        "# Tải lại model\n",
        "model = load_model(\"model.h5\")"
      ]
    },
    {
      "cell_type": "markdown",
      "metadata": {
        "id": "_O082PMny6Ab"
      },
      "source": [
        "Kết quả cuối cùng tụi mình đo được sẽ khoảng cỡ 95%, điều đó có nghĩa là từ dự đoán được tiếp theo có xác suất 95% giống với từ đã được huấn luyện bởi chuỗi trước đó.  \n",
        "\n",
        "***Mọi người lưu ý giúp mình: Ở đây sử dụng độ chính xác - accuracy để đo không thật sự hiệu quả đối với bài toán ngữ nghĩa tạo/sinh văn bản như này. Cho đến thời điểm hiện tại tụi mình học, vẫn chưa có thang đo nào phù hợp tuyệt đối cho bài toán.*** 🌟"
      ]
    },
    {
      "cell_type": "markdown",
      "metadata": {
        "id": "gzTqlPpQ3Qq5"
      },
      "source": [
        "### Predicting the Next Word  \n",
        "### Bây giờ tụi mình sẽ tiến hành dự đoán thử một từ tiếp theo trước nha.  \n",
        "\n",
        "Văn bản mình chọn là **\"in the town of athy\"** nằm ở câu đầu tiên của dữ liệu huấn luyện nha. 🌟  "
      ]
    },
    {
      "cell_type": "code",
      "execution_count": null,
      "metadata": {
        "id": "dVW2qQCv3rgx"
      },
      "outputs": [],
      "source": [
        "seed_text =  \"in the town of athy\""
      ]
    },
    {
      "cell_type": "markdown",
      "metadata": {
        "id": "WebWVHuI3w-_"
      },
      "source": [
        "Đầu tiên ta sẽ tiến hành tokenize cho chuỗi đó, sau đó thì padding và đưa vào mô hình"
      ]
    },
    {
      "cell_type": "code",
      "execution_count": null,
      "metadata": {
        "id": "jqRF78S_32r3"
      },
      "outputs": [],
      "source": [
        "token_list = tokenizer.texts_to_sequences([seed_text])[0]\n",
        "token_list = pad_sequences([token_list], maxlen=max_sequence_len-1, padding='pre') # -1 vào max_sequence_len bởi vì chuỗi này không có nhãn\n",
        "# Tiến hành dự đoán\n",
        "predicted = model.predict(token_list, verbose=1)\n",
        "predicted_index = np.argmax(predicted, axis = -1)"
      ]
    },
    {
      "cell_type": "code",
      "execution_count": null,
      "metadata": {
        "id": "NfUxFC1q4RuN"
      },
      "outputs": [],
      "source": [
        "# Tạo index to word để chuyển từ dữ liệu dạng số sang văn bản lại\n",
        "index_words ={}\n",
        "for word, index in tokenizer.word_index.items():\n",
        "    index_words[index] = word\n",
        "\n",
        "# Chuyển index dự đoán thành dạng chữ\n",
        "predicted_word = index_words[predicted_index[0]]\n",
        "\n",
        "print(f\"Chuỗi ban đầu: {seed_text}\")\n",
        "print(f\"Từ dự đoán: '{predicted_word}' với sác xuất {predicted[0][predicted_index[0]]*100:.2f}%\")"
      ]
    },
    {
      "cell_type": "markdown",
      "metadata": {
        "id": "6-gbSdiZ55xL"
      },
      "source": [
        "Uầy ra từ \"one\" đúng với câu đầu tiên trong dữ liệu huấn luyện luôn này.\n",
        "> In the town of Athy one Jeremy Lanigan<br>\n",
        " Battered away til he hadnt a pound."
      ]
    },
    {
      "cell_type": "markdown",
      "metadata": {
        "id": "O48-oBgP6KdF"
      },
      "source": [
        "### Compounding Predictions to Generate Text  \n",
        "### Bây giờ tụi mình sẽ tiến hành tạo/sinh văn bản dựa trên workflow trước đó tụi mình định nghĩa nha. 🌟✨🌈  \n",
        "\n",
        "***Lưu ý: Ở đây chúng ta chọn padding chuỗi theo độ dài câu dài nhất vì ban đầu khi dữ liệu huấn luyện cũng được làm như vậy chứ chưa sử dụng phương pháp cửa sổ trượt nha. Để mà nói mọi người cũng có thể hiểu trường hợp này kích thước cửa sổ trượt là độ dài câu dài nhất cũng được. Từ đó các chuỗi không đủ kích thước thì sẽ padding thêm vào. 🔄📏  ***\n",
        "\n",
        "Thông qua việc lặp đi lặp lại quá trình dự đoán từ tiếp theo, kết hợp lại với dữ liệu đầu vào rồi dự đoán tiếp ta sẽ tạo/sinh ra được phần tiếp theo cho câu văn. 📝🔮  \n",
        "\n",
        "Ở đây mình sử dụng dữ liệu đầu vào ban đầu là **\"sweet jeremy saw dublin\"** nha. Tụi mình sẽ tiến hành dự đoán 10 từ tiếp theo phía sau. 🎯📖"
      ]
    },
    {
      "cell_type": "code",
      "execution_count": null,
      "metadata": {
        "id": "ugHAzgSL616W"
      },
      "outputs": [],
      "source": [
        "seed_text = \"sweet jeremy saw dublin\"\n",
        "predicted_text = seed_text\n",
        "n_words = 10\n",
        "\n",
        "for i in range(n_words):\n",
        "    token_list = tokenizer.texts_to_sequences([predicted_text])[0]\n",
        "    token_list = pad_sequences([token_list], maxlen=max_sequence_len-1, padding='pre')\n",
        "    predicted = model.predict(token_list, verbose=1)\n",
        "    predicted_index = np.argmax(predicted, axis=-1)\n",
        "    output_word = index_words[predicted_index[0]]\n",
        "\n",
        "    print(f\"Step {i}:\")\n",
        "    print(f\"Văn bản đầu vào: {predicted_text}\")\n",
        "    print(f\"Chuỗi mã hóa đầu vào: {token_list}\")\n",
        "    print(f\"Từ dự đoán: {output_word} với xác suất {predicted[0][predicted_index[0]]*100:2f}\")\n",
        "    print(\"-\"*50)\n",
        "    predicted_text += \" \" + output_word\n",
        "\n",
        "print(predicted_text)\n"
      ]
    },
    {
      "cell_type": "markdown",
      "metadata": {
        "id": "CD6R16wN3LNS"
      },
      "source": [
        "Đây là kết quả ở lần chạy của mình nha:  \n",
        "\n",
        "> \"sweet jeremy saw dublin all the rows a and of lanigan’s ball ask ask\"  \n",
        "\n",
        "Mọi người có thể thấy càng về sau thì các từ tạo ra khiến câu văn càng trở nên vô nghĩa hơn, thậm chí sai cả về mặt ngữ pháp của từ. 😅📉  \n",
        "\n",
        "> **Vậy lỗi này do đâu mà ra?**  \n",
        "\n",
        "Có 2 lý do chính ảnh hưởng đến việc này là:  \n",
        "\n",
        "1. **Dữ liệu huấn luyện của chúng ta quá nhỏ** khiến mô hình không thể nắm bắt được nhiều ngữ cảnh. 📚❌  \n",
        "2. **Hiệu ứng dây chuyền, cánh bướm hay hiệu ứng Domino.** Khi một việc gì đó xảy ra thì các sự việc sau phụ thuộc vào nó sẽ chịu ảnh hưởng lớn dần lên. Ở đây, khi một từ được dự đoán không tốt, các từ phía sau nó lại được dự đoán dựa trên nó và các từ phía trước cũng sẽ trở nên tệ hơn. Dần dần sự tệ hại này ngày một lớn dần khiến cho các từ nối vào câu văn càng về sau trở nên vô nghĩa hơn rất là nhiều. 🔗🌀  \n",
        "\n",
        "Có một fact là vào năm 2016 đã từng có một bộ phim viễn tưởng [Sunspring](https://en.wikipedia.org/wiki/Sunspring) được tạo ra bởi AI. Bộ phim này khá buồn cười, ban đầu nội dung vẫn ổn cho đến càng về sau chúng lại trở nên khó hiểu đúng nghĩa ba chấm luôn ý. 🎥🤖✨"
      ]
    },
    {
      "cell_type": "markdown",
      "metadata": {
        "id": "RnbyzGdC-riZ"
      },
      "source": [
        "# Extending the dataset  \n",
        "### Bây giờ tụi mình sẽ làm việc với mô hình với bộ dữ liệu lớn hơn nha.  \n",
        "\n",
        "Ở đây theo tác giả thì bộ dữ liệu dưới đây bao gồm khoảng 1.700 về lời các bài hát. Vì đường dẫn trong sách không thể sử dụng được nữa nên tụi mình sẽ tải dữ liệu từ Kaggle nha. 🎶📥  "
      ]
    },
    {
      "cell_type": "code",
      "execution_count": null,
      "metadata": {
        "id": "GS4Qi4i0_CGA"
      },
      "outputs": [],
      "source": [
        "import kagglehub\n",
        "\n",
        "# Download latest version\n",
        "path = kagglehub.dataset_download(\"jamzhu/irishlyricseof\")\n",
        "\n",
        "print(\"Path to dataset files:\", path)"
      ]
    },
    {
      "cell_type": "code",
      "execution_count": null,
      "metadata": {
        "id": "QnMJvtpT_GAc"
      },
      "outputs": [],
      "source": [
        "# # Liệt kê các file bên trong thư mục\n",
        "import os\n",
        "for f in os.listdir(path):\n",
        "  print(f)"
      ]
    },
    {
      "cell_type": "code",
      "execution_count": null,
      "metadata": {
        "id": "exeWRN8l_XlM"
      },
      "outputs": [],
      "source": [
        "# Tiến hành tải bộ dữ liệu\n",
        "data = open(os.path.join(path,\"irish-lyrics-eof.txt\")).read()\n",
        "corpus = data.lower().split(\"\\n\")\n",
        "# In thử 5 hàng đầu tiên ra\n",
        "for i in range(5):\n",
        "  print(repr(corpus[i]))"
      ]
    },
    {
      "cell_type": "code",
      "execution_count": null,
      "metadata": {
        "id": "fBR3Ohcf_4HD"
      },
      "outputs": [],
      "source": [
        "# Tiến hành tokenize dữ liệu\n",
        "tokenizer = Tokenizer()\n",
        "tokenizer.fit_on_texts(corpus)\n",
        "total_words = len(tokenizer.word_index) + 1 # Thêm một cho token padding sau này\n",
        "print(f\"Tổng số lượng từ: {total_words}\")\n",
        "print(f\"Bộ từ điển từ vựng: {tokenizer.word_index}\")"
      ]
    },
    {
      "cell_type": "code",
      "execution_count": null,
      "metadata": {
        "id": "9FARlEG1Anbb"
      },
      "outputs": [],
      "source": [
        "# Tạo bộ từ điển chuyển dữ liệu số thành chữ lại\n",
        "index_words ={}\n",
        "for word, index in tokenizer.word_index.items():\n",
        "    index_words[index] = word\n",
        "\n",
        "# Tiến hành tạo các seed text hay chuỗi con\n",
        "input_sequences = []\n",
        "for line in corpus:\n",
        "    token_list = tokenizer.texts_to_sequences([line])[0]\n",
        "    for i in range(1, len(token_list)-1):\n",
        "        n_gram_sequence = token_list[:i+1]\n",
        "        input_sequences.append(n_gram_sequence)\n",
        "\n",
        "# Kiểm tra 5 chuỗi mã hóa số đầu tiên\n",
        "for i in range(5):\n",
        "  print(input_sequences[i])\n"
      ]
    },
    {
      "cell_type": "code",
      "execution_count": null,
      "metadata": {
        "id": "nMe2sgSUBlmN"
      },
      "outputs": [],
      "source": [
        "# Tiến hành padding cho dữ liệu\n",
        "max_sequence_len = max([len(x) for x in input_sequences])\n",
        "print(f\"Độ dài chuỗi dài nhất: {max_sequence_len}\")\n",
        "input_sequences = np.array(pad_sequences(input_sequences, maxlen=max_sequence_len, padding='pre'))\n",
        "# In thử 5 chuỗi đầu tiên\n",
        "for i in range(5):\n",
        "  print(input_sequences[i])"
      ]
    },
    {
      "cell_type": "code",
      "execution_count": null,
      "metadata": {
        "id": "TYB7Zl9vCFph"
      },
      "outputs": [],
      "source": [
        "# Tiến hành chia dữ liệu huấn luyện và nhãn\n",
        "xs = input_sequences[:,:-1]\n",
        "labels = input_sequences[:,-1]"
      ]
    },
    {
      "cell_type": "code",
      "execution_count": null,
      "metadata": {
        "id": "gSU79wB_CMV7"
      },
      "outputs": [],
      "source": [
        "# Thiết lập mô hình\n",
        "model1 = Sequential([\n",
        "    Embedding(total_words, 8),\n",
        "    Bidirectional(LSTM(max_sequence_len-1)),\n",
        "    Dense(total_words, activation = 'softmax')\n",
        "])\n",
        "\n",
        "model1.compile(loss = 'sparse_categorical_crossentropy', optimizer = 'adam', metrics = ['accuracy'])"
      ]
    },
    {
      "cell_type": "code",
      "execution_count": null,
      "metadata": {
        "id": "1ZO2GYa3CrXk"
      },
      "outputs": [],
      "source": [
        "start_time = time.time()\n",
        "history1 = model1.fit(xs, labels, epochs=1000)\n",
        "end_time = time.time()"
      ]
    },
    {
      "cell_type": "code",
      "execution_count": null,
      "metadata": {
        "id": "7ZaULiFaibUA"
      },
      "outputs": [],
      "source": [
        "print(f\"Thời gian huấn luyện: {timedelta(seconds=end_time-start_time)}\")"
      ]
    },
    {
      "cell_type": "code",
      "execution_count": null,
      "metadata": {
        "id": "AeJHizKpCwFH"
      },
      "outputs": [],
      "source": [
        "# Vẽ biểu đồ quá trình huấn luyện\n",
        "import matplotlib.pyplot as plt\n",
        "fig, axs = plt.subplots(1, 2, figsize = (12, 4))\n",
        "train_acc = history1.history[\"accuracy\"]\n",
        "train_loss = history1.history[\"loss\"]\n",
        "axs[0].plot(train_acc)\n",
        "axs[0].set_title(\"Training Accuracy\")\n",
        "axs[1].plot(train_loss, color=\"orange\")\n",
        "axs[1].set_title(\"Training Loss\")\n",
        "plt.tight_layout()\n",
        "plt.show()"
      ]
    },
    {
      "cell_type": "code",
      "execution_count": null,
      "metadata": {
        "id": "ffBTpv2Qnz5W"
      },
      "outputs": [],
      "source": [
        "model1.evaluate(xs,labels)"
      ]
    },
    {
      "cell_type": "code",
      "execution_count": null,
      "metadata": {
        "id": "_Kz5jVw561Gr"
      },
      "outputs": [],
      "source": [
        "model1.save(\"model1.h5\")"
      ]
    },
    {
      "cell_type": "code",
      "execution_count": null,
      "metadata": {
        "id": "MIwiMg7aGh-0"
      },
      "outputs": [],
      "source": [
        "# Tải lại mô hình\n",
        "model1 = load_model(\"model1.h5\")"
      ]
    },
    {
      "cell_type": "markdown",
      "metadata": {
        "id": "xdfhGOIflUV3"
      },
      "source": [
        "Uầy, vậy là với bộ dữ liệu này, độ chính xác trên tập huấn luyện đạt được là khoảng 60%. 🎉\n",
        "\n",
        "Bây giờ tụi mình sẽ tiến hành dự đoán thử với các vế trước đó nha. 🔍✨"
      ]
    },
    {
      "cell_type": "code",
      "execution_count": null,
      "metadata": {
        "id": "BEiQdO-tmmdW"
      },
      "outputs": [],
      "source": [
        "# Dự đoán một từ\n",
        "seed_text = \"in the town of athy\"\n",
        "token_list = tokenizer.texts_to_sequences([seed_text])[0]\n",
        "token_list = pad_sequences([token_list], maxlen=max_sequence_len-1, padding='pre') # -1 vào max_sequence_len bởi vì chuỗi này không có nhãn\n",
        "# Tiến hành dự đoán\n",
        "predicted = model1.predict(token_list, verbose=1)\n",
        "predicted_index = np.argmax(predicted, axis = -1)\n",
        "predicted_word = index_words[predicted_index[0]]\n",
        "\n",
        "print(f\"Từ dự đoán là: '{predicted_word}' với xác suất {predicted[0][predicted_index[0]]*100:.2f}%\")"
      ]
    },
    {
      "cell_type": "markdown",
      "metadata": {
        "id": "KZZxqUJgoD_b"
      },
      "source": [
        "Ở đây kết quả mình ra được là:  \n",
        "> Từ dự đoán là: **'light'** với xác suất **20.35%** ✨  \n",
        "\n",
        "Mọi người có thể ra kết quả khác nha, điều này phụ thuộc vào trọng số của mô hình mà trọng số của mỗi mô hình khi khởi tạo là ngẫu nhiên, không giống nhau nên kết quả cuối cũng vậy. Miễn sao ý nghĩa câu văn hay các từ có phần liên kết nhau hợp lý là ok rồi. 🌟  \n",
        "\n",
        "Tụi mình sẽ dự đoán tiếp với cụm **“sweet jeremy saw dublin”**. 🚀"
      ]
    },
    {
      "cell_type": "code",
      "execution_count": null,
      "metadata": {
        "id": "4sGNrH4a3rA4"
      },
      "outputs": [],
      "source": [
        "# Dự đoán một chuỗi\n",
        "seed_text = \"sweet jeremy saw dublin\"\n",
        "num_words = 10\n",
        "predicted_text = seed_text\n",
        "for i in range(num_words):\n",
        "  token_list = tokenizer.texts_to_sequences([predicted_text])[0]\n",
        "  token_list = pad_sequences([token_list], maxlen=max_sequence_len-1, padding='pre')\n",
        "  predicted = model1.predict(token_list, verbose=1)\n",
        "  predicted_index = np.argmax(predicted, axis=-1)\n",
        "  output_word = index_words[predicted_index[0]]\n",
        "\n",
        "  print(f\"Step {i}:\")\n",
        "  print(f\"Văn bản đầu vào: {predicted_text}\")\n",
        "  print(f\"Chuỗi mã hóa đầu vào: {token_list[0]}\")\n",
        "  print(f\"Từ dự đoán: {output_word} với xác suất {predicted[0][predicted_index[0]]*100:2f}%\")\n",
        "  print(\"-\"*50)\n",
        "  predicted_text += \" \" + output_word\n"
      ]
    },
    {
      "cell_type": "code",
      "execution_count": null,
      "metadata": {
        "id": "7n3i2V3Osxlq"
      },
      "outputs": [],
      "source": [
        "print(f\"Văn bản sinh ra: '{predicted_text}'\")"
      ]
    },
    {
      "cell_type": "markdown",
      "metadata": {
        "id": "_NcgUOcUs5gb"
      },
      "source": [
        "Đây là kết quả ở lần chạy của mình:  \n",
        "> Văn bản sinh ra: 'sweet jeremy saw dublin ever make a begging i neer could you dead and'✨  \n",
        "\n",
        "Có vẻ là chúng đã ổn hơn rồi ha, sai sót thì tất nhiên vẫn có nhưng ngữ nghĩa cấu trúc đã ổn hơn tí rồi. 🌟 Bây giờ tụi mình sẽ đi thử thêm nhiều cách nữa để tăng độ hiệu quả lên hơn nha. 🚀  "
      ]
    },
    {
      "cell_type": "markdown",
      "metadata": {
        "id": "cqKd6g6HuzVR"
      },
      "source": [
        "# Changing the Modle Architecture\n",
        "### Trước mắt thì tụi mình sẽ thử thay đổi kiến trúc mô hình xem sao."
      ]
    },
    {
      "cell_type": "code",
      "execution_count": null,
      "metadata": {
        "id": "_Zj5H1WiuacY"
      },
      "outputs": [],
      "source": [
        "model2= Sequential([\n",
        "    Embedding(total_words, 8),\n",
        "    Bidirectional(LSTM(max_sequence_len-1, return_sequences=True)),\n",
        "    Bidirectional(LSTM(max_sequence_len-1)),\n",
        "    Dense(total_words, activation = 'softmax')\n",
        "])\n",
        "\n",
        "model2.compile(loss = 'sparse_categorical_crossentropy', optimizer = 'adam', metrics = ['accuracy'])"
      ]
    },
    {
      "cell_type": "code",
      "execution_count": null,
      "metadata": {
        "id": "GntMGZGKvoD7"
      },
      "outputs": [],
      "source": [
        "# Tiến hành huấn luyện\n",
        "start_time = time.time()\n",
        "history2 = model2.fit(xs, labels, epochs = 1000)\n",
        "end_time = time.time()"
      ]
    },
    {
      "cell_type": "code",
      "execution_count": null,
      "metadata": {
        "id": "5YizHpfmv3TX"
      },
      "outputs": [],
      "source": [
        "print(f\"Thời gian huấn luyện mô hình: {timedelta(seconds=end_time - start_time)}\")"
      ]
    },
    {
      "cell_type": "code",
      "execution_count": null,
      "metadata": {
        "id": "UN-m48Hlv_iw"
      },
      "outputs": [],
      "source": [
        "# Vẽ biểu đồ quá trình huấn luyện\n",
        "train_acc = history2.history[\"accuracy\"]\n",
        "train_loss = history2.history[\"loss\"]\n",
        "\n",
        "fig, axs = plt.subplots(1, 2, figsize = (12, 4))\n",
        "axs = axs.flatten()\n",
        "axs[0].plot(train_acc)\n",
        "axs[0].set_title(\"Training Accuracy\")\n",
        "axs[1].plot(train_loss, color=\"orange\")\n",
        "axs[1].set_title(\"Training Loss\")\n",
        "plt.tight_layout()\n",
        "plt.show()"
      ]
    },
    {
      "cell_type": "code",
      "execution_count": null,
      "metadata": {
        "id": "4C8952SpwUqb"
      },
      "outputs": [],
      "source": [
        "# Đánh giá mô hình\n",
        "model2.evaluate(xs, labels)"
      ]
    },
    {
      "cell_type": "code",
      "execution_count": null,
      "metadata": {
        "id": "y40Bspoj7Dll"
      },
      "outputs": [],
      "source": [
        "model2.save(\"model2.h5\")"
      ]
    },
    {
      "cell_type": "code",
      "execution_count": null,
      "metadata": {
        "id": "G_RapNTYGs-P"
      },
      "outputs": [],
      "source": [
        "# Tải lại mô hình\n",
        "model2 = load_model(\"model2.h5\")"
      ]
    },
    {
      "cell_type": "markdown",
      "metadata": {
        "id": "DLXe5_SSwiVT"
      },
      "source": [
        "Tụi mình sẽ tiến hành dự đoán lại với các câu trước đó"
      ]
    },
    {
      "cell_type": "code",
      "execution_count": null,
      "metadata": {
        "id": "vYtBRNkTwZv2"
      },
      "outputs": [],
      "source": [
        "# Dự đoán một từ\n",
        "seed_text = \"in the town of athy\"\n",
        "token_list = tokenizer.texts_to_sequences([seed_text])[0]\n",
        "token_list = pad_sequences([token_list], maxlen=max_sequence_len-1, padding='pre') # -1 vào max_sequence_len bởi vì chuỗi này không có nhãn\n",
        "# Tiến hành dự đoán\n",
        "predicted = model2.predict(token_list, verbose=1)\n",
        "predicted_index = np.argmax(predicted, axis = -1)\n",
        "predicted_word = index_words[predicted_index[0]]\n",
        "\n",
        "print(f\"Từ dự đoán là: '{predicted_word}' với xác suất {predicted[0][predicted_index[0]]*100:.2f}%\")"
      ]
    },
    {
      "cell_type": "code",
      "execution_count": null,
      "metadata": {
        "id": "E9nkVt5Kwo2o"
      },
      "outputs": [],
      "source": [
        "# Dự đoán một từ\n",
        "seed_text = \"sweet jeremy saw dublin\"\n",
        "num_words = 10\n",
        "predicted_text = seed_text\n",
        "for i in range(num_words):\n",
        "  token_list = tokenizer.texts_to_sequences([predicted_text])[0]\n",
        "  token_list = pad_sequences([token_list], maxlen=max_sequence_len-1, padding='pre')\n",
        "  predicted = model2.predict(token_list, verbose=1)\n",
        "  predicted_index = np.argmax(predicted, axis=-1)\n",
        "  output_word = index_words[predicted_index[0]]\n",
        "\n",
        "  print(f\"Step {i}:\")\n",
        "  print(f\"Văn bản đầu vào: {predicted_text}\")\n",
        "  print(f\"Chuỗi mã hóa đầu vào: {token_list[0]}\")\n",
        "  print(f\"Từ dự đoán: {output_word} với xác suất {predicted[0][predicted_index[0]]*100:2f}%\")\n",
        "  print(\"-\"*50)\n",
        "  predicted_text += \" \" + output_word\n"
      ]
    },
    {
      "cell_type": "code",
      "execution_count": null,
      "metadata": {
        "id": "UBh1yyAOHlZ6"
      },
      "outputs": [],
      "source": [
        "print(f\"Văn bản sinh ra: '{predicted_text}'\")"
      ]
    },
    {
      "cell_type": "markdown",
      "metadata": {
        "id": "LNNKR4SZB9VG"
      },
      "source": [
        "# Improving the Data  \n",
        "### Bây giờ tụi mình tiến hành thử cách cải thiện dữ liệu đầu vào để cải tiến mô hình nha, tăng độ hiệu quả nha. ✨  \n",
        "\n",
        "Sở dĩ mọi người thấy đường **train_accuracy** nhiễu vậy là vì dữ liệu vẫn thiếu đi phần nào đó sự liên kết ngữ cảnh mạch lạc. 🌐  \n",
        "\n",
        "> **Vậy nguyên nhân do đâu mà ra?**  \n",
        "\n",
        "Chính là do cách tiếp cận, chiến lược chia, xử lý dữ liệu của chúng ta trước đó. Trong một bài hát thì các câu hát đều có sự liên kết ngữ cảnh với nhau, đó cũng là cách mà con người tiếp thu. 🎶 Tuy nhiên khi đưa dữ liệu vào huấn luyện cho mô hình, chúng ta đã coi **mỗi câu hát là một dòng độc lập** và tiến hành chia chuỗi con. Chính điều này đã làm cho các câu hát trở nên mất kết nối ngữ cảnh với nhau. 🔗  \n",
        "\n",
        "> **Ok, xác định được gốc vấn đề rồi vậy chúng ta sẽ làm gì tiếp theo đây?**  \n",
        "\n",
        "Câu trả lời là làm sao cho các chuỗi văn bản huấn luyện có chứa một phần của câu trước và câu sau, từ đó giữa các câu sẽ có sự liên kết với nhau. 🧩  \n",
        "\n",
        "Bây giờ thay vì để các câu trong bài hát thành một hàng độc lập, chúng ta sẽ tiến hành **gom tất cả các câu đó lại về chung một hàng. Chúng ta sẽ không chia theo ký tự xuống hàng \"\\n\" nữa mà là theo dấu khoảng cách**  🚀  \n",
        "\n",
        "**Vậy workflow của chúng ta sẽ như sau:**\n",
        "\n",
        "**1. Chia các câu dựa trên cửa sổ trượt:** Chia đoạn văn thành danh sách các từ, sau đó dùng cửa sổ trượt để tạo ra các câu hay chuỗi con. Qua đó ta có thể giữ được sự liên kết ngữ cảnh của các câu với nhau.\n",
        "\n",
        "**2. Tiến hành chia các chuỗi con từ các chuỗi đã chia trước đó:** làm giống như cách ban đâu tuy nhiên thay vì dữ liệu của chúng ta là các câu độc lập thì giờ là các câu đã được tạo ra ở bước 1.k"
      ]
    },
    {
      "cell_type": "code",
      "execution_count": null,
      "metadata": {
        "id": "otAJ6Gxc5nlv"
      },
      "outputs": [],
      "source": [
        "# Kiểm tra lại dữ liệu\n",
        "print(repr(data))"
      ]
    },
    {
      "cell_type": "markdown",
      "metadata": {
        "id": "-BRk1caBJyXg"
      },
      "source": [
        "Tiến hành chia các câu, chuỗi dựa trên cửa sổ trượt"
      ]
    },
    {
      "cell_type": "code",
      "execution_count": null,
      "metadata": {
        "id": "AWF2E1v958Eh"
      },
      "outputs": [],
      "source": [
        "import regex as re\n",
        "# Chia theo khoảng cách thay vì kí tự xuống hàng \"\\n\"\n",
        "window_size = 6\n",
        "\n",
        "# Tiến hành lấy chuôi các từ trong văn bản\n",
        "corpus = data.lower()\n",
        "words = corpus.split(\" \")\n",
        "\n",
        "# Tiến hành chia các câu (chuỗi) dựa trên cửa sổ trượt\n",
        "range_size = len(words) - window_size + 1\n",
        "\n",
        "input_sentences = []\n",
        "for i in range(range_size):\n",
        "  input_sentences.append(\" \".join(words[i:i+window_size]))\n",
        "\n",
        "\n",
        "# Kiểm tra 5 câu (chuỗi) đầu tiên\n",
        "for i in range(5):\n",
        "  print(repr(input_sentences[i]))"
      ]
    },
    {
      "cell_type": "markdown",
      "metadata": {
        "id": "QnI46rvLt2Vk"
      },
      "source": [
        "**Các câu ở chiến lược chia dữ liệu cũ:**\n",
        ">come all ye maidens young and fair   \n",
        "and you that are blooming in your prime   \n",
        "always beware and keep your garden fair   \n",
        "let no man steal away your thyme   \n",
        "for thyme it is a precious thing   \n",
        "\n",
        "\n",
        "**Các câu chia theo phương pháp cửa sổ trượt:**\n",
        ">come all ye maidens young and   \n",
        "all ye maidens young and fair\\nand   \n",
        "ye maidens young and fair\\nand you   \n",
        "maidens young and fair\\nand you that    \n",
        "young and fair\\nand you that are"
      ]
    },
    {
      "cell_type": "markdown",
      "metadata": {
        "id": "zmh8M-COJrWT"
      },
      "source": [
        "Bây giờ tụi mình đến với bước 2, tiến hành mã hóa và chia chuỗi con nha."
      ]
    },
    {
      "cell_type": "code",
      "execution_count": null,
      "metadata": {
        "id": "9S6aJ6JGEp6N"
      },
      "outputs": [],
      "source": [
        "# Tạo tokenizer\n",
        "tokenizer = Tokenizer()\n",
        "tokenizer.fit_on_texts(input_sentences)\n",
        "\n",
        "sub_sequences = []\n",
        "# Tiến hành mã hóa và chia chuỗi con\n",
        "for sentence in input_sentences:\n",
        "  token_list = tokenizer.texts_to_sequences([sentence])[0]\n",
        "  for i in range(1, len(token_list)):\n",
        "    n_gram_sequence = token_list[:i+1]\n",
        "    sub_sequences.append(n_gram_sequence)\n",
        "\n",
        "# Kiểm tra 5 chuỗi đầu tiên\n",
        "for i in range(5):\n",
        "  print(sub_sequences[i])"
      ]
    },
    {
      "cell_type": "code",
      "execution_count": null,
      "metadata": {
        "id": "EFgORcrIHB10"
      },
      "outputs": [],
      "source": [
        "# Kiểm tra kích thước từ điển\n",
        "print(f\"Tổng số lượng từ: {len(tokenizer.word_index)}\")\n",
        "print(f\"Bộ từ điển từ vựng: {tokenizer.word_index}\")"
      ]
    },
    {
      "cell_type": "code",
      "execution_count": null,
      "metadata": {
        "id": "1_sA4k2iAxvj"
      },
      "outputs": [],
      "source": [
        "# Tạo từ điển chuyển số thành từ\n",
        "index_words ={}\n",
        "for word, index in tokenizer.word_index.items():\n",
        "    index_words[index] = word"
      ]
    },
    {
      "cell_type": "markdown",
      "metadata": {
        "id": "5l6lBGl4HNUp"
      },
      "source": [
        "Ở đây có một lưu ý nhỏ: vì bản thân tokenizer đã có sẵn một bộ lọc để các kí tự đặc biệt nên các từ nối liền bởi kí tự đặc biệt (ví dụ: \"mother-in-law\" sẽ bị chuyển thành \"mother in law\"). Do đó sẽ có một số chuỗi có kích thước lớn hơn so với cửa sổ trượt. Ta sẽ tiến hành tính lại độ dài chuỗi dài nhất."
      ]
    },
    {
      "cell_type": "code",
      "execution_count": null,
      "metadata": {
        "id": "4NXxTxfyHM1w"
      },
      "outputs": [],
      "source": [
        "max_sequence_len = max([len(x) for x in sub_sequences])\n",
        "print(f\"Độ dài chuỗi dài nhất: {max_sequence_len}\")"
      ]
    },
    {
      "cell_type": "markdown",
      "metadata": {
        "id": "5ExmeFzg9qvd"
      },
      "source": [
        "Kết quả là:\n",
        "> Độ dài chuỗi dài nhất: 22\n",
        "\n",
        "Như chúng mình đã dự đoán nhưng không ngờ kích thước nó có thể tăng lên nhiều vậy."
      ]
    },
    {
      "cell_type": "code",
      "execution_count": null,
      "metadata": {
        "id": "D3zOa44BIbPr"
      },
      "outputs": [],
      "source": [
        "# Kiểm tra 5 chuỗi có độ dài lớn hơn cửa sổ trượt.\n",
        "sequences_higher_than_window = []\n",
        "for i in range(len(sub_sequences)):\n",
        "  if len(sub_sequences[i]) > window_size:\n",
        "    sequences_higher_than_window.append(sub_sequences[i])\n",
        "\n",
        "for i in range(5):\n",
        "  print(sequences_higher_than_window[i])"
      ]
    },
    {
      "cell_type": "markdown",
      "metadata": {
        "id": "PGEiY9D1IxOA"
      },
      "source": [
        "Bây giờ tụi mình sẽ tiến hành padding để tất cả chuỗi có cùng kích thước, độ dài nha."
      ]
    },
    {
      "cell_type": "code",
      "execution_count": null,
      "metadata": {
        "id": "QQ0JH5xpI6bS"
      },
      "outputs": [],
      "source": [
        "input_sequences = np.array(pad_sequences(sub_sequences, maxlen=max_sequence_len, padding=\"pre\"))\n",
        "\n",
        "# Chia dữ liệu x và labels để huấn luyện.\n",
        "xs = input_sequences[:,:-1]\n",
        "labels = input_sequences[:,-1]"
      ]
    },
    {
      "cell_type": "markdown",
      "metadata": {
        "id": "TH_4wehACKF3"
      },
      "source": [
        "Tiến hành tạo dataset để tối ưu hóa dữ liệu đẩy vào quá trình huấn luyện"
      ]
    },
    {
      "cell_type": "code",
      "execution_count": null,
      "metadata": {
        "id": "9E1MISaHXoem"
      },
      "outputs": [],
      "source": [
        "# Tạo datagen để xủ lý nhanh, tối ưu hóa quá trình huấn luyện hơn\n",
        "# Tạo đối tượng Dataset\n",
        "dataset = tf.data.Dataset.from_tensor_slices((xs, labels))\n",
        "\n",
        "# Tối ưu Dataset với shuffle, batch và prefetch\n",
        "AUTOTUNE = tf.data.AUTOTUNE\n",
        "dataset = (\n",
        "    dataset\n",
        "    .cache(\"train_cache.tfdata\")    # Thay vì lưu dữ liệu vào ram thì lưu hẳn vào disk\n",
        "    .shuffle(buffer_size=1000)      # Trộn dữ liệu\n",
        "    .batch(32)                      # Chia batch (batch_size=32)\n",
        "    .prefetch(buffer_size=AUTOTUNE) # Tải trước dữ liệu\n",
        ")"
      ]
    },
    {
      "cell_type": "markdown",
      "metadata": {
        "id": "IPZykQp2nwWX"
      },
      "source": [
        "Mình sẽ tiến hành định nghĩa kiến trúc mô hình theo đúng lần thử của tác giả, mọi người có thể linh hoạt thay đổi các siêu tham số liên tục để cải thiện nha.  \n",
        "\n",
        "Tác giả sau khi thử nhiều lần thì có đề xuất:  \n",
        "- **window_size**: 6  \n",
        "- **số chiều embedding**: 16  \n",
        "- **số unit trong LSTMs**: 32  \n",
        "- **tăng tốc độ học-learning rate lên**: tác giả không nói rõ nên mình tạm lấy **0.005** đi. Số mặc định là **0.001**  \n",
        "- **epochs**: 100 bởi số lượng tham số tính toán này là rất lớn. 🚀  "
      ]
    },
    {
      "cell_type": "code",
      "execution_count": null,
      "metadata": {
        "id": "JS-L_59IaBRY"
      },
      "outputs": [],
      "source": [
        "total_words = len(tokenizer.word_index) + 1 # vì từ điển bắt đầu từ 1, số 0 được thêm vào như padding"
      ]
    },
    {
      "cell_type": "code",
      "execution_count": null,
      "metadata": {
        "id": "2SBGyebYQuGT"
      },
      "outputs": [],
      "source": [
        "with strategy.scope():\n",
        "  model3 = Sequential([\n",
        "      Embedding(total_words, 16),\n",
        "      Bidirectional(LSTM(32, return_sequences=True)),\n",
        "      Bidirectional(LSTM(32)),\n",
        "      Dense(total_words, activation=\"softmax\")\n",
        "  ])\n",
        "  adam = Adam(learning_rate=0.01)\n",
        "  model3.compile(loss = 'sparse_categorical_crossentropy', optimizer = adam, metrics = ['accuracy'])"
      ]
    },
    {
      "cell_type": "code",
      "execution_count": null,
      "metadata": {
        "id": "Z4XR-DCiRE17"
      },
      "outputs": [],
      "source": [
        "start_time = time.time()\n",
        "history3 = model3.fit(dataset, epochs = 100)\n",
        "end_time = time.time()"
      ]
    },
    {
      "cell_type": "code",
      "execution_count": null,
      "metadata": {
        "id": "17RgwQEFRHft"
      },
      "outputs": [],
      "source": [
        "print(f\"Thời gian huấn luyện mô hình: {timedelta(seconds=end_time - start_time)}\")"
      ]
    },
    {
      "cell_type": "code",
      "execution_count": null,
      "metadata": {
        "id": "xAdcyVxpRI8p"
      },
      "outputs": [],
      "source": [
        "# Vẽ biểu đồ huấn luyện\n",
        "train_acc = history3.history[\"accuracy\"]\n",
        "train_loss = history3.history[\"loss\"]\n",
        "\n",
        "fig, axs = plt.subplots(1, 2, figsize = (12, 4))\n",
        "axs = axs.flatten()\n",
        "axs[0].plot(train_acc)\n",
        "axs[0].set_title(\"Training Accuracy\")\n",
        "axs[1].plot(train_loss, color=\"orange\")\n",
        "axs[1].set_title(\"Training Loss\")\n",
        "plt.tight_layout()\n",
        "plt.show()"
      ]
    },
    {
      "cell_type": "code",
      "execution_count": null,
      "metadata": {
        "id": "ABtvvjgqRMzE"
      },
      "outputs": [],
      "source": [
        "# Đánh giá mô hình\n",
        "model3.evaluate(dataset)"
      ]
    },
    {
      "cell_type": "code",
      "execution_count": null,
      "metadata": {
        "id": "GJQQRopD7Qbg"
      },
      "outputs": [],
      "source": [
        "model3.save(\"model3.h5\")"
      ]
    },
    {
      "cell_type": "code",
      "execution_count": null,
      "metadata": {
        "id": "IT-9aZxQHBSv"
      },
      "outputs": [],
      "source": [
        "# Tải lại mô hình\n",
        "model3 = load_model(\"model3.h5\")"
      ]
    },
    {
      "cell_type": "code",
      "execution_count": null,
      "metadata": {
        "id": "_eA1ZzADROy_"
      },
      "outputs": [],
      "source": [
        "# Tiến hành dự đoán\n",
        "seed_text = \"sweet jeremy saw dublin\"\n",
        "num_words = 100\n",
        "predicted_text = seed_text\n",
        "\n",
        "# Vì kích thước đầu vào đã thay đổi theo kích thước cửa sổ\n",
        "# nên ta cũng thay đổi phần cắt dữ liệu đưa vào tí\n",
        "for i in range(num_words):\n",
        "  # Kích thước cửa sổ cắt ra ban đầu là 6 nhưng phải chia từ cuối cho nhãn nên đầu vào là 5\n",
        "  token_list = tokenizer.texts_to_sequences([predicted_text])[0]\n",
        "  # Tiến hành kiểm tra luôn nếu kích thước không đủ thì padding vào hoặc dài quá thì có thể cắt đi\n",
        "  token_list = pad_sequences([token_list], maxlen=max_sequence_len-1, padding=\"pre\")\n",
        "  token_list = np.array(token_list)\n",
        "  predicted_result = model3.predict(token_list)\n",
        "  predicted_index = np.argmax(predicted_result, axis=-1)\n",
        "  output_word = index_words.get(predicted_index[0], \"\") # Nếu index không có trong từ điển, trả về kí tự rỗng như padding\n",
        "\n",
        "  print(f\"Step {i}:\")\n",
        "  print(f\"Từ dự đoán: {output_word} với xác suất {predicted_result[0][predicted_index[0]]*100:2f}%\")\n",
        "  print(\"-\"*50)\n",
        "  predicted_text += \" \" + output_word\n"
      ]
    },
    {
      "cell_type": "code",
      "execution_count": null,
      "metadata": {
        "id": "PykF8WrdTJ05"
      },
      "outputs": [],
      "source": [
        "print(f\"Văn bản sinh ra: \\n{predicted_text}\")"
      ]
    },
    {
      "cell_type": "markdown",
      "metadata": {
        "id": "UkZ0nLZ8diuv"
      },
      "source": [
        "# Character-Based Encoding  \n",
        "### Tụi mình sẽ tiếp cận với việc mã hóa ở cấp kí tự nha.  \n",
        "\n",
        "Nếu như ở các chương trước chúng ta thường hay sử dụng mã hóa ở cấp từ thì ở chương này chúng ta cần phải xem xét lại. Với một lượng văn bản khổng lồ như này, kích thước bộ từ điển từ cũng sẽ rất là lớn. Khi đến với tác vụ tạo sinh văn bản, chẳng phải đầu của mô hình bằng với kích thước bộ từ điển và nó thật sự là một con số choáng ngợp.  \n",
        "\n",
        "Trong khi đó nếu ta sử dụng mã hóa ở cấp kí tự thì kích thước bộ từ điển sẽ nhỏ hơn rất nhiều, đầu ra mà mô hình cũng ít hơn. Thậm chí thấp hơn cả trăm lần. ✨  \n",
        "\n",
        "**VD**: Chúng ta có một bộ dữ liệu văn bản:  \n",
        "- Khi mã hóa ở cấp từ, bộ từ điển của chúng ta có kích thước là **2700** tương ứng với 2700 từ riêng biệt.  \n",
        "- Tuy nhiên khi mã hóa ở cấp kí tự thì kích thước từ điển chỉ còn **65**, nhỏ hơn rất là nhiều, mô hình cũng chỉ cần dự đoán đầu ra là **65 nhãn** thay vì **2700** như trước.  \n",
        "\n",
        "Qua cách mã hóa dữ liệu trên thì mô hình của chúng ta sẽ đơn giản hơn rất nhiều, ngoài ra cũng có thể chứa các kí tự đặc biệt. 🚀  "
      ]
    },
    {
      "cell_type": "code",
      "execution_count": null,
      "metadata": {
        "id": "CnwJB1vtLunZ"
      },
      "outputs": [],
      "source": [
        "import kagglehub\n",
        "\n",
        "# Download latest version\n",
        "path = kagglehub.dataset_download(\"kewagbln/shakespeareonline\")\n",
        "\n",
        "print(\"Path to dataset files:\", path)"
      ]
    },
    {
      "cell_type": "code",
      "execution_count": null,
      "metadata": {
        "id": "GdZ1qbPmMRSH"
      },
      "outputs": [],
      "source": [
        "# Liệt kê danh sách file\n",
        "for f in os.listdir(path):\n",
        "  print(f)"
      ]
    },
    {
      "cell_type": "code",
      "execution_count": null,
      "metadata": {
        "id": "REwsNOH6MIac"
      },
      "outputs": [],
      "source": [
        "# Load dữ liệu vào\n",
        "data = open(os.path.join(path,\"t8.shakespeare.txt\"), \"r\").read()\n",
        "# Kiểm tra dữ liệu\n",
        "print(data)"
      ]
    },
    {
      "cell_type": "code",
      "execution_count": null,
      "metadata": {
        "id": "2iMBBlmNMfQ1"
      },
      "outputs": [],
      "source": [
        "# Tiến hành chia câu dựa trên cửa sổ trượt\n",
        "window_size = 17\n",
        "corpus = data.lower()\n",
        "\n",
        "# Lấy danh sách kí tự\n",
        "characters = list(corpus)\n",
        "# print(characters)\n",
        "\n",
        "# Chia câu (chuỗi) dựa trên cửa sổ trượt\n",
        "range_size = len(characters) - window_size + 1\n",
        "input_sentences = []\n",
        "for i in range(range_size):\n",
        "  input_sentences.append(\"\".join(characters[i:i+window_size]))\n",
        "\n",
        "# Kiểm tra 5 câu (chuỗi) đầu tiên:\n",
        "for i in range(5):\n",
        "  print(repr(input_sentences[i]))"
      ]
    },
    {
      "cell_type": "code",
      "execution_count": null,
      "metadata": {
        "id": "BunmodZQNtEY"
      },
      "outputs": [],
      "source": [
        "import pickle\n",
        "\n",
        "# Tiến hành tạo bộ mã hóa cấp kí tự và chia chuỗi con\n",
        "tokenizer = Tokenizer(char_level=True)\n",
        "tokenizer.fit_on_texts(input_sentences)\n"
      ]
    },
    {
      "cell_type": "code",
      "execution_count": null,
      "metadata": {
        "id": "3PB_cfGIUNj7"
      },
      "outputs": [],
      "source": [
        "print(f\"Tổng số lượng kí tự: {len(tokenizer.word_index)}\")\n",
        "print(f\"Bộ từ điển từ vựng: {tokenizer.word_index}\")"
      ]
    },
    {
      "cell_type": "code",
      "execution_count": null,
      "metadata": {
        "id": "BItmUKP7sRqC"
      },
      "outputs": [],
      "source": [
        "# Tạo bộ từ điển chuyển đổi\n",
        "index_words = {}\n",
        "for word, index in tokenizer.word_index.items():\n",
        "  index_words[index] = word"
      ]
    },
    {
      "cell_type": "markdown",
      "metadata": {
        "id": "HWMH-WSeYNXk"
      },
      "source": [
        "Vì vấn đề ram không đủ, lượng dữ liệu quá lớn nên mình tiến hành lưu từng dữ liệu mã hóa vào một file pickle nha."
      ]
    },
    {
      "cell_type": "code",
      "execution_count": null,
      "metadata": {
        "id": "vKcsonfbUPcw"
      },
      "outputs": [],
      "source": [
        "\n",
        "# Tạo file tạm để lưu dữ liệu\n",
        "temp_file = \"sub_sequences_temp.pkl\"\n",
        "max_sequence_len = 0\n",
        "\n",
        "with open(temp_file, \"wb\") as f:\n",
        "  for sentence in input_sentences:\n",
        "    token_list = tokenizer.texts_to_sequences([sentence])[0]\n",
        "    if len(token_list) > max_sequence_len:\n",
        "      max_sequence_len = len(token_list)\n",
        "    for i in range(1, len(token_list)):\n",
        "      n_gram_sequence = token_list[:i+1]\n",
        "      pickle.dump(n_gram_sequence, f)\n",
        "\n",
        "print(f\"Độ dài chuỗi dài nhất: {max_sequence_len}\")"
      ]
    },
    {
      "cell_type": "markdown",
      "metadata": {
        "id": "HVhsqWwaeTGI"
      },
      "source": [
        " Sau khi tiến hành lưu một file pickle xong, ta sẽ tiến hành xử lý theo từng batch, tuy là việc này sẽ tốn thời gian hơn rất nhiều nhưng đây là cách duy nhất vì lượng dữ liệu quá lớn."
      ]
    },
    {
      "cell_type": "code",
      "execution_count": null,
      "metadata": {
        "id": "FxHjXDFme2Gw"
      },
      "outputs": [],
      "source": [
        "temp_file = \"sub_sequences_temp.pkl\"\n",
        "def read_sequences_in_batches(file_path, batch_size):\n",
        "    \"\"\"\n",
        "    Hàm generator đọc dữ liệu từ file Pickle theo từng batch.\n",
        "    \"\"\"\n",
        "    with open(file_path, \"rb\") as f:\n",
        "        batch = []\n",
        "        while True:\n",
        "            try:\n",
        "                # Đọc từng chuỗi\n",
        "                n_gram_sequence = pickle.load(f)\n",
        "                batch.append(n_gram_sequence)\n",
        "                # Nếu đủ batch size, yield batch và khởi tạo lại\n",
        "                if len(batch) == batch_size:\n",
        "                    yield batch\n",
        "                    batch = []\n",
        "            except EOFError:\n",
        "                # Trả về batch cuối cùng nếu còn dữ liệu\n",
        "                if batch:\n",
        "                    yield batch\n",
        "                break"
      ]
    },
    {
      "cell_type": "code",
      "execution_count": null,
      "metadata": {
        "id": "bkcQWUNPe9MR"
      },
      "outputs": [],
      "source": [
        "def process_batch(batch, max_seq_length):\n",
        "    \"\"\"\n",
        "    Pad các chuỗi và tách X (input), labels (output).\n",
        "    \"\"\"\n",
        "    # Pad các chuỗi đến chiều dài tối đa\n",
        "    padded_batch = pad_sequences(batch, maxlen=max_seq_length, padding='pre')\n",
        "\n",
        "    # Tách X và labels\n",
        "    X = padded_batch[:, :-1]  # Tất cả trừ phần tử cuối\n",
        "    labels = padded_batch[:, -1]  # Phần tử cuối cùng làm nhãn\n",
        "    return X, labels"
      ]
    },
    {
      "cell_type": "code",
      "execution_count": null,
      "metadata": {
        "id": "1NzkFZtefsmT"
      },
      "outputs": [],
      "source": [
        "def data_generator(file_path, batch_size, max_seq_length):\n",
        "    for batch in read_sequences_in_batches(file_path, batch_size):\n",
        "        X, labels = process_batch(batch, max_seq_length)\n",
        "        yield X, labels\n",
        "\n",
        "batch_size = 16\n",
        "dataset = tf.data.Dataset.from_generator(\n",
        "    lambda: data_generator(temp_file, batch_size, max_sequence_len),\n",
        "    output_signature=(\n",
        "        tf.TensorSpec(shape=(None, max_sequence_len - 1), dtype=tf.int32),  # X\n",
        "        tf.TensorSpec(shape=(None,), dtype=tf.int32)  # labels\n",
        "    )\n",
        ")\n",
        "\n",
        "# Prefetch để tăng hiệu suất\n",
        "dataset = dataset.cache(\"train_cache.tfdata\").prefetch(tf.data.experimental.AUTOTUNE)\n",
        "\n"
      ]
    },
    {
      "cell_type": "code",
      "execution_count": null,
      "metadata": {
        "id": "6Z6XxkOd7NCM"
      },
      "outputs": [],
      "source": [
        "# Kiểm tra số lượng kí tự tối đa\n",
        "total_words = len(tokenizer.word_index) + 1\n",
        "print(f\"Số lượng kí tự: {total_words}\")"
      ]
    },
    {
      "cell_type": "markdown",
      "metadata": {
        "id": "GgB-oFNmiFwK"
      },
      "source": [
        "Uầy vậy là số lượng nhãn đầu ra mà mô hình phải dự đoán đã thấp hơn rất nhiều rồi, chỉ 66 kí tự. Bây giờ tụi mình tiến hành định nghĩa và huấn luyện mô hình thử nha."
      ]
    },
    {
      "cell_type": "code",
      "execution_count": null,
      "metadata": {
        "id": "yQfaeQaz72L-"
      },
      "outputs": [],
      "source": [
        "# Định nghĩa mô hình\n",
        "with strategy.scope():\n",
        "  model4 = Sequential([\n",
        "      Embedding(total_words, 16),\n",
        "      Bidirectional(LSTM(32, return_sequences=True)),\n",
        "      Bidirectional(LSTM(32)),\n",
        "      Dense(total_words, activation=\"softmax\")\n",
        "  ])\n",
        "  adam = Adam(learning_rate=0.01)\n",
        "  model4.compile(loss = 'sparse_categorical_crossentropy', optimizer = adam, metrics = ['accuracy'])"
      ]
    },
    {
      "cell_type": "code",
      "execution_count": null,
      "metadata": {
        "id": "0egK2V0mA5ts"
      },
      "outputs": [],
      "source": [
        "model4.summary()"
      ]
    },
    {
      "cell_type": "code",
      "execution_count": null,
      "metadata": {
        "colab": {
          "background_save": true
        },
        "id": "I7MPVbZS8AMA"
      },
      "outputs": [],
      "source": [
        "start_time = time.time()\n",
        "history4 = model4.fit(dataset, epochs = 100)\n",
        "end_time = time.time()"
      ]
    },
    {
      "cell_type": "code",
      "execution_count": null,
      "metadata": {
        "id": "al72VLFa8SME"
      },
      "outputs": [],
      "source": [
        "print(f\"Thời gian huấn luyện mô hình: {timedelta(seconds=end_time - start_time)}\")"
      ]
    },
    {
      "cell_type": "code",
      "execution_count": null,
      "metadata": {
        "id": "S5xK6oNW8UUS"
      },
      "outputs": [],
      "source": [
        "# Vẽ biểu đồ quá trình huấn luyện\n",
        "train_acc = history4.history[\"accuracy\"]\n",
        "train_loss = history4.history[\"loss\"]\n",
        "\n",
        "fig,axs = plt.subplots(1, 2, figsize = (12, 4))\n",
        "axs = axs.flatten()\n",
        "axs[0].plot(train_acc)\n",
        "axs[0].set_title(\"Training Accuracy\")\n",
        "axs[1].plot(train_loss, color=\"orange\")\n",
        "axs[1].set_title(\"Training Loss\")\n",
        "plt.tight_layout()\n",
        "plt.show()"
      ]
    },
    {
      "cell_type": "code",
      "execution_count": null,
      "metadata": {
        "id": "DSSahWnHA4yt"
      },
      "outputs": [],
      "source": [
        "model4.eval(dataset)"
      ]
    },
    {
      "cell_type": "code",
      "execution_count": null,
      "metadata": {
        "id": "VkqHVuCl7Wgt"
      },
      "outputs": [],
      "source": [
        "model4.save(\"model4.h5\")"
      ]
    },
    {
      "cell_type": "code",
      "execution_count": null,
      "metadata": {
        "id": "8Y6lTIs2AQ2U"
      },
      "outputs": [],
      "source": [
        "# Cập nhật trọng số từ mô hình đã lưu\n",
        "model4 = tf.keras.models.load_model('model4.h5')"
      ]
    },
    {
      "cell_type": "code",
      "execution_count": null,
      "metadata": {
        "id": "OcJsdx5WE1JU"
      },
      "outputs": [],
      "source": [
        "# Tiến hành dự đoán\n",
        "seed_text = \"sweet jeremy saw dublin\"\n",
        "num_words = 500\n",
        "predicted_text = seed_text\n",
        "\n",
        "# Vì kích thước đầu vào đã thay đổi theo kích thước cửa sổ\n",
        "# nên ta cũng thay đổi phần cắt dữ liệu đưa vào tí\n",
        "for i in range(num_words):\n",
        "  # Kích thước cửa sổ cắt ra ban đầu là 6 nhưng phải chia từ cuối cho nhãn nên đầu vào là 5\n",
        "  token_list = tokenizer.texts_to_sequences([predicted_text])[0]\n",
        "  # Tiến hành kiểm tra luôn nếu kích thước không đủ thì padding vào hoặc dài quá thì có thể cắt đi\n",
        "  token_list = pad_sequences([token_list], maxlen=window_size-1, padding=\"pre\")\n",
        "  token_list = np.array(token_list)\n",
        "  predicted_result = model4.predict(token_list)\n",
        "  predicted_index = np.argmax(predicted_result, axis=-1)\n",
        "  output_char = index_words[predicted_index[0]]\n",
        "\n",
        "  print(f\"Step {i}:\")\n",
        "  print(f\"Từ dự đoán: {output_char} với xác suất {predicted_result[0][predicted_index[0]]*100:2f}%\")\n",
        "  print(\"-\"*50)\n",
        "  predicted_text += \" \" + output_char\n"
      ]
    },
    {
      "cell_type": "code",
      "execution_count": null,
      "metadata": {
        "id": "h7UaPsBUc5vo"
      },
      "outputs": [],
      "source": [
        "print(\"Văn bản sinh ra:\")\n",
        "print(predicted_text)"
      ]
    }
  ],
  "metadata": {
    "accelerator": "GPU",
    "colab": {
      "gpuType": "T4",
      "provenance": [],
      "include_colab_link": true
    },
    "kaggle": {
      "accelerator": "nvidiaTeslaT4",
      "dataSources": [
        {
          "datasetId": 115588,
          "sourceId": 276428,
          "sourceType": "datasetVersion"
        },
        {
          "datasetId": 6378565,
          "sourceId": 10304562,
          "sourceType": "datasetVersion"
        },
        {
          "datasetId": 2489101,
          "sourceId": 4222990,
          "sourceType": "datasetVersion"
        }
      ],
      "dockerImageVersionId": 30822,
      "isGpuEnabled": true,
      "isInternetEnabled": true,
      "language": "python",
      "sourceType": "notebook"
    },
    "kernelspec": {
      "display_name": "Python 3",
      "name": "python3"
    },
    "language_info": {
      "codemirror_mode": {
        "name": "ipython",
        "version": 3
      },
      "file_extension": ".py",
      "mimetype": "text/x-python",
      "name": "python",
      "nbconvert_exporter": "python",
      "pygments_lexer": "ipython3",
      "version": "3.10.12"
    }
  },
  "nbformat": 4,
  "nbformat_minor": 0
}