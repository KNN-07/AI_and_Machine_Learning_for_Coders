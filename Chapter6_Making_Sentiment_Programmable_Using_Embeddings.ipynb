{
  "nbformat": 4,
  "nbformat_minor": 0,
  "metadata": {
    "colab": {
      "provenance": [],
      "authorship_tag": "ABX9TyPwN+J8N4oy7hPbwePGm2Gj",
      "include_colab_link": true
    },
    "kernelspec": {
      "name": "python3",
      "display_name": "Python 3"
    },
    "language_info": {
      "name": "python"
    }
  },
  "cells": [
    {
      "cell_type": "markdown",
      "metadata": {
        "id": "view-in-github",
        "colab_type": "text"
      },
      "source": [
        "<a href=\"https://colab.research.google.com/github/Tkag0001/AI_and_Machine_Learning_for_Coders/blob/main/Chapter6_Making_Sentiment_Programmable_Using_Embeddings.ipynb\" target=\"_parent\"><img src=\"https://colab.research.google.com/assets/colab-badge.svg\" alt=\"Open In Colab\"/></a>"
      ]
    },
    {
      "cell_type": "markdown",
      "source": [
        "# Chapter 6: Making Sentiment Programmable Using Embeddings\n",
        "### (Lập trình hóa hóa cảm xúc bằng cách sử dụng các vector biểu diễn).\n",
        "\n",
        "P/s: Dịch thô là \"Làm cho cảm xúc có thể lập trình được bằng cách sử dụng phần nhúng\". Thường mọi người sẽ gọi là **Embedding** luôn, nó giống như một tên gọi đặc trưng hay thuật ngữ vậy. Mình nghĩ nếu mà dịch ra được thì gần nghĩa nhất là **vector biểu diễn**.\n",
        "\n",
        "Nếu mọi người có cách dịch nào hay hơn có thể góp ý cho mình nha."
      ],
      "metadata": {
        "id": "YiQkdSrbXQ-L"
      }
    },
    {
      "cell_type": "markdown",
      "source": [
        "![Word Embedding Image](https://f.hypotheses.org/wp-content/blogs.dir/4190/files/2018/04/Screen-Shot-2018-04-25-at-13.21.44.png)"
      ],
      "metadata": {
        "id": "tlMHpY3x8RjM"
      }
    },
    {
      "cell_type": "markdown",
      "source": [
        "Trước khi bắt đầu **chương 6**, tụi mình cùng ôn tập lại tí **chương 5** nha.\n",
        "\n",
        "Ở chương trước chúng ta đã được tìm hiểu thế nào là **mã hóa văn bản**, các cách cơ bản để mã hóa như **mã hóa kí tự** hay **mã hóa từ** thành một chuỗi hay dãy các số để máy có thể học tập và phân tích được.\n",
        "\n",
        "Tuy nhiên, chúng ta phải thừa nhận một điều rằng, tất cả dữ liệu đều quy về **dạng số** và điều mà các mô hình học máy làm là thực hiện các **phép tính toán xác suất** lại với nhau. Chúng không có khả năng hiểu được **ngữ nghĩa của văn bản**.\n",
        "\n",
        "Cách duy nhất để các số chứa đựng được **ngữ nghĩa của từ** là thông qua mã hóa. Tin buồn là:\n",
        ">*Không có phương pháp mã hóa nào có thể bao hàm **tuyệt đối** ngữ nghĩa của một từ hay văn bản!.*\n",
        "\n",
        "Tuy nhiên không hẳn là hết cách, tin vui là:\n",
        "> *Không có phương pháp tuyệt đối nhưng chúng ta có những phương pháp **tương đối** để có thể nắm được nhiều hơn các ngữ nghĩa của chúng, và các phương pháp này không ngừng được phát triển và cải thiện.*\n",
        "\n",
        "Hiện nay, hướng phát triển tốt nhất là **tăng cường dữ liệu đại diện cho các từ lên** thông qua việc **mã hóa các từ thành các vector biểu diễn**, các vector sẽ được biểu diễn trên một **chiều không gian cao hơn**. Nói vậy khá khó hiểu nên chúng ta sẽ đi vào ví dụ cụ thể nha.\n",
        "\n",
        "Ở **chương 5** ta học về **mã hóa kí tự** hay **mã hóa từ** làm cho các câu văn, văn bản thành **vector một chiều** - **Không gian một chiều**.\n",
        "\n",
        "\n",
        "```python\n",
        "\"Cảm ơn vũ trụ đã cho con sống lại một lần nữa để có thể làm những điều tuyệt vời này <3. \"\"\n",
        "              |\n",
        "              v\n",
        "[1, 2, 3, 4, 5, 6, 7, 8, 9, 10, 11, 12, 13, 14, 15, 16, 17, 18, 19, 20, 21]\n",
        "```\n",
        "***Thần chú: tập hợp các tạo nên câu văn trong không gian một chiều có tọa độ là (x).***\n",
        "\n",
        "Các phần tử có tọa độ lần lượt là:\n",
        "\n",
        "\n",
        "```python\n",
        "'Cảm': 1,\n",
        "'ơn': 2,\n",
        "'vũ': 3,\n",
        "...\n",
        "```\n",
        "\n",
        "\n",
        "---\n",
        "\n",
        "Giờ đây với phương pháp **word embedding**, các câu văn có thể được **mã hóa** lên một **chiều cao hơn** như một loạt các vector:\n",
        "\n",
        "```python\n",
        "\"Cảm ơn vũ trụ đã cho con sống lại một lần nữa để có thể làm những điều tuyệt vời này <3.\"\n",
        "              |\n",
        "              v\n",
        "[\n",
        " [0.1, 0.3, 0.5, 0.2, 0.9],  # Vector đại diện cho \"Cảm\"\n",
        " [0.4, 0.6, 0.7, 0.3, 0.8],  # Vector đại diện cho \"ơn\"\n",
        " [0.2, 0.8, 0.6, 0.4, 0.7],  # Vector đại diện cho \"vũ\"\n",
        " [0.5, 0.1, 0.3, 0.9, 0.6],  # Vector đại diện cho \"trụ\"\n",
        " ...\n",
        "]\n",
        "\n",
        "```\n",
        "\n",
        "Vì lúc chuyển thành ma trận thì dẫn đến nhìn chiều ngang thành chiều dọc dễ gây ra nhầm lẫn nên mọi người để ý kĩ phần này nha.\n",
        "\n",
        "Hiện tại câu văn của chúng ta đã được chuyển sang một **không gian 5 chiều.**\n",
        "Câu văn vẫn là một chuỗi các phần tử liên tiếp nhau thôi. Nhưng giờ đây mỗi phần tử(từ) sẽ là một điểm dữ liệu ở **không gian 5 chiều**.\n",
        "\n",
        "***Thần chú: tập hợp các điểm tạo nên câu văn trong không gian 5 chiều có tọa độ là (x,y,z,p,q)***\n",
        "\n",
        "Các phần tử có tọa độ lần lượt là:\n",
        "\n",
        "\n",
        "```python\n",
        "'Cảm': [0.1, 0.3, 0.5, 0.2, 0.9],\n",
        "'ơn': [0.4, 0.6, 0.7, 0.3, 0.8],\n",
        "'vũ': [0.2, 0.8, 0.6, 0.4, 0.7],\n",
        "...\n",
        "```\n",
        "\n",
        "Mọi người có thể liên tưởng nó như toán cấp 3, hình học không gian 3 chiều ha, nào là khối lập phương với 4 đỉnh có tọa độ (x, y, z) đồ này...\n",
        "\n",
        "Ở đây mình có thêm một ví dụ nữa khi thực hiện embeddings văn bản, các từ thành không gian 3 chiều nha.\n",
        "\n",
        "![Embedding in 3D](https://www.baeldung.com/wp-content/uploads/sites/4/2023/03/word_embedding.drawio.png)\n",
        "\n",
        "Các vector này sẽ không ngừng được học theo thời gian dựa trên việc sử dụng các từ trong ngữ cảnh, qua đó ta có thể nắm bắt được nhiều ngữ nghĩa hơn của từ cũng như các câu, văn bản.\n",
        "\n",
        "Ngoài phương pháp **word embedding** ta vẫn sẽ còn nhiêu phương pháp **embedding** khác nữa với các cách thức và kết hợp cả phép toán cộng, trừ, nhân, chia đồ lại. Mọi người có thể thử tìm hiểu thêm về các phương pháp khác như **Sentece embeddding**.\n",
        "\n",
        "***Lưu ý: Mình vẫn phải nhấn mạnh một lần nữa mọi thứ vẫn chỉ ở mức tương đối và không có gì là tuyệt đối cả (tính ở thời điểm hiện tại).***\n",
        "\n"
      ],
      "metadata": {
        "id": "pDbqn-vftpXI"
      }
    },
    {
      "cell_type": "code",
      "execution_count": null,
      "metadata": {
        "id": "wyA9GEnGPLva"
      },
      "outputs": [],
      "source": []
    }
  ]
}