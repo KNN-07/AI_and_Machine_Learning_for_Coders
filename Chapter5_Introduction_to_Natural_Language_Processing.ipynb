{
  "nbformat": 4,
  "nbformat_minor": 0,
  "metadata": {
    "colab": {
      "provenance": [],
      "authorship_tag": "ABX9TyNWwyhakuGO/eORTmrBcMrq",
      "include_colab_link": true
    },
    "kernelspec": {
      "name": "python3",
      "display_name": "Python 3"
    },
    "language_info": {
      "name": "python"
    }
  },
  "cells": [
    {
      "cell_type": "markdown",
      "metadata": {
        "id": "view-in-github",
        "colab_type": "text"
      },
      "source": [
        "<a href=\"https://colab.research.google.com/github/Tkag0001/AI_and_Machine_Learning_for_Coders/blob/main/Chapter5_Introduction_to_Natural_Language_Processing.ipynb\" target=\"_parent\"><img src=\"https://colab.research.google.com/assets/colab-badge.svg\" alt=\"Open In Colab\"/></a>"
      ]
    },
    {
      "cell_type": "markdown",
      "source": [
        "# Introduction to Natural Language Processing\n",
        "![Introduce image](https://bobcares.com/wp-content/uploads/2024/11/Natural-Language-Processing.png)"
      ],
      "metadata": {
        "id": "k4iLnnTYc7wz"
      }
    },
    {
      "cell_type": "markdown",
      "source": [
        "Đến với chương 5 này tụi mình sẽ cùng nhau tìm hiểu về **NLP** nha. Đây cũng là chủ đề chính trong một vài chương tiếp theo của chúng ta luôn nha.\n",
        "\n",
        "> **NLP là gì?**\n",
        "\n",
        "**NLP** là viết tắt của cụm từ **Natural language processing**, dịch thô có nghĩa là **xử lý ngôn ngữ tự nhiên**, là một nhánh trong lĩnh vực trí tuệ nhân tạo.\n",
        "\n",
        "Mọi người có thể hiểu đơn giản là **NLP** liên quan đến các công nghệ mà ở đó các thiết bị hay máy tính có thể hiểu được ngôn ngữ người dùng, thực hiện được các tác vụ như phân loại nội dung, phân tích ngữ cảnh, cũng như tạo ra các văn bản, thành phần ở mức ngôn ngữ con người.\n"
      ],
      "metadata": {
        "id": "3wnuHCzeeJ0B"
      }
    },
    {
      "cell_type": "markdown",
      "source": [
        "## Ứng dụng của NLP:\n",
        "Cái này thì quá đơn giản rồi ha, gần nhất với mọi người sử dụng hàng ngày là **Chatbot**.\n",
        "\n",
        "Các ứng dụng khác có thể kể đến như là xác định các đối tượng trong văn bản, phân loại bình luận tích cực hay tiêu cực,...\n",
        "\n",
        "Tuy nhiên trong mục tiêu, phạm vi của cuốn sách lần này, chúng ta chỉ đơn giản là tìm hiểu **NLP** theo hướng tiếp cận cơ bản, hiểu được cách mô hình hóa ngôn ngữ, nhờ đó có thể huấn luyện mô hình để thực hiện các tác vụ như là hiểu và phân loại nội dung văn bản."
      ],
      "metadata": {
        "id": "iC-rOsh_hoLJ"
      }
    },
    {
      "cell_type": "markdown",
      "source": [
        "Bắt đầu chương này, tụi mình sẽ đến với phần tìm hiếu cách để chuyển từ dữ liệu văn bản sang dạng số, cũng như sử dụng chính những số đó cho mô hình neural nha."
      ],
      "metadata": {
        "id": "EBYuX2PpBxcX"
      }
    },
    {
      "cell_type": "markdown",
      "source": [
        "# Encoding Language into Numbes.(Mã hóa ngôn ngữ thành chữ số)\n",
        "\n",
        "Đầu tiên tụi mình sẽ đến với phần mã hóa, chuyển đổi ngôn ngữ thành dạng chữ số nha.\n",
        "\n",
        "> **Tại sao lại cần chuyển đổi từ văn bản thành dạng số?**\n",
        "\n",
        "Mình nghĩ để giải thích dễ dàng nhất thì là thuận tiện cho việc đưa vào các công thức tính toán."
      ],
      "metadata": {
        "id": "SzWZSsGqhBcp"
      }
    },
    {
      "cell_type": "markdown",
      "source": [
        "![Encoding image](https://files.readme.io/bf9ae1b-Iwanttobreakfree.png)"
      ],
      "metadata": {
        "id": "ig5RctsSq_JR"
      }
    },
    {
      "cell_type": "markdown",
      "source": [
        "> **Vậy câu hỏi đặt ra là chúng ta sẽ mã hóa chúng như thế nào ?**\n",
        "\n",
        "Thực ra là có rất nhiều cách để mã hóa.\n",
        "Đơn giản nhất đi ha là tụi mình sẽ tiến hành phân tích mã hóa theo kí tự."
      ],
      "metadata": {
        "id": "DghL3plS4Stp"
      }
    },
    {
      "cell_type": "markdown",
      "source": [
        "## Mã hóa theo kí tự (Character tokenizer)\n",
        "\n",
        "Mã hóa theo kí tự tức mỗi kí tự sẽ tương ứng với một số, qua đó một từ hay một câu sẽ là một vector hay chuỗi số. Điển hình mà mọi người có thể thấy rõ nhất là bộ mã **ASCII** ha.\n",
        "\n",
        "VD. Chiếu theo bộ mã ASCII ta sẽ có:\n",
        "- **\"Dead is like the wind, always by my side\"** -> [68, 101, 97, 100, 32, 105, 115, 32, 108, 105, 107, 101, 32, 116, 104, 101, 32, 119, 105, 110, 100, 44, 32, 97, 108, 119, 97, 121, 115, 32, 98, 121, 32, 109, 121, 32, 115, 105, 100, 101]\n",
        "\n",
        "\n",
        "\n",
        "```python\n",
        "D: 68\n",
        "e: 101\n",
        "a: 97\n",
        "d: 100\n",
        " : 32\n",
        "i: 105\n",
        "s: 115\n",
        " : 32\n",
        "l: 108\n",
        "i: 105\n",
        "k: 107\n",
        "e: 101\n",
        " : 32\n",
        "t: 116\n",
        "h: 104\n",
        "e: 101\n",
        " : 32\n",
        "w: 119\n",
        "i: 105\n",
        "n: 110\n",
        "d: 100\n",
        ",: 44\n",
        " : 32\n",
        "a: 97\n",
        "l: 108\n",
        "w: 119\n",
        "a: 97\n",
        "y: 121\n",
        "s: 115\n",
        " : 32\n",
        "b: 98\n",
        "y: 121\n",
        " : 32\n",
        "m: 109\n",
        "y: 121\n",
        " : 32\n",
        "s: 115\n",
        "i: 105\n",
        "d: 100\n",
        "e: 101\n",
        "\n",
        "```\n",
        "\n"
      ],
      "metadata": {
        "id": "_YicShG6s5Sr"
      }
    },
    {
      "cell_type": "markdown",
      "source": [
        "Tuy nhiên mọi người sẽ gặp phải một vấn đề nha. Trong một số trường hợp, chúng sẽ ảnh hưởng đến mô hình nên đây cũng là điểm hạn chế của mã hóa theo kí tự.\n",
        "\n",
        "Sẽ có một số từ sẽ có số lượng kí tự lẫn các kí tự y chang nhau chỉ là thay đổi về số lượng từ thôi. Mặc dù là thứ tự cũng có khác đấy nhưng mà nó vẫn gây khó khăn trong việc hiểu được nội dung của mô hình.\n",
        "\n",
        "Những trường hợp từ như vậy gọi là **antigram**.\n",
        "Mình ví dụ một số từ như là:\n",
        "- Santa - Satan\n",
        "- restful - fluster\n",
        "- forty five - over fifty\n",
        "\n",
        "Có một joke nghe hơi dark dựa trên **antigram** là:\n",
        "> **\"Evangelist is the Evil's Agent.\"** 💀\n",
        "\n"
      ],
      "metadata": {
        "id": "3GJh-7yOwY8Q"
      }
    },
    {
      "cell_type": "markdown",
      "source": [
        "Thay vào đó tụi mình sẽ có một cách thay thế tốt hơn là mã hóa theo từ."
      ],
      "metadata": {
        "id": "vHE6BLHOtwKI"
      }
    },
    {
      "cell_type": "markdown",
      "source": [
        "## Mã hóa theo từ (Word tokenizer)\n",
        "Hiểu đơn giản là với mỗi từ tụi mình sẽ có một số để đại diện cho từ đó.\n",
        "\n",
        "```python\n",
        "# \"Caption Teemo on duty\" -> [1, 2, 3, 4]\n",
        "vocabulary = {\n",
        "  \"Caption\": 1,\n",
        "  \"Teemo\": 2\n",
        "  \"on\": 3,\n",
        "  \"duty\": 4\n",
        "}\n",
        "```\n",
        "\n",
        "Tuy nhiên chúng có sẽ có các hạn chế khác, tụi mình sẽ bàn sau ha. Còn bây giờ đi vào ví dụ code cụ thể trước nha."
      ],
      "metadata": {
        "id": "5AJ0gix90_pE"
      }
    },
    {
      "cell_type": "code",
      "source": [
        "import tensorflow as tf\n",
        "from tensorflow import keras\n",
        "from tensorflow.keras.preprocessing.text import Tokenizer\n",
        "\n",
        "org_texts = [\n",
        "    \"Today is a sunny day\",\n",
        "    \"Today is a rainy day\"\n",
        "]\n",
        "\n",
        "\n",
        "# Định nghĩa số lượng từ trong công cụ mã hóa (tokenizer)\n",
        "tokenizer = Tokenizer(num_words = 100)\n",
        "# Tiến hành đẩy các từ vào để tạo thư viện từ trong công cụ mã hóa.\n",
        "tokenizer.fit_on_texts(org_texts)\n",
        "# Lấy từ điển mã hóa ra\n",
        "word_index = tokenizer.word_index\n",
        "print(word_index)"
      ],
      "metadata": {
        "colab": {
          "base_uri": "https://localhost:8080/"
        },
        "id": "6a7czeBC4He3",
        "outputId": "51013d6e-f486-4e13-9f29-27a868bf5bea"
      },
      "execution_count": 1,
      "outputs": [
        {
          "output_type": "stream",
          "name": "stdout",
          "text": [
            "{'today': 1, 'is': 2, 'a': 3, 'day': 4, 'sunny': 5, 'rainy': 6}\n"
          ]
        }
      ]
    },
    {
      "cell_type": "markdown",
      "source": [
        "Như đây là kết quả của đoạn code ở trên nha, chúng ta sẽ lấy được từ điển mã hóa từ như sau\n",
        "\n",
        "```python\n",
        "{'today': 1, 'is': 2, 'a': 3, 'day': 4, 'sunny': 5, 'rainy': 6}\n",
        "```\n",
        "Như mọi người thấy, mỗi từ sẽ được lưu lại và được đại diện bởi một con số mã hóa.\n",
        "\n",
        "Sau khi đẩy các chuỗi vào để tạo từ điển, tụi mình sẽ tiến mã hóa các chuỗi hay câu với hàm **texts_to_sequences** nha. Mọi người chỉ cần chuyển list các câu vào.\n"
      ],
      "metadata": {
        "id": "dVYqm37vAkSE"
      }
    },
    {
      "cell_type": "code",
      "source": [
        "sequences = tokenizer.texts_to_sequences(org_texts)\n",
        "print(sequences)"
      ],
      "metadata": {
        "colab": {
          "base_uri": "https://localhost:8080/"
        },
        "id": "3HnLN3neDBEU",
        "outputId": "7fde01b0-720b-4406-946e-22aa358d0f80"
      },
      "execution_count": 2,
      "outputs": [
        {
          "output_type": "stream",
          "name": "stdout",
          "text": [
            "[[1, 2, 3, 5, 4], [1, 2, 3, 6, 4]]\n"
          ]
        }
      ]
    },
    {
      "cell_type": "markdown",
      "source": [
        "Kết quả của chuỗi hoàn toàn tương đồng với số mã hóa ở trên."
      ],
      "metadata": {
        "id": "tFUN5eaADUUo"
      }
    },
    {
      "cell_type": "markdown",
      "source": [
        "> **Vậy điểm hạn chế của phương pháp mã hóa theo từ là gì?**\n",
        "\n",
        "Như mọi người thấy, chúng hoạt động dựa trên các từ có sẵn trong từ điển. Vậy, khi gặp những **từ mới** không có trong thư viện từ vựng, máy tính sẽ không thể phát hiện được dẫn đến chúng **bỏ qua** nó, lúc này khi ta cho mô hình học chúng sẽ không được học đầy đủ và có thể bị nhầm lẫn ngữ cảnh.\n",
        "\n",
        "Ví dụ như đoạn code dưới đây."
      ],
      "metadata": {
        "id": "VEVsY_hldzmS"
      }
    },
    {
      "cell_type": "code",
      "source": [
        "# Tập kiểm tra\n",
        "test_data = [\n",
        "    \"Today is a snowy day\",\n",
        "    \"Will it be rainy tomorrow?\"\n",
        "]\n",
        "\n",
        "# Tiến hành mã hóa\n",
        "test_seq = tokenizer.texts_to_sequences(test_data)\n",
        "\n",
        "# Kiểm tra kết quả mã hóa.\n",
        "print(test_seq)"
      ],
      "metadata": {
        "colab": {
          "base_uri": "https://localhost:8080/"
        },
        "id": "JZlwZd4JDZqx",
        "outputId": "5ffea373-cfab-441d-fc19-a84df4994510"
      },
      "execution_count": 3,
      "outputs": [
        {
          "output_type": "stream",
          "name": "stdout",
          "text": [
            "[[1, 2, 3, 4], [6]]\n"
          ]
        }
      ]
    },
    {
      "cell_type": "markdown",
      "source": [
        "Như mọi người thấy kết quả mã hóa của 2 câu như sau:\n",
        "\n",
        "```python\n",
        " \"Today is a snowy day\" - [1, 2, 3, 4]\n",
        " \"Will it be rainy tomorrow?\" - [6]\n",
        " ```\n",
        "Độ dài của chuỗi sau mã hóa đã bị giảm đi rất nhiều, chúng chỉ mã hóa được những từ đã biết, nhưng từ chưa biết thì bỏ qua.\n",
        "\n",
        "Chúng ta có tên gọi cụ thể của trường hợp này là  **Out of vocabulary**, tức nằm ngoài vùng từ vựng."
      ],
      "metadata": {
        "id": "_pvuWsUDeepf"
      }
    },
    {
      "cell_type": "markdown",
      "source": [
        "## Using Out of vocabulary tokens (Sử dụng các token cho từ vựng mới)"
      ],
      "metadata": {
        "id": "xq8u0bQHtJ4n"
      }
    },
    {
      "cell_type": "markdown",
      "source": [
        "> Vậy chúng ta có thể giải quyết vấn đề **Out of vocabulary** này như thế nào?\n",
        "\n",
        "Có nhiều cách mã hóa cải tiến để khắc phục hoặc hạn chế ảnh hưởng của tình trạng này. Ở đây mình chỉ giới thiệu cách đơn giản nhất thôi ha.\n",
        "Mọi người sẽ sử dụng một **token hay số** để đại diện cho các trường hợp **từ vựng không biết trước**.\n",
        "\n",
        "Ở đây mình sẽ sử dụng token là **< OOV >** nha. Mọi người có thể đặt tên token là cái khác cũng được. Trong một số mô hình hay đoạn code mọi người có thể bắt gặp nó dưới dạng **< UNK >** có nghĩa là **unknown - không biết**."
      ],
      "metadata": {
        "id": "qMpcBMkehYsO"
      }
    },
    {
      "cell_type": "code",
      "source": [
        "# Tiến hành định nghĩa lại bộ mã hóa, thêm vào token đại diện cho trường hợp từ không biết\n",
        "tokenizer = Tokenizer(num_words=100, oov_token=\"<OOV>\")\n",
        "# Tiến hành đẩy các từ vào để tạo thư viện từ trong công cụ mã hóa.\n",
        "tokenizer.fit_on_texts(org_texts)"
      ],
      "metadata": {
        "id": "rj9dX-wljrWQ"
      },
      "execution_count": 4,
      "outputs": []
    },
    {
      "cell_type": "code",
      "source": [
        "# In từ điển bên trong bộ mã hóa ra\n",
        "word_index = tokenizer.word_index\n",
        "print(word_index)"
      ],
      "metadata": {
        "colab": {
          "base_uri": "https://localhost:8080/"
        },
        "id": "uhyouhk3kTyu",
        "outputId": "9b2f10da-93e7-41e1-9607-391a913114f2"
      },
      "execution_count": 5,
      "outputs": [
        {
          "output_type": "stream",
          "name": "stdout",
          "text": [
            "{'<OOV>': 1, 'today': 2, 'is': 3, 'a': 4, 'day': 5, 'sunny': 6, 'rainy': 7}\n"
          ]
        }
      ]
    },
    {
      "cell_type": "markdown",
      "source": [
        "**Ở đây mọi người sẽ thấy từ vựng không biết sẽ được đánh số mã hóa là 1**"
      ],
      "metadata": {
        "id": "FaYJouGgkX9W"
      }
    },
    {
      "cell_type": "code",
      "source": [
        "# Tiến hành mã hóa lại các câu gặp phải trường hợp từ vựng không biết trước đó\n",
        "test_seq = tokenizer.texts_to_sequences(test_data)\n",
        "print(test_seq)"
      ],
      "metadata": {
        "colab": {
          "base_uri": "https://localhost:8080/"
        },
        "id": "fM3x0JbTj9eI",
        "outputId": "443518f0-be01-4506-ecc7-86406dacdb6e"
      },
      "execution_count": 6,
      "outputs": [
        {
          "output_type": "stream",
          "name": "stdout",
          "text": [
            "[[2, 3, 4, 1, 5], [1, 1, 1, 7, 1]]\n"
          ]
        }
      ]
    },
    {
      "cell_type": "markdown",
      "source": [
        "Mọi người có thể thấy kết quả sau khi thêm vào token cho trường hợp từ vựng không biết:\n",
        "\n",
        "\n",
        "```python\n",
        "\"Today is a snowy day\" - [2, 3, 4, 1, 5]\n",
        " \"Will it be rainy tomorrow?\" - [1, 1, 1, 7, 1]\n",
        "```\n",
        "\n"
      ],
      "metadata": {
        "id": "-S_gIleckxt1"
      }
    },
    {
      "cell_type": "markdown",
      "source": [
        "Tuy nó không phải là cách tối ưu nhất nhưng chúng ta đã có thể đi đúng hướng giải quyết rồi. Tiếp đên tụi mình cùng tìm hiểu về phần đệm chuỗi nha."
      ],
      "metadata": {
        "id": "LYsz8Kt5sx9B"
      }
    },
    {
      "cell_type": "markdown",
      "source": [
        "## Understanding padding"
      ],
      "metadata": {
        "id": "0obrr0Z5s-_Y"
      }
    },
    {
      "cell_type": "markdown",
      "source": [
        "Hiểu đơn giản thì là **đệm thêm các token vào chuỗi**. Như mọi người đã biết dữ liệu khi đưa vào mô hình học tập thì **phải có kích thước giống nhau, tương ứng với kích thước đầu vào của mô hình**.\n",
        "\n",
        "Ở các chương trước, khi chúng ta làm việc với dữ liệu dạng ảnh, chúng ta đã tiến hành điều chỉnh lại kích thước ảnh trước khi đưa vào mô hình thì bây giờ khi xử lý dữ liệu dạng chuỗi cũng tương tự như vậy á.\n",
        "\n",
        "Với dữ liệu dạng chuỗi chúng ta sẽ thêm vào các token đại diện cho những phần tử đệm thêm vào với mục đích làm cho độ dài các chuỗi đều tương đương nhau. Mọi người sẽ thường bắt gặp token này với dạng **< PAD >>** trong các mô hình xử lý.\n",
        "\n",
        "Nói đủ nhiều rồi, bây giờ chúng ta sẽ đi vào code xử lý cụ thể ha."
      ],
      "metadata": {
        "id": "xrFuCAhu3aRU"
      }
    },
    {
      "cell_type": "code",
      "source": [
        "# Các câu văn cần mã hóa để đưa vào mô hình\n",
        "sentences = [\n",
        "  \"Today is a sunny day\",\n",
        "  \"Today is a rainy day\",\n",
        "  \"Is it sunny today?\",\n",
        "  \"I really enjoyed walking in the snow today\"\n",
        "]\n",
        "\n",
        "# Định nghĩa bộ mã hóa\n",
        "tokenizer = Tokenizer(num_words=100, oov_token=\"<OOV>\")\n",
        "tokenizer.fit_on_texts(sentences)\n",
        "word_index = tokenizer.word_index\n",
        "\n",
        "# Tiến hành mã hóa các câu văn\n",
        "sequences = tokenizer.texts_to_sequences(sentences)"
      ],
      "metadata": {
        "id": "bvDOLh4ivKPW"
      },
      "execution_count": 7,
      "outputs": []
    },
    {
      "cell_type": "code",
      "source": [
        "# In ra kết quả mã hóa\n",
        "for seq in sequences:\n",
        "  print(seq)"
      ],
      "metadata": {
        "colab": {
          "base_uri": "https://localhost:8080/"
        },
        "id": "Nhue-W9Wvgz8",
        "outputId": "8fca9a17-aa52-4b1f-a8c0-130c4c879885"
      },
      "execution_count": 8,
      "outputs": [
        {
          "output_type": "stream",
          "name": "stdout",
          "text": [
            "[2, 3, 4, 5, 6]\n",
            "[2, 3, 4, 7, 6]\n",
            "[3, 8, 5, 2]\n",
            "[9, 10, 11, 12, 13, 14, 15, 2]\n"
          ]
        }
      ]
    },
    {
      "cell_type": "markdown",
      "source": [
        "Như mọi  người thấy đấy, chúng có kích thước không giống nhau nha.\n",
        "\n",
        "\n",
        "```python\n",
        "[2, 3, 4, 5, 6]\n",
        "[2, 3, 4, 7, 6]\n",
        "[3, 8, 5, 2]\n",
        "[9, 10, 11, 12, 13, 14, 15, 2]\n",
        "```\n",
        "Bây giờ tụi mình sẽ tiến hành đệm vào để giúp độ dài các chuỗi có cùng kích thước với chuỗi có độ dài nhất.\n"
      ],
      "metadata": {
        "id": "NVt0UPrqvqWn"
      }
    },
    {
      "cell_type": "code",
      "source": [
        "from tensorflow.keras.preprocessing.sequence import pad_sequences\n",
        "\n",
        "# Tiến hành đệm các chuỗi\n",
        "padded = pad_sequences(sequences)\n",
        "\n",
        "# In ra kết quả đệm\n",
        "print(\"Kết quả các câu đã đệm:\")\n",
        "for seq in padded:\n",
        "  print(seq)"
      ],
      "metadata": {
        "colab": {
          "base_uri": "https://localhost:8080/"
        },
        "id": "RyuCDVJUv43H",
        "outputId": "d07477e9-3f4a-4489-ef5e-321d521fc498"
      },
      "execution_count": 9,
      "outputs": [
        {
          "output_type": "stream",
          "name": "stdout",
          "text": [
            "Kết quả các câu đã đệm:\n",
            "[0 0 0 2 3 4 5 6]\n",
            "[0 0 0 2 3 4 7 6]\n",
            "[0 0 0 0 3 8 5 2]\n",
            "[ 9 10 11 12 13 14 15  2]\n"
          ]
        }
      ]
    },
    {
      "cell_type": "markdown",
      "source": [
        "Như mọi người thấy, bây giờ các chuỗi đều đã có kích thước là 8 ha. Tuy nhiên các số 0 đại diện token **< PAD >** lại được đệm ở đầu. Đây cũng là lý do mà thường các bộ mã hóa có từ điển bắt đầu từ 1 ha, số 0 sẽ dành cho phần **padding**.\n",
        "\n",
        "Việc thêm bộ đệm ở phần đầu này tụi mình sẽ gọi là **prepadding**.\n",
        "\n",
        "Nếu mọi người muốn thêm bộ đệm ở phía sau, mọi người có thể dùng thêm một tham số nhỏ là **padding = 'post'** cho phương thức trên."
      ],
      "metadata": {
        "id": "NB7j9xw3wg83"
      }
    },
    {
      "cell_type": "code",
      "source": [
        "padded = pad_sequences(sequences, padding='post')\n",
        "print(\"Kết quả các câu đã đệm:\")\n",
        "for seq in padded:\n",
        "  print(seq)"
      ],
      "metadata": {
        "colab": {
          "base_uri": "https://localhost:8080/"
        },
        "id": "Gur_0vI7NJfR",
        "outputId": "278dfe64-fb9a-4a5c-9d90-a7b7bce54454"
      },
      "execution_count": 10,
      "outputs": [
        {
          "output_type": "stream",
          "name": "stdout",
          "text": [
            "Kết quả các câu đã đệm:\n",
            "[2 3 4 5 6 0 0 0]\n",
            "[2 3 4 7 6 0 0 0]\n",
            "[3 8 5 2 0 0 0 0]\n",
            "[ 9 10 11 12 13 14 15  2]\n"
          ]
        }
      ]
    },
    {
      "cell_type": "markdown",
      "source": [
        "Đấy, các số 0 đã được đệm vào phần đuôi rồi này, qua đó giúp đảm bảo kích thước các batch trước khi đưa vào huấn luyện mô hình.\n",
        "\n",
        "Thông qua việc thêm các bộ đệm vào, thì tụi mình đã có thể đảm bảo đươc độ dài các thành phần trong batch. Tuy nhiên bạn cũng sẽ đối mặt với một trường hợp đặc biệt.\n",
        "> **Điều gì sẽ xảy ra nếu bạn gặp phải một câu dài đến mức điên rồ ?**\n",
        "\n",
        "Đứng vậy, bạn sẽ phải thêm một mớ bộ đệm vào, một câu chỉ có 3 4 từ nhưng lại thêm cả chục token **< PAD >** vào chỉ vì để cùng độ dài với một câu dài đến mức điên rồ. Và đôi khi nó có thể lấn át dữ liệu hữu ích hay tốn quá nhiều thời gian và tài nguyên để xử lý. **Đó là một sự đánh đổi**.\n",
        "\n",
        "Để khắc phục tình trạng đó, ta có thể định nghĩa thêm một tham số gọi là độ dài tối đa **maxlen** để giới hạn lại độ dài chuỗi. Tuy nhiên chúng cũng sẽ có những **đánh đổi nhất định**."
      ],
      "metadata": {
        "id": "me0pNG5RQUqM"
      }
    },
    {
      "cell_type": "code",
      "source": [
        "padded = pad_sequences(sequences, padding='post', maxlen=6)\n",
        "print(\"Kết quả các câu đã đệm:\")\n",
        "for seq in padded:\n",
        "  print(seq)"
      ],
      "metadata": {
        "colab": {
          "base_uri": "https://localhost:8080/"
        },
        "id": "MnxFNqHKMjAY",
        "outputId": "f28b955c-f8d7-4be8-ea3e-5868343fcc47"
      },
      "execution_count": 11,
      "outputs": [
        {
          "output_type": "stream",
          "name": "stdout",
          "text": [
            "Kết quả các câu đã đệm:\n",
            "[2 3 4 5 6 0]\n",
            "[2 3 4 7 6 0]\n",
            "[3 8 5 2 0 0]\n",
            "[11 12 13 14 15  2]\n"
          ]
        }
      ]
    },
    {
      "cell_type": "markdown",
      "source": [
        "Như mọi người thấy đấy, các chuỗi đã được giới hạn lại tối đa độ dài, ba chuỗi đầu chỉ được thêm từ 0 đến 1 token **< PAD >** hay số 0 để đảm bảo đạt độ dài tối đa.\n",
        "\n",
        "Trong khi đó chuỗi cuối cùng lại được cắt ngắn chỉ còn 6 kí tự cuối. Đây cũng là **một sự đánh đổi**. Chúng ta chấp nhận loại bỏ đi một số dữ liệu hay từ nhất định từ một mẫu để giữ lại sự hữu ích từ các mẫu khác.\n",
        "\n",
        "Nếu các bạn không muốn giữ các từ hay token ở cuối mà muốn giữ các từ ở đầu thì chúng ta cũng có thể chọn giữ phần đầu với tham số ***truncating = 'post'**."
      ],
      "metadata": {
        "id": "WTX0K_M0Svpx"
      }
    },
    {
      "cell_type": "code",
      "source": [
        "padded = pad_sequences(sequences, padding='post', maxlen=6, truncating='post')\n",
        "print(\"Kết quả các câu đã đệm:\")\n",
        "for seq in padded:\n",
        "  print(seq)"
      ],
      "metadata": {
        "colab": {
          "base_uri": "https://localhost:8080/"
        },
        "id": "bx21KTyKTwH1",
        "outputId": "f53381f2-e8dc-4b9a-c3d8-e12939e3b931"
      },
      "execution_count": 12,
      "outputs": [
        {
          "output_type": "stream",
          "name": "stdout",
          "text": [
            "Kết quả các câu đã đệm:\n",
            "[2 3 4 5 6 0]\n",
            "[2 3 4 7 6 0]\n",
            "[3 8 5 2 0 0]\n",
            "[ 9 10 11 12 13 14]\n"
          ]
        }
      ]
    },
    {
      "cell_type": "markdown",
      "source": [
        "Như thế các từ phía đầu chuỗi đã có thể được giữ lại."
      ],
      "metadata": {
        "id": "KYUyZ2cYTyf9"
      }
    },
    {
      "cell_type": "markdown",
      "source": [
        "## Tổng kết phần mã hóa ngôn ngữ thành số.\n",
        "- Mã hóa ngôn ngữ thành số tức là chuyển các kí tự, từ vựng hay câu thành chuỗi các số với mỗi số đại diện cho kí tự hoặc từ trong câu.\n",
        "- Các phương pháp mã hóa:\n",
        "  - Mã hóa theo kí tự.\n",
        "  - Mã hóa theo từ.\n",
        "- Bộ đệm cho các câu.\n",
        "- Các tham số cho bộ đệm:\n",
        "  - padding: chọn đệm phần đầu hay sau.\n",
        "  - maxlen: độ dài tối đa cho các chuỗi sau khi đệm.\n",
        "  - truncating: tùy chọn giữ phần đầu hay cuối của chuỗi vượt quá maxlen."
      ],
      "metadata": {
        "id": "c4iOetXrUCph"
      }
    },
    {
      "cell_type": "markdown",
      "source": [
        "# Removing Stopwords and Cleaning text (Loại bỏ từ dừng và làm sạch văn bản)"
      ],
      "metadata": {
        "id": "z9MuumbBplz0"
      }
    },
    {
      "cell_type": "markdown",
      "source": [
        "Bắt đầu từ phần này, tụi mình sẽ tiếp cận nhiều hơn với các bộ dữ liệu thực tế nha. Điều này đồng nghĩa với việc dữ liệu sẽ chứa nhiều nhiễu hơn cũng như cần phải trải qua các bước tiền xử lý và làm sạch mà điển hình là **loại bỏ từ dừng** cũng như các **dấu câu, kí tự đặc biệt**."
      ],
      "metadata": {
        "id": "-pVpESecuB2A"
      }
    },
    {
      "cell_type": "markdown",
      "source": [
        "> **Vậy từ dừng là những từ như thế nào?**\n",
        "Hiểu đơn giản là những từ thường xuyên xuất hiện, tuy nhiên lại không đóng góp nhiều ý nghĩa cho nội dung văn bản qua đó có thể ảnh hưởng đến hiệu quả của mô hình.\n",
        "\n",
        "Dưới đây là một danh sách nhỏ về các từ dừng nha\n",
        "\n",
        "*(Lưu ý: danh sách có thể chưa đủ hết tất cả các từ dừng)*"
      ],
      "metadata": {
        "id": "ktCZHNhZt4bR"
      }
    },
    {
      "cell_type": "markdown",
      "source": [
        "![Stopwords](https://www.researchgate.net/profile/A_Zaidan/publication/228670007/figure/download/tbl2/AS:671525258657813@1537115506709/Sample-of-stop-words.png)"
      ],
      "metadata": {
        "id": "ajIZhsV7u713"
      }
    },
    {
      "cell_type": "markdown",
      "source": [
        "Tiếp đến ta đến với phần làm sạch dữ liệu văn bản thu thập được. Dữ liệu thu thập được trong quá trình cào từ các web không phải lúc nào cũng hoàn hảo cả, đôi khi sẽ chứa các **thẻ HTML** trong đó hay các từ thô lỗ, dấu câu hoặc tên riêng. Do đó ta sẽ tiến hành xử lý các phần này.\n",
        "\n",
        "Đầu tiên là loại bỏ các thẻ HTML (HTML tags), mọi người có thể sử dụng thư viện **BeautifulSoup** để thực hiện dễ dàng hơn.\n",
        "\n",
        "Dưới đây là ví dụ về cách dùng."
      ],
      "metadata": {
        "id": "D-fshV2jv4JK"
      }
    },
    {
      "cell_type": "code",
      "source": [
        "# Import thư viện vào\n",
        "from bs4 import BeautifulSoup"
      ],
      "metadata": {
        "id": "sUj2hDpbw7Uu"
      },
      "execution_count": 1,
      "outputs": []
    },
    {
      "cell_type": "code",
      "source": [
        "# Tạo câu mẫu có chứa thẻ HTML trong đó\n",
        "sentence = \"Captain Teemo <br> on duty!\" # <br> là thẻ trong HTML để xuống hàng\n",
        "# Cho câu mẫu qua BeautifulSoup để tạo đối tượng soup đã được xử lý\n",
        "soup = BeautifulSoup(sentence)\n",
        "# Tiến hành chỉ trích xuất mỗi dữ liệu văn bản, không bao gồm các thẻ HTML\n",
        "sentence = soup.get_text()\n",
        "print(\"Câu đã được loại bỏ thẻ HTML: \", sentence)"
      ],
      "metadata": {
        "colab": {
          "base_uri": "https://localhost:8080/"
        },
        "id": "wbV_S1BLwhnR",
        "outputId": "dacbd348-6aff-442a-d4e9-0066602fbc9a"
      },
      "execution_count": 9,
      "outputs": [
        {
          "output_type": "stream",
          "name": "stdout",
          "text": [
            "Câu đã được loại bỏ thẻ HTML:  Captain Teemo  on duty!\n"
          ]
        }
      ]
    },
    {
      "cell_type": "markdown",
      "source": [
        "Mọi người thấy đấy, thẻ <br> đã bị loại bỏ, hiện tại khoảng trắng giữa 2 từ **Teemo** và **on** là 2 kí tự khoảng cách (space)"
      ],
      "metadata": {
        "id": "0jAp__YlxvVD"
      }
    },
    {
      "cell_type": "markdown",
      "source": [
        "Bây giờ tụi mình sẽ tiến hành loại bỏ từ dừng cũng như các dấu câu nha.\n",
        "\n",
        "Ở đây, cách đơn giản nhất là mọi người lặp qua các từ và kiểm tra xem từ đó có trong danh sách từ dừng không nha, nếu có thì tiến hành loại bỏ, còn không phải thì giữ lại.\n",
        "\n",
        "Về phần các dấu câu, chúng ta có thể sử dụng phương thức translate để tiến hành loại bỏ. Mọi người có thể sử dụng **string.punctuation** để lấy danh sách các kí tự đặc biệt và dấu câu nha."
      ],
      "metadata": {
        "id": "N94nhgoDykKV"
      }
    },
    {
      "cell_type": "code",
      "source": [
        "import string\n",
        "# In ra danh sách các dấu câu và kí tự đặc biệt.\n",
        "print(string.punctuation)"
      ],
      "metadata": {
        "colab": {
          "base_uri": "https://localhost:8080/"
        },
        "id": "I9S7MzUZzh3M",
        "outputId": "c415dcef-aee0-41b5-f12c-5f52243d4405"
      },
      "execution_count": 4,
      "outputs": [
        {
          "output_type": "stream",
          "name": "stdout",
          "text": [
            "!\"#$%&'()*+,-./:;<=>?@[\\]^_`{|}~\n"
          ]
        }
      ]
    },
    {
      "cell_type": "code",
      "source": [
        "# Tạo bảng mapping để loại bỏ kí tự đặc biệt\n",
        "table = str.maketrans('', '', string.punctuation) # Chuyển các kí tự đặc biệt thành kí tự rỗng"
      ],
      "metadata": {
        "id": "xswiLKLt0xmu"
      },
      "execution_count": 5,
      "outputs": []
    },
    {
      "cell_type": "code",
      "source": [
        "# Lấy danh sách từ dừng, ở đây mình sử dụng thư viện nltk để lấy từ dừng trong tiếng Anh nha\n",
        "import nltk\n",
        "from nltk.corpus import stopwords\n",
        "nltk.download('stopwords')\n",
        "stopwords = set(stopwords.words('english'))\n",
        "print(\"Danh sách từ dừng: \", stopwords)"
      ],
      "metadata": {
        "colab": {
          "base_uri": "https://localhost:8080/"
        },
        "id": "5YgjPeKW0yE_",
        "outputId": "79edfce8-0073-4590-e410-5ceb322d6f55"
      },
      "execution_count": 6,
      "outputs": [
        {
          "output_type": "stream",
          "name": "stdout",
          "text": [
            "Danh sách từ dừng:  {'through', 'aren', 'as', 's', 'wasn', 'we', 'yourselves', 'him', 'had', 'should', 'into', 'herself', 'needn', \"that'll\", 'have', \"wouldn't\", 'of', 'themselves', 'over', 'your', 'further', 'against', 'than', \"mightn't\", \"hadn't\", 'our', 'were', 'doesn', 'above', \"wasn't\", 'how', 'where', 'i', 'about', 'that', 'they', 'because', 'weren', \"it's\", 'a', 'to', \"doesn't\", 'from', 'under', 'when', 'am', 'here', 'hadn', 'what', \"you'll\", 'd', 'did', 'me', 'can', 'so', \"don't\", \"didn't\", \"isn't\", 'or', 'theirs', 'more', 'some', 'do', 'until', 'then', 'being', 'are', 'has', 'no', 'itself', 'll', \"needn't\", 'this', 'nor', 'after', 'the', 'just', 'myself', \"should've\", \"you'd\", 'mustn', 'been', 'their', 'is', 'don', 'same', 'all', \"she's\", 'while', 'does', 'doing', 'and', 'whom', 'mightn', 'at', \"mustn't\", 'm', 'be', 'her', 'having', 'down', 't', 'couldn', 'with', \"hasn't\", 'them', 'there', 'ma', \"you're\", 've', 'haven', \"shouldn't\", 'his', 'few', 'such', 'you', 'between', \"shan't\", 'y', \"weren't\", 'not', 'shouldn', 'now', \"couldn't\", 'yourself', 'very', 'it', 'too', 'both', 'again', 'own', 'hers', 'if', \"you've\", 're', 'my', 'in', 'ours', 'he', 'won', 'but', 'by', 'these', 'for', 'himself', 'on', 'most', 'was', 'she', 'only', 'up', 'ain', 'during', 'didn', 'o', 'other', 'shan', \"aren't\", 'wouldn', 'any', 'off', 'hasn', 'isn', 'an', 'yours', 'out', \"haven't\", 'below', 'who', 'which', 'its', 'before', 'those', 'each', 'ourselves', 'once', 'will', \"won't\", 'why'}\n"
          ]
        },
        {
          "output_type": "stream",
          "name": "stderr",
          "text": [
            "[nltk_data] Downloading package stopwords to /root/nltk_data...\n",
            "[nltk_data]   Unzipping corpora/stopwords.zip.\n"
          ]
        }
      ]
    },
    {
      "cell_type": "code",
      "source": [
        "# Chuyển danh sách từ dừng sang dạng list\n",
        "stopwords = list(stopwords)"
      ],
      "metadata": {
        "id": "Vk4rZ0Gi17lL"
      },
      "execution_count": 7,
      "outputs": []
    },
    {
      "cell_type": "code",
      "source": [
        "# Chia thành danh sách các từ ra\n",
        "words = sentence.split()\n",
        "print(\"Danh sách các từ: \", words)\n",
        "# Chuỗi kết quả\n",
        "filtered_sentence = \"\"\n",
        "for word in words:\n",
        "  word = word.translate(table)    # Loại bỏ các kí tự đặc biệt\n",
        "  if word not in stopwords:       # Kiểm tra có thuộc từ dừng không để bỏ qua.\n",
        "    filtered_sentence = filtered_sentence + word + \" \"\n",
        "print(\"Câu đã được tiền xử lý: \", filtered_sentence)"
      ],
      "metadata": {
        "colab": {
          "base_uri": "https://localhost:8080/"
        },
        "id": "oOUmMheezwP5",
        "outputId": "f6020316-f02d-4206-f1d7-e44b6eceb8d0"
      },
      "execution_count": 10,
      "outputs": [
        {
          "output_type": "stream",
          "name": "stdout",
          "text": [
            "Danh sách các từ:  ['Captain', 'Teemo', 'on', 'duty!']\n",
            "Câu đã được tiền xử lý:  Captain Teemo duty \n"
          ]
        }
      ]
    },
    {
      "cell_type": "markdown",
      "source": [
        "Đó, vậy là xong rồi á. Từ **\"on\"** được xác định là từ dừng và đã bị loại bỏ đi. Đồng thời dấu **\"!\"** cũng đã được lọc và loại bỏ.\n",
        "\n",
        "Câu gốc:\n",
        "\n",
        "\n",
        "```python\n",
        "\"Captain Teemo <br> on duty!\"\n",
        "```\n",
        "\n",
        "\n",
        "\n",
        "Câu đã tiến hành xử lý (loại bỏ từ dùng và làm sạch):\n",
        "\n",
        "\n",
        "```python\n",
        "\"Captain Teemo duty\"\n",
        "```\n",
        "\n"
      ],
      "metadata": {
        "id": "m2jLqyGO2VXl"
      }
    },
    {
      "cell_type": "markdown",
      "source": [
        "Tuy nhiên vẫn có những trường hợp đặc biệt dẫn đến việc làm sạch chưa thực sự hiệu quả.\n",
        "\n",
        "Ví dụ:\n",
        "\n",
        "Từ **you'll** khi tiến hành loại bỏ kí tự đặc biệt, nó sẽ trở thành từ **youll** dẫn đến việc kiểm tra từ dừng sẽ không phát hiện ra. Do đó chúng ta cần phải cập nhật danh sách từ dừng để chứa cả trường hợp đặc biệt **youll** này."
      ],
      "metadata": {
        "id": "hl15DGtB4ByC"
      }
    }
  ]
}