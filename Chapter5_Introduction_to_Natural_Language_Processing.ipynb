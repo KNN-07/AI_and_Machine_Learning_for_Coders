{
  "nbformat": 4,
  "nbformat_minor": 0,
  "metadata": {
    "colab": {
      "provenance": [],
      "collapsed_sections": [
        "k4iLnnTYc7wz"
      ],
      "authorship_tag": "ABX9TyMdGDxwIbFcLYQt/22wAEmo",
      "include_colab_link": true
    },
    "kernelspec": {
      "name": "python3",
      "display_name": "Python 3"
    },
    "language_info": {
      "name": "python"
    },
    "widgets": {
      "application/vnd.jupyter.widget-state+json": {
        "ffe3320c765a40fcafc239059ef9b9bc": {
          "model_module": "@jupyter-widgets/controls",
          "model_name": "HBoxModel",
          "model_module_version": "1.5.0",
          "state": {
            "_dom_classes": [],
            "_model_module": "@jupyter-widgets/controls",
            "_model_module_version": "1.5.0",
            "_model_name": "HBoxModel",
            "_view_count": null,
            "_view_module": "@jupyter-widgets/controls",
            "_view_module_version": "1.5.0",
            "_view_name": "HBoxView",
            "box_style": "",
            "children": [
              "IPY_MODEL_fe917c83767a45db84b470461de5567c",
              "IPY_MODEL_f4f181693cae4e9988ddbf9a02eb30b0",
              "IPY_MODEL_8c47c402e87c47158ae0833703788234"
            ],
            "layout": "IPY_MODEL_38bd4814e63746b287edde98ff1a17d4"
          }
        },
        "fe917c83767a45db84b470461de5567c": {
          "model_module": "@jupyter-widgets/controls",
          "model_name": "HTMLModel",
          "model_module_version": "1.5.0",
          "state": {
            "_dom_classes": [],
            "_model_module": "@jupyter-widgets/controls",
            "_model_module_version": "1.5.0",
            "_model_name": "HTMLModel",
            "_view_count": null,
            "_view_module": "@jupyter-widgets/controls",
            "_view_module_version": "1.5.0",
            "_view_name": "HTMLView",
            "description": "",
            "description_tooltip": null,
            "layout": "IPY_MODEL_4ed726f9817d4f7195d723f3f7310f97",
            "placeholder": "​",
            "style": "IPY_MODEL_ce4b1c1fc4c04f1bb62e3f473852db4e",
            "value": "Dl Completed...: 100%"
          }
        },
        "f4f181693cae4e9988ddbf9a02eb30b0": {
          "model_module": "@jupyter-widgets/controls",
          "model_name": "FloatProgressModel",
          "model_module_version": "1.5.0",
          "state": {
            "_dom_classes": [],
            "_model_module": "@jupyter-widgets/controls",
            "_model_module_version": "1.5.0",
            "_model_name": "FloatProgressModel",
            "_view_count": null,
            "_view_module": "@jupyter-widgets/controls",
            "_view_module_version": "1.5.0",
            "_view_name": "ProgressView",
            "bar_style": "success",
            "description": "",
            "description_tooltip": null,
            "layout": "IPY_MODEL_c5864657668643939f27beeb58e4bac4",
            "max": 1,
            "min": 0,
            "orientation": "horizontal",
            "style": "IPY_MODEL_384e6229310d421aabd0203f3c7a6179",
            "value": 1
          }
        },
        "8c47c402e87c47158ae0833703788234": {
          "model_module": "@jupyter-widgets/controls",
          "model_name": "HTMLModel",
          "model_module_version": "1.5.0",
          "state": {
            "_dom_classes": [],
            "_model_module": "@jupyter-widgets/controls",
            "_model_module_version": "1.5.0",
            "_model_name": "HTMLModel",
            "_view_count": null,
            "_view_module": "@jupyter-widgets/controls",
            "_view_module_version": "1.5.0",
            "_view_name": "HTMLView",
            "description": "",
            "description_tooltip": null,
            "layout": "IPY_MODEL_5141c43a843947578edfb044f3cb5281",
            "placeholder": "​",
            "style": "IPY_MODEL_c5a12454bf334376a191b224faafa3b3",
            "value": " 1/1 [00:00&lt;00:00, 16.69 url/s]"
          }
        },
        "38bd4814e63746b287edde98ff1a17d4": {
          "model_module": "@jupyter-widgets/base",
          "model_name": "LayoutModel",
          "model_module_version": "1.2.0",
          "state": {
            "_model_module": "@jupyter-widgets/base",
            "_model_module_version": "1.2.0",
            "_model_name": "LayoutModel",
            "_view_count": null,
            "_view_module": "@jupyter-widgets/base",
            "_view_module_version": "1.2.0",
            "_view_name": "LayoutView",
            "align_content": null,
            "align_items": null,
            "align_self": null,
            "border": null,
            "bottom": null,
            "display": null,
            "flex": null,
            "flex_flow": null,
            "grid_area": null,
            "grid_auto_columns": null,
            "grid_auto_flow": null,
            "grid_auto_rows": null,
            "grid_column": null,
            "grid_gap": null,
            "grid_row": null,
            "grid_template_areas": null,
            "grid_template_columns": null,
            "grid_template_rows": null,
            "height": null,
            "justify_content": null,
            "justify_items": null,
            "left": null,
            "margin": null,
            "max_height": null,
            "max_width": null,
            "min_height": null,
            "min_width": null,
            "object_fit": null,
            "object_position": null,
            "order": null,
            "overflow": null,
            "overflow_x": null,
            "overflow_y": null,
            "padding": null,
            "right": null,
            "top": null,
            "visibility": null,
            "width": null
          }
        },
        "4ed726f9817d4f7195d723f3f7310f97": {
          "model_module": "@jupyter-widgets/base",
          "model_name": "LayoutModel",
          "model_module_version": "1.2.0",
          "state": {
            "_model_module": "@jupyter-widgets/base",
            "_model_module_version": "1.2.0",
            "_model_name": "LayoutModel",
            "_view_count": null,
            "_view_module": "@jupyter-widgets/base",
            "_view_module_version": "1.2.0",
            "_view_name": "LayoutView",
            "align_content": null,
            "align_items": null,
            "align_self": null,
            "border": null,
            "bottom": null,
            "display": null,
            "flex": null,
            "flex_flow": null,
            "grid_area": null,
            "grid_auto_columns": null,
            "grid_auto_flow": null,
            "grid_auto_rows": null,
            "grid_column": null,
            "grid_gap": null,
            "grid_row": null,
            "grid_template_areas": null,
            "grid_template_columns": null,
            "grid_template_rows": null,
            "height": null,
            "justify_content": null,
            "justify_items": null,
            "left": null,
            "margin": null,
            "max_height": null,
            "max_width": null,
            "min_height": null,
            "min_width": null,
            "object_fit": null,
            "object_position": null,
            "order": null,
            "overflow": null,
            "overflow_x": null,
            "overflow_y": null,
            "padding": null,
            "right": null,
            "top": null,
            "visibility": null,
            "width": null
          }
        },
        "ce4b1c1fc4c04f1bb62e3f473852db4e": {
          "model_module": "@jupyter-widgets/controls",
          "model_name": "DescriptionStyleModel",
          "model_module_version": "1.5.0",
          "state": {
            "_model_module": "@jupyter-widgets/controls",
            "_model_module_version": "1.5.0",
            "_model_name": "DescriptionStyleModel",
            "_view_count": null,
            "_view_module": "@jupyter-widgets/base",
            "_view_module_version": "1.2.0",
            "_view_name": "StyleView",
            "description_width": ""
          }
        },
        "c5864657668643939f27beeb58e4bac4": {
          "model_module": "@jupyter-widgets/base",
          "model_name": "LayoutModel",
          "model_module_version": "1.2.0",
          "state": {
            "_model_module": "@jupyter-widgets/base",
            "_model_module_version": "1.2.0",
            "_model_name": "LayoutModel",
            "_view_count": null,
            "_view_module": "@jupyter-widgets/base",
            "_view_module_version": "1.2.0",
            "_view_name": "LayoutView",
            "align_content": null,
            "align_items": null,
            "align_self": null,
            "border": null,
            "bottom": null,
            "display": null,
            "flex": null,
            "flex_flow": null,
            "grid_area": null,
            "grid_auto_columns": null,
            "grid_auto_flow": null,
            "grid_auto_rows": null,
            "grid_column": null,
            "grid_gap": null,
            "grid_row": null,
            "grid_template_areas": null,
            "grid_template_columns": null,
            "grid_template_rows": null,
            "height": null,
            "justify_content": null,
            "justify_items": null,
            "left": null,
            "margin": null,
            "max_height": null,
            "max_width": null,
            "min_height": null,
            "min_width": null,
            "object_fit": null,
            "object_position": null,
            "order": null,
            "overflow": null,
            "overflow_x": null,
            "overflow_y": null,
            "padding": null,
            "right": null,
            "top": null,
            "visibility": null,
            "width": "20px"
          }
        },
        "384e6229310d421aabd0203f3c7a6179": {
          "model_module": "@jupyter-widgets/controls",
          "model_name": "ProgressStyleModel",
          "model_module_version": "1.5.0",
          "state": {
            "_model_module": "@jupyter-widgets/controls",
            "_model_module_version": "1.5.0",
            "_model_name": "ProgressStyleModel",
            "_view_count": null,
            "_view_module": "@jupyter-widgets/base",
            "_view_module_version": "1.2.0",
            "_view_name": "StyleView",
            "bar_color": null,
            "description_width": ""
          }
        },
        "5141c43a843947578edfb044f3cb5281": {
          "model_module": "@jupyter-widgets/base",
          "model_name": "LayoutModel",
          "model_module_version": "1.2.0",
          "state": {
            "_model_module": "@jupyter-widgets/base",
            "_model_module_version": "1.2.0",
            "_model_name": "LayoutModel",
            "_view_count": null,
            "_view_module": "@jupyter-widgets/base",
            "_view_module_version": "1.2.0",
            "_view_name": "LayoutView",
            "align_content": null,
            "align_items": null,
            "align_self": null,
            "border": null,
            "bottom": null,
            "display": null,
            "flex": null,
            "flex_flow": null,
            "grid_area": null,
            "grid_auto_columns": null,
            "grid_auto_flow": null,
            "grid_auto_rows": null,
            "grid_column": null,
            "grid_gap": null,
            "grid_row": null,
            "grid_template_areas": null,
            "grid_template_columns": null,
            "grid_template_rows": null,
            "height": null,
            "justify_content": null,
            "justify_items": null,
            "left": null,
            "margin": null,
            "max_height": null,
            "max_width": null,
            "min_height": null,
            "min_width": null,
            "object_fit": null,
            "object_position": null,
            "order": null,
            "overflow": null,
            "overflow_x": null,
            "overflow_y": null,
            "padding": null,
            "right": null,
            "top": null,
            "visibility": null,
            "width": null
          }
        },
        "c5a12454bf334376a191b224faafa3b3": {
          "model_module": "@jupyter-widgets/controls",
          "model_name": "DescriptionStyleModel",
          "model_module_version": "1.5.0",
          "state": {
            "_model_module": "@jupyter-widgets/controls",
            "_model_module_version": "1.5.0",
            "_model_name": "DescriptionStyleModel",
            "_view_count": null,
            "_view_module": "@jupyter-widgets/base",
            "_view_module_version": "1.2.0",
            "_view_name": "StyleView",
            "description_width": ""
          }
        },
        "a0ca190f9015438b95a7294dbc5573d4": {
          "model_module": "@jupyter-widgets/controls",
          "model_name": "HBoxModel",
          "model_module_version": "1.5.0",
          "state": {
            "_dom_classes": [],
            "_model_module": "@jupyter-widgets/controls",
            "_model_module_version": "1.5.0",
            "_model_name": "HBoxModel",
            "_view_count": null,
            "_view_module": "@jupyter-widgets/controls",
            "_view_module_version": "1.5.0",
            "_view_name": "HBoxView",
            "box_style": "",
            "children": [
              "IPY_MODEL_c557f511abdf4cd59ee1e20c07fefca5",
              "IPY_MODEL_bd1e8aea418942938912bcb1f5cae4a0",
              "IPY_MODEL_e65e9b3e22984b84a822abd8f609b032"
            ],
            "layout": "IPY_MODEL_31994512a5db406d9136b21bc33a1ce2"
          }
        },
        "c557f511abdf4cd59ee1e20c07fefca5": {
          "model_module": "@jupyter-widgets/controls",
          "model_name": "HTMLModel",
          "model_module_version": "1.5.0",
          "state": {
            "_dom_classes": [],
            "_model_module": "@jupyter-widgets/controls",
            "_model_module_version": "1.5.0",
            "_model_name": "HTMLModel",
            "_view_count": null,
            "_view_module": "@jupyter-widgets/controls",
            "_view_module_version": "1.5.0",
            "_view_name": "HTMLView",
            "description": "",
            "description_tooltip": null,
            "layout": "IPY_MODEL_bd56d1d3148d418e9a2b72f7275a4064",
            "placeholder": "​",
            "style": "IPY_MODEL_f2e0570c0c674aa680a4cf141961038a",
            "value": "Dl Size...: 100%"
          }
        },
        "bd1e8aea418942938912bcb1f5cae4a0": {
          "model_module": "@jupyter-widgets/controls",
          "model_name": "FloatProgressModel",
          "model_module_version": "1.5.0",
          "state": {
            "_dom_classes": [],
            "_model_module": "@jupyter-widgets/controls",
            "_model_module_version": "1.5.0",
            "_model_name": "FloatProgressModel",
            "_view_count": null,
            "_view_module": "@jupyter-widgets/controls",
            "_view_module_version": "1.5.0",
            "_view_name": "ProgressView",
            "bar_style": "success",
            "description": "",
            "description_tooltip": null,
            "layout": "IPY_MODEL_dc6d17cb631f4852a940a941fe4ab251",
            "max": 1,
            "min": 0,
            "orientation": "horizontal",
            "style": "IPY_MODEL_d19c7f91f2a946538a47911e56092749",
            "value": 1
          }
        },
        "e65e9b3e22984b84a822abd8f609b032": {
          "model_module": "@jupyter-widgets/controls",
          "model_name": "HTMLModel",
          "model_module_version": "1.5.0",
          "state": {
            "_dom_classes": [],
            "_model_module": "@jupyter-widgets/controls",
            "_model_module_version": "1.5.0",
            "_model_name": "HTMLModel",
            "_view_count": null,
            "_view_module": "@jupyter-widgets/controls",
            "_view_module_version": "1.5.0",
            "_view_name": "HTMLView",
            "description": "",
            "description_tooltip": null,
            "layout": "IPY_MODEL_d161db81264640c49c9093682334b5f9",
            "placeholder": "​",
            "style": "IPY_MODEL_7b75049945ba4e6e83a51743ae484026",
            "value": " 84125825/84125825 [00:00&lt;00:00, 2157360685.64 MiB/s]"
          }
        },
        "31994512a5db406d9136b21bc33a1ce2": {
          "model_module": "@jupyter-widgets/base",
          "model_name": "LayoutModel",
          "model_module_version": "1.2.0",
          "state": {
            "_model_module": "@jupyter-widgets/base",
            "_model_module_version": "1.2.0",
            "_model_name": "LayoutModel",
            "_view_count": null,
            "_view_module": "@jupyter-widgets/base",
            "_view_module_version": "1.2.0",
            "_view_name": "LayoutView",
            "align_content": null,
            "align_items": null,
            "align_self": null,
            "border": null,
            "bottom": null,
            "display": null,
            "flex": null,
            "flex_flow": null,
            "grid_area": null,
            "grid_auto_columns": null,
            "grid_auto_flow": null,
            "grid_auto_rows": null,
            "grid_column": null,
            "grid_gap": null,
            "grid_row": null,
            "grid_template_areas": null,
            "grid_template_columns": null,
            "grid_template_rows": null,
            "height": null,
            "justify_content": null,
            "justify_items": null,
            "left": null,
            "margin": null,
            "max_height": null,
            "max_width": null,
            "min_height": null,
            "min_width": null,
            "object_fit": null,
            "object_position": null,
            "order": null,
            "overflow": null,
            "overflow_x": null,
            "overflow_y": null,
            "padding": null,
            "right": null,
            "top": null,
            "visibility": null,
            "width": null
          }
        },
        "bd56d1d3148d418e9a2b72f7275a4064": {
          "model_module": "@jupyter-widgets/base",
          "model_name": "LayoutModel",
          "model_module_version": "1.2.0",
          "state": {
            "_model_module": "@jupyter-widgets/base",
            "_model_module_version": "1.2.0",
            "_model_name": "LayoutModel",
            "_view_count": null,
            "_view_module": "@jupyter-widgets/base",
            "_view_module_version": "1.2.0",
            "_view_name": "LayoutView",
            "align_content": null,
            "align_items": null,
            "align_self": null,
            "border": null,
            "bottom": null,
            "display": null,
            "flex": null,
            "flex_flow": null,
            "grid_area": null,
            "grid_auto_columns": null,
            "grid_auto_flow": null,
            "grid_auto_rows": null,
            "grid_column": null,
            "grid_gap": null,
            "grid_row": null,
            "grid_template_areas": null,
            "grid_template_columns": null,
            "grid_template_rows": null,
            "height": null,
            "justify_content": null,
            "justify_items": null,
            "left": null,
            "margin": null,
            "max_height": null,
            "max_width": null,
            "min_height": null,
            "min_width": null,
            "object_fit": null,
            "object_position": null,
            "order": null,
            "overflow": null,
            "overflow_x": null,
            "overflow_y": null,
            "padding": null,
            "right": null,
            "top": null,
            "visibility": null,
            "width": null
          }
        },
        "f2e0570c0c674aa680a4cf141961038a": {
          "model_module": "@jupyter-widgets/controls",
          "model_name": "DescriptionStyleModel",
          "model_module_version": "1.5.0",
          "state": {
            "_model_module": "@jupyter-widgets/controls",
            "_model_module_version": "1.5.0",
            "_model_name": "DescriptionStyleModel",
            "_view_count": null,
            "_view_module": "@jupyter-widgets/base",
            "_view_module_version": "1.2.0",
            "_view_name": "StyleView",
            "description_width": ""
          }
        },
        "dc6d17cb631f4852a940a941fe4ab251": {
          "model_module": "@jupyter-widgets/base",
          "model_name": "LayoutModel",
          "model_module_version": "1.2.0",
          "state": {
            "_model_module": "@jupyter-widgets/base",
            "_model_module_version": "1.2.0",
            "_model_name": "LayoutModel",
            "_view_count": null,
            "_view_module": "@jupyter-widgets/base",
            "_view_module_version": "1.2.0",
            "_view_name": "LayoutView",
            "align_content": null,
            "align_items": null,
            "align_self": null,
            "border": null,
            "bottom": null,
            "display": null,
            "flex": null,
            "flex_flow": null,
            "grid_area": null,
            "grid_auto_columns": null,
            "grid_auto_flow": null,
            "grid_auto_rows": null,
            "grid_column": null,
            "grid_gap": null,
            "grid_row": null,
            "grid_template_areas": null,
            "grid_template_columns": null,
            "grid_template_rows": null,
            "height": null,
            "justify_content": null,
            "justify_items": null,
            "left": null,
            "margin": null,
            "max_height": null,
            "max_width": null,
            "min_height": null,
            "min_width": null,
            "object_fit": null,
            "object_position": null,
            "order": null,
            "overflow": null,
            "overflow_x": null,
            "overflow_y": null,
            "padding": null,
            "right": null,
            "top": null,
            "visibility": null,
            "width": "20px"
          }
        },
        "d19c7f91f2a946538a47911e56092749": {
          "model_module": "@jupyter-widgets/controls",
          "model_name": "ProgressStyleModel",
          "model_module_version": "1.5.0",
          "state": {
            "_model_module": "@jupyter-widgets/controls",
            "_model_module_version": "1.5.0",
            "_model_name": "ProgressStyleModel",
            "_view_count": null,
            "_view_module": "@jupyter-widgets/base",
            "_view_module_version": "1.2.0",
            "_view_name": "StyleView",
            "bar_color": null,
            "description_width": ""
          }
        },
        "d161db81264640c49c9093682334b5f9": {
          "model_module": "@jupyter-widgets/base",
          "model_name": "LayoutModel",
          "model_module_version": "1.2.0",
          "state": {
            "_model_module": "@jupyter-widgets/base",
            "_model_module_version": "1.2.0",
            "_model_name": "LayoutModel",
            "_view_count": null,
            "_view_module": "@jupyter-widgets/base",
            "_view_module_version": "1.2.0",
            "_view_name": "LayoutView",
            "align_content": null,
            "align_items": null,
            "align_self": null,
            "border": null,
            "bottom": null,
            "display": null,
            "flex": null,
            "flex_flow": null,
            "grid_area": null,
            "grid_auto_columns": null,
            "grid_auto_flow": null,
            "grid_auto_rows": null,
            "grid_column": null,
            "grid_gap": null,
            "grid_row": null,
            "grid_template_areas": null,
            "grid_template_columns": null,
            "grid_template_rows": null,
            "height": null,
            "justify_content": null,
            "justify_items": null,
            "left": null,
            "margin": null,
            "max_height": null,
            "max_width": null,
            "min_height": null,
            "min_width": null,
            "object_fit": null,
            "object_position": null,
            "order": null,
            "overflow": null,
            "overflow_x": null,
            "overflow_y": null,
            "padding": null,
            "right": null,
            "top": null,
            "visibility": null,
            "width": null
          }
        },
        "7b75049945ba4e6e83a51743ae484026": {
          "model_module": "@jupyter-widgets/controls",
          "model_name": "DescriptionStyleModel",
          "model_module_version": "1.5.0",
          "state": {
            "_model_module": "@jupyter-widgets/controls",
            "_model_module_version": "1.5.0",
            "_model_name": "DescriptionStyleModel",
            "_view_count": null,
            "_view_module": "@jupyter-widgets/base",
            "_view_module_version": "1.2.0",
            "_view_name": "StyleView",
            "description_width": ""
          }
        },
        "06b3ac1f53404fe58eea5170a1903b1e": {
          "model_module": "@jupyter-widgets/controls",
          "model_name": "HBoxModel",
          "model_module_version": "1.5.0",
          "state": {
            "_dom_classes": [],
            "_model_module": "@jupyter-widgets/controls",
            "_model_module_version": "1.5.0",
            "_model_name": "HBoxModel",
            "_view_count": null,
            "_view_module": "@jupyter-widgets/controls",
            "_view_module_version": "1.5.0",
            "_view_name": "HBoxView",
            "box_style": "",
            "children": [
              "IPY_MODEL_2bc6078506704ef7acfc27ce9814d817",
              "IPY_MODEL_67c73c3dc2724e1ba6454029b5317965",
              "IPY_MODEL_d6463435c3a041b89f92e038d289bc7d"
            ],
            "layout": "IPY_MODEL_8554015e7419490aa4eeb25a1815ac46"
          }
        },
        "2bc6078506704ef7acfc27ce9814d817": {
          "model_module": "@jupyter-widgets/controls",
          "model_name": "HTMLModel",
          "model_module_version": "1.5.0",
          "state": {
            "_dom_classes": [],
            "_model_module": "@jupyter-widgets/controls",
            "_model_module_version": "1.5.0",
            "_model_name": "HTMLModel",
            "_view_count": null,
            "_view_module": "@jupyter-widgets/controls",
            "_view_module_version": "1.5.0",
            "_view_name": "HTMLView",
            "description": "",
            "description_tooltip": null,
            "layout": "IPY_MODEL_173d65055a8149f2880df594e9ae3506",
            "placeholder": "​",
            "style": "IPY_MODEL_ee3c9e90f42f480aaffc6a9a566a80db",
            "value": "Generating splits...: 100%"
          }
        },
        "67c73c3dc2724e1ba6454029b5317965": {
          "model_module": "@jupyter-widgets/controls",
          "model_name": "FloatProgressModel",
          "model_module_version": "1.5.0",
          "state": {
            "_dom_classes": [],
            "_model_module": "@jupyter-widgets/controls",
            "_model_module_version": "1.5.0",
            "_model_name": "FloatProgressModel",
            "_view_count": null,
            "_view_module": "@jupyter-widgets/controls",
            "_view_module_version": "1.5.0",
            "_view_name": "ProgressView",
            "bar_style": "",
            "description": "",
            "description_tooltip": null,
            "layout": "IPY_MODEL_108cf5c99faf4c00b009018ae8edc90d",
            "max": 3,
            "min": 0,
            "orientation": "horizontal",
            "style": "IPY_MODEL_5b9302e15f4247008c27e4f0c0011cd5",
            "value": 3
          }
        },
        "d6463435c3a041b89f92e038d289bc7d": {
          "model_module": "@jupyter-widgets/controls",
          "model_name": "HTMLModel",
          "model_module_version": "1.5.0",
          "state": {
            "_dom_classes": [],
            "_model_module": "@jupyter-widgets/controls",
            "_model_module_version": "1.5.0",
            "_model_name": "HTMLModel",
            "_view_count": null,
            "_view_module": "@jupyter-widgets/controls",
            "_view_module_version": "1.5.0",
            "_view_name": "HTMLView",
            "description": "",
            "description_tooltip": null,
            "layout": "IPY_MODEL_d7dbde436dd5490295701ae5c2bfbe5d",
            "placeholder": "​",
            "style": "IPY_MODEL_590b65425aa74c05a7e2d41393a90718",
            "value": " 3/3 [00:42&lt;00:00, 14.54s/ splits]"
          }
        },
        "8554015e7419490aa4eeb25a1815ac46": {
          "model_module": "@jupyter-widgets/base",
          "model_name": "LayoutModel",
          "model_module_version": "1.2.0",
          "state": {
            "_model_module": "@jupyter-widgets/base",
            "_model_module_version": "1.2.0",
            "_model_name": "LayoutModel",
            "_view_count": null,
            "_view_module": "@jupyter-widgets/base",
            "_view_module_version": "1.2.0",
            "_view_name": "LayoutView",
            "align_content": null,
            "align_items": null,
            "align_self": null,
            "border": null,
            "bottom": null,
            "display": null,
            "flex": null,
            "flex_flow": null,
            "grid_area": null,
            "grid_auto_columns": null,
            "grid_auto_flow": null,
            "grid_auto_rows": null,
            "grid_column": null,
            "grid_gap": null,
            "grid_row": null,
            "grid_template_areas": null,
            "grid_template_columns": null,
            "grid_template_rows": null,
            "height": null,
            "justify_content": null,
            "justify_items": null,
            "left": null,
            "margin": null,
            "max_height": null,
            "max_width": null,
            "min_height": null,
            "min_width": null,
            "object_fit": null,
            "object_position": null,
            "order": null,
            "overflow": null,
            "overflow_x": null,
            "overflow_y": null,
            "padding": null,
            "right": null,
            "top": null,
            "visibility": "hidden",
            "width": null
          }
        },
        "173d65055a8149f2880df594e9ae3506": {
          "model_module": "@jupyter-widgets/base",
          "model_name": "LayoutModel",
          "model_module_version": "1.2.0",
          "state": {
            "_model_module": "@jupyter-widgets/base",
            "_model_module_version": "1.2.0",
            "_model_name": "LayoutModel",
            "_view_count": null,
            "_view_module": "@jupyter-widgets/base",
            "_view_module_version": "1.2.0",
            "_view_name": "LayoutView",
            "align_content": null,
            "align_items": null,
            "align_self": null,
            "border": null,
            "bottom": null,
            "display": null,
            "flex": null,
            "flex_flow": null,
            "grid_area": null,
            "grid_auto_columns": null,
            "grid_auto_flow": null,
            "grid_auto_rows": null,
            "grid_column": null,
            "grid_gap": null,
            "grid_row": null,
            "grid_template_areas": null,
            "grid_template_columns": null,
            "grid_template_rows": null,
            "height": null,
            "justify_content": null,
            "justify_items": null,
            "left": null,
            "margin": null,
            "max_height": null,
            "max_width": null,
            "min_height": null,
            "min_width": null,
            "object_fit": null,
            "object_position": null,
            "order": null,
            "overflow": null,
            "overflow_x": null,
            "overflow_y": null,
            "padding": null,
            "right": null,
            "top": null,
            "visibility": null,
            "width": null
          }
        },
        "ee3c9e90f42f480aaffc6a9a566a80db": {
          "model_module": "@jupyter-widgets/controls",
          "model_name": "DescriptionStyleModel",
          "model_module_version": "1.5.0",
          "state": {
            "_model_module": "@jupyter-widgets/controls",
            "_model_module_version": "1.5.0",
            "_model_name": "DescriptionStyleModel",
            "_view_count": null,
            "_view_module": "@jupyter-widgets/base",
            "_view_module_version": "1.2.0",
            "_view_name": "StyleView",
            "description_width": ""
          }
        },
        "108cf5c99faf4c00b009018ae8edc90d": {
          "model_module": "@jupyter-widgets/base",
          "model_name": "LayoutModel",
          "model_module_version": "1.2.0",
          "state": {
            "_model_module": "@jupyter-widgets/base",
            "_model_module_version": "1.2.0",
            "_model_name": "LayoutModel",
            "_view_count": null,
            "_view_module": "@jupyter-widgets/base",
            "_view_module_version": "1.2.0",
            "_view_name": "LayoutView",
            "align_content": null,
            "align_items": null,
            "align_self": null,
            "border": null,
            "bottom": null,
            "display": null,
            "flex": null,
            "flex_flow": null,
            "grid_area": null,
            "grid_auto_columns": null,
            "grid_auto_flow": null,
            "grid_auto_rows": null,
            "grid_column": null,
            "grid_gap": null,
            "grid_row": null,
            "grid_template_areas": null,
            "grid_template_columns": null,
            "grid_template_rows": null,
            "height": null,
            "justify_content": null,
            "justify_items": null,
            "left": null,
            "margin": null,
            "max_height": null,
            "max_width": null,
            "min_height": null,
            "min_width": null,
            "object_fit": null,
            "object_position": null,
            "order": null,
            "overflow": null,
            "overflow_x": null,
            "overflow_y": null,
            "padding": null,
            "right": null,
            "top": null,
            "visibility": null,
            "width": null
          }
        },
        "5b9302e15f4247008c27e4f0c0011cd5": {
          "model_module": "@jupyter-widgets/controls",
          "model_name": "ProgressStyleModel",
          "model_module_version": "1.5.0",
          "state": {
            "_model_module": "@jupyter-widgets/controls",
            "_model_module_version": "1.5.0",
            "_model_name": "ProgressStyleModel",
            "_view_count": null,
            "_view_module": "@jupyter-widgets/base",
            "_view_module_version": "1.2.0",
            "_view_name": "StyleView",
            "bar_color": null,
            "description_width": ""
          }
        },
        "d7dbde436dd5490295701ae5c2bfbe5d": {
          "model_module": "@jupyter-widgets/base",
          "model_name": "LayoutModel",
          "model_module_version": "1.2.0",
          "state": {
            "_model_module": "@jupyter-widgets/base",
            "_model_module_version": "1.2.0",
            "_model_name": "LayoutModel",
            "_view_count": null,
            "_view_module": "@jupyter-widgets/base",
            "_view_module_version": "1.2.0",
            "_view_name": "LayoutView",
            "align_content": null,
            "align_items": null,
            "align_self": null,
            "border": null,
            "bottom": null,
            "display": null,
            "flex": null,
            "flex_flow": null,
            "grid_area": null,
            "grid_auto_columns": null,
            "grid_auto_flow": null,
            "grid_auto_rows": null,
            "grid_column": null,
            "grid_gap": null,
            "grid_row": null,
            "grid_template_areas": null,
            "grid_template_columns": null,
            "grid_template_rows": null,
            "height": null,
            "justify_content": null,
            "justify_items": null,
            "left": null,
            "margin": null,
            "max_height": null,
            "max_width": null,
            "min_height": null,
            "min_width": null,
            "object_fit": null,
            "object_position": null,
            "order": null,
            "overflow": null,
            "overflow_x": null,
            "overflow_y": null,
            "padding": null,
            "right": null,
            "top": null,
            "visibility": null,
            "width": null
          }
        },
        "590b65425aa74c05a7e2d41393a90718": {
          "model_module": "@jupyter-widgets/controls",
          "model_name": "DescriptionStyleModel",
          "model_module_version": "1.5.0",
          "state": {
            "_model_module": "@jupyter-widgets/controls",
            "_model_module_version": "1.5.0",
            "_model_name": "DescriptionStyleModel",
            "_view_count": null,
            "_view_module": "@jupyter-widgets/base",
            "_view_module_version": "1.2.0",
            "_view_name": "StyleView",
            "description_width": ""
          }
        },
        "796e267aa2bb4d629ddd7ab8342954d2": {
          "model_module": "@jupyter-widgets/controls",
          "model_name": "HBoxModel",
          "model_module_version": "1.5.0",
          "state": {
            "_dom_classes": [],
            "_model_module": "@jupyter-widgets/controls",
            "_model_module_version": "1.5.0",
            "_model_name": "HBoxModel",
            "_view_count": null,
            "_view_module": "@jupyter-widgets/controls",
            "_view_module_version": "1.5.0",
            "_view_name": "HBoxView",
            "box_style": "",
            "children": [
              "IPY_MODEL_0aec7dbfb2154a9dab49b9e354392539",
              "IPY_MODEL_cb46b9193346445b97a447948b86b53f",
              "IPY_MODEL_c1a9fbaf25534d08a4d185807989ac7e"
            ],
            "layout": "IPY_MODEL_a10b3886e9474de18350262cb2b91931"
          }
        },
        "0aec7dbfb2154a9dab49b9e354392539": {
          "model_module": "@jupyter-widgets/controls",
          "model_name": "HTMLModel",
          "model_module_version": "1.5.0",
          "state": {
            "_dom_classes": [],
            "_model_module": "@jupyter-widgets/controls",
            "_model_module_version": "1.5.0",
            "_model_name": "HTMLModel",
            "_view_count": null,
            "_view_module": "@jupyter-widgets/controls",
            "_view_module_version": "1.5.0",
            "_view_name": "HTMLView",
            "description": "",
            "description_tooltip": null,
            "layout": "IPY_MODEL_6c69cc68e3464b48814ac595c6ddc7dd",
            "placeholder": "​",
            "style": "IPY_MODEL_0321aeda207b4d308d449444d3254ac2",
            "value": "Generating train examples...: 100%"
          }
        },
        "cb46b9193346445b97a447948b86b53f": {
          "model_module": "@jupyter-widgets/controls",
          "model_name": "FloatProgressModel",
          "model_module_version": "1.5.0",
          "state": {
            "_dom_classes": [],
            "_model_module": "@jupyter-widgets/controls",
            "_model_module_version": "1.5.0",
            "_model_name": "FloatProgressModel",
            "_view_count": null,
            "_view_module": "@jupyter-widgets/controls",
            "_view_module_version": "1.5.0",
            "_view_name": "ProgressView",
            "bar_style": "",
            "description": "",
            "description_tooltip": null,
            "layout": "IPY_MODEL_af0bde3a9d134edaaa8602b7e34dd13e",
            "max": 25000,
            "min": 0,
            "orientation": "horizontal",
            "style": "IPY_MODEL_5a02c1d6196b4585af451624182f37bb",
            "value": 25000
          }
        },
        "c1a9fbaf25534d08a4d185807989ac7e": {
          "model_module": "@jupyter-widgets/controls",
          "model_name": "HTMLModel",
          "model_module_version": "1.5.0",
          "state": {
            "_dom_classes": [],
            "_model_module": "@jupyter-widgets/controls",
            "_model_module_version": "1.5.0",
            "_model_name": "HTMLModel",
            "_view_count": null,
            "_view_module": "@jupyter-widgets/controls",
            "_view_module_version": "1.5.0",
            "_view_name": "HTMLView",
            "description": "",
            "description_tooltip": null,
            "layout": "IPY_MODEL_650769efc10048639710b65fa4be3f01",
            "placeholder": "​",
            "style": "IPY_MODEL_164a3191880b4a948a89b17af208f38b",
            "value": " 24879/25000 [00:07&lt;00:00, 3939.71 examples/s]"
          }
        },
        "a10b3886e9474de18350262cb2b91931": {
          "model_module": "@jupyter-widgets/base",
          "model_name": "LayoutModel",
          "model_module_version": "1.2.0",
          "state": {
            "_model_module": "@jupyter-widgets/base",
            "_model_module_version": "1.2.0",
            "_model_name": "LayoutModel",
            "_view_count": null,
            "_view_module": "@jupyter-widgets/base",
            "_view_module_version": "1.2.0",
            "_view_name": "LayoutView",
            "align_content": null,
            "align_items": null,
            "align_self": null,
            "border": null,
            "bottom": null,
            "display": null,
            "flex": null,
            "flex_flow": null,
            "grid_area": null,
            "grid_auto_columns": null,
            "grid_auto_flow": null,
            "grid_auto_rows": null,
            "grid_column": null,
            "grid_gap": null,
            "grid_row": null,
            "grid_template_areas": null,
            "grid_template_columns": null,
            "grid_template_rows": null,
            "height": null,
            "justify_content": null,
            "justify_items": null,
            "left": null,
            "margin": null,
            "max_height": null,
            "max_width": null,
            "min_height": null,
            "min_width": null,
            "object_fit": null,
            "object_position": null,
            "order": null,
            "overflow": null,
            "overflow_x": null,
            "overflow_y": null,
            "padding": null,
            "right": null,
            "top": null,
            "visibility": "hidden",
            "width": null
          }
        },
        "6c69cc68e3464b48814ac595c6ddc7dd": {
          "model_module": "@jupyter-widgets/base",
          "model_name": "LayoutModel",
          "model_module_version": "1.2.0",
          "state": {
            "_model_module": "@jupyter-widgets/base",
            "_model_module_version": "1.2.0",
            "_model_name": "LayoutModel",
            "_view_count": null,
            "_view_module": "@jupyter-widgets/base",
            "_view_module_version": "1.2.0",
            "_view_name": "LayoutView",
            "align_content": null,
            "align_items": null,
            "align_self": null,
            "border": null,
            "bottom": null,
            "display": null,
            "flex": null,
            "flex_flow": null,
            "grid_area": null,
            "grid_auto_columns": null,
            "grid_auto_flow": null,
            "grid_auto_rows": null,
            "grid_column": null,
            "grid_gap": null,
            "grid_row": null,
            "grid_template_areas": null,
            "grid_template_columns": null,
            "grid_template_rows": null,
            "height": null,
            "justify_content": null,
            "justify_items": null,
            "left": null,
            "margin": null,
            "max_height": null,
            "max_width": null,
            "min_height": null,
            "min_width": null,
            "object_fit": null,
            "object_position": null,
            "order": null,
            "overflow": null,
            "overflow_x": null,
            "overflow_y": null,
            "padding": null,
            "right": null,
            "top": null,
            "visibility": null,
            "width": null
          }
        },
        "0321aeda207b4d308d449444d3254ac2": {
          "model_module": "@jupyter-widgets/controls",
          "model_name": "DescriptionStyleModel",
          "model_module_version": "1.5.0",
          "state": {
            "_model_module": "@jupyter-widgets/controls",
            "_model_module_version": "1.5.0",
            "_model_name": "DescriptionStyleModel",
            "_view_count": null,
            "_view_module": "@jupyter-widgets/base",
            "_view_module_version": "1.2.0",
            "_view_name": "StyleView",
            "description_width": ""
          }
        },
        "af0bde3a9d134edaaa8602b7e34dd13e": {
          "model_module": "@jupyter-widgets/base",
          "model_name": "LayoutModel",
          "model_module_version": "1.2.0",
          "state": {
            "_model_module": "@jupyter-widgets/base",
            "_model_module_version": "1.2.0",
            "_model_name": "LayoutModel",
            "_view_count": null,
            "_view_module": "@jupyter-widgets/base",
            "_view_module_version": "1.2.0",
            "_view_name": "LayoutView",
            "align_content": null,
            "align_items": null,
            "align_self": null,
            "border": null,
            "bottom": null,
            "display": null,
            "flex": null,
            "flex_flow": null,
            "grid_area": null,
            "grid_auto_columns": null,
            "grid_auto_flow": null,
            "grid_auto_rows": null,
            "grid_column": null,
            "grid_gap": null,
            "grid_row": null,
            "grid_template_areas": null,
            "grid_template_columns": null,
            "grid_template_rows": null,
            "height": null,
            "justify_content": null,
            "justify_items": null,
            "left": null,
            "margin": null,
            "max_height": null,
            "max_width": null,
            "min_height": null,
            "min_width": null,
            "object_fit": null,
            "object_position": null,
            "order": null,
            "overflow": null,
            "overflow_x": null,
            "overflow_y": null,
            "padding": null,
            "right": null,
            "top": null,
            "visibility": null,
            "width": null
          }
        },
        "5a02c1d6196b4585af451624182f37bb": {
          "model_module": "@jupyter-widgets/controls",
          "model_name": "ProgressStyleModel",
          "model_module_version": "1.5.0",
          "state": {
            "_model_module": "@jupyter-widgets/controls",
            "_model_module_version": "1.5.0",
            "_model_name": "ProgressStyleModel",
            "_view_count": null,
            "_view_module": "@jupyter-widgets/base",
            "_view_module_version": "1.2.0",
            "_view_name": "StyleView",
            "bar_color": null,
            "description_width": ""
          }
        },
        "650769efc10048639710b65fa4be3f01": {
          "model_module": "@jupyter-widgets/base",
          "model_name": "LayoutModel",
          "model_module_version": "1.2.0",
          "state": {
            "_model_module": "@jupyter-widgets/base",
            "_model_module_version": "1.2.0",
            "_model_name": "LayoutModel",
            "_view_count": null,
            "_view_module": "@jupyter-widgets/base",
            "_view_module_version": "1.2.0",
            "_view_name": "LayoutView",
            "align_content": null,
            "align_items": null,
            "align_self": null,
            "border": null,
            "bottom": null,
            "display": null,
            "flex": null,
            "flex_flow": null,
            "grid_area": null,
            "grid_auto_columns": null,
            "grid_auto_flow": null,
            "grid_auto_rows": null,
            "grid_column": null,
            "grid_gap": null,
            "grid_row": null,
            "grid_template_areas": null,
            "grid_template_columns": null,
            "grid_template_rows": null,
            "height": null,
            "justify_content": null,
            "justify_items": null,
            "left": null,
            "margin": null,
            "max_height": null,
            "max_width": null,
            "min_height": null,
            "min_width": null,
            "object_fit": null,
            "object_position": null,
            "order": null,
            "overflow": null,
            "overflow_x": null,
            "overflow_y": null,
            "padding": null,
            "right": null,
            "top": null,
            "visibility": null,
            "width": null
          }
        },
        "164a3191880b4a948a89b17af208f38b": {
          "model_module": "@jupyter-widgets/controls",
          "model_name": "DescriptionStyleModel",
          "model_module_version": "1.5.0",
          "state": {
            "_model_module": "@jupyter-widgets/controls",
            "_model_module_version": "1.5.0",
            "_model_name": "DescriptionStyleModel",
            "_view_count": null,
            "_view_module": "@jupyter-widgets/base",
            "_view_module_version": "1.2.0",
            "_view_name": "StyleView",
            "description_width": ""
          }
        },
        "3ee1496dfd7b4b66934f58d2fc902b73": {
          "model_module": "@jupyter-widgets/controls",
          "model_name": "HBoxModel",
          "model_module_version": "1.5.0",
          "state": {
            "_dom_classes": [],
            "_model_module": "@jupyter-widgets/controls",
            "_model_module_version": "1.5.0",
            "_model_name": "HBoxModel",
            "_view_count": null,
            "_view_module": "@jupyter-widgets/controls",
            "_view_module_version": "1.5.0",
            "_view_name": "HBoxView",
            "box_style": "",
            "children": [
              "IPY_MODEL_b1bc671b07c84f8f85277c80ff291932",
              "IPY_MODEL_771c1d212a404f18b0e8e7cd2513a214",
              "IPY_MODEL_0bb2a31dc4794e8a8056ed23462bce48"
            ],
            "layout": "IPY_MODEL_340870e1ba674db395c70ee50c745072"
          }
        },
        "b1bc671b07c84f8f85277c80ff291932": {
          "model_module": "@jupyter-widgets/controls",
          "model_name": "HTMLModel",
          "model_module_version": "1.5.0",
          "state": {
            "_dom_classes": [],
            "_model_module": "@jupyter-widgets/controls",
            "_model_module_version": "1.5.0",
            "_model_name": "HTMLModel",
            "_view_count": null,
            "_view_module": "@jupyter-widgets/controls",
            "_view_module_version": "1.5.0",
            "_view_name": "HTMLView",
            "description": "",
            "description_tooltip": null,
            "layout": "IPY_MODEL_e68b2695b7944de6934b178764463f55",
            "placeholder": "​",
            "style": "IPY_MODEL_61c72e72de054384bf4c2019403ea189",
            "value": "Shuffling /root/tensorflow_datasets/imdb_reviews/plain_text/incomplete.AF627Z_1.0.0/imdb_reviews-train.tfrecord*...:   0%"
          }
        },
        "771c1d212a404f18b0e8e7cd2513a214": {
          "model_module": "@jupyter-widgets/controls",
          "model_name": "FloatProgressModel",
          "model_module_version": "1.5.0",
          "state": {
            "_dom_classes": [],
            "_model_module": "@jupyter-widgets/controls",
            "_model_module_version": "1.5.0",
            "_model_name": "FloatProgressModel",
            "_view_count": null,
            "_view_module": "@jupyter-widgets/controls",
            "_view_module_version": "1.5.0",
            "_view_name": "ProgressView",
            "bar_style": "",
            "description": "",
            "description_tooltip": null,
            "layout": "IPY_MODEL_121bb3884c784b47a7551652a02ff6f0",
            "max": 25000,
            "min": 0,
            "orientation": "horizontal",
            "style": "IPY_MODEL_89dfacbb66de4c1fb966ca0c8c4316a1",
            "value": 25000
          }
        },
        "0bb2a31dc4794e8a8056ed23462bce48": {
          "model_module": "@jupyter-widgets/controls",
          "model_name": "HTMLModel",
          "model_module_version": "1.5.0",
          "state": {
            "_dom_classes": [],
            "_model_module": "@jupyter-widgets/controls",
            "_model_module_version": "1.5.0",
            "_model_name": "HTMLModel",
            "_view_count": null,
            "_view_module": "@jupyter-widgets/controls",
            "_view_module_version": "1.5.0",
            "_view_name": "HTMLView",
            "description": "",
            "description_tooltip": null,
            "layout": "IPY_MODEL_930c7c239b9d4b0b956bc71df6864aac",
            "placeholder": "​",
            "style": "IPY_MODEL_b299f9bea3a2489195a1f20910c5c65b",
            "value": " 0/25000 [00:00&lt;?, ? examples/s]"
          }
        },
        "340870e1ba674db395c70ee50c745072": {
          "model_module": "@jupyter-widgets/base",
          "model_name": "LayoutModel",
          "model_module_version": "1.2.0",
          "state": {
            "_model_module": "@jupyter-widgets/base",
            "_model_module_version": "1.2.0",
            "_model_name": "LayoutModel",
            "_view_count": null,
            "_view_module": "@jupyter-widgets/base",
            "_view_module_version": "1.2.0",
            "_view_name": "LayoutView",
            "align_content": null,
            "align_items": null,
            "align_self": null,
            "border": null,
            "bottom": null,
            "display": null,
            "flex": null,
            "flex_flow": null,
            "grid_area": null,
            "grid_auto_columns": null,
            "grid_auto_flow": null,
            "grid_auto_rows": null,
            "grid_column": null,
            "grid_gap": null,
            "grid_row": null,
            "grid_template_areas": null,
            "grid_template_columns": null,
            "grid_template_rows": null,
            "height": null,
            "justify_content": null,
            "justify_items": null,
            "left": null,
            "margin": null,
            "max_height": null,
            "max_width": null,
            "min_height": null,
            "min_width": null,
            "object_fit": null,
            "object_position": null,
            "order": null,
            "overflow": null,
            "overflow_x": null,
            "overflow_y": null,
            "padding": null,
            "right": null,
            "top": null,
            "visibility": "hidden",
            "width": null
          }
        },
        "e68b2695b7944de6934b178764463f55": {
          "model_module": "@jupyter-widgets/base",
          "model_name": "LayoutModel",
          "model_module_version": "1.2.0",
          "state": {
            "_model_module": "@jupyter-widgets/base",
            "_model_module_version": "1.2.0",
            "_model_name": "LayoutModel",
            "_view_count": null,
            "_view_module": "@jupyter-widgets/base",
            "_view_module_version": "1.2.0",
            "_view_name": "LayoutView",
            "align_content": null,
            "align_items": null,
            "align_self": null,
            "border": null,
            "bottom": null,
            "display": null,
            "flex": null,
            "flex_flow": null,
            "grid_area": null,
            "grid_auto_columns": null,
            "grid_auto_flow": null,
            "grid_auto_rows": null,
            "grid_column": null,
            "grid_gap": null,
            "grid_row": null,
            "grid_template_areas": null,
            "grid_template_columns": null,
            "grid_template_rows": null,
            "height": null,
            "justify_content": null,
            "justify_items": null,
            "left": null,
            "margin": null,
            "max_height": null,
            "max_width": null,
            "min_height": null,
            "min_width": null,
            "object_fit": null,
            "object_position": null,
            "order": null,
            "overflow": null,
            "overflow_x": null,
            "overflow_y": null,
            "padding": null,
            "right": null,
            "top": null,
            "visibility": null,
            "width": null
          }
        },
        "61c72e72de054384bf4c2019403ea189": {
          "model_module": "@jupyter-widgets/controls",
          "model_name": "DescriptionStyleModel",
          "model_module_version": "1.5.0",
          "state": {
            "_model_module": "@jupyter-widgets/controls",
            "_model_module_version": "1.5.0",
            "_model_name": "DescriptionStyleModel",
            "_view_count": null,
            "_view_module": "@jupyter-widgets/base",
            "_view_module_version": "1.2.0",
            "_view_name": "StyleView",
            "description_width": ""
          }
        },
        "121bb3884c784b47a7551652a02ff6f0": {
          "model_module": "@jupyter-widgets/base",
          "model_name": "LayoutModel",
          "model_module_version": "1.2.0",
          "state": {
            "_model_module": "@jupyter-widgets/base",
            "_model_module_version": "1.2.0",
            "_model_name": "LayoutModel",
            "_view_count": null,
            "_view_module": "@jupyter-widgets/base",
            "_view_module_version": "1.2.0",
            "_view_name": "LayoutView",
            "align_content": null,
            "align_items": null,
            "align_self": null,
            "border": null,
            "bottom": null,
            "display": null,
            "flex": null,
            "flex_flow": null,
            "grid_area": null,
            "grid_auto_columns": null,
            "grid_auto_flow": null,
            "grid_auto_rows": null,
            "grid_column": null,
            "grid_gap": null,
            "grid_row": null,
            "grid_template_areas": null,
            "grid_template_columns": null,
            "grid_template_rows": null,
            "height": null,
            "justify_content": null,
            "justify_items": null,
            "left": null,
            "margin": null,
            "max_height": null,
            "max_width": null,
            "min_height": null,
            "min_width": null,
            "object_fit": null,
            "object_position": null,
            "order": null,
            "overflow": null,
            "overflow_x": null,
            "overflow_y": null,
            "padding": null,
            "right": null,
            "top": null,
            "visibility": null,
            "width": null
          }
        },
        "89dfacbb66de4c1fb966ca0c8c4316a1": {
          "model_module": "@jupyter-widgets/controls",
          "model_name": "ProgressStyleModel",
          "model_module_version": "1.5.0",
          "state": {
            "_model_module": "@jupyter-widgets/controls",
            "_model_module_version": "1.5.0",
            "_model_name": "ProgressStyleModel",
            "_view_count": null,
            "_view_module": "@jupyter-widgets/base",
            "_view_module_version": "1.2.0",
            "_view_name": "StyleView",
            "bar_color": null,
            "description_width": ""
          }
        },
        "930c7c239b9d4b0b956bc71df6864aac": {
          "model_module": "@jupyter-widgets/base",
          "model_name": "LayoutModel",
          "model_module_version": "1.2.0",
          "state": {
            "_model_module": "@jupyter-widgets/base",
            "_model_module_version": "1.2.0",
            "_model_name": "LayoutModel",
            "_view_count": null,
            "_view_module": "@jupyter-widgets/base",
            "_view_module_version": "1.2.0",
            "_view_name": "LayoutView",
            "align_content": null,
            "align_items": null,
            "align_self": null,
            "border": null,
            "bottom": null,
            "display": null,
            "flex": null,
            "flex_flow": null,
            "grid_area": null,
            "grid_auto_columns": null,
            "grid_auto_flow": null,
            "grid_auto_rows": null,
            "grid_column": null,
            "grid_gap": null,
            "grid_row": null,
            "grid_template_areas": null,
            "grid_template_columns": null,
            "grid_template_rows": null,
            "height": null,
            "justify_content": null,
            "justify_items": null,
            "left": null,
            "margin": null,
            "max_height": null,
            "max_width": null,
            "min_height": null,
            "min_width": null,
            "object_fit": null,
            "object_position": null,
            "order": null,
            "overflow": null,
            "overflow_x": null,
            "overflow_y": null,
            "padding": null,
            "right": null,
            "top": null,
            "visibility": null,
            "width": null
          }
        },
        "b299f9bea3a2489195a1f20910c5c65b": {
          "model_module": "@jupyter-widgets/controls",
          "model_name": "DescriptionStyleModel",
          "model_module_version": "1.5.0",
          "state": {
            "_model_module": "@jupyter-widgets/controls",
            "_model_module_version": "1.5.0",
            "_model_name": "DescriptionStyleModel",
            "_view_count": null,
            "_view_module": "@jupyter-widgets/base",
            "_view_module_version": "1.2.0",
            "_view_name": "StyleView",
            "description_width": ""
          }
        },
        "b7fe603f517c4f1ea9932a299f52bc97": {
          "model_module": "@jupyter-widgets/controls",
          "model_name": "HBoxModel",
          "model_module_version": "1.5.0",
          "state": {
            "_dom_classes": [],
            "_model_module": "@jupyter-widgets/controls",
            "_model_module_version": "1.5.0",
            "_model_name": "HBoxModel",
            "_view_count": null,
            "_view_module": "@jupyter-widgets/controls",
            "_view_module_version": "1.5.0",
            "_view_name": "HBoxView",
            "box_style": "",
            "children": [
              "IPY_MODEL_13f17162ee5646938b2a97ef83d38578",
              "IPY_MODEL_21990ff295a243b78f8e7733482444ab",
              "IPY_MODEL_90d69febc59e410d8e1d2f6a8ef52c83"
            ],
            "layout": "IPY_MODEL_4860a93e26d34a8c804c2fcb84cb2279"
          }
        },
        "13f17162ee5646938b2a97ef83d38578": {
          "model_module": "@jupyter-widgets/controls",
          "model_name": "HTMLModel",
          "model_module_version": "1.5.0",
          "state": {
            "_dom_classes": [],
            "_model_module": "@jupyter-widgets/controls",
            "_model_module_version": "1.5.0",
            "_model_name": "HTMLModel",
            "_view_count": null,
            "_view_module": "@jupyter-widgets/controls",
            "_view_module_version": "1.5.0",
            "_view_name": "HTMLView",
            "description": "",
            "description_tooltip": null,
            "layout": "IPY_MODEL_2c5225b5b94d4b329e3eca42515b8c31",
            "placeholder": "​",
            "style": "IPY_MODEL_f60d054a9c804616b3ea331db2ccc858",
            "value": "Generating test examples...:  93%"
          }
        },
        "21990ff295a243b78f8e7733482444ab": {
          "model_module": "@jupyter-widgets/controls",
          "model_name": "FloatProgressModel",
          "model_module_version": "1.5.0",
          "state": {
            "_dom_classes": [],
            "_model_module": "@jupyter-widgets/controls",
            "_model_module_version": "1.5.0",
            "_model_name": "FloatProgressModel",
            "_view_count": null,
            "_view_module": "@jupyter-widgets/controls",
            "_view_module_version": "1.5.0",
            "_view_name": "ProgressView",
            "bar_style": "",
            "description": "",
            "description_tooltip": null,
            "layout": "IPY_MODEL_13dddcc09d334ab1a8d2cc5d078c5bc3",
            "max": 25000,
            "min": 0,
            "orientation": "horizontal",
            "style": "IPY_MODEL_003af9a3234047dc993c82bce728dbdb",
            "value": 25000
          }
        },
        "90d69febc59e410d8e1d2f6a8ef52c83": {
          "model_module": "@jupyter-widgets/controls",
          "model_name": "HTMLModel",
          "model_module_version": "1.5.0",
          "state": {
            "_dom_classes": [],
            "_model_module": "@jupyter-widgets/controls",
            "_model_module_version": "1.5.0",
            "_model_name": "HTMLModel",
            "_view_count": null,
            "_view_module": "@jupyter-widgets/controls",
            "_view_module_version": "1.5.0",
            "_view_name": "HTMLView",
            "description": "",
            "description_tooltip": null,
            "layout": "IPY_MODEL_025b44786c3d4b70beef807b8b0f7533",
            "placeholder": "​",
            "style": "IPY_MODEL_601ede4c0e644043984ecbf48466afd0",
            "value": " 23351/25000 [00:05&lt;00:00, 5199.16 examples/s]"
          }
        },
        "4860a93e26d34a8c804c2fcb84cb2279": {
          "model_module": "@jupyter-widgets/base",
          "model_name": "LayoutModel",
          "model_module_version": "1.2.0",
          "state": {
            "_model_module": "@jupyter-widgets/base",
            "_model_module_version": "1.2.0",
            "_model_name": "LayoutModel",
            "_view_count": null,
            "_view_module": "@jupyter-widgets/base",
            "_view_module_version": "1.2.0",
            "_view_name": "LayoutView",
            "align_content": null,
            "align_items": null,
            "align_self": null,
            "border": null,
            "bottom": null,
            "display": null,
            "flex": null,
            "flex_flow": null,
            "grid_area": null,
            "grid_auto_columns": null,
            "grid_auto_flow": null,
            "grid_auto_rows": null,
            "grid_column": null,
            "grid_gap": null,
            "grid_row": null,
            "grid_template_areas": null,
            "grid_template_columns": null,
            "grid_template_rows": null,
            "height": null,
            "justify_content": null,
            "justify_items": null,
            "left": null,
            "margin": null,
            "max_height": null,
            "max_width": null,
            "min_height": null,
            "min_width": null,
            "object_fit": null,
            "object_position": null,
            "order": null,
            "overflow": null,
            "overflow_x": null,
            "overflow_y": null,
            "padding": null,
            "right": null,
            "top": null,
            "visibility": "hidden",
            "width": null
          }
        },
        "2c5225b5b94d4b329e3eca42515b8c31": {
          "model_module": "@jupyter-widgets/base",
          "model_name": "LayoutModel",
          "model_module_version": "1.2.0",
          "state": {
            "_model_module": "@jupyter-widgets/base",
            "_model_module_version": "1.2.0",
            "_model_name": "LayoutModel",
            "_view_count": null,
            "_view_module": "@jupyter-widgets/base",
            "_view_module_version": "1.2.0",
            "_view_name": "LayoutView",
            "align_content": null,
            "align_items": null,
            "align_self": null,
            "border": null,
            "bottom": null,
            "display": null,
            "flex": null,
            "flex_flow": null,
            "grid_area": null,
            "grid_auto_columns": null,
            "grid_auto_flow": null,
            "grid_auto_rows": null,
            "grid_column": null,
            "grid_gap": null,
            "grid_row": null,
            "grid_template_areas": null,
            "grid_template_columns": null,
            "grid_template_rows": null,
            "height": null,
            "justify_content": null,
            "justify_items": null,
            "left": null,
            "margin": null,
            "max_height": null,
            "max_width": null,
            "min_height": null,
            "min_width": null,
            "object_fit": null,
            "object_position": null,
            "order": null,
            "overflow": null,
            "overflow_x": null,
            "overflow_y": null,
            "padding": null,
            "right": null,
            "top": null,
            "visibility": null,
            "width": null
          }
        },
        "f60d054a9c804616b3ea331db2ccc858": {
          "model_module": "@jupyter-widgets/controls",
          "model_name": "DescriptionStyleModel",
          "model_module_version": "1.5.0",
          "state": {
            "_model_module": "@jupyter-widgets/controls",
            "_model_module_version": "1.5.0",
            "_model_name": "DescriptionStyleModel",
            "_view_count": null,
            "_view_module": "@jupyter-widgets/base",
            "_view_module_version": "1.2.0",
            "_view_name": "StyleView",
            "description_width": ""
          }
        },
        "13dddcc09d334ab1a8d2cc5d078c5bc3": {
          "model_module": "@jupyter-widgets/base",
          "model_name": "LayoutModel",
          "model_module_version": "1.2.0",
          "state": {
            "_model_module": "@jupyter-widgets/base",
            "_model_module_version": "1.2.0",
            "_model_name": "LayoutModel",
            "_view_count": null,
            "_view_module": "@jupyter-widgets/base",
            "_view_module_version": "1.2.0",
            "_view_name": "LayoutView",
            "align_content": null,
            "align_items": null,
            "align_self": null,
            "border": null,
            "bottom": null,
            "display": null,
            "flex": null,
            "flex_flow": null,
            "grid_area": null,
            "grid_auto_columns": null,
            "grid_auto_flow": null,
            "grid_auto_rows": null,
            "grid_column": null,
            "grid_gap": null,
            "grid_row": null,
            "grid_template_areas": null,
            "grid_template_columns": null,
            "grid_template_rows": null,
            "height": null,
            "justify_content": null,
            "justify_items": null,
            "left": null,
            "margin": null,
            "max_height": null,
            "max_width": null,
            "min_height": null,
            "min_width": null,
            "object_fit": null,
            "object_position": null,
            "order": null,
            "overflow": null,
            "overflow_x": null,
            "overflow_y": null,
            "padding": null,
            "right": null,
            "top": null,
            "visibility": null,
            "width": null
          }
        },
        "003af9a3234047dc993c82bce728dbdb": {
          "model_module": "@jupyter-widgets/controls",
          "model_name": "ProgressStyleModel",
          "model_module_version": "1.5.0",
          "state": {
            "_model_module": "@jupyter-widgets/controls",
            "_model_module_version": "1.5.0",
            "_model_name": "ProgressStyleModel",
            "_view_count": null,
            "_view_module": "@jupyter-widgets/base",
            "_view_module_version": "1.2.0",
            "_view_name": "StyleView",
            "bar_color": null,
            "description_width": ""
          }
        },
        "025b44786c3d4b70beef807b8b0f7533": {
          "model_module": "@jupyter-widgets/base",
          "model_name": "LayoutModel",
          "model_module_version": "1.2.0",
          "state": {
            "_model_module": "@jupyter-widgets/base",
            "_model_module_version": "1.2.0",
            "_model_name": "LayoutModel",
            "_view_count": null,
            "_view_module": "@jupyter-widgets/base",
            "_view_module_version": "1.2.0",
            "_view_name": "LayoutView",
            "align_content": null,
            "align_items": null,
            "align_self": null,
            "border": null,
            "bottom": null,
            "display": null,
            "flex": null,
            "flex_flow": null,
            "grid_area": null,
            "grid_auto_columns": null,
            "grid_auto_flow": null,
            "grid_auto_rows": null,
            "grid_column": null,
            "grid_gap": null,
            "grid_row": null,
            "grid_template_areas": null,
            "grid_template_columns": null,
            "grid_template_rows": null,
            "height": null,
            "justify_content": null,
            "justify_items": null,
            "left": null,
            "margin": null,
            "max_height": null,
            "max_width": null,
            "min_height": null,
            "min_width": null,
            "object_fit": null,
            "object_position": null,
            "order": null,
            "overflow": null,
            "overflow_x": null,
            "overflow_y": null,
            "padding": null,
            "right": null,
            "top": null,
            "visibility": null,
            "width": null
          }
        },
        "601ede4c0e644043984ecbf48466afd0": {
          "model_module": "@jupyter-widgets/controls",
          "model_name": "DescriptionStyleModel",
          "model_module_version": "1.5.0",
          "state": {
            "_model_module": "@jupyter-widgets/controls",
            "_model_module_version": "1.5.0",
            "_model_name": "DescriptionStyleModel",
            "_view_count": null,
            "_view_module": "@jupyter-widgets/base",
            "_view_module_version": "1.2.0",
            "_view_name": "StyleView",
            "description_width": ""
          }
        },
        "68814cb2e816450aa2e38768bae7d36b": {
          "model_module": "@jupyter-widgets/controls",
          "model_name": "HBoxModel",
          "model_module_version": "1.5.0",
          "state": {
            "_dom_classes": [],
            "_model_module": "@jupyter-widgets/controls",
            "_model_module_version": "1.5.0",
            "_model_name": "HBoxModel",
            "_view_count": null,
            "_view_module": "@jupyter-widgets/controls",
            "_view_module_version": "1.5.0",
            "_view_name": "HBoxView",
            "box_style": "",
            "children": [
              "IPY_MODEL_f1e0f7b9b7fa4fe884b55f056337d07b",
              "IPY_MODEL_f898de80b7f642338b3aa5d5cf323276",
              "IPY_MODEL_f3a542e22467446883a8ac9ecee9d203"
            ],
            "layout": "IPY_MODEL_a116d23e87d2491ca711fbccb8e541c4"
          }
        },
        "f1e0f7b9b7fa4fe884b55f056337d07b": {
          "model_module": "@jupyter-widgets/controls",
          "model_name": "HTMLModel",
          "model_module_version": "1.5.0",
          "state": {
            "_dom_classes": [],
            "_model_module": "@jupyter-widgets/controls",
            "_model_module_version": "1.5.0",
            "_model_name": "HTMLModel",
            "_view_count": null,
            "_view_module": "@jupyter-widgets/controls",
            "_view_module_version": "1.5.0",
            "_view_name": "HTMLView",
            "description": "",
            "description_tooltip": null,
            "layout": "IPY_MODEL_b68d1b46b3df4df1a03503e5d39ef2a4",
            "placeholder": "​",
            "style": "IPY_MODEL_674bb16d2a6a4e62a783d85ac9a3ca94",
            "value": "Shuffling /root/tensorflow_datasets/imdb_reviews/plain_text/incomplete.AF627Z_1.0.0/imdb_reviews-test.tfrecord*...:   0%"
          }
        },
        "f898de80b7f642338b3aa5d5cf323276": {
          "model_module": "@jupyter-widgets/controls",
          "model_name": "FloatProgressModel",
          "model_module_version": "1.5.0",
          "state": {
            "_dom_classes": [],
            "_model_module": "@jupyter-widgets/controls",
            "_model_module_version": "1.5.0",
            "_model_name": "FloatProgressModel",
            "_view_count": null,
            "_view_module": "@jupyter-widgets/controls",
            "_view_module_version": "1.5.0",
            "_view_name": "ProgressView",
            "bar_style": "",
            "description": "",
            "description_tooltip": null,
            "layout": "IPY_MODEL_1f6a9ddf9f1f4552b154a6bdb0a8c33e",
            "max": 25000,
            "min": 0,
            "orientation": "horizontal",
            "style": "IPY_MODEL_07d1e1e385c541989cb3d200cca9bcb9",
            "value": 25000
          }
        },
        "f3a542e22467446883a8ac9ecee9d203": {
          "model_module": "@jupyter-widgets/controls",
          "model_name": "HTMLModel",
          "model_module_version": "1.5.0",
          "state": {
            "_dom_classes": [],
            "_model_module": "@jupyter-widgets/controls",
            "_model_module_version": "1.5.0",
            "_model_name": "HTMLModel",
            "_view_count": null,
            "_view_module": "@jupyter-widgets/controls",
            "_view_module_version": "1.5.0",
            "_view_name": "HTMLView",
            "description": "",
            "description_tooltip": null,
            "layout": "IPY_MODEL_fc25a2a0df4245588b200d64b90eb7d4",
            "placeholder": "​",
            "style": "IPY_MODEL_6d4483d8576247c093821f4fe5801802",
            "value": " 0/25000 [00:00&lt;?, ? examples/s]"
          }
        },
        "a116d23e87d2491ca711fbccb8e541c4": {
          "model_module": "@jupyter-widgets/base",
          "model_name": "LayoutModel",
          "model_module_version": "1.2.0",
          "state": {
            "_model_module": "@jupyter-widgets/base",
            "_model_module_version": "1.2.0",
            "_model_name": "LayoutModel",
            "_view_count": null,
            "_view_module": "@jupyter-widgets/base",
            "_view_module_version": "1.2.0",
            "_view_name": "LayoutView",
            "align_content": null,
            "align_items": null,
            "align_self": null,
            "border": null,
            "bottom": null,
            "display": null,
            "flex": null,
            "flex_flow": null,
            "grid_area": null,
            "grid_auto_columns": null,
            "grid_auto_flow": null,
            "grid_auto_rows": null,
            "grid_column": null,
            "grid_gap": null,
            "grid_row": null,
            "grid_template_areas": null,
            "grid_template_columns": null,
            "grid_template_rows": null,
            "height": null,
            "justify_content": null,
            "justify_items": null,
            "left": null,
            "margin": null,
            "max_height": null,
            "max_width": null,
            "min_height": null,
            "min_width": null,
            "object_fit": null,
            "object_position": null,
            "order": null,
            "overflow": null,
            "overflow_x": null,
            "overflow_y": null,
            "padding": null,
            "right": null,
            "top": null,
            "visibility": "hidden",
            "width": null
          }
        },
        "b68d1b46b3df4df1a03503e5d39ef2a4": {
          "model_module": "@jupyter-widgets/base",
          "model_name": "LayoutModel",
          "model_module_version": "1.2.0",
          "state": {
            "_model_module": "@jupyter-widgets/base",
            "_model_module_version": "1.2.0",
            "_model_name": "LayoutModel",
            "_view_count": null,
            "_view_module": "@jupyter-widgets/base",
            "_view_module_version": "1.2.0",
            "_view_name": "LayoutView",
            "align_content": null,
            "align_items": null,
            "align_self": null,
            "border": null,
            "bottom": null,
            "display": null,
            "flex": null,
            "flex_flow": null,
            "grid_area": null,
            "grid_auto_columns": null,
            "grid_auto_flow": null,
            "grid_auto_rows": null,
            "grid_column": null,
            "grid_gap": null,
            "grid_row": null,
            "grid_template_areas": null,
            "grid_template_columns": null,
            "grid_template_rows": null,
            "height": null,
            "justify_content": null,
            "justify_items": null,
            "left": null,
            "margin": null,
            "max_height": null,
            "max_width": null,
            "min_height": null,
            "min_width": null,
            "object_fit": null,
            "object_position": null,
            "order": null,
            "overflow": null,
            "overflow_x": null,
            "overflow_y": null,
            "padding": null,
            "right": null,
            "top": null,
            "visibility": null,
            "width": null
          }
        },
        "674bb16d2a6a4e62a783d85ac9a3ca94": {
          "model_module": "@jupyter-widgets/controls",
          "model_name": "DescriptionStyleModel",
          "model_module_version": "1.5.0",
          "state": {
            "_model_module": "@jupyter-widgets/controls",
            "_model_module_version": "1.5.0",
            "_model_name": "DescriptionStyleModel",
            "_view_count": null,
            "_view_module": "@jupyter-widgets/base",
            "_view_module_version": "1.2.0",
            "_view_name": "StyleView",
            "description_width": ""
          }
        },
        "1f6a9ddf9f1f4552b154a6bdb0a8c33e": {
          "model_module": "@jupyter-widgets/base",
          "model_name": "LayoutModel",
          "model_module_version": "1.2.0",
          "state": {
            "_model_module": "@jupyter-widgets/base",
            "_model_module_version": "1.2.0",
            "_model_name": "LayoutModel",
            "_view_count": null,
            "_view_module": "@jupyter-widgets/base",
            "_view_module_version": "1.2.0",
            "_view_name": "LayoutView",
            "align_content": null,
            "align_items": null,
            "align_self": null,
            "border": null,
            "bottom": null,
            "display": null,
            "flex": null,
            "flex_flow": null,
            "grid_area": null,
            "grid_auto_columns": null,
            "grid_auto_flow": null,
            "grid_auto_rows": null,
            "grid_column": null,
            "grid_gap": null,
            "grid_row": null,
            "grid_template_areas": null,
            "grid_template_columns": null,
            "grid_template_rows": null,
            "height": null,
            "justify_content": null,
            "justify_items": null,
            "left": null,
            "margin": null,
            "max_height": null,
            "max_width": null,
            "min_height": null,
            "min_width": null,
            "object_fit": null,
            "object_position": null,
            "order": null,
            "overflow": null,
            "overflow_x": null,
            "overflow_y": null,
            "padding": null,
            "right": null,
            "top": null,
            "visibility": null,
            "width": null
          }
        },
        "07d1e1e385c541989cb3d200cca9bcb9": {
          "model_module": "@jupyter-widgets/controls",
          "model_name": "ProgressStyleModel",
          "model_module_version": "1.5.0",
          "state": {
            "_model_module": "@jupyter-widgets/controls",
            "_model_module_version": "1.5.0",
            "_model_name": "ProgressStyleModel",
            "_view_count": null,
            "_view_module": "@jupyter-widgets/base",
            "_view_module_version": "1.2.0",
            "_view_name": "StyleView",
            "bar_color": null,
            "description_width": ""
          }
        },
        "fc25a2a0df4245588b200d64b90eb7d4": {
          "model_module": "@jupyter-widgets/base",
          "model_name": "LayoutModel",
          "model_module_version": "1.2.0",
          "state": {
            "_model_module": "@jupyter-widgets/base",
            "_model_module_version": "1.2.0",
            "_model_name": "LayoutModel",
            "_view_count": null,
            "_view_module": "@jupyter-widgets/base",
            "_view_module_version": "1.2.0",
            "_view_name": "LayoutView",
            "align_content": null,
            "align_items": null,
            "align_self": null,
            "border": null,
            "bottom": null,
            "display": null,
            "flex": null,
            "flex_flow": null,
            "grid_area": null,
            "grid_auto_columns": null,
            "grid_auto_flow": null,
            "grid_auto_rows": null,
            "grid_column": null,
            "grid_gap": null,
            "grid_row": null,
            "grid_template_areas": null,
            "grid_template_columns": null,
            "grid_template_rows": null,
            "height": null,
            "justify_content": null,
            "justify_items": null,
            "left": null,
            "margin": null,
            "max_height": null,
            "max_width": null,
            "min_height": null,
            "min_width": null,
            "object_fit": null,
            "object_position": null,
            "order": null,
            "overflow": null,
            "overflow_x": null,
            "overflow_y": null,
            "padding": null,
            "right": null,
            "top": null,
            "visibility": null,
            "width": null
          }
        },
        "6d4483d8576247c093821f4fe5801802": {
          "model_module": "@jupyter-widgets/controls",
          "model_name": "DescriptionStyleModel",
          "model_module_version": "1.5.0",
          "state": {
            "_model_module": "@jupyter-widgets/controls",
            "_model_module_version": "1.5.0",
            "_model_name": "DescriptionStyleModel",
            "_view_count": null,
            "_view_module": "@jupyter-widgets/base",
            "_view_module_version": "1.2.0",
            "_view_name": "StyleView",
            "description_width": ""
          }
        },
        "160d1d69bde64080b4e88badb5fbd41f": {
          "model_module": "@jupyter-widgets/controls",
          "model_name": "HBoxModel",
          "model_module_version": "1.5.0",
          "state": {
            "_dom_classes": [],
            "_model_module": "@jupyter-widgets/controls",
            "_model_module_version": "1.5.0",
            "_model_name": "HBoxModel",
            "_view_count": null,
            "_view_module": "@jupyter-widgets/controls",
            "_view_module_version": "1.5.0",
            "_view_name": "HBoxView",
            "box_style": "",
            "children": [
              "IPY_MODEL_ee883dc4e2a74f848fb122584e8b530f",
              "IPY_MODEL_5c2c643700434f93a42d4d7e77a2b0ce",
              "IPY_MODEL_9858bc65b72c41de8a81276c46061ec0"
            ],
            "layout": "IPY_MODEL_acca97539dd747db95f1abba6bf1ed05"
          }
        },
        "ee883dc4e2a74f848fb122584e8b530f": {
          "model_module": "@jupyter-widgets/controls",
          "model_name": "HTMLModel",
          "model_module_version": "1.5.0",
          "state": {
            "_dom_classes": [],
            "_model_module": "@jupyter-widgets/controls",
            "_model_module_version": "1.5.0",
            "_model_name": "HTMLModel",
            "_view_count": null,
            "_view_module": "@jupyter-widgets/controls",
            "_view_module_version": "1.5.0",
            "_view_name": "HTMLView",
            "description": "",
            "description_tooltip": null,
            "layout": "IPY_MODEL_0ff25f320aa2494e9c6a23652fc20d46",
            "placeholder": "​",
            "style": "IPY_MODEL_88810184662e47eca935c3d0b495077f",
            "value": "Generating unsupervised examples...:  98%"
          }
        },
        "5c2c643700434f93a42d4d7e77a2b0ce": {
          "model_module": "@jupyter-widgets/controls",
          "model_name": "FloatProgressModel",
          "model_module_version": "1.5.0",
          "state": {
            "_dom_classes": [],
            "_model_module": "@jupyter-widgets/controls",
            "_model_module_version": "1.5.0",
            "_model_name": "FloatProgressModel",
            "_view_count": null,
            "_view_module": "@jupyter-widgets/controls",
            "_view_module_version": "1.5.0",
            "_view_name": "ProgressView",
            "bar_style": "",
            "description": "",
            "description_tooltip": null,
            "layout": "IPY_MODEL_f8d8c567eee5466799c9b4057b19afbb",
            "max": 50000,
            "min": 0,
            "orientation": "horizontal",
            "style": "IPY_MODEL_65073884ae0248d5a11430b743ad7ff3",
            "value": 50000
          }
        },
        "9858bc65b72c41de8a81276c46061ec0": {
          "model_module": "@jupyter-widgets/controls",
          "model_name": "HTMLModel",
          "model_module_version": "1.5.0",
          "state": {
            "_dom_classes": [],
            "_model_module": "@jupyter-widgets/controls",
            "_model_module_version": "1.5.0",
            "_model_name": "HTMLModel",
            "_view_count": null,
            "_view_module": "@jupyter-widgets/controls",
            "_view_module_version": "1.5.0",
            "_view_name": "HTMLView",
            "description": "",
            "description_tooltip": null,
            "layout": "IPY_MODEL_3076c02b246d4d13a4ef7909d4875631",
            "placeholder": "​",
            "style": "IPY_MODEL_e6cd3cecccde40f49d7d71e3c7689db1",
            "value": " 49173/50000 [00:15&lt;00:00, 4082.66 examples/s]"
          }
        },
        "acca97539dd747db95f1abba6bf1ed05": {
          "model_module": "@jupyter-widgets/base",
          "model_name": "LayoutModel",
          "model_module_version": "1.2.0",
          "state": {
            "_model_module": "@jupyter-widgets/base",
            "_model_module_version": "1.2.0",
            "_model_name": "LayoutModel",
            "_view_count": null,
            "_view_module": "@jupyter-widgets/base",
            "_view_module_version": "1.2.0",
            "_view_name": "LayoutView",
            "align_content": null,
            "align_items": null,
            "align_self": null,
            "border": null,
            "bottom": null,
            "display": null,
            "flex": null,
            "flex_flow": null,
            "grid_area": null,
            "grid_auto_columns": null,
            "grid_auto_flow": null,
            "grid_auto_rows": null,
            "grid_column": null,
            "grid_gap": null,
            "grid_row": null,
            "grid_template_areas": null,
            "grid_template_columns": null,
            "grid_template_rows": null,
            "height": null,
            "justify_content": null,
            "justify_items": null,
            "left": null,
            "margin": null,
            "max_height": null,
            "max_width": null,
            "min_height": null,
            "min_width": null,
            "object_fit": null,
            "object_position": null,
            "order": null,
            "overflow": null,
            "overflow_x": null,
            "overflow_y": null,
            "padding": null,
            "right": null,
            "top": null,
            "visibility": "hidden",
            "width": null
          }
        },
        "0ff25f320aa2494e9c6a23652fc20d46": {
          "model_module": "@jupyter-widgets/base",
          "model_name": "LayoutModel",
          "model_module_version": "1.2.0",
          "state": {
            "_model_module": "@jupyter-widgets/base",
            "_model_module_version": "1.2.0",
            "_model_name": "LayoutModel",
            "_view_count": null,
            "_view_module": "@jupyter-widgets/base",
            "_view_module_version": "1.2.0",
            "_view_name": "LayoutView",
            "align_content": null,
            "align_items": null,
            "align_self": null,
            "border": null,
            "bottom": null,
            "display": null,
            "flex": null,
            "flex_flow": null,
            "grid_area": null,
            "grid_auto_columns": null,
            "grid_auto_flow": null,
            "grid_auto_rows": null,
            "grid_column": null,
            "grid_gap": null,
            "grid_row": null,
            "grid_template_areas": null,
            "grid_template_columns": null,
            "grid_template_rows": null,
            "height": null,
            "justify_content": null,
            "justify_items": null,
            "left": null,
            "margin": null,
            "max_height": null,
            "max_width": null,
            "min_height": null,
            "min_width": null,
            "object_fit": null,
            "object_position": null,
            "order": null,
            "overflow": null,
            "overflow_x": null,
            "overflow_y": null,
            "padding": null,
            "right": null,
            "top": null,
            "visibility": null,
            "width": null
          }
        },
        "88810184662e47eca935c3d0b495077f": {
          "model_module": "@jupyter-widgets/controls",
          "model_name": "DescriptionStyleModel",
          "model_module_version": "1.5.0",
          "state": {
            "_model_module": "@jupyter-widgets/controls",
            "_model_module_version": "1.5.0",
            "_model_name": "DescriptionStyleModel",
            "_view_count": null,
            "_view_module": "@jupyter-widgets/base",
            "_view_module_version": "1.2.0",
            "_view_name": "StyleView",
            "description_width": ""
          }
        },
        "f8d8c567eee5466799c9b4057b19afbb": {
          "model_module": "@jupyter-widgets/base",
          "model_name": "LayoutModel",
          "model_module_version": "1.2.0",
          "state": {
            "_model_module": "@jupyter-widgets/base",
            "_model_module_version": "1.2.0",
            "_model_name": "LayoutModel",
            "_view_count": null,
            "_view_module": "@jupyter-widgets/base",
            "_view_module_version": "1.2.0",
            "_view_name": "LayoutView",
            "align_content": null,
            "align_items": null,
            "align_self": null,
            "border": null,
            "bottom": null,
            "display": null,
            "flex": null,
            "flex_flow": null,
            "grid_area": null,
            "grid_auto_columns": null,
            "grid_auto_flow": null,
            "grid_auto_rows": null,
            "grid_column": null,
            "grid_gap": null,
            "grid_row": null,
            "grid_template_areas": null,
            "grid_template_columns": null,
            "grid_template_rows": null,
            "height": null,
            "justify_content": null,
            "justify_items": null,
            "left": null,
            "margin": null,
            "max_height": null,
            "max_width": null,
            "min_height": null,
            "min_width": null,
            "object_fit": null,
            "object_position": null,
            "order": null,
            "overflow": null,
            "overflow_x": null,
            "overflow_y": null,
            "padding": null,
            "right": null,
            "top": null,
            "visibility": null,
            "width": null
          }
        },
        "65073884ae0248d5a11430b743ad7ff3": {
          "model_module": "@jupyter-widgets/controls",
          "model_name": "ProgressStyleModel",
          "model_module_version": "1.5.0",
          "state": {
            "_model_module": "@jupyter-widgets/controls",
            "_model_module_version": "1.5.0",
            "_model_name": "ProgressStyleModel",
            "_view_count": null,
            "_view_module": "@jupyter-widgets/base",
            "_view_module_version": "1.2.0",
            "_view_name": "StyleView",
            "bar_color": null,
            "description_width": ""
          }
        },
        "3076c02b246d4d13a4ef7909d4875631": {
          "model_module": "@jupyter-widgets/base",
          "model_name": "LayoutModel",
          "model_module_version": "1.2.0",
          "state": {
            "_model_module": "@jupyter-widgets/base",
            "_model_module_version": "1.2.0",
            "_model_name": "LayoutModel",
            "_view_count": null,
            "_view_module": "@jupyter-widgets/base",
            "_view_module_version": "1.2.0",
            "_view_name": "LayoutView",
            "align_content": null,
            "align_items": null,
            "align_self": null,
            "border": null,
            "bottom": null,
            "display": null,
            "flex": null,
            "flex_flow": null,
            "grid_area": null,
            "grid_auto_columns": null,
            "grid_auto_flow": null,
            "grid_auto_rows": null,
            "grid_column": null,
            "grid_gap": null,
            "grid_row": null,
            "grid_template_areas": null,
            "grid_template_columns": null,
            "grid_template_rows": null,
            "height": null,
            "justify_content": null,
            "justify_items": null,
            "left": null,
            "margin": null,
            "max_height": null,
            "max_width": null,
            "min_height": null,
            "min_width": null,
            "object_fit": null,
            "object_position": null,
            "order": null,
            "overflow": null,
            "overflow_x": null,
            "overflow_y": null,
            "padding": null,
            "right": null,
            "top": null,
            "visibility": null,
            "width": null
          }
        },
        "e6cd3cecccde40f49d7d71e3c7689db1": {
          "model_module": "@jupyter-widgets/controls",
          "model_name": "DescriptionStyleModel",
          "model_module_version": "1.5.0",
          "state": {
            "_model_module": "@jupyter-widgets/controls",
            "_model_module_version": "1.5.0",
            "_model_name": "DescriptionStyleModel",
            "_view_count": null,
            "_view_module": "@jupyter-widgets/base",
            "_view_module_version": "1.2.0",
            "_view_name": "StyleView",
            "description_width": ""
          }
        },
        "4af4dcba21ba423991b8750d8d173457": {
          "model_module": "@jupyter-widgets/controls",
          "model_name": "HBoxModel",
          "model_module_version": "1.5.0",
          "state": {
            "_dom_classes": [],
            "_model_module": "@jupyter-widgets/controls",
            "_model_module_version": "1.5.0",
            "_model_name": "HBoxModel",
            "_view_count": null,
            "_view_module": "@jupyter-widgets/controls",
            "_view_module_version": "1.5.0",
            "_view_name": "HBoxView",
            "box_style": "",
            "children": [
              "IPY_MODEL_fb77a8a714f549db9be88eaed6ba3f8f",
              "IPY_MODEL_9354240c55f949139372c3d09fcc669e",
              "IPY_MODEL_0e29bf4ac7834c1da02966d9bc2620c8"
            ],
            "layout": "IPY_MODEL_7d85a3ae68f3449aad8c1662cd6c74f1"
          }
        },
        "fb77a8a714f549db9be88eaed6ba3f8f": {
          "model_module": "@jupyter-widgets/controls",
          "model_name": "HTMLModel",
          "model_module_version": "1.5.0",
          "state": {
            "_dom_classes": [],
            "_model_module": "@jupyter-widgets/controls",
            "_model_module_version": "1.5.0",
            "_model_name": "HTMLModel",
            "_view_count": null,
            "_view_module": "@jupyter-widgets/controls",
            "_view_module_version": "1.5.0",
            "_view_name": "HTMLView",
            "description": "",
            "description_tooltip": null,
            "layout": "IPY_MODEL_416ea3bf38ab4690834e91d7d628c770",
            "placeholder": "​",
            "style": "IPY_MODEL_eaed18f5070f466f8ea9a9a93dcf7c5c",
            "value": "Shuffling /root/tensorflow_datasets/imdb_reviews/plain_text/incomplete.AF627Z_1.0.0/imdb_reviews-unsupervised.tfrecord*...:   0%"
          }
        },
        "9354240c55f949139372c3d09fcc669e": {
          "model_module": "@jupyter-widgets/controls",
          "model_name": "FloatProgressModel",
          "model_module_version": "1.5.0",
          "state": {
            "_dom_classes": [],
            "_model_module": "@jupyter-widgets/controls",
            "_model_module_version": "1.5.0",
            "_model_name": "FloatProgressModel",
            "_view_count": null,
            "_view_module": "@jupyter-widgets/controls",
            "_view_module_version": "1.5.0",
            "_view_name": "ProgressView",
            "bar_style": "",
            "description": "",
            "description_tooltip": null,
            "layout": "IPY_MODEL_9e8bf881588b4a56ae129a4310a002c6",
            "max": 50000,
            "min": 0,
            "orientation": "horizontal",
            "style": "IPY_MODEL_53ddf0410a8445a69655b713b11817d1",
            "value": 50000
          }
        },
        "0e29bf4ac7834c1da02966d9bc2620c8": {
          "model_module": "@jupyter-widgets/controls",
          "model_name": "HTMLModel",
          "model_module_version": "1.5.0",
          "state": {
            "_dom_classes": [],
            "_model_module": "@jupyter-widgets/controls",
            "_model_module_version": "1.5.0",
            "_model_name": "HTMLModel",
            "_view_count": null,
            "_view_module": "@jupyter-widgets/controls",
            "_view_module_version": "1.5.0",
            "_view_name": "HTMLView",
            "description": "",
            "description_tooltip": null,
            "layout": "IPY_MODEL_58ecc6f97a4843618fa603eabd860624",
            "placeholder": "​",
            "style": "IPY_MODEL_0606cc0ed6f346af90bdf8bdca64cc6e",
            "value": " 0/50000 [00:00&lt;?, ? examples/s]"
          }
        },
        "7d85a3ae68f3449aad8c1662cd6c74f1": {
          "model_module": "@jupyter-widgets/base",
          "model_name": "LayoutModel",
          "model_module_version": "1.2.0",
          "state": {
            "_model_module": "@jupyter-widgets/base",
            "_model_module_version": "1.2.0",
            "_model_name": "LayoutModel",
            "_view_count": null,
            "_view_module": "@jupyter-widgets/base",
            "_view_module_version": "1.2.0",
            "_view_name": "LayoutView",
            "align_content": null,
            "align_items": null,
            "align_self": null,
            "border": null,
            "bottom": null,
            "display": null,
            "flex": null,
            "flex_flow": null,
            "grid_area": null,
            "grid_auto_columns": null,
            "grid_auto_flow": null,
            "grid_auto_rows": null,
            "grid_column": null,
            "grid_gap": null,
            "grid_row": null,
            "grid_template_areas": null,
            "grid_template_columns": null,
            "grid_template_rows": null,
            "height": null,
            "justify_content": null,
            "justify_items": null,
            "left": null,
            "margin": null,
            "max_height": null,
            "max_width": null,
            "min_height": null,
            "min_width": null,
            "object_fit": null,
            "object_position": null,
            "order": null,
            "overflow": null,
            "overflow_x": null,
            "overflow_y": null,
            "padding": null,
            "right": null,
            "top": null,
            "visibility": "hidden",
            "width": null
          }
        },
        "416ea3bf38ab4690834e91d7d628c770": {
          "model_module": "@jupyter-widgets/base",
          "model_name": "LayoutModel",
          "model_module_version": "1.2.0",
          "state": {
            "_model_module": "@jupyter-widgets/base",
            "_model_module_version": "1.2.0",
            "_model_name": "LayoutModel",
            "_view_count": null,
            "_view_module": "@jupyter-widgets/base",
            "_view_module_version": "1.2.0",
            "_view_name": "LayoutView",
            "align_content": null,
            "align_items": null,
            "align_self": null,
            "border": null,
            "bottom": null,
            "display": null,
            "flex": null,
            "flex_flow": null,
            "grid_area": null,
            "grid_auto_columns": null,
            "grid_auto_flow": null,
            "grid_auto_rows": null,
            "grid_column": null,
            "grid_gap": null,
            "grid_row": null,
            "grid_template_areas": null,
            "grid_template_columns": null,
            "grid_template_rows": null,
            "height": null,
            "justify_content": null,
            "justify_items": null,
            "left": null,
            "margin": null,
            "max_height": null,
            "max_width": null,
            "min_height": null,
            "min_width": null,
            "object_fit": null,
            "object_position": null,
            "order": null,
            "overflow": null,
            "overflow_x": null,
            "overflow_y": null,
            "padding": null,
            "right": null,
            "top": null,
            "visibility": null,
            "width": null
          }
        },
        "eaed18f5070f466f8ea9a9a93dcf7c5c": {
          "model_module": "@jupyter-widgets/controls",
          "model_name": "DescriptionStyleModel",
          "model_module_version": "1.5.0",
          "state": {
            "_model_module": "@jupyter-widgets/controls",
            "_model_module_version": "1.5.0",
            "_model_name": "DescriptionStyleModel",
            "_view_count": null,
            "_view_module": "@jupyter-widgets/base",
            "_view_module_version": "1.2.0",
            "_view_name": "StyleView",
            "description_width": ""
          }
        },
        "9e8bf881588b4a56ae129a4310a002c6": {
          "model_module": "@jupyter-widgets/base",
          "model_name": "LayoutModel",
          "model_module_version": "1.2.0",
          "state": {
            "_model_module": "@jupyter-widgets/base",
            "_model_module_version": "1.2.0",
            "_model_name": "LayoutModel",
            "_view_count": null,
            "_view_module": "@jupyter-widgets/base",
            "_view_module_version": "1.2.0",
            "_view_name": "LayoutView",
            "align_content": null,
            "align_items": null,
            "align_self": null,
            "border": null,
            "bottom": null,
            "display": null,
            "flex": null,
            "flex_flow": null,
            "grid_area": null,
            "grid_auto_columns": null,
            "grid_auto_flow": null,
            "grid_auto_rows": null,
            "grid_column": null,
            "grid_gap": null,
            "grid_row": null,
            "grid_template_areas": null,
            "grid_template_columns": null,
            "grid_template_rows": null,
            "height": null,
            "justify_content": null,
            "justify_items": null,
            "left": null,
            "margin": null,
            "max_height": null,
            "max_width": null,
            "min_height": null,
            "min_width": null,
            "object_fit": null,
            "object_position": null,
            "order": null,
            "overflow": null,
            "overflow_x": null,
            "overflow_y": null,
            "padding": null,
            "right": null,
            "top": null,
            "visibility": null,
            "width": null
          }
        },
        "53ddf0410a8445a69655b713b11817d1": {
          "model_module": "@jupyter-widgets/controls",
          "model_name": "ProgressStyleModel",
          "model_module_version": "1.5.0",
          "state": {
            "_model_module": "@jupyter-widgets/controls",
            "_model_module_version": "1.5.0",
            "_model_name": "ProgressStyleModel",
            "_view_count": null,
            "_view_module": "@jupyter-widgets/base",
            "_view_module_version": "1.2.0",
            "_view_name": "StyleView",
            "bar_color": null,
            "description_width": ""
          }
        },
        "58ecc6f97a4843618fa603eabd860624": {
          "model_module": "@jupyter-widgets/base",
          "model_name": "LayoutModel",
          "model_module_version": "1.2.0",
          "state": {
            "_model_module": "@jupyter-widgets/base",
            "_model_module_version": "1.2.0",
            "_model_name": "LayoutModel",
            "_view_count": null,
            "_view_module": "@jupyter-widgets/base",
            "_view_module_version": "1.2.0",
            "_view_name": "LayoutView",
            "align_content": null,
            "align_items": null,
            "align_self": null,
            "border": null,
            "bottom": null,
            "display": null,
            "flex": null,
            "flex_flow": null,
            "grid_area": null,
            "grid_auto_columns": null,
            "grid_auto_flow": null,
            "grid_auto_rows": null,
            "grid_column": null,
            "grid_gap": null,
            "grid_row": null,
            "grid_template_areas": null,
            "grid_template_columns": null,
            "grid_template_rows": null,
            "height": null,
            "justify_content": null,
            "justify_items": null,
            "left": null,
            "margin": null,
            "max_height": null,
            "max_width": null,
            "min_height": null,
            "min_width": null,
            "object_fit": null,
            "object_position": null,
            "order": null,
            "overflow": null,
            "overflow_x": null,
            "overflow_y": null,
            "padding": null,
            "right": null,
            "top": null,
            "visibility": null,
            "width": null
          }
        },
        "0606cc0ed6f346af90bdf8bdca64cc6e": {
          "model_module": "@jupyter-widgets/controls",
          "model_name": "DescriptionStyleModel",
          "model_module_version": "1.5.0",
          "state": {
            "_model_module": "@jupyter-widgets/controls",
            "_model_module_version": "1.5.0",
            "_model_name": "DescriptionStyleModel",
            "_view_count": null,
            "_view_module": "@jupyter-widgets/base",
            "_view_module_version": "1.2.0",
            "_view_name": "StyleView",
            "description_width": ""
          }
        }
      }
    }
  },
  "cells": [
    {
      "cell_type": "markdown",
      "metadata": {
        "id": "view-in-github",
        "colab_type": "text"
      },
      "source": [
        "<a href=\"https://colab.research.google.com/github/Tkag0001/AI_and_Machine_Learning_for_Coders/blob/main/Chapter5_Introduction_to_Natural_Language_Processing.ipynb\" target=\"_parent\"><img src=\"https://colab.research.google.com/assets/colab-badge.svg\" alt=\"Open In Colab\"/></a>"
      ]
    },
    {
      "cell_type": "markdown",
      "source": [
        "# Introduction to Natural Language Processing\n",
        "![Introduce image](https://bobcares.com/wp-content/uploads/2024/11/Natural-Language-Processing.png)"
      ],
      "metadata": {
        "id": "k4iLnnTYc7wz"
      }
    },
    {
      "cell_type": "markdown",
      "source": [
        "Đến với chương 5 này tụi mình sẽ cùng nhau tìm hiểu về **NLP** nha. Đây cũng là chủ đề chính trong một vài chương tiếp theo của chúng ta luôn nha.\n",
        "\n",
        "> **NLP là gì?**\n",
        "\n",
        "**NLP** là viết tắt của cụm từ **Natural language processing**, dịch thô có nghĩa là **xử lý ngôn ngữ tự nhiên**, là một nhánh trong lĩnh vực trí tuệ nhân tạo.\n",
        "\n",
        "Mọi người có thể hiểu đơn giản là **NLP** liên quan đến các công nghệ mà ở đó các thiết bị hay máy tính có thể hiểu được ngôn ngữ người dùng, thực hiện được các tác vụ như phân loại nội dung, phân tích ngữ cảnh, cũng như tạo ra các văn bản, thành phần ở mức ngôn ngữ con người.\n"
      ],
      "metadata": {
        "id": "3wnuHCzeeJ0B"
      }
    },
    {
      "cell_type": "markdown",
      "source": [
        "## Ứng dụng của NLP:\n",
        "Cái này thì quá đơn giản rồi ha, gần nhất với mọi người sử dụng hàng ngày là **Chatbot**.\n",
        "\n",
        "Các ứng dụng khác có thể kể đến như là xác định các đối tượng trong văn bản, phân loại bình luận tích cực hay tiêu cực,...\n",
        "\n",
        "Tuy nhiên trong mục tiêu, phạm vi của cuốn sách lần này, chúng ta chỉ đơn giản là tìm hiểu **NLP** theo hướng tiếp cận cơ bản, hiểu được cách mô hình hóa ngôn ngữ, nhờ đó có thể huấn luyện mô hình để thực hiện các tác vụ như là hiểu và phân loại nội dung văn bản."
      ],
      "metadata": {
        "id": "iC-rOsh_hoLJ"
      }
    },
    {
      "cell_type": "markdown",
      "source": [
        "Bắt đầu chương này, tụi mình sẽ đến với phần tìm hiếu cách để chuyển từ dữ liệu văn bản sang dạng số, cũng như sử dụng chính những số đó cho mô hình neural nha."
      ],
      "metadata": {
        "id": "EBYuX2PpBxcX"
      }
    },
    {
      "cell_type": "markdown",
      "source": [
        "# Encoding Language into Numbes.(Mã hóa ngôn ngữ thành chữ số)\n",
        "\n",
        "Đầu tiên tụi mình sẽ đến với phần mã hóa, chuyển đổi ngôn ngữ thành dạng chữ số nha.\n",
        "\n",
        "> **Tại sao lại cần chuyển đổi từ văn bản thành dạng số?**\n",
        "\n",
        "Mình nghĩ để giải thích dễ dàng nhất thì là thuận tiện cho việc đưa vào các công thức tính toán."
      ],
      "metadata": {
        "id": "SzWZSsGqhBcp"
      }
    },
    {
      "cell_type": "markdown",
      "source": [
        "![Encoding image](https://files.readme.io/bf9ae1b-Iwanttobreakfree.png)"
      ],
      "metadata": {
        "id": "ig5RctsSq_JR"
      }
    },
    {
      "cell_type": "markdown",
      "source": [
        "> **Vậy câu hỏi đặt ra là chúng ta sẽ mã hóa chúng như thế nào ?**\n",
        "\n",
        "Thực ra là có rất nhiều cách để mã hóa.\n",
        "Đơn giản nhất đi ha là tụi mình sẽ tiến hành phân tích mã hóa theo kí tự."
      ],
      "metadata": {
        "id": "DghL3plS4Stp"
      }
    },
    {
      "cell_type": "markdown",
      "source": [
        "## Mã hóa theo kí tự (Character tokenizer)\n",
        "\n",
        "Mã hóa theo kí tự tức mỗi kí tự sẽ tương ứng với một số, qua đó một từ hay một câu sẽ là một vector hay chuỗi số. Điển hình mà mọi người có thể thấy rõ nhất là bộ mã **ASCII** ha.\n",
        "\n",
        "VD. Chiếu theo bộ mã ASCII ta sẽ có:\n",
        "- **\"Dead is like the wind, always by my side\"** -> [68, 101, 97, 100, 32, 105, 115, 32, 108, 105, 107, 101, 32, 116, 104, 101, 32, 119, 105, 110, 100, 44, 32, 97, 108, 119, 97, 121, 115, 32, 98, 121, 32, 109, 121, 32, 115, 105, 100, 101]\n",
        "\n",
        "\n",
        "\n",
        "```python\n",
        "D: 68\n",
        "e: 101\n",
        "a: 97\n",
        "d: 100\n",
        " : 32\n",
        "i: 105\n",
        "s: 115\n",
        " : 32\n",
        "l: 108\n",
        "i: 105\n",
        "k: 107\n",
        "e: 101\n",
        " : 32\n",
        "t: 116\n",
        "h: 104\n",
        "e: 101\n",
        " : 32\n",
        "w: 119\n",
        "i: 105\n",
        "n: 110\n",
        "d: 100\n",
        ",: 44\n",
        " : 32\n",
        "a: 97\n",
        "l: 108\n",
        "w: 119\n",
        "a: 97\n",
        "y: 121\n",
        "s: 115\n",
        " : 32\n",
        "b: 98\n",
        "y: 121\n",
        " : 32\n",
        "m: 109\n",
        "y: 121\n",
        " : 32\n",
        "s: 115\n",
        "i: 105\n",
        "d: 100\n",
        "e: 101\n",
        "\n",
        "```\n",
        "\n"
      ],
      "metadata": {
        "id": "_YicShG6s5Sr"
      }
    },
    {
      "cell_type": "markdown",
      "source": [
        "Tuy nhiên mọi người sẽ gặp phải một vấn đề nha. Trong một số trường hợp, chúng sẽ ảnh hưởng đến mô hình nên đây cũng là điểm hạn chế của mã hóa theo kí tự.\n",
        "\n",
        "Sẽ có một số từ sẽ có số lượng kí tự lẫn các kí tự y chang nhau chỉ là thay đổi về số lượng từ thôi. Mặc dù là thứ tự cũng có khác đấy nhưng mà nó vẫn gây khó khăn trong việc hiểu được nội dung của mô hình.\n",
        "\n",
        "Những trường hợp từ như vậy gọi là **antigram**.\n",
        "Mình ví dụ một số từ như là:\n",
        "- Santa - Satan\n",
        "- restful - fluster\n",
        "- forty five - over fifty\n",
        "\n",
        "Có một joke nghe hơi dark dựa trên **antigram** là:\n",
        "> **\"Evangelist is the Evil's Agent.\"** 💀\n",
        "\n"
      ],
      "metadata": {
        "id": "3GJh-7yOwY8Q"
      }
    },
    {
      "cell_type": "markdown",
      "source": [
        "Thay vào đó tụi mình sẽ có một cách thay thế tốt hơn là mã hóa theo từ."
      ],
      "metadata": {
        "id": "vHE6BLHOtwKI"
      }
    },
    {
      "cell_type": "markdown",
      "source": [
        "## Mã hóa theo từ (Word tokenizer)\n",
        "Hiểu đơn giản là với mỗi từ tụi mình sẽ có một số để đại diện cho từ đó.\n",
        "\n",
        "```python\n",
        "# \"Caption Teemo on duty\" -> [1, 2, 3, 4]\n",
        "vocabulary = {\n",
        "  \"Caption\": 1,\n",
        "  \"Teemo\": 2\n",
        "  \"on\": 3,\n",
        "  \"duty\": 4\n",
        "}\n",
        "```\n",
        "\n",
        "Tuy nhiên chúng có sẽ có các hạn chế khác, tụi mình sẽ bàn sau ha. Còn bây giờ đi vào ví dụ code cụ thể trước nha."
      ],
      "metadata": {
        "id": "5AJ0gix90_pE"
      }
    },
    {
      "cell_type": "code",
      "source": [
        "import tensorflow as tf\n",
        "from tensorflow import keras\n",
        "from tensorflow.keras.preprocessing.text import Tokenizer\n",
        "\n",
        "org_texts = [\n",
        "    \"Today is a sunny day\",\n",
        "    \"Today is a rainy day\"\n",
        "]\n",
        "\n",
        "\n",
        "# Định nghĩa số lượng từ trong công cụ mã hóa (tokenizer)\n",
        "tokenizer = Tokenizer(num_words = 100)\n",
        "# Tiến hành đẩy các từ vào để tạo thư viện từ trong công cụ mã hóa.\n",
        "tokenizer.fit_on_texts(org_texts)\n",
        "# Lấy từ điển mã hóa ra\n",
        "word_index = tokenizer.word_index\n",
        "print(word_index)"
      ],
      "metadata": {
        "colab": {
          "base_uri": "https://localhost:8080/"
        },
        "id": "6a7czeBC4He3",
        "outputId": "51013d6e-f486-4e13-9f29-27a868bf5bea"
      },
      "execution_count": 1,
      "outputs": [
        {
          "output_type": "stream",
          "name": "stdout",
          "text": [
            "{'today': 1, 'is': 2, 'a': 3, 'day': 4, 'sunny': 5, 'rainy': 6}\n"
          ]
        }
      ]
    },
    {
      "cell_type": "markdown",
      "source": [
        "Như đây là kết quả của đoạn code ở trên nha, chúng ta sẽ lấy được từ điển mã hóa từ như sau\n",
        "\n",
        "```python\n",
        "{'today': 1, 'is': 2, 'a': 3, 'day': 4, 'sunny': 5, 'rainy': 6}\n",
        "```\n",
        "Như mọi người thấy, mỗi từ sẽ được lưu lại và được đại diện bởi một con số mã hóa.\n",
        "\n",
        "Sau khi đẩy các chuỗi vào để tạo từ điển, tụi mình sẽ tiến mã hóa các chuỗi hay câu với hàm **texts_to_sequences** nha. Mọi người chỉ cần chuyển list các câu vào.\n"
      ],
      "metadata": {
        "id": "dVYqm37vAkSE"
      }
    },
    {
      "cell_type": "code",
      "source": [
        "sequences = tokenizer.texts_to_sequences(org_texts)\n",
        "print(sequences)"
      ],
      "metadata": {
        "colab": {
          "base_uri": "https://localhost:8080/"
        },
        "id": "3HnLN3neDBEU",
        "outputId": "7fde01b0-720b-4406-946e-22aa358d0f80"
      },
      "execution_count": 2,
      "outputs": [
        {
          "output_type": "stream",
          "name": "stdout",
          "text": [
            "[[1, 2, 3, 5, 4], [1, 2, 3, 6, 4]]\n"
          ]
        }
      ]
    },
    {
      "cell_type": "markdown",
      "source": [
        "Kết quả của chuỗi hoàn toàn tương đồng với số mã hóa ở trên."
      ],
      "metadata": {
        "id": "tFUN5eaADUUo"
      }
    },
    {
      "cell_type": "markdown",
      "source": [
        "> **Vậy điểm hạn chế của phương pháp mã hóa theo từ là gì?**\n",
        "\n",
        "Như mọi người thấy, chúng hoạt động dựa trên các từ có sẵn trong từ điển. Vậy, khi gặp những **từ mới** không có trong thư viện từ vựng, máy tính sẽ không thể phát hiện được dẫn đến chúng **bỏ qua** nó, lúc này khi ta cho mô hình học chúng sẽ không được học đầy đủ và có thể bị nhầm lẫn ngữ cảnh.\n",
        "\n",
        "Ví dụ như đoạn code dưới đây."
      ],
      "metadata": {
        "id": "VEVsY_hldzmS"
      }
    },
    {
      "cell_type": "code",
      "source": [
        "# Tập kiểm tra\n",
        "test_data = [\n",
        "    \"Today is a snowy day\",\n",
        "    \"Will it be rainy tomorrow?\"\n",
        "]\n",
        "\n",
        "# Tiến hành mã hóa\n",
        "test_seq = tokenizer.texts_to_sequences(test_data)\n",
        "\n",
        "# Kiểm tra kết quả mã hóa.\n",
        "print(test_seq)"
      ],
      "metadata": {
        "colab": {
          "base_uri": "https://localhost:8080/"
        },
        "id": "JZlwZd4JDZqx",
        "outputId": "5ffea373-cfab-441d-fc19-a84df4994510"
      },
      "execution_count": 3,
      "outputs": [
        {
          "output_type": "stream",
          "name": "stdout",
          "text": [
            "[[1, 2, 3, 4], [6]]\n"
          ]
        }
      ]
    },
    {
      "cell_type": "markdown",
      "source": [
        "Như mọi người thấy kết quả mã hóa của 2 câu như sau:\n",
        "\n",
        "```python\n",
        " \"Today is a snowy day\" - [1, 2, 3, 4]\n",
        " \"Will it be rainy tomorrow?\" - [6]\n",
        " ```\n",
        "Độ dài của chuỗi sau mã hóa đã bị giảm đi rất nhiều, chúng chỉ mã hóa được những từ đã biết, nhưng từ chưa biết thì bỏ qua.\n",
        "\n",
        "Chúng ta có tên gọi cụ thể của trường hợp này là  **Out of vocabulary**, tức nằm ngoài vùng từ vựng."
      ],
      "metadata": {
        "id": "_pvuWsUDeepf"
      }
    },
    {
      "cell_type": "markdown",
      "source": [
        "## Using Out of vocabulary tokens (Sử dụng các token cho từ vựng mới)"
      ],
      "metadata": {
        "id": "xq8u0bQHtJ4n"
      }
    },
    {
      "cell_type": "markdown",
      "source": [
        "> Vậy chúng ta có thể giải quyết vấn đề **Out of vocabulary** này như thế nào?\n",
        "\n",
        "Có nhiều cách mã hóa cải tiến để khắc phục hoặc hạn chế ảnh hưởng của tình trạng này. Ở đây mình chỉ giới thiệu cách đơn giản nhất thôi ha.\n",
        "Mọi người sẽ sử dụng một **token hay số** để đại diện cho các trường hợp **từ vựng không biết trước**.\n",
        "\n",
        "Ở đây mình sẽ sử dụng token là **< OOV >** nha. Mọi người có thể đặt tên token là cái khác cũng được. Trong một số mô hình hay đoạn code mọi người có thể bắt gặp nó dưới dạng **< UNK >** có nghĩa là **unknown - không biết**."
      ],
      "metadata": {
        "id": "qMpcBMkehYsO"
      }
    },
    {
      "cell_type": "code",
      "source": [
        "# Tiến hành định nghĩa lại bộ mã hóa, thêm vào token đại diện cho trường hợp từ không biết\n",
        "tokenizer = Tokenizer(num_words=100, oov_token=\"<OOV>\")\n",
        "# Tiến hành đẩy các từ vào để tạo thư viện từ trong công cụ mã hóa.\n",
        "tokenizer.fit_on_texts(org_texts)"
      ],
      "metadata": {
        "id": "rj9dX-wljrWQ"
      },
      "execution_count": 4,
      "outputs": []
    },
    {
      "cell_type": "code",
      "source": [
        "# In từ điển bên trong bộ mã hóa ra\n",
        "word_index = tokenizer.word_index\n",
        "print(word_index)"
      ],
      "metadata": {
        "colab": {
          "base_uri": "https://localhost:8080/"
        },
        "id": "uhyouhk3kTyu",
        "outputId": "9b2f10da-93e7-41e1-9607-391a913114f2"
      },
      "execution_count": 5,
      "outputs": [
        {
          "output_type": "stream",
          "name": "stdout",
          "text": [
            "{'<OOV>': 1, 'today': 2, 'is': 3, 'a': 4, 'day': 5, 'sunny': 6, 'rainy': 7}\n"
          ]
        }
      ]
    },
    {
      "cell_type": "markdown",
      "source": [
        "**Ở đây mọi người sẽ thấy từ vựng không biết sẽ được đánh số mã hóa là 1**"
      ],
      "metadata": {
        "id": "FaYJouGgkX9W"
      }
    },
    {
      "cell_type": "code",
      "source": [
        "# Tiến hành mã hóa lại các câu gặp phải trường hợp từ vựng không biết trước đó\n",
        "test_seq = tokenizer.texts_to_sequences(test_data)\n",
        "print(test_seq)"
      ],
      "metadata": {
        "colab": {
          "base_uri": "https://localhost:8080/"
        },
        "id": "fM3x0JbTj9eI",
        "outputId": "443518f0-be01-4506-ecc7-86406dacdb6e"
      },
      "execution_count": 6,
      "outputs": [
        {
          "output_type": "stream",
          "name": "stdout",
          "text": [
            "[[2, 3, 4, 1, 5], [1, 1, 1, 7, 1]]\n"
          ]
        }
      ]
    },
    {
      "cell_type": "markdown",
      "source": [
        "Mọi người có thể thấy kết quả sau khi thêm vào token cho trường hợp từ vựng không biết:\n",
        "\n",
        "\n",
        "```python\n",
        "\"Today is a snowy day\" - [2, 3, 4, 1, 5]\n",
        " \"Will it be rainy tomorrow?\" - [1, 1, 1, 7, 1]\n",
        "```\n",
        "\n"
      ],
      "metadata": {
        "id": "-S_gIleckxt1"
      }
    },
    {
      "cell_type": "markdown",
      "source": [
        "Tuy nó không phải là cách tối ưu nhất nhưng chúng ta đã có thể đi đúng hướng giải quyết rồi. Tiếp đên tụi mình cùng tìm hiểu về phần đệm chuỗi nha."
      ],
      "metadata": {
        "id": "LYsz8Kt5sx9B"
      }
    },
    {
      "cell_type": "markdown",
      "source": [
        "## Understanding padding"
      ],
      "metadata": {
        "id": "0obrr0Z5s-_Y"
      }
    },
    {
      "cell_type": "markdown",
      "source": [
        "Hiểu đơn giản thì là **đệm thêm các token vào chuỗi**. Như mọi người đã biết dữ liệu khi đưa vào mô hình học tập thì **phải có kích thước giống nhau, tương ứng với kích thước đầu vào của mô hình**.\n",
        "\n",
        "Ở các chương trước, khi chúng ta làm việc với dữ liệu dạng ảnh, chúng ta đã tiến hành điều chỉnh lại kích thước ảnh trước khi đưa vào mô hình thì bây giờ khi xử lý dữ liệu dạng chuỗi cũng tương tự như vậy á.\n",
        "\n",
        "Với dữ liệu dạng chuỗi chúng ta sẽ thêm vào các token đại diện cho những phần tử đệm thêm vào với mục đích làm cho độ dài các chuỗi đều tương đương nhau. Mọi người sẽ thường bắt gặp token này với dạng **< PAD >>** trong các mô hình xử lý.\n",
        "\n",
        "Nói đủ nhiều rồi, bây giờ chúng ta sẽ đi vào code xử lý cụ thể ha."
      ],
      "metadata": {
        "id": "xrFuCAhu3aRU"
      }
    },
    {
      "cell_type": "code",
      "source": [
        "# Các câu văn cần mã hóa để đưa vào mô hình\n",
        "sentences = [\n",
        "  \"Today is a sunny day\",\n",
        "  \"Today is a rainy day\",\n",
        "  \"Is it sunny today?\",\n",
        "  \"I really enjoyed walking in the snow today\"\n",
        "]\n",
        "\n",
        "# Định nghĩa bộ mã hóa\n",
        "tokenizer = Tokenizer(num_words=100, oov_token=\"<OOV>\")\n",
        "tokenizer.fit_on_texts(sentences)\n",
        "word_index = tokenizer.word_index\n",
        "\n",
        "# Tiến hành mã hóa các câu văn\n",
        "sequences = tokenizer.texts_to_sequences(sentences)"
      ],
      "metadata": {
        "id": "bvDOLh4ivKPW"
      },
      "execution_count": 7,
      "outputs": []
    },
    {
      "cell_type": "code",
      "source": [
        "# In ra kết quả mã hóa\n",
        "for seq in sequences:\n",
        "  print(seq)"
      ],
      "metadata": {
        "colab": {
          "base_uri": "https://localhost:8080/"
        },
        "id": "Nhue-W9Wvgz8",
        "outputId": "8fca9a17-aa52-4b1f-a8c0-130c4c879885"
      },
      "execution_count": 8,
      "outputs": [
        {
          "output_type": "stream",
          "name": "stdout",
          "text": [
            "[2, 3, 4, 5, 6]\n",
            "[2, 3, 4, 7, 6]\n",
            "[3, 8, 5, 2]\n",
            "[9, 10, 11, 12, 13, 14, 15, 2]\n"
          ]
        }
      ]
    },
    {
      "cell_type": "markdown",
      "source": [
        "Như mọi  người thấy đấy, chúng có kích thước không giống nhau nha.\n",
        "\n",
        "\n",
        "```python\n",
        "[2, 3, 4, 5, 6]\n",
        "[2, 3, 4, 7, 6]\n",
        "[3, 8, 5, 2]\n",
        "[9, 10, 11, 12, 13, 14, 15, 2]\n",
        "```\n",
        "Bây giờ tụi mình sẽ tiến hành đệm vào để giúp độ dài các chuỗi có cùng kích thước với chuỗi có độ dài nhất.\n"
      ],
      "metadata": {
        "id": "NVt0UPrqvqWn"
      }
    },
    {
      "cell_type": "code",
      "source": [
        "from tensorflow.keras.preprocessing.sequence import pad_sequences\n",
        "\n",
        "# Tiến hành đệm các chuỗi\n",
        "padded = pad_sequences(sequences)\n",
        "\n",
        "# In ra kết quả đệm\n",
        "print(\"Kết quả các câu đã đệm:\")\n",
        "for seq in padded:\n",
        "  print(seq)"
      ],
      "metadata": {
        "colab": {
          "base_uri": "https://localhost:8080/"
        },
        "id": "RyuCDVJUv43H",
        "outputId": "d07477e9-3f4a-4489-ef5e-321d521fc498"
      },
      "execution_count": 9,
      "outputs": [
        {
          "output_type": "stream",
          "name": "stdout",
          "text": [
            "Kết quả các câu đã đệm:\n",
            "[0 0 0 2 3 4 5 6]\n",
            "[0 0 0 2 3 4 7 6]\n",
            "[0 0 0 0 3 8 5 2]\n",
            "[ 9 10 11 12 13 14 15  2]\n"
          ]
        }
      ]
    },
    {
      "cell_type": "markdown",
      "source": [
        "Như mọi người thấy, bây giờ các chuỗi đều đã có kích thước là 8 ha. Tuy nhiên các số 0 đại diện token **< PAD >** lại được đệm ở đầu. Đây cũng là lý do mà thường các bộ mã hóa có từ điển bắt đầu từ 1 ha, số 0 sẽ dành cho phần **padding**.\n",
        "\n",
        "Việc thêm bộ đệm ở phần đầu này tụi mình sẽ gọi là **prepadding**.\n",
        "\n",
        "Nếu mọi người muốn thêm bộ đệm ở phía sau, mọi người có thể dùng thêm một tham số nhỏ là **padding = 'post'** cho phương thức trên."
      ],
      "metadata": {
        "id": "NB7j9xw3wg83"
      }
    },
    {
      "cell_type": "code",
      "source": [
        "padded = pad_sequences(sequences, padding='post')\n",
        "print(\"Kết quả các câu đã đệm:\")\n",
        "for seq in padded:\n",
        "  print(seq)"
      ],
      "metadata": {
        "colab": {
          "base_uri": "https://localhost:8080/"
        },
        "id": "Gur_0vI7NJfR",
        "outputId": "278dfe64-fb9a-4a5c-9d90-a7b7bce54454"
      },
      "execution_count": 10,
      "outputs": [
        {
          "output_type": "stream",
          "name": "stdout",
          "text": [
            "Kết quả các câu đã đệm:\n",
            "[2 3 4 5 6 0 0 0]\n",
            "[2 3 4 7 6 0 0 0]\n",
            "[3 8 5 2 0 0 0 0]\n",
            "[ 9 10 11 12 13 14 15  2]\n"
          ]
        }
      ]
    },
    {
      "cell_type": "markdown",
      "source": [
        "Đấy, các số 0 đã được đệm vào phần đuôi rồi này, qua đó giúp đảm bảo kích thước các batch trước khi đưa vào huấn luyện mô hình.\n",
        "\n",
        "Thông qua việc thêm các bộ đệm vào, thì tụi mình đã có thể đảm bảo đươc độ dài các thành phần trong batch. Tuy nhiên bạn cũng sẽ đối mặt với một trường hợp đặc biệt.\n",
        "> **Điều gì sẽ xảy ra nếu bạn gặp phải một câu dài đến mức điên rồ ?**\n",
        "\n",
        "Đứng vậy, bạn sẽ phải thêm một mớ bộ đệm vào, một câu chỉ có 3 4 từ nhưng lại thêm cả chục token **< PAD >** vào chỉ vì để cùng độ dài với một câu dài đến mức điên rồ. Và đôi khi nó có thể lấn át dữ liệu hữu ích hay tốn quá nhiều thời gian và tài nguyên để xử lý. **Đó là một sự đánh đổi**.\n",
        "\n",
        "Để khắc phục tình trạng đó, ta có thể định nghĩa thêm một tham số gọi là độ dài tối đa **maxlen** để giới hạn lại độ dài chuỗi. Tuy nhiên chúng cũng sẽ có những **đánh đổi nhất định**."
      ],
      "metadata": {
        "id": "me0pNG5RQUqM"
      }
    },
    {
      "cell_type": "code",
      "source": [
        "padded = pad_sequences(sequences, padding='post', maxlen=6)\n",
        "print(\"Kết quả các câu đã đệm:\")\n",
        "for seq in padded:\n",
        "  print(seq)"
      ],
      "metadata": {
        "colab": {
          "base_uri": "https://localhost:8080/"
        },
        "id": "MnxFNqHKMjAY",
        "outputId": "f28b955c-f8d7-4be8-ea3e-5868343fcc47"
      },
      "execution_count": 11,
      "outputs": [
        {
          "output_type": "stream",
          "name": "stdout",
          "text": [
            "Kết quả các câu đã đệm:\n",
            "[2 3 4 5 6 0]\n",
            "[2 3 4 7 6 0]\n",
            "[3 8 5 2 0 0]\n",
            "[11 12 13 14 15  2]\n"
          ]
        }
      ]
    },
    {
      "cell_type": "markdown",
      "source": [
        "Như mọi người thấy đấy, các chuỗi đã được giới hạn lại tối đa độ dài, ba chuỗi đầu chỉ được thêm từ 0 đến 1 token **< PAD >** hay số 0 để đảm bảo đạt độ dài tối đa.\n",
        "\n",
        "Trong khi đó chuỗi cuối cùng lại được cắt ngắn chỉ còn 6 kí tự cuối. Đây cũng là **một sự đánh đổi**. Chúng ta chấp nhận loại bỏ đi một số dữ liệu hay từ nhất định từ một mẫu để giữ lại sự hữu ích từ các mẫu khác.\n",
        "\n",
        "Nếu các bạn không muốn giữ các từ hay token ở cuối mà muốn giữ các từ ở đầu thì chúng ta cũng có thể chọn giữ phần đầu với tham số ***truncating = 'post'**."
      ],
      "metadata": {
        "id": "WTX0K_M0Svpx"
      }
    },
    {
      "cell_type": "code",
      "source": [
        "padded = pad_sequences(sequences, padding='post', maxlen=6, truncating='post')\n",
        "print(\"Kết quả các câu đã đệm:\")\n",
        "for seq in padded:\n",
        "  print(seq)"
      ],
      "metadata": {
        "colab": {
          "base_uri": "https://localhost:8080/"
        },
        "id": "bx21KTyKTwH1",
        "outputId": "f53381f2-e8dc-4b9a-c3d8-e12939e3b931"
      },
      "execution_count": 12,
      "outputs": [
        {
          "output_type": "stream",
          "name": "stdout",
          "text": [
            "Kết quả các câu đã đệm:\n",
            "[2 3 4 5 6 0]\n",
            "[2 3 4 7 6 0]\n",
            "[3 8 5 2 0 0]\n",
            "[ 9 10 11 12 13 14]\n"
          ]
        }
      ]
    },
    {
      "cell_type": "markdown",
      "source": [
        "Như thế các từ phía đầu chuỗi đã có thể được giữ lại."
      ],
      "metadata": {
        "id": "KYUyZ2cYTyf9"
      }
    },
    {
      "cell_type": "markdown",
      "source": [
        "## Tổng kết phần mã hóa ngôn ngữ thành số.\n",
        "- Mã hóa ngôn ngữ thành số tức là chuyển các kí tự, từ vựng hay câu thành chuỗi các số với mỗi số đại diện cho kí tự hoặc từ trong câu.\n",
        "- Các phương pháp mã hóa:\n",
        "  - Mã hóa theo kí tự.\n",
        "  - Mã hóa theo từ.\n",
        "- Bộ đệm cho các câu.\n",
        "- Các tham số cho bộ đệm:\n",
        "  - padding: chọn đệm phần đầu hay sau.\n",
        "  - maxlen: độ dài tối đa cho các chuỗi sau khi đệm.\n",
        "  - truncating: tùy chọn giữ phần đầu hay cuối của chuỗi vượt quá maxlen."
      ],
      "metadata": {
        "id": "c4iOetXrUCph"
      }
    },
    {
      "cell_type": "markdown",
      "source": [
        "# Removing Stopwords and Cleaning text (Loại bỏ từ dừng và làm sạch văn bản)"
      ],
      "metadata": {
        "id": "z9MuumbBplz0"
      }
    },
    {
      "cell_type": "markdown",
      "source": [
        "Bắt đầu từ phần này, tụi mình sẽ tiếp cận nhiều hơn với các bộ dữ liệu thực tế nha. Điều này đồng nghĩa với việc dữ liệu sẽ chứa nhiều nhiễu hơn cũng như cần phải trải qua các bước tiền xử lý và làm sạch mà điển hình là **loại bỏ từ dừng** cũng như các **dấu câu, kí tự đặc biệt**."
      ],
      "metadata": {
        "id": "-pVpESecuB2A"
      }
    },
    {
      "cell_type": "markdown",
      "source": [
        "> **Vậy từ dừng là những từ như thế nào?**\n",
        "Hiểu đơn giản là những từ thường xuyên xuất hiện, tuy nhiên lại không đóng góp nhiều ý nghĩa cho nội dung văn bản qua đó có thể ảnh hưởng đến hiệu quả của mô hình.\n",
        "\n",
        "Dưới đây là một danh sách nhỏ về các từ dừng nha\n",
        "\n",
        "*(Lưu ý: danh sách có thể chưa đủ hết tất cả các từ dừng)*"
      ],
      "metadata": {
        "id": "ktCZHNhZt4bR"
      }
    },
    {
      "cell_type": "markdown",
      "source": [
        "![Stopwords](https://www.researchgate.net/profile/A_Zaidan/publication/228670007/figure/download/tbl2/AS:671525258657813@1537115506709/Sample-of-stop-words.png)"
      ],
      "metadata": {
        "id": "ajIZhsV7u713"
      }
    },
    {
      "cell_type": "markdown",
      "source": [
        "Tiếp đến ta đến với phần làm sạch dữ liệu văn bản thu thập được. Dữ liệu thu thập được trong quá trình cào từ các web không phải lúc nào cũng hoàn hảo cả, đôi khi sẽ chứa các **thẻ HTML** trong đó hay các từ thô lỗ, dấu câu hoặc tên riêng. Do đó ta sẽ tiến hành xử lý các phần này.\n",
        "\n",
        "Đầu tiên là loại bỏ các thẻ HTML (HTML tags), mọi người có thể sử dụng thư viện **BeautifulSoup** để thực hiện dễ dàng hơn.\n",
        "\n",
        "Dưới đây là ví dụ về cách dùng."
      ],
      "metadata": {
        "id": "D-fshV2jv4JK"
      }
    },
    {
      "cell_type": "code",
      "source": [
        "# Import thư viện vào\n",
        "from bs4 import BeautifulSoup"
      ],
      "metadata": {
        "id": "sUj2hDpbw7Uu"
      },
      "execution_count": 1,
      "outputs": []
    },
    {
      "cell_type": "code",
      "source": [
        "# Tạo câu mẫu có chứa thẻ HTML trong đó\n",
        "sentence = \"Captain Teemo <br> on duty!\" # <br> là thẻ trong HTML để xuống hàng\n",
        "# Cho câu mẫu qua BeautifulSoup để tạo đối tượng soup đã được xử lý\n",
        "soup = BeautifulSoup(sentence)\n",
        "# Tiến hành chỉ trích xuất mỗi dữ liệu văn bản, không bao gồm các thẻ HTML\n",
        "sentence = soup.get_text()\n",
        "print(\"Câu đã được loại bỏ thẻ HTML: \", sentence)"
      ],
      "metadata": {
        "colab": {
          "base_uri": "https://localhost:8080/"
        },
        "id": "wbV_S1BLwhnR",
        "outputId": "dacbd348-6aff-442a-d4e9-0066602fbc9a"
      },
      "execution_count": 9,
      "outputs": [
        {
          "output_type": "stream",
          "name": "stdout",
          "text": [
            "Câu đã được loại bỏ thẻ HTML:  Captain Teemo  on duty!\n"
          ]
        }
      ]
    },
    {
      "cell_type": "markdown",
      "source": [
        "Mọi người thấy đấy, thẻ <br> đã bị loại bỏ, hiện tại khoảng trắng giữa 2 từ **Teemo** và **on** là 2 kí tự khoảng cách (space)"
      ],
      "metadata": {
        "id": "0jAp__YlxvVD"
      }
    },
    {
      "cell_type": "markdown",
      "source": [
        "Bây giờ tụi mình sẽ tiến hành loại bỏ từ dừng cũng như các dấu câu nha.\n",
        "\n",
        "Ở đây, cách đơn giản nhất là mọi người lặp qua các từ và kiểm tra xem từ đó có trong danh sách từ dừng không nha, nếu có thì tiến hành loại bỏ, còn không phải thì giữ lại.\n",
        "\n",
        "Về phần các dấu câu, chúng ta có thể sử dụng phương thức translate để tiến hành loại bỏ. Mọi người có thể sử dụng **string.punctuation** để lấy danh sách các kí tự đặc biệt và dấu câu nha."
      ],
      "metadata": {
        "id": "N94nhgoDykKV"
      }
    },
    {
      "cell_type": "code",
      "source": [
        "import string\n",
        "# In ra danh sách các dấu câu và kí tự đặc biệt.\n",
        "print(string.punctuation)"
      ],
      "metadata": {
        "colab": {
          "base_uri": "https://localhost:8080/"
        },
        "id": "I9S7MzUZzh3M",
        "outputId": "c415dcef-aee0-41b5-f12c-5f52243d4405"
      },
      "execution_count": 4,
      "outputs": [
        {
          "output_type": "stream",
          "name": "stdout",
          "text": [
            "!\"#$%&'()*+,-./:;<=>?@[\\]^_`{|}~\n"
          ]
        }
      ]
    },
    {
      "cell_type": "code",
      "source": [
        "# Tạo bảng mapping để loại bỏ kí tự đặc biệt\n",
        "table = str.maketrans('', '', string.punctuation) # Chuyển các kí tự đặc biệt thành kí tự rỗng"
      ],
      "metadata": {
        "id": "xswiLKLt0xmu"
      },
      "execution_count": 5,
      "outputs": []
    },
    {
      "cell_type": "code",
      "source": [
        "# Lấy danh sách từ dừng, ở đây mình sử dụng thư viện nltk để lấy từ dừng trong tiếng Anh nha\n",
        "import nltk\n",
        "from nltk.corpus import stopwords\n",
        "nltk.download('stopwords')\n",
        "stopwords = set(stopwords.words('english'))\n",
        "print(\"Danh sách từ dừng: \", stopwords)"
      ],
      "metadata": {
        "colab": {
          "base_uri": "https://localhost:8080/"
        },
        "id": "5YgjPeKW0yE_",
        "outputId": "79edfce8-0073-4590-e410-5ceb322d6f55"
      },
      "execution_count": 6,
      "outputs": [
        {
          "output_type": "stream",
          "name": "stdout",
          "text": [
            "Danh sách từ dừng:  {'through', 'aren', 'as', 's', 'wasn', 'we', 'yourselves', 'him', 'had', 'should', 'into', 'herself', 'needn', \"that'll\", 'have', \"wouldn't\", 'of', 'themselves', 'over', 'your', 'further', 'against', 'than', \"mightn't\", \"hadn't\", 'our', 'were', 'doesn', 'above', \"wasn't\", 'how', 'where', 'i', 'about', 'that', 'they', 'because', 'weren', \"it's\", 'a', 'to', \"doesn't\", 'from', 'under', 'when', 'am', 'here', 'hadn', 'what', \"you'll\", 'd', 'did', 'me', 'can', 'so', \"don't\", \"didn't\", \"isn't\", 'or', 'theirs', 'more', 'some', 'do', 'until', 'then', 'being', 'are', 'has', 'no', 'itself', 'll', \"needn't\", 'this', 'nor', 'after', 'the', 'just', 'myself', \"should've\", \"you'd\", 'mustn', 'been', 'their', 'is', 'don', 'same', 'all', \"she's\", 'while', 'does', 'doing', 'and', 'whom', 'mightn', 'at', \"mustn't\", 'm', 'be', 'her', 'having', 'down', 't', 'couldn', 'with', \"hasn't\", 'them', 'there', 'ma', \"you're\", 've', 'haven', \"shouldn't\", 'his', 'few', 'such', 'you', 'between', \"shan't\", 'y', \"weren't\", 'not', 'shouldn', 'now', \"couldn't\", 'yourself', 'very', 'it', 'too', 'both', 'again', 'own', 'hers', 'if', \"you've\", 're', 'my', 'in', 'ours', 'he', 'won', 'but', 'by', 'these', 'for', 'himself', 'on', 'most', 'was', 'she', 'only', 'up', 'ain', 'during', 'didn', 'o', 'other', 'shan', \"aren't\", 'wouldn', 'any', 'off', 'hasn', 'isn', 'an', 'yours', 'out', \"haven't\", 'below', 'who', 'which', 'its', 'before', 'those', 'each', 'ourselves', 'once', 'will', \"won't\", 'why'}\n"
          ]
        },
        {
          "output_type": "stream",
          "name": "stderr",
          "text": [
            "[nltk_data] Downloading package stopwords to /root/nltk_data...\n",
            "[nltk_data]   Unzipping corpora/stopwords.zip.\n"
          ]
        }
      ]
    },
    {
      "cell_type": "code",
      "source": [
        "# Chuyển danh sách từ dừng sang dạng list\n",
        "stopwords = list(stopwords)"
      ],
      "metadata": {
        "id": "Vk4rZ0Gi17lL"
      },
      "execution_count": 7,
      "outputs": []
    },
    {
      "cell_type": "code",
      "source": [
        "# Chia thành danh sách các từ ra\n",
        "words = sentence.split()\n",
        "print(\"Danh sách các từ: \", words)\n",
        "# Chuỗi kết quả\n",
        "filtered_sentence = \"\"\n",
        "for word in words:\n",
        "  word = word.translate(table)    # Loại bỏ các kí tự đặc biệt\n",
        "  if word not in stopwords:       # Kiểm tra có thuộc từ dừng không để bỏ qua.\n",
        "    filtered_sentence = filtered_sentence + word + \" \"\n",
        "print(\"Câu đã được tiền xử lý: \", filtered_sentence)"
      ],
      "metadata": {
        "colab": {
          "base_uri": "https://localhost:8080/"
        },
        "id": "oOUmMheezwP5",
        "outputId": "f6020316-f02d-4206-f1d7-e44b6eceb8d0"
      },
      "execution_count": 10,
      "outputs": [
        {
          "output_type": "stream",
          "name": "stdout",
          "text": [
            "Danh sách các từ:  ['Captain', 'Teemo', 'on', 'duty!']\n",
            "Câu đã được tiền xử lý:  Captain Teemo duty \n"
          ]
        }
      ]
    },
    {
      "cell_type": "markdown",
      "source": [
        "Đó, vậy là xong rồi á. Từ **\"on\"** được xác định là từ dừng và đã bị loại bỏ đi. Đồng thời dấu **\"!\"** cũng đã được lọc và loại bỏ.\n",
        "\n",
        "Câu gốc:\n",
        "\n",
        "\n",
        "```python\n",
        "\"Captain Teemo <br> on duty!\"\n",
        "```\n",
        "\n",
        "\n",
        "\n",
        "Câu đã tiến hành xử lý (loại bỏ từ dùng và làm sạch):\n",
        "\n",
        "\n",
        "```python\n",
        "\"Captain Teemo duty\"\n",
        "```\n",
        "\n"
      ],
      "metadata": {
        "id": "m2jLqyGO2VXl"
      }
    },
    {
      "cell_type": "markdown",
      "source": [
        "Tuy nhiên vẫn có những trường hợp đặc biệt dẫn đến việc làm sạch chưa thực sự hiệu quả.\n",
        "\n",
        "Ví dụ:\n",
        "\n",
        "Từ **you'll** khi tiến hành loại bỏ kí tự đặc biệt, nó sẽ trở thành từ **youll** dẫn đến việc kiểm tra từ dừng sẽ không phát hiện ra. Do đó chúng ta cần phải cập nhật danh sách từ dừng để chứa cả trường hợp đặc biệt **youll** này."
      ],
      "metadata": {
        "id": "hl15DGtB4ByC"
      }
    },
    {
      "cell_type": "markdown",
      "source": [
        "## Tổng kết phần loại bỏ từ dừng và làm sạch văn bảng\n",
        "- Loại bỏ các đối tượng **thẻ HTML** bằng đối tượng **BeautifulSoup**.\n",
        "- Loại bỏ các kí tự đặc biệt bằng **translate + string.punctuation**.\n",
        "- Tải danh sách từ dừng bằng thư viện **nltk**.\n"
      ],
      "metadata": {
        "id": "PRi1b2AzS61U"
      }
    },
    {
      "cell_type": "markdown",
      "source": [
        "# Working with Real Data Sources (Làm việc với các nguồn dữ liệu thực tế)\n",
        "\n"
      ],
      "metadata": {
        "id": "_jZOMYssTmOf"
      }
    },
    {
      "cell_type": "markdown",
      "source": [
        "Tụi mình sẽ sử dụng **TFDS** đã học ở **chương 4** để tải dữ liệu nha.\n",
        "\n",
        "Bộ dữ liệu lần này tụi mình dùng là **imdb_veviews** với 50.000 bình luận đánh giá phim được đánh nhãn là tích cực hay tiêu cực nha.\n"
      ],
      "metadata": {
        "id": "CL-KtXfuUwh9"
      }
    },
    {
      "cell_type": "code",
      "source": [
        "import tensorflow as tf\n",
        "import tensorflow_datasets as tfds"
      ],
      "metadata": {
        "id": "UZ0gKtJrYM8S"
      },
      "execution_count": 2,
      "outputs": []
    },
    {
      "cell_type": "markdown",
      "source": [
        "Tụi mình sẽ tiến hành lặp qua bộ dữ liệu và thêm phần văn bản bình luận vào một danh sách để dễ sử lý nha. Tụi mình sử dụng **tfds.as_numpy** để đảm bảo rằng dữ liệu trả về sẽ là dạng **string** chứ không phải **tensor**."
      ],
      "metadata": {
        "id": "essp6ouHY-5Z"
      }
    },
    {
      "cell_type": "code",
      "source": [
        "train_data = tfds.as_numpy(tfds.load('imdb_reviews', split='train'))"
      ],
      "metadata": {
        "colab": {
          "base_uri": "https://localhost:8080/",
          "height": 117,
          "referenced_widgets": [
            "ffe3320c765a40fcafc239059ef9b9bc",
            "fe917c83767a45db84b470461de5567c",
            "f4f181693cae4e9988ddbf9a02eb30b0",
            "8c47c402e87c47158ae0833703788234",
            "38bd4814e63746b287edde98ff1a17d4",
            "4ed726f9817d4f7195d723f3f7310f97",
            "ce4b1c1fc4c04f1bb62e3f473852db4e",
            "c5864657668643939f27beeb58e4bac4",
            "384e6229310d421aabd0203f3c7a6179",
            "5141c43a843947578edfb044f3cb5281",
            "c5a12454bf334376a191b224faafa3b3",
            "a0ca190f9015438b95a7294dbc5573d4",
            "c557f511abdf4cd59ee1e20c07fefca5",
            "bd1e8aea418942938912bcb1f5cae4a0",
            "e65e9b3e22984b84a822abd8f609b032",
            "31994512a5db406d9136b21bc33a1ce2",
            "bd56d1d3148d418e9a2b72f7275a4064",
            "f2e0570c0c674aa680a4cf141961038a",
            "dc6d17cb631f4852a940a941fe4ab251",
            "d19c7f91f2a946538a47911e56092749",
            "d161db81264640c49c9093682334b5f9",
            "7b75049945ba4e6e83a51743ae484026",
            "06b3ac1f53404fe58eea5170a1903b1e",
            "2bc6078506704ef7acfc27ce9814d817",
            "67c73c3dc2724e1ba6454029b5317965",
            "d6463435c3a041b89f92e038d289bc7d",
            "8554015e7419490aa4eeb25a1815ac46",
            "173d65055a8149f2880df594e9ae3506",
            "ee3c9e90f42f480aaffc6a9a566a80db",
            "108cf5c99faf4c00b009018ae8edc90d",
            "5b9302e15f4247008c27e4f0c0011cd5",
            "d7dbde436dd5490295701ae5c2bfbe5d",
            "590b65425aa74c05a7e2d41393a90718",
            "796e267aa2bb4d629ddd7ab8342954d2",
            "0aec7dbfb2154a9dab49b9e354392539",
            "cb46b9193346445b97a447948b86b53f",
            "c1a9fbaf25534d08a4d185807989ac7e",
            "a10b3886e9474de18350262cb2b91931",
            "6c69cc68e3464b48814ac595c6ddc7dd",
            "0321aeda207b4d308d449444d3254ac2",
            "af0bde3a9d134edaaa8602b7e34dd13e",
            "5a02c1d6196b4585af451624182f37bb",
            "650769efc10048639710b65fa4be3f01",
            "164a3191880b4a948a89b17af208f38b",
            "3ee1496dfd7b4b66934f58d2fc902b73",
            "b1bc671b07c84f8f85277c80ff291932",
            "771c1d212a404f18b0e8e7cd2513a214",
            "0bb2a31dc4794e8a8056ed23462bce48",
            "340870e1ba674db395c70ee50c745072",
            "e68b2695b7944de6934b178764463f55",
            "61c72e72de054384bf4c2019403ea189",
            "121bb3884c784b47a7551652a02ff6f0",
            "89dfacbb66de4c1fb966ca0c8c4316a1",
            "930c7c239b9d4b0b956bc71df6864aac",
            "b299f9bea3a2489195a1f20910c5c65b",
            "b7fe603f517c4f1ea9932a299f52bc97",
            "13f17162ee5646938b2a97ef83d38578",
            "21990ff295a243b78f8e7733482444ab",
            "90d69febc59e410d8e1d2f6a8ef52c83",
            "4860a93e26d34a8c804c2fcb84cb2279",
            "2c5225b5b94d4b329e3eca42515b8c31",
            "f60d054a9c804616b3ea331db2ccc858",
            "13dddcc09d334ab1a8d2cc5d078c5bc3",
            "003af9a3234047dc993c82bce728dbdb",
            "025b44786c3d4b70beef807b8b0f7533",
            "601ede4c0e644043984ecbf48466afd0",
            "68814cb2e816450aa2e38768bae7d36b",
            "f1e0f7b9b7fa4fe884b55f056337d07b",
            "f898de80b7f642338b3aa5d5cf323276",
            "f3a542e22467446883a8ac9ecee9d203",
            "a116d23e87d2491ca711fbccb8e541c4",
            "b68d1b46b3df4df1a03503e5d39ef2a4",
            "674bb16d2a6a4e62a783d85ac9a3ca94",
            "1f6a9ddf9f1f4552b154a6bdb0a8c33e",
            "07d1e1e385c541989cb3d200cca9bcb9",
            "fc25a2a0df4245588b200d64b90eb7d4",
            "6d4483d8576247c093821f4fe5801802",
            "160d1d69bde64080b4e88badb5fbd41f",
            "ee883dc4e2a74f848fb122584e8b530f",
            "5c2c643700434f93a42d4d7e77a2b0ce",
            "9858bc65b72c41de8a81276c46061ec0",
            "acca97539dd747db95f1abba6bf1ed05",
            "0ff25f320aa2494e9c6a23652fc20d46",
            "88810184662e47eca935c3d0b495077f",
            "f8d8c567eee5466799c9b4057b19afbb",
            "65073884ae0248d5a11430b743ad7ff3",
            "3076c02b246d4d13a4ef7909d4875631",
            "e6cd3cecccde40f49d7d71e3c7689db1",
            "4af4dcba21ba423991b8750d8d173457",
            "fb77a8a714f549db9be88eaed6ba3f8f",
            "9354240c55f949139372c3d09fcc669e",
            "0e29bf4ac7834c1da02966d9bc2620c8",
            "7d85a3ae68f3449aad8c1662cd6c74f1",
            "416ea3bf38ab4690834e91d7d628c770",
            "eaed18f5070f466f8ea9a9a93dcf7c5c",
            "9e8bf881588b4a56ae129a4310a002c6",
            "53ddf0410a8445a69655b713b11817d1",
            "58ecc6f97a4843618fa603eabd860624",
            "0606cc0ed6f346af90bdf8bdca64cc6e"
          ]
        },
        "id": "CO9Gu8VrY83Y",
        "outputId": "64be7ee4-bc70-47df-82f2-57c4bada8a94"
      },
      "execution_count": 6,
      "outputs": [
        {
          "output_type": "stream",
          "name": "stdout",
          "text": [
            "Downloading and preparing dataset 80.23 MiB (download: 80.23 MiB, generated: Unknown size, total: 80.23 MiB) to /root/tensorflow_datasets/imdb_reviews/plain_text/1.0.0...\n"
          ]
        },
        {
          "output_type": "display_data",
          "data": {
            "text/plain": [
              "Dl Completed...: 0 url [00:00, ? url/s]"
            ],
            "application/vnd.jupyter.widget-view+json": {
              "version_major": 2,
              "version_minor": 0,
              "model_id": "ffe3320c765a40fcafc239059ef9b9bc"
            }
          },
          "metadata": {}
        },
        {
          "output_type": "display_data",
          "data": {
            "text/plain": [
              "Dl Size...: 0 MiB [00:00, ? MiB/s]"
            ],
            "application/vnd.jupyter.widget-view+json": {
              "version_major": 2,
              "version_minor": 0,
              "model_id": "a0ca190f9015438b95a7294dbc5573d4"
            }
          },
          "metadata": {}
        },
        {
          "output_type": "display_data",
          "data": {
            "text/plain": [
              "Generating splits...:   0%|          | 0/3 [00:00<?, ? splits/s]"
            ],
            "application/vnd.jupyter.widget-view+json": {
              "version_major": 2,
              "version_minor": 0,
              "model_id": "06b3ac1f53404fe58eea5170a1903b1e"
            }
          },
          "metadata": {}
        },
        {
          "output_type": "display_data",
          "data": {
            "text/plain": [
              "Generating train examples...:   0%|          | 0/25000 [00:00<?, ? examples/s]"
            ],
            "application/vnd.jupyter.widget-view+json": {
              "version_major": 2,
              "version_minor": 0,
              "model_id": "796e267aa2bb4d629ddd7ab8342954d2"
            }
          },
          "metadata": {}
        },
        {
          "output_type": "display_data",
          "data": {
            "text/plain": [
              "Shuffling /root/tensorflow_datasets/imdb_reviews/plain_text/incomplete.AF627Z_1.0.0/imdb_reviews-train.tfrecor…"
            ],
            "application/vnd.jupyter.widget-view+json": {
              "version_major": 2,
              "version_minor": 0,
              "model_id": "3ee1496dfd7b4b66934f58d2fc902b73"
            }
          },
          "metadata": {}
        },
        {
          "output_type": "display_data",
          "data": {
            "text/plain": [
              "Generating test examples...:   0%|          | 0/25000 [00:00<?, ? examples/s]"
            ],
            "application/vnd.jupyter.widget-view+json": {
              "version_major": 2,
              "version_minor": 0,
              "model_id": "b7fe603f517c4f1ea9932a299f52bc97"
            }
          },
          "metadata": {}
        },
        {
          "output_type": "display_data",
          "data": {
            "text/plain": [
              "Shuffling /root/tensorflow_datasets/imdb_reviews/plain_text/incomplete.AF627Z_1.0.0/imdb_reviews-test.tfrecord…"
            ],
            "application/vnd.jupyter.widget-view+json": {
              "version_major": 2,
              "version_minor": 0,
              "model_id": "68814cb2e816450aa2e38768bae7d36b"
            }
          },
          "metadata": {}
        },
        {
          "output_type": "display_data",
          "data": {
            "text/plain": [
              "Generating unsupervised examples...:   0%|          | 0/50000 [00:00<?, ? examples/s]"
            ],
            "application/vnd.jupyter.widget-view+json": {
              "version_major": 2,
              "version_minor": 0,
              "model_id": "160d1d69bde64080b4e88badb5fbd41f"
            }
          },
          "metadata": {}
        },
        {
          "output_type": "display_data",
          "data": {
            "text/plain": [
              "Shuffling /root/tensorflow_datasets/imdb_reviews/plain_text/incomplete.AF627Z_1.0.0/imdb_reviews-unsupervised.…"
            ],
            "application/vnd.jupyter.widget-view+json": {
              "version_major": 2,
              "version_minor": 0,
              "model_id": "4af4dcba21ba423991b8750d8d173457"
            }
          },
          "metadata": {}
        },
        {
          "output_type": "stream",
          "name": "stdout",
          "text": [
            "Dataset imdb_reviews downloaded and prepared to /root/tensorflow_datasets/imdb_reviews/plain_text/1.0.0. Subsequent calls will reuse this data.\n"
          ]
        }
      ]
    },
    {
      "cell_type": "code",
      "source": [
        "# Kiểm tra dữ liệu của mẫu (item) đầu tiên bên trong bộ dữ liệu\n",
        "item_1st = next(iter(train_data))\n",
        "print(item_1st)\n",
        "print(type(item_1st))"
      ],
      "metadata": {
        "colab": {
          "base_uri": "https://localhost:8080/"
        },
        "id": "aTmX3yk2bK48",
        "outputId": "d5cdb388-0397-410e-e9f2-06d3c7e773ca"
      },
      "execution_count": 12,
      "outputs": [
        {
          "output_type": "stream",
          "name": "stdout",
          "text": [
            "{'label': 0, 'text': b\"This was an absolutely terrible movie. Don't be lured in by Christopher Walken or Michael Ironside. Both are great actors, but this must simply be their worst role in history. Even their great acting could not redeem this movie's ridiculous storyline. This movie is an early nineties US propaganda piece. The most pathetic scenes were those when the Columbian rebels were making their cases for revolutions. Maria Conchita Alonso appeared phony, and her pseudo-love affair with Walken was nothing but a pathetic emotional plug in a movie that was devoid of any real meaning. I am disappointed that there are movies like this, ruining actor's like Christopher Walken's good name. I could barely sit through it.\"}\n",
            "<class 'dict'>\n"
          ]
        }
      ]
    },
    {
      "cell_type": "markdown",
      "source": [
        "Vậy là mỗi mẫu (item) được lưu với dạng một **dictionary** với 2 khóa là **'text' và 'label'**"
      ],
      "metadata": {
        "id": "tDVirCFFcQA-"
      }
    },
    {
      "cell_type": "code",
      "source": [
        "imdb_sentences = []\n",
        "# Tiến hành lặp qua từng mẫu (item) để trích xuất văn bản ra lưu vào danh sách imdb_sentences\n",
        "for item in train_data:\n",
        "  imdb_sentences.append(str(item['text']))"
      ],
      "metadata": {
        "id": "v9emlMG0aQZl"
      },
      "execution_count": 13,
      "outputs": []
    },
    {
      "cell_type": "code",
      "source": [
        "# Xem thử 5 bình luận đánh giá phim đầu tiên\n",
        "for idx, comment in enumerate(imdb_sentences[:5]):\n",
        "  print(f\"Bình luận {idx+1}: {comment}\")"
      ],
      "metadata": {
        "colab": {
          "base_uri": "https://localhost:8080/"
        },
        "id": "k0IbFoOLdVZ8",
        "outputId": "62767f67-e2f2-4e10-d257-1c30e445ef51"
      },
      "execution_count": 17,
      "outputs": [
        {
          "output_type": "stream",
          "name": "stdout",
          "text": [
            "Bình luận 1: b\"This was an absolutely terrible movie. Don't be lured in by Christopher Walken or Michael Ironside. Both are great actors, but this must simply be their worst role in history. Even their great acting could not redeem this movie's ridiculous storyline. This movie is an early nineties US propaganda piece. The most pathetic scenes were those when the Columbian rebels were making their cases for revolutions. Maria Conchita Alonso appeared phony, and her pseudo-love affair with Walken was nothing but a pathetic emotional plug in a movie that was devoid of any real meaning. I am disappointed that there are movies like this, ruining actor's like Christopher Walken's good name. I could barely sit through it.\"\n",
            "Bình luận 2: b'I have been known to fall asleep during films, but this is usually due to a combination of things including, really tired, being warm and comfortable on the sette and having just eaten a lot. However on this occasion I fell asleep because the film was rubbish. The plot development was constant. Constantly slow and boring. Things seemed to happen, but with no explanation of what was causing them or why. I admit, I may have missed part of the film, but i watched the majority of it and everything just seemed to happen of its own accord without any real concern for anything else. I cant recommend this film at all.'\n",
            "Bình luận 3: b'Mann photographs the Alberta Rocky Mountains in a superb fashion, and Jimmy Stewart and Walter Brennan give enjoyable performances as they always seem to do. <br /><br />But come on Hollywood - a Mountie telling the people of Dawson City, Yukon to elect themselves a marshal (yes a marshal!) and to enforce the law themselves, then gunfighters battling it out on the streets for control of the town? <br /><br />Nothing even remotely resembling that happened on the Canadian side of the border during the Klondike gold rush. Mr. Mann and company appear to have mistaken Dawson City for Deadwood, the Canadian North for the American Wild West.<br /><br />Canadian viewers be prepared for a Reefer Madness type of enjoyable howl with this ludicrous plot, or, to shake your head in disgust.'\n",
            "Bình luận 4: b'This is the kind of film for a snowy Sunday afternoon when the rest of the world can go ahead with its own business as you descend into a big arm-chair and mellow for a couple of hours. Wonderful performances from Cher and Nicolas Cage (as always) gently row the plot along. There are no rapids to cross, no dangerous waters, just a warm and witty paddle through New York life at its best. A family film in every sense and one that deserves the praise it received.'\n",
            "Bình luận 5: b'As others have mentioned, all the women that go nude in this film are mostly absolutely gorgeous. The plot very ably shows the hypocrisy of the female libido. When men are around they want to be pursued, but when no \"men\" are around, they become the pursuers of a 14 year old boy. And the boy becomes a man really fast (we should all be so lucky at this age!). He then gets up the courage to pursue his true love.'\n"
          ]
        }
      ]
    }
  ]
}