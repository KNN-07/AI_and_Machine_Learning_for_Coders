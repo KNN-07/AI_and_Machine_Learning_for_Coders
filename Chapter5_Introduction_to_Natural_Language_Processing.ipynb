{
  "nbformat": 4,
  "nbformat_minor": 0,
  "metadata": {
    "colab": {
      "provenance": [],
      "authorship_tag": "ABX9TyMkNClelVsQCZF9V+fF9W7C",
      "include_colab_link": true
    },
    "kernelspec": {
      "name": "python3",
      "display_name": "Python 3"
    },
    "language_info": {
      "name": "python"
    }
  },
  "cells": [
    {
      "cell_type": "markdown",
      "metadata": {
        "id": "view-in-github",
        "colab_type": "text"
      },
      "source": [
        "<a href=\"https://colab.research.google.com/github/Tkag0001/AI_and_Machine_Learning_for_Coders/blob/main/Chapter5_Introduction_to_Natural_Language_Processing.ipynb\" target=\"_parent\"><img src=\"https://colab.research.google.com/assets/colab-badge.svg\" alt=\"Open In Colab\"/></a>"
      ]
    },
    {
      "cell_type": "markdown",
      "source": [
        "# Introduction to Natural Language Processing\n",
        "![Introduce image](https://bobcares.com/wp-content/uploads/2024/11/Natural-Language-Processing.png)"
      ],
      "metadata": {
        "id": "k4iLnnTYc7wz"
      }
    },
    {
      "cell_type": "markdown",
      "source": [
        "Đến với chương 5 này tụi mình sẽ cùng nhau tìm hiểu về **NLP** nha. Đây cũng là chủ đề chính trong một vài chương tiếp theo của chúng ta luôn nha.\n",
        "\n",
        "> **NLP là gì?**\n",
        "\n",
        "**NLP** là viết tắt của cụm từ **Natural language processing**, dịch thô có nghĩa là **xử lý ngôn ngữ tự nhiên**, là một nhánh trong lĩnh vực trí tuệ nhân tạo.\n",
        "\n",
        "Mọi người có thể hiểu đơn giản là **NLP** liên quan đến các công nghệ mà ở đó các thiết bị hay máy tính có thể hiểu được ngôn ngữ người dùng, thực hiện được các tác vụ như phân loại nội dung, phân tích ngữ cảnh, cũng như tạo ra các văn bản, thành phần ở mức ngôn ngữ con người.\n"
      ],
      "metadata": {
        "id": "3wnuHCzeeJ0B"
      }
    },
    {
      "cell_type": "markdown",
      "source": [
        "## Ứng dụng của NLP:\n",
        "Cái này thì quá đơn giản rồi ha, gần nhất với mọi người sử dụng hàng ngày là **Chatbot**.\n",
        "\n",
        "Các ứng dụng khác có thể kể đến như là xác định các đối tượng trong văn bản, phân loại bình luận tích cực hay tiêu cực,...\n",
        "\n",
        "Tuy nhiên trong mục tiêu, phạm vi của cuốn sách lần này, chúng ta chỉ đơn giản là tìm hiểu **NLP** theo hướng tiếp cận cơ bản, hiểu được cách mô hình hóa ngôn ngữ, nhờ đó có thể huấn luyện mô hình để thực hiện các tác vụ như là hiểu và phân loại nội dung văn bản."
      ],
      "metadata": {
        "id": "iC-rOsh_hoLJ"
      }
    },
    {
      "cell_type": "markdown",
      "source": [
        "Bắt đầu chương này, tụi mình sẽ đến với phần tìm hiếu cách để chuyển từ dữ liệu văn bản sang dạng số, cũng như sử dụng chính những số đó cho mô hình neural nha."
      ],
      "metadata": {
        "id": "EBYuX2PpBxcX"
      }
    },
    {
      "cell_type": "markdown",
      "source": [
        "# Encoding Language into Numbes.(Mã hóa ngôn ngữ thành chữ số)\n",
        "\n",
        "Đầu tiên tụi mình sẽ đến với phần mã hóa, chuyển đổi ngôn ngữ thành dạng chữ số nha.\n",
        "\n",
        "> **Tại sao lại cần chuyển đổi từ văn bản thành dạng số?**\n",
        "\n",
        "Mình nghĩ để giải thích dễ dàng nhất thì là thuận tiện cho việc đưa vào các công thức tính toán."
      ],
      "metadata": {
        "id": "SzWZSsGqhBcp"
      }
    },
    {
      "cell_type": "markdown",
      "source": [
        "> **Vậy câu hỏi đặt ra là chúng ta sẽ mã hóa chúng như thế nào ?**\n",
        "\n",
        "Thực ra là có rất nhiều cách để mã hóa.\n",
        "Đơn giản nhất đi ha là tụi mình sẽ tiến hành phân tích mã hóa theo kí tự."
      ],
      "metadata": {
        "id": "DghL3plS4Stp"
      }
    },
    {
      "cell_type": "markdown",
      "source": [
        "## Mã hóa theo kí tự (Character tokenizer)\n",
        "\n",
        "Mã hóa theo kí tự tức mỗi kí tự sẽ tương ứng với một số, qua đó một từ hay một câu sẽ là một vector hay chuỗi số. Điển hình mà mọi người có thể thấy rõ nhất là bộ mã **ASCII** ha.\n",
        "\n",
        "VD. Chiếu theo bộ mã ASCII ta sẽ có:\n",
        "- **\"Dead is like the wind, always by my side\"** -> [68, 101, 97, 100, 32, 105, 115, 32, 108, 105, 107, 101, 32, 116, 104, 101, 32, 119, 105, 110, 100, 44, 32, 97, 108, 119, 97, 121, 115, 32, 98, 121, 32, 109, 121, 32, 115, 105, 100, 101]\n",
        "\n",
        "\n",
        "\n",
        "```python\n",
        "D: 68\n",
        "e: 101\n",
        "a: 97\n",
        "d: 100\n",
        " : 32\n",
        "i: 105\n",
        "s: 115\n",
        " : 32\n",
        "l: 108\n",
        "i: 105\n",
        "k: 107\n",
        "e: 101\n",
        " : 32\n",
        "t: 116\n",
        "h: 104\n",
        "e: 101\n",
        " : 32\n",
        "w: 119\n",
        "i: 105\n",
        "n: 110\n",
        "d: 100\n",
        ",: 44\n",
        " : 32\n",
        "a: 97\n",
        "l: 108\n",
        "w: 119\n",
        "a: 97\n",
        "y: 121\n",
        "s: 115\n",
        " : 32\n",
        "b: 98\n",
        "y: 121\n",
        " : 32\n",
        "m: 109\n",
        "y: 121\n",
        " : 32\n",
        "s: 115\n",
        "i: 105\n",
        "d: 100\n",
        "e: 101\n",
        "\n",
        "```\n",
        "\n"
      ],
      "metadata": {
        "id": "_YicShG6s5Sr"
      }
    },
    {
      "cell_type": "markdown",
      "source": [
        "Tuy nhiên mọi người sẽ gặp phải một vấn đề nha. Trong một số trường hợp, chúng sẽ ảnh hưởng đến mô hình nên đây cũng là điểm hạn chế của mã hóa theo kí tự.\n",
        "\n",
        "Sẽ có một số từ sẽ có số lượng kí tự lẫn các kí tự y chang nhau chỉ là thay đổi về số lượng từ thôi. Mặc dù là thứ tự cũng có khác đấy nhưng mà nó vẫn gây khó khăn trong việc hiểu được nội dung của mô hình.\n",
        "\n",
        "Những trường hợp từ như vậy gọi là **antigram**.\n",
        "Mình ví dụ một số từ như là:\n",
        "- Santa - Satan\n",
        "- restful - fluster\n",
        "- forty five - over fifty\n",
        "\n",
        "Có một joke nghe hơi dark dựa trên **antigram** là:\n",
        "> **\"Evangelist is the Evil's Agent.\"** 💀\n",
        "\n"
      ],
      "metadata": {
        "id": "3GJh-7yOwY8Q"
      }
    },
    {
      "cell_type": "markdown",
      "source": [
        "Thay vào đó tụi mình sẽ có một cách thay thế tốt hơn là mã hóa theo từ.\n",
        "Hiểu đơn giản là với mỗi từ tụi mình sẽ có một số để đại diện cho từ đó.\n",
        "\n",
        "```python\n",
        "# \"Caption Teemo on duty\" -> [1, 2, 3, 4]\n",
        "vocabulary = {\n",
        "  \"Caption\": 1,\n",
        "  \"Teemo\": 2\n",
        "  \"on\": 3,\n",
        "  \"duty\": 4\n",
        "}\n",
        "```\n",
        "\n",
        "Tuy nhiên chúng có sẽ có các hạn chế khác, tụi mình sẽ bàn sau ha. Còn bây giờ đi vào ví dụ code cụ thể trước nha."
      ],
      "metadata": {
        "id": "5AJ0gix90_pE"
      }
    },
    {
      "cell_type": "code",
      "source": [
        "import tensorflow as tf\n",
        "from tensorflow import keras\n",
        "from tensorflow.keras.preprocessing.text import Tokenizer\n",
        "\n",
        "org_texts = [\n",
        "    \"Today is a sunny day\",\n",
        "    \"Today is a rainy day\"\n",
        "]\n",
        "\n",
        "\n",
        "# Định nghĩa số lượng từ trong công cụ mã hóa (tokenizer)\n",
        "tokenizer = Tokenizer(num_words = 100)\n",
        "# Tiến hành đẩy các từ vào để tạo thư viện từ trong công cụ mã hóa.\n",
        "tokenizer.fit_on_texts(org_texts)\n",
        "# Lấy từ điển mã hóa ra\n",
        "word_index = tokenizer.word_index\n",
        "print(word_index)"
      ],
      "metadata": {
        "colab": {
          "base_uri": "https://localhost:8080/"
        },
        "id": "6a7czeBC4He3",
        "outputId": "8620329b-2741-4dc3-b488-11e5a79ed1ab"
      },
      "execution_count": 2,
      "outputs": [
        {
          "output_type": "stream",
          "name": "stdout",
          "text": [
            "{'today': 1, 'is': 2, 'a': 3, 'day': 4, 'sunny': 5, 'rainy': 6}\n"
          ]
        }
      ]
    },
    {
      "cell_type": "markdown",
      "source": [
        "Như đây là kết quả của đoạn code ở trên nha, chúng ta sẽ lấy được từ điển mã hóa từ như sau\n",
        "\n",
        "```python\n",
        "{'today': 1, 'is': 2, 'a': 3, 'day': 4, 'sunny': 5, 'rainy': 6}\n",
        "```\n",
        "Như mọi người thấy, mỗi từ sẽ được lưu lại và được đại diện bởi một con số mã hóa.\n",
        "\n",
        "Sau khi đẩy các chuỗi vào để tạo từ điển, tụi mình sẽ tiến mã hóa các chuỗi hay câu nha.\n"
      ],
      "metadata": {
        "id": "dVYqm37vAkSE"
      }
    },
    {
      "cell_type": "code",
      "source": [
        "sequences = tokenizer.texts_to_sequences(org_texts)\n",
        "print(sequences)"
      ],
      "metadata": {
        "colab": {
          "base_uri": "https://localhost:8080/"
        },
        "id": "3HnLN3neDBEU",
        "outputId": "54edeabe-4a91-461f-ff9c-af3323774552"
      },
      "execution_count": 3,
      "outputs": [
        {
          "output_type": "stream",
          "name": "stdout",
          "text": [
            "[[1, 2, 3, 5, 4], [1, 2, 3, 6, 4]]\n"
          ]
        }
      ]
    },
    {
      "cell_type": "markdown",
      "source": [
        "Kết quả của chuỗi hoàn toàn tương đồng với số mã hóa ở trên."
      ],
      "metadata": {
        "id": "tFUN5eaADUUo"
      }
    },
    {
      "cell_type": "code",
      "source": [],
      "metadata": {
        "id": "JZlwZd4JDZqx"
      },
      "execution_count": null,
      "outputs": []
    },
    {
      "cell_type": "markdown",
      "source": [],
      "metadata": {
        "id": "xrFuCAhu3aRU"
      }
    },
    {
      "cell_type": "markdown",
      "source": [],
      "metadata": {
        "id": "2mAOyOm4zpGw"
      }
    }
  ]
}